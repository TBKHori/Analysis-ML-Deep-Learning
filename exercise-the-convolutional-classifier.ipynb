{
 "cells": [
  {
   "cell_type": "markdown",
   "id": "8319c955",
   "metadata": {
    "papermill": {
     "duration": 0.008328,
     "end_time": "2023-02-15T23:31:03.357782",
     "exception": false,
     "start_time": "2023-02-15T23:31:03.349454",
     "status": "completed"
    },
    "tags": []
   },
   "source": [
    "**This notebook is an exercise in the [Computer Vision](https://www.kaggle.com/learn/computer-vision) course.  You can reference the tutorial at [this link](https://www.kaggle.com/ryanholbrook/the-convolutional-classifier).**\n",
    "\n",
    "---\n"
   ]
  },
  {
   "cell_type": "markdown",
   "id": "6107805e",
   "metadata": {
    "papermill": {
     "duration": 0.004388,
     "end_time": "2023-02-15T23:31:03.367160",
     "exception": false,
     "start_time": "2023-02-15T23:31:03.362772",
     "status": "completed"
    },
    "tags": []
   },
   "source": [
    "<blockquote style=\"margin-right:auto; margin-left:auto; background-color: #ebf9ff; padding: 1em; margin:24px;\">\n",
    "    <strong>Accelerate Training with a Kaggle GPU!</strong><br>\n",
    "Did you know Kaggle offers free time with a GPU accelerator? You can speed up training neural networks in this course by switching to <strong>GPU</strong> in the <em>Accelerator</em> option on the right. (It may already be turned on.) Two things to be aware of:\n",
    "<ul>\n",
    "<li>Changing the <em>Accelerator</em> option will cause the notebook session to restart. You'll need to rerun any setup code.\n",
    "<li>You can have only one GPU session at a time, so be sure to shut the notebook down after you've finished the exercise.\n",
    "</ul>\n",
    "</blockquote>"
   ]
  },
  {
   "cell_type": "markdown",
   "id": "92178c8e",
   "metadata": {
    "papermill": {
     "duration": 0.00417,
     "end_time": "2023-02-15T23:31:03.375844",
     "exception": false,
     "start_time": "2023-02-15T23:31:03.371674",
     "status": "completed"
    },
    "tags": []
   },
   "source": [
    "# Introduction #\n",
    "\n",
    "In the tutorial, we saw how to build an image classifier by attaching a head of dense layers to a pretrained base. The base we used was from a model called **VGG16**. We saw that the VGG16 architecture was prone to overfitting this dataset. Over this course, you'll learn a number of ways you can improve upon this initial attempt.\n",
    "\n",
    "The first way you'll see is to use a base more appropriate to the dataset. The base this model comes from is called **InceptionV1** (also known as GoogLeNet). InceptionV1 was one of the early winners of the ImageNet competition. One of its successors, InceptionV4, is among the state of the art today.\n",
    "\n",
    "To get started, run the code cell below to set everything up."
   ]
  },
  {
   "cell_type": "code",
   "execution_count": 1,
   "id": "25d93817",
   "metadata": {
    "execution": {
     "iopub.execute_input": "2023-02-15T23:31:03.387261Z",
     "iopub.status.busy": "2023-02-15T23:31:03.386028Z",
     "iopub.status.idle": "2023-02-15T23:31:28.295496Z",
     "shell.execute_reply": "2023-02-15T23:31:28.294009Z"
    },
    "lines_to_next_cell": 2,
    "papermill": {
     "duration": 24.917984,
     "end_time": "2023-02-15T23:31:28.298084",
     "exception": false,
     "start_time": "2023-02-15T23:31:03.380100",
     "status": "completed"
    },
    "tags": []
   },
   "outputs": [
    {
     "name": "stdout",
     "output_type": "stream",
     "text": [
      "Found 5117 files belonging to 2 classes.\n",
      "Found 5051 files belonging to 2 classes.\n"
     ]
    }
   ],
   "source": [
    "# Setup feedback system\n",
    "from learntools.core import binder\n",
    "binder.bind(globals())\n",
    "from learntools.computer_vision.ex1 import *\n",
    "\n",
    "# Imports\n",
    "import os, warnings\n",
    "import matplotlib.pyplot as plt\n",
    "from matplotlib import gridspec\n",
    "\n",
    "import numpy as np\n",
    "import tensorflow as tf\n",
    "from tensorflow.keras.preprocessing import image_dataset_from_directory\n",
    "\n",
    "# Reproducability\n",
    "def set_seed(seed=31415):\n",
    "    np.random.seed(seed)\n",
    "    tf.random.set_seed(seed)\n",
    "    os.environ['PYTHONHASHSEED'] = str(seed)\n",
    "    os.environ['TF_DETERMINISTIC_OPS'] = '1'\n",
    "set_seed()\n",
    "\n",
    "# Set Matplotlib defaults\n",
    "plt.rc('figure', autolayout=True)\n",
    "plt.rc('axes', labelweight='bold', labelsize='large',\n",
    "       titleweight='bold', titlesize=18, titlepad=10)\n",
    "plt.rc('image', cmap='magma')\n",
    "warnings.filterwarnings(\"ignore\") # to clean up output cells\n",
    "\n",
    "\n",
    "# Load training and validation sets\n",
    "ds_train_ = image_dataset_from_directory(\n",
    "    '../input/car-or-truck/train',\n",
    "    labels='inferred',\n",
    "    label_mode='binary',\n",
    "    image_size=[128, 128],\n",
    "    interpolation='nearest',\n",
    "    batch_size=64,\n",
    "    shuffle=True,\n",
    ")\n",
    "ds_valid_ = image_dataset_from_directory(\n",
    "    '../input/car-or-truck/valid',\n",
    "    labels='inferred',\n",
    "    label_mode='binary',\n",
    "    image_size=[128, 128],\n",
    "    interpolation='nearest',\n",
    "    batch_size=64,\n",
    "    shuffle=False,\n",
    ")\n",
    "\n",
    "# Data Pipeline\n",
    "def convert_to_float(image, label):\n",
    "    image = tf.image.convert_image_dtype(image, dtype=tf.float32)\n",
    "    return image, label\n",
    "\n",
    "AUTOTUNE = tf.data.experimental.AUTOTUNE\n",
    "ds_train = (\n",
    "    ds_train_\n",
    "    .map(convert_to_float)\n",
    "    .cache()\n",
    "    .prefetch(buffer_size=AUTOTUNE)\n",
    ")\n",
    "ds_valid = (\n",
    "    ds_valid_\n",
    "    .map(convert_to_float)\n",
    "    .cache()\n",
    "    .prefetch(buffer_size=AUTOTUNE)\n",
    ")\n"
   ]
  },
  {
   "cell_type": "markdown",
   "id": "f700c428",
   "metadata": {
    "papermill": {
     "duration": 0.004344,
     "end_time": "2023-02-15T23:31:28.306964",
     "exception": false,
     "start_time": "2023-02-15T23:31:28.302620",
     "status": "completed"
    },
    "tags": []
   },
   "source": [
    "The **InceptionV1** model pretrained on ImageNet is available in the [TensorFlow Hub](https://www.tensorflow.org/hub/) repository, but we'll load it from a local copy. Run this cell to load InceptionV1 for your base."
   ]
  },
  {
   "cell_type": "code",
   "execution_count": 2,
   "id": "79e9c010",
   "metadata": {
    "execution": {
     "iopub.execute_input": "2023-02-15T23:31:28.317445Z",
     "iopub.status.busy": "2023-02-15T23:31:28.317141Z",
     "iopub.status.idle": "2023-02-15T23:31:31.943071Z",
     "shell.execute_reply": "2023-02-15T23:31:31.942027Z"
    },
    "lines_to_next_cell": 0,
    "papermill": {
     "duration": 3.640313,
     "end_time": "2023-02-15T23:31:31.951802",
     "exception": false,
     "start_time": "2023-02-15T23:31:28.311489",
     "status": "completed"
    },
    "tags": []
   },
   "outputs": [],
   "source": [
    "import tensorflow_hub as hub\n",
    "\n",
    "pretrained_base = tf.keras.models.load_model(\n",
    "    '../input/cv-course-models/cv-course-models/inceptionv1'\n",
    ")"
   ]
  },
  {
   "cell_type": "markdown",
   "id": "967176f7",
   "metadata": {
    "papermill": {
     "duration": 0.004509,
     "end_time": "2023-02-15T23:31:31.961235",
     "exception": false,
     "start_time": "2023-02-15T23:31:31.956726",
     "status": "completed"
    },
    "tags": []
   },
   "source": [
    "# 1) Define Pretrained Base #\n",
    "\n",
    "Now that you have a pretrained base to do our feature extraction, decide whether this base should be trainable or not."
   ]
  },
  {
   "cell_type": "code",
   "execution_count": 3,
   "id": "d36ffd77",
   "metadata": {
    "execution": {
     "iopub.execute_input": "2023-02-15T23:31:31.971891Z",
     "iopub.status.busy": "2023-02-15T23:31:31.971562Z",
     "iopub.status.idle": "2023-02-15T23:31:31.981848Z",
     "shell.execute_reply": "2023-02-15T23:31:31.980937Z"
    },
    "lines_to_next_cell": 0,
    "papermill": {
     "duration": 0.017867,
     "end_time": "2023-02-15T23:31:31.983668",
     "exception": false,
     "start_time": "2023-02-15T23:31:31.965801",
     "status": "completed"
    },
    "tags": []
   },
   "outputs": [
    {
     "data": {
      "application/javascript": [
       "parent.postMessage({\"jupyterEvent\": \"custom.exercise_interaction\", \"data\": {\"outcomeType\": 1, \"valueTowardsCompletion\": 0.25, \"interactionType\": 1, \"questionType\": 2, \"questionId\": \"1_Q1\", \"learnToolsVersion\": \"0.3.4\", \"failureMessage\": \"\", \"exceptionClass\": \"\", \"trace\": \"\"}}, \"*\")"
      ],
      "text/plain": [
       "<IPython.core.display.Javascript object>"
      ]
     },
     "metadata": {},
     "output_type": "display_data"
    },
    {
     "data": {
      "text/markdown": [
       "<span style=\"color:#33cc33\">Correct:</span> When doing transfer learning, it's generally not a good idea to retrain the entire base -- at least not without some care. The reason is that the random weights in the head will initially create large gradient updates, which propogate back into the base layers and destroy much of the pretraining. Using techniques known as **fine tuning** it's possible to further train the base on new data, but this requires some care to do well."
      ],
      "text/plain": [
       "Correct: When doing transfer learning, it's generally not a good idea to retrain the entire base -- at least not without some care. The reason is that the random weights in the head will initially create large gradient updates, which propogate back into the base layers and destroy much of the pretraining. Using techniques known as **fine tuning** it's possible to further train the base on new data, but this requires some care to do well."
      ]
     },
     "metadata": {},
     "output_type": "display_data"
    }
   ],
   "source": [
    "# YOUR_CODE_HERE\n",
    "pretrained_base.trainable = False\n",
    "\n",
    "# Check your answer\n",
    "q_1.check()"
   ]
  },
  {
   "cell_type": "code",
   "execution_count": 4,
   "id": "d752b65c",
   "metadata": {
    "execution": {
     "iopub.execute_input": "2023-02-15T23:31:31.994775Z",
     "iopub.status.busy": "2023-02-15T23:31:31.994477Z",
     "iopub.status.idle": "2023-02-15T23:31:31.998657Z",
     "shell.execute_reply": "2023-02-15T23:31:31.997596Z"
    },
    "papermill": {
     "duration": 0.012248,
     "end_time": "2023-02-15T23:31:32.000771",
     "exception": false,
     "start_time": "2023-02-15T23:31:31.988523",
     "status": "completed"
    },
    "tags": []
   },
   "outputs": [],
   "source": [
    "# Lines below will give you a hint or solution code\n",
    "#q_1.hint()\n",
    "#q_1.solution()"
   ]
  },
  {
   "cell_type": "markdown",
   "id": "5c1f610a",
   "metadata": {
    "papermill": {
     "duration": 0.004829,
     "end_time": "2023-02-15T23:31:32.010292",
     "exception": false,
     "start_time": "2023-02-15T23:31:32.005463",
     "status": "completed"
    },
    "tags": []
   },
   "source": [
    "# 2) Attach Head #\n",
    "\n",
    "Now that the base is defined to do the feature extraction, create a head of `Dense` layers to perform the classification, following this diagram:\n",
    "\n",
    "<figure>\n",
    "<img src=\"https://i.imgur.com/i5VU7Ry.png\" alt=\"Diagram of the dense head.\">\n",
    "</figure>\n"
   ]
  },
  {
   "cell_type": "code",
   "execution_count": 5,
   "id": "d5285593",
   "metadata": {
    "execution": {
     "iopub.execute_input": "2023-02-15T23:31:32.020897Z",
     "iopub.status.busy": "2023-02-15T23:31:32.020598Z",
     "iopub.status.idle": "2023-02-15T23:31:32.038928Z",
     "shell.execute_reply": "2023-02-15T23:31:32.037750Z"
    },
    "lines_to_next_cell": 0,
    "papermill": {
     "duration": 0.026979,
     "end_time": "2023-02-15T23:31:32.042041",
     "exception": false,
     "start_time": "2023-02-15T23:31:32.015062",
     "status": "completed"
    },
    "tags": []
   },
   "outputs": [
    {
     "data": {
      "application/javascript": [
       "parent.postMessage({\"jupyterEvent\": \"custom.exercise_interaction\", \"data\": {\"outcomeType\": 1, \"valueTowardsCompletion\": 0.25, \"interactionType\": 1, \"questionType\": 2, \"questionId\": \"2_Q2\", \"learnToolsVersion\": \"0.3.4\", \"failureMessage\": \"\", \"exceptionClass\": \"\", \"trace\": \"\"}}, \"*\")"
      ],
      "text/plain": [
       "<IPython.core.display.Javascript object>"
      ]
     },
     "metadata": {},
     "output_type": "display_data"
    },
    {
     "data": {
      "text/markdown": [
       "<span style=\"color:#33cc33\">Correct</span>"
      ],
      "text/plain": [
       "Correct"
      ]
     },
     "metadata": {},
     "output_type": "display_data"
    }
   ],
   "source": [
    "from tensorflow import keras\n",
    "from tensorflow.keras import layers\n",
    "\n",
    "model = keras.Sequential([\n",
    "    pretrained_base,\n",
    "    layers.Flatten(),\n",
    "    layers.Dense(6, activation='relu'),\n",
    "    layers.Dense(1, activation='sigmoid'),\n",
    "])\n",
    "\n",
    "# Check your answer\n",
    "q_2.check()"
   ]
  },
  {
   "cell_type": "code",
   "execution_count": 6,
   "id": "5dfbda98",
   "metadata": {
    "execution": {
     "iopub.execute_input": "2023-02-15T23:31:32.052970Z",
     "iopub.status.busy": "2023-02-15T23:31:32.052664Z",
     "iopub.status.idle": "2023-02-15T23:31:32.057296Z",
     "shell.execute_reply": "2023-02-15T23:31:32.055752Z"
    },
    "papermill": {
     "duration": 0.012465,
     "end_time": "2023-02-15T23:31:32.059419",
     "exception": false,
     "start_time": "2023-02-15T23:31:32.046954",
     "status": "completed"
    },
    "tags": []
   },
   "outputs": [],
   "source": [
    "# Lines below will give you a hint or solution code\n",
    "#q_2.hint()\n",
    "#q_2.solution()"
   ]
  },
  {
   "cell_type": "markdown",
   "id": "d110d03d",
   "metadata": {
    "papermill": {
     "duration": 0.00474,
     "end_time": "2023-02-15T23:31:32.068798",
     "exception": false,
     "start_time": "2023-02-15T23:31:32.064058",
     "status": "completed"
    },
    "tags": []
   },
   "source": [
    "# 3) Train #\n",
    "\n",
    "Before training a model in Keras, you need to specify an *optimizer* to perform the gradient descent, a *loss function* to be minimized, and (optionally) any *performance metrics*. The optimization algorithm we'll use for this course is called [\"Adam\"](https://keras.io/api/optimizers/adam/), which generally performs well regardless of what kind of problem you're trying to solve.\n",
    "\n",
    "The loss and the metrics, however, need to match the kind of problem you're trying to solve. Our problem is a **binary classification** problem: `Car` coded as 0, and `Truck` coded as 1. Choose an appropriate loss and an appropriate accuracy metric for binary classification."
   ]
  },
  {
   "cell_type": "code",
   "execution_count": 7,
   "id": "13e781cd",
   "metadata": {
    "execution": {
     "iopub.execute_input": "2023-02-15T23:31:32.080855Z",
     "iopub.status.busy": "2023-02-15T23:31:32.080566Z",
     "iopub.status.idle": "2023-02-15T23:31:32.106787Z",
     "shell.execute_reply": "2023-02-15T23:31:32.105551Z"
    },
    "lines_to_next_cell": 0,
    "papermill": {
     "duration": 0.035959,
     "end_time": "2023-02-15T23:31:32.109551",
     "exception": false,
     "start_time": "2023-02-15T23:31:32.073592",
     "status": "completed"
    },
    "tags": []
   },
   "outputs": [
    {
     "data": {
      "application/javascript": [
       "parent.postMessage({\"jupyterEvent\": \"custom.exercise_interaction\", \"data\": {\"outcomeType\": 1, \"valueTowardsCompletion\": 0.25, \"interactionType\": 1, \"questionType\": 2, \"questionId\": \"3_Q3\", \"learnToolsVersion\": \"0.3.4\", \"failureMessage\": \"\", \"exceptionClass\": \"\", \"trace\": \"\"}}, \"*\")"
      ],
      "text/plain": [
       "<IPython.core.display.Javascript object>"
      ]
     },
     "metadata": {},
     "output_type": "display_data"
    },
    {
     "data": {
      "text/markdown": [
       "<span style=\"color:#33cc33\">Correct</span>"
      ],
      "text/plain": [
       "Correct"
      ]
     },
     "metadata": {},
     "output_type": "display_data"
    }
   ],
   "source": [
    "# YOUR CODE HERE: what loss function should you use for a binary\n",
    "# classification problem? (Your answer for each should be a string.)\n",
    "optimizer = tf.keras.optimizers.Adam(epsilon=0.01)\n",
    "model.compile(\n",
    "    optimizer=optimizer,\n",
    "    loss = 'binary_crossentropy',\n",
    "    metrics=['binary_accuracy'],\n",
    ")\n",
    "\n",
    "# Check your answer\n",
    "q_3.check()"
   ]
  },
  {
   "cell_type": "code",
   "execution_count": 8,
   "id": "360cb222",
   "metadata": {
    "execution": {
     "iopub.execute_input": "2023-02-15T23:31:32.121603Z",
     "iopub.status.busy": "2023-02-15T23:31:32.120796Z",
     "iopub.status.idle": "2023-02-15T23:31:32.125570Z",
     "shell.execute_reply": "2023-02-15T23:31:32.124688Z"
    },
    "lines_to_next_cell": 0,
    "papermill": {
     "duration": 0.012978,
     "end_time": "2023-02-15T23:31:32.127760",
     "exception": false,
     "start_time": "2023-02-15T23:31:32.114782",
     "status": "completed"
    },
    "tags": []
   },
   "outputs": [],
   "source": [
    "# Lines below will give you a hint or solution code\n",
    "#q_3.hint()\n",
    "#q_3.solution()"
   ]
  },
  {
   "cell_type": "code",
   "execution_count": 9,
   "id": "39089bae",
   "metadata": {
    "execution": {
     "iopub.execute_input": "2023-02-15T23:31:32.139388Z",
     "iopub.status.busy": "2023-02-15T23:31:32.139121Z",
     "iopub.status.idle": "2023-02-15T23:34:58.238598Z",
     "shell.execute_reply": "2023-02-15T23:34:58.237580Z"
    },
    "papermill": {
     "duration": 206.107847,
     "end_time": "2023-02-15T23:34:58.240821",
     "exception": false,
     "start_time": "2023-02-15T23:31:32.132974",
     "status": "completed"
    },
    "tags": []
   },
   "outputs": [
    {
     "name": "stdout",
     "output_type": "stream",
     "text": [
      "Epoch 1/30\n",
      "80/80 [==============================] - 54s 451ms/step - loss: 0.7006 - binary_accuracy: 0.5419 - val_loss: 0.6893 - val_binary_accuracy: 0.6003\n",
      "Epoch 2/30\n",
      "80/80 [==============================] - 5s 61ms/step - loss: 0.6814 - binary_accuracy: 0.6490 - val_loss: 0.6632 - val_binary_accuracy: 0.7468\n",
      "Epoch 3/30\n",
      "80/80 [==============================] - 5s 61ms/step - loss: 0.6384 - binary_accuracy: 0.7340 - val_loss: 0.6062 - val_binary_accuracy: 0.7854\n",
      "Epoch 4/30\n",
      "80/80 [==============================] - 5s 62ms/step - loss: 0.5872 - binary_accuracy: 0.7799 - val_loss: 0.5632 - val_binary_accuracy: 0.8125\n",
      "Epoch 5/30\n",
      "80/80 [==============================] - 5s 62ms/step - loss: 0.5522 - binary_accuracy: 0.8013 - val_loss: 0.5348 - val_binary_accuracy: 0.8284\n",
      "Epoch 6/30\n",
      "80/80 [==============================] - 5s 62ms/step - loss: 0.5273 - binary_accuracy: 0.8165 - val_loss: 0.5126 - val_binary_accuracy: 0.8313\n",
      "Epoch 7/30\n",
      "80/80 [==============================] - 5s 63ms/step - loss: 0.5072 - binary_accuracy: 0.8247 - val_loss: 0.4958 - val_binary_accuracy: 0.8363\n",
      "Epoch 8/30\n",
      "80/80 [==============================] - 5s 63ms/step - loss: 0.4908 - binary_accuracy: 0.8306 - val_loss: 0.4818 - val_binary_accuracy: 0.8386\n",
      "Epoch 9/30\n",
      "80/80 [==============================] - 5s 63ms/step - loss: 0.4760 - binary_accuracy: 0.8355 - val_loss: 0.4697 - val_binary_accuracy: 0.8416\n",
      "Epoch 10/30\n",
      "80/80 [==============================] - 5s 63ms/step - loss: 0.4629 - binary_accuracy: 0.8409 - val_loss: 0.4592 - val_binary_accuracy: 0.8412\n",
      "Epoch 11/30\n",
      "80/80 [==============================] - 5s 63ms/step - loss: 0.4511 - binary_accuracy: 0.8456 - val_loss: 0.4491 - val_binary_accuracy: 0.8434\n",
      "Epoch 12/30\n",
      "80/80 [==============================] - 5s 64ms/step - loss: 0.4404 - binary_accuracy: 0.8493 - val_loss: 0.4406 - val_binary_accuracy: 0.8450\n",
      "Epoch 13/30\n",
      "80/80 [==============================] - 5s 66ms/step - loss: 0.4307 - binary_accuracy: 0.8521 - val_loss: 0.4323 - val_binary_accuracy: 0.8474\n",
      "Epoch 14/30\n",
      "80/80 [==============================] - 5s 64ms/step - loss: 0.4215 - binary_accuracy: 0.8556 - val_loss: 0.4250 - val_binary_accuracy: 0.8489\n",
      "Epoch 15/30\n",
      "80/80 [==============================] - 5s 65ms/step - loss: 0.4132 - binary_accuracy: 0.8581 - val_loss: 0.4182 - val_binary_accuracy: 0.8487\n",
      "Epoch 16/30\n",
      "80/80 [==============================] - 5s 65ms/step - loss: 0.4054 - binary_accuracy: 0.8593 - val_loss: 0.4123 - val_binary_accuracy: 0.8501\n",
      "Epoch 17/30\n",
      "80/80 [==============================] - 5s 64ms/step - loss: 0.3978 - binary_accuracy: 0.8624 - val_loss: 0.4065 - val_binary_accuracy: 0.8497\n",
      "Epoch 18/30\n",
      "80/80 [==============================] - 5s 65ms/step - loss: 0.3904 - binary_accuracy: 0.8648 - val_loss: 0.4015 - val_binary_accuracy: 0.8509\n",
      "Epoch 19/30\n",
      "80/80 [==============================] - 5s 64ms/step - loss: 0.3838 - binary_accuracy: 0.8663 - val_loss: 0.3968 - val_binary_accuracy: 0.8511\n",
      "Epoch 20/30\n",
      "80/80 [==============================] - 5s 64ms/step - loss: 0.3773 - binary_accuracy: 0.8677 - val_loss: 0.3930 - val_binary_accuracy: 0.8513\n",
      "Epoch 21/30\n",
      "80/80 [==============================] - 5s 63ms/step - loss: 0.3713 - binary_accuracy: 0.8677 - val_loss: 0.3885 - val_binary_accuracy: 0.8505\n",
      "Epoch 22/30\n",
      "80/80 [==============================] - 5s 64ms/step - loss: 0.3654 - binary_accuracy: 0.8687 - val_loss: 0.3846 - val_binary_accuracy: 0.8515\n",
      "Epoch 23/30\n",
      "80/80 [==============================] - 5s 63ms/step - loss: 0.3599 - binary_accuracy: 0.8716 - val_loss: 0.3811 - val_binary_accuracy: 0.8521\n",
      "Epoch 24/30\n",
      "80/80 [==============================] - 5s 64ms/step - loss: 0.3542 - binary_accuracy: 0.8726 - val_loss: 0.3786 - val_binary_accuracy: 0.8527\n",
      "Epoch 25/30\n",
      "80/80 [==============================] - 5s 65ms/step - loss: 0.3488 - binary_accuracy: 0.8741 - val_loss: 0.3758 - val_binary_accuracy: 0.8517\n",
      "Epoch 26/30\n",
      "80/80 [==============================] - 5s 63ms/step - loss: 0.3440 - binary_accuracy: 0.8741 - val_loss: 0.3730 - val_binary_accuracy: 0.8511\n",
      "Epoch 27/30\n",
      "80/80 [==============================] - 5s 64ms/step - loss: 0.3396 - binary_accuracy: 0.8767 - val_loss: 0.3697 - val_binary_accuracy: 0.8523\n",
      "Epoch 28/30\n",
      "80/80 [==============================] - 5s 64ms/step - loss: 0.3350 - binary_accuracy: 0.8782 - val_loss: 0.3672 - val_binary_accuracy: 0.8535\n",
      "Epoch 29/30\n",
      "80/80 [==============================] - 5s 64ms/step - loss: 0.3304 - binary_accuracy: 0.8800 - val_loss: 0.3636 - val_binary_accuracy: 0.8549\n",
      "Epoch 30/30\n",
      "80/80 [==============================] - 5s 63ms/step - loss: 0.3258 - binary_accuracy: 0.8802 - val_loss: 0.3613 - val_binary_accuracy: 0.8547\n"
     ]
    }
   ],
   "source": [
    "history = model.fit(\n",
    "    ds_train,\n",
    "    validation_data=ds_valid,\n",
    "    epochs=30,\n",
    ")"
   ]
  },
  {
   "cell_type": "markdown",
   "id": "718f62e3",
   "metadata": {
    "papermill": {
     "duration": 0.073719,
     "end_time": "2023-02-15T23:34:58.390467",
     "exception": false,
     "start_time": "2023-02-15T23:34:58.316748",
     "status": "completed"
    },
    "tags": []
   },
   "source": [
    "Run the cell below to plot the loss and metric curves for this training run."
   ]
  },
  {
   "cell_type": "code",
   "execution_count": 10,
   "id": "92df9345",
   "metadata": {
    "execution": {
     "iopub.execute_input": "2023-02-15T23:34:58.546945Z",
     "iopub.status.busy": "2023-02-15T23:34:58.546514Z",
     "iopub.status.idle": "2023-02-15T23:34:59.501959Z",
     "shell.execute_reply": "2023-02-15T23:34:59.500770Z"
    },
    "papermill": {
     "duration": 1.037765,
     "end_time": "2023-02-15T23:34:59.504982",
     "exception": false,
     "start_time": "2023-02-15T23:34:58.467217",
     "status": "completed"
    },
    "tags": []
   },
   "outputs": [
    {
     "data": {
      "image/png": "[encoded data removed]",
      "text/plain": [
       "<Figure size 640x480 with 1 Axes>"
      ]
     },
     "metadata": {},
     "output_type": "display_data"
    },
    {
     "data": {
      "image/png": "[encoded data removed]",
      "text/plain": [
       "<Figure size 640x480 with 1 Axes>"
      ]
     },
     "metadata": {},
     "output_type": "display_data"
    }
   ],
   "source": [
    "import pandas as pd\n",
    "history_frame = pd.DataFrame(history.history)\n",
    "history_frame.loc[:, ['loss', 'val_loss']].plot()\n",
    "history_frame.loc[:, ['binary_accuracy', 'val_binary_accuracy']].plot();"
   ]
  },
  {
   "cell_type": "markdown",
   "id": "32266779",
   "metadata": {
    "papermill": {
     "duration": 0.122505,
     "end_time": "2023-02-15T23:34:59.748890",
     "exception": false,
     "start_time": "2023-02-15T23:34:59.626385",
     "status": "completed"
    },
    "tags": []
   },
   "source": [
    "# 4) Examine Loss and Accuracy #\n",
    "\n",
    "Do you notice a difference between these learning curves and the curves for VGG16 from the tutorial? What does this difference tell you about what this model (InceptionV2) learned compared to VGG16? Are there ways in which one is better than the other? Worse?\n",
    "\n",
    "After you've thought about it, run the cell below to see the answer."
   ]
  },
  {
   "cell_type": "code",
   "execution_count": 11,
   "id": "d0d16d11",
   "metadata": {
    "execution": {
     "iopub.execute_input": "2023-02-15T23:34:59.984603Z",
     "iopub.status.busy": "2023-02-15T23:34:59.984011Z",
     "iopub.status.idle": "2023-02-15T23:34:59.997795Z",
     "shell.execute_reply": "2023-02-15T23:34:59.996900Z"
    },
    "papermill": {
     "duration": 0.136666,
     "end_time": "2023-02-15T23:35:00.000688",
     "exception": false,
     "start_time": "2023-02-15T23:34:59.864022",
     "status": "completed"
    },
    "tags": []
   },
   "outputs": [
    {
     "data": {
      "application/javascript": [
       "parent.postMessage({\"jupyterEvent\": \"custom.exercise_interaction\", \"data\": {\"outcomeType\": 1, \"valueTowardsCompletion\": 0.25, \"interactionType\": 1, \"questionType\": 4, \"questionId\": \"4_Q4\", \"learnToolsVersion\": \"0.3.4\", \"failureMessage\": \"\", \"exceptionClass\": \"\", \"trace\": \"\"}}, \"*\")"
      ],
      "text/plain": [
       "<IPython.core.display.Javascript object>"
      ]
     },
     "metadata": {},
     "output_type": "display_data"
    },
    {
     "data": {
      "text/markdown": [
       "<span style=\"color:#33cc33\">Correct:</span> \n",
       "\n",
       "That the training loss and validation loss stay fairly close is evidence that the model isn't just memorizing the training data, but rather learning general properties of the two classes. But, because this model converges at a loss greater than the VGG16 model, it's likely that it is underfitting some, and could benefit from some extra capacity.\n"
      ],
      "text/plain": [
       "Correct: \n",
       "\n",
       "That the training loss and validation loss stay fairly close is evidence that the model isn't just memorizing the training data, but rather learning general properties of the two classes. But, because this model converges at a loss greater than the VGG16 model, it's likely that it is underfitting some, and could benefit from some extra capacity."
      ]
     },
     "metadata": {},
     "output_type": "display_data"
    }
   ],
   "source": [
    "# View the solution (Run this code cell to receive credit!)\n",
    "q_4.check()"
   ]
  },
  {
   "cell_type": "markdown",
   "id": "834ba9d4",
   "metadata": {
    "papermill": {
     "duration": 0.116858,
     "end_time": "2023-02-15T23:35:00.235191",
     "exception": false,
     "start_time": "2023-02-15T23:35:00.118333",
     "status": "completed"
    },
    "tags": []
   },
   "source": [
    "# Conclusion #\n",
    "\n",
    "In this first lesson, you learned the basics of **convolutional image classifiers**, that they consist of a **base** for extracting features from images, and a **head** which uses the features to decide the image's class. You also saw how to build a classifier with **transfer learning** on pretrained base. "
   ]
  },
  {
   "cell_type": "markdown",
   "id": "df2d5db6",
   "metadata": {
    "papermill": {
     "duration": 0.204155,
     "end_time": "2023-02-15T23:35:00.614880",
     "exception": false,
     "start_time": "2023-02-15T23:35:00.410725",
     "status": "completed"
    },
    "tags": []
   },
   "source": [
    "# Keep Going #\n",
    "\n",
    "Move on to [**Lesson 2**](https://www.kaggle.com/ryanholbrook/convolution-and-relu) for a detailed look at how the base does this feature extraction. (It's really cool!)"
   ]
  },
  {
   "cell_type": "markdown",
   "id": "c4942b2a",
   "metadata": {
    "papermill": {
     "duration": 0.116263,
     "end_time": "2023-02-15T23:35:00.847252",
     "exception": false,
     "start_time": "2023-02-15T23:35:00.730989",
     "status": "completed"
    },
    "tags": []
   },
   "source": [
    "---\n",
    "\n",
    "\n",
    "\n",
    "\n",
    "*Have questions or comments? Visit the [course discussion forum](https://www.kaggle.com/learn/computer-vision/discussion) to chat with other learners.*"
   ]
  }
 ],
 "metadata": {
  "kernelspec": {
   "display_name": "Python 3",
   "language": "python",
   "name": "python3"
  },
  "language_info": {
   "codemirror_mode": {
    "name": "ipython",
    "version": 3
   },
   "file_extension": ".py",
   "mimetype": "text/x-python",
   "name": "python",
   "nbconvert_exporter": "python",
   "pygments_lexer": "ipython3",
   "version": "3.7.12"
  },
  "papermill": {
   "default_parameters": {},
   "duration": 252.281178,
   "end_time": "2023-02-15T23:35:04.624012",
   "environment_variables": {},
   "exception": null,
   "input_path": "__notebook__.ipynb",
   "output_path": "__notebook__.ipynb",
   "parameters": {},
   "start_time": "2023-02-15T23:30:52.342834",
   "version": "2.3.4"
  }
 },
 "nbformat": 4,
 "nbformat_minor": 5
}
