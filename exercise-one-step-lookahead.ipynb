{
 "cells": [
  {
   "cell_type": "markdown",
   "id": "185546e9",
   "metadata": {
    "papermill": {
     "duration": 0.006145,
     "end_time": "2023-06-17T15:14:12.111939",
     "exception": false,
     "start_time": "2023-06-17T15:14:12.105794",
     "status": "completed"
    },
    "tags": []
   },
   "source": [
    "**This notebook is an exercise in the [Intro to Game AI and Reinforcement Learning](https://www.kaggle.com/learn/intro-to-game-ai-and-reinforcement-learning) course.  You can reference the tutorial at [this link](https://www.kaggle.com/alexisbcook/one-step-lookahead).**\n",
    "\n",
    "---\n"
   ]
  },
  {
   "cell_type": "markdown",
   "id": "e4882a38",
   "metadata": {
    "papermill": {
     "duration": 0.005577,
     "end_time": "2023-06-17T15:14:12.122999",
     "exception": false,
     "start_time": "2023-06-17T15:14:12.117422",
     "status": "completed"
    },
    "tags": []
   },
   "source": [
    "# Introduction\n",
    "\n",
    "In the tutorial, you learned how to define a simple heuristic that the agent used to select moves.  In this exercise, you'll check your understanding and make the heuristic more complex.\n",
    "\n",
    "To get started, run the code cell below to set up our feedback system."
   ]
  },
  {
   "cell_type": "code",
   "execution_count": 1,
   "id": "19dc65ce",
   "metadata": {
    "execution": {
     "iopub.execute_input": "2023-06-17T15:14:12.135613Z",
     "iopub.status.busy": "2023-06-17T15:14:12.135174Z",
     "iopub.status.idle": "2023-06-17T15:14:12.294777Z",
     "shell.execute_reply": "2023-06-17T15:14:12.293501Z"
    },
    "papermill": {
     "duration": 0.169705,
     "end_time": "2023-06-17T15:14:12.297890",
     "exception": false,
     "start_time": "2023-06-17T15:14:12.128185",
     "status": "completed"
    },
    "tags": []
   },
   "outputs": [
    {
     "name": "stdout",
     "output_type": "stream",
     "text": [
      "Loading environment lux_ai_s2 failed: No module named 'vec_noise'\n"
     ]
    }
   ],
   "source": [
    "from learntools.core import binder\n",
    "binder.bind(globals())\n",
    "from learntools.game_ai.ex2 import *"
   ]
  },
  {
   "cell_type": "markdown",
   "id": "af4695ea",
   "metadata": {
    "papermill": {
     "duration": 0.005281,
     "end_time": "2023-06-17T15:14:12.308715",
     "exception": false,
     "start_time": "2023-06-17T15:14:12.303434",
     "status": "completed"
    },
    "tags": []
   },
   "source": [
    "### 1) A more complex heuristic\n",
    "\n",
    "The heuristic from the tutorial looks at all groups of four adjacent grid locations on the same row, column, or diagonal and assigns points for each occurrence of the following patterns:\n",
    "\n",
    "<center>\n",
    "<img src=\"https://storage.googleapis.com/kaggle-media/learn/images/vzQa4ML.png\" width=60%><br/>\n",
    "</center>\n",
    "\n",
    "In the image above, we assume that the agent is the red player, and the opponent plays yellow discs.\n",
    "\n",
    "For reference, here is the `get_heuristic()` function from the tutorial:\n",
    "```python\n",
    "def get_heuristic(grid, mark, config):\n",
    "    num_threes = count_windows(grid, 3, mark, config)\n",
    "    num_fours = count_windows(grid, 4, mark, config)\n",
    "    num_threes_opp = count_windows(grid, 3, mark%2+1, config)\n",
    "    score = num_threes - 1e2*num_threes_opp + 1e6*num_fours\n",
    "    return score\n",
    "```\n",
    "\n",
    "In the `get_heuristic()` function, `num_fours`, `num_threes`, and `num_threes_opp` are the number of windows in the game grid that are assigned 1000000, 1, and -100 point(s), respectively. \n",
    "    \n",
    "In this tutorial, you'll change the heuristic to the following (where you decide the number of points to apply in each of `A`, `B`, `C`, `D`, and `E`).  You will define these values in the code cell below.\n",
    "\n",
    "<center>\n",
    "<img src=\"https://storage.googleapis.com/kaggle-media/learn/images/FBoWr2f.png\" width=80%><br/>\n",
    "</center>\n",
    "    \n",
    "\n",
    "To check your answer, we use your values to create a heuristic function as follows:\n",
    "\n",
    "```python\n",
    "def get_heuristic_q1(grid, col, mark, config):\n",
    "    num_twos = count_windows(grid, 2, mark, config)\n",
    "    num_threes = count_windows(grid, 3, mark, config)\n",
    "    num_fours = count_windows(grid, 4, mark, config)\n",
    "    num_twos_opp = count_windows(grid, 2, mark%2+1, config)\n",
    "    num_threes_opp = count_windows(grid, 3, mark%2+1, config)\n",
    "    score = A*num_fours + B*num_threes + C*num_twos + D*num_twos_opp + E*num_threes_opp\n",
    "    return score\n",
    "```\n",
    "\n",
    "This heuristic is then used to create an agent, that competes against the agent from the tutorial in 50 different game rounds.  In order to be marked correct, \n",
    "- your agent must win at least half of the games, and\n",
    "- `C` and `D` must both be nonzero."
   ]
  },
  {
   "cell_type": "code",
   "execution_count": 2,
   "id": "df5a70c8",
   "metadata": {
    "execution": {
     "iopub.execute_input": "2023-06-17T15:14:12.321645Z",
     "iopub.status.busy": "2023-06-17T15:14:12.320634Z",
     "iopub.status.idle": "2023-06-17T15:14:32.579288Z",
     "shell.execute_reply": "2023-06-17T15:14:32.578049Z"
    },
    "papermill": {
     "duration": 20.268173,
     "end_time": "2023-06-17T15:14:32.582022",
     "exception": false,
     "start_time": "2023-06-17T15:14:12.313849",
     "status": "completed"
    },
    "tags": []
   },
   "outputs": [
    {
     "name": "stdout",
     "output_type": "stream",
     "text": [
      "Your Agent's Win Percentage (in 50 game rounds): 0.58\n",
      "Tutorial Agent's Win Percentage (in 50 game rounds): 0.42\n"
     ]
    },
    {
     "data": {
      "application/javascript": [
       "parent.postMessage({\"jupyterEvent\": \"custom.exercise_interaction\", \"data\": {\"outcomeType\": 1, \"valueTowardsCompletion\": 0.3333333333333333, \"interactionType\": 1, \"questionType\": 2, \"questionId\": \"1_BetterHeuristic\", \"learnToolsVersion\": \"0.3.4\", \"failureMessage\": \"\", \"exceptionClass\": \"\", \"trace\": \"\"}}, \"*\")"
      ],
      "text/plain": [
       "<IPython.core.display.Javascript object>"
      ]
     },
     "metadata": {},
     "output_type": "display_data"
    },
    {
     "data": {
      "text/markdown": [
       "<span style=\"color:#33cc33\">Correct</span>"
      ],
      "text/plain": [
       "Correct"
      ]
     },
     "metadata": {},
     "output_type": "display_data"
    }
   ],
   "source": [
    "# TODO: Assign your values here\n",
    "A = 1e10\n",
    "B = 1e4\n",
    "C = 1e2\n",
    "D = -1\n",
    "E = -1e6\n",
    "\n",
    "# Check your answer (this will take a few seconds to run!)\n",
    "q_1.check()"
   ]
  },
  {
   "cell_type": "code",
   "execution_count": 3,
   "id": "80413d57",
   "metadata": {
    "execution": {
     "iopub.execute_input": "2023-06-17T15:14:32.596989Z",
     "iopub.status.busy": "2023-06-17T15:14:32.595861Z",
     "iopub.status.idle": "2023-06-17T15:14:32.601301Z",
     "shell.execute_reply": "2023-06-17T15:14:32.600061Z"
    },
    "papermill": {
     "duration": 0.01595,
     "end_time": "2023-06-17T15:14:32.604169",
     "exception": false,
     "start_time": "2023-06-17T15:14:32.588219",
     "status": "completed"
    },
    "tags": []
   },
   "outputs": [],
   "source": [
    "# Lines below will give you a hint or solution code\n",
    "#q_1.hint()\n",
    "#q_1.solution()"
   ]
  },
  {
   "cell_type": "markdown",
   "id": "dc5dd86a",
   "metadata": {
    "papermill": {
     "duration": 0.008164,
     "end_time": "2023-06-17T15:14:32.618713",
     "exception": false,
     "start_time": "2023-06-17T15:14:32.610549",
     "status": "completed"
    },
    "tags": []
   },
   "source": [
    "### 2) Does the agent win?\n",
    "\n",
    "Consider the game board below.  \n",
    "\n",
    "<center>\n",
    "<img src=\"https://storage.googleapis.com/kaggle-media/learn/images/AlnaQ3J.png\" width=30%><br/>\n",
    "</center>\n",
    "\n",
    "Say the agent uses red discs, and it's the agent's turn.  \n",
    "- If the agent uses the heuristic **_from the tutorial_**, does it win or lose the game?\n",
    "- If the agent uses the heuristic **_that you just implemented_**, does it win or lose the game?"
   ]
  },
  {
   "cell_type": "code",
   "execution_count": 4,
   "id": "fcacaf8a",
   "metadata": {
    "execution": {
     "iopub.execute_input": "2023-06-17T15:14:32.632870Z",
     "iopub.status.busy": "2023-06-17T15:14:32.632422Z",
     "iopub.status.idle": "2023-06-17T15:14:32.642383Z",
     "shell.execute_reply": "2023-06-17T15:14:32.641237Z"
    },
    "papermill": {
     "duration": 0.02002,
     "end_time": "2023-06-17T15:14:32.644788",
     "exception": false,
     "start_time": "2023-06-17T15:14:32.624768",
     "status": "completed"
    },
    "tags": []
   },
   "outputs": [
    {
     "data": {
      "application/javascript": [
       "parent.postMessage({\"jupyterEvent\": \"custom.exercise_interaction\", \"data\": {\"interactionType\": 2, \"questionType\": 4, \"questionId\": \"2_BothLose\", \"learnToolsVersion\": \"0.3.4\", \"valueTowardsCompletion\": 0.0, \"failureMessage\": \"\", \"exceptionClass\": \"\", \"trace\": \"\", \"outcomeType\": 4}}, \"*\")"
      ],
      "text/plain": [
       "<IPython.core.display.Javascript object>"
      ]
     },
     "metadata": {},
     "output_type": "display_data"
    },
    {
     "data": {
      "text/markdown": [
       "<span style=\"color:#3366cc\">Hint:</span> The agent only has two options: which column should the agent select to certainly win the game?"
      ],
      "text/plain": [
       "Hint: The agent only has two options: which column should the agent select to certainly win the game?"
      ]
     },
     "metadata": {},
     "output_type": "display_data"
    }
   ],
   "source": [
    "q_2.hint()"
   ]
  },
  {
   "cell_type": "code",
   "execution_count": 5,
   "id": "fca002ee",
   "metadata": {
    "execution": {
     "iopub.execute_input": "2023-06-17T15:14:32.660034Z",
     "iopub.status.busy": "2023-06-17T15:14:32.658788Z",
     "iopub.status.idle": "2023-06-17T15:14:32.663737Z",
     "shell.execute_reply": "2023-06-17T15:14:32.662959Z"
    },
    "papermill": {
     "duration": 0.014991,
     "end_time": "2023-06-17T15:14:32.666045",
     "exception": false,
     "start_time": "2023-06-17T15:14:32.651054",
     "status": "completed"
    },
    "tags": []
   },
   "outputs": [],
   "source": [
    "# Check your answer (Run this code cell to receive credit!)\n",
    "#q_2.solution()"
   ]
  },
  {
   "cell_type": "markdown",
   "id": "9eceffdd",
   "metadata": {
    "papermill": {
     "duration": 0.005987,
     "end_time": "2023-06-17T15:14:32.678394",
     "exception": false,
     "start_time": "2023-06-17T15:14:32.672407",
     "status": "completed"
    },
    "tags": []
   },
   "source": [
    "### 3) Submit to the competition\n",
    "\n",
    "Now, it's time to submit an agent to the competition!  Use the next code cell to define an agent.  (You can see an example of how to write a valid agent in **[this notebook](https://www.kaggle.com/alexisbcook/create-a-connectx-agent)**.)\n",
    "\n",
    "You're encouraged to use what you learned in the first question of this exercise to write an agent.  Use the code from the tutorial as a starting point. "
   ]
  },
  {
   "cell_type": "code",
   "execution_count": 6,
   "id": "e21619f7",
   "metadata": {
    "execution": {
     "iopub.execute_input": "2023-06-17T15:14:32.693602Z",
     "iopub.status.busy": "2023-06-17T15:14:32.692693Z",
     "iopub.status.idle": "2023-06-17T15:14:32.700139Z",
     "shell.execute_reply": "2023-06-17T15:14:32.698737Z"
    },
    "papermill": {
     "duration": 0.018063,
     "end_time": "2023-06-17T15:14:32.702751",
     "exception": false,
     "start_time": "2023-06-17T15:14:32.684688",
     "status": "completed"
    },
    "tags": []
   },
   "outputs": [],
   "source": [
    "def my_agent(obs, config):\n",
    "    # Your code here: Amend the agent!\n",
    "    import random\n",
    "    valid_moves = [col for col in range(config.columns) if obs.board[col] == 0]\n",
    "    return random.choice(valid_moves)"
   ]
  },
  {
   "cell_type": "code",
   "execution_count": 7,
   "id": "e993e6e3",
   "metadata": {
    "execution": {
     "iopub.execute_input": "2023-06-17T15:14:32.717906Z",
     "iopub.status.busy": "2023-06-17T15:14:32.717463Z",
     "iopub.status.idle": "2023-06-17T15:14:32.726954Z",
     "shell.execute_reply": "2023-06-17T15:14:32.725558Z"
    },
    "papermill": {
     "duration": 0.019909,
     "end_time": "2023-06-17T15:14:32.729345",
     "exception": false,
     "start_time": "2023-06-17T15:14:32.709436",
     "status": "completed"
    },
    "tags": []
   },
   "outputs": [
    {
     "data": {
      "application/javascript": [
       "parent.postMessage({\"jupyterEvent\": \"custom.exercise_interaction\", \"data\": {\"outcomeType\": 1, \"valueTowardsCompletion\": 0.3333333333333333, \"interactionType\": 1, \"questionType\": 2, \"questionId\": \"3_CreateAgentEx2\", \"learnToolsVersion\": \"0.3.4\", \"failureMessage\": \"\", \"exceptionClass\": \"\", \"trace\": \"\"}}, \"*\")"
      ],
      "text/plain": [
       "<IPython.core.display.Javascript object>"
      ]
     },
     "metadata": {},
     "output_type": "display_data"
    },
    {
     "data": {
      "text/markdown": [
       "<span style=\"color:#33cc33\">Thank you for creating an agent!</span>"
      ],
      "text/plain": [
       "Thank you for creating an agent!"
      ]
     },
     "metadata": {},
     "output_type": "display_data"
    }
   ],
   "source": [
    "# Run this code cell to get credit for creating an agent\n",
    "q_3.check()"
   ]
  },
  {
   "cell_type": "markdown",
   "id": "ce82c3bf",
   "metadata": {
    "papermill": {
     "duration": 0.006762,
     "end_time": "2023-06-17T15:14:32.743235",
     "exception": false,
     "start_time": "2023-06-17T15:14:32.736473",
     "status": "completed"
    },
    "tags": []
   },
   "source": [
    "Run the next code cell to convert your agent to a submission file."
   ]
  },
  {
   "cell_type": "code",
   "execution_count": 8,
   "id": "a7c931c7",
   "metadata": {
    "execution": {
     "iopub.execute_input": "2023-06-17T15:14:32.758490Z",
     "iopub.status.busy": "2023-06-17T15:14:32.758038Z",
     "iopub.status.idle": "2023-06-17T15:14:32.767258Z",
     "shell.execute_reply": "2023-06-17T15:14:32.765953Z"
    },
    "papermill": {
     "duration": 0.019464,
     "end_time": "2023-06-17T15:14:32.769382",
     "exception": false,
     "start_time": "2023-06-17T15:14:32.749918",
     "status": "completed"
    },
    "tags": []
   },
   "outputs": [
    {
     "name": "stdout",
     "output_type": "stream",
     "text": [
      "<function my_agent at 0x78b4c384c550> written to submission.py\n"
     ]
    }
   ],
   "source": [
    "import inspect\n",
    "import os\n",
    "\n",
    "def write_agent_to_file(function, file):\n",
    "    with open(file, \"a\" if os.path.exists(file) else \"w\") as f:\n",
    "        f.write(inspect.getsource(function))\n",
    "        print(function, \"written to\", file)\n",
    "\n",
    "write_agent_to_file(my_agent, \"submission.py\")"
   ]
  },
  {
   "cell_type": "markdown",
   "id": "68754092",
   "metadata": {
    "papermill": {
     "duration": 0.006453,
     "end_time": "2023-06-17T15:14:32.782624",
     "exception": false,
     "start_time": "2023-06-17T15:14:32.776171",
     "status": "completed"
    },
    "tags": []
   },
   "source": [
    "Then, follow these steps to submit your agent to the competition:\n",
    "1. Begin by clicking on the **Save Version** button in the top right corner of the window.  This will generate a pop-up window.  \n",
    "2. Ensure that the **Save and Run All** option is selected, and then click on the **Save** button.\n",
    "3. This generates a window in the bottom left corner of the notebook.  After it has finished running, click on the number to the right of the **Save Version** button.  This pulls up a list of versions on the right of the screen.  Click on the ellipsis **(...)** to the right of the most recent version, and select **Open in Viewer**.  This brings you into view mode of the same page. You will need to scroll down to get back to these instructions.\n",
    "4. Click on the **Data** tab near the top of the screen.  Then, click on the file you would like to submit, and click on the **Submit** button to submit your results to the leaderboard.\n",
    "\n",
    "You have now successfully submitted to the competition!\n",
    "\n",
    "If you want to keep working to improve your performance, select the **Edit** button in the top right of the screen. Then you can change your code and repeat the process. There's a lot of room to improve, and you will climb up the leaderboard as you work.\n",
    "\n",
    "\n",
    "Go to **\"My Submissions\"** to view your score and episodes being played.\n",
    "\n",
    "# Keep going\n",
    "\n",
    "Move on to **[develop a longer-term strategy](https://www.kaggle.com/alexisbcook/n-step-lookahead)** with the minimax algorithm."
   ]
  },
  {
   "cell_type": "markdown",
   "id": "5225ac6b",
   "metadata": {
    "papermill": {
     "duration": 0.006231,
     "end_time": "2023-06-17T15:14:32.795604",
     "exception": false,
     "start_time": "2023-06-17T15:14:32.789373",
     "status": "completed"
    },
    "tags": []
   },
   "source": [
    "---\n",
    "\n",
    "\n",
    "\n",
    "\n",
    "*Have questions or comments? Visit the [course discussion forum](https://www.kaggle.com/learn/intro-to-game-ai-and-reinforcement-learning/discussion) to chat with other learners.*"
   ]
  }
 ],
 "metadata": {
  "kernelspec": {
   "display_name": "Python 3",
   "language": "python",
   "name": "python3"
  },
  "language_info": {
   "codemirror_mode": {
    "name": "ipython",
    "version": 3
   },
   "file_extension": ".py",
   "mimetype": "text/x-python",
   "name": "python",
   "nbconvert_exporter": "python",
   "pygments_lexer": "ipython3",
   "version": "3.10.10"
  },
  "papermill": {
   "default_parameters": {},
   "duration": 34.849738,
   "end_time": "2023-06-17T15:14:34.027215",
   "environment_variables": {},
   "exception": null,
   "input_path": "__notebook__.ipynb",
   "output_path": "__notebook__.ipynb",
   "parameters": {},
   "start_time": "2023-06-17T15:13:59.177477",
   "version": "2.4.0"
  }
 },
 "nbformat": 4,
 "nbformat_minor": 5
}
