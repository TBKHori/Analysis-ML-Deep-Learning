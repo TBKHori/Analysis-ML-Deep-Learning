{
 "cells": [
  {
   "cell_type": "markdown",
   "id": "669b39eb",
   "metadata": {
    "papermill": {
     "duration": 0.007106,
     "end_time": "2023-06-18T18:22:38.093396",
     "exception": false,
     "start_time": "2023-06-18T18:22:38.086290",
     "status": "completed"
    },
    "tags": []
   },
   "source": [
    "**This notebook is an exercise in the [Intro to Game AI and Reinforcement Learning](https://www.kaggle.com/learn/intro-to-game-ai-and-reinforcement-learning) course.  You can reference the tutorial at [this link](https://www.kaggle.com/alexisbcook/n-step-lookahead).**\n",
    "\n",
    "---\n"
   ]
  },
  {
   "cell_type": "markdown",
   "id": "a024e12d",
   "metadata": {
    "papermill": {
     "duration": 0.006184,
     "end_time": "2023-06-18T18:22:38.106232",
     "exception": false,
     "start_time": "2023-06-18T18:22:38.100048",
     "status": "completed"
    },
    "tags": []
   },
   "source": [
    "# Introduction\n",
    "\n",
    "In the tutorial, you learned how to build a reasonably intelligent agent with the minimax algorithm.  In this exercise, you will check your understanding and submit your own agent to the competition."
   ]
  },
  {
   "cell_type": "code",
   "execution_count": 1,
   "id": "70ce1b3c",
   "metadata": {
    "execution": {
     "iopub.execute_input": "2023-06-18T18:22:38.121528Z",
     "iopub.status.busy": "2023-06-18T18:22:38.120750Z",
     "iopub.status.idle": "2023-06-18T18:22:38.176830Z",
     "shell.execute_reply": "2023-06-18T18:22:38.175629Z"
    },
    "papermill": {
     "duration": 0.066971,
     "end_time": "2023-06-18T18:22:38.179763",
     "exception": false,
     "start_time": "2023-06-18T18:22:38.112792",
     "status": "completed"
    },
    "tags": []
   },
   "outputs": [],
   "source": [
    "from learntools.core import binder\n",
    "binder.bind(globals())\n",
    "from learntools.game_ai.ex3 import *"
   ]
  },
  {
   "cell_type": "markdown",
   "id": "5d84ad4e",
   "metadata": {
    "papermill": {
     "duration": 0.006275,
     "end_time": "2023-06-18T18:22:38.192633",
     "exception": false,
     "start_time": "2023-06-18T18:22:38.186358",
     "status": "completed"
    },
    "tags": []
   },
   "source": [
    "### 1) A closer look\n",
    "\n",
    "The heuristic from the tutorial looks at all groups of four adjacent grid locations on the same row, column, or diagonal and assigns points for each occurrence of the following patterns:\n",
    "\n",
    "<center>\n",
    "<img src=\"https://storage.googleapis.com/kaggle-media/learn/images/3NvBEGL.png\" width=70%><br/>\n",
    "</center>\n",
    "\n",
    "Is it really necessary to use so many numbers to define the heuristic?  Consider simplifying it, as in the image below.\n",
    "\n",
    "<center>\n",
    "<img src=\"https://storage.googleapis.com/kaggle-media/learn/images/grViegG.png\" width=70%><br/>\n",
    "</center>\n",
    "\n",
    "How would each heuristic score the potential moves in the example below (where, in this case, the agent looks only one step ahead)?  Which heuristic would lead to the agent selecting the better move?\n",
    "\n",
    "<center>\n",
    "<img src=\"https://storage.googleapis.com/kaggle-media/learn/images/LWPLy7N.png\" width=100%><br/>\n",
    "</center>"
   ]
  },
  {
   "cell_type": "code",
   "execution_count": 2,
   "id": "bf13169a",
   "metadata": {
    "execution": {
     "iopub.execute_input": "2023-06-18T18:22:38.207320Z",
     "iopub.status.busy": "2023-06-18T18:22:38.206945Z",
     "iopub.status.idle": "2023-06-18T18:22:38.219196Z",
     "shell.execute_reply": "2023-06-18T18:22:38.218087Z"
    },
    "papermill": {
     "duration": 0.02266,
     "end_time": "2023-06-18T18:22:38.221789",
     "exception": false,
     "start_time": "2023-06-18T18:22:38.199129",
     "status": "completed"
    },
    "tags": []
   },
   "outputs": [
    {
     "data": {
      "application/javascript": [
       "parent.postMessage({\"jupyterEvent\": \"custom.exercise_interaction\", \"data\": {\"interactionType\": 2, \"questionType\": 4, \"questionId\": \"1_WorseHeuristic\", \"learnToolsVersion\": \"0.3.4\", \"valueTowardsCompletion\": 0.0, \"failureMessage\": \"\", \"exceptionClass\": \"\", \"trace\": \"\", \"outcomeType\": 4}}, \"*\")"
      ],
      "text/plain": [
       "<IPython.core.display.Javascript object>"
      ]
     },
     "metadata": {},
     "output_type": "display_data"
    },
    {
     "data": {
      "text/markdown": [
       "<span style=\"color:#3366cc\">Hint:</span> The first heuristic assigns a score of 0 to column 2, and a score of -99 to column 3.  What scores do you get with the second heuristic?"
      ],
      "text/plain": [
       "Hint: The first heuristic assigns a score of 0 to column 2, and a score of -99 to column 3.  What scores do you get with the second heuristic?"
      ]
     },
     "metadata": {},
     "output_type": "display_data"
    }
   ],
   "source": [
    "q_1.hint()"
   ]
  },
  {
   "cell_type": "code",
   "execution_count": 3,
   "id": "b0170ec3",
   "metadata": {
    "execution": {
     "iopub.execute_input": "2023-06-18T18:22:38.239572Z",
     "iopub.status.busy": "2023-06-18T18:22:38.239156Z",
     "iopub.status.idle": "2023-06-18T18:22:38.248603Z",
     "shell.execute_reply": "2023-06-18T18:22:38.247495Z"
    },
    "papermill": {
     "duration": 0.020638,
     "end_time": "2023-06-18T18:22:38.251140",
     "exception": false,
     "start_time": "2023-06-18T18:22:38.230502",
     "status": "completed"
    },
    "tags": []
   },
   "outputs": [
    {
     "data": {
      "application/javascript": [
       "parent.postMessage({\"jupyterEvent\": \"custom.exercise_interaction\", \"data\": {\"interactionType\": 3, \"questionType\": 4, \"questionId\": \"1_WorseHeuristic\", \"learnToolsVersion\": \"0.3.4\", \"valueTowardsCompletion\": 0.0, \"failureMessage\": \"\", \"exceptionClass\": \"\", \"trace\": \"\", \"outcomeType\": 4}}, \"*\")"
      ],
      "text/plain": [
       "<IPython.core.display.Javascript object>"
      ]
     },
     "metadata": {},
     "output_type": "display_data"
    },
    {
     "data": {
      "text/markdown": [
       "<span style=\"color:#33cc99\">Solution:</span> The first heuristic is guaranteed to select column 2 to block the opponent from winning.  The second heuristic selects either column 2 or column 3 (where it selects each with 50% probability). Thus, for this game board, the first heuristic is better. In general, we can expect that the first heuristic is a better heuristic, since we cannot trust the second heuristic to block the opponent from winning."
      ],
      "text/plain": [
       "Solution: The first heuristic is guaranteed to select column 2 to block the opponent from winning.  The second heuristic selects either column 2 or column 3 (where it selects each with 50% probability). Thus, for this game board, the first heuristic is better. In general, we can expect that the first heuristic is a better heuristic, since we cannot trust the second heuristic to block the opponent from winning."
      ]
     },
     "metadata": {},
     "output_type": "display_data"
    }
   ],
   "source": [
    "# Check your answer (Run this code cell to receive credit!)\n",
    "q_1.solution()"
   ]
  },
  {
   "cell_type": "markdown",
   "id": "f3e5267b",
   "metadata": {
    "papermill": {
     "duration": 0.007189,
     "end_time": "2023-06-18T18:22:38.265824",
     "exception": false,
     "start_time": "2023-06-18T18:22:38.258635",
     "status": "completed"
    },
    "tags": []
   },
   "source": [
    "### 2) Count the leaves\n",
    "\n",
    "In the tutorial, we worked with a small game tree.\n",
    "\n",
    "<center>\n",
    "<img src=\"https://storage.googleapis.com/kaggle-media/learn/images/BrRe7Bu.png\" width=90%><br/>\n",
    "</center>\n",
    "\n",
    "The game tree above has 8 leaf nodes that appear at the bottom of the tree.  By definition, \"leaf nodes\" in a game tree are nodes that don't have nodes below them.\n",
    "\n",
    "In the ConnectX competition, the game trees will be much larger!  \n",
    "\n",
    "To see this, consider a minimax agent that is trying to plan its first move, where all columns in the game board are  empty.  Say the agent builds a game tree of depth 3.  How many leaf nodes are in the game tree?  \n",
    "\n",
    "Use your answer to fill in the blank below."
   ]
  },
  {
   "cell_type": "code",
   "execution_count": 4,
   "id": "11130090",
   "metadata": {
    "execution": {
     "iopub.execute_input": "2023-06-18T18:22:38.282509Z",
     "iopub.status.busy": "2023-06-18T18:22:38.282059Z",
     "iopub.status.idle": "2023-06-18T18:22:38.290960Z",
     "shell.execute_reply": "2023-06-18T18:22:38.289827Z"
    },
    "papermill": {
     "duration": 0.020281,
     "end_time": "2023-06-18T18:22:38.293480",
     "exception": false,
     "start_time": "2023-06-18T18:22:38.273199",
     "status": "completed"
    },
    "tags": []
   },
   "outputs": [
    {
     "data": {
      "application/javascript": [
       "parent.postMessage({\"jupyterEvent\": \"custom.exercise_interaction\", \"data\": {\"outcomeType\": 1, \"valueTowardsCompletion\": 0.2, \"interactionType\": 1, \"questionType\": 1, \"questionId\": \"2_NumLeaves\", \"learnToolsVersion\": \"0.3.4\", \"failureMessage\": \"\", \"exceptionClass\": \"\", \"trace\": \"\"}}, \"*\")"
      ],
      "text/plain": [
       "<IPython.core.display.Javascript object>"
      ]
     },
     "metadata": {},
     "output_type": "display_data"
    },
    {
     "data": {
      "text/markdown": [
       "<span style=\"color:#33cc33\">Correct</span>"
      ],
      "text/plain": [
       "Correct"
      ]
     },
     "metadata": {},
     "output_type": "display_data"
    }
   ],
   "source": [
    "# Fill in the blank\n",
    "num_leaves = 7 * 7 * 7\n",
    "\n",
    "# Check your answer\n",
    "q_2.check()"
   ]
  },
  {
   "cell_type": "code",
   "execution_count": 5,
   "id": "0de341f7",
   "metadata": {
    "execution": {
     "iopub.execute_input": "2023-06-18T18:22:38.311081Z",
     "iopub.status.busy": "2023-06-18T18:22:38.310693Z",
     "iopub.status.idle": "2023-06-18T18:22:38.315980Z",
     "shell.execute_reply": "2023-06-18T18:22:38.314802Z"
    },
    "papermill": {
     "duration": 0.016868,
     "end_time": "2023-06-18T18:22:38.318546",
     "exception": false,
     "start_time": "2023-06-18T18:22:38.301678",
     "status": "completed"
    },
    "tags": []
   },
   "outputs": [],
   "source": [
    "# Lines below will give you a hint or solution code\n",
    "#q_2.hint()\n",
    "#q_2.solution()"
   ]
  },
  {
   "cell_type": "markdown",
   "id": "e03e6757",
   "metadata": {
    "papermill": {
     "duration": 0.007522,
     "end_time": "2023-06-18T18:22:38.333710",
     "exception": false,
     "start_time": "2023-06-18T18:22:38.326188",
     "status": "completed"
    },
    "tags": []
   },
   "source": [
    "### 3) Which move will the agent select?\n",
    "\n",
    "In this question, you'll check your understanding of the minimax algorithm.  Remember that with this algorithm, \n",
    "> The agent chooses moves to get a score that is as high as possible, and it assumes the opponent will counteract this by choosing moves to force the score to be as low as possible.\n",
    "\n",
    "Consider the toy example below of a game tree that the agent will use to select its next move.  \n",
    "<center>\n",
    "<img src=\"https://storage.googleapis.com/kaggle-media/learn/images/QlfWGM9.png\" width=80%><br/>\n",
    "</center>\n",
    "\n",
    "Which move will the agent select?  Use your answer to set the value of the `selected_move` variable below.  Your answer should be one of `1`, `2`, or `3`."
   ]
  },
  {
   "cell_type": "code",
   "execution_count": 6,
   "id": "c8218ae2",
   "metadata": {
    "execution": {
     "iopub.execute_input": "2023-06-18T18:22:38.351208Z",
     "iopub.status.busy": "2023-06-18T18:22:38.350812Z",
     "iopub.status.idle": "2023-06-18T18:22:38.358762Z",
     "shell.execute_reply": "2023-06-18T18:22:38.357842Z"
    },
    "papermill": {
     "duration": 0.019756,
     "end_time": "2023-06-18T18:22:38.361097",
     "exception": false,
     "start_time": "2023-06-18T18:22:38.341341",
     "status": "completed"
    },
    "tags": []
   },
   "outputs": [
    {
     "data": {
      "application/javascript": [
       "parent.postMessage({\"jupyterEvent\": \"custom.exercise_interaction\", \"data\": {\"outcomeType\": 1, \"valueTowardsCompletion\": 0.2, \"interactionType\": 1, \"questionType\": 2, \"questionId\": \"3_WhichMove\", \"learnToolsVersion\": \"0.3.4\", \"failureMessage\": \"\", \"exceptionClass\": \"\", \"trace\": \"\"}}, \"*\")"
      ],
      "text/plain": [
       "<IPython.core.display.Javascript object>"
      ]
     },
     "metadata": {},
     "output_type": "display_data"
    },
    {
     "data": {
      "text/markdown": [
       "<span style=\"color:#33cc33\">Correct</span>"
      ],
      "text/plain": [
       "Correct"
      ]
     },
     "metadata": {},
     "output_type": "display_data"
    }
   ],
   "source": [
    "# Fill in the blank\n",
    "selected_move = 3\n",
    "\n",
    "# Check your answer\n",
    "q_3.check()"
   ]
  },
  {
   "cell_type": "code",
   "execution_count": 7,
   "id": "859fc38e",
   "metadata": {
    "execution": {
     "iopub.execute_input": "2023-06-18T18:22:38.379254Z",
     "iopub.status.busy": "2023-06-18T18:22:38.378845Z",
     "iopub.status.idle": "2023-06-18T18:22:38.383887Z",
     "shell.execute_reply": "2023-06-18T18:22:38.382809Z"
    },
    "papermill": {
     "duration": 0.017319,
     "end_time": "2023-06-18T18:22:38.386419",
     "exception": false,
     "start_time": "2023-06-18T18:22:38.369100",
     "status": "completed"
    },
    "tags": []
   },
   "outputs": [],
   "source": [
    "# Lines below will give you a hint or solution code\n",
    "#q_3.hint()\n",
    "#q_3.solution()"
   ]
  },
  {
   "cell_type": "markdown",
   "id": "54443bd4",
   "metadata": {
    "papermill": {
     "duration": 0.007715,
     "end_time": "2023-06-18T18:22:38.402083",
     "exception": false,
     "start_time": "2023-06-18T18:22:38.394368",
     "status": "completed"
    },
    "tags": []
   },
   "source": [
    "### 4) Examine the assumptions\n",
    "\n",
    "The minimax agent assumes that its opponent plays optimally (with respect to the heuristic, and using a game tree of limited depth).  But this is almost never the case, in practice: it's far more likely for the agent to encounter a suboptimal (that is: worse than optimal) opponent.  \n",
    "\n",
    "Say the minimax agent encounters a suboptimal opponent. Should we expect the minimax agent to still play the game well, despite the contradiction with its assumptions?  If so, why?"
   ]
  },
  {
   "cell_type": "code",
   "execution_count": 8,
   "id": "86b4ef4b",
   "metadata": {
    "execution": {
     "iopub.execute_input": "2023-06-18T18:22:38.420823Z",
     "iopub.status.busy": "2023-06-18T18:22:38.419822Z",
     "iopub.status.idle": "2023-06-18T18:22:38.428860Z",
     "shell.execute_reply": "2023-06-18T18:22:38.427673Z"
    },
    "papermill": {
     "duration": 0.021197,
     "end_time": "2023-06-18T18:22:38.431318",
     "exception": false,
     "start_time": "2023-06-18T18:22:38.410121",
     "status": "completed"
    },
    "tags": []
   },
   "outputs": [
    {
     "data": {
      "application/javascript": [
       "parent.postMessage({\"jupyterEvent\": \"custom.exercise_interaction\", \"data\": {\"interactionType\": 2, \"questionType\": 4, \"questionId\": \"4_Assumptions\", \"learnToolsVersion\": \"0.3.4\", \"valueTowardsCompletion\": 0.0, \"failureMessage\": \"\", \"exceptionClass\": \"\", \"trace\": \"\", \"outcomeType\": 4}}, \"*\")"
      ],
      "text/plain": [
       "<IPython.core.display.Javascript object>"
      ]
     },
     "metadata": {},
     "output_type": "display_data"
    },
    {
     "data": {
      "text/markdown": [
       "<span style=\"color:#3366cc\">Hint:</span> What happened in the tutorial when the minimax agent played against a random opponent?"
      ],
      "text/plain": [
       "Hint: What happened in the tutorial when the minimax agent played against a random opponent?"
      ]
     },
     "metadata": {},
     "output_type": "display_data"
    }
   ],
   "source": [
    "q_4.hint()"
   ]
  },
  {
   "cell_type": "code",
   "execution_count": 9,
   "id": "c370fe2a",
   "metadata": {
    "execution": {
     "iopub.execute_input": "2023-06-18T18:22:38.449677Z",
     "iopub.status.busy": "2023-06-18T18:22:38.449238Z",
     "iopub.status.idle": "2023-06-18T18:22:38.458569Z",
     "shell.execute_reply": "2023-06-18T18:22:38.457388Z"
    },
    "papermill": {
     "duration": 0.021454,
     "end_time": "2023-06-18T18:22:38.461028",
     "exception": false,
     "start_time": "2023-06-18T18:22:38.439574",
     "status": "completed"
    },
    "tags": []
   },
   "outputs": [
    {
     "data": {
      "application/javascript": [
       "parent.postMessage({\"jupyterEvent\": \"custom.exercise_interaction\", \"data\": {\"interactionType\": 3, \"questionType\": 4, \"questionId\": \"4_Assumptions\", \"learnToolsVersion\": \"0.3.4\", \"valueTowardsCompletion\": 0.0, \"failureMessage\": \"\", \"exceptionClass\": \"\", \"trace\": \"\", \"outcomeType\": 4}}, \"*\")"
      ],
      "text/plain": [
       "<IPython.core.display.Javascript object>"
      ]
     },
     "metadata": {},
     "output_type": "display_data"
    },
    {
     "data": {
      "text/markdown": [
       "<span style=\"color:#33cc99\">Solution:</span> We can still expect the minimax agent to perform well. On a high level, assuming an optimal opponent simply overestimates the opponent, but does not break the algorithm.  The effect of overestimating the opponent is merely that the minimax agent will take longer to win, than if it had a more accurate understanding of its opponent.  For instance, the minimax agent is highly unlikely to select the same column three times in its first three moves (since it assumes an optimal opponent that will certainly block the winning play in the next move), but this is not a bad initial strategy for playing against an agent that selects columns completely at random."
      ],
      "text/plain": [
       "Solution: We can still expect the minimax agent to perform well. On a high level, assuming an optimal opponent simply overestimates the opponent, but does not break the algorithm.  The effect of overestimating the opponent is merely that the minimax agent will take longer to win, than if it had a more accurate understanding of its opponent.  For instance, the minimax agent is highly unlikely to select the same column three times in its first three moves (since it assumes an optimal opponent that will certainly block the winning play in the next move), but this is not a bad initial strategy for playing against an agent that selects columns completely at random."
      ]
     },
     "metadata": {},
     "output_type": "display_data"
    }
   ],
   "source": [
    "# Check your answer (Run this code cell to receive credit!)\n",
    "q_4.solution()"
   ]
  },
  {
   "cell_type": "markdown",
   "id": "ce5c86fb",
   "metadata": {
    "papermill": {
     "duration": 0.008443,
     "end_time": "2023-06-18T18:22:38.478254",
     "exception": false,
     "start_time": "2023-06-18T18:22:38.469811",
     "status": "completed"
    },
    "tags": []
   },
   "source": [
    "### 5) Submit to the competition\n",
    "\n",
    "Now, it's time to submit an agent to the competition!  Use the next code cell to define an agent.  (You can see an example of how to write a valid agent in **[this notebook](https://www.kaggle.com/alexisbcook/create-a-connectx-agent)**.)\n",
    "\n",
    "If you decide to use the minimax code from the tutorial, you might like to add [**alpha-beta pruning**](https://en.wikipedia.org/wiki/Alpha%E2%80%93beta_pruning) to decrease the computation time (i.e., get the minimax algorithm to run much faster!).  In this case, \"alpha\" and \"beta\" to refer to two values that are maintained while the algorithm is running, that help to identify early stopping conditions.  \n",
    "\n",
    "Without alpha-beta pruning, minimax evaluates each leaf node.  With alpha-beta pruning, minimax only evaluates nodes that could provide information that affects the agent's choice of action.  Put another way, it identifies nodes that could not possibly affect the final result and avoids evaluating them."
   ]
  },
  {
   "cell_type": "code",
   "execution_count": 10,
   "id": "7951757c",
   "metadata": {
    "execution": {
     "iopub.execute_input": "2023-06-18T18:22:38.497635Z",
     "iopub.status.busy": "2023-06-18T18:22:38.497177Z",
     "iopub.status.idle": "2023-06-18T18:22:38.503367Z",
     "shell.execute_reply": "2023-06-18T18:22:38.502203Z"
    },
    "papermill": {
     "duration": 0.018587,
     "end_time": "2023-06-18T18:22:38.505764",
     "exception": false,
     "start_time": "2023-06-18T18:22:38.487177",
     "status": "completed"
    },
    "tags": []
   },
   "outputs": [],
   "source": [
    "def my_agent(obs, config):\n",
    "    # Your code here: Amend the agent!\n",
    "    import random\n",
    "    valid_moves = [col for col in range(config.columns) if obs.board[col] == 0]\n",
    "    return random.choice(valid_moves)"
   ]
  },
  {
   "cell_type": "code",
   "execution_count": 11,
   "id": "88339dc9",
   "metadata": {
    "execution": {
     "iopub.execute_input": "2023-06-18T18:22:38.525025Z",
     "iopub.status.busy": "2023-06-18T18:22:38.524575Z",
     "iopub.status.idle": "2023-06-18T18:22:38.533701Z",
     "shell.execute_reply": "2023-06-18T18:22:38.532848Z"
    },
    "papermill": {
     "duration": 0.021406,
     "end_time": "2023-06-18T18:22:38.535845",
     "exception": false,
     "start_time": "2023-06-18T18:22:38.514439",
     "status": "completed"
    },
    "tags": []
   },
   "outputs": [
    {
     "data": {
      "application/javascript": [
       "parent.postMessage({\"jupyterEvent\": \"custom.exercise_interaction\", \"data\": {\"outcomeType\": 1, \"valueTowardsCompletion\": 0.2, \"interactionType\": 1, \"questionType\": 2, \"questionId\": \"5_JustSubmitEx3\", \"learnToolsVersion\": \"0.3.4\", \"failureMessage\": \"\", \"exceptionClass\": \"\", \"trace\": \"\"}}, \"*\")"
      ],
      "text/plain": [
       "<IPython.core.display.Javascript object>"
      ]
     },
     "metadata": {},
     "output_type": "display_data"
    },
    {
     "data": {
      "text/markdown": [
       "<span style=\"color:#33cc33\">Thank you for creating an agent!</span>"
      ],
      "text/plain": [
       "Thank you for creating an agent!"
      ]
     },
     "metadata": {},
     "output_type": "display_data"
    }
   ],
   "source": [
    "# Run this code cell to get credit for creating an agent\n",
    "q_5.check()"
   ]
  },
  {
   "cell_type": "code",
   "execution_count": 12,
   "id": "7de06944",
   "metadata": {
    "execution": {
     "iopub.execute_input": "2023-06-18T18:22:38.555728Z",
     "iopub.status.busy": "2023-06-18T18:22:38.555301Z",
     "iopub.status.idle": "2023-06-18T18:22:38.564266Z",
     "shell.execute_reply": "2023-06-18T18:22:38.562865Z"
    },
    "papermill": {
     "duration": 0.021828,
     "end_time": "2023-06-18T18:22:38.566695",
     "exception": false,
     "start_time": "2023-06-18T18:22:38.544867",
     "status": "completed"
    },
    "tags": []
   },
   "outputs": [
    {
     "name": "stdout",
     "output_type": "stream",
     "text": [
      "<function my_agent at 0x79fdad790550> written to submission.py\n"
     ]
    }
   ],
   "source": [
    "import inspect\n",
    "import os\n",
    "\n",
    "def write_agent_to_file(function, file):\n",
    "    with open(file, \"a\" if os.path.exists(file) else \"w\") as f:\n",
    "        f.write(inspect.getsource(function))\n",
    "        print(function, \"written to\", file)\n",
    "\n",
    "write_agent_to_file(my_agent, \"submission.py\")"
   ]
  },
  {
   "cell_type": "markdown",
   "id": "28d901d2",
   "metadata": {
    "papermill": {
     "duration": 0.008825,
     "end_time": "2023-06-18T18:22:38.584539",
     "exception": false,
     "start_time": "2023-06-18T18:22:38.575714",
     "status": "completed"
    },
    "tags": []
   },
   "source": [
    "Then, follow these steps to submit your agent to the competition:\n",
    "1. Begin by clicking on the **Save Version** button in the top right corner of the window.  This will generate a pop-up window.  \n",
    "2. Ensure that the **Save and Run All** option is selected, and then click on the **Save** button.\n",
    "3. This generates a window in the bottom left corner of the notebook.  After it has finished running, click on the number to the right of the **Save Version** button.  This pulls up a list of versions on the right of the screen.  Click on the ellipsis **(...)** to the right of the most recent version, and select **Open in Viewer**.  This brings you into view mode of the same page. You will need to scroll down to get back to these instructions.\n",
    "4. Click on the **Data** tab near the top of the screen.  Then, click on the file you would like to submit, and click on the **Submit** button to submit your results to the leaderboard.\n",
    "\n",
    "You have now successfully submitted to the competition!\n",
    "\n",
    "If you want to keep working to improve your performance, select the **Edit** button in the top right of the screen. Then you can change your code and repeat the process. There's a lot of room to improve, and you will climb up the leaderboard as you work.\n",
    "\n",
    "\n",
    "Go to **\"My Submissions\"** to view your score and episodes being played.\n",
    "\n",
    "# Keep going\n",
    "\n",
    "Move on to learn how to **[use deep reinforcement learning](https://www.kaggle.com/alexisbcook/deep-reinforcement-learning)** to develop an agent without a heuristic!"
   ]
  },
  {
   "cell_type": "markdown",
   "id": "a82e863d",
   "metadata": {
    "papermill": {
     "duration": 0.008774,
     "end_time": "2023-06-18T18:22:38.602309",
     "exception": false,
     "start_time": "2023-06-18T18:22:38.593535",
     "status": "completed"
    },
    "tags": []
   },
   "source": [
    "---\n",
    "\n",
    "\n",
    "\n",
    "\n",
    "*Have questions or comments? Visit the [course discussion forum](https://www.kaggle.com/learn/intro-to-game-ai-and-reinforcement-learning/discussion) to chat with other learners.*"
   ]
  }
 ],
 "metadata": {
  "kernelspec": {
   "display_name": "Python 3",
   "language": "python",
   "name": "python3"
  },
  "language_info": {
   "codemirror_mode": {
    "name": "ipython",
    "version": 3
   },
   "file_extension": ".py",
   "mimetype": "text/x-python",
   "name": "python",
   "nbconvert_exporter": "python",
   "pygments_lexer": "ipython3",
   "version": "3.10.10"
  },
  "papermill": {
   "default_parameters": {},
   "duration": 14.316163,
   "end_time": "2023-06-18T18:22:39.534338",
   "environment_variables": {},
   "exception": null,
   "input_path": "__notebook__.ipynb",
   "output_path": "__notebook__.ipynb",
   "parameters": {},
   "start_time": "2023-06-18T18:22:25.218175",
   "version": "2.4.0"
  }
 },
 "nbformat": 4,
 "nbformat_minor": 5
}
