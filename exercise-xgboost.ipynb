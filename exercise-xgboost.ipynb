{
 "cells": [
  {
   "cell_type": "markdown",
   "id": "da6bfb9e",
   "metadata": {
    "papermill": {
     "duration": 0.007925,
     "end_time": "2023-02-08T23:36:48.128986",
     "exception": false,
     "start_time": "2023-02-08T23:36:48.121061",
     "status": "completed"
    },
    "tags": []
   },
   "source": [
    "**This notebook is an exercise in the [Intermediate Machine Learning](https://www.kaggle.com/learn/intermediate-machine-learning) course.  You can reference the tutorial at [this link](https://www.kaggle.com/alexisbcook/xgboost).**\n",
    "\n",
    "---\n"
   ]
  },
  {
   "cell_type": "markdown",
   "id": "37cff5bd",
   "metadata": {
    "papermill": {
     "duration": 0.005747,
     "end_time": "2023-02-08T23:36:48.140697",
     "exception": false,
     "start_time": "2023-02-08T23:36:48.134950",
     "status": "completed"
    },
    "tags": []
   },
   "source": [
    "In this exercise, you will use your new knowledge to train a model with **gradient boosting**.\n",
    "\n",
    "# Setup\n",
    "\n",
    "The questions below will give you feedback on your work. Run the following cell to set up the feedback system."
   ]
  },
  {
   "cell_type": "code",
   "execution_count": 1,
   "id": "dbd39d03",
   "metadata": {
    "execution": {
     "iopub.execute_input": "2023-02-08T23:36:48.154583Z",
     "iopub.status.busy": "2023-02-08T23:36:48.153850Z",
     "iopub.status.idle": "2023-02-08T23:36:50.805025Z",
     "shell.execute_reply": "2023-02-08T23:36:50.803312Z"
    },
    "papermill": {
     "duration": 2.6625,
     "end_time": "2023-02-08T23:36:50.809004",
     "exception": false,
     "start_time": "2023-02-08T23:36:48.146504",
     "status": "completed"
    },
    "tags": []
   },
   "outputs": [
    {
     "name": "stdout",
     "output_type": "stream",
     "text": [
      "Setup Complete\n"
     ]
    }
   ],
   "source": [
    "# Set up code checking\n",
    "import os\n",
    "if not os.path.exists(\"../input/train.csv\"):\n",
    "    os.symlink(\"../input/home-data-for-ml-course/train.csv\", \"../input/train.csv\")  \n",
    "    os.symlink(\"../input/home-data-for-ml-course/test.csv\", \"../input/test.csv\") \n",
    "from learntools.core import binder\n",
    "binder.bind(globals())\n",
    "from learntools.ml_intermediate.ex6 import *\n",
    "print(\"Setup Complete\")"
   ]
  },
  {
   "cell_type": "markdown",
   "id": "3ff0c5d2",
   "metadata": {
    "papermill": {
     "duration": 0.005512,
     "end_time": "2023-02-08T23:36:50.820689",
     "exception": false,
     "start_time": "2023-02-08T23:36:50.815177",
     "status": "completed"
    },
    "tags": []
   },
   "source": [
    "You will work with the [Housing Prices Competition for Kaggle Learn Users](https://www.kaggle.com/c/home-data-for-ml-course) dataset from the previous exercise. \n",
    "\n",
    "![Ames Housing dataset image](https://i.imgur.com/lTJVG4e.png)\n",
    "\n",
    "Run the next code cell without changes to load the training and validation sets in `X_train`, `X_valid`, `y_train`, and `y_valid`.  The test set is loaded in `X_test`."
   ]
  },
  {
   "cell_type": "code",
   "execution_count": 2,
   "id": "31068e67",
   "metadata": {
    "execution": {
     "iopub.execute_input": "2023-02-08T23:36:50.835727Z",
     "iopub.status.busy": "2023-02-08T23:36:50.834225Z",
     "iopub.status.idle": "2023-02-08T23:36:51.042631Z",
     "shell.execute_reply": "2023-02-08T23:36:51.041437Z"
    },
    "papermill": {
     "duration": 0.218884,
     "end_time": "2023-02-08T23:36:51.045605",
     "exception": false,
     "start_time": "2023-02-08T23:36:50.826721",
     "status": "completed"
    },
    "tags": []
   },
   "outputs": [],
   "source": [
    "import pandas as pd\n",
    "from sklearn.model_selection import train_test_split\n",
    "\n",
    "# Read the data\n",
    "X = pd.read_csv('../input/train.csv', index_col='Id')\n",
    "X_test_full = pd.read_csv('../input/test.csv', index_col='Id')\n",
    "\n",
    "# Remove rows with missing target, separate target from predictors\n",
    "X.dropna(axis=0, subset=['SalePrice'], inplace=True)\n",
    "y = X.SalePrice              \n",
    "X.drop(['SalePrice'], axis=1, inplace=True)\n",
    "\n",
    "# Break off validation set from training data\n",
    "X_train_full, X_valid_full, y_train, y_valid = train_test_split(X, y, train_size=0.8, test_size=0.2,\n",
    "                                                                random_state=0)\n",
    "\n",
    "# \"Cardinality\" means the number of unique values in a column\n",
    "# Select categorical columns with relatively low cardinality (convenient but arbitrary)\n",
    "low_cardinality_cols = [cname for cname in X_train_full.columns if X_train_full[cname].nunique() < 10 and \n",
    "                        X_train_full[cname].dtype == \"object\"]\n",
    "\n",
    "# Select numeric columns\n",
    "numeric_cols = [cname for cname in X_train_full.columns if X_train_full[cname].dtype in ['int64', 'float64']]\n",
    "\n",
    "# Keep selected columns only\n",
    "my_cols = low_cardinality_cols + numeric_cols\n",
    "X_train = X_train_full[my_cols].copy()\n",
    "X_valid = X_valid_full[my_cols].copy()\n",
    "X_test = X_test_full[my_cols].copy()\n",
    "\n",
    "# One-hot encode the data (to shorten the code, we use pandas)\n",
    "X_train = pd.get_dummies(X_train)\n",
    "X_valid = pd.get_dummies(X_valid)\n",
    "X_test = pd.get_dummies(X_test)\n",
    "X_train, X_valid = X_train.align(X_valid, join='left', axis=1)\n",
    "X_train, X_test = X_train.align(X_test, join='left', axis=1)"
   ]
  },
  {
   "cell_type": "markdown",
   "id": "fc87a59c",
   "metadata": {
    "papermill": {
     "duration": 0.005466,
     "end_time": "2023-02-08T23:36:51.057089",
     "exception": false,
     "start_time": "2023-02-08T23:36:51.051623",
     "status": "completed"
    },
    "tags": []
   },
   "source": [
    "# Step 1: Build model\n",
    "\n",
    "### Part A\n",
    "\n",
    "In this step, you'll build and train your first model with gradient boosting.\n",
    "\n",
    "- Begin by setting `my_model_1` to an XGBoost model.  Use the [XGBRegressor](https://xgboost.readthedocs.io/en/latest/python/python_api.html#xgboost.XGBRegressor) class, and set the random seed to 0 (`random_state=0`).  **Leave all other parameters as default.**\n",
    "- Then, fit the model to the training data in `X_train` and `y_train`."
   ]
  },
  {
   "cell_type": "code",
   "execution_count": 3,
   "id": "02bf2398",
   "metadata": {
    "execution": {
     "iopub.execute_input": "2023-02-08T23:36:51.071005Z",
     "iopub.status.busy": "2023-02-08T23:36:51.070145Z",
     "iopub.status.idle": "2023-02-08T23:36:52.082077Z",
     "shell.execute_reply": "2023-02-08T23:36:52.080310Z"
    },
    "papermill": {
     "duration": 1.022002,
     "end_time": "2023-02-08T23:36:52.084883",
     "exception": false,
     "start_time": "2023-02-08T23:36:51.062881",
     "status": "completed"
    },
    "tags": []
   },
   "outputs": [
    {
     "data": {
      "application/javascript": [
       "parent.postMessage({\"jupyterEvent\": \"custom.exercise_interaction\", \"data\": {\"outcomeType\": 1, \"valueTowardsCompletion\": 0.5, \"interactionType\": 1, \"questionType\": 2, \"questionId\": \"1.1_Model1A\", \"learnToolsVersion\": \"0.3.4\", \"failureMessage\": \"\", \"exceptionClass\": \"\", \"trace\": \"\"}}, \"*\")"
      ],
      "text/plain": [
       "<IPython.core.display.Javascript object>"
      ]
     },
     "metadata": {},
     "output_type": "display_data"
    },
    {
     "data": {
      "text/markdown": [
       "<span style=\"color:#33cc33\">Correct</span>"
      ],
      "text/plain": [
       "Correct"
      ]
     },
     "metadata": {},
     "output_type": "display_data"
    }
   ],
   "source": [
    "from xgboost import XGBRegressor\n",
    "\n",
    "# Define the model\n",
    "my_model_1 = XGBRegressor(random_state=0)\n",
    "\n",
    "# Fit the model\n",
    "my_model_1.fit(X_train, y_train)\n",
    "\n",
    "# Check your answer\n",
    "step_1.a.check()"
   ]
  },
  {
   "cell_type": "code",
   "execution_count": 4,
   "id": "83f74b17",
   "metadata": {
    "execution": {
     "iopub.execute_input": "2023-02-08T23:36:52.099491Z",
     "iopub.status.busy": "2023-02-08T23:36:52.098990Z",
     "iopub.status.idle": "2023-02-08T23:36:52.104807Z",
     "shell.execute_reply": "2023-02-08T23:36:52.103253Z"
    },
    "papermill": {
     "duration": 0.016544,
     "end_time": "2023-02-08T23:36:52.107739",
     "exception": false,
     "start_time": "2023-02-08T23:36:52.091195",
     "status": "completed"
    },
    "tags": []
   },
   "outputs": [],
   "source": [
    "# Lines below will give you a hint or solution code\n",
    "#step_1.a.hint()\n",
    "#step_1.a.solution()"
   ]
  },
  {
   "cell_type": "markdown",
   "id": "e35b139b",
   "metadata": {
    "papermill": {
     "duration": 0.006147,
     "end_time": "2023-02-08T23:36:52.120052",
     "exception": false,
     "start_time": "2023-02-08T23:36:52.113905",
     "status": "completed"
    },
    "tags": []
   },
   "source": [
    "### Part B\n",
    "\n",
    "Set `predictions_1` to the model's predictions for the validation data.  Recall that the validation features are stored in `X_valid`."
   ]
  },
  {
   "cell_type": "code",
   "execution_count": 5,
   "id": "54d750b7",
   "metadata": {
    "execution": {
     "iopub.execute_input": "2023-02-08T23:36:52.134173Z",
     "iopub.status.busy": "2023-02-08T23:36:52.133717Z",
     "iopub.status.idle": "2023-02-08T23:36:52.156773Z",
     "shell.execute_reply": "2023-02-08T23:36:52.155551Z"
    },
    "papermill": {
     "duration": 0.034567,
     "end_time": "2023-02-08T23:36:52.160747",
     "exception": false,
     "start_time": "2023-02-08T23:36:52.126180",
     "status": "completed"
    },
    "tags": []
   },
   "outputs": [
    {
     "data": {
      "application/javascript": [
       "parent.postMessage({\"jupyterEvent\": \"custom.exercise_interaction\", \"data\": {\"outcomeType\": 1, \"valueTowardsCompletion\": 0.5, \"interactionType\": 1, \"questionType\": 2, \"questionId\": \"1.2_Model1B\", \"learnToolsVersion\": \"0.3.4\", \"failureMessage\": \"\", \"exceptionClass\": \"\", \"trace\": \"\"}}, \"*\")"
      ],
      "text/plain": [
       "<IPython.core.display.Javascript object>"
      ]
     },
     "metadata": {},
     "output_type": "display_data"
    },
    {
     "data": {
      "text/markdown": [
       "<span style=\"color:#33cc33\">Correct</span>"
      ],
      "text/plain": [
       "Correct"
      ]
     },
     "metadata": {},
     "output_type": "display_data"
    }
   ],
   "source": [
    "from sklearn.metrics import mean_absolute_error\n",
    "\n",
    "# Get predictions\n",
    "predictions_1 = my_model_1.predict(X_valid)\n",
    "\n",
    "# Check your answer\n",
    "step_1.b.check()"
   ]
  },
  {
   "cell_type": "code",
   "execution_count": 6,
   "id": "83c00885",
   "metadata": {
    "execution": {
     "iopub.execute_input": "2023-02-08T23:36:52.175780Z",
     "iopub.status.busy": "2023-02-08T23:36:52.175287Z",
     "iopub.status.idle": "2023-02-08T23:36:52.179892Z",
     "shell.execute_reply": "2023-02-08T23:36:52.178965Z"
    },
    "papermill": {
     "duration": 0.015001,
     "end_time": "2023-02-08T23:36:52.182196",
     "exception": false,
     "start_time": "2023-02-08T23:36:52.167195",
     "status": "completed"
    },
    "tags": []
   },
   "outputs": [],
   "source": [
    "# Lines below will give you a hint or solution code\n",
    "#step_1.b.hint()\n",
    "#step_1.b.solution()"
   ]
  },
  {
   "cell_type": "markdown",
   "id": "48fbfb49",
   "metadata": {
    "papermill": {
     "duration": 0.006339,
     "end_time": "2023-02-08T23:36:52.195112",
     "exception": false,
     "start_time": "2023-02-08T23:36:52.188773",
     "status": "completed"
    },
    "tags": []
   },
   "source": [
    "### Part C\n",
    "\n",
    "Finally, use the `mean_absolute_error()` function to calculate the mean absolute error (MAE) corresponding to the predictions for the validation set.  Recall that the labels for the validation data are stored in `y_valid`."
   ]
  },
  {
   "cell_type": "code",
   "execution_count": 7,
   "id": "5570f702",
   "metadata": {
    "execution": {
     "iopub.execute_input": "2023-02-08T23:36:52.210233Z",
     "iopub.status.busy": "2023-02-08T23:36:52.209168Z",
     "iopub.status.idle": "2023-02-08T23:36:52.218367Z",
     "shell.execute_reply": "2023-02-08T23:36:52.217489Z"
    },
    "papermill": {
     "duration": 0.019038,
     "end_time": "2023-02-08T23:36:52.220554",
     "exception": false,
     "start_time": "2023-02-08T23:36:52.201516",
     "status": "completed"
    },
    "tags": []
   },
   "outputs": [
    {
     "data": {
      "application/javascript": [
       "parent.postMessage({\"jupyterEvent\": \"custom.exercise_interaction\", \"data\": {\"outcomeType\": 1, \"valueTowardsCompletion\": 0.5, \"interactionType\": 1, \"questionType\": 2, \"questionId\": \"1.3_Model1C\", \"learnToolsVersion\": \"0.3.4\", \"failureMessage\": \"\", \"exceptionClass\": \"\", \"trace\": \"\"}}, \"*\")"
      ],
      "text/plain": [
       "<IPython.core.display.Javascript object>"
      ]
     },
     "metadata": {},
     "output_type": "display_data"
    },
    {
     "data": {
      "text/markdown": [
       "<span style=\"color:#33cc33\">Correct</span>"
      ],
      "text/plain": [
       "Correct"
      ]
     },
     "metadata": {},
     "output_type": "display_data"
    }
   ],
   "source": [
    "# Calculate MAE\n",
    "mae_1 = mean_absolute_error(predictions_1, y_valid)\n",
    "\n",
    "# Uncomment to print MAE\n",
    "# print(\"Mean Absolute Error:\" , mae_1)\n",
    "\n",
    "# Check your answer\n",
    "step_1.c.check()"
   ]
  },
  {
   "cell_type": "code",
   "execution_count": 8,
   "id": "27700d1f",
   "metadata": {
    "execution": {
     "iopub.execute_input": "2023-02-08T23:36:52.236084Z",
     "iopub.status.busy": "2023-02-08T23:36:52.235233Z",
     "iopub.status.idle": "2023-02-08T23:36:52.240702Z",
     "shell.execute_reply": "2023-02-08T23:36:52.239474Z"
    },
    "papermill": {
     "duration": 0.016264,
     "end_time": "2023-02-08T23:36:52.243234",
     "exception": false,
     "start_time": "2023-02-08T23:36:52.226970",
     "status": "completed"
    },
    "tags": []
   },
   "outputs": [],
   "source": [
    "# Lines below will give you a hint or solution code\n",
    "#step_1.c.hint()\n",
    "#step_1.c.solution()"
   ]
  },
  {
   "cell_type": "markdown",
   "id": "c9361114",
   "metadata": {
    "papermill": {
     "duration": 0.007036,
     "end_time": "2023-02-08T23:36:52.256742",
     "exception": false,
     "start_time": "2023-02-08T23:36:52.249706",
     "status": "completed"
    },
    "tags": []
   },
   "source": [
    "# Step 2: Improve the model\n",
    "\n",
    "Now that you've trained a default model as baseline, it's time to tinker with the parameters, to see if you can get better performance!\n",
    "- Begin by setting `my_model_2` to an XGBoost model, using the [XGBRegressor](https://xgboost.readthedocs.io/en/latest/python/python_api.html#xgboost.XGBRegressor) class.  Use what you learned in the previous tutorial to figure out how to change the default parameters (like `n_estimators` and `learning_rate`) to get better results.\n",
    "- Then, fit the model to the training data in `X_train` and `y_train`.\n",
    "- Set `predictions_2` to the model's predictions for the validation data.  Recall that the validation features are stored in `X_valid`.\n",
    "- Finally, use the `mean_absolute_error()` function to calculate the mean absolute error (MAE) corresponding to the predictions on the validation set.  Recall that the labels for the validation data are stored in `y_valid`.\n",
    "\n",
    "In order for this step to be marked correct, your model in `my_model_2` must attain lower MAE than the model in `my_model_1`. "
   ]
  },
  {
   "cell_type": "code",
   "execution_count": 9,
   "id": "6df68cc7",
   "metadata": {
    "execution": {
     "iopub.execute_input": "2023-02-08T23:36:52.271634Z",
     "iopub.status.busy": "2023-02-08T23:36:52.271103Z",
     "iopub.status.idle": "2023-02-08T23:37:01.939689Z",
     "shell.execute_reply": "2023-02-08T23:37:01.938317Z"
    },
    "papermill": {
     "duration": 9.679044,
     "end_time": "2023-02-08T23:37:01.942112",
     "exception": false,
     "start_time": "2023-02-08T23:36:52.263068",
     "status": "completed"
    },
    "tags": []
   },
   "outputs": [
    {
     "name": "stdout",
     "output_type": "stream",
     "text": [
      "Mean Absolute Error: 16688.691513270547\n"
     ]
    },
    {
     "data": {
      "application/javascript": [
       "parent.postMessage({\"jupyterEvent\": \"custom.exercise_interaction\", \"data\": {\"outcomeType\": 1, \"valueTowardsCompletion\": 0.5, \"interactionType\": 1, \"questionType\": 2, \"questionId\": \"2_Model2\", \"learnToolsVersion\": \"0.3.4\", \"failureMessage\": \"\", \"exceptionClass\": \"\", \"trace\": \"\"}}, \"*\")"
      ],
      "text/plain": [
       "<IPython.core.display.Javascript object>"
      ]
     },
     "metadata": {},
     "output_type": "display_data"
    },
    {
     "data": {
      "text/markdown": [
       "<span style=\"color:#33cc33\">Correct</span>"
      ],
      "text/plain": [
       "Correct"
      ]
     },
     "metadata": {},
     "output_type": "display_data"
    }
   ],
   "source": [
    "# Define the model\n",
    "my_model_2 = XGBRegressor(n_estimators=1000, learning_rate=0.05)\n",
    "\n",
    "# Fit the model\n",
    "my_model_2.fit(X_train, y_train)\n",
    "\n",
    "# Get predictions\n",
    "predictions_2 = my_model_2.predict(X_valid)\n",
    "\n",
    "# Calculate MAE\n",
    "mae_2 =  mean_absolute_error(predictions_2, y_valid)\n",
    "print(\"Mean Absolute Error:\" , mae_2)\n",
    "\n",
    "# Uncomment to print MAE\n",
    "# print(\"Mean Absolute Error:\" , mae_2)\n",
    "\n",
    "# Check your answer\n",
    "step_2.check()"
   ]
  },
  {
   "cell_type": "code",
   "execution_count": 10,
   "id": "8725e91a",
   "metadata": {
    "execution": {
     "iopub.execute_input": "2023-02-08T23:37:01.957641Z",
     "iopub.status.busy": "2023-02-08T23:37:01.957160Z",
     "iopub.status.idle": "2023-02-08T23:37:01.962693Z",
     "shell.execute_reply": "2023-02-08T23:37:01.961456Z"
    },
    "papermill": {
     "duration": 0.016472,
     "end_time": "2023-02-08T23:37:01.965358",
     "exception": false,
     "start_time": "2023-02-08T23:37:01.948886",
     "status": "completed"
    },
    "tags": []
   },
   "outputs": [],
   "source": [
    "# Lines below will give you a hint or solution code\n",
    "#step_2.hint()\n",
    "#step_2.solution()"
   ]
  },
  {
   "cell_type": "markdown",
   "id": "f27907a1",
   "metadata": {
    "papermill": {
     "duration": 0.006341,
     "end_time": "2023-02-08T23:37:01.978436",
     "exception": false,
     "start_time": "2023-02-08T23:37:01.972095",
     "status": "completed"
    },
    "tags": []
   },
   "source": [
    "# Step 3: Break the model\n",
    "\n",
    "In this step, you will create a model that performs worse than the original model in Step 1.  This will help you to develop your intuition for how to set parameters.  You might even find that you accidentally get better performance, which is ultimately a nice problem to have and a valuable learning experience!\n",
    "- Begin by setting `my_model_3` to an XGBoost model, using the [XGBRegressor](https://xgboost.readthedocs.io/en/latest/python/python_api.html#xgboost.XGBRegressor) class.  Use what you learned in the previous tutorial to figure out how to change the default parameters (like `n_estimators` and `learning_rate`) to design a model to get high MAE.\n",
    "- Then, fit the model to the training data in `X_train` and `y_train`.\n",
    "- Set `predictions_3` to the model's predictions for the validation data.  Recall that the validation features are stored in `X_valid`.\n",
    "- Finally, use the `mean_absolute_error()` function to calculate the mean absolute error (MAE) corresponding to the predictions on the validation set.  Recall that the labels for the validation data are stored in `y_valid`.\n",
    "\n",
    "In order for this step to be marked correct, your model in `my_model_3` must attain higher MAE than the model in `my_model_1`. "
   ]
  },
  {
   "cell_type": "code",
   "execution_count": 11,
   "id": "c4e2ba69",
   "metadata": {
    "execution": {
     "iopub.execute_input": "2023-02-08T23:37:01.993899Z",
     "iopub.status.busy": "2023-02-08T23:37:01.993343Z",
     "iopub.status.idle": "2023-02-08T23:37:02.064154Z",
     "shell.execute_reply": "2023-02-08T23:37:02.062864Z"
    },
    "papermill": {
     "duration": 0.08192,
     "end_time": "2023-02-08T23:37:02.066909",
     "exception": false,
     "start_time": "2023-02-08T23:37:01.984989",
     "status": "completed"
    },
    "tags": []
   },
   "outputs": [
    {
     "name": "stdout",
     "output_type": "stream",
     "text": [
      "Mean Absolute Error: 127895.0828807256\n"
     ]
    },
    {
     "data": {
      "application/javascript": [
       "parent.postMessage({\"jupyterEvent\": \"custom.exercise_interaction\", \"data\": {\"outcomeType\": 1, \"valueTowardsCompletion\": 0.5, \"interactionType\": 1, \"questionType\": 2, \"questionId\": \"3_Model3\", \"learnToolsVersion\": \"0.3.4\", \"failureMessage\": \"\", \"exceptionClass\": \"\", \"trace\": \"\"}}, \"*\")"
      ],
      "text/plain": [
       "<IPython.core.display.Javascript object>"
      ]
     },
     "metadata": {},
     "output_type": "display_data"
    },
    {
     "data": {
      "text/markdown": [
       "<span style=\"color:#33cc33\">Correct</span>"
      ],
      "text/plain": [
       "Correct"
      ]
     },
     "metadata": {},
     "output_type": "display_data"
    }
   ],
   "source": [
    "# Define the model\n",
    "my_model_3 = XGBRegressor(n_estimators=1)\n",
    "\n",
    "# Fit the model\n",
    "my_model_3.fit(X_train, y_train)\n",
    "\n",
    "# Get predictions\n",
    "predictions_3 = my_model_3.predict(X_valid)\n",
    "\n",
    "# Calculate MAE\n",
    "mae_3 = mean_absolute_error(predictions_3, y_valid)\n",
    "print(\"Mean Absolute Error:\" , mae_3)\n",
    "\n",
    "# Uncomment to print MAE\n",
    "# print(\"Mean Absolute Error:\" , mae_3)\n",
    "\n",
    "# Check your answer\n",
    "step_3.check()"
   ]
  },
  {
   "cell_type": "code",
   "execution_count": 12,
   "id": "565bb76a",
   "metadata": {
    "execution": {
     "iopub.execute_input": "2023-02-08T23:37:02.083946Z",
     "iopub.status.busy": "2023-02-08T23:37:02.082497Z",
     "iopub.status.idle": "2023-02-08T23:37:02.088195Z",
     "shell.execute_reply": "2023-02-08T23:37:02.087211Z"
    },
    "papermill": {
     "duration": 0.016751,
     "end_time": "2023-02-08T23:37:02.090721",
     "exception": false,
     "start_time": "2023-02-08T23:37:02.073970",
     "status": "completed"
    },
    "tags": []
   },
   "outputs": [],
   "source": [
    "# Lines below will give you a hint or solution code\n",
    "#step_3.hint()\n",
    "#step_3.solution()"
   ]
  },
  {
   "cell_type": "markdown",
   "id": "f1927767",
   "metadata": {
    "papermill": {
     "duration": 0.006606,
     "end_time": "2023-02-08T23:37:02.104338",
     "exception": false,
     "start_time": "2023-02-08T23:37:02.097732",
     "status": "completed"
    },
    "tags": []
   },
   "source": [
    "# Keep going\n",
    "\n",
    "Continue to learn about **[data leakage](https://www.kaggle.com/alexisbcook/data-leakage)**.  This is an important issue for a data scientist to understand, and it has the potential to ruin your models in subtle and dangerous ways!"
   ]
  },
  {
   "cell_type": "markdown",
   "id": "912cdc51",
   "metadata": {
    "papermill": {
     "duration": 0.006608,
     "end_time": "2023-02-08T23:37:02.117747",
     "exception": false,
     "start_time": "2023-02-08T23:37:02.111139",
     "status": "completed"
    },
    "tags": []
   },
   "source": [
    "---\n",
    "\n",
    "\n",
    "\n",
    "\n",
    "*Have questions or comments? Visit the [course discussion forum](https://www.kaggle.com/learn/intermediate-machine-learning/discussion) to chat with other learners.*"
   ]
  }
 ],
 "metadata": {
  "kernelspec": {
   "display_name": "Python 3",
   "language": "python",
   "name": "python3"
  },
  "language_info": {
   "codemirror_mode": {
    "name": "ipython",
    "version": 3
   },
   "file_extension": ".py",
   "mimetype": "text/x-python",
   "name": "python",
   "nbconvert_exporter": "python",
   "pygments_lexer": "ipython3",
   "version": "3.7.12"
  },
  "papermill": {
   "default_parameters": {},
   "duration": 24.398601,
   "end_time": "2023-02-08T23:37:03.150821",
   "environment_variables": {},
   "exception": null,
   "input_path": "__notebook__.ipynb",
   "output_path": "__notebook__.ipynb",
   "parameters": {},
   "start_time": "2023-02-08T23:36:38.752220",
   "version": "2.3.4"
  }
 },
 "nbformat": 4,
 "nbformat_minor": 5
}
