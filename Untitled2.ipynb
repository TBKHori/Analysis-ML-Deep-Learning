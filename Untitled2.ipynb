{
  "nbformat": 4,
  "nbformat_minor": 0,
  "metadata": {
    "colab": {
      "provenance": [],
      "authorship_tag": "ABX9TyN5DzgIHhblUIwE1EEgQ2nu"
    },
    "kernelspec": {
      "name": "python3",
      "display_name": "Python 3"
    },
    "language_info": {
      "name": "python"
    }
  },
  "cells": [
    {
      "cell_type": "code",
      "execution_count": 2,
      "metadata": {
        "colab": {
          "base_uri": "https://localhost:8080/"
        },
        "id": "DuOY-xXNdc-q",
        "outputId": "7701cd83-f7db-4b6c-e9df-49af84287664"
      },
      "outputs": [
        {
          "output_type": "stream",
          "name": "stdout",
          "text": [
            "\u001b[2K     \u001b[90m━━━━━━━━━━━━━━━━━━━━━━━━━━━━━━━━━━━━━━━\u001b[0m \u001b[32m719.8/719.8 kB\u001b[0m \u001b[31m5.9 MB/s\u001b[0m eta \u001b[36m0:00:00\u001b[0m\n",
            "\u001b[2K     \u001b[90m━━━━━━━━━━━━━━━━━━━━━━━━━━━━━━━━━━━━━━━━\u001b[0m \u001b[32m7.5/7.5 MB\u001b[0m \u001b[31m19.4 MB/s\u001b[0m eta \u001b[36m0:00:00\u001b[0m\n",
            "\u001b[2K     \u001b[90m━━━━━━━━━━━━━━━━━━━━━━━━━━━━━━━━━━━━━━\u001b[0m \u001b[32m519.3/519.3 kB\u001b[0m \u001b[31m28.0 MB/s\u001b[0m eta \u001b[36m0:00:00\u001b[0m\n",
            "\u001b[2K     \u001b[90m━━━━━━━━━━━━━━━━━━━━━━━━━━━━━━━━━━━━━━━━\u001b[0m \u001b[32m1.3/1.3 MB\u001b[0m \u001b[31m35.3 MB/s\u001b[0m eta \u001b[36m0:00:00\u001b[0m\n",
            "\u001b[2K     \u001b[90m━━━━━━━━━━━━━━━━━━━━━━━━━━━━━━━━━━━━━━\u001b[0m \u001b[32m115.3/115.3 kB\u001b[0m \u001b[31m10.5 MB/s\u001b[0m eta \u001b[36m0:00:00\u001b[0m\n",
            "\u001b[2K     \u001b[90m━━━━━━━━━━━━━━━━━━━━━━━━━━━━━━━━━━━━━━\u001b[0m \u001b[32m194.1/194.1 kB\u001b[0m \u001b[31m16.4 MB/s\u001b[0m eta \u001b[36m0:00:00\u001b[0m\n",
            "\u001b[2K     \u001b[90m━━━━━━━━━━━━━━━━━━━━━━━━━━━━━━━━━━━━━━\u001b[0m \u001b[32m134.8/134.8 kB\u001b[0m \u001b[31m14.5 MB/s\u001b[0m eta \u001b[36m0:00:00\u001b[0m\n",
            "\u001b[2K     \u001b[90m━━━━━━━━━━━━━━━━━━━━━━━━━━━━━━━━━━━━━━\u001b[0m \u001b[32m268.8/268.8 kB\u001b[0m \u001b[31m27.5 MB/s\u001b[0m eta \u001b[36m0:00:00\u001b[0m\n",
            "\u001b[2K     \u001b[90m━━━━━━━━━━━━━━━━━━━━━━━━━━━━━━━━━━━━━━━━\u001b[0m \u001b[32m7.8/7.8 MB\u001b[0m \u001b[31m45.9 MB/s\u001b[0m eta \u001b[36m0:00:00\u001b[0m\n",
            "\u001b[2K     \u001b[90m━━━━━━━━━━━━━━━━━━━━━━━━━━━━━━━━━━━━━━━━\u001b[0m \u001b[32m1.3/1.3 MB\u001b[0m \u001b[31m50.7 MB/s\u001b[0m eta \u001b[36m0:00:00\u001b[0m\n",
            "\u001b[2K     \u001b[90m━━━━━━━━━━━━━━━━━━━━━━━━━━━━━━━━━━━━━━━━\u001b[0m \u001b[32m1.6/1.6 MB\u001b[0m \u001b[31m57.3 MB/s\u001b[0m eta \u001b[36m0:00:00\u001b[0m\n",
            "\u001b[?25hMounted at /content/gdrive\n"
          ]
        }
      ],
      "source": [
        "! [ -e /content ] && pip install -Uqq fastbook\n",
        "import fastbook\n",
        "fastbook.setup_book()"
      ]
    },
    {
      "cell_type": "code",
      "source": [
        "from fastai.vision.all import *\n",
        "from fastbook import *\n",
        "\n",
        "matplotlib.rc('image', cmap='Greys')\n",
        "\n"
      ],
      "metadata": {
        "id": "REsutiurdfDs"
      },
      "execution_count": 3,
      "outputs": []
    },
    {
      "cell_type": "code",
      "source": [
        "path = untar_data(URLs.MNIST_SAMPLE)\n"
      ],
      "metadata": {
        "colab": {
          "base_uri": "https://localhost:8080/",
          "height": 37
        },
        "id": "GK2WJXIodmv_",
        "outputId": "f2034174-dc17-4c84-8025-e51cbd5852fa"
      },
      "execution_count": 4,
      "outputs": [
        {
          "output_type": "display_data",
          "data": {
            "text/plain": [
              "<IPython.core.display.HTML object>"
            ],
            "text/html": [
              "\n",
              "<style>\n",
              "    /* Turns off some styling */\n",
              "    progress {\n",
              "        /* gets rid of default border in Firefox and Opera. */\n",
              "        border: none;\n",
              "        /* Needs to be in here for Safari polyfill so background images work as expected. */\n",
              "        background-size: auto;\n",
              "    }\n",
              "    progress:not([value]), progress:not([value])::-webkit-progress-bar {\n",
              "        background: repeating-linear-gradient(45deg, #7e7e7e, #7e7e7e 10px, #5c5c5c 10px, #5c5c5c 20px);\n",
              "    }\n",
              "    .progress-bar-interrupted, .progress-bar-interrupted::-webkit-progress-bar {\n",
              "        background: #F44336;\n",
              "    }\n",
              "</style>\n"
            ]
          },
          "metadata": {}
        },
        {
          "output_type": "display_data",
          "data": {
            "text/plain": [
              "<IPython.core.display.HTML object>"
            ],
            "text/html": [
              "\n",
              "    <div>\n",
              "      <progress value='3219456' class='' max='3214948' style='width:300px; height:20px; vertical-align: middle;'></progress>\n",
              "      100.14% [3219456/3214948 00:00&lt;00:00]\n",
              "    </div>\n",
              "    "
            ]
          },
          "metadata": {}
        }
      ]
    },
    {
      "cell_type": "code",
      "source": [
        "Path.BASE_PATH = path"
      ],
      "metadata": {
        "id": "nRLc1ekAdspB"
      },
      "execution_count": 7,
      "outputs": []
    },
    {
      "cell_type": "code",
      "source": [
        "(path/'train').ls()"
      ],
      "metadata": {
        "colab": {
          "base_uri": "https://localhost:8080/"
        },
        "id": "bIrjjtHmduIh",
        "outputId": "46566102-3b27-4029-9985-a4992ec7d0bc"
      },
      "execution_count": 8,
      "outputs": [
        {
          "output_type": "execute_result",
          "data": {
            "text/plain": [
              "(#2) [Path('train/7'),Path('train/3')]"
            ]
          },
          "metadata": {},
          "execution_count": 8
        }
      ]
    },
    {
      "cell_type": "code",
      "source": [
        "threes = (path/'train'/'3').ls().sorted()\n",
        "sevens = (path/'train'/'7').ls().sorted()\n",
        "threes"
      ],
      "metadata": {
        "colab": {
          "base_uri": "https://localhost:8080/"
        },
        "id": "geGIfUNZeNZF",
        "outputId": "e6a0e5f6-1a63-4600-a6f7-83e745e0996d"
      },
      "execution_count": 9,
      "outputs": [
        {
          "output_type": "execute_result",
          "data": {
            "text/plain": [
              "(#6131) [Path('train/3/10.png'),Path('train/3/10000.png'),Path('train/3/10011.png'),Path('train/3/10031.png'),Path('train/3/10034.png'),Path('train/3/10042.png'),Path('train/3/10052.png'),Path('train/3/1007.png'),Path('train/3/10074.png'),Path('train/3/10091.png')...]"
            ]
          },
          "metadata": {},
          "execution_count": 9
        }
      ]
    },
    {
      "cell_type": "code",
      "source": [
        "\n",
        "im3_path = threes[1]\n",
        "im3 = Image.open(im3_path)\n",
        "im3\n"
      ],
      "metadata": {
        "colab": {
          "base_uri": "https://localhost:8080/",
          "height": 45
        },
        "id": "-gmX99CBeQrV",
        "outputId": "015ddde7-cdf9-448b-8d99-08308d9613b8"
      },
      "execution_count": 10,
      "outputs": [
        {
          "output_type": "execute_result",
          "data": {
            "text/plain": [
              "<PIL.PngImagePlugin.PngImageFile image mode=L size=28x28>"
            ],
            "image/png": "[encoded data removed]"
          },
          "metadata": {},
          "execution_count": 10
        }
      ]
    },
    {
      "cell_type": "code",
      "source": [
        "array(im3)[4:10,4:10]"
      ],
      "metadata": {
        "colab": {
          "base_uri": "https://localhost:8080/"
        },
        "id": "-h1vwuYueTPI",
        "outputId": "9302db9d-7d3d-471c-d24a-d210674ab8b6"
      },
      "execution_count": 11,
      "outputs": [
        {
          "output_type": "execute_result",
          "data": {
            "text/plain": [
              "array([[  0,   0,   0,   0,   0,   0],\n",
              "       [  0,   0,   0,   0,   0,  29],\n",
              "       [  0,   0,   0,  48, 166, 224],\n",
              "       [  0,  93, 244, 249, 253, 187],\n",
              "       [  0, 107, 253, 253, 230,  48],\n",
              "       [  0,   3,  20,  20,  15,   0]], dtype=uint8)"
            ]
          },
          "metadata": {},
          "execution_count": 11
        }
      ]
    },
    {
      "cell_type": "code",
      "source": [
        "tensor(im3)[4:10,4:10]"
      ],
      "metadata": {
        "colab": {
          "base_uri": "https://localhost:8080/"
        },
        "id": "imiYnCu0Ks1g",
        "outputId": "81ed485e-b32f-42b7-d104-d215181cd406"
      },
      "execution_count": 12,
      "outputs": [
        {
          "output_type": "execute_result",
          "data": {
            "text/plain": [
              "tensor([[  0,   0,   0,   0,   0,   0],\n",
              "        [  0,   0,   0,   0,   0,  29],\n",
              "        [  0,   0,   0,  48, 166, 224],\n",
              "        [  0,  93, 244, 249, 253, 187],\n",
              "        [  0, 107, 253, 253, 230,  48],\n",
              "        [  0,   3,  20,  20,  15,   0]], dtype=torch.uint8)"
            ]
          },
          "metadata": {},
          "execution_count": 12
        }
      ]
    },
    {
      "cell_type": "code",
      "source": [
        "im3_t = tensor(im3)\n",
        "df = pd.DataFrame(im3_t[4:15,4:22])\n",
        "df.style.set_properties(**{'font-size':'6pt'}).background_gradient('Greys')"
      ],
      "metadata": {
        "colab": {
          "base_uri": "https://localhost:8080/",
          "height": 394
        },
        "id": "g86KZxJrK2Rl",
        "outputId": "723140f2-774a-4ed2-8d26-33d602ddf3f0"
      },
      "execution_count": 13,
      "outputs": [
        {
          "output_type": "execute_result",
          "data": {
            "text/plain": [
              "<pandas.io.formats.style.Styler at 0x783674d7be80>"
            ],
            "text/html": [
              "<style type=\"text/css\">\n",
              "#T_1a46f_row0_col0, #T_1a46f_row0_col1, #T_1a46f_row0_col2, #T_1a46f_row0_col3, #T_1a46f_row0_col4, #T_1a46f_row0_col5, #T_1a46f_row0_col6, #T_1a46f_row0_col7, #T_1a46f_row0_col8, #T_1a46f_row0_col9, #T_1a46f_row0_col10, #T_1a46f_row0_col11, #T_1a46f_row0_col12, #T_1a46f_row0_col13, #T_1a46f_row0_col14, #T_1a46f_row0_col15, #T_1a46f_row0_col16, #T_1a46f_row0_col17, #T_1a46f_row1_col0, #T_1a46f_row1_col1, #T_1a46f_row1_col2, #T_1a46f_row1_col3, #T_1a46f_row1_col4, #T_1a46f_row1_col15, #T_1a46f_row1_col16, #T_1a46f_row1_col17, #T_1a46f_row2_col0, #T_1a46f_row2_col1, #T_1a46f_row2_col2, #T_1a46f_row2_col15, #T_1a46f_row2_col16, #T_1a46f_row2_col17, #T_1a46f_row3_col0, #T_1a46f_row3_col15, #T_1a46f_row3_col16, #T_1a46f_row3_col17, #T_1a46f_row4_col0, #T_1a46f_row4_col6, #T_1a46f_row4_col7, #T_1a46f_row4_col8, #T_1a46f_row4_col9, #T_1a46f_row4_col10, #T_1a46f_row4_col15, #T_1a46f_row4_col16, #T_1a46f_row4_col17, #T_1a46f_row5_col0, #T_1a46f_row5_col5, #T_1a46f_row5_col6, #T_1a46f_row5_col7, #T_1a46f_row5_col8, #T_1a46f_row5_col9, #T_1a46f_row5_col15, #T_1a46f_row5_col16, #T_1a46f_row5_col17, #T_1a46f_row6_col0, #T_1a46f_row6_col1, #T_1a46f_row6_col2, #T_1a46f_row6_col3, #T_1a46f_row6_col4, #T_1a46f_row6_col5, #T_1a46f_row6_col6, #T_1a46f_row6_col7, #T_1a46f_row6_col8, #T_1a46f_row6_col9, #T_1a46f_row6_col14, #T_1a46f_row6_col15, #T_1a46f_row6_col16, #T_1a46f_row6_col17, #T_1a46f_row7_col0, #T_1a46f_row7_col1, #T_1a46f_row7_col2, #T_1a46f_row7_col3, #T_1a46f_row7_col4, #T_1a46f_row7_col5, #T_1a46f_row7_col6, #T_1a46f_row7_col13, #T_1a46f_row7_col14, #T_1a46f_row7_col15, #T_1a46f_row7_col16, #T_1a46f_row7_col17, #T_1a46f_row8_col0, #T_1a46f_row8_col1, #T_1a46f_row8_col2, #T_1a46f_row8_col3, #T_1a46f_row8_col4, #T_1a46f_row8_col13, #T_1a46f_row8_col14, #T_1a46f_row8_col15, #T_1a46f_row8_col16, #T_1a46f_row8_col17, #T_1a46f_row9_col0, #T_1a46f_row9_col1, #T_1a46f_row9_col2, #T_1a46f_row9_col3, #T_1a46f_row9_col4, #T_1a46f_row9_col16, #T_1a46f_row9_col17, #T_1a46f_row10_col0, #T_1a46f_row10_col1, #T_1a46f_row10_col2, #T_1a46f_row10_col3, #T_1a46f_row10_col4, #T_1a46f_row10_col5, #T_1a46f_row10_col6, #T_1a46f_row10_col17 {\n",
              "  font-size: 6pt;\n",
              "  background-color: #ffffff;\n",
              "  color: #000000;\n",
              "}\n",
              "#T_1a46f_row1_col5 {\n",
              "  font-size: 6pt;\n",
              "  background-color: #efefef;\n",
              "  color: #000000;\n",
              "}\n",
              "#T_1a46f_row1_col6, #T_1a46f_row1_col13 {\n",
              "  font-size: 6pt;\n",
              "  background-color: #7c7c7c;\n",
              "  color: #f1f1f1;\n",
              "}\n",
              "#T_1a46f_row1_col7 {\n",
              "  font-size: 6pt;\n",
              "  background-color: #4a4a4a;\n",
              "  color: #f1f1f1;\n",
              "}\n",
              "#T_1a46f_row1_col8, #T_1a46f_row1_col9, #T_1a46f_row1_col10, #T_1a46f_row2_col5, #T_1a46f_row2_col6, #T_1a46f_row2_col7, #T_1a46f_row2_col11, #T_1a46f_row2_col12, #T_1a46f_row2_col13, #T_1a46f_row3_col4, #T_1a46f_row3_col12, #T_1a46f_row3_col13, #T_1a46f_row4_col1, #T_1a46f_row4_col2, #T_1a46f_row4_col3, #T_1a46f_row4_col12, #T_1a46f_row4_col13, #T_1a46f_row5_col12, #T_1a46f_row6_col11, #T_1a46f_row9_col11, #T_1a46f_row10_col11, #T_1a46f_row10_col12, #T_1a46f_row10_col13, #T_1a46f_row10_col14, #T_1a46f_row10_col15, #T_1a46f_row10_col16 {\n",
              "  font-size: 6pt;\n",
              "  background-color: #000000;\n",
              "  color: #f1f1f1;\n",
              "}\n",
              "#T_1a46f_row1_col11 {\n",
              "  font-size: 6pt;\n",
              "  background-color: #606060;\n",
              "  color: #f1f1f1;\n",
              "}\n",
              "#T_1a46f_row1_col12 {\n",
              "  font-size: 6pt;\n",
              "  background-color: #4d4d4d;\n",
              "  color: #f1f1f1;\n",
              "}\n",
              "#T_1a46f_row1_col14 {\n",
              "  font-size: 6pt;\n",
              "  background-color: #bbbbbb;\n",
              "  color: #000000;\n",
              "}\n",
              "#T_1a46f_row2_col3 {\n",
              "  font-size: 6pt;\n",
              "  background-color: #e4e4e4;\n",
              "  color: #000000;\n",
              "}\n",
              "#T_1a46f_row2_col4, #T_1a46f_row8_col6 {\n",
              "  font-size: 6pt;\n",
              "  background-color: #6b6b6b;\n",
              "  color: #f1f1f1;\n",
              "}\n",
              "#T_1a46f_row2_col8, #T_1a46f_row2_col14, #T_1a46f_row3_col14 {\n",
              "  font-size: 6pt;\n",
              "  background-color: #171717;\n",
              "  color: #f1f1f1;\n",
              "}\n",
              "#T_1a46f_row2_col9, #T_1a46f_row3_col11 {\n",
              "  font-size: 6pt;\n",
              "  background-color: #4b4b4b;\n",
              "  color: #f1f1f1;\n",
              "}\n",
              "#T_1a46f_row2_col10, #T_1a46f_row7_col10, #T_1a46f_row8_col8, #T_1a46f_row8_col10, #T_1a46f_row9_col8, #T_1a46f_row9_col10 {\n",
              "  font-size: 6pt;\n",
              "  background-color: #010101;\n",
              "  color: #f1f1f1;\n",
              "}\n",
              "#T_1a46f_row3_col1 {\n",
              "  font-size: 6pt;\n",
              "  background-color: #272727;\n",
              "  color: #f1f1f1;\n",
              "}\n",
              "#T_1a46f_row3_col2 {\n",
              "  font-size: 6pt;\n",
              "  background-color: #0a0a0a;\n",
              "  color: #f1f1f1;\n",
              "}\n",
              "#T_1a46f_row3_col3 {\n",
              "  font-size: 6pt;\n",
              "  background-color: #050505;\n",
              "  color: #f1f1f1;\n",
              "}\n",
              "#T_1a46f_row3_col5 {\n",
              "  font-size: 6pt;\n",
              "  background-color: #333333;\n",
              "  color: #f1f1f1;\n",
              "}\n",
              "#T_1a46f_row3_col6 {\n",
              "  font-size: 6pt;\n",
              "  background-color: #e6e6e6;\n",
              "  color: #000000;\n",
              "}\n",
              "#T_1a46f_row3_col7, #T_1a46f_row3_col10 {\n",
              "  font-size: 6pt;\n",
              "  background-color: #fafafa;\n",
              "  color: #000000;\n",
              "}\n",
              "#T_1a46f_row3_col8 {\n",
              "  font-size: 6pt;\n",
              "  background-color: #fbfbfb;\n",
              "  color: #000000;\n",
              "}\n",
              "#T_1a46f_row3_col9 {\n",
              "  font-size: 6pt;\n",
              "  background-color: #fdfdfd;\n",
              "  color: #000000;\n",
              "}\n",
              "#T_1a46f_row4_col4 {\n",
              "  font-size: 6pt;\n",
              "  background-color: #1b1b1b;\n",
              "  color: #f1f1f1;\n",
              "}\n",
              "#T_1a46f_row4_col5 {\n",
              "  font-size: 6pt;\n",
              "  background-color: #e0e0e0;\n",
              "  color: #000000;\n",
              "}\n",
              "#T_1a46f_row4_col11 {\n",
              "  font-size: 6pt;\n",
              "  background-color: #4e4e4e;\n",
              "  color: #f1f1f1;\n",
              "}\n",
              "#T_1a46f_row4_col14 {\n",
              "  font-size: 6pt;\n",
              "  background-color: #767676;\n",
              "  color: #f1f1f1;\n",
              "}\n",
              "#T_1a46f_row5_col1 {\n",
              "  font-size: 6pt;\n",
              "  background-color: #fcfcfc;\n",
              "  color: #000000;\n",
              "}\n",
              "#T_1a46f_row5_col2, #T_1a46f_row5_col3 {\n",
              "  font-size: 6pt;\n",
              "  background-color: #f6f6f6;\n",
              "  color: #000000;\n",
              "}\n",
              "#T_1a46f_row5_col4, #T_1a46f_row7_col7 {\n",
              "  font-size: 6pt;\n",
              "  background-color: #f8f8f8;\n",
              "  color: #000000;\n",
              "}\n",
              "#T_1a46f_row5_col10, #T_1a46f_row10_col7 {\n",
              "  font-size: 6pt;\n",
              "  background-color: #e8e8e8;\n",
              "  color: #000000;\n",
              "}\n",
              "#T_1a46f_row5_col11 {\n",
              "  font-size: 6pt;\n",
              "  background-color: #222222;\n",
              "  color: #f1f1f1;\n",
              "}\n",
              "#T_1a46f_row5_col13, #T_1a46f_row6_col12 {\n",
              "  font-size: 6pt;\n",
              "  background-color: #090909;\n",
              "  color: #f1f1f1;\n",
              "}\n",
              "#T_1a46f_row5_col14 {\n",
              "  font-size: 6pt;\n",
              "  background-color: #d0d0d0;\n",
              "  color: #000000;\n",
              "}\n",
              "#T_1a46f_row6_col10, #T_1a46f_row7_col11, #T_1a46f_row9_col6 {\n",
              "  font-size: 6pt;\n",
              "  background-color: #060606;\n",
              "  color: #f1f1f1;\n",
              "}\n",
              "#T_1a46f_row6_col13 {\n",
              "  font-size: 6pt;\n",
              "  background-color: #979797;\n",
              "  color: #f1f1f1;\n",
              "}\n",
              "#T_1a46f_row7_col8 {\n",
              "  font-size: 6pt;\n",
              "  background-color: #b6b6b6;\n",
              "  color: #000000;\n",
              "}\n",
              "#T_1a46f_row7_col9 {\n",
              "  font-size: 6pt;\n",
              "  background-color: #252525;\n",
              "  color: #f1f1f1;\n",
              "}\n",
              "#T_1a46f_row7_col12 {\n",
              "  font-size: 6pt;\n",
              "  background-color: #999999;\n",
              "  color: #f1f1f1;\n",
              "}\n",
              "#T_1a46f_row8_col5 {\n",
              "  font-size: 6pt;\n",
              "  background-color: #f9f9f9;\n",
              "  color: #000000;\n",
              "}\n",
              "#T_1a46f_row8_col7 {\n",
              "  font-size: 6pt;\n",
              "  background-color: #101010;\n",
              "  color: #f1f1f1;\n",
              "}\n",
              "#T_1a46f_row8_col9, #T_1a46f_row9_col9 {\n",
              "  font-size: 6pt;\n",
              "  background-color: #020202;\n",
              "  color: #f1f1f1;\n",
              "}\n",
              "#T_1a46f_row8_col11 {\n",
              "  font-size: 6pt;\n",
              "  background-color: #545454;\n",
              "  color: #f1f1f1;\n",
              "}\n",
              "#T_1a46f_row8_col12 {\n",
              "  font-size: 6pt;\n",
              "  background-color: #f1f1f1;\n",
              "  color: #000000;\n",
              "}\n",
              "#T_1a46f_row9_col5 {\n",
              "  font-size: 6pt;\n",
              "  background-color: #f7f7f7;\n",
              "  color: #000000;\n",
              "}\n",
              "#T_1a46f_row9_col7 {\n",
              "  font-size: 6pt;\n",
              "  background-color: #030303;\n",
              "  color: #f1f1f1;\n",
              "}\n",
              "#T_1a46f_row9_col12 {\n",
              "  font-size: 6pt;\n",
              "  background-color: #181818;\n",
              "  color: #f1f1f1;\n",
              "}\n",
              "#T_1a46f_row9_col13 {\n",
              "  font-size: 6pt;\n",
              "  background-color: #303030;\n",
              "  color: #f1f1f1;\n",
              "}\n",
              "#T_1a46f_row9_col14 {\n",
              "  font-size: 6pt;\n",
              "  background-color: #a9a9a9;\n",
              "  color: #f1f1f1;\n",
              "}\n",
              "#T_1a46f_row9_col15 {\n",
              "  font-size: 6pt;\n",
              "  background-color: #fefefe;\n",
              "  color: #000000;\n",
              "}\n",
              "#T_1a46f_row10_col8, #T_1a46f_row10_col9 {\n",
              "  font-size: 6pt;\n",
              "  background-color: #bababa;\n",
              "  color: #000000;\n",
              "}\n",
              "#T_1a46f_row10_col10 {\n",
              "  font-size: 6pt;\n",
              "  background-color: #393939;\n",
              "  color: #f1f1f1;\n",
              "}\n",
              "</style>\n",
              "<table id=\"T_1a46f\" class=\"dataframe\">\n",
              "  <thead>\n",
              "    <tr>\n",
              "      <th class=\"blank level0\" >&nbsp;</th>\n",
              "      <th id=\"T_1a46f_level0_col0\" class=\"col_heading level0 col0\" >0</th>\n",
              "      <th id=\"T_1a46f_level0_col1\" class=\"col_heading level0 col1\" >1</th>\n",
              "      <th id=\"T_1a46f_level0_col2\" class=\"col_heading level0 col2\" >2</th>\n",
              "      <th id=\"T_1a46f_level0_col3\" class=\"col_heading level0 col3\" >3</th>\n",
              "      <th id=\"T_1a46f_level0_col4\" class=\"col_heading level0 col4\" >4</th>\n",
              "      <th id=\"T_1a46f_level0_col5\" class=\"col_heading level0 col5\" >5</th>\n",
              "      <th id=\"T_1a46f_level0_col6\" class=\"col_heading level0 col6\" >6</th>\n",
              "      <th id=\"T_1a46f_level0_col7\" class=\"col_heading level0 col7\" >7</th>\n",
              "      <th id=\"T_1a46f_level0_col8\" class=\"col_heading level0 col8\" >8</th>\n",
              "      <th id=\"T_1a46f_level0_col9\" class=\"col_heading level0 col9\" >9</th>\n",
              "      <th id=\"T_1a46f_level0_col10\" class=\"col_heading level0 col10\" >10</th>\n",
              "      <th id=\"T_1a46f_level0_col11\" class=\"col_heading level0 col11\" >11</th>\n",
              "      <th id=\"T_1a46f_level0_col12\" class=\"col_heading level0 col12\" >12</th>\n",
              "      <th id=\"T_1a46f_level0_col13\" class=\"col_heading level0 col13\" >13</th>\n",
              "      <th id=\"T_1a46f_level0_col14\" class=\"col_heading level0 col14\" >14</th>\n",
              "      <th id=\"T_1a46f_level0_col15\" class=\"col_heading level0 col15\" >15</th>\n",
              "      <th id=\"T_1a46f_level0_col16\" class=\"col_heading level0 col16\" >16</th>\n",
              "      <th id=\"T_1a46f_level0_col17\" class=\"col_heading level0 col17\" >17</th>\n",
              "    </tr>\n",
              "  </thead>\n",
              "  <tbody>\n",
              "    <tr>\n",
              "      <th id=\"T_1a46f_level0_row0\" class=\"row_heading level0 row0\" >0</th>\n",
              "      <td id=\"T_1a46f_row0_col0\" class=\"data row0 col0\" >0</td>\n",
              "      <td id=\"T_1a46f_row0_col1\" class=\"data row0 col1\" >0</td>\n",
              "      <td id=\"T_1a46f_row0_col2\" class=\"data row0 col2\" >0</td>\n",
              "      <td id=\"T_1a46f_row0_col3\" class=\"data row0 col3\" >0</td>\n",
              "      <td id=\"T_1a46f_row0_col4\" class=\"data row0 col4\" >0</td>\n",
              "      <td id=\"T_1a46f_row0_col5\" class=\"data row0 col5\" >0</td>\n",
              "      <td id=\"T_1a46f_row0_col6\" class=\"data row0 col6\" >0</td>\n",
              "      <td id=\"T_1a46f_row0_col7\" class=\"data row0 col7\" >0</td>\n",
              "      <td id=\"T_1a46f_row0_col8\" class=\"data row0 col8\" >0</td>\n",
              "      <td id=\"T_1a46f_row0_col9\" class=\"data row0 col9\" >0</td>\n",
              "      <td id=\"T_1a46f_row0_col10\" class=\"data row0 col10\" >0</td>\n",
              "      <td id=\"T_1a46f_row0_col11\" class=\"data row0 col11\" >0</td>\n",
              "      <td id=\"T_1a46f_row0_col12\" class=\"data row0 col12\" >0</td>\n",
              "      <td id=\"T_1a46f_row0_col13\" class=\"data row0 col13\" >0</td>\n",
              "      <td id=\"T_1a46f_row0_col14\" class=\"data row0 col14\" >0</td>\n",
              "      <td id=\"T_1a46f_row0_col15\" class=\"data row0 col15\" >0</td>\n",
              "      <td id=\"T_1a46f_row0_col16\" class=\"data row0 col16\" >0</td>\n",
              "      <td id=\"T_1a46f_row0_col17\" class=\"data row0 col17\" >0</td>\n",
              "    </tr>\n",
              "    <tr>\n",
              "      <th id=\"T_1a46f_level0_row1\" class=\"row_heading level0 row1\" >1</th>\n",
              "      <td id=\"T_1a46f_row1_col0\" class=\"data row1 col0\" >0</td>\n",
              "      <td id=\"T_1a46f_row1_col1\" class=\"data row1 col1\" >0</td>\n",
              "      <td id=\"T_1a46f_row1_col2\" class=\"data row1 col2\" >0</td>\n",
              "      <td id=\"T_1a46f_row1_col3\" class=\"data row1 col3\" >0</td>\n",
              "      <td id=\"T_1a46f_row1_col4\" class=\"data row1 col4\" >0</td>\n",
              "      <td id=\"T_1a46f_row1_col5\" class=\"data row1 col5\" >29</td>\n",
              "      <td id=\"T_1a46f_row1_col6\" class=\"data row1 col6\" >150</td>\n",
              "      <td id=\"T_1a46f_row1_col7\" class=\"data row1 col7\" >195</td>\n",
              "      <td id=\"T_1a46f_row1_col8\" class=\"data row1 col8\" >254</td>\n",
              "      <td id=\"T_1a46f_row1_col9\" class=\"data row1 col9\" >255</td>\n",
              "      <td id=\"T_1a46f_row1_col10\" class=\"data row1 col10\" >254</td>\n",
              "      <td id=\"T_1a46f_row1_col11\" class=\"data row1 col11\" >176</td>\n",
              "      <td id=\"T_1a46f_row1_col12\" class=\"data row1 col12\" >193</td>\n",
              "      <td id=\"T_1a46f_row1_col13\" class=\"data row1 col13\" >150</td>\n",
              "      <td id=\"T_1a46f_row1_col14\" class=\"data row1 col14\" >96</td>\n",
              "      <td id=\"T_1a46f_row1_col15\" class=\"data row1 col15\" >0</td>\n",
              "      <td id=\"T_1a46f_row1_col16\" class=\"data row1 col16\" >0</td>\n",
              "      <td id=\"T_1a46f_row1_col17\" class=\"data row1 col17\" >0</td>\n",
              "    </tr>\n",
              "    <tr>\n",
              "      <th id=\"T_1a46f_level0_row2\" class=\"row_heading level0 row2\" >2</th>\n",
              "      <td id=\"T_1a46f_row2_col0\" class=\"data row2 col0\" >0</td>\n",
              "      <td id=\"T_1a46f_row2_col1\" class=\"data row2 col1\" >0</td>\n",
              "      <td id=\"T_1a46f_row2_col2\" class=\"data row2 col2\" >0</td>\n",
              "      <td id=\"T_1a46f_row2_col3\" class=\"data row2 col3\" >48</td>\n",
              "      <td id=\"T_1a46f_row2_col4\" class=\"data row2 col4\" >166</td>\n",
              "      <td id=\"T_1a46f_row2_col5\" class=\"data row2 col5\" >224</td>\n",
              "      <td id=\"T_1a46f_row2_col6\" class=\"data row2 col6\" >253</td>\n",
              "      <td id=\"T_1a46f_row2_col7\" class=\"data row2 col7\" >253</td>\n",
              "      <td id=\"T_1a46f_row2_col8\" class=\"data row2 col8\" >234</td>\n",
              "      <td id=\"T_1a46f_row2_col9\" class=\"data row2 col9\" >196</td>\n",
              "      <td id=\"T_1a46f_row2_col10\" class=\"data row2 col10\" >253</td>\n",
              "      <td id=\"T_1a46f_row2_col11\" class=\"data row2 col11\" >253</td>\n",
              "      <td id=\"T_1a46f_row2_col12\" class=\"data row2 col12\" >253</td>\n",
              "      <td id=\"T_1a46f_row2_col13\" class=\"data row2 col13\" >253</td>\n",
              "      <td id=\"T_1a46f_row2_col14\" class=\"data row2 col14\" >233</td>\n",
              "      <td id=\"T_1a46f_row2_col15\" class=\"data row2 col15\" >0</td>\n",
              "      <td id=\"T_1a46f_row2_col16\" class=\"data row2 col16\" >0</td>\n",
              "      <td id=\"T_1a46f_row2_col17\" class=\"data row2 col17\" >0</td>\n",
              "    </tr>\n",
              "    <tr>\n",
              "      <th id=\"T_1a46f_level0_row3\" class=\"row_heading level0 row3\" >3</th>\n",
              "      <td id=\"T_1a46f_row3_col0\" class=\"data row3 col0\" >0</td>\n",
              "      <td id=\"T_1a46f_row3_col1\" class=\"data row3 col1\" >93</td>\n",
              "      <td id=\"T_1a46f_row3_col2\" class=\"data row3 col2\" >244</td>\n",
              "      <td id=\"T_1a46f_row3_col3\" class=\"data row3 col3\" >249</td>\n",
              "      <td id=\"T_1a46f_row3_col4\" class=\"data row3 col4\" >253</td>\n",
              "      <td id=\"T_1a46f_row3_col5\" class=\"data row3 col5\" >187</td>\n",
              "      <td id=\"T_1a46f_row3_col6\" class=\"data row3 col6\" >46</td>\n",
              "      <td id=\"T_1a46f_row3_col7\" class=\"data row3 col7\" >10</td>\n",
              "      <td id=\"T_1a46f_row3_col8\" class=\"data row3 col8\" >8</td>\n",
              "      <td id=\"T_1a46f_row3_col9\" class=\"data row3 col9\" >4</td>\n",
              "      <td id=\"T_1a46f_row3_col10\" class=\"data row3 col10\" >10</td>\n",
              "      <td id=\"T_1a46f_row3_col11\" class=\"data row3 col11\" >194</td>\n",
              "      <td id=\"T_1a46f_row3_col12\" class=\"data row3 col12\" >253</td>\n",
              "      <td id=\"T_1a46f_row3_col13\" class=\"data row3 col13\" >253</td>\n",
              "      <td id=\"T_1a46f_row3_col14\" class=\"data row3 col14\" >233</td>\n",
              "      <td id=\"T_1a46f_row3_col15\" class=\"data row3 col15\" >0</td>\n",
              "      <td id=\"T_1a46f_row3_col16\" class=\"data row3 col16\" >0</td>\n",
              "      <td id=\"T_1a46f_row3_col17\" class=\"data row3 col17\" >0</td>\n",
              "    </tr>\n",
              "    <tr>\n",
              "      <th id=\"T_1a46f_level0_row4\" class=\"row_heading level0 row4\" >4</th>\n",
              "      <td id=\"T_1a46f_row4_col0\" class=\"data row4 col0\" >0</td>\n",
              "      <td id=\"T_1a46f_row4_col1\" class=\"data row4 col1\" >107</td>\n",
              "      <td id=\"T_1a46f_row4_col2\" class=\"data row4 col2\" >253</td>\n",
              "      <td id=\"T_1a46f_row4_col3\" class=\"data row4 col3\" >253</td>\n",
              "      <td id=\"T_1a46f_row4_col4\" class=\"data row4 col4\" >230</td>\n",
              "      <td id=\"T_1a46f_row4_col5\" class=\"data row4 col5\" >48</td>\n",
              "      <td id=\"T_1a46f_row4_col6\" class=\"data row4 col6\" >0</td>\n",
              "      <td id=\"T_1a46f_row4_col7\" class=\"data row4 col7\" >0</td>\n",
              "      <td id=\"T_1a46f_row4_col8\" class=\"data row4 col8\" >0</td>\n",
              "      <td id=\"T_1a46f_row4_col9\" class=\"data row4 col9\" >0</td>\n",
              "      <td id=\"T_1a46f_row4_col10\" class=\"data row4 col10\" >0</td>\n",
              "      <td id=\"T_1a46f_row4_col11\" class=\"data row4 col11\" >192</td>\n",
              "      <td id=\"T_1a46f_row4_col12\" class=\"data row4 col12\" >253</td>\n",
              "      <td id=\"T_1a46f_row4_col13\" class=\"data row4 col13\" >253</td>\n",
              "      <td id=\"T_1a46f_row4_col14\" class=\"data row4 col14\" >156</td>\n",
              "      <td id=\"T_1a46f_row4_col15\" class=\"data row4 col15\" >0</td>\n",
              "      <td id=\"T_1a46f_row4_col16\" class=\"data row4 col16\" >0</td>\n",
              "      <td id=\"T_1a46f_row4_col17\" class=\"data row4 col17\" >0</td>\n",
              "    </tr>\n",
              "    <tr>\n",
              "      <th id=\"T_1a46f_level0_row5\" class=\"row_heading level0 row5\" >5</th>\n",
              "      <td id=\"T_1a46f_row5_col0\" class=\"data row5 col0\" >0</td>\n",
              "      <td id=\"T_1a46f_row5_col1\" class=\"data row5 col1\" >3</td>\n",
              "      <td id=\"T_1a46f_row5_col2\" class=\"data row5 col2\" >20</td>\n",
              "      <td id=\"T_1a46f_row5_col3\" class=\"data row5 col3\" >20</td>\n",
              "      <td id=\"T_1a46f_row5_col4\" class=\"data row5 col4\" >15</td>\n",
              "      <td id=\"T_1a46f_row5_col5\" class=\"data row5 col5\" >0</td>\n",
              "      <td id=\"T_1a46f_row5_col6\" class=\"data row5 col6\" >0</td>\n",
              "      <td id=\"T_1a46f_row5_col7\" class=\"data row5 col7\" >0</td>\n",
              "      <td id=\"T_1a46f_row5_col8\" class=\"data row5 col8\" >0</td>\n",
              "      <td id=\"T_1a46f_row5_col9\" class=\"data row5 col9\" >0</td>\n",
              "      <td id=\"T_1a46f_row5_col10\" class=\"data row5 col10\" >43</td>\n",
              "      <td id=\"T_1a46f_row5_col11\" class=\"data row5 col11\" >224</td>\n",
              "      <td id=\"T_1a46f_row5_col12\" class=\"data row5 col12\" >253</td>\n",
              "      <td id=\"T_1a46f_row5_col13\" class=\"data row5 col13\" >245</td>\n",
              "      <td id=\"T_1a46f_row5_col14\" class=\"data row5 col14\" >74</td>\n",
              "      <td id=\"T_1a46f_row5_col15\" class=\"data row5 col15\" >0</td>\n",
              "      <td id=\"T_1a46f_row5_col16\" class=\"data row5 col16\" >0</td>\n",
              "      <td id=\"T_1a46f_row5_col17\" class=\"data row5 col17\" >0</td>\n",
              "    </tr>\n",
              "    <tr>\n",
              "      <th id=\"T_1a46f_level0_row6\" class=\"row_heading level0 row6\" >6</th>\n",
              "      <td id=\"T_1a46f_row6_col0\" class=\"data row6 col0\" >0</td>\n",
              "      <td id=\"T_1a46f_row6_col1\" class=\"data row6 col1\" >0</td>\n",
              "      <td id=\"T_1a46f_row6_col2\" class=\"data row6 col2\" >0</td>\n",
              "      <td id=\"T_1a46f_row6_col3\" class=\"data row6 col3\" >0</td>\n",
              "      <td id=\"T_1a46f_row6_col4\" class=\"data row6 col4\" >0</td>\n",
              "      <td id=\"T_1a46f_row6_col5\" class=\"data row6 col5\" >0</td>\n",
              "      <td id=\"T_1a46f_row6_col6\" class=\"data row6 col6\" >0</td>\n",
              "      <td id=\"T_1a46f_row6_col7\" class=\"data row6 col7\" >0</td>\n",
              "      <td id=\"T_1a46f_row6_col8\" class=\"data row6 col8\" >0</td>\n",
              "      <td id=\"T_1a46f_row6_col9\" class=\"data row6 col9\" >0</td>\n",
              "      <td id=\"T_1a46f_row6_col10\" class=\"data row6 col10\" >249</td>\n",
              "      <td id=\"T_1a46f_row6_col11\" class=\"data row6 col11\" >253</td>\n",
              "      <td id=\"T_1a46f_row6_col12\" class=\"data row6 col12\" >245</td>\n",
              "      <td id=\"T_1a46f_row6_col13\" class=\"data row6 col13\" >126</td>\n",
              "      <td id=\"T_1a46f_row6_col14\" class=\"data row6 col14\" >0</td>\n",
              "      <td id=\"T_1a46f_row6_col15\" class=\"data row6 col15\" >0</td>\n",
              "      <td id=\"T_1a46f_row6_col16\" class=\"data row6 col16\" >0</td>\n",
              "      <td id=\"T_1a46f_row6_col17\" class=\"data row6 col17\" >0</td>\n",
              "    </tr>\n",
              "    <tr>\n",
              "      <th id=\"T_1a46f_level0_row7\" class=\"row_heading level0 row7\" >7</th>\n",
              "      <td id=\"T_1a46f_row7_col0\" class=\"data row7 col0\" >0</td>\n",
              "      <td id=\"T_1a46f_row7_col1\" class=\"data row7 col1\" >0</td>\n",
              "      <td id=\"T_1a46f_row7_col2\" class=\"data row7 col2\" >0</td>\n",
              "      <td id=\"T_1a46f_row7_col3\" class=\"data row7 col3\" >0</td>\n",
              "      <td id=\"T_1a46f_row7_col4\" class=\"data row7 col4\" >0</td>\n",
              "      <td id=\"T_1a46f_row7_col5\" class=\"data row7 col5\" >0</td>\n",
              "      <td id=\"T_1a46f_row7_col6\" class=\"data row7 col6\" >0</td>\n",
              "      <td id=\"T_1a46f_row7_col7\" class=\"data row7 col7\" >14</td>\n",
              "      <td id=\"T_1a46f_row7_col8\" class=\"data row7 col8\" >101</td>\n",
              "      <td id=\"T_1a46f_row7_col9\" class=\"data row7 col9\" >223</td>\n",
              "      <td id=\"T_1a46f_row7_col10\" class=\"data row7 col10\" >253</td>\n",
              "      <td id=\"T_1a46f_row7_col11\" class=\"data row7 col11\" >248</td>\n",
              "      <td id=\"T_1a46f_row7_col12\" class=\"data row7 col12\" >124</td>\n",
              "      <td id=\"T_1a46f_row7_col13\" class=\"data row7 col13\" >0</td>\n",
              "      <td id=\"T_1a46f_row7_col14\" class=\"data row7 col14\" >0</td>\n",
              "      <td id=\"T_1a46f_row7_col15\" class=\"data row7 col15\" >0</td>\n",
              "      <td id=\"T_1a46f_row7_col16\" class=\"data row7 col16\" >0</td>\n",
              "      <td id=\"T_1a46f_row7_col17\" class=\"data row7 col17\" >0</td>\n",
              "    </tr>\n",
              "    <tr>\n",
              "      <th id=\"T_1a46f_level0_row8\" class=\"row_heading level0 row8\" >8</th>\n",
              "      <td id=\"T_1a46f_row8_col0\" class=\"data row8 col0\" >0</td>\n",
              "      <td id=\"T_1a46f_row8_col1\" class=\"data row8 col1\" >0</td>\n",
              "      <td id=\"T_1a46f_row8_col2\" class=\"data row8 col2\" >0</td>\n",
              "      <td id=\"T_1a46f_row8_col3\" class=\"data row8 col3\" >0</td>\n",
              "      <td id=\"T_1a46f_row8_col4\" class=\"data row8 col4\" >0</td>\n",
              "      <td id=\"T_1a46f_row8_col5\" class=\"data row8 col5\" >11</td>\n",
              "      <td id=\"T_1a46f_row8_col6\" class=\"data row8 col6\" >166</td>\n",
              "      <td id=\"T_1a46f_row8_col7\" class=\"data row8 col7\" >239</td>\n",
              "      <td id=\"T_1a46f_row8_col8\" class=\"data row8 col8\" >253</td>\n",
              "      <td id=\"T_1a46f_row8_col9\" class=\"data row8 col9\" >253</td>\n",
              "      <td id=\"T_1a46f_row8_col10\" class=\"data row8 col10\" >253</td>\n",
              "      <td id=\"T_1a46f_row8_col11\" class=\"data row8 col11\" >187</td>\n",
              "      <td id=\"T_1a46f_row8_col12\" class=\"data row8 col12\" >30</td>\n",
              "      <td id=\"T_1a46f_row8_col13\" class=\"data row8 col13\" >0</td>\n",
              "      <td id=\"T_1a46f_row8_col14\" class=\"data row8 col14\" >0</td>\n",
              "      <td id=\"T_1a46f_row8_col15\" class=\"data row8 col15\" >0</td>\n",
              "      <td id=\"T_1a46f_row8_col16\" class=\"data row8 col16\" >0</td>\n",
              "      <td id=\"T_1a46f_row8_col17\" class=\"data row8 col17\" >0</td>\n",
              "    </tr>\n",
              "    <tr>\n",
              "      <th id=\"T_1a46f_level0_row9\" class=\"row_heading level0 row9\" >9</th>\n",
              "      <td id=\"T_1a46f_row9_col0\" class=\"data row9 col0\" >0</td>\n",
              "      <td id=\"T_1a46f_row9_col1\" class=\"data row9 col1\" >0</td>\n",
              "      <td id=\"T_1a46f_row9_col2\" class=\"data row9 col2\" >0</td>\n",
              "      <td id=\"T_1a46f_row9_col3\" class=\"data row9 col3\" >0</td>\n",
              "      <td id=\"T_1a46f_row9_col4\" class=\"data row9 col4\" >0</td>\n",
              "      <td id=\"T_1a46f_row9_col5\" class=\"data row9 col5\" >16</td>\n",
              "      <td id=\"T_1a46f_row9_col6\" class=\"data row9 col6\" >248</td>\n",
              "      <td id=\"T_1a46f_row9_col7\" class=\"data row9 col7\" >250</td>\n",
              "      <td id=\"T_1a46f_row9_col8\" class=\"data row9 col8\" >253</td>\n",
              "      <td id=\"T_1a46f_row9_col9\" class=\"data row9 col9\" >253</td>\n",
              "      <td id=\"T_1a46f_row9_col10\" class=\"data row9 col10\" >253</td>\n",
              "      <td id=\"T_1a46f_row9_col11\" class=\"data row9 col11\" >253</td>\n",
              "      <td id=\"T_1a46f_row9_col12\" class=\"data row9 col12\" >232</td>\n",
              "      <td id=\"T_1a46f_row9_col13\" class=\"data row9 col13\" >213</td>\n",
              "      <td id=\"T_1a46f_row9_col14\" class=\"data row9 col14\" >111</td>\n",
              "      <td id=\"T_1a46f_row9_col15\" class=\"data row9 col15\" >2</td>\n",
              "      <td id=\"T_1a46f_row9_col16\" class=\"data row9 col16\" >0</td>\n",
              "      <td id=\"T_1a46f_row9_col17\" class=\"data row9 col17\" >0</td>\n",
              "    </tr>\n",
              "    <tr>\n",
              "      <th id=\"T_1a46f_level0_row10\" class=\"row_heading level0 row10\" >10</th>\n",
              "      <td id=\"T_1a46f_row10_col0\" class=\"data row10 col0\" >0</td>\n",
              "      <td id=\"T_1a46f_row10_col1\" class=\"data row10 col1\" >0</td>\n",
              "      <td id=\"T_1a46f_row10_col2\" class=\"data row10 col2\" >0</td>\n",
              "      <td id=\"T_1a46f_row10_col3\" class=\"data row10 col3\" >0</td>\n",
              "      <td id=\"T_1a46f_row10_col4\" class=\"data row10 col4\" >0</td>\n",
              "      <td id=\"T_1a46f_row10_col5\" class=\"data row10 col5\" >0</td>\n",
              "      <td id=\"T_1a46f_row10_col6\" class=\"data row10 col6\" >0</td>\n",
              "      <td id=\"T_1a46f_row10_col7\" class=\"data row10 col7\" >43</td>\n",
              "      <td id=\"T_1a46f_row10_col8\" class=\"data row10 col8\" >98</td>\n",
              "      <td id=\"T_1a46f_row10_col9\" class=\"data row10 col9\" >98</td>\n",
              "      <td id=\"T_1a46f_row10_col10\" class=\"data row10 col10\" >208</td>\n",
              "      <td id=\"T_1a46f_row10_col11\" class=\"data row10 col11\" >253</td>\n",
              "      <td id=\"T_1a46f_row10_col12\" class=\"data row10 col12\" >253</td>\n",
              "      <td id=\"T_1a46f_row10_col13\" class=\"data row10 col13\" >253</td>\n",
              "      <td id=\"T_1a46f_row10_col14\" class=\"data row10 col14\" >253</td>\n",
              "      <td id=\"T_1a46f_row10_col15\" class=\"data row10 col15\" >187</td>\n",
              "      <td id=\"T_1a46f_row10_col16\" class=\"data row10 col16\" >22</td>\n",
              "      <td id=\"T_1a46f_row10_col17\" class=\"data row10 col17\" >0</td>\n",
              "    </tr>\n",
              "  </tbody>\n",
              "</table>\n"
            ]
          },
          "metadata": {},
          "execution_count": 13
        }
      ]
    },
    {
      "cell_type": "code",
      "source": [
        "seven_tensors = [tensor(Image.open(o)) for o in sevens]\n",
        "three_tensors = [tensor(Image.open(o)) for o in threes]\n",
        "len(three_tensors),len(seven_tensors)\n"
      ],
      "metadata": {
        "colab": {
          "base_uri": "https://localhost:8080/"
        },
        "id": "PdwKLrRtsQWq",
        "outputId": "23746ec4-2281-4801-eedc-f5e8c23509ff"
      },
      "execution_count": 14,
      "outputs": [
        {
          "output_type": "execute_result",
          "data": {
            "text/plain": [
              "(6131, 6265)"
            ]
          },
          "metadata": {},
          "execution_count": 14
        }
      ]
    },
    {
      "cell_type": "code",
      "source": [
        "\n",
        "show_image(three_tensors[1]);"
      ],
      "metadata": {
        "colab": {
          "base_uri": "https://localhost:8080/",
          "height": 114
        },
        "id": "VHwU6LO0sVzq",
        "outputId": "a7b974db-a4ad-44e2-8640-b71bf772d188"
      },
      "execution_count": 15,
      "outputs": [
        {
          "output_type": "display_data",
          "data": {
            "text/plain": [
              "<Figure size 100x100 with 1 Axes>"
            ],
            "image/png": "[encoded data removed]"
          },
          "metadata": {}
        }
      ]
    },
    {
      "cell_type": "code",
      "source": [
        "stacked_sevens = torch.stack(seven_tensors).float()/255\n",
        "stacked_threes = torch.stack(three_tensors).float()/255\n",
        "stacked_threes.shape"
      ],
      "metadata": {
        "colab": {
          "base_uri": "https://localhost:8080/"
        },
        "id": "bws2Q8IBseRa",
        "outputId": "c768748e-fef1-4698-a58d-18fe5793505d"
      },
      "execution_count": 16,
      "outputs": [
        {
          "output_type": "execute_result",
          "data": {
            "text/plain": [
              "torch.Size([6131, 28, 28])"
            ]
          },
          "metadata": {},
          "execution_count": 16
        }
      ]
    },
    {
      "cell_type": "code",
      "source": [
        "len(stacked_threes.shape)"
      ],
      "metadata": {
        "colab": {
          "base_uri": "https://localhost:8080/"
        },
        "id": "4FeqVVC5sm7S",
        "outputId": "2c57461d-f264-443f-ab16-0126078cd5d1"
      },
      "execution_count": 17,
      "outputs": [
        {
          "output_type": "execute_result",
          "data": {
            "text/plain": [
              "3"
            ]
          },
          "metadata": {},
          "execution_count": 17
        }
      ]
    },
    {
      "cell_type": "code",
      "source": [
        "mean3 = stacked_threes.mean(0)\n",
        "show_image(mean3);"
      ],
      "metadata": {
        "colab": {
          "base_uri": "https://localhost:8080/",
          "height": 114
        },
        "id": "7UW2icF_soz6",
        "outputId": "b6dc39b8-f319-47d4-e93d-774bc14ce19a"
      },
      "execution_count": 18,
      "outputs": [
        {
          "output_type": "display_data",
          "data": {
            "text/plain": [
              "<Figure size 100x100 with 1 Axes>"
            ],
            "image/png": "[encoded data removed]"
          },
          "metadata": {}
        }
      ]
    },
    {
      "cell_type": "code",
      "source": [
        "mean7 = stacked_sevens.mean(0)\n",
        "show_image(mean7);"
      ],
      "metadata": {
        "colab": {
          "base_uri": "https://localhost:8080/",
          "height": 114
        },
        "id": "iT9H3fcRLacr",
        "outputId": "c68f2643-1f76-48b4-90ed-10193627d6b0"
      },
      "execution_count": 19,
      "outputs": [
        {
          "output_type": "display_data",
          "data": {
            "text/plain": [
              "<Figure size 100x100 with 1 Axes>"
            ],
            "image/png": "[encoded data removed]"
          },
          "metadata": {}
        }
      ]
    },
    {
      "cell_type": "code",
      "source": [
        "\n",
        "a_3 = stacked_threes[1]\n",
        "show_image(a_3);\n"
      ],
      "metadata": {
        "colab": {
          "base_uri": "https://localhost:8080/",
          "height": 114
        },
        "id": "42gMqjZvLcgM",
        "outputId": "60b0ea10-0917-46aa-c440-9234baa9d275"
      },
      "execution_count": 20,
      "outputs": [
        {
          "output_type": "display_data",
          "data": {
            "text/plain": [
              "<Figure size 100x100 with 1 Axes>"
            ],
            "image/png": "[encoded data removed]"
          },
          "metadata": {}
        }
      ]
    },
    {
      "cell_type": "code",
      "source": [
        "dist_3_abs = (a_3 - mean3).abs().mean()\n",
        "dist_3_sqr = ((a_3 - mean3)**2).mean().sqrt()\n",
        "dist_3_abs,dist_3_sqr\n"
      ],
      "metadata": {
        "colab": {
          "base_uri": "https://localhost:8080/"
        },
        "id": "GHgyoKo3Lfwd",
        "outputId": "29eb0d69-775b-4248-b7fe-5d66ef35da0d"
      },
      "execution_count": 21,
      "outputs": [
        {
          "output_type": "execute_result",
          "data": {
            "text/plain": [
              "(tensor(0.1114), tensor(0.2021))"
            ]
          },
          "metadata": {},
          "execution_count": 21
        }
      ]
    },
    {
      "cell_type": "code",
      "source": [
        "dist_7_abs = (a_3 - mean7).abs().mean()\n",
        "dist_7_sqr = ((a_3 - mean7)**2).mean().sqrt()\n",
        "dist_7_abs,dist_7_sqr"
      ],
      "metadata": {
        "colab": {
          "base_uri": "https://localhost:8080/"
        },
        "id": "QXYBgRYyLiuH",
        "outputId": "854606a3-fff3-4351-c80b-01f20bec6d45"
      },
      "execution_count": 22,
      "outputs": [
        {
          "output_type": "execute_result",
          "data": {
            "text/plain": [
              "(tensor(0.1586), tensor(0.3021))"
            ]
          },
          "metadata": {},
          "execution_count": 22
        }
      ]
    },
    {
      "cell_type": "code",
      "source": [
        "F.l1_loss(a_3.float(),mean7), F.mse_loss(a_3,mean7).sqrt()"
      ],
      "metadata": {
        "colab": {
          "base_uri": "https://localhost:8080/"
        },
        "id": "wK-yNeBgLk-w",
        "outputId": "dc1b6b02-7f10-435b-afc2-df1d714540ef"
      },
      "execution_count": 23,
      "outputs": [
        {
          "output_type": "execute_result",
          "data": {
            "text/plain": [
              "(tensor(0.1586), tensor(0.3021))"
            ]
          },
          "metadata": {},
          "execution_count": 23
        }
      ]
    },
    {
      "cell_type": "code",
      "source": [
        "data = [[1,2,3],[4,5,6]]\n",
        "arr = array (data)\n",
        "tns = tensor(data)"
      ],
      "metadata": {
        "id": "T_NB4WzNayqQ"
      },
      "execution_count": 24,
      "outputs": []
    },
    {
      "cell_type": "code",
      "source": [
        "arr  # numpy"
      ],
      "metadata": {
        "colab": {
          "base_uri": "https://localhost:8080/"
        },
        "id": "ivNJsezja1Y5",
        "outputId": "082fae29-603d-4922-b94d-9253fc13a10d"
      },
      "execution_count": 25,
      "outputs": [
        {
          "output_type": "execute_result",
          "data": {
            "text/plain": [
              "array([[1, 2, 3],\n",
              "       [4, 5, 6]])"
            ]
          },
          "metadata": {},
          "execution_count": 25
        }
      ]
    },
    {
      "cell_type": "code",
      "source": [
        "tns  # pytorch\n"
      ],
      "metadata": {
        "colab": {
          "base_uri": "https://localhost:8080/"
        },
        "id": "XclVDuega3fS",
        "outputId": "3f4cfc11-fbbb-4db1-d7bf-daed165685c4"
      },
      "execution_count": 26,
      "outputs": [
        {
          "output_type": "execute_result",
          "data": {
            "text/plain": [
              "tensor([[1, 2, 3],\n",
              "        [4, 5, 6]])"
            ]
          },
          "metadata": {},
          "execution_count": 26
        }
      ]
    },
    {
      "cell_type": "code",
      "source": [
        "tns[1]"
      ],
      "metadata": {
        "colab": {
          "base_uri": "https://localhost:8080/"
        },
        "id": "yqPJivLba5pj",
        "outputId": "337f8750-9ebd-482c-9191-120a4b59dd11"
      },
      "execution_count": 27,
      "outputs": [
        {
          "output_type": "execute_result",
          "data": {
            "text/plain": [
              "tensor([4, 5, 6])"
            ]
          },
          "metadata": {},
          "execution_count": 27
        }
      ]
    },
    {
      "cell_type": "code",
      "source": [
        "tns[:,1]"
      ],
      "metadata": {
        "colab": {
          "base_uri": "https://localhost:8080/"
        },
        "id": "F7QKIXuSa8DV",
        "outputId": "27c4bc8f-ab12-4ade-ee1a-393ec8b36bce"
      },
      "execution_count": 28,
      "outputs": [
        {
          "output_type": "execute_result",
          "data": {
            "text/plain": [
              "tensor([2, 5])"
            ]
          },
          "metadata": {},
          "execution_count": 28
        }
      ]
    },
    {
      "cell_type": "code",
      "source": [
        "tns[1,1:3]"
      ],
      "metadata": {
        "colab": {
          "base_uri": "https://localhost:8080/"
        },
        "id": "MFPTBw4Ha9_1",
        "outputId": "f8915d45-4a75-4513-e1dc-ad8445397580"
      },
      "execution_count": 29,
      "outputs": [
        {
          "output_type": "execute_result",
          "data": {
            "text/plain": [
              "tensor([5, 6])"
            ]
          },
          "metadata": {},
          "execution_count": 29
        }
      ]
    },
    {
      "cell_type": "code",
      "source": [
        "tns+1"
      ],
      "metadata": {
        "colab": {
          "base_uri": "https://localhost:8080/"
        },
        "id": "nvXOLEmAa_nV",
        "outputId": "052a52e8-8185-46bf-ff01-b0f7688b87d3"
      },
      "execution_count": 30,
      "outputs": [
        {
          "output_type": "execute_result",
          "data": {
            "text/plain": [
              "tensor([[2, 3, 4],\n",
              "        [5, 6, 7]])"
            ]
          },
          "metadata": {},
          "execution_count": 30
        }
      ]
    },
    {
      "cell_type": "code",
      "source": [
        "tns.type()"
      ],
      "metadata": {
        "colab": {
          "base_uri": "https://localhost:8080/",
          "height": 35
        },
        "id": "o47CLZs-bCqv",
        "outputId": "532a4c97-ae00-456f-c859-2d8554373387"
      },
      "execution_count": 31,
      "outputs": [
        {
          "output_type": "execute_result",
          "data": {
            "text/plain": [
              "'torch.LongTensor'"
            ],
            "application/vnd.google.colaboratory.intrinsic+json": {
              "type": "string"
            }
          },
          "metadata": {},
          "execution_count": 31
        }
      ]
    },
    {
      "cell_type": "code",
      "source": [
        "tns*1.5"
      ],
      "metadata": {
        "colab": {
          "base_uri": "https://localhost:8080/"
        },
        "id": "sgd_gKabbFO5",
        "outputId": "e02f7029-53f0-4343-8520-b559eb1e8bf7"
      },
      "execution_count": 32,
      "outputs": [
        {
          "output_type": "execute_result",
          "data": {
            "text/plain": [
              "tensor([[1.5000, 3.0000, 4.5000],\n",
              "        [6.0000, 7.5000, 9.0000]])"
            ]
          },
          "metadata": {},
          "execution_count": 32
        }
      ]
    },
    {
      "cell_type": "code",
      "source": [
        "valid_3_tens = torch.stack([tensor(Image.open(o))\n",
        "                            for o in (path/'valid'/'3').ls()])\n",
        "valid_3_tens = valid_3_tens.float()/255\n",
        "valid_7_tens = torch.stack([tensor(Image.open(o))\n",
        "                            for o in (path/'valid'/'7').ls()])\n",
        "valid_7_tens = valid_7_tens.float()/255\n",
        "valid_3_tens.shape,valid_7_tens.shape"
      ],
      "metadata": {
        "colab": {
          "base_uri": "https://localhost:8080/"
        },
        "id": "jJht_lBlb4kG",
        "outputId": "33b8c1b1-adda-4bee-b877-e4d5f707725f"
      },
      "execution_count": 33,
      "outputs": [
        {
          "output_type": "execute_result",
          "data": {
            "text/plain": [
              "(torch.Size([1010, 28, 28]), torch.Size([1028, 28, 28]))"
            ]
          },
          "metadata": {},
          "execution_count": 33
        }
      ]
    },
    {
      "cell_type": "code",
      "source": [
        "def mnist_distance(a,b): return (a-b).abs().mean((-1,-2))\n",
        "mnist_distance(a_3, mean3)"
      ],
      "metadata": {
        "colab": {
          "base_uri": "https://localhost:8080/"
        },
        "id": "R5eQAZwxJYLF",
        "outputId": "89651a65-80f0-467d-cc33-9c5ccdef86b2"
      },
      "execution_count": 34,
      "outputs": [
        {
          "output_type": "execute_result",
          "data": {
            "text/plain": [
              "tensor(0.1114)"
            ]
          },
          "metadata": {},
          "execution_count": 34
        }
      ]
    },
    {
      "cell_type": "code",
      "source": [
        "valid_3_dist = mnist_distance(valid_3_tens, mean3)\n",
        "valid_3_dist, valid_3_dist.shape"
      ],
      "metadata": {
        "colab": {
          "base_uri": "https://localhost:8080/"
        },
        "id": "8epKudeaR2eg",
        "outputId": "6d976704-9335-4718-ba0e-424d62dc30bd"
      },
      "execution_count": 35,
      "outputs": [
        {
          "output_type": "execute_result",
          "data": {
            "text/plain": [
              "(tensor([0.1284, 0.1335, 0.1319,  ..., 0.1315, 0.1179, 0.1374]),\n",
              " torch.Size([1010]))"
            ]
          },
          "metadata": {},
          "execution_count": 35
        }
      ]
    },
    {
      "cell_type": "code",
      "source": [
        "tensor([1,2,3]) + tensor(1)"
      ],
      "metadata": {
        "colab": {
          "base_uri": "https://localhost:8080/"
        },
        "id": "ZuQjiyHHR7e-",
        "outputId": "2807dffc-b45c-4d25-9a49-8782015e3cd3"
      },
      "execution_count": 36,
      "outputs": [
        {
          "output_type": "execute_result",
          "data": {
            "text/plain": [
              "tensor([2, 3, 4])"
            ]
          },
          "metadata": {},
          "execution_count": 36
        }
      ]
    },
    {
      "cell_type": "code",
      "source": [
        "(valid_3_tens-mean3).shape"
      ],
      "metadata": {
        "colab": {
          "base_uri": "https://localhost:8080/"
        },
        "id": "YBEOSZLrR_o4",
        "outputId": "a888ba70-b507-463e-d21e-ee4319b247b4"
      },
      "execution_count": 37,
      "outputs": [
        {
          "output_type": "execute_result",
          "data": {
            "text/plain": [
              "torch.Size([1010, 28, 28])"
            ]
          },
          "metadata": {},
          "execution_count": 37
        }
      ]
    },
    {
      "cell_type": "code",
      "source": [
        "def is_3(x): return mnist_distance(x,mean3) < mnist_distance(x,mean7)"
      ],
      "metadata": {
        "id": "SufBstB-SDBC"
      },
      "execution_count": 38,
      "outputs": []
    },
    {
      "cell_type": "code",
      "source": [
        "is_3(a_3), is_3(a_3).float()"
      ],
      "metadata": {
        "colab": {
          "base_uri": "https://localhost:8080/"
        },
        "id": "cE3amAcFSFGK",
        "outputId": "31dbb768-8699-4591-af8d-3d6d5284382d"
      },
      "execution_count": 39,
      "outputs": [
        {
          "output_type": "execute_result",
          "data": {
            "text/plain": [
              "(tensor(True), tensor(1.))"
            ]
          },
          "metadata": {},
          "execution_count": 39
        }
      ]
    },
    {
      "cell_type": "code",
      "source": [
        "is_3(valid_3_tens)"
      ],
      "metadata": {
        "colab": {
          "base_uri": "https://localhost:8080/"
        },
        "id": "8yVyWkzWSH-r",
        "outputId": "93b585bc-6a5c-4c37-cb35-505886e4392b"
      },
      "execution_count": 40,
      "outputs": [
        {
          "output_type": "execute_result",
          "data": {
            "text/plain": [
              "tensor([True, True, True,  ..., True, True, True])"
            ]
          },
          "metadata": {},
          "execution_count": 40
        }
      ]
    },
    {
      "cell_type": "code",
      "source": [
        "accuracy_3s =      is_3(valid_3_tens).float() .mean()\n",
        "accuracy_7s = (1 - is_3(valid_7_tens).float()).mean()\n",
        "\n",
        "accuracy_3s,accuracy_7s,(accuracy_3s+accuracy_7s)/2\n",
        ""
      ],
      "metadata": {
        "colab": {
          "base_uri": "https://localhost:8080/"
        },
        "id": "5SxN1-KtSKkc",
        "outputId": "fdc77377-9e23-438b-d97f-a82a4addbaa4"
      },
      "execution_count": 41,
      "outputs": [
        {
          "output_type": "execute_result",
          "data": {
            "text/plain": [
              "(tensor(0.9168), tensor(0.9854), tensor(0.9511))"
            ]
          },
          "metadata": {},
          "execution_count": 41
        }
      ]
    },
    {
      "cell_type": "code",
      "source": [
        "#id gradient_descent\n",
        "#caption The gradient descent process\n",
        "#alt Graph showing the steps for Gradient Descent\n",
        "gv('''\n",
        "init->predict->loss->gradient->step->stop\n",
        "step->predict[label=repeat]\n",
        "''')\n",
        ""
      ],
      "metadata": {
        "colab": {
          "base_uri": "https://localhost:8080/",
          "height": 145
        },
        "id": "Dkat00UbSW9q",
        "outputId": "f611b57e-dd53-470f-e3ad-68de786951d9"
      },
      "execution_count": 42,
      "outputs": [
        {
          "output_type": "execute_result",
          "data": {
            "image/svg+xml": "<?xml version=\"1.0\" encoding=\"UTF-8\" standalone=\"no\"?>\n<!DOCTYPE svg PUBLIC \"-//W3C//DTD SVG 1.1//EN\"\n \"http://www.w3.org/Graphics/SVG/1.1/DTD/svg11.dtd\">\n<!-- Generated by graphviz version 2.43.0 (0)\n -->\n<!-- Title: G Pages: 1 -->\n<svg width=\"591pt\" height=\"78pt\"\n viewBox=\"0.00 0.00 591.49 78.00\" xmlns=\"http://www.w3.org/2000/svg\" xmlns:xlink=\"http://www.w3.org/1999/xlink\">\n<g id=\"graph0\" class=\"graph\" transform=\"scale(1 1) rotate(0) translate(4 74)\">\n<title>G</title>\n<polygon fill=\"white\" stroke=\"transparent\" points=\"-4,4 -4,-74 587.49,-74 587.49,4 -4,4\"/>\n<!-- init -->\n<g id=\"node1\" class=\"node\">\n<title>init</title>\n<ellipse fill=\"none\" stroke=\"black\" cx=\"27\" cy=\"-18\" rx=\"27\" ry=\"18\"/>\n<text text-anchor=\"middle\" x=\"27\" y=\"-14.3\" font-family=\"Times,serif\" font-size=\"14.00\">init</text>\n</g>\n<!-- predict -->\n<g id=\"node2\" class=\"node\">\n<title>predict</title>\n<ellipse fill=\"none\" stroke=\"black\" cx=\"126.1\" cy=\"-18\" rx=\"35.19\" ry=\"18\"/>\n<text text-anchor=\"middle\" x=\"126.1\" y=\"-14.3\" font-family=\"Times,serif\" font-size=\"14.00\">predict</text>\n</g>\n<!-- init&#45;&gt;predict -->\n<g id=\"edge1\" class=\"edge\">\n<title>init&#45;&gt;predict</title>\n<path fill=\"none\" stroke=\"black\" d=\"M54.02,-18C62.26,-18 71.62,-18 80.78,-18\"/>\n<polygon fill=\"black\" stroke=\"black\" points=\"80.96,-21.5 90.96,-18 80.96,-14.5 80.96,-21.5\"/>\n</g>\n<!-- loss -->\n<g id=\"node3\" class=\"node\">\n<title>loss</title>\n<ellipse fill=\"none\" stroke=\"black\" cx=\"225.19\" cy=\"-52\" rx=\"27\" ry=\"18\"/>\n<text text-anchor=\"middle\" x=\"225.19\" y=\"-48.3\" font-family=\"Times,serif\" font-size=\"14.00\">loss</text>\n</g>\n<!-- predict&#45;&gt;loss -->\n<g id=\"edge2\" class=\"edge\">\n<title>predict&#45;&gt;loss</title>\n<path fill=\"none\" stroke=\"black\" d=\"M155.44,-27.93C166.61,-31.84 179.52,-36.36 191.11,-40.42\"/>\n<polygon fill=\"black\" stroke=\"black\" points=\"190.29,-43.84 200.88,-43.84 192.6,-37.23 190.29,-43.84\"/>\n</g>\n<!-- gradient -->\n<g id=\"node4\" class=\"node\">\n<title>gradient</title>\n<ellipse fill=\"none\" stroke=\"black\" cx=\"361.84\" cy=\"-52\" rx=\"39.79\" ry=\"18\"/>\n<text text-anchor=\"middle\" x=\"361.84\" y=\"-48.3\" font-family=\"Times,serif\" font-size=\"14.00\">gradient</text>\n</g>\n<!-- loss&#45;&gt;gradient -->\n<g id=\"edge3\" class=\"edge\">\n<title>loss&#45;&gt;gradient</title>\n<path fill=\"none\" stroke=\"black\" d=\"M252.47,-52C269.35,-52 291.8,-52 311.88,-52\"/>\n<polygon fill=\"black\" stroke=\"black\" points=\"312.13,-55.5 322.13,-52 312.13,-48.5 312.13,-55.5\"/>\n</g>\n<!-- step -->\n<g id=\"node5\" class=\"node\">\n<title>step</title>\n<ellipse fill=\"none\" stroke=\"black\" cx=\"465.49\" cy=\"-18\" rx=\"27\" ry=\"18\"/>\n<text text-anchor=\"middle\" x=\"465.49\" y=\"-14.3\" font-family=\"Times,serif\" font-size=\"14.00\">step</text>\n</g>\n<!-- gradient&#45;&gt;step -->\n<g id=\"edge4\" class=\"edge\">\n<title>gradient&#45;&gt;step</title>\n<path fill=\"none\" stroke=\"black\" d=\"M394.17,-41.52C405.92,-37.59 419.32,-33.11 431.25,-29.12\"/>\n<polygon fill=\"black\" stroke=\"black\" points=\"432.48,-32.4 440.85,-25.91 430.26,-25.76 432.48,-32.4\"/>\n</g>\n<!-- step&#45;&gt;predict -->\n<g id=\"edge6\" class=\"edge\">\n<title>step&#45;&gt;predict</title>\n<path fill=\"none\" stroke=\"black\" d=\"M438.29,-18C380.72,-18 242.6,-18 171.32,-18\"/>\n<polygon fill=\"black\" stroke=\"black\" points=\"171.3,-14.5 161.3,-18 171.3,-21.5 171.3,-14.5\"/>\n<text text-anchor=\"middle\" x=\"287.19\" y=\"-21.8\" font-family=\"Times,serif\" font-size=\"14.00\">repeat</text>\n</g>\n<!-- stop -->\n<g id=\"node6\" class=\"node\">\n<title>stop</title>\n<ellipse fill=\"none\" stroke=\"black\" cx=\"556.49\" cy=\"-18\" rx=\"27\" ry=\"18\"/>\n<text text-anchor=\"middle\" x=\"556.49\" y=\"-14.3\" font-family=\"Times,serif\" font-size=\"14.00\">stop</text>\n</g>\n<!-- step&#45;&gt;stop -->\n<g id=\"edge5\" class=\"edge\">\n<title>step&#45;&gt;stop</title>\n<path fill=\"none\" stroke=\"black\" d=\"M492.71,-18C501.04,-18 510.4,-18 519.3,-18\"/>\n<polygon fill=\"black\" stroke=\"black\" points=\"519.45,-21.5 529.45,-18 519.45,-14.5 519.45,-21.5\"/>\n</g>\n</g>\n</svg>\n",
            "text/plain": [
              "<graphviz.sources.Source at 0x783674060a00>"
            ]
          },
          "metadata": {},
          "execution_count": 42
        }
      ]
    }
  ]
}