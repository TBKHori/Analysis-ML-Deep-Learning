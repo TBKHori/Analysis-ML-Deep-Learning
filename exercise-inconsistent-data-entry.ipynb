{
 "cells": [
  {
   "cell_type": "markdown",
   "id": "427aa610",
   "metadata": {
    "papermill": {
     "duration": 0.005425,
     "end_time": "2023-04-11T21:57:00.572088",
     "exception": false,
     "start_time": "2023-04-11T21:57:00.566663",
     "status": "completed"
    },
    "tags": []
   },
   "source": [
    "**This notebook is an exercise in the [Data Cleaning](https://www.kaggle.com/learn/data-cleaning) course.  You can reference the tutorial at [this link](https://www.kaggle.com/alexisbcook/inconsistent-data-entry).**\n",
    "\n",
    "---\n"
   ]
  },
  {
   "cell_type": "markdown",
   "id": "1bb8423e",
   "metadata": {
    "papermill": {
     "duration": 0.004067,
     "end_time": "2023-04-11T21:57:00.580561",
     "exception": false,
     "start_time": "2023-04-11T21:57:00.576494",
     "status": "completed"
    },
    "tags": []
   },
   "source": [
    "In this exercise, you'll apply what you learned in the **Inconsistent data entry** tutorial.\n",
    "\n",
    "# Setup\n",
    "\n",
    "The questions below will give you feedback on your work. Run the following cell to set up the feedback system."
   ]
  },
  {
   "cell_type": "code",
   "execution_count": 1,
   "id": "8213d7d2",
   "metadata": {
    "execution": {
     "iopub.execute_input": "2023-04-11T21:57:00.591252Z",
     "iopub.status.busy": "2023-04-11T21:57:00.590854Z",
     "iopub.status.idle": "2023-04-11T21:57:00.753973Z",
     "shell.execute_reply": "2023-04-11T21:57:00.753212Z"
    },
    "papermill": {
     "duration": 0.171481,
     "end_time": "2023-04-11T21:57:00.756381",
     "exception": false,
     "start_time": "2023-04-11T21:57:00.584900",
     "status": "completed"
    },
    "tags": []
   },
   "outputs": [
    {
     "name": "stdout",
     "output_type": "stream",
     "text": [
      "Setup Complete\n"
     ]
    }
   ],
   "source": [
    "from learntools.core import binder\n",
    "binder.bind(globals())\n",
    "from learntools.data_cleaning.ex5 import *\n",
    "print(\"Setup Complete\")"
   ]
  },
  {
   "cell_type": "markdown",
   "id": "56c9f4dd",
   "metadata": {
    "papermill": {
     "duration": 0.00461,
     "end_time": "2023-04-11T21:57:00.765952",
     "exception": false,
     "start_time": "2023-04-11T21:57:00.761342",
     "status": "completed"
    },
    "tags": []
   },
   "source": [
    "# Get our environment set up\n",
    "\n",
    "The first thing we'll need to do is load in the libraries and dataset we'll be using.  We use the same dataset from the tutorial."
   ]
  },
  {
   "cell_type": "code",
   "execution_count": 2,
   "id": "caf93b10",
   "metadata": {
    "execution": {
     "iopub.execute_input": "2023-04-11T21:57:00.776593Z",
     "iopub.status.busy": "2023-04-11T21:57:00.776311Z",
     "iopub.status.idle": "2023-04-11T21:57:00.790475Z",
     "shell.execute_reply": "2023-04-11T21:57:00.789473Z"
    },
    "papermill": {
     "duration": 0.021964,
     "end_time": "2023-04-11T21:57:00.792546",
     "exception": false,
     "start_time": "2023-04-11T21:57:00.770582",
     "status": "completed"
    },
    "tags": []
   },
   "outputs": [],
   "source": [
    "# modules we'll use\n",
    "import pandas as pd\n",
    "import numpy as np\n",
    "\n",
    "# helpful modules\n",
    "import fuzzywuzzy\n",
    "from fuzzywuzzy import process\n",
    "import charset_normalizer\n",
    "\n",
    "# read in all our data\n",
    "professors = pd.read_csv(\"../input/pakistan-intellectual-capital/pakistan_intellectual_capital.csv\")\n",
    "\n",
    "# set seed for reproducibility\n",
    "np.random.seed(0)"
   ]
  },
  {
   "cell_type": "markdown",
   "id": "7c749cd1",
   "metadata": {
    "papermill": {
     "duration": 0.004275,
     "end_time": "2023-04-11T21:57:00.801511",
     "exception": false,
     "start_time": "2023-04-11T21:57:00.797236",
     "status": "completed"
    },
    "tags": []
   },
   "source": [
    "Next, we'll redo all of the work that we did in the tutorial."
   ]
  },
  {
   "cell_type": "code",
   "execution_count": 3,
   "id": "ffed3fe4",
   "metadata": {
    "execution": {
     "iopub.execute_input": "2023-04-11T21:57:00.812195Z",
     "iopub.status.busy": "2023-04-11T21:57:00.811802Z",
     "iopub.status.idle": "2023-04-11T21:57:00.826960Z",
     "shell.execute_reply": "2023-04-11T21:57:00.825523Z"
    },
    "papermill": {
     "duration": 0.023317,
     "end_time": "2023-04-11T21:57:00.829202",
     "exception": false,
     "start_time": "2023-04-11T21:57:00.805885",
     "status": "completed"
    },
    "tags": []
   },
   "outputs": [
    {
     "name": "stdout",
     "output_type": "stream",
     "text": [
      "All done!\n"
     ]
    }
   ],
   "source": [
    "# convert to lower case\n",
    "professors['Country'] = professors['Country'].str.lower()\n",
    "# remove trailing white spaces\n",
    "professors['Country'] = professors['Country'].str.strip()\n",
    "\n",
    "# get the top 10 closest matches to \"south korea\"\n",
    "countries = professors['Country'].unique()\n",
    "matches = fuzzywuzzy.process.extract(\"south korea\", countries, limit=10, scorer=fuzzywuzzy.fuzz.token_sort_ratio)\n",
    "\n",
    "def replace_matches_in_column(df, column, string_to_match, min_ratio = 47):\n",
    "    # get a list of unique strings\n",
    "    strings = df[column].unique()\n",
    "    \n",
    "    # get the top 10 closest matches to our input string\n",
    "    matches = fuzzywuzzy.process.extract(string_to_match, strings, \n",
    "                                         limit=10, scorer=fuzzywuzzy.fuzz.token_sort_ratio)\n",
    "\n",
    "    # only get matches with a ratio > 90\n",
    "    close_matches = [matches[0] for matches in matches if matches[1] >= min_ratio]\n",
    "\n",
    "    # get the rows of all the close matches in our dataframe\n",
    "    rows_with_matches = df[column].isin(close_matches)\n",
    "\n",
    "    # replace all rows with close matches with the input matches \n",
    "    df.loc[rows_with_matches, column] = string_to_match\n",
    "    \n",
    "    # let us know the function's done\n",
    "    print(\"All done!\")\n",
    "    \n",
    "replace_matches_in_column(df=professors, column='Country', string_to_match=\"south korea\")\n",
    "countries = professors['Country'].unique()"
   ]
  },
  {
   "cell_type": "markdown",
   "id": "9ebca2d0",
   "metadata": {
    "papermill": {
     "duration": 0.004492,
     "end_time": "2023-04-11T21:57:00.838667",
     "exception": false,
     "start_time": "2023-04-11T21:57:00.834175",
     "status": "completed"
    },
    "tags": []
   },
   "source": [
    "# 1) Examine another column\n",
    "\n",
    "Write code below to take a look at all the unique values in the \"Graduated from\" column."
   ]
  },
  {
   "cell_type": "code",
   "execution_count": 4,
   "id": "77b7d452",
   "metadata": {
    "execution": {
     "iopub.execute_input": "2023-04-11T21:57:00.849630Z",
     "iopub.status.busy": "2023-04-11T21:57:00.849242Z",
     "iopub.status.idle": "2023-04-11T21:57:00.855252Z",
     "shell.execute_reply": "2023-04-11T21:57:00.853807Z"
    },
    "papermill": {
     "duration": 0.014248,
     "end_time": "2023-04-11T21:57:00.857549",
     "exception": false,
     "start_time": "2023-04-11T21:57:00.843301",
     "status": "completed"
    },
    "tags": []
   },
   "outputs": [],
   "source": [
    "# TODO: Your code here\n",
    "unis = professors['Graduated from'].unique()"
   ]
  },
  {
   "cell_type": "markdown",
   "id": "bda06b01",
   "metadata": {
    "papermill": {
     "duration": 0.004368,
     "end_time": "2023-04-11T21:57:00.866674",
     "exception": false,
     "start_time": "2023-04-11T21:57:00.862306",
     "status": "completed"
    },
    "tags": []
   },
   "source": [
    "Do you notice any inconsistencies in the data?  Can any of the inconsistencies in the data be fixed by removing white spaces at the beginning and end of cells?\n",
    "\n",
    "Once you have answered these questions, run the code cell below to get credit for your work."
   ]
  },
  {
   "cell_type": "code",
   "execution_count": 5,
   "id": "e44f893d",
   "metadata": {
    "execution": {
     "iopub.execute_input": "2023-04-11T21:57:00.877663Z",
     "iopub.status.busy": "2023-04-11T21:57:00.877289Z",
     "iopub.status.idle": "2023-04-11T21:57:00.885823Z",
     "shell.execute_reply": "2023-04-11T21:57:00.884919Z"
    },
    "papermill": {
     "duration": 0.01695,
     "end_time": "2023-04-11T21:57:00.888168",
     "exception": false,
     "start_time": "2023-04-11T21:57:00.871218",
     "status": "completed"
    },
    "tags": []
   },
   "outputs": [
    {
     "data": {
      "application/javascript": [
       "parent.postMessage({\"jupyterEvent\": \"custom.exercise_interaction\", \"data\": {\"outcomeType\": 1, \"valueTowardsCompletion\": 0.3333333333333333, \"interactionType\": 1, \"questionType\": 4, \"questionId\": \"1_ExamineProvince\", \"learnToolsVersion\": \"0.3.4\", \"failureMessage\": \"\", \"exceptionClass\": \"\", \"trace\": \"\"}}, \"*\")"
      ],
      "text/plain": [
       "<IPython.core.display.Javascript object>"
      ]
     },
     "metadata": {},
     "output_type": "display_data"
    },
    {
     "data": {
      "text/markdown": [
       "<span style=\"color:#33cc33\">Correct:</span> \n",
       "\n",
       "There are inconsistencies that can be fixed by removing white spaces at the beginning and end of cells.  For instance, \"University of Central Florida\" and \" University of Central Florida\" both appear in the column."
      ],
      "text/plain": [
       "Correct: \n",
       "\n",
       "There are inconsistencies that can be fixed by removing white spaces at the beginning and end of cells.  For instance, \"University of Central Florida\" and \" University of Central Florida\" both appear in the column."
      ]
     },
     "metadata": {},
     "output_type": "display_data"
    }
   ],
   "source": [
    "# Check your answer (Run this code cell to receive credit!)\n",
    "q1.check()"
   ]
  },
  {
   "cell_type": "code",
   "execution_count": 6,
   "id": "e976bb23",
   "metadata": {
    "execution": {
     "iopub.execute_input": "2023-04-11T21:57:00.899944Z",
     "iopub.status.busy": "2023-04-11T21:57:00.899459Z",
     "iopub.status.idle": "2023-04-11T21:57:00.903456Z",
     "shell.execute_reply": "2023-04-11T21:57:00.902426Z"
    },
    "papermill": {
     "duration": 0.012327,
     "end_time": "2023-04-11T21:57:00.905800",
     "exception": false,
     "start_time": "2023-04-11T21:57:00.893473",
     "status": "completed"
    },
    "tags": []
   },
   "outputs": [],
   "source": [
    "# Line below will give you a hint\n",
    "#q1.hint()"
   ]
  },
  {
   "cell_type": "markdown",
   "id": "cf2f6264",
   "metadata": {
    "papermill": {
     "duration": 0.004637,
     "end_time": "2023-04-11T21:57:00.915621",
     "exception": false,
     "start_time": "2023-04-11T21:57:00.910984",
     "status": "completed"
    },
    "tags": []
   },
   "source": [
    "# 2) Do some text pre-processing\n",
    "\n",
    "Convert every entry in the \"Graduated from\" column in the `professors` DataFrame to remove white spaces at the beginning and end of cells."
   ]
  },
  {
   "cell_type": "code",
   "execution_count": 7,
   "id": "d7cfaa01",
   "metadata": {
    "execution": {
     "iopub.execute_input": "2023-04-11T21:57:00.928294Z",
     "iopub.status.busy": "2023-04-11T21:57:00.927736Z",
     "iopub.status.idle": "2023-04-11T21:57:00.941074Z",
     "shell.execute_reply": "2023-04-11T21:57:00.939915Z"
    },
    "papermill": {
     "duration": 0.022629,
     "end_time": "2023-04-11T21:57:00.943145",
     "exception": false,
     "start_time": "2023-04-11T21:57:00.920516",
     "status": "completed"
    },
    "tags": []
   },
   "outputs": [
    {
     "data": {
      "application/javascript": [
       "parent.postMessage({\"jupyterEvent\": \"custom.exercise_interaction\", \"data\": {\"outcomeType\": 1, \"valueTowardsCompletion\": 0.3333333333333333, \"interactionType\": 1, \"questionType\": 1, \"questionId\": \"2_TextProcessing\", \"learnToolsVersion\": \"0.3.4\", \"failureMessage\": \"\", \"exceptionClass\": \"\", \"trace\": \"\"}}, \"*\")"
      ],
      "text/plain": [
       "<IPython.core.display.Javascript object>"
      ]
     },
     "metadata": {},
     "output_type": "display_data"
    },
    {
     "data": {
      "text/markdown": [
       "<span style=\"color:#33cc33\">Correct</span>"
      ],
      "text/plain": [
       "Correct"
      ]
     },
     "metadata": {},
     "output_type": "display_data"
    }
   ],
   "source": [
    "# TODO: Your code here\n",
    "professors['Graduated from'] = professors['Graduated from'].str.strip()\n",
    "\n",
    "# Check your answer\n",
    "q2.check()"
   ]
  },
  {
   "cell_type": "code",
   "execution_count": 8,
   "id": "1105a423",
   "metadata": {
    "execution": {
     "iopub.execute_input": "2023-04-11T21:57:00.954880Z",
     "iopub.status.busy": "2023-04-11T21:57:00.954556Z",
     "iopub.status.idle": "2023-04-11T21:57:00.959028Z",
     "shell.execute_reply": "2023-04-11T21:57:00.957591Z"
    },
    "papermill": {
     "duration": 0.012745,
     "end_time": "2023-04-11T21:57:00.961108",
     "exception": false,
     "start_time": "2023-04-11T21:57:00.948363",
     "status": "completed"
    },
    "tags": []
   },
   "outputs": [],
   "source": [
    "# Lines below will give you a hint or solution code\n",
    "#q2.hint()\n",
    "#q2.solution()"
   ]
  },
  {
   "cell_type": "markdown",
   "id": "f3b67f3b",
   "metadata": {
    "papermill": {
     "duration": 0.004673,
     "end_time": "2023-04-11T21:57:00.970956",
     "exception": false,
     "start_time": "2023-04-11T21:57:00.966283",
     "status": "completed"
    },
    "tags": []
   },
   "source": [
    "# 3) Continue working with countries\n",
    "\n",
    "In the tutorial, we focused on cleaning up inconsistencies in the \"Country\" column.  Run the code cell below to view the list of unique values that we ended with."
   ]
  },
  {
   "cell_type": "code",
   "execution_count": 9,
   "id": "807fe841",
   "metadata": {
    "execution": {
     "iopub.execute_input": "2023-04-11T21:57:00.982794Z",
     "iopub.status.busy": "2023-04-11T21:57:00.982426Z",
     "iopub.status.idle": "2023-04-11T21:57:00.990192Z",
     "shell.execute_reply": "2023-04-11T21:57:00.989367Z"
    },
    "papermill": {
     "duration": 0.015852,
     "end_time": "2023-04-11T21:57:00.991896",
     "exception": false,
     "start_time": "2023-04-11T21:57:00.976044",
     "status": "completed"
    },
    "tags": []
   },
   "outputs": [
    {
     "data": {
      "text/plain": [
       "array(['australia', 'austria', 'canada', 'china', 'finland', 'france',\n",
       "       'germany', 'greece', 'hongkong', 'ireland', 'italy', 'japan',\n",
       "       'macau', 'malaysia', 'mauritius', 'netherland', 'new zealand',\n",
       "       'norway', 'pakistan', 'portugal', 'russian federation',\n",
       "       'saudi arabia', 'scotland', 'singapore', 'south korea', 'spain',\n",
       "       'sweden', 'thailand', 'turkey', 'uk', 'urbana', 'usa', 'usofa'],\n",
       "      dtype=object)"
      ]
     },
     "execution_count": 9,
     "metadata": {},
     "output_type": "execute_result"
    }
   ],
   "source": [
    "# get all the unique values in the 'City' column\n",
    "countries = professors['Country'].unique()\n",
    "\n",
    "# sort them alphabetically and then take a closer look\n",
    "countries.sort()\n",
    "countries"
   ]
  },
  {
   "cell_type": "markdown",
   "id": "6d2a50da",
   "metadata": {
    "papermill": {
     "duration": 0.00487,
     "end_time": "2023-04-11T21:57:01.002021",
     "exception": false,
     "start_time": "2023-04-11T21:57:00.997151",
     "status": "completed"
    },
    "tags": []
   },
   "source": [
    "Take another look at the \"Country\" column and see if there's any more data cleaning we need to do.\n",
    "\n",
    "It looks like 'usa' and 'usofa' should be the same country.  Correct the \"Country\" column in the dataframe to replace 'usofa' with 'usa'.\n",
    "\n",
    "**Use the most recent version of the DataFrame (with the whitespaces at the beginning and end of cells removed) from question 2.**"
   ]
  },
  {
   "cell_type": "code",
   "execution_count": 10,
   "id": "3e7ad26c",
   "metadata": {
    "execution": {
     "iopub.execute_input": "2023-04-11T21:57:01.014357Z",
     "iopub.status.busy": "2023-04-11T21:57:01.013989Z",
     "iopub.status.idle": "2023-04-11T21:57:01.027539Z",
     "shell.execute_reply": "2023-04-11T21:57:01.026291Z"
    },
    "papermill": {
     "duration": 0.022383,
     "end_time": "2023-04-11T21:57:01.029618",
     "exception": false,
     "start_time": "2023-04-11T21:57:01.007235",
     "status": "completed"
    },
    "tags": []
   },
   "outputs": [
    {
     "name": "stdout",
     "output_type": "stream",
     "text": [
      "All done!\n"
     ]
    },
    {
     "data": {
      "application/javascript": [
       "parent.postMessage({\"jupyterEvent\": \"custom.exercise_interaction\", \"data\": {\"outcomeType\": 1, \"valueTowardsCompletion\": 0.3333333333333333, \"interactionType\": 1, \"questionType\": 1, \"questionId\": \"3_WorkingWithCities\", \"learnToolsVersion\": \"0.3.4\", \"failureMessage\": \"\", \"exceptionClass\": \"\", \"trace\": \"\"}}, \"*\")"
      ],
      "text/plain": [
       "<IPython.core.display.Javascript object>"
      ]
     },
     "metadata": {},
     "output_type": "display_data"
    },
    {
     "data": {
      "text/markdown": [
       "<span style=\"color:#33cc33\">Correct</span>"
      ],
      "text/plain": [
       "Correct"
      ]
     },
     "metadata": {},
     "output_type": "display_data"
    }
   ],
   "source": [
    "# TODO: Your code here!\n",
    "matches = fuzzywuzzy.process.extract(\"usa\", countries, limit=10, scorer=fuzzywuzzy.fuzz.token_sort_ratio)\n",
    "replace_matches_in_column(df=professors, column='Country', string_to_match=\"usa\", min_ratio=70)\n",
    "\n",
    "# Check your answer\n",
    "q3.check()"
   ]
  },
  {
   "cell_type": "code",
   "execution_count": 11,
   "id": "9b558734",
   "metadata": {
    "execution": {
     "iopub.execute_input": "2023-04-11T21:57:01.043399Z",
     "iopub.status.busy": "2023-04-11T21:57:01.042977Z",
     "iopub.status.idle": "2023-04-11T21:57:01.047402Z",
     "shell.execute_reply": "2023-04-11T21:57:01.046376Z"
    },
    "papermill": {
     "duration": 0.013823,
     "end_time": "2023-04-11T21:57:01.049341",
     "exception": false,
     "start_time": "2023-04-11T21:57:01.035518",
     "status": "completed"
    },
    "tags": []
   },
   "outputs": [],
   "source": [
    "# Lines below will give you a hint or solution code\n",
    "#q3.hint()\n",
    "#q3.solution()"
   ]
  },
  {
   "cell_type": "markdown",
   "id": "30258107",
   "metadata": {
    "papermill": {
     "duration": 0.005115,
     "end_time": "2023-04-11T21:57:01.060273",
     "exception": false,
     "start_time": "2023-04-11T21:57:01.055158",
     "status": "completed"
    },
    "tags": []
   },
   "source": [
    "# Congratulations!\n",
    "\n",
    "Congratulations for completing the **Data Cleaning** course on Kaggle Learn!\n",
    "\n",
    "To practice your new skills, you're encouraged to download and investigate some of [Kaggle's Datasets](https://www.kaggle.com/datasets)."
   ]
  },
  {
   "cell_type": "markdown",
   "id": "1a9f9df6",
   "metadata": {
    "papermill": {
     "duration": 0.005097,
     "end_time": "2023-04-11T21:57:01.070992",
     "exception": false,
     "start_time": "2023-04-11T21:57:01.065895",
     "status": "completed"
    },
    "tags": []
   },
   "source": [
    "---\n",
    "\n",
    "\n",
    "\n",
    "\n",
    "*Have questions or comments? Visit the [course discussion forum](https://www.kaggle.com/learn/data-cleaning/discussion) to chat with other learners.*"
   ]
  }
 ],
 "metadata": {
  "kernelspec": {
   "display_name": "Python 3",
   "language": "python",
   "name": "python3"
  },
  "language_info": {
   "codemirror_mode": {
    "name": "ipython",
    "version": 3
   },
   "file_extension": ".py",
   "mimetype": "text/x-python",
   "name": "python",
   "nbconvert_exporter": "python",
   "pygments_lexer": "ipython3",
   "version": "3.7.12"
  },
  "papermill": {
   "default_parameters": {},
   "duration": 9.676687,
   "end_time": "2023-04-11T21:57:01.698201",
   "environment_variables": {},
   "exception": null,
   "input_path": "__notebook__.ipynb",
   "output_path": "__notebook__.ipynb",
   "parameters": {},
   "start_time": "2023-04-11T21:56:52.021514",
   "version": "2.4.0"
  }
 },
 "nbformat": 4,
 "nbformat_minor": 5
}
