{
  "cells": [
    {
      "cell_type": "code",
      "execution_count": 1,
      "metadata": {
        "id": "jrK7OUfPgiMO"
      },
      "outputs": [],
      "source": [
        "# For tips on running notebooks in Google Colab, see\n",
        "# https://pytorch.org/tutorials/beginner/colab\n",
        "%matplotlib inline"
      ]
    },
    {
      "cell_type": "markdown",
      "metadata": {
        "id": "cTUmsnOdgiMR"
      },
      "source": [
        "\n",
        "[Introduction](introyt1_tutorial.html) ||\n",
        "[Tensors](tensors_deeper_tutorial.html) ||\n",
        "[Autograd](autogradyt_tutorial.html) ||\n",
        "[Building Models](modelsyt_tutorial.html) ||\n",
        "[TensorBoard Support](tensorboardyt_tutorial.html) ||\n",
        "**Training Models** ||\n",
        "[Model Understanding](captumyt.html)\n",
        "\n",
        "# Training with PyTorch\n",
        "\n",
        "Follow along with the video below or on [youtube](https://www.youtube.com/watch?v=jF43_wj_DCQ)_.\n",
        "\n",
        ".. raw:: html\n",
        "\n",
        "   <div style=\"margin-top:10px; margin-bottom:10px;\">\n",
        "     <iframe width=\"560\" height=\"315\" src=\"https://www.youtube.com/embed/jF43_wj_DCQ\" frameborder=\"0\" allow=\"accelerometer; encrypted-media; gyroscope; picture-in-picture\" allowfullscreen></iframe>\n",
        "   </div>\n",
        "\n",
        "## Introduction\n",
        "\n",
        "In past videos, we’ve discussed and demonstrated:\n",
        "\n",
        "- Building models with the neural network layers and functions of the torch.nn module\n",
        "- The mechanics of automated gradient computation, which is central to\n",
        "  gradient-based model training\n",
        "- Using TensorBoard to visualize training progress and other activities\n",
        "\n",
        "In this video, we’ll be adding some new tools to your inventory:\n",
        "\n",
        "- We’ll get familiar with the dataset and dataloader abstractions, and how\n",
        "  they ease the process of feeding data to your model during a training loop\n",
        "- We’ll discuss specific loss functions and when to use them\n",
        "- We’ll look at PyTorch optimizers, which implement algorithms to adjust\n",
        "  model weights based on the outcome of a loss function\n",
        "\n",
        "Finally, we’ll pull all of these together and see a full PyTorch\n",
        "training loop in action.\n",
        "\n",
        "\n",
        "## Dataset and DataLoader\n",
        "\n",
        "The ``Dataset`` and ``DataLoader`` classes encapsulate the process of\n",
        "pulling your data from storage and exposing it to your training loop in\n",
        "batches.\n",
        "\n",
        "The ``Dataset`` is responsible for accessing and processing single\n",
        "instances of data.\n",
        "\n",
        "The ``DataLoader`` pulls instances of data from the ``Dataset`` (either\n",
        "automatically or with a sampler that you define), collects them in\n",
        "batches, and returns them for consumption by your training loop. The\n",
        "``DataLoader`` works with all kinds of datasets, regardless of the type\n",
        "of data they contain.\n",
        "\n",
        "For this tutorial, we’ll be using the Fashion-MNIST dataset provided by\n",
        "TorchVision. We use ``torchvision.transforms.Normalize()`` to\n",
        "zero-center and normalize the distribution of the image tile content,\n",
        "and download both training and validation data splits.\n"
      ]
    },
    {
      "cell_type": "code",
      "execution_count": 2,
      "metadata": {
        "id": "jnLG1LFZgiMS",
        "outputId": "3fb4ccb0-3e66-43f2-95c6-1bdde217cd43",
        "colab": {
          "base_uri": "https://localhost:8080/"
        }
      },
      "outputs": [
        {
          "output_type": "stream",
          "name": "stdout",
          "text": [
            "Downloading http://fashion-mnist.s3-website.eu-central-1.amazonaws.com/train-images-idx3-ubyte.gz\n",
            "Downloading http://fashion-mnist.s3-website.eu-central-1.amazonaws.com/train-images-idx3-ubyte.gz to ./data/FashionMNIST/raw/train-images-idx3-ubyte.gz\n"
          ]
        },
        {
          "output_type": "stream",
          "name": "stderr",
          "text": [
            "100%|██████████| 26421880/26421880 [00:01<00:00, 13366438.67it/s]\n"
          ]
        },
        {
          "output_type": "stream",
          "name": "stdout",
          "text": [
            "Extracting ./data/FashionMNIST/raw/train-images-idx3-ubyte.gz to ./data/FashionMNIST/raw\n",
            "\n",
            "Downloading http://fashion-mnist.s3-website.eu-central-1.amazonaws.com/train-labels-idx1-ubyte.gz\n",
            "Downloading http://fashion-mnist.s3-website.eu-central-1.amazonaws.com/train-labels-idx1-ubyte.gz to ./data/FashionMNIST/raw/train-labels-idx1-ubyte.gz\n"
          ]
        },
        {
          "output_type": "stream",
          "name": "stderr",
          "text": [
            "100%|██████████| 29515/29515 [00:00<00:00, 210311.97it/s]\n"
          ]
        },
        {
          "output_type": "stream",
          "name": "stdout",
          "text": [
            "Extracting ./data/FashionMNIST/raw/train-labels-idx1-ubyte.gz to ./data/FashionMNIST/raw\n",
            "\n",
            "Downloading http://fashion-mnist.s3-website.eu-central-1.amazonaws.com/t10k-images-idx3-ubyte.gz\n",
            "Downloading http://fashion-mnist.s3-website.eu-central-1.amazonaws.com/t10k-images-idx3-ubyte.gz to ./data/FashionMNIST/raw/t10k-images-idx3-ubyte.gz\n"
          ]
        },
        {
          "output_type": "stream",
          "name": "stderr",
          "text": [
            "100%|██████████| 4422102/4422102 [00:01<00:00, 3878175.12it/s]\n"
          ]
        },
        {
          "output_type": "stream",
          "name": "stdout",
          "text": [
            "Extracting ./data/FashionMNIST/raw/t10k-images-idx3-ubyte.gz to ./data/FashionMNIST/raw\n",
            "\n",
            "Downloading http://fashion-mnist.s3-website.eu-central-1.amazonaws.com/t10k-labels-idx1-ubyte.gz\n",
            "Downloading http://fashion-mnist.s3-website.eu-central-1.amazonaws.com/t10k-labels-idx1-ubyte.gz to ./data/FashionMNIST/raw/t10k-labels-idx1-ubyte.gz\n"
          ]
        },
        {
          "output_type": "stream",
          "name": "stderr",
          "text": [
            "100%|██████████| 5148/5148 [00:00<00:00, 15248783.19it/s]"
          ]
        },
        {
          "output_type": "stream",
          "name": "stdout",
          "text": [
            "Extracting ./data/FashionMNIST/raw/t10k-labels-idx1-ubyte.gz to ./data/FashionMNIST/raw\n",
            "\n",
            "Training set has 60000 instances\n",
            "Validation set has 10000 instances\n"
          ]
        },
        {
          "output_type": "stream",
          "name": "stderr",
          "text": [
            "\n"
          ]
        }
      ],
      "source": [
        "import torch\n",
        "import torchvision\n",
        "import torchvision.transforms as transforms\n",
        "\n",
        "# PyTorch TensorBoard support\n",
        "from torch.utils.tensorboard import SummaryWriter\n",
        "from datetime import datetime\n",
        "\n",
        "\n",
        "transform = transforms.Compose(\n",
        "    [transforms.ToTensor(),\n",
        "    transforms.Normalize((0.5,), (0.5,))])\n",
        "\n",
        "# Create datasets for training & validation, download if necessary\n",
        "training_set = torchvision.datasets.FashionMNIST('./data', train=True, transform=transform, download=True)\n",
        "validation_set = torchvision.datasets.FashionMNIST('./data', train=False, transform=transform, download=True)\n",
        "\n",
        "# Create data loaders for our datasets; shuffle for training, not for validation\n",
        "training_loader = torch.utils.data.DataLoader(training_set, batch_size=4, shuffle=True)\n",
        "validation_loader = torch.utils.data.DataLoader(validation_set, batch_size=4, shuffle=False)\n",
        "\n",
        "# Class labels\n",
        "classes = ('T-shirt/top', 'Trouser', 'Pullover', 'Dress', 'Coat',\n",
        "        'Sandal', 'Shirt', 'Sneaker', 'Bag', 'Ankle Boot')\n",
        "\n",
        "# Report split sizes\n",
        "print('Training set has {} instances'.format(len(training_set)))\n",
        "print('Validation set has {} instances'.format(len(validation_set)))"
      ]
    },
    {
      "cell_type": "markdown",
      "metadata": {
        "id": "GxwWUa-fgiMT"
      },
      "source": [
        "As always, let’s visualize the data as a sanity check:\n",
        "\n",
        "\n"
      ]
    },
    {
      "cell_type": "code",
      "execution_count": 3,
      "metadata": {
        "id": "tqaBYKr7giMT",
        "outputId": "c6c68314-b2de-4410-fb03-d7614628d23d",
        "colab": {
          "base_uri": "https://localhost:8080/",
          "height": 211
        }
      },
      "outputs": [
        {
          "output_type": "stream",
          "name": "stdout",
          "text": [
            "T-shirt/top  Sandal  Shirt  Coat\n"
          ]
        },
        {
          "output_type": "display_data",
          "data": {
            "text/plain": [
              "<Figure size 640x480 with 1 Axes>"
            ],
            "image/png": "[encoded data removed]"
          },
          "metadata": {}
        }
      ],
      "source": [
        "import matplotlib.pyplot as plt\n",
        "import numpy as np\n",
        "\n",
        "# Helper function for inline image display\n",
        "def matplotlib_imshow(img, one_channel=False):\n",
        "    if one_channel:\n",
        "        img = img.mean(dim=0)\n",
        "    img = img / 2 + 0.5     # unnormalize\n",
        "    npimg = img.numpy()\n",
        "    if one_channel:\n",
        "        plt.imshow(npimg, cmap=\"Greys\")\n",
        "    else:\n",
        "        plt.imshow(np.transpose(npimg, (1, 2, 0)))\n",
        "\n",
        "dataiter = iter(training_loader)\n",
        "images, labels = next(dataiter)\n",
        "\n",
        "# Create a grid from the images and show them\n",
        "img_grid = torchvision.utils.make_grid(images)\n",
        "matplotlib_imshow(img_grid, one_channel=True)\n",
        "print('  '.join(classes[labels[j]] for j in range(4)))"
      ]
    },
    {
      "cell_type": "markdown",
      "metadata": {
        "id": "FEe5LaKxgiMT"
      },
      "source": [
        "## The Model\n",
        "\n",
        "The model we’ll use in this example is a variant of LeNet-5 - it should\n",
        "be familiar if you’ve watched the previous videos in this series.\n",
        "\n",
        "\n"
      ]
    },
    {
      "cell_type": "code",
      "execution_count": 4,
      "metadata": {
        "id": "TfgypedogiMU"
      },
      "outputs": [],
      "source": [
        "import torch.nn as nn\n",
        "import torch.nn.functional as F\n",
        "\n",
        "# PyTorch models inherit from torch.nn.Module\n",
        "class GarmentClassifier(nn.Module):\n",
        "    def __init__(self):\n",
        "        super(GarmentClassifier, self).__init__()\n",
        "        self.conv1 = nn.Conv2d(1, 6, 5)\n",
        "        self.pool = nn.MaxPool2d(2, 2)\n",
        "        self.conv2 = nn.Conv2d(6, 16, 5)\n",
        "        self.fc1 = nn.Linear(16 * 4 * 4, 120)\n",
        "        self.fc2 = nn.Linear(120, 84)\n",
        "        self.fc3 = nn.Linear(84, 10)\n",
        "\n",
        "    def forward(self, x):\n",
        "        x = self.pool(F.relu(self.conv1(x)))\n",
        "        x = self.pool(F.relu(self.conv2(x)))\n",
        "        x = x.view(-1, 16 * 4 * 4)\n",
        "        x = F.relu(self.fc1(x))\n",
        "        x = F.relu(self.fc2(x))\n",
        "        x = self.fc3(x)\n",
        "        return x\n",
        "\n",
        "\n",
        "model = GarmentClassifier()"
      ]
    },
    {
      "cell_type": "markdown",
      "metadata": {
        "id": "0gkCQ2sfgiMU"
      },
      "source": [
        "## Loss Function\n",
        "\n",
        "For this example, we’ll be using a cross-entropy loss. For demonstration\n",
        "purposes, we’ll create batches of dummy output and label values, run\n",
        "them through the loss function, and examine the result.\n",
        "\n",
        "\n"
      ]
    },
    {
      "cell_type": "code",
      "execution_count": 5,
      "metadata": {
        "id": "R57ayECsgiMU",
        "outputId": "d574fe6a-79ce-4f6a-816a-debb7474e2dd",
        "colab": {
          "base_uri": "https://localhost:8080/"
        }
      },
      "outputs": [
        {
          "output_type": "stream",
          "name": "stdout",
          "text": [
            "tensor([[0.1846, 0.4176, 0.3825, 0.5315, 0.5403, 0.1049, 0.3833, 0.4775, 0.2148,\n",
            "         0.5771],\n",
            "        [0.0954, 0.8789, 0.5033, 0.0592, 0.0304, 0.5468, 0.5809, 0.1588, 0.0654,\n",
            "         0.9117],\n",
            "        [0.3122, 0.0263, 0.1746, 0.0496, 0.7708, 0.0115, 0.6767, 0.6857, 0.8001,\n",
            "         0.5149],\n",
            "        [0.1615, 0.1894, 0.8263, 0.3599, 0.3651, 0.8927, 0.2354, 0.2729, 0.6097,\n",
            "         0.7374]])\n",
            "tensor([1, 5, 3, 7])\n",
            "Total loss for this batch: 2.4258742332458496\n"
          ]
        }
      ],
      "source": [
        "loss_fn = torch.nn.CrossEntropyLoss()\n",
        "\n",
        "# NB: Loss functions expect data in batches, so we're creating batches of 4\n",
        "# Represents the model's confidence in each of the 10 classes for a given input\n",
        "dummy_outputs = torch.rand(4, 10)\n",
        "# Represents the correct class among the 10 being tested\n",
        "dummy_labels = torch.tensor([1, 5, 3, 7])\n",
        "\n",
        "print(dummy_outputs)\n",
        "print(dummy_labels)\n",
        "\n",
        "loss = loss_fn(dummy_outputs, dummy_labels)\n",
        "print('Total loss for this batch: {}'.format(loss.item()))"
      ]
    },
    {
      "cell_type": "markdown",
      "metadata": {
        "id": "eDeENJPkgiMV"
      },
      "source": [
        "## Optimizer\n",
        "\n",
        "For this example, we’ll be using simple [stochastic gradient\n",
        "descent](https://pytorch.org/docs/stable/optim.html)_ with momentum.\n",
        "\n",
        "It can be instructive to try some variations on this optimization\n",
        "scheme:\n",
        "\n",
        "- Learning rate determines the size of the steps the optimizer\n",
        "  takes. What does a different learning rate do to the your training\n",
        "  results, in terms of accuracy and convergence time?\n",
        "- Momentum nudges the optimizer in the direction of strongest gradient over\n",
        "  multiple steps. What does changing this value do to your results?\n",
        "- Try some different optimization algorithms, such as averaged SGD, Adagrad, or\n",
        "  Adam. How do your results differ?\n",
        "\n",
        "\n"
      ]
    },
    {
      "cell_type": "code",
      "execution_count": 6,
      "metadata": {
        "id": "kQCecPpKgiMV"
      },
      "outputs": [],
      "source": [
        "# Optimizers specified in the torch.optim package\n",
        "optimizer = torch.optim.SGD(model.parameters(), lr=0.001, momentum=0.9)"
      ]
    },
    {
      "cell_type": "markdown",
      "metadata": {
        "id": "ZC_2D3lFgiMV"
      },
      "source": [
        "## The Training Loop\n",
        "\n",
        "Below, we have a function that performs one training epoch. It\n",
        "enumerates data from the DataLoader, and on each pass of the loop does\n",
        "the following:\n",
        "\n",
        "- Gets a batch of training data from the DataLoader\n",
        "- Zeros the optimizer’s gradients\n",
        "- Performs an inference - that is, gets predictions from the model for an input batch\n",
        "- Calculates the loss for that set of predictions vs. the labels on the dataset\n",
        "- Calculates the backward gradients over the learning weights\n",
        "- Tells the optimizer to perform one learning step - that is, adjust the model’s\n",
        "  learning weights based on the observed gradients for this batch, according to the\n",
        "  optimization algorithm we chose\n",
        "- It reports on the loss for every 1000 batches.\n",
        "- Finally, it reports the average per-batch loss for the last\n",
        "  1000 batches, for comparison with a validation run\n",
        "\n",
        "\n"
      ]
    },
    {
      "cell_type": "code",
      "execution_count": 7,
      "metadata": {
        "id": "UR1Pv9G0giMV"
      },
      "outputs": [],
      "source": [
        "def train_one_epoch(epoch_index, tb_writer):\n",
        "    running_loss = 0.\n",
        "    last_loss = 0.\n",
        "\n",
        "    # Here, we use enumerate(training_loader) instead of\n",
        "    # iter(training_loader) so that we can track the batch\n",
        "    # index and do some intra-epoch reporting\n",
        "    for i, data in enumerate(training_loader):\n",
        "        # Every data instance is an input + label pair\n",
        "        inputs, labels = data\n",
        "\n",
        "        # Zero your gradients for every batch!\n",
        "        optimizer.zero_grad()\n",
        "\n",
        "        # Make predictions for this batch\n",
        "        outputs = model(inputs)\n",
        "\n",
        "        # Compute the loss and its gradients\n",
        "        loss = loss_fn(outputs, labels)\n",
        "        loss.backward()\n",
        "\n",
        "        # Adjust learning weights\n",
        "        optimizer.step()\n",
        "\n",
        "        # Gather data and report\n",
        "        running_loss += loss.item()\n",
        "        if i % 1000 == 999:\n",
        "            last_loss = running_loss / 1000 # loss per batch\n",
        "            print('  batch {} loss: {}'.format(i + 1, last_loss))\n",
        "            tb_x = epoch_index * len(training_loader) + i + 1\n",
        "            tb_writer.add_scalar('Loss/train', last_loss, tb_x)\n",
        "            running_loss = 0.\n",
        "\n",
        "    return last_loss"
      ]
    },
    {
      "cell_type": "markdown",
      "metadata": {
        "id": "0cjX26z2giMW"
      },
      "source": [
        "### Per-Epoch Activity\n",
        "\n",
        "There are a couple of things we’ll want to do once per epoch:\n",
        "\n",
        "- Perform validation by checking our relative loss on a set of data that was not\n",
        "  used for training, and report this\n",
        "- Save a copy of the model\n",
        "\n",
        "Here, we’ll do our reporting in TensorBoard. This will require going to\n",
        "the command line to start TensorBoard, and opening it in another browser\n",
        "tab.\n",
        "\n",
        "\n"
      ]
    },
    {
      "cell_type": "code",
      "execution_count": 8,
      "metadata": {
        "id": "wiQt3JZtgiMW",
        "outputId": "ed1ddf7a-f059-4d0c-9686-a0b0bdd1da47",
        "colab": {
          "base_uri": "https://localhost:8080/"
        }
      },
      "outputs": [
        {
          "output_type": "stream",
          "name": "stdout",
          "text": [
            "EPOCH 1:\n",
            "  batch 1000 loss: 1.5363485674113035\n",
            "  batch 2000 loss: 0.8267992789559067\n",
            "  batch 3000 loss: 0.6796091811265796\n",
            "  batch 4000 loss: 0.6260949582764879\n",
            "  batch 5000 loss: 0.5772227682624943\n",
            "  batch 6000 loss: 0.5494213052779087\n",
            "  batch 7000 loss: 0.5618701527868397\n",
            "  batch 8000 loss: 0.5141828217331785\n",
            "  batch 9000 loss: 0.4919137167786248\n",
            "  batch 10000 loss: 0.4665984616292699\n",
            "  batch 11000 loss: 0.4680229784665862\n",
            "  batch 12000 loss: 0.43096619824599475\n",
            "  batch 13000 loss: 0.4514031469413312\n",
            "  batch 14000 loss: 0.42835076043498704\n",
            "  batch 15000 loss: 0.4474002089118585\n",
            "LOSS train 0.4474002089118585 valid 0.45278626680374146\n",
            "EPOCH 2:\n",
            "  batch 1000 loss: 0.42671629064087757\n",
            "  batch 2000 loss: 0.39711697096739956\n",
            "  batch 3000 loss: 0.39498264095722696\n",
            "  batch 4000 loss: 0.3848650223062723\n",
            "  batch 5000 loss: 0.4000550982118875\n",
            "  batch 6000 loss: 0.3856971191315679\n",
            "  batch 7000 loss: 0.36822120744388664\n",
            "  batch 8000 loss: 0.37120682038989616\n",
            "  batch 9000 loss: 0.37201703291427113\n",
            "  batch 10000 loss: 0.3654319526961772\n",
            "  batch 11000 loss: 0.3483824189085426\n",
            "  batch 12000 loss: 0.3485378267324704\n",
            "  batch 13000 loss: 0.33975358803667766\n",
            "  batch 14000 loss: 0.3565145712140074\n",
            "  batch 15000 loss: 0.3462195363661158\n",
            "LOSS train 0.3462195363661158 valid 0.3574596345424652\n",
            "EPOCH 3:\n",
            "  batch 1000 loss: 0.3481476518223062\n",
            "  batch 2000 loss: 0.3206153138583904\n",
            "  batch 3000 loss: 0.337564420934068\n",
            "  batch 4000 loss: 0.3272162494424556\n",
            "  batch 5000 loss: 0.35064357372693483\n",
            "  batch 6000 loss: 0.31733888216379275\n",
            "  batch 7000 loss: 0.32527336885617114\n",
            "  batch 8000 loss: 0.34457288412353226\n",
            "  batch 9000 loss: 0.32688288424833445\n",
            "  batch 10000 loss: 0.3297837265876005\n",
            "  batch 11000 loss: 0.32385353058675537\n",
            "  batch 12000 loss: 0.33810896371956917\n",
            "  batch 13000 loss: 0.3024648118552577\n",
            "  batch 14000 loss: 0.32931085105700003\n",
            "  batch 15000 loss: 0.30317849125731666\n",
            "LOSS train 0.30317849125731666 valid 0.34305045008659363\n",
            "EPOCH 4:\n",
            "  batch 1000 loss: 0.29856035838151\n",
            "  batch 2000 loss: 0.3074741716180142\n",
            "  batch 3000 loss: 0.3085747549758244\n",
            "  batch 4000 loss: 0.30961027467186797\n",
            "  batch 5000 loss: 0.29557699312936075\n",
            "  batch 6000 loss: 0.3106851424341439\n",
            "  batch 7000 loss: 0.30894792133064763\n",
            "  batch 8000 loss: 0.301585993398141\n",
            "  batch 9000 loss: 0.3132250670978174\n",
            "  batch 10000 loss: 0.2993422940364835\n",
            "  batch 11000 loss: 0.3071060558063364\n",
            "  batch 12000 loss: 0.2756010003120173\n",
            "  batch 13000 loss: 0.294814720135415\n",
            "  batch 14000 loss: 0.3050409821175417\n",
            "  batch 15000 loss: 0.2974754921668118\n",
            "LOSS train 0.2974754921668118 valid 0.3265925645828247\n",
            "EPOCH 5:\n",
            "  batch 1000 loss: 0.2892555449539177\n",
            "  batch 2000 loss: 0.27091213840559975\n",
            "  batch 3000 loss: 0.2913755189207732\n",
            "  batch 4000 loss: 0.27288315066486396\n",
            "  batch 5000 loss: 0.2795114039253676\n",
            "  batch 6000 loss: 0.29409110147557294\n",
            "  batch 7000 loss: 0.2739370914389865\n",
            "  batch 8000 loss: 0.2673330009965539\n",
            "  batch 9000 loss: 0.28879188182383225\n",
            "  batch 10000 loss: 0.2868817128448536\n",
            "  batch 11000 loss: 0.29424640443750105\n",
            "  batch 12000 loss: 0.2821521770074578\n",
            "  batch 13000 loss: 0.2872780416274618\n",
            "  batch 14000 loss: 0.26654507728230964\n",
            "  batch 15000 loss: 0.27410562288833173\n",
            "LOSS train 0.27410562288833173 valid 0.30498889088630676\n"
          ]
        }
      ],
      "source": [
        "# Initializing in a separate cell so we can easily add more epochs to the same run\n",
        "timestamp = datetime.now().strftime('%Y%m%d_%H%M%S')\n",
        "writer = SummaryWriter('runs/fashion_trainer_{}'.format(timestamp))\n",
        "epoch_number = 0\n",
        "\n",
        "EPOCHS = 5\n",
        "\n",
        "best_vloss = 1_000_000.\n",
        "\n",
        "for epoch in range(EPOCHS):\n",
        "    print('EPOCH {}:'.format(epoch_number + 1))\n",
        "\n",
        "    # Make sure gradient tracking is on, and do a pass over the data\n",
        "    model.train(True)\n",
        "    avg_loss = train_one_epoch(epoch_number, writer)\n",
        "\n",
        "\n",
        "    running_vloss = 0.0\n",
        "    # Set the model to evaluation mode, disabling dropout and using population\n",
        "    # statistics for batch normalization.\n",
        "    model.eval()\n",
        "\n",
        "    # Disable gradient computation and reduce memory consumption.\n",
        "    with torch.no_grad():\n",
        "        for i, vdata in enumerate(validation_loader):\n",
        "            vinputs, vlabels = vdata\n",
        "            voutputs = model(vinputs)\n",
        "            vloss = loss_fn(voutputs, vlabels)\n",
        "            running_vloss += vloss\n",
        "\n",
        "    avg_vloss = running_vloss / (i + 1)\n",
        "    print('LOSS train {} valid {}'.format(avg_loss, avg_vloss))\n",
        "\n",
        "    # Log the running loss averaged per batch\n",
        "    # for both training and validation\n",
        "    writer.add_scalars('Training vs. Validation Loss',\n",
        "                    { 'Training' : avg_loss, 'Validation' : avg_vloss },\n",
        "                    epoch_number + 1)\n",
        "    writer.flush()\n",
        "\n",
        "    # Track best performance, and save the model's state\n",
        "    if avg_vloss < best_vloss:\n",
        "        best_vloss = avg_vloss\n",
        "        model_path = 'model_{}_{}'.format(timestamp, epoch_number)\n",
        "        torch.save(model.state_dict(), model_path)\n",
        "\n",
        "    epoch_number += 1"
      ]
    },
    {
      "cell_type": "markdown",
      "metadata": {
        "id": "KgiLZa9KgiMW"
      },
      "source": [
        "To load a saved version of the model:\n",
        "\n",
        ".. code:: python\n",
        "\n",
        "    saved_model = GarmentClassifier()\n",
        "    saved_model.load_state_dict(torch.load(PATH))\n",
        "\n",
        "Once you’ve loaded the model, it’s ready for whatever you need it for -\n",
        "more training, inference, or analysis.\n",
        "\n",
        "Note that if your model has constructor parameters that affect model\n",
        "structure, you’ll need to provide them and configure the model\n",
        "identically to the state in which it was saved.\n",
        "\n",
        "## Other Resources\n",
        "\n",
        "-  Docs on the [data\n",
        "   utilities](https://pytorch.org/docs/stable/data.html)_, including\n",
        "   Dataset and DataLoader, at pytorch.org\n",
        "-  A [note on the use of pinned\n",
        "   memory](https://pytorch.org/docs/stable/notes/cuda.html#cuda-memory-pinning)_\n",
        "   for GPU training\n",
        "-  Documentation on the datasets available in\n",
        "   [TorchVision](https://pytorch.org/vision/stable/datasets.html)_,\n",
        "   [TorchText](https://pytorch.org/text/stable/datasets.html)_, and\n",
        "   [TorchAudio](https://pytorch.org/audio/stable/datasets.html)_\n",
        "-  Documentation on the [loss\n",
        "   functions](https://pytorch.org/docs/stable/nn.html#loss-functions)_\n",
        "   available in PyTorch\n",
        "-  Documentation on the [torch.optim\n",
        "   package](https://pytorch.org/docs/stable/optim.html)_, which\n",
        "   includes optimizers and related tools, such as learning rate\n",
        "   scheduling\n",
        "-  A detailed [tutorial on saving and loading\n",
        "   models](https://pytorch.org/tutorials/beginner/saving_loading_models.html)_\n",
        "-  The [Tutorials section of\n",
        "   pytorch.org](https://pytorch.org/tutorials/)_ contains tutorials on\n",
        "   a broad variety of training tasks, including classification in\n",
        "   different domains, generative adversarial networks, reinforcement\n",
        "   learning, and more\n",
        "\n",
        "\n"
      ]
    }
  ],
  "metadata": {
    "kernelspec": {
      "display_name": "Python 3",
      "language": "python",
      "name": "python3"
    },
    "language_info": {
      "codemirror_mode": {
        "name": "ipython",
        "version": 3
      },
      "file_extension": ".py",
      "mimetype": "text/x-python",
      "name": "python",
      "nbconvert_exporter": "python",
      "pygments_lexer": "ipython3",
      "version": "3.10.13"
    },
    "colab": {
      "provenance": []
    }
  },
  "nbformat": 4,
  "nbformat_minor": 0
}