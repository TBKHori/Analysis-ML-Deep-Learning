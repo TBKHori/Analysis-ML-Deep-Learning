{
 "cells": [
  {
   "cell_type": "markdown",
   "id": "ac7110de",
   "metadata": {
    "papermill": {
     "duration": 0.00657,
     "end_time": "2023-06-06T23:52:09.216680",
     "exception": false,
     "start_time": "2023-06-06T23:52:09.210110",
     "status": "completed"
    },
    "tags": []
   },
   "source": [
    "**This notebook is an exercise in the [Intro to Deep Learning](https://www.kaggle.com/learn/intro-to-deep-learning) course.  You can reference the tutorial at [this link](https://www.kaggle.com/ryanholbrook/dropout-and-batch-normalization).**\n",
    "\n",
    "---\n"
   ]
  },
  {
   "cell_type": "markdown",
   "id": "9128b4df",
   "metadata": {
    "papermill": {
     "duration": 0.005347,
     "end_time": "2023-06-06T23:52:09.227774",
     "exception": false,
     "start_time": "2023-06-06T23:52:09.222427",
     "status": "completed"
    },
    "tags": []
   },
   "source": [
    "# Introduction #\n",
    "\n",
    "In this exercise, you'll add dropout to the *Spotify* model from Exercise 4 and see how batch normalization can let you successfully train models on difficult datasets.\n",
    "\n",
    "Run the next cell to get started!"
   ]
  },
  {
   "cell_type": "code",
   "execution_count": 1,
   "id": "f3c27170",
   "metadata": {
    "execution": {
     "iopub.execute_input": "2023-06-06T23:52:09.241019Z",
     "iopub.status.busy": "2023-06-06T23:52:09.240551Z",
     "iopub.status.idle": "2023-06-06T23:52:09.283307Z",
     "shell.execute_reply": "2023-06-06T23:52:09.282267Z"
    },
    "papermill": {
     "duration": 0.052688,
     "end_time": "2023-06-06T23:52:09.286201",
     "exception": false,
     "start_time": "2023-06-06T23:52:09.233513",
     "status": "completed"
    },
    "tags": []
   },
   "outputs": [
    {
     "name": "stderr",
     "output_type": "stream",
     "text": [
      "/tmp/ipykernel_23/195640296.py:3: MatplotlibDeprecationWarning: The seaborn styles shipped by Matplotlib are deprecated since 3.6, as they no longer correspond to the styles shipped by seaborn. However, they will remain available as 'seaborn-v0_8-<style>'. Alternatively, directly use the seaborn API instead.\n",
      "  plt.style.use('seaborn-whitegrid')\n"
     ]
    }
   ],
   "source": [
    "# Setup plotting\n",
    "import matplotlib.pyplot as plt\n",
    "plt.style.use('seaborn-whitegrid')\n",
    "# Set Matplotlib defaults\n",
    "plt.rc('figure', autolayout=True)\n",
    "plt.rc('axes', labelweight='bold', labelsize='large',\n",
    "       titleweight='bold', titlesize=18, titlepad=10)\n",
    "plt.rc('animation', html='html5')\n",
    "\n",
    "# Setup feedback system\n",
    "from learntools.core import binder\n",
    "binder.bind(globals())\n",
    "from learntools.deep_learning_intro.ex5 import *"
   ]
  },
  {
   "cell_type": "markdown",
   "id": "187625a2",
   "metadata": {
    "papermill": {
     "duration": 0.005637,
     "end_time": "2023-06-06T23:52:09.297513",
     "exception": false,
     "start_time": "2023-06-06T23:52:09.291876",
     "status": "completed"
    },
    "tags": []
   },
   "source": [
    "First load the *Spotify* dataset."
   ]
  },
  {
   "cell_type": "code",
   "execution_count": 2,
   "id": "b36f669f",
   "metadata": {
    "execution": {
     "iopub.execute_input": "2023-06-06T23:52:09.311202Z",
     "iopub.status.busy": "2023-06-06T23:52:09.310347Z",
     "iopub.status.idle": "2023-06-06T23:52:18.606519Z",
     "shell.execute_reply": "2023-06-06T23:52:18.605391Z"
    },
    "papermill": {
     "duration": 9.304935,
     "end_time": "2023-06-06T23:52:18.608654",
     "exception": false,
     "start_time": "2023-06-06T23:52:09.303719",
     "status": "completed"
    },
    "tags": []
   },
   "outputs": [
    {
     "name": "stderr",
     "output_type": "stream",
     "text": [
      "/opt/conda/lib/python3.10/site-packages/tensorflow_io/python/ops/__init__.py:98: UserWarning: unable to load libtensorflow_io_plugins.so: unable to open file: libtensorflow_io_plugins.so, from paths: ['/opt/conda/lib/python3.10/site-packages/tensorflow_io/python/ops/libtensorflow_io_plugins.so']\n",
      "caused by: ['/opt/conda/lib/python3.10/site-packages/tensorflow_io/python/ops/libtensorflow_io_plugins.so: undefined symbol: _ZN3tsl6StatusC1EN10tensorflow5error4CodeESt17basic_string_viewIcSt11char_traitsIcEENS_14SourceLocationE']\n",
      "  warnings.warn(f\"unable to load libtensorflow_io_plugins.so: {e}\")\n",
      "/opt/conda/lib/python3.10/site-packages/tensorflow_io/python/ops/__init__.py:104: UserWarning: file system plugins are not loaded: unable to open file: libtensorflow_io.so, from paths: ['/opt/conda/lib/python3.10/site-packages/tensorflow_io/python/ops/libtensorflow_io.so']\n",
      "caused by: ['/opt/conda/lib/python3.10/site-packages/tensorflow_io/python/ops/libtensorflow_io.so: undefined symbol: _ZTVN10tensorflow13GcsFileSystemE']\n",
      "  warnings.warn(f\"file system plugins are not loaded: {e}\")\n"
     ]
    },
    {
     "name": "stdout",
     "output_type": "stream",
     "text": [
      "Input shape: [18]\n"
     ]
    }
   ],
   "source": [
    "import pandas as pd\n",
    "from sklearn.preprocessing import StandardScaler, OneHotEncoder\n",
    "from sklearn.compose import make_column_transformer\n",
    "from sklearn.model_selection import GroupShuffleSplit\n",
    "\n",
    "from tensorflow import keras\n",
    "from tensorflow.keras import layers\n",
    "from tensorflow.keras import callbacks\n",
    "\n",
    "spotify = pd.read_csv('../input/dl-course-data/spotify.csv')\n",
    "\n",
    "X = spotify.copy().dropna()\n",
    "y = X.pop('track_popularity')\n",
    "artists = X['track_artist']\n",
    "\n",
    "features_num = ['danceability', 'energy', 'key', 'loudness', 'mode',\n",
    "                'speechiness', 'acousticness', 'instrumentalness',\n",
    "                'liveness', 'valence', 'tempo', 'duration_ms']\n",
    "features_cat = ['playlist_genre']\n",
    "\n",
    "preprocessor = make_column_transformer(\n",
    "    (StandardScaler(), features_num),\n",
    "    (OneHotEncoder(), features_cat),\n",
    ")\n",
    "\n",
    "def group_split(X, y, group, train_size=0.75):\n",
    "    splitter = GroupShuffleSplit(train_size=train_size)\n",
    "    train, test = next(splitter.split(X, y, groups=group))\n",
    "    return (X.iloc[train], X.iloc[test], y.iloc[train], y.iloc[test])\n",
    "\n",
    "X_train, X_valid, y_train, y_valid = group_split(X, y, artists)\n",
    "\n",
    "X_train = preprocessor.fit_transform(X_train)\n",
    "X_valid = preprocessor.transform(X_valid)\n",
    "y_train = y_train / 100\n",
    "y_valid = y_valid / 100\n",
    "\n",
    "input_shape = [X_train.shape[1]]\n",
    "print(\"Input shape: {}\".format(input_shape))"
   ]
  },
  {
   "cell_type": "markdown",
   "id": "57562e76",
   "metadata": {
    "papermill": {
     "duration": 0.005642,
     "end_time": "2023-06-06T23:52:18.620526",
     "exception": false,
     "start_time": "2023-06-06T23:52:18.614884",
     "status": "completed"
    },
    "tags": []
   },
   "source": [
    "# 1) Add Dropout to Spotify Model\n",
    "\n",
    "Here is the last model from Exercise 4. Add two dropout layers, one after the `Dense` layer with 128 units, and one after the `Dense` layer with 64 units. Set the dropout rate on both to `0.3`."
   ]
  },
  {
   "cell_type": "code",
   "execution_count": 3,
   "id": "b61b2e7f",
   "metadata": {
    "execution": {
     "iopub.execute_input": "2023-06-06T23:52:18.634463Z",
     "iopub.status.busy": "2023-06-06T23:52:18.633033Z",
     "iopub.status.idle": "2023-06-06T23:52:21.501573Z",
     "shell.execute_reply": "2023-06-06T23:52:21.500670Z"
    },
    "lines_to_next_cell": 2,
    "papermill": {
     "duration": 2.877676,
     "end_time": "2023-06-06T23:52:21.503952",
     "exception": false,
     "start_time": "2023-06-06T23:52:18.626276",
     "status": "completed"
    },
    "tags": []
   },
   "outputs": [
    {
     "data": {
      "application/javascript": [
       "parent.postMessage({\"jupyterEvent\": \"custom.exercise_interaction\", \"data\": {\"outcomeType\": 1, \"valueTowardsCompletion\": 0.25, \"interactionType\": 1, \"questionType\": 2, \"questionId\": \"1_Q1\", \"learnToolsVersion\": \"0.3.4\", \"failureMessage\": \"\", \"exceptionClass\": \"\", \"trace\": \"\"}}, \"*\")"
      ],
      "text/plain": [
       "<IPython.core.display.Javascript object>"
      ]
     },
     "metadata": {},
     "output_type": "display_data"
    },
    {
     "data": {
      "text/markdown": [
       "<span style=\"color:#33cc33\">Correct</span>"
      ],
      "text/plain": [
       "Correct"
      ]
     },
     "metadata": {},
     "output_type": "display_data"
    }
   ],
   "source": [
    "model = keras.Sequential([\n",
    "    layers.Dense(128, activation='relu', input_shape=input_shape),\n",
    "    layers.Dropout(0.3),\n",
    "    layers.Dense(64, activation='relu'),\n",
    "    layers.Dropout(0.3),\n",
    "    layers.Dense(1)\n",
    "])\n",
    "\n",
    "# Check your answer\n",
    "q_1.check()"
   ]
  },
  {
   "cell_type": "code",
   "execution_count": 4,
   "id": "a5364f95",
   "metadata": {
    "execution": {
     "iopub.execute_input": "2023-06-06T23:52:21.517705Z",
     "iopub.status.busy": "2023-06-06T23:52:21.517396Z",
     "iopub.status.idle": "2023-06-06T23:52:21.521373Z",
     "shell.execute_reply": "2023-06-06T23:52:21.520441Z"
    },
    "papermill": {
     "duration": 0.013169,
     "end_time": "2023-06-06T23:52:21.523411",
     "exception": false,
     "start_time": "2023-06-06T23:52:21.510242",
     "status": "completed"
    },
    "tags": []
   },
   "outputs": [],
   "source": [
    "# Lines below will give you a hint or solution code\n",
    "#q_1.hint()\n",
    "#q_1.solution()"
   ]
  },
  {
   "cell_type": "markdown",
   "id": "571d6c41",
   "metadata": {
    "papermill": {
     "duration": 0.005866,
     "end_time": "2023-06-06T23:52:21.535350",
     "exception": false,
     "start_time": "2023-06-06T23:52:21.529484",
     "status": "completed"
    },
    "tags": []
   },
   "source": [
    "Now run this next cell to train the model see the effect of adding dropout."
   ]
  },
  {
   "cell_type": "code",
   "execution_count": 5,
   "id": "a91c84e0",
   "metadata": {
    "execution": {
     "iopub.execute_input": "2023-06-06T23:52:21.548745Z",
     "iopub.status.busy": "2023-06-06T23:52:21.548461Z",
     "iopub.status.idle": "2023-06-06T23:52:35.663637Z",
     "shell.execute_reply": "2023-06-06T23:52:35.662750Z"
    },
    "papermill": {
     "duration": 14.123999,
     "end_time": "2023-06-06T23:52:35.665586",
     "exception": false,
     "start_time": "2023-06-06T23:52:21.541587",
     "status": "completed"
    },
    "tags": []
   },
   "outputs": [
    {
     "name": "stdout",
     "output_type": "stream",
     "text": [
      "Minimum Validation Loss: 0.1933\n"
     ]
    },
    {
     "data": {
      "image/png": "[encoded data removed]",
      "text/plain": [
       "<Figure size 640x480 with 1 Axes>"
      ]
     },
     "metadata": {},
     "output_type": "display_data"
    }
   ],
   "source": [
    "model.compile(\n",
    "    optimizer='adam',\n",
    "    loss='mae',\n",
    ")\n",
    "history = model.fit(\n",
    "    X_train, y_train,\n",
    "    validation_data=(X_valid, y_valid),\n",
    "    batch_size=512,\n",
    "    epochs=50,\n",
    "    verbose=0,\n",
    ")\n",
    "history_df = pd.DataFrame(history.history)\n",
    "history_df.loc[:, ['loss', 'val_loss']].plot()\n",
    "print(\"Minimum Validation Loss: {:0.4f}\".format(history_df['val_loss'].min()))"
   ]
  },
  {
   "cell_type": "markdown",
   "id": "b2cabbf6",
   "metadata": {
    "papermill": {
     "duration": 0.006394,
     "end_time": "2023-06-06T23:52:35.678675",
     "exception": false,
     "start_time": "2023-06-06T23:52:35.672281",
     "status": "completed"
    },
    "tags": []
   },
   "source": [
    "# 2) Evaluate Dropout\n",
    "\n",
    "Recall from Exercise 4 that this model tended to overfit the data around epoch 5. Did adding dropout seem to help prevent overfitting this time?"
   ]
  },
  {
   "cell_type": "code",
   "execution_count": 6,
   "id": "f3ee05f6",
   "metadata": {
    "execution": {
     "iopub.execute_input": "2023-06-06T23:52:35.693473Z",
     "iopub.status.busy": "2023-06-06T23:52:35.692804Z",
     "iopub.status.idle": "2023-06-06T23:52:35.703359Z",
     "shell.execute_reply": "2023-06-06T23:52:35.702529Z"
    },
    "papermill": {
     "duration": 0.020093,
     "end_time": "2023-06-06T23:52:35.705251",
     "exception": false,
     "start_time": "2023-06-06T23:52:35.685158",
     "status": "completed"
    },
    "tags": []
   },
   "outputs": [
    {
     "data": {
      "application/javascript": [
       "parent.postMessage({\"jupyterEvent\": \"custom.exercise_interaction\", \"data\": {\"outcomeType\": 1, \"valueTowardsCompletion\": 0.25, \"interactionType\": 1, \"questionType\": 4, \"questionId\": \"2_Q2\", \"learnToolsVersion\": \"0.3.4\", \"failureMessage\": \"\", \"exceptionClass\": \"\", \"trace\": \"\"}}, \"*\")"
      ],
      "text/plain": [
       "<IPython.core.display.Javascript object>"
      ]
     },
     "metadata": {},
     "output_type": "display_data"
    },
    {
     "data": {
      "text/markdown": [
       "<span style=\"color:#33cc33\">Correct:</span> \n",
       "\n",
       "\n",
       "From the learning curves, you can see that the validation loss remains near a constant minimum even though the training loss continues to decrease. So we can see that adding dropout did prevent overfitting this time. Moreover, by making it harder for the network to fit spurious patterns, dropout may have encouraged the network to seek out more of the true patterns, possibly improving the validation loss some as well).\n"
      ],
      "text/plain": [
       "Correct: \n",
       "\n",
       "\n",
       "From the learning curves, you can see that the validation loss remains near a constant minimum even though the training loss continues to decrease. So we can see that adding dropout did prevent overfitting this time. Moreover, by making it harder for the network to fit spurious patterns, dropout may have encouraged the network to seek out more of the true patterns, possibly improving the validation loss some as well)."
      ]
     },
     "metadata": {},
     "output_type": "display_data"
    }
   ],
   "source": [
    "# View the solution (Run this cell to receive credit!)\n",
    "q_2.check()"
   ]
  },
  {
   "cell_type": "markdown",
   "id": "b1d20e4c",
   "metadata": {
    "papermill": {
     "duration": 0.006597,
     "end_time": "2023-06-06T23:52:35.718720",
     "exception": false,
     "start_time": "2023-06-06T23:52:35.712123",
     "status": "completed"
    },
    "tags": []
   },
   "source": [
    "Now, we'll switch topics to explore how batch normalization can fix problems in training.\n",
    "\n",
    "Load the *Concrete* dataset. We won't do any standardization this time. This will make the effect of batch normalization much more apparent."
   ]
  },
  {
   "cell_type": "code",
   "execution_count": 7,
   "id": "4f85e0e0",
   "metadata": {
    "execution": {
     "iopub.execute_input": "2023-06-06T23:52:35.733911Z",
     "iopub.status.busy": "2023-06-06T23:52:35.733168Z",
     "iopub.status.idle": "2023-06-06T23:52:35.749655Z",
     "shell.execute_reply": "2023-06-06T23:52:35.748770Z"
    },
    "papermill": {
     "duration": 0.026327,
     "end_time": "2023-06-06T23:52:35.751811",
     "exception": false,
     "start_time": "2023-06-06T23:52:35.725484",
     "status": "completed"
    },
    "tags": []
   },
   "outputs": [],
   "source": [
    "import pandas as pd\n",
    "\n",
    "concrete = pd.read_csv('../input/dl-course-data/concrete.csv')\n",
    "df = concrete.copy()\n",
    "\n",
    "df_train = df.sample(frac=0.7, random_state=0)\n",
    "df_valid = df.drop(df_train.index)\n",
    "\n",
    "X_train = df_train.drop('CompressiveStrength', axis=1)\n",
    "X_valid = df_valid.drop('CompressiveStrength', axis=1)\n",
    "y_train = df_train['CompressiveStrength']\n",
    "y_valid = df_valid['CompressiveStrength']\n",
    "\n",
    "input_shape = [X_train.shape[1]]"
   ]
  },
  {
   "cell_type": "markdown",
   "id": "dfd7b473",
   "metadata": {
    "papermill": {
     "duration": 0.00722,
     "end_time": "2023-06-06T23:52:35.766334",
     "exception": false,
     "start_time": "2023-06-06T23:52:35.759114",
     "status": "completed"
    },
    "tags": []
   },
   "source": [
    "Run the following cell to train the network on the unstandardized *Concrete* data."
   ]
  },
  {
   "cell_type": "code",
   "execution_count": 8,
   "id": "19314b02",
   "metadata": {
    "execution": {
     "iopub.execute_input": "2023-06-06T23:52:35.781588Z",
     "iopub.status.busy": "2023-06-06T23:52:35.781303Z",
     "iopub.status.idle": "2023-06-06T23:52:44.494605Z",
     "shell.execute_reply": "2023-06-06T23:52:44.493681Z"
    },
    "papermill": {
     "duration": 8.723263,
     "end_time": "2023-06-06T23:52:44.496817",
     "exception": false,
     "start_time": "2023-06-06T23:52:35.773554",
     "status": "completed"
    },
    "tags": []
   },
   "outputs": [
    {
     "name": "stdout",
     "output_type": "stream",
     "text": [
      "Minimum Validation Loss: nan\n"
     ]
    },
    {
     "data": {
      "image/png": "[encoded data removed]",
      "text/plain": [
       "<Figure size 640x480 with 1 Axes>"
      ]
     },
     "metadata": {},
     "output_type": "display_data"
    }
   ],
   "source": [
    "model = keras.Sequential([\n",
    "    layers.Dense(512, activation='relu', input_shape=input_shape),\n",
    "    layers.Dense(512, activation='relu'),    \n",
    "    layers.Dense(512, activation='relu'),\n",
    "    layers.Dense(1),\n",
    "])\n",
    "model.compile(\n",
    "    optimizer='sgd', # SGD is more sensitive to differences of scale\n",
    "    loss='mae',\n",
    "    metrics=['mae'],\n",
    ")\n",
    "history = model.fit(\n",
    "    X_train, y_train,\n",
    "    validation_data=(X_valid, y_valid),\n",
    "    batch_size=64,\n",
    "    epochs=100,\n",
    "    verbose=0,\n",
    ")\n",
    "\n",
    "history_df = pd.DataFrame(history.history)\n",
    "history_df.loc[0:, ['loss', 'val_loss']].plot()\n",
    "print((\"Minimum Validation Loss: {:0.4f}\").format(history_df['val_loss'].min()))"
   ]
  },
  {
   "cell_type": "markdown",
   "id": "987f76e0",
   "metadata": {
    "papermill": {
     "duration": 0.007171,
     "end_time": "2023-06-06T23:52:44.511408",
     "exception": false,
     "start_time": "2023-06-06T23:52:44.504237",
     "status": "completed"
    },
    "tags": []
   },
   "source": [
    "Did you end up with a blank graph? Trying to train this network on this dataset will usually fail. Even when it does converge (due to a lucky weight initialization), it tends to converge to a very large number.\n",
    "\n",
    "# 3) Add Batch Normalization Layers\n",
    "\n",
    "Batch normalization can help correct problems like this.\n",
    "\n",
    "Add four `BatchNormalization` layers, one before each of the dense layers. (Remember to move the `input_shape` argument to the new first layer.)"
   ]
  },
  {
   "cell_type": "code",
   "execution_count": 9,
   "id": "5e560ae4",
   "metadata": {
    "execution": {
     "iopub.execute_input": "2023-06-06T23:52:44.527338Z",
     "iopub.status.busy": "2023-06-06T23:52:44.527044Z",
     "iopub.status.idle": "2023-06-06T23:52:44.636373Z",
     "shell.execute_reply": "2023-06-06T23:52:44.635481Z"
    },
    "lines_to_next_cell": 0,
    "papermill": {
     "duration": 0.119895,
     "end_time": "2023-06-06T23:52:44.638430",
     "exception": false,
     "start_time": "2023-06-06T23:52:44.518535",
     "status": "completed"
    },
    "tags": []
   },
   "outputs": [
    {
     "data": {
      "application/javascript": [
       "parent.postMessage({\"jupyterEvent\": \"custom.exercise_interaction\", \"data\": {\"outcomeType\": 1, \"valueTowardsCompletion\": 0.25, \"interactionType\": 1, \"questionType\": 2, \"questionId\": \"3_Q3\", \"learnToolsVersion\": \"0.3.4\", \"failureMessage\": \"\", \"exceptionClass\": \"\", \"trace\": \"\"}}, \"*\")"
      ],
      "text/plain": [
       "<IPython.core.display.Javascript object>"
      ]
     },
     "metadata": {},
     "output_type": "display_data"
    },
    {
     "data": {
      "text/markdown": [
       "<span style=\"color:#33cc33\">Correct</span>"
      ],
      "text/plain": [
       "Correct"
      ]
     },
     "metadata": {},
     "output_type": "display_data"
    }
   ],
   "source": [
    "model = keras.Sequential([\n",
    "    layers.BatchNormalization(input_shape=input_shape),\n",
    "    layers.Dense(512, activation='relu'),\n",
    "    layers.BatchNormalization(),\n",
    "    layers.Dense(512, activation='relu'),\n",
    "    layers.BatchNormalization(),\n",
    "    layers.Dense(512, activation='relu'),\n",
    "    layers.BatchNormalization(),\n",
    "    layers.Dense(1),\n",
    "])\n",
    "\n",
    "# Check your answer\n",
    "q_3.check()"
   ]
  },
  {
   "cell_type": "code",
   "execution_count": 10,
   "id": "971c36e2",
   "metadata": {
    "execution": {
     "iopub.execute_input": "2023-06-06T23:52:44.655436Z",
     "iopub.status.busy": "2023-06-06T23:52:44.654561Z",
     "iopub.status.idle": "2023-06-06T23:52:44.658823Z",
     "shell.execute_reply": "2023-06-06T23:52:44.657938Z"
    },
    "papermill": {
     "duration": 0.014703,
     "end_time": "2023-06-06T23:52:44.660700",
     "exception": false,
     "start_time": "2023-06-06T23:52:44.645997",
     "status": "completed"
    },
    "tags": []
   },
   "outputs": [],
   "source": [
    "# Lines below will give you a hint or solution code\n",
    "#q_3.hint()\n",
    "#q_3.solution()"
   ]
  },
  {
   "cell_type": "markdown",
   "id": "d8377630",
   "metadata": {
    "papermill": {
     "duration": 0.007618,
     "end_time": "2023-06-06T23:52:44.675750",
     "exception": false,
     "start_time": "2023-06-06T23:52:44.668132",
     "status": "completed"
    },
    "tags": []
   },
   "source": [
    "Run the next cell to see if batch normalization will let us train the model."
   ]
  },
  {
   "cell_type": "code",
   "execution_count": 11,
   "id": "e7814b51",
   "metadata": {
    "execution": {
     "iopub.execute_input": "2023-06-06T23:52:44.691723Z",
     "iopub.status.busy": "2023-06-06T23:52:44.691421Z",
     "iopub.status.idle": "2023-06-06T23:52:56.322465Z",
     "shell.execute_reply": "2023-06-06T23:52:56.321547Z"
    },
    "papermill": {
     "duration": 11.641542,
     "end_time": "2023-06-06T23:52:56.324689",
     "exception": false,
     "start_time": "2023-06-06T23:52:44.683147",
     "status": "completed"
    },
    "tags": []
   },
   "outputs": [
    {
     "name": "stdout",
     "output_type": "stream",
     "text": [
      "Minimum Validation Loss: 4.0891\n"
     ]
    },
    {
     "data": {
      "image/png": "[encoded data removed]",
      "text/plain": [
       "<Figure size 640x480 with 1 Axes>"
      ]
     },
     "metadata": {},
     "output_type": "display_data"
    }
   ],
   "source": [
    "model.compile(\n",
    "    optimizer='sgd',\n",
    "    loss='mae',\n",
    "    metrics=['mae'],\n",
    ")\n",
    "EPOCHS = 100\n",
    "history = model.fit(\n",
    "    X_train, y_train,\n",
    "    validation_data=(X_valid, y_valid),\n",
    "    batch_size=64,\n",
    "    epochs=EPOCHS,\n",
    "    verbose=0,\n",
    ")\n",
    "\n",
    "history_df = pd.DataFrame(history.history)\n",
    "history_df.loc[0:, ['loss', 'val_loss']].plot()\n",
    "print((\"Minimum Validation Loss: {:0.4f}\").format(history_df['val_loss'].min()))"
   ]
  },
  {
   "cell_type": "markdown",
   "id": "a2c97c4a",
   "metadata": {
    "papermill": {
     "duration": 0.008121,
     "end_time": "2023-06-06T23:52:56.341388",
     "exception": false,
     "start_time": "2023-06-06T23:52:56.333267",
     "status": "completed"
    },
    "tags": []
   },
   "source": [
    "# 4) Evaluate Batch Normalization\n",
    "\n",
    "Did adding batch normalization help?"
   ]
  },
  {
   "cell_type": "code",
   "execution_count": 12,
   "id": "cd7b99ec",
   "metadata": {
    "execution": {
     "iopub.execute_input": "2023-06-06T23:52:56.359994Z",
     "iopub.status.busy": "2023-06-06T23:52:56.359110Z",
     "iopub.status.idle": "2023-06-06T23:52:56.369461Z",
     "shell.execute_reply": "2023-06-06T23:52:56.368628Z"
    },
    "lines_to_next_cell": 0,
    "papermill": {
     "duration": 0.021835,
     "end_time": "2023-06-06T23:52:56.371510",
     "exception": false,
     "start_time": "2023-06-06T23:52:56.349675",
     "status": "completed"
    },
    "tags": []
   },
   "outputs": [
    {
     "data": {
      "application/javascript": [
       "parent.postMessage({\"jupyterEvent\": \"custom.exercise_interaction\", \"data\": {\"outcomeType\": 1, \"valueTowardsCompletion\": 0.25, \"interactionType\": 1, \"questionType\": 4, \"questionId\": \"4_Q4\", \"learnToolsVersion\": \"0.3.4\", \"failureMessage\": \"\", \"exceptionClass\": \"\", \"trace\": \"\"}}, \"*\")"
      ],
      "text/plain": [
       "<IPython.core.display.Javascript object>"
      ]
     },
     "metadata": {},
     "output_type": "display_data"
    },
    {
     "data": {
      "text/markdown": [
       "<span style=\"color:#33cc33\">Correct:</span> \n",
       "\n",
       "\n",
       "You can see that adding batch normalization was a big improvement on the first attempt! By adaptively scaling the data as it passes through the network, batch normalization can let you train models on difficult datasets.\n"
      ],
      "text/plain": [
       "Correct: \n",
       "\n",
       "\n",
       "You can see that adding batch normalization was a big improvement on the first attempt! By adaptively scaling the data as it passes through the network, batch normalization can let you train models on difficult datasets."
      ]
     },
     "metadata": {},
     "output_type": "display_data"
    }
   ],
   "source": [
    "# View the solution (Run this cell to receive credit!)\n",
    "q_4.check()"
   ]
  },
  {
   "cell_type": "markdown",
   "id": "97dd27db",
   "metadata": {
    "papermill": {
     "duration": 0.008238,
     "end_time": "2023-06-06T23:52:56.388229",
     "exception": false,
     "start_time": "2023-06-06T23:52:56.379991",
     "status": "completed"
    },
    "tags": []
   },
   "source": [
    "# Keep Going #\n",
    "\n",
    "[**Create neural networks**](https://www.kaggle.com/ryanholbrook/binary-classification) for binary classification."
   ]
  },
  {
   "cell_type": "markdown",
   "id": "c5a27885",
   "metadata": {
    "papermill": {
     "duration": 0.008193,
     "end_time": "2023-06-06T23:52:56.404770",
     "exception": false,
     "start_time": "2023-06-06T23:52:56.396577",
     "status": "completed"
    },
    "tags": []
   },
   "source": [
    "---\n",
    "\n",
    "\n",
    "\n",
    "\n",
    "*Have questions or comments? Visit the [course discussion forum](https://www.kaggle.com/learn/intro-to-deep-learning/discussion) to chat with other learners.*"
   ]
  }
 ],
 "metadata": {
  "kernelspec": {
   "display_name": "Python 3",
   "language": "python",
   "name": "python3"
  },
  "language_info": {
   "codemirror_mode": {
    "name": "ipython",
    "version": 3
   },
   "file_extension": ".py",
   "mimetype": "text/x-python",
   "name": "python",
   "nbconvert_exporter": "python",
   "pygments_lexer": "ipython3",
   "version": "3.10.10"
  },
  "papermill": {
   "default_parameters": {},
   "duration": 60.711887,
   "end_time": "2023-06-06T23:52:59.416592",
   "environment_variables": {},
   "exception": null,
   "input_path": "__notebook__.ipynb",
   "output_path": "__notebook__.ipynb",
   "parameters": {},
   "start_time": "2023-06-06T23:51:58.704705",
   "version": "2.4.0"
  }
 },
 "nbformat": 4,
 "nbformat_minor": 5
}
