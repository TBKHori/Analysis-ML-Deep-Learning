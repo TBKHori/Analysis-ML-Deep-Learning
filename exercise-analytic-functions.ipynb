{
 "cells": [
  {
   "cell_type": "markdown",
   "id": "2a7631a5",
   "metadata": {
    "papermill": {
     "duration": 0.007786,
     "end_time": "2023-04-28T19:43:22.519304",
     "exception": false,
     "start_time": "2023-04-28T19:43:22.511518",
     "status": "completed"
    },
    "tags": []
   },
   "source": [
    "**This notebook is an exercise in the [Advanced SQL](https://www.kaggle.com/learn/advanced-sql) course.  You can reference the tutorial at [this link](https://www.kaggle.com/alexisbcook/analytic-functions).**\n",
    "\n",
    "---\n"
   ]
  },
  {
   "cell_type": "markdown",
   "id": "3eb3dd2b",
   "metadata": {
    "papermill": {
     "duration": 0.004031,
     "end_time": "2023-04-28T19:43:22.529149",
     "exception": false,
     "start_time": "2023-04-28T19:43:22.525118",
     "status": "completed"
    },
    "tags": []
   },
   "source": [
    "# Introduction\n",
    "\n",
    "Here, you'll use window functions to answer questions about the [Chicago Taxi Trips](https://www.kaggle.com/chicago/chicago-taxi-trips-bq) dataset.\n",
    "\n",
    "Before you get started, run the code cell below to set everything up."
   ]
  },
  {
   "cell_type": "code",
   "execution_count": 1,
   "id": "ac8513d3",
   "metadata": {
    "execution": {
     "iopub.execute_input": "2023-04-28T19:43:22.539558Z",
     "iopub.status.busy": "2023-04-28T19:43:22.539164Z",
     "iopub.status.idle": "2023-04-28T19:43:57.149499Z",
     "shell.execute_reply": "2023-04-28T19:43:57.148358Z"
    },
    "papermill": {
     "duration": 34.623197,
     "end_time": "2023-04-28T19:43:57.156593",
     "exception": false,
     "start_time": "2023-04-28T19:43:22.533396",
     "status": "completed"
    },
    "tags": []
   },
   "outputs": [
    {
     "name": "stdout",
     "output_type": "stream",
     "text": [
      "Collecting git+https://github.com/Kaggle/learntools.git\r\n",
      "  Cloning https://github.com/Kaggle/learntools.git to /tmp/pip-req-build-a4k7tpoh\r\n",
      "  Running command git clone --filter=blob:none --quiet https://github.com/Kaggle/learntools.git /tmp/pip-req-build-a4k7tpoh\r\n",
      "  Resolved https://github.com/Kaggle/learntools.git to commit ab3f19a77b8a92c7337c9fd15d84602e7320a077\r\n",
      "  Preparing metadata (setup.py) ... \u001b[?25l-\b \bdone\r\n",
      "\u001b[?25hBuilding wheels for collected packages: learntools\r\n",
      "  Building wheel for learntools (setup.py) ... \u001b[?25l-\b \b\\\b \b|\b \bdone\r\n",
      "\u001b[?25h  Created wheel for learntools: filename=learntools-0.3.4-py3-none-any.whl size=268981 sha256=0d39a69d792ef40d013a4b09624dbea61539e1674ce0501a2e878065756913f7\r\n",
      "  Stored in directory: /tmp/pip-ephem-wheel-cache-rzpaf22j/wheels/dd/d7/6b/0fc758f52767fd281d6dceded6757c6cb5bb90ccd2dbb1de9f\r\n",
      "Successfully built learntools\r\n",
      "Installing collected packages: learntools\r\n",
      "Successfully installed learntools-0.3.4\r\n",
      "\u001b[33mWARNING: Running pip as the 'root' user can result in broken permissions and conflicting behaviour with the system package manager. It is recommended to use a virtual environment instead: https://pip.pypa.io/warnings/venv\u001b[0m\u001b[33m\r\n",
      "\u001b[0mUsing Kaggle's public dataset BigQuery integration.\n"
     ]
    },
    {
     "name": "stderr",
     "output_type": "stream",
     "text": [
      "/opt/conda/lib/python3.7/site-packages/google/cloud/bigquery/client.py:440: UserWarning: Cannot create BigQuery Storage client, the dependency google-cloud-bigquery-storage is not installed.\n",
      "  \"Cannot create BigQuery Storage client, the dependency \"\n"
     ]
    },
    {
     "name": "stdout",
     "output_type": "stream",
     "text": [
      "Setup Complete\n"
     ]
    }
   ],
   "source": [
    "# Get most recent checking code\n",
    "!pip install -U -t /kaggle/working/ git+https://github.com/Kaggle/learntools.git\n",
    "# Set up feedback system\n",
    "from learntools.core import binder\n",
    "binder.bind(globals())\n",
    "from learntools.sql_advanced.ex2 import *\n",
    "print(\"Setup Complete\")"
   ]
  },
  {
   "cell_type": "markdown",
   "id": "6d1a7020",
   "metadata": {
    "papermill": {
     "duration": 0.004951,
     "end_time": "2023-04-28T19:43:57.166910",
     "exception": false,
     "start_time": "2023-04-28T19:43:57.161959",
     "status": "completed"
    },
    "tags": []
   },
   "source": [
    "The following code cell fetches the `taxi_trips` table from the `chicago_taxi_trips` dataset. We also preview the first five rows of the table.  You'll use the table to answer the questions below."
   ]
  },
  {
   "cell_type": "code",
   "execution_count": 2,
   "id": "3d2f3656",
   "metadata": {
    "execution": {
     "iopub.execute_input": "2023-04-28T19:43:57.180185Z",
     "iopub.status.busy": "2023-04-28T19:43:57.178849Z",
     "iopub.status.idle": "2023-04-28T19:43:58.510873Z",
     "shell.execute_reply": "2023-04-28T19:43:58.509660Z"
    },
    "papermill": {
     "duration": 1.341644,
     "end_time": "2023-04-28T19:43:58.513775",
     "exception": false,
     "start_time": "2023-04-28T19:43:57.172131",
     "status": "completed"
    },
    "tags": []
   },
   "outputs": [
    {
     "name": "stdout",
     "output_type": "stream",
     "text": [
      "Using Kaggle's public dataset BigQuery integration.\n"
     ]
    },
    {
     "name": "stderr",
     "output_type": "stream",
     "text": [
      "/opt/conda/lib/python3.7/site-packages/ipykernel_launcher.py:19: UserWarning: Cannot use bqstorage_client if max_results is set, reverting to fetching data with the tabledata.list endpoint.\n"
     ]
    },
    {
     "data": {
      "text/html": [
       "<div>\n",
       "<style scoped>\n",
       "    .dataframe tbody tr th:only-of-type {\n",
       "        vertical-align: middle;\n",
       "    }\n",
       "\n",
       "    .dataframe tbody tr th {\n",
       "        vertical-align: top;\n",
       "    }\n",
       "\n",
       "    .dataframe thead th {\n",
       "        text-align: right;\n",
       "    }\n",
       "</style>\n",
       "<table border=\"1\" class=\"dataframe\">\n",
       "  <thead>\n",
       "    <tr style=\"text-align: right;\">\n",
       "      <th></th>\n",
       "      <th>unique_key</th>\n",
       "      <th>taxi_id</th>\n",
       "      <th>trip_start_timestamp</th>\n",
       "      <th>trip_end_timestamp</th>\n",
       "      <th>trip_seconds</th>\n",
       "      <th>trip_miles</th>\n",
       "      <th>pickup_census_tract</th>\n",
       "      <th>dropoff_census_tract</th>\n",
       "      <th>pickup_community_area</th>\n",
       "      <th>dropoff_community_area</th>\n",
       "      <th>...</th>\n",
       "      <th>extras</th>\n",
       "      <th>trip_total</th>\n",
       "      <th>payment_type</th>\n",
       "      <th>company</th>\n",
       "      <th>pickup_latitude</th>\n",
       "      <th>pickup_longitude</th>\n",
       "      <th>pickup_location</th>\n",
       "      <th>dropoff_latitude</th>\n",
       "      <th>dropoff_longitude</th>\n",
       "      <th>dropoff_location</th>\n",
       "    </tr>\n",
       "  </thead>\n",
       "  <tbody>\n",
       "    <tr>\n",
       "      <th>0</th>\n",
       "      <td>65c58f1e86d5bcd6d32bb2588db7ac8c240fb88f</td>\n",
       "      <td>f22048010592ab0cbbe57cc8e7b79daa1616239d8d8bec...</td>\n",
       "      <td>2013-05-16 02:15:00+00:00</td>\n",
       "      <td>2013-05-16 02:30:00+00:00</td>\n",
       "      <td>1020.0</td>\n",
       "      <td>0.0</td>\n",
       "      <td>NaN</td>\n",
       "      <td>NaN</td>\n",
       "      <td>6.0</td>\n",
       "      <td>28.0</td>\n",
       "      <td>...</td>\n",
       "      <td>0.0</td>\n",
       "      <td>17.25</td>\n",
       "      <td>Cash</td>\n",
       "      <td>Taxi Affiliation Services</td>\n",
       "      <td>41.944227</td>\n",
       "      <td>-87.655998</td>\n",
       "      <td>POINT (-87.6559981815 41.9442266014)</td>\n",
       "      <td>41.874005</td>\n",
       "      <td>-87.663518</td>\n",
       "      <td>POINT (-87.6635175498 41.874005383)</td>\n",
       "    </tr>\n",
       "    <tr>\n",
       "      <th>1</th>\n",
       "      <td>9f1fd4f4349ba47f41d9761444d87882b62952e4</td>\n",
       "      <td>4c2ec0420ff3c82c7c0e76e2e6cf96208c2cff8b766c06...</td>\n",
       "      <td>2013-05-18 03:15:00+00:00</td>\n",
       "      <td>2013-05-18 03:30:00+00:00</td>\n",
       "      <td>660.0</td>\n",
       "      <td>0.0</td>\n",
       "      <td>1.703107e+10</td>\n",
       "      <td>1.703106e+10</td>\n",
       "      <td>7.0</td>\n",
       "      <td>6.0</td>\n",
       "      <td>...</td>\n",
       "      <td>1.0</td>\n",
       "      <td>10.05</td>\n",
       "      <td>Cash</td>\n",
       "      <td>Taxi Affiliation Services</td>\n",
       "      <td>41.929078</td>\n",
       "      <td>-87.646293</td>\n",
       "      <td>POINT (-87.6462934762 41.9290776551)</td>\n",
       "      <td>41.936159</td>\n",
       "      <td>-87.661265</td>\n",
       "      <td>POINT (-87.6612652184 41.936159071)</td>\n",
       "    </tr>\n",
       "    <tr>\n",
       "      <th>2</th>\n",
       "      <td>ae1c85756f50305de0628fb8762a870247839691</td>\n",
       "      <td>cd75f70d5f3c873de240d29a244e101e2808b0a4dd2b42...</td>\n",
       "      <td>2013-05-14 10:00:00+00:00</td>\n",
       "      <td>2013-05-14 10:00:00+00:00</td>\n",
       "      <td>NaN</td>\n",
       "      <td>0.0</td>\n",
       "      <td>NaN</td>\n",
       "      <td>NaN</td>\n",
       "      <td>NaN</td>\n",
       "      <td>NaN</td>\n",
       "      <td>...</td>\n",
       "      <td>0.0</td>\n",
       "      <td>7.05</td>\n",
       "      <td>Credit Card</td>\n",
       "      <td>Taxi Affiliation Services</td>\n",
       "      <td>NaN</td>\n",
       "      <td>NaN</td>\n",
       "      <td>None</td>\n",
       "      <td>NaN</td>\n",
       "      <td>NaN</td>\n",
       "      <td>None</td>\n",
       "    </tr>\n",
       "    <tr>\n",
       "      <th>3</th>\n",
       "      <td>d98df904cc2766de073ed98045c275d948df5b88</td>\n",
       "      <td>aa2d1be97b83e16428fb4294532f135175cc12db45c063...</td>\n",
       "      <td>2013-05-17 21:45:00+00:00</td>\n",
       "      <td>2013-05-17 22:00:00+00:00</td>\n",
       "      <td>480.0</td>\n",
       "      <td>0.0</td>\n",
       "      <td>1.703184e+10</td>\n",
       "      <td>1.703124e+10</td>\n",
       "      <td>24.0</td>\n",
       "      <td>24.0</td>\n",
       "      <td>...</td>\n",
       "      <td>0.0</td>\n",
       "      <td>7.25</td>\n",
       "      <td>Cash</td>\n",
       "      <td>Blue Ribbon Taxi Association Inc.</td>\n",
       "      <td>41.898306</td>\n",
       "      <td>-87.653614</td>\n",
       "      <td>POINT (-87.6536139825 41.8983058696)</td>\n",
       "      <td>41.906026</td>\n",
       "      <td>-87.675312</td>\n",
       "      <td>POINT (-87.6753116216 41.906025969)</td>\n",
       "    </tr>\n",
       "    <tr>\n",
       "      <th>4</th>\n",
       "      <td>4cb992130a4ae00766aee6bdfb2298625d004f47</td>\n",
       "      <td>b22cbb92aaf4615f4339fde442e692eda22a822ecaef28...</td>\n",
       "      <td>2013-05-18 22:45:00+00:00</td>\n",
       "      <td>2013-05-18 23:00:00+00:00</td>\n",
       "      <td>660.0</td>\n",
       "      <td>0.0</td>\n",
       "      <td>1.703184e+10</td>\n",
       "      <td>1.703184e+10</td>\n",
       "      <td>8.0</td>\n",
       "      <td>8.0</td>\n",
       "      <td>...</td>\n",
       "      <td>0.0</td>\n",
       "      <td>7.25</td>\n",
       "      <td>Cash</td>\n",
       "      <td>Blue Ribbon Taxi Association Inc.</td>\n",
       "      <td>41.904935</td>\n",
       "      <td>-87.649907</td>\n",
       "      <td>POINT (-87.6499072264 41.9049353016)</td>\n",
       "      <td>41.901567</td>\n",
       "      <td>-87.638404</td>\n",
       "      <td>POINT (-87.6384040116 41.9015669095)</td>\n",
       "    </tr>\n",
       "  </tbody>\n",
       "</table>\n",
       "<p>5 rows × 23 columns</p>\n",
       "</div>"
      ],
      "text/plain": [
       "                                 unique_key  \\\n",
       "0  65c58f1e86d5bcd6d32bb2588db7ac8c240fb88f   \n",
       "1  9f1fd4f4349ba47f41d9761444d87882b62952e4   \n",
       "2  ae1c85756f50305de0628fb8762a870247839691   \n",
       "3  d98df904cc2766de073ed98045c275d948df5b88   \n",
       "4  4cb992130a4ae00766aee6bdfb2298625d004f47   \n",
       "\n",
       "                                             taxi_id  \\\n",
       "0  f22048010592ab0cbbe57cc8e7b79daa1616239d8d8bec...   \n",
       "1  4c2ec0420ff3c82c7c0e76e2e6cf96208c2cff8b766c06...   \n",
       "2  cd75f70d5f3c873de240d29a244e101e2808b0a4dd2b42...   \n",
       "3  aa2d1be97b83e16428fb4294532f135175cc12db45c063...   \n",
       "4  b22cbb92aaf4615f4339fde442e692eda22a822ecaef28...   \n",
       "\n",
       "       trip_start_timestamp        trip_end_timestamp  trip_seconds  \\\n",
       "0 2013-05-16 02:15:00+00:00 2013-05-16 02:30:00+00:00        1020.0   \n",
       "1 2013-05-18 03:15:00+00:00 2013-05-18 03:30:00+00:00         660.0   \n",
       "2 2013-05-14 10:00:00+00:00 2013-05-14 10:00:00+00:00           NaN   \n",
       "3 2013-05-17 21:45:00+00:00 2013-05-17 22:00:00+00:00         480.0   \n",
       "4 2013-05-18 22:45:00+00:00 2013-05-18 23:00:00+00:00         660.0   \n",
       "\n",
       "   trip_miles  pickup_census_tract  dropoff_census_tract  \\\n",
       "0         0.0                  NaN                   NaN   \n",
       "1         0.0         1.703107e+10          1.703106e+10   \n",
       "2         0.0                  NaN                   NaN   \n",
       "3         0.0         1.703184e+10          1.703124e+10   \n",
       "4         0.0         1.703184e+10          1.703184e+10   \n",
       "\n",
       "   pickup_community_area  dropoff_community_area  ...  extras  trip_total  \\\n",
       "0                    6.0                    28.0  ...     0.0       17.25   \n",
       "1                    7.0                     6.0  ...     1.0       10.05   \n",
       "2                    NaN                     NaN  ...     0.0        7.05   \n",
       "3                   24.0                    24.0  ...     0.0        7.25   \n",
       "4                    8.0                     8.0  ...     0.0        7.25   \n",
       "\n",
       "   payment_type                            company  pickup_latitude  \\\n",
       "0          Cash          Taxi Affiliation Services        41.944227   \n",
       "1          Cash          Taxi Affiliation Services        41.929078   \n",
       "2   Credit Card          Taxi Affiliation Services              NaN   \n",
       "3          Cash  Blue Ribbon Taxi Association Inc.        41.898306   \n",
       "4          Cash  Blue Ribbon Taxi Association Inc.        41.904935   \n",
       "\n",
       "  pickup_longitude                       pickup_location  dropoff_latitude  \\\n",
       "0       -87.655998  POINT (-87.6559981815 41.9442266014)         41.874005   \n",
       "1       -87.646293  POINT (-87.6462934762 41.9290776551)         41.936159   \n",
       "2              NaN                                  None               NaN   \n",
       "3       -87.653614  POINT (-87.6536139825 41.8983058696)         41.906026   \n",
       "4       -87.649907  POINT (-87.6499072264 41.9049353016)         41.901567   \n",
       "\n",
       "   dropoff_longitude                      dropoff_location  \n",
       "0         -87.663518   POINT (-87.6635175498 41.874005383)  \n",
       "1         -87.661265   POINT (-87.6612652184 41.936159071)  \n",
       "2                NaN                                  None  \n",
       "3         -87.675312   POINT (-87.6753116216 41.906025969)  \n",
       "4         -87.638404  POINT (-87.6384040116 41.9015669095)  \n",
       "\n",
       "[5 rows x 23 columns]"
      ]
     },
     "execution_count": 2,
     "metadata": {},
     "output_type": "execute_result"
    }
   ],
   "source": [
    "from google.cloud import bigquery\n",
    "\n",
    "# Create a \"Client\" object\n",
    "client = bigquery.Client()\n",
    "\n",
    "# Construct a reference to the \"chicago_taxi_trips\" dataset\n",
    "dataset_ref = client.dataset(\"chicago_taxi_trips\", project=\"bigquery-public-data\")\n",
    "\n",
    "# API request - fetch the dataset\n",
    "dataset = client.get_dataset(dataset_ref)\n",
    "\n",
    "# Construct a reference to the \"taxi_trips\" table\n",
    "table_ref = dataset_ref.table(\"taxi_trips\")\n",
    "\n",
    "# API request - fetch the table\n",
    "table = client.get_table(table_ref)\n",
    "\n",
    "# Preview the first five lines of the table\n",
    "client.list_rows(table, max_results=5).to_dataframe()"
   ]
  },
  {
   "cell_type": "markdown",
   "id": "cbc75dfc",
   "metadata": {
    "papermill": {
     "duration": 0.005461,
     "end_time": "2023-04-28T19:43:58.525154",
     "exception": false,
     "start_time": "2023-04-28T19:43:58.519693",
     "status": "completed"
    },
    "tags": []
   },
   "source": [
    "# Exercises\n",
    "\n",
    "### 1) How can you predict the demand for taxis?\n",
    "\n",
    "Say you work for a taxi company, and you're interested in predicting the demand for taxis.  Towards this goal, you'd like to create a plot that shows a rolling average of the daily number of taxi trips.  Amend the (partial) query below to return a DataFrame with two columns:\n",
    "- `trip_date` - contains one entry for each date from January 1, 2016, to March 31, 2016.\n",
    "- `avg_num_trips` - shows the average number of daily trips, calculated over a window including the value for the current date, along with the values for the preceding 3 days and the following 3 days, as long as the days fit within the three-month time frame.  For instance, when calculating the value in this column for January 3, 2016, the window will include the number of trips for the preceding 2 days, the current date, and the following 3 days.\n",
    "\n",
    "This query is partially completed for you, and you need only write the part that calculates the `avg_num_trips` column.  Note that this query uses a common table expression (CTE); if you need to review how to use CTEs, you're encouraged to check out [this tutorial](https://www.kaggle.com/dansbecker/as-with) in the [Intro to SQL](https://www.kaggle.com/learn/intro-to-sql) course."
   ]
  },
  {
   "cell_type": "code",
   "execution_count": 3,
   "id": "8f6ed82b",
   "metadata": {
    "execution": {
     "iopub.execute_input": "2023-04-28T19:43:58.538779Z",
     "iopub.status.busy": "2023-04-28T19:43:58.538298Z",
     "iopub.status.idle": "2023-04-28T19:43:59.751332Z",
     "shell.execute_reply": "2023-04-28T19:43:59.750161Z"
    },
    "papermill": {
     "duration": 1.223221,
     "end_time": "2023-04-28T19:43:59.754094",
     "exception": false,
     "start_time": "2023-04-28T19:43:58.530873",
     "status": "completed"
    },
    "tags": []
   },
   "outputs": [
    {
     "name": "stderr",
     "output_type": "stream",
     "text": [
      "/opt/conda/lib/python3.7/site-packages/google/cloud/bigquery/client.py:440: UserWarning: Cannot create BigQuery Storage client, the dependency google-cloud-bigquery-storage is not installed.\n",
      "  \"Cannot create BigQuery Storage client, the dependency \"\n"
     ]
    },
    {
     "data": {
      "text/html": [
       "<div>\n",
       "<style scoped>\n",
       "    .dataframe tbody tr th:only-of-type {\n",
       "        vertical-align: middle;\n",
       "    }\n",
       "\n",
       "    .dataframe tbody tr th {\n",
       "        vertical-align: top;\n",
       "    }\n",
       "\n",
       "    .dataframe thead th {\n",
       "        text-align: right;\n",
       "    }\n",
       "</style>\n",
       "<table border=\"1\" class=\"dataframe\">\n",
       "  <thead>\n",
       "    <tr style=\"text-align: right;\">\n",
       "      <th></th>\n",
       "      <th>trip_date</th>\n",
       "      <th>avg_num_trips</th>\n",
       "    </tr>\n",
       "  </thead>\n",
       "  <tbody>\n",
       "    <tr>\n",
       "      <th>0</th>\n",
       "      <td>2016-03-16</td>\n",
       "      <td>98023.857143</td>\n",
       "    </tr>\n",
       "    <tr>\n",
       "      <th>1</th>\n",
       "      <td>2016-03-09</td>\n",
       "      <td>98175.571429</td>\n",
       "    </tr>\n",
       "    <tr>\n",
       "      <th>2</th>\n",
       "      <td>2016-02-21</td>\n",
       "      <td>89790.714286</td>\n",
       "    </tr>\n",
       "    <tr>\n",
       "      <th>3</th>\n",
       "      <td>2016-01-19</td>\n",
       "      <td>85156.571429</td>\n",
       "    </tr>\n",
       "    <tr>\n",
       "      <th>4</th>\n",
       "      <td>2016-01-21</td>\n",
       "      <td>83164.428571</td>\n",
       "    </tr>\n",
       "  </tbody>\n",
       "</table>\n",
       "</div>"
      ],
      "text/plain": [
       "    trip_date  avg_num_trips\n",
       "0  2016-03-16   98023.857143\n",
       "1  2016-03-09   98175.571429\n",
       "2  2016-02-21   89790.714286\n",
       "3  2016-01-19   85156.571429\n",
       "4  2016-01-21   83164.428571"
      ]
     },
     "metadata": {},
     "output_type": "display_data"
    },
    {
     "data": {
      "application/javascript": [
       "parent.postMessage({\"jupyterEvent\": \"custom.exercise_interaction\", \"data\": {\"outcomeType\": 1, \"valueTowardsCompletion\": 0.3333333333333333, \"interactionType\": 1, \"questionType\": 2, \"questionId\": \"1_TaxiDemand\", \"learnToolsVersion\": \"0.3.4\", \"failureMessage\": \"\", \"exceptionClass\": \"\", \"trace\": \"\"}}, \"*\")"
      ],
      "text/plain": [
       "<IPython.core.display.Javascript object>"
      ]
     },
     "metadata": {},
     "output_type": "display_data"
    },
    {
     "data": {
      "text/markdown": [
       "<span style=\"color:#33cc33\">Correct</span>"
      ],
      "text/plain": [
       "Correct"
      ]
     },
     "metadata": {},
     "output_type": "display_data"
    }
   ],
   "source": [
    "# Fill in the blank below\n",
    "avg_num_trips_query = \"\"\"\n",
    "                      WITH trips_by_day AS\n",
    "                      (\n",
    "                      SELECT DATE(trip_start_timestamp) AS trip_date,\n",
    "                          COUNT(*) as num_trips\n",
    "                      FROM `bigquery-public-data.chicago_taxi_trips.taxi_trips`\n",
    "                      WHERE trip_start_timestamp > '2016-01-01' AND trip_start_timestamp < '2016-04-01'\n",
    "                      GROUP BY trip_date\n",
    "                      )\n",
    "                      SELECT trip_date,\n",
    "                          AVG(num_trips) \n",
    "                          OVER (\n",
    "                               ORDER BY trip_date\n",
    "                               ROWS BETWEEN 3 PRECEDING AND 3 FOLLOWING\n",
    "                               ) AS avg_num_trips\n",
    "                      FROM trips_by_day\n",
    "                      \"\"\"\n",
    "\n",
    "# Check your answer\n",
    "q_1.check()"
   ]
  },
  {
   "cell_type": "code",
   "execution_count": 4,
   "id": "e4a32f7e",
   "metadata": {
    "execution": {
     "iopub.execute_input": "2023-04-28T19:43:59.769061Z",
     "iopub.status.busy": "2023-04-28T19:43:59.768575Z",
     "iopub.status.idle": "2023-04-28T19:43:59.773382Z",
     "shell.execute_reply": "2023-04-28T19:43:59.772182Z"
    },
    "papermill": {
     "duration": 0.015363,
     "end_time": "2023-04-28T19:43:59.775796",
     "exception": false,
     "start_time": "2023-04-28T19:43:59.760433",
     "status": "completed"
    },
    "tags": []
   },
   "outputs": [],
   "source": [
    "# Lines below will give you a hint or solution code\n",
    "#q_1.hint()\n",
    "#q_1.solution()"
   ]
  },
  {
   "cell_type": "markdown",
   "id": "47161089",
   "metadata": {
    "papermill": {
     "duration": 0.00609,
     "end_time": "2023-04-28T19:43:59.788331",
     "exception": false,
     "start_time": "2023-04-28T19:43:59.782241",
     "status": "completed"
    },
    "tags": []
   },
   "source": [
    "### 2) Can you separate and order trips by community area?\n",
    "\n",
    "The query below returns a DataFrame with three columns from the table: `pickup_community_area`, `trip_start_timestamp`, and `trip_end_timestamp`.  \n",
    "\n",
    "Amend the query to return an additional column called `trip_number` which shows the order in which the trips were taken from their respective community areas.  So, the first trip of the day originating from community area 1 should receive a value of 1; the second trip of the day from the same area should receive a value of 2.  Likewise, the first trip of the day from community area 2 should receive a value of 1, and so on.\n",
    "\n",
    "Note that there are many numbering functions that can be used to solve this problem (depending on how you want to deal with trips that started at the same time from the same community area); to answer this question, please use the **RANK()** function."
   ]
  },
  {
   "cell_type": "code",
   "execution_count": 5,
   "id": "bbf0385b",
   "metadata": {
    "execution": {
     "iopub.execute_input": "2023-04-28T19:43:59.803944Z",
     "iopub.status.busy": "2023-04-28T19:43:59.803499Z",
     "iopub.status.idle": "2023-04-28T19:44:04.556741Z",
     "shell.execute_reply": "2023-04-28T19:44:04.555737Z"
    },
    "papermill": {
     "duration": 4.764339,
     "end_time": "2023-04-28T19:44:04.559334",
     "exception": false,
     "start_time": "2023-04-28T19:43:59.794995",
     "status": "completed"
    },
    "tags": []
   },
   "outputs": [
    {
     "name": "stderr",
     "output_type": "stream",
     "text": [
      "/opt/conda/lib/python3.7/site-packages/google/cloud/bigquery/client.py:440: UserWarning: Cannot create BigQuery Storage client, the dependency google-cloud-bigquery-storage is not installed.\n",
      "  \"Cannot create BigQuery Storage client, the dependency \"\n"
     ]
    },
    {
     "data": {
      "text/html": [
       "<div>\n",
       "<style scoped>\n",
       "    .dataframe tbody tr th:only-of-type {\n",
       "        vertical-align: middle;\n",
       "    }\n",
       "\n",
       "    .dataframe tbody tr th {\n",
       "        vertical-align: top;\n",
       "    }\n",
       "\n",
       "    .dataframe thead th {\n",
       "        text-align: right;\n",
       "    }\n",
       "</style>\n",
       "<table border=\"1\" class=\"dataframe\">\n",
       "  <thead>\n",
       "    <tr style=\"text-align: right;\">\n",
       "      <th></th>\n",
       "      <th>pickup_community_area</th>\n",
       "      <th>trip_start_timestamp</th>\n",
       "      <th>trip_end_timestamp</th>\n",
       "      <th>trip_number</th>\n",
       "    </tr>\n",
       "  </thead>\n",
       "  <tbody>\n",
       "    <tr>\n",
       "      <th>0</th>\n",
       "      <td>10.0</td>\n",
       "      <td>2013-10-03 02:00:00+00:00</td>\n",
       "      <td>2013-10-03 02:00:00+00:00</td>\n",
       "      <td>1</td>\n",
       "    </tr>\n",
       "    <tr>\n",
       "      <th>1</th>\n",
       "      <td>10.0</td>\n",
       "      <td>2013-10-03 02:00:00+00:00</td>\n",
       "      <td>2013-10-03 02:00:00+00:00</td>\n",
       "      <td>1</td>\n",
       "    </tr>\n",
       "    <tr>\n",
       "      <th>2</th>\n",
       "      <td>10.0</td>\n",
       "      <td>2013-10-03 05:15:00+00:00</td>\n",
       "      <td>2013-10-03 05:30:00+00:00</td>\n",
       "      <td>3</td>\n",
       "    </tr>\n",
       "    <tr>\n",
       "      <th>3</th>\n",
       "      <td>10.0</td>\n",
       "      <td>2013-10-03 05:30:00+00:00</td>\n",
       "      <td>2013-10-03 05:45:00+00:00</td>\n",
       "      <td>4</td>\n",
       "    </tr>\n",
       "    <tr>\n",
       "      <th>4</th>\n",
       "      <td>10.0</td>\n",
       "      <td>2013-10-03 07:45:00+00:00</td>\n",
       "      <td>2013-10-03 09:00:00+00:00</td>\n",
       "      <td>5</td>\n",
       "    </tr>\n",
       "  </tbody>\n",
       "</table>\n",
       "</div>"
      ],
      "text/plain": [
       "   pickup_community_area      trip_start_timestamp        trip_end_timestamp  \\\n",
       "0                   10.0 2013-10-03 02:00:00+00:00 2013-10-03 02:00:00+00:00   \n",
       "1                   10.0 2013-10-03 02:00:00+00:00 2013-10-03 02:00:00+00:00   \n",
       "2                   10.0 2013-10-03 05:15:00+00:00 2013-10-03 05:30:00+00:00   \n",
       "3                   10.0 2013-10-03 05:30:00+00:00 2013-10-03 05:45:00+00:00   \n",
       "4                   10.0 2013-10-03 07:45:00+00:00 2013-10-03 09:00:00+00:00   \n",
       "\n",
       "   trip_number  \n",
       "0            1  \n",
       "1            1  \n",
       "2            3  \n",
       "3            4  \n",
       "4            5  "
      ]
     },
     "metadata": {},
     "output_type": "display_data"
    },
    {
     "data": {
      "application/javascript": [
       "parent.postMessage({\"jupyterEvent\": \"custom.exercise_interaction\", \"data\": {\"outcomeType\": 1, \"valueTowardsCompletion\": 0.3333333333333333, \"interactionType\": 1, \"questionType\": 2, \"questionId\": \"2_CommunityArea\", \"learnToolsVersion\": \"0.3.4\", \"failureMessage\": \"\", \"exceptionClass\": \"\", \"trace\": \"\"}}, \"*\")"
      ],
      "text/plain": [
       "<IPython.core.display.Javascript object>"
      ]
     },
     "metadata": {},
     "output_type": "display_data"
    },
    {
     "data": {
      "text/markdown": [
       "<span style=\"color:#33cc33\">Correct</span>"
      ],
      "text/plain": [
       "Correct"
      ]
     },
     "metadata": {},
     "output_type": "display_data"
    }
   ],
   "source": [
    "# Amend the query below\n",
    "trip_number_query = \"\"\"\n",
    "                    SELECT pickup_community_area,\n",
    "                        trip_start_timestamp,\n",
    "                        trip_end_timestamp,\n",
    "                        RANK()\n",
    "                            OVER (\n",
    "                                  PARTITION BY pickup_community_area\n",
    "                                  ORDER BY trip_start_timestamp\n",
    "                                 ) AS trip_number\n",
    "                    FROM `bigquery-public-data.chicago_taxi_trips.taxi_trips`\n",
    "                    WHERE DATE(trip_start_timestamp) = '2013-10-03' \n",
    "                    \"\"\"\n",
    "\n",
    "# Check your answer\n",
    "q_2.check()"
   ]
  },
  {
   "cell_type": "code",
   "execution_count": 6,
   "id": "eb6f4c32",
   "metadata": {
    "execution": {
     "iopub.execute_input": "2023-04-28T19:44:04.575610Z",
     "iopub.status.busy": "2023-04-28T19:44:04.574534Z",
     "iopub.status.idle": "2023-04-28T19:44:04.580663Z",
     "shell.execute_reply": "2023-04-28T19:44:04.579775Z"
    },
    "papermill": {
     "duration": 0.016865,
     "end_time": "2023-04-28T19:44:04.583141",
     "exception": false,
     "start_time": "2023-04-28T19:44:04.566276",
     "status": "completed"
    },
    "tags": []
   },
   "outputs": [],
   "source": [
    "# Lines below will give you a hint or solution code\n",
    "#q_2.hint()\n",
    "#q_2.solution()"
   ]
  },
  {
   "cell_type": "markdown",
   "id": "3b36903b",
   "metadata": {
    "papermill": {
     "duration": 0.006446,
     "end_time": "2023-04-28T19:44:04.596385",
     "exception": false,
     "start_time": "2023-04-28T19:44:04.589939",
     "status": "completed"
    },
    "tags": []
   },
   "source": [
    "### 3) How much time elapses between trips?\n",
    "\n",
    "The (partial) query in the code cell below shows, for each trip in the selected time frame, the corresponding `taxi_id`, `trip_start_timestamp`, and `trip_end_timestamp`. \n",
    "\n",
    "Your task in this exercise is to edit the query to include an additional `prev_break` column that shows the length of the break (in minutes) that the driver had before each trip started (this corresponds to the time between `trip_start_timestamp` of the current trip and `trip_end_timestamp` of the previous trip).  Partition the calculation by `taxi_id`, and order the results within each partition by `trip_start_timestamp`.\n",
    "\n",
    "Some sample results are shown below, where all rows correspond to the same driver (or `taxi_id`).  Take the time now to make sure that the values in the `prev_break` column make sense to you!\n",
    "\n",
    "![first_commands](https://storage.googleapis.com/kaggle-media/learn/images/qjvQzg8.png)\n",
    "\n",
    "Note that the first trip of the day for each driver should have a value of **NaN** (not a number) in the `prev_break` column."
   ]
  },
  {
   "cell_type": "code",
   "execution_count": 7,
   "id": "5770876a",
   "metadata": {
    "execution": {
     "iopub.execute_input": "2023-04-28T19:44:04.611940Z",
     "iopub.status.busy": "2023-04-28T19:44:04.611490Z",
     "iopub.status.idle": "2023-04-28T19:44:14.370025Z",
     "shell.execute_reply": "2023-04-28T19:44:14.368741Z"
    },
    "papermill": {
     "duration": 9.769288,
     "end_time": "2023-04-28T19:44:14.372389",
     "exception": false,
     "start_time": "2023-04-28T19:44:04.603101",
     "status": "completed"
    },
    "tags": []
   },
   "outputs": [
    {
     "name": "stderr",
     "output_type": "stream",
     "text": [
      "/opt/conda/lib/python3.7/site-packages/google/cloud/bigquery/client.py:440: UserWarning: Cannot create BigQuery Storage client, the dependency google-cloud-bigquery-storage is not installed.\n",
      "  \"Cannot create BigQuery Storage client, the dependency \"\n"
     ]
    },
    {
     "data": {
      "text/html": [
       "<div>\n",
       "<style scoped>\n",
       "    .dataframe tbody tr th:only-of-type {\n",
       "        vertical-align: middle;\n",
       "    }\n",
       "\n",
       "    .dataframe tbody tr th {\n",
       "        vertical-align: top;\n",
       "    }\n",
       "\n",
       "    .dataframe thead th {\n",
       "        text-align: right;\n",
       "    }\n",
       "</style>\n",
       "<table border=\"1\" class=\"dataframe\">\n",
       "  <thead>\n",
       "    <tr style=\"text-align: right;\">\n",
       "      <th></th>\n",
       "      <th>taxi_id</th>\n",
       "      <th>trip_start_timestamp</th>\n",
       "      <th>trip_end_timestamp</th>\n",
       "      <th>prev_break</th>\n",
       "    </tr>\n",
       "  </thead>\n",
       "  <tbody>\n",
       "    <tr>\n",
       "      <th>0</th>\n",
       "      <td>0137c4250e786bfc0cc2fc3ae88ac37cb1b5e501486a03...</td>\n",
       "      <td>2013-10-03 13:45:00+00:00</td>\n",
       "      <td>2013-10-03 14:00:00+00:00</td>\n",
       "      <td>255.0</td>\n",
       "    </tr>\n",
       "    <tr>\n",
       "      <th>1</th>\n",
       "      <td>044aa88179fa43c628fe5a956567224cf0b1b1ad5994f3...</td>\n",
       "      <td>2013-10-03 12:30:00+00:00</td>\n",
       "      <td>2013-10-03 12:30:00+00:00</td>\n",
       "      <td>345.0</td>\n",
       "    </tr>\n",
       "    <tr>\n",
       "      <th>2</th>\n",
       "      <td>044aa88179fa43c628fe5a956567224cf0b1b1ad5994f3...</td>\n",
       "      <td>2013-10-03 21:45:00+00:00</td>\n",
       "      <td>2013-10-03 21:45:00+00:00</td>\n",
       "      <td>555.0</td>\n",
       "    </tr>\n",
       "    <tr>\n",
       "      <th>3</th>\n",
       "      <td>146666225d80f45da0a30dc129dc4929426b5248cb6bbb...</td>\n",
       "      <td>2013-10-03 16:00:00+00:00</td>\n",
       "      <td>2013-10-03 16:15:00+00:00</td>\n",
       "      <td>240.0</td>\n",
       "    </tr>\n",
       "    <tr>\n",
       "      <th>4</th>\n",
       "      <td>1ed802e8138d030626cb7276ceadd721c743526af747ac...</td>\n",
       "      <td>2013-10-03 10:00:00+00:00</td>\n",
       "      <td>2013-10-03 10:00:00+00:00</td>\n",
       "      <td>510.0</td>\n",
       "    </tr>\n",
       "  </tbody>\n",
       "</table>\n",
       "</div>"
      ],
      "text/plain": [
       "                                             taxi_id  \\\n",
       "0  0137c4250e786bfc0cc2fc3ae88ac37cb1b5e501486a03...   \n",
       "1  044aa88179fa43c628fe5a956567224cf0b1b1ad5994f3...   \n",
       "2  044aa88179fa43c628fe5a956567224cf0b1b1ad5994f3...   \n",
       "3  146666225d80f45da0a30dc129dc4929426b5248cb6bbb...   \n",
       "4  1ed802e8138d030626cb7276ceadd721c743526af747ac...   \n",
       "\n",
       "       trip_start_timestamp        trip_end_timestamp  prev_break  \n",
       "0 2013-10-03 13:45:00+00:00 2013-10-03 14:00:00+00:00       255.0  \n",
       "1 2013-10-03 12:30:00+00:00 2013-10-03 12:30:00+00:00       345.0  \n",
       "2 2013-10-03 21:45:00+00:00 2013-10-03 21:45:00+00:00       555.0  \n",
       "3 2013-10-03 16:00:00+00:00 2013-10-03 16:15:00+00:00       240.0  \n",
       "4 2013-10-03 10:00:00+00:00 2013-10-03 10:00:00+00:00       510.0  "
      ]
     },
     "metadata": {},
     "output_type": "display_data"
    },
    {
     "data": {
      "application/javascript": [
       "parent.postMessage({\"jupyterEvent\": \"custom.exercise_interaction\", \"data\": {\"outcomeType\": 1, \"valueTowardsCompletion\": 0.3333333333333333, \"interactionType\": 1, \"questionType\": 2, \"questionId\": \"3_BreakTime\", \"learnToolsVersion\": \"0.3.4\", \"failureMessage\": \"\", \"exceptionClass\": \"\", \"trace\": \"\"}}, \"*\")"
      ],
      "text/plain": [
       "<IPython.core.display.Javascript object>"
      ]
     },
     "metadata": {},
     "output_type": "display_data"
    },
    {
     "data": {
      "text/markdown": [
       "<span style=\"color:#33cc33\">Correct</span>"
      ],
      "text/plain": [
       "Correct"
      ]
     },
     "metadata": {},
     "output_type": "display_data"
    }
   ],
   "source": [
    "# Fill in the blanks below\n",
    "break_time_query = \"\"\"\n",
    "                   SELECT taxi_id,\n",
    "                       trip_start_timestamp,\n",
    "                       trip_end_timestamp,\n",
    "                       TIMESTAMP_DIFF(\n",
    "                           trip_start_timestamp, \n",
    "                           LAG(trip_end_timestamp, 1) OVER (PARTITION BY taxi_id ORDER BY trip_start_timestamp), \n",
    "                           MINUTE) as prev_break\n",
    "                   FROM `bigquery-public-data.chicago_taxi_trips.taxi_trips`\n",
    "                   WHERE DATE(trip_start_timestamp) = '2013-10-03' \n",
    "                   \"\"\"\n",
    "\n",
    "# Check your answer\n",
    "q_3.check()"
   ]
  },
  {
   "cell_type": "code",
   "execution_count": 8,
   "id": "4db9857b",
   "metadata": {
    "execution": {
     "iopub.execute_input": "2023-04-28T19:44:14.388958Z",
     "iopub.status.busy": "2023-04-28T19:44:14.388424Z",
     "iopub.status.idle": "2023-04-28T19:44:14.393351Z",
     "shell.execute_reply": "2023-04-28T19:44:14.392048Z"
    },
    "papermill": {
     "duration": 0.016586,
     "end_time": "2023-04-28T19:44:14.396064",
     "exception": false,
     "start_time": "2023-04-28T19:44:14.379478",
     "status": "completed"
    },
    "tags": []
   },
   "outputs": [],
   "source": [
    "# Lines below will give you a hint or solution code\n",
    "#q_3.hint()\n",
    "#q_3.solution()"
   ]
  },
  {
   "cell_type": "markdown",
   "id": "89fe3399",
   "metadata": {
    "papermill": {
     "duration": 0.006876,
     "end_time": "2023-04-28T19:44:14.410340",
     "exception": false,
     "start_time": "2023-04-28T19:44:14.403464",
     "status": "completed"
    },
    "tags": []
   },
   "source": [
    "# Keep going\n",
    "\n",
    "Move on to learn how to query **[nested and repeated data](https://www.kaggle.com/alexisbcook/nested-and-repeated-data)**."
   ]
  },
  {
   "cell_type": "markdown",
   "id": "33402696",
   "metadata": {
    "papermill": {
     "duration": 0.006936,
     "end_time": "2023-04-28T19:44:14.424696",
     "exception": false,
     "start_time": "2023-04-28T19:44:14.417760",
     "status": "completed"
    },
    "tags": []
   },
   "source": [
    "---\n",
    "\n",
    "\n",
    "\n",
    "\n",
    "*Have questions or comments? Visit the [course discussion forum](https://www.kaggle.com/learn/advanced-sql/discussion) to chat with other learners.*"
   ]
  }
 ],
 "metadata": {
  "kernelspec": {
   "display_name": "Python 3",
   "language": "python",
   "name": "python3"
  },
  "language_info": {
   "codemirror_mode": {
    "name": "ipython",
    "version": 3
   },
   "file_extension": ".py",
   "mimetype": "text/x-python",
   "name": "python",
   "nbconvert_exporter": "python",
   "pygments_lexer": "ipython3",
   "version": "3.7.12"
  },
  "papermill": {
   "default_parameters": {},
   "duration": 64.13892,
   "end_time": "2023-04-28T19:44:15.154918",
   "environment_variables": {},
   "exception": null,
   "input_path": "__notebook__.ipynb",
   "output_path": "__notebook__.ipynb",
   "parameters": {},
   "start_time": "2023-04-28T19:43:11.015998",
   "version": "2.4.0"
  }
 },
 "nbformat": 4,
 "nbformat_minor": 5
}
