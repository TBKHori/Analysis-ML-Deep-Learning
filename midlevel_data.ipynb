{
  "nbformat": 4,
  "nbformat_minor": 0,
  "metadata": {
    "colab": {
      "provenance": [],
      "authorship_tag": "ABX9TyN8F7lFwGCpFX5yncOIcbf/"
    },
    "kernelspec": {
      "name": "python3",
      "display_name": "Python 3"
    },
    "language_info": {
      "name": "python"
    }
  },
  "cells": [
    {
      "cell_type": "code",
      "execution_count": 1,
      "metadata": {
        "id": "wF-iazCvYjuF",
        "colab": {
          "base_uri": "https://localhost:8080/"
        },
        "outputId": "d47314d6-f698-4ed9-f594-f6ca0c4cc7c1"
      },
      "outputs": [
        {
          "output_type": "stream",
          "name": "stdout",
          "text": [
            "\u001b[2K     \u001b[90m━━━━━━━━━━━━━━━━━━━━━━━━━━━━━━━━━━━━━━━\u001b[0m \u001b[32m719.8/719.8 kB\u001b[0m \u001b[31m9.8 MB/s\u001b[0m eta \u001b[36m0:00:00\u001b[0m\n",
            "\u001b[2K     \u001b[90m━━━━━━━━━━━━━━━━━━━━━━━━━━━━━━━━━━━━━━━━\u001b[0m \u001b[32m7.6/7.6 MB\u001b[0m \u001b[31m84.4 MB/s\u001b[0m eta \u001b[36m0:00:00\u001b[0m\n",
            "\u001b[2K     \u001b[90m━━━━━━━━━━━━━━━━━━━━━━━━━━━━━━━━━━━━━━\u001b[0m \u001b[32m519.6/519.6 kB\u001b[0m \u001b[31m32.0 MB/s\u001b[0m eta \u001b[36m0:00:00\u001b[0m\n",
            "\u001b[2K     \u001b[90m━━━━━━━━━━━━━━━━━━━━━━━━━━━━━━━━━━━━━━━━\u001b[0m \u001b[32m1.3/1.3 MB\u001b[0m \u001b[31m70.3 MB/s\u001b[0m eta \u001b[36m0:00:00\u001b[0m\n",
            "\u001b[2K     \u001b[90m━━━━━━━━━━━━━━━━━━━━━━━━━━━━━━━━━━━━━━\u001b[0m \u001b[32m115.3/115.3 kB\u001b[0m \u001b[31m12.2 MB/s\u001b[0m eta \u001b[36m0:00:00\u001b[0m\n",
            "\u001b[2K     \u001b[90m━━━━━━━━━━━━━━━━━━━━━━━━━━━━━━━━━━━━━━\u001b[0m \u001b[32m194.1/194.1 kB\u001b[0m \u001b[31m19.9 MB/s\u001b[0m eta \u001b[36m0:00:00\u001b[0m\n",
            "\u001b[2K     \u001b[90m━━━━━━━━━━━━━━━━━━━━━━━━━━━━━━━━━━━━━━\u001b[0m \u001b[32m134.8/134.8 kB\u001b[0m \u001b[31m14.0 MB/s\u001b[0m eta \u001b[36m0:00:00\u001b[0m\n",
            "\u001b[2K     \u001b[90m━━━━━━━━━━━━━━━━━━━━━━━━━━━━━━━━━━━━━━\u001b[0m \u001b[32m295.0/295.0 kB\u001b[0m \u001b[31m29.1 MB/s\u001b[0m eta \u001b[36m0:00:00\u001b[0m\n",
            "\u001b[2K     \u001b[90m━━━━━━━━━━━━━━━━━━━━━━━━━━━━━━━━━━━━━━━━\u001b[0m \u001b[32m7.8/7.8 MB\u001b[0m \u001b[31m66.6 MB/s\u001b[0m eta \u001b[36m0:00:00\u001b[0m\n",
            "\u001b[2K     \u001b[90m━━━━━━━━━━━━━━━━━━━━━━━━━━━━━━━━━━━━━━━━\u001b[0m \u001b[32m1.3/1.3 MB\u001b[0m \u001b[31m53.7 MB/s\u001b[0m eta \u001b[36m0:00:00\u001b[0m\n",
            "\u001b[2K     \u001b[90m━━━━━━━━━━━━━━━━━━━━━━━━━━━━━━━━━━━━━━━━\u001b[0m \u001b[32m1.6/1.6 MB\u001b[0m \u001b[31m62.7 MB/s\u001b[0m eta \u001b[36m0:00:00\u001b[0m\n",
            "\u001b[?25hMounted at /content/gdrive\n"
          ]
        }
      ],
      "source": [
        "#hide\n",
        "! [ -e /content ] && pip install -Uqq fastbook\n",
        "import fastbook\n",
        "fastbook.setup_book()\n",
        ""
      ]
    },
    {
      "cell_type": "code",
      "source": [
        "#hide\n",
        "from fastbook import *\n",
        "from IPython.display import display,HTML"
      ],
      "metadata": {
        "id": "1j7dXofqZTRr"
      },
      "execution_count": 2,
      "outputs": []
    },
    {
      "cell_type": "markdown",
      "source": [
        "fastai's Layered API"
      ],
      "metadata": {
        "id": "z88PvIDTZhI_"
      }
    },
    {
      "cell_type": "code",
      "source": [
        "from fastai.text.all import *\n",
        "\n",
        "dls = TextDataLoaders.from_folder(untar_data(URLs.IMDB), valid='test')"
      ],
      "metadata": {
        "colab": {
          "base_uri": "https://localhost:8080/",
          "height": 37
        },
        "id": "4DIRtv95ZV98",
        "outputId": "41f54364-78ad-44bd-a9a9-91a5fdf61696"
      },
      "execution_count": 3,
      "outputs": [
        {
          "output_type": "display_data",
          "data": {
            "text/plain": [
              "<IPython.core.display.HTML object>"
            ],
            "text/html": [
              "\n",
              "<style>\n",
              "    /* Turns off some styling */\n",
              "    progress {\n",
              "        /* gets rid of default border in Firefox and Opera. */\n",
              "        border: none;\n",
              "        /* Needs to be in here for Safari polyfill so background images work as expected. */\n",
              "        background-size: auto;\n",
              "    }\n",
              "    progress:not([value]), progress:not([value])::-webkit-progress-bar {\n",
              "        background: repeating-linear-gradient(45deg, #7e7e7e, #7e7e7e 10px, #5c5c5c 10px, #5c5c5c 20px);\n",
              "    }\n",
              "    .progress-bar-interrupted, .progress-bar-interrupted::-webkit-progress-bar {\n",
              "        background: #F44336;\n",
              "    }\n",
              "</style>\n"
            ]
          },
          "metadata": {}
        },
        {
          "output_type": "display_data",
          "data": {
            "text/plain": [
              "<IPython.core.display.HTML object>"
            ],
            "text/html": [
              "\n",
              "    <div>\n",
              "      <progress value='144441344' class='' max='144440600' style='width:300px; height:20px; vertical-align: middle;'></progress>\n",
              "      100.00% [144441344/144440600 00:02&lt;00:00]\n",
              "    </div>\n",
              "    "
            ]
          },
          "metadata": {}
        },
        {
          "output_type": "display_data",
          "data": {
            "text/plain": [
              "<IPython.core.display.HTML object>"
            ],
            "text/html": [
              "\n",
              "<style>\n",
              "    /* Turns off some styling */\n",
              "    progress {\n",
              "        /* gets rid of default border in Firefox and Opera. */\n",
              "        border: none;\n",
              "        /* Needs to be in here for Safari polyfill so background images work as expected. */\n",
              "        background-size: auto;\n",
              "    }\n",
              "    progress:not([value]), progress:not([value])::-webkit-progress-bar {\n",
              "        background: repeating-linear-gradient(45deg, #7e7e7e, #7e7e7e 10px, #5c5c5c 10px, #5c5c5c 20px);\n",
              "    }\n",
              "    .progress-bar-interrupted, .progress-bar-interrupted::-webkit-progress-bar {\n",
              "        background: #F44336;\n",
              "    }\n",
              "</style>\n"
            ]
          },
          "metadata": {}
        },
        {
          "output_type": "display_data",
          "data": {
            "text/plain": [
              "<IPython.core.display.HTML object>"
            ],
            "text/html": []
          },
          "metadata": {}
        }
      ]
    },
    {
      "cell_type": "code",
      "source": [
        "path = untar_data(URLs.IMDB)\n",
        "dls = DataBlock(\n",
        "    blocks=(TextBlock.from_folder(path),CategoryBlock),\n",
        "    get_y = parent_label,\n",
        "    get_items=partial(get_text_files, folders=['train', 'test']),\n",
        "    splitter=GrandparentSplitter(valid_name='test')\n",
        ").dataloaders(path)"
      ],
      "metadata": {
        "id": "6wAez93bZlZs"
      },
      "execution_count": 4,
      "outputs": []
    },
    {
      "cell_type": "markdown",
      "source": [
        "Transforms"
      ],
      "metadata": {
        "id": "ySFydXzsZqGd"
      }
    },
    {
      "cell_type": "code",
      "source": [
        "files = get_text_files(path, folders = ['train', 'test'])\n",
        "txts = L(o.open().read() for o in files[:2000])"
      ],
      "metadata": {
        "id": "ttIpqTLiZq8q"
      },
      "execution_count": 5,
      "outputs": []
    },
    {
      "cell_type": "code",
      "source": [
        "tok = Tokenizer.from_folder(path)\n",
        "tok.setup(txts)\n",
        "toks = txts.map(tok)\n",
        "toks[0]"
      ],
      "metadata": {
        "colab": {
          "base_uri": "https://localhost:8080/"
        },
        "id": "yuzIFpfgZw0H",
        "outputId": "e5aed1ac-650f-44f9-8372-09a625adc976"
      },
      "execution_count": 6,
      "outputs": [
        {
          "output_type": "execute_result",
          "data": {
            "text/plain": [
              "(#185) ['xxbos','i','wanted','to','like','this','film',',','yes','its'...]"
            ]
          },
          "metadata": {},
          "execution_count": 6
        }
      ]
    },
    {
      "cell_type": "code",
      "source": [
        "num = Numericalize()\n",
        "num.setup(toks)\n",
        "nums = toks.map(num)\n",
        "nums[0][:10]"
      ],
      "metadata": {
        "colab": {
          "base_uri": "https://localhost:8080/"
        },
        "id": "MLA9QN6zZy65",
        "outputId": "dd2aa564-e4f8-4344-d65e-d3645ef927d5"
      },
      "execution_count": 7,
      "outputs": [
        {
          "output_type": "execute_result",
          "data": {
            "text/plain": [
              "TensorText([  2,  18, 393,  14,  50,  20,  33,  11, 471, 114])"
            ]
          },
          "metadata": {},
          "execution_count": 7
        }
      ]
    },
    {
      "cell_type": "code",
      "source": [
        "nums_dec = num.decode(nums[0][:10]); nums_dec"
      ],
      "metadata": {
        "colab": {
          "base_uri": "https://localhost:8080/"
        },
        "id": "UP7-rYv5Z1zJ",
        "outputId": "4b5c0bc2-508f-4bc8-d41d-e2bcb4eae4cd"
      },
      "execution_count": 8,
      "outputs": [
        {
          "output_type": "execute_result",
          "data": {
            "text/plain": [
              "(#10) ['xxbos','i','wanted','to','like','this','film',',','yes','its']"
            ]
          },
          "metadata": {},
          "execution_count": 8
        }
      ]
    },
    {
      "cell_type": "code",
      "source": [
        "tok.decode(nums_dec)"
      ],
      "metadata": {
        "colab": {
          "base_uri": "https://localhost:8080/",
          "height": 36
        },
        "id": "0nUSgg_rZ3wi",
        "outputId": "f2db482a-b779-450f-8513-17ba356b57f8"
      },
      "execution_count": 9,
      "outputs": [
        {
          "output_type": "execute_result",
          "data": {
            "text/plain": [
              "'xxbos i wanted to like this film , yes its'"
            ],
            "application/vnd.google.colaboratory.intrinsic+json": {
              "type": "string"
            }
          },
          "metadata": {},
          "execution_count": 9
        }
      ]
    },
    {
      "cell_type": "code",
      "source": [
        "tok((txts[0], txts[1]))"
      ],
      "metadata": {
        "colab": {
          "base_uri": "https://localhost:8080/"
        },
        "id": "VgzwEvNQbP8A",
        "outputId": "b7a7ba9c-2fd7-4fff-ff55-7f644ca3027e"
      },
      "execution_count": 10,
      "outputs": [
        {
          "output_type": "execute_result",
          "data": {
            "text/plain": [
              "((#185) ['xxbos','i','wanted','to','like','this','film',',','yes','its'...],\n",
              " (#441) ['xxbos','xxmaj','let',\"'s\",'face','it',';','some','lame','kid'...])"
            ]
          },
          "metadata": {},
          "execution_count": 10
        }
      ]
    },
    {
      "cell_type": "markdown",
      "source": [
        "Writing a transform"
      ],
      "metadata": {
        "id": "Cx61YHwgbfko"
      }
    },
    {
      "cell_type": "code",
      "source": [
        "def f(x:int): return x+1\n",
        "tfm = Transform(f)\n",
        "tfm(2),tfm(2.0)"
      ],
      "metadata": {
        "colab": {
          "base_uri": "https://localhost:8080/"
        },
        "id": "zGTL0hf_bm4r",
        "outputId": "9d64540b-fdca-4be7-aba0-a7bc0d100a7b"
      },
      "execution_count": 11,
      "outputs": [
        {
          "output_type": "execute_result",
          "data": {
            "text/plain": [
              "(3, 2.0)"
            ]
          },
          "metadata": {},
          "execution_count": 11
        }
      ]
    },
    {
      "cell_type": "code",
      "source": [
        "@Transform\n",
        "def f(x:int): return x+1\n",
        "f(2),f(2.0)"
      ],
      "metadata": {
        "colab": {
          "base_uri": "https://localhost:8080/"
        },
        "id": "7m1aSeUHUZk2",
        "outputId": "dbb5e0d2-6a78-4033-c39f-757eeb8de270"
      },
      "execution_count": 12,
      "outputs": [
        {
          "output_type": "execute_result",
          "data": {
            "text/plain": [
              "(3, 2.0)"
            ]
          },
          "metadata": {},
          "execution_count": 12
        }
      ]
    },
    {
      "cell_type": "code",
      "source": [
        "class NormalizeMean(Transform):\n",
        "    def setups(self, items): self.mean = sum(items)/len(items)\n",
        "    def encodes(self, x): return x-self.mean\n",
        "    def decodes(self, x): return x+self.mean"
      ],
      "metadata": {
        "id": "orO6gzkPYyEO"
      },
      "execution_count": 13,
      "outputs": []
    },
    {
      "cell_type": "code",
      "source": [
        "tfm = NormalizeMean()\n",
        "tfm.setup([1,2,3,4,5])\n",
        "start = 2\n",
        "y = tfm(start)\n",
        "z = tfm.decode(y)\n",
        "tfm.mean,y,z"
      ],
      "metadata": {
        "colab": {
          "base_uri": "https://localhost:8080/"
        },
        "id": "WxIFI7C_Yy6t",
        "outputId": "de9cc589-8f32-47c4-93fe-b94e5abd99e6"
      },
      "execution_count": 14,
      "outputs": [
        {
          "output_type": "execute_result",
          "data": {
            "text/plain": [
              "(3.0, -1.0, 2.0)"
            ]
          },
          "metadata": {},
          "execution_count": 14
        }
      ]
    },
    {
      "cell_type": "markdown",
      "source": [
        "Pipeline"
      ],
      "metadata": {
        "id": "ukC9VcAWY3TI"
      }
    },
    {
      "cell_type": "code",
      "source": [
        "tfms = Pipeline([tok, num])\n",
        "t = tfms(txts[0]); t[:20]"
      ],
      "metadata": {
        "colab": {
          "base_uri": "https://localhost:8080/"
        },
        "id": "I0kQI1XzY4Ml",
        "outputId": "1a314730-1917-4e73-edd2-8063b6ff9f29"
      },
      "execution_count": 15,
      "outputs": [
        {
          "output_type": "execute_result",
          "data": {
            "text/plain": [
              "TensorText([   2,   18,  393,   14,   50,   20,   33,   11,  471,  114,   12,    7,  242,   11,    6,  144, 1696, 5680,   29,   18])"
            ]
          },
          "metadata": {},
          "execution_count": 15
        }
      ]
    },
    {
      "cell_type": "code",
      "source": [
        "tfms.decode(t)[:100]"
      ],
      "metadata": {
        "colab": {
          "base_uri": "https://localhost:8080/",
          "height": 36
        },
        "id": "z4qv2tm_ZtO9",
        "outputId": "d93ee35a-41cf-4d1f-dc7d-89b89a8d0666"
      },
      "execution_count": 16,
      "outputs": [
        {
          "output_type": "execute_result",
          "data": {
            "text/plain": [
              "'xxbos i wanted to like this film , yes its a xxup saw , xxwrep 3 blah ripoff but i like those films '"
            ],
            "application/vnd.google.colaboratory.intrinsic+json": {
              "type": "string"
            }
          },
          "metadata": {},
          "execution_count": 16
        }
      ]
    },
    {
      "cell_type": "markdown",
      "source": [
        "TfmdLists and Datasets: Transformed Collections"
      ],
      "metadata": {
        "id": "D5i6FA-6Zzp-"
      }
    },
    {
      "cell_type": "markdown",
      "source": [
        "TfmdLists"
      ],
      "metadata": {
        "id": "Ank4THjDZ2Nc"
      }
    },
    {
      "cell_type": "code",
      "source": [
        "tls = TfmdLists(files, [Tokenizer.from_folder(path), Numericalize])"
      ],
      "metadata": {
        "id": "mjQiyoRRZvb2"
      },
      "execution_count": 17,
      "outputs": []
    },
    {
      "cell_type": "code",
      "source": [
        "t = tls[0]; t[:20]"
      ],
      "metadata": {
        "colab": {
          "base_uri": "https://localhost:8080/"
        },
        "id": "Dmnk5JZsZ44d",
        "outputId": "c3ea9d1d-785f-4025-a4f9-61c73ea6f9ce"
      },
      "execution_count": 18,
      "outputs": [
        {
          "output_type": "execute_result",
          "data": {
            "text/plain": [
              "TensorText([   2,   19,  488,   15,   53,   20,   32,   11,  445,  115,   13,    7,  234,   11,    6,  153, 3359, 6856,   31,   19])"
            ]
          },
          "metadata": {},
          "execution_count": 18
        }
      ]
    },
    {
      "cell_type": "code",
      "source": [
        "tls.decode(t)[:100]"
      ],
      "metadata": {
        "colab": {
          "base_uri": "https://localhost:8080/",
          "height": 36
        },
        "id": "DxD3UMZ1nCPN",
        "outputId": "21bd4e25-a44d-4290-e30f-6e7957176174"
      },
      "execution_count": 19,
      "outputs": [
        {
          "output_type": "execute_result",
          "data": {
            "text/plain": [
              "'xxbos i wanted to like this film , yes its a xxup saw , xxwrep 3 blah ripoff but i like those films '"
            ],
            "application/vnd.google.colaboratory.intrinsic+json": {
              "type": "string"
            }
          },
          "metadata": {},
          "execution_count": 19
        }
      ]
    },
    {
      "cell_type": "code",
      "source": [
        "tls.show(t)"
      ],
      "metadata": {
        "colab": {
          "base_uri": "https://localhost:8080/"
        },
        "id": "JSQvU-3xnFE2",
        "outputId": "b923b3e6-d33d-4bcd-9f93-0f35bb26a5ee"
      },
      "execution_count": 20,
      "outputs": [
        {
          "output_type": "stream",
          "name": "stdout",
          "text": [
            "xxbos i wanted to like this film , yes its a xxup saw , xxwrep 3 blah ripoff but i like those films . xxmaj if done well this had all the ingredients of being a good , not brilliant , but good film … xxunk those ingredients had gone off ! xxmaj the acting was terrible , and this was first seen when the captives are introduced with their captor one by one ( hoods taken off ) , the remarks and one liners are just terrible , yes i know , bad writing … .but this is more than that , it was bad writing coupled with bad acting . xxmaj two of the captives had been in a relationship with each other and did not even acknowledge this until a lot further into the film … .. \n",
            "\n",
            " xxmaj sorry , xxmaj i m even wondering why i am bothering to review this movie at all . \n",
            "\n",
            " i will end with xxup plot xxup holes , xxup plot xxup holes & xxup more xxup plot xxup holes ! xxup disappointing !\n"
          ]
        }
      ]
    },
    {
      "cell_type": "code",
      "source": [
        "cut = int(len(files)*0.8)\n",
        "splits = [list(range(cut)), list(range(cut,len(files)))]\n",
        "tls = TfmdLists(files, [Tokenizer.from_folder(path), Numericalize],\n",
        "                splits=splits)"
      ],
      "metadata": {
        "id": "xna9BFU7nIne"
      },
      "execution_count": 21,
      "outputs": []
    },
    {
      "cell_type": "code",
      "source": [
        "tls.valid[0][:20]"
      ],
      "metadata": {
        "colab": {
          "base_uri": "https://localhost:8080/"
        },
        "id": "O8VN9KzBnLm4",
        "outputId": "37a4f800-4783-4ae8-ddfa-d97573e414d6"
      },
      "execution_count": 22,
      "outputs": [
        {
          "output_type": "execute_result",
          "data": {
            "text/plain": [
              "TensorText([    2,     8,   234,    20,    32,   318,     9,     8, 14091,   203,     8, 16052,  3105,    18,     8,  6262,    10,    19,    25,    52])"
            ]
          },
          "metadata": {},
          "execution_count": 22
        }
      ]
    },
    {
      "cell_type": "code",
      "source": [
        "lbls = files.map(parent_label)\n",
        "lbls"
      ],
      "metadata": {
        "colab": {
          "base_uri": "https://localhost:8080/"
        },
        "id": "WaiOt2S6nORC",
        "outputId": "116f426f-c0d8-406a-bb41-66af5561acaa"
      },
      "execution_count": 23,
      "outputs": [
        {
          "output_type": "execute_result",
          "data": {
            "text/plain": [
              "(#50000) ['neg','neg','neg','neg','neg','neg','neg','neg','neg','neg'...]"
            ]
          },
          "metadata": {},
          "execution_count": 23
        }
      ]
    },
    {
      "cell_type": "code",
      "source": [
        "cat = Categorize()\n",
        "cat.setup(lbls)\n",
        "cat.vocab, cat(lbls[0])"
      ],
      "metadata": {
        "colab": {
          "base_uri": "https://localhost:8080/"
        },
        "id": "PVmYD00ynR_M",
        "outputId": "f4ffbbf4-ad63-4581-8bbd-79703ce59b04"
      },
      "execution_count": 24,
      "outputs": [
        {
          "output_type": "execute_result",
          "data": {
            "text/plain": [
              "(['neg', 'pos'], TensorCategory(0))"
            ]
          },
          "metadata": {},
          "execution_count": 24
        }
      ]
    },
    {
      "cell_type": "code",
      "source": [
        "tls_y = TfmdLists(files, [parent_label, Categorize()])\n",
        "tls_y[0]"
      ],
      "metadata": {
        "colab": {
          "base_uri": "https://localhost:8080/"
        },
        "id": "TmaEYn4dpr3C",
        "outputId": "7b4665f1-0db9-48b7-8021-d94f3f7255cd"
      },
      "execution_count": 25,
      "outputs": [
        {
          "output_type": "execute_result",
          "data": {
            "text/plain": [
              "TensorCategory(0)"
            ]
          },
          "metadata": {},
          "execution_count": 25
        }
      ]
    },
    {
      "cell_type": "markdown",
      "source": [
        "Datasets"
      ],
      "metadata": {
        "id": "H1rLO8CDpuTp"
      }
    },
    {
      "cell_type": "code",
      "source": [
        "x_tfms = [Tokenizer.from_folder(path), Numericalize]\n",
        "y_tfms = [parent_label, Categorize()]\n",
        "dsets = Datasets(files, [x_tfms, y_tfms])\n",
        "x,y = dsets[0]\n",
        "x[:20],y"
      ],
      "metadata": {
        "colab": {
          "base_uri": "https://localhost:8080/"
        },
        "id": "LadEsNlXpvAu",
        "outputId": "d51ad641-aee3-4534-9622-e65ec05ef301"
      },
      "execution_count": 26,
      "outputs": [
        {
          "output_type": "execute_result",
          "data": {
            "text/plain": [
              "(TensorText([   2,   19,  488,   15,   53,   20,   32,   11,  445,  115,   13,    7,  234,   11,    6,  153, 3359, 6856,   31,   19]),\n",
              " TensorCategory(0))"
            ]
          },
          "metadata": {},
          "execution_count": 26
        }
      ]
    },
    {
      "cell_type": "code",
      "source": [
        "x_tfms = [Tokenizer.from_folder(path), Numericalize]\n",
        "y_tfms = [parent_label, Categorize()]\n",
        "dsets = Datasets(files, [x_tfms, y_tfms], splits=splits)\n",
        "x,y = dsets.valid[0]\n",
        "x[:20],y\n",
        ""
      ],
      "metadata": {
        "colab": {
          "base_uri": "https://localhost:8080/"
        },
        "id": "R5xUlwqBpxU-",
        "outputId": "523193b5-58dc-406e-d013-f94d9ee34382"
      },
      "execution_count": 27,
      "outputs": [
        {
          "output_type": "execute_result",
          "data": {
            "text/plain": [
              "(TensorText([    2,     8,   234,    20,    32,   318,     9,     8, 14091,   203,     8, 16052,  3105,    18,     8,  6262,    10,    19,    25,    52]),\n",
              " TensorCategory(1))"
            ]
          },
          "metadata": {},
          "execution_count": 27
        }
      ]
    },
    {
      "cell_type": "code",
      "source": [
        "t = dsets.valid[0]\n",
        "dsets.decode(t)"
      ],
      "metadata": {
        "colab": {
          "base_uri": "https://localhost:8080/"
        },
        "id": "UARY-PMpp09W",
        "outputId": "8bb27b60-cc20-48c2-f80b-03425599a91f"
      },
      "execution_count": 28,
      "outputs": [
        {
          "output_type": "execute_result",
          "data": {
            "text/plain": [
              "('xxbos xxmaj saw this film during the xxmaj mod & xxmaj rockers fest in xxmaj august . i was so inspired and touched . xxmaj harry had an amazing life and one of the best and distinct voices ever recorded . xxmaj for those of you who do n\\'t know about xxmaj harry xxmaj nilsson do a little research and you \\'ll see that xxmaj harry has probably found his way into your life in one way or another - maybe it was his 70s special \" the xxmaj point \" or \" everybody \\'s xxmaj talking \" from xxmaj midnight xxmaj cowboy . xxmaj for me it started with \" people let me tell you bout my best friend \" - the theme song from \" the xxmaj courtship of xxmaj eddie \\'s xxmaj father . \" xxmaj watching this film you can really feel the love and admiration from xxmaj harry \\'s true friends and peers . xxmaj do n\\'t shed a tear for xxmaj harry - he had a ball … \\n\\n xxmaj brett',\n",
              " 'pos')"
            ]
          },
          "metadata": {},
          "execution_count": 28
        }
      ]
    },
    {
      "cell_type": "code",
      "source": [
        "dls = dsets.dataloaders(bs=64, before_batch=pad_input)"
      ],
      "metadata": {
        "id": "8cDVzxvtp3O5"
      },
      "execution_count": 29,
      "outputs": []
    },
    {
      "cell_type": "code",
      "source": [
        "tfms = [[Tokenizer.from_folder(path), Numericalize], [parent_label, Categorize]]\n",
        "files = get_text_files(path, folders = ['train', 'test'])\n",
        "splits = GrandparentSplitter(valid_name='test')(files)\n",
        "dsets = Datasets(files, tfms, splits=splits)\n",
        "dls = dsets.dataloaders(dl_type=SortedDL, before_batch=pad_input)"
      ],
      "metadata": {
        "id": "fcVRkTlEp5Nl"
      },
      "execution_count": 30,
      "outputs": []
    },
    {
      "cell_type": "code",
      "source": [
        "path = untar_data(URLs.IMDB)\n",
        "dls = DataBlock(\n",
        "    blocks=(TextBlock.from_folder(path),CategoryBlock),\n",
        "    get_y = parent_label,\n",
        "    get_items=partial(get_text_files, folders=['train', 'test']),\n",
        "    splitter=GrandparentSplitter(valid_name='test')\n",
        ").dataloaders(path)"
      ],
      "metadata": {
        "id": "GG_GTJlPp7Zj"
      },
      "execution_count": 31,
      "outputs": []
    },
    {
      "cell_type": "markdown",
      "source": [
        "Applying the Mid-Level Data API: SiamesePair"
      ],
      "metadata": {
        "id": "WHoXu30np9qE"
      }
    }
  ]
}