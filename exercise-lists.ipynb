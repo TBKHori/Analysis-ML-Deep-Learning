{
 "cells": [
  {
   "cell_type": "markdown",
   "id": "b08c2ebd",
   "metadata": {
    "papermill": {
     "duration": 0.005991,
     "end_time": "2023-01-01T22:56:16.463647",
     "exception": false,
     "start_time": "2023-01-01T22:56:16.457656",
     "status": "completed"
    },
    "tags": []
   },
   "source": [
    "**This notebook is an exercise in the [Python](https://www.kaggle.com/learn/python) course.  You can reference the tutorial at [this link](https://www.kaggle.com/colinmorris/lists).**\n",
    "\n",
    "---\n"
   ]
  },
  {
   "cell_type": "markdown",
   "id": "6b60e266",
   "metadata": {
    "papermill": {
     "duration": 0.004479,
     "end_time": "2023-01-01T22:56:16.474207",
     "exception": false,
     "start_time": "2023-01-01T22:56:16.469728",
     "status": "completed"
    },
    "tags": []
   },
   "source": [
    "Things get more interesting with lists. You'll apply your new knowledge to solve the questions below. Remember to run the following cell first."
   ]
  },
  {
   "cell_type": "code",
   "execution_count": 1,
   "id": "22c2b1c1",
   "metadata": {
    "execution": {
     "iopub.execute_input": "2023-01-01T22:56:16.486137Z",
     "iopub.status.busy": "2023-01-01T22:56:16.485356Z",
     "iopub.status.idle": "2023-01-01T22:56:16.539578Z",
     "shell.execute_reply": "2023-01-01T22:56:16.538712Z"
    },
    "papermill": {
     "duration": 0.063142,
     "end_time": "2023-01-01T22:56:16.542107",
     "exception": false,
     "start_time": "2023-01-01T22:56:16.478965",
     "status": "completed"
    },
    "tags": []
   },
   "outputs": [
    {
     "name": "stdout",
     "output_type": "stream",
     "text": [
      "Setup complete.\n"
     ]
    }
   ],
   "source": [
    "from learntools.core import binder; binder.bind(globals())\n",
    "from learntools.python.ex4 import *\n",
    "print('Setup complete.')"
   ]
  },
  {
   "cell_type": "markdown",
   "id": "19455e6b",
   "metadata": {
    "papermill": {
     "duration": 0.004541,
     "end_time": "2023-01-01T22:56:16.551543",
     "exception": false,
     "start_time": "2023-01-01T22:56:16.547002",
     "status": "completed"
    },
    "tags": []
   },
   "source": [
    "# 1.\n",
    "\n",
    "Complete the function below according to its docstring."
   ]
  },
  {
   "cell_type": "code",
   "execution_count": 2,
   "id": "c898920e",
   "metadata": {
    "execution": {
     "iopub.execute_input": "2023-01-01T22:56:16.562613Z",
     "iopub.status.busy": "2023-01-01T22:56:16.562207Z",
     "iopub.status.idle": "2023-01-01T22:56:16.574150Z",
     "shell.execute_reply": "2023-01-01T22:56:16.573007Z"
    },
    "papermill": {
     "duration": 0.020211,
     "end_time": "2023-01-01T22:56:16.576398",
     "exception": false,
     "start_time": "2023-01-01T22:56:16.556187",
     "status": "completed"
    },
    "tags": []
   },
   "outputs": [
    {
     "data": {
      "application/javascript": [
       "parent.postMessage({\"jupyterEvent\": \"custom.exercise_interaction\", \"data\": {\"outcomeType\": 1, \"valueTowardsCompletion\": 0.2, \"interactionType\": 1, \"questionType\": 2, \"questionId\": \"1_SelectSecondItem\", \"learnToolsVersion\": \"0.3.4\", \"failureMessage\": \"\", \"exceptionClass\": \"\", \"trace\": \"\"}}, \"*\")"
      ],
      "text/plain": [
       "<IPython.core.display.Javascript object>"
      ]
     },
     "metadata": {},
     "output_type": "display_data"
    },
    {
     "data": {
      "text/markdown": [
       "<span style=\"color:#33cc33\">Correct</span>"
      ],
      "text/plain": [
       "Correct"
      ]
     },
     "metadata": {},
     "output_type": "display_data"
    }
   ],
   "source": [
    "def select_second(L):\n",
    "    if len(L) < 2:\n",
    "        return None\n",
    "    return L[1]\n",
    "\n",
    "# Check your answer\n",
    "q1.check()"
   ]
  },
  {
   "cell_type": "code",
   "execution_count": 3,
   "id": "eaddcda8",
   "metadata": {
    "execution": {
     "iopub.execute_input": "2023-01-01T22:56:16.588370Z",
     "iopub.status.busy": "2023-01-01T22:56:16.587616Z",
     "iopub.status.idle": "2023-01-01T22:56:16.593835Z",
     "shell.execute_reply": "2023-01-01T22:56:16.593060Z"
    },
    "papermill": {
     "duration": 0.014721,
     "end_time": "2023-01-01T22:56:16.596134",
     "exception": false,
     "start_time": "2023-01-01T22:56:16.581413",
     "status": "completed"
    },
    "tags": []
   },
   "outputs": [],
   "source": [
    "#q1.hint()\n",
    "#q1.solution()"
   ]
  },
  {
   "cell_type": "markdown",
   "id": "c50d809d",
   "metadata": {
    "papermill": {
     "duration": 0.004864,
     "end_time": "2023-01-01T22:56:16.606277",
     "exception": false,
     "start_time": "2023-01-01T22:56:16.601413",
     "status": "completed"
    },
    "tags": []
   },
   "source": [
    "# 2.\n",
    "\n",
    "You are analyzing sports teams.  Members of each team are stored in a list. The Coach is the first name in the list, the captain is the second name in the list, and other players are listed after that. \n",
    "These lists are stored in another list, which starts with the best team and proceeds through the list to the worst team last.  Complete the function below to select the **captain** of the worst team."
   ]
  },
  {
   "cell_type": "code",
   "execution_count": 4,
   "id": "dff14ca4",
   "metadata": {
    "execution": {
     "iopub.execute_input": "2023-01-01T22:56:16.618409Z",
     "iopub.status.busy": "2023-01-01T22:56:16.617613Z",
     "iopub.status.idle": "2023-01-01T22:56:16.627068Z",
     "shell.execute_reply": "2023-01-01T22:56:16.626040Z"
    },
    "papermill": {
     "duration": 0.018009,
     "end_time": "2023-01-01T22:56:16.629233",
     "exception": false,
     "start_time": "2023-01-01T22:56:16.611224",
     "status": "completed"
    },
    "tags": []
   },
   "outputs": [
    {
     "data": {
      "application/javascript": [
       "parent.postMessage({\"jupyterEvent\": \"custom.exercise_interaction\", \"data\": {\"outcomeType\": 1, \"valueTowardsCompletion\": 0.2, \"interactionType\": 1, \"questionType\": 2, \"questionId\": \"2_LosingTeamCaptain\", \"learnToolsVersion\": \"0.3.4\", \"failureMessage\": \"\", \"exceptionClass\": \"\", \"trace\": \"\"}}, \"*\")"
      ],
      "text/plain": [
       "<IPython.core.display.Javascript object>"
      ]
     },
     "metadata": {},
     "output_type": "display_data"
    },
    {
     "data": {
      "text/markdown": [
       "<span style=\"color:#33cc33\">Correct</span>"
      ],
      "text/plain": [
       "Correct"
      ]
     },
     "metadata": {},
     "output_type": "display_data"
    }
   ],
   "source": [
    "def losing_team_captain(teams):\n",
    "    return teams[-1][1]\n",
    "\n",
    "# Check your answer\n",
    "q2.check()"
   ]
  },
  {
   "cell_type": "code",
   "execution_count": 5,
   "id": "e51ee637",
   "metadata": {
    "execution": {
     "iopub.execute_input": "2023-01-01T22:56:16.641683Z",
     "iopub.status.busy": "2023-01-01T22:56:16.640991Z",
     "iopub.status.idle": "2023-01-01T22:56:16.645440Z",
     "shell.execute_reply": "2023-01-01T22:56:16.644614Z"
    },
    "papermill": {
     "duration": 0.013125,
     "end_time": "2023-01-01T22:56:16.647635",
     "exception": false,
     "start_time": "2023-01-01T22:56:16.634510",
     "status": "completed"
    },
    "tags": []
   },
   "outputs": [],
   "source": [
    "#q2.hint()\n",
    "#q2.solution()"
   ]
  },
  {
   "cell_type": "markdown",
   "id": "64a0a0af",
   "metadata": {
    "papermill": {
     "duration": 0.00503,
     "end_time": "2023-01-01T22:56:16.658212",
     "exception": false,
     "start_time": "2023-01-01T22:56:16.653182",
     "status": "completed"
    },
    "tags": []
   },
   "source": [
    "# 3.\n",
    "\n",
    "The next iteration of Mario Kart will feature an extra-infuriating new item, the *Purple Shell*. When used, it warps the last place racer into first place and the first place racer into last place. Complete the function below to implement the Purple Shell's effect."
   ]
  },
  {
   "cell_type": "code",
   "execution_count": 6,
   "id": "e03efe61",
   "metadata": {
    "execution": {
     "iopub.execute_input": "2023-01-01T22:56:16.672554Z",
     "iopub.status.busy": "2023-01-01T22:56:16.671750Z",
     "iopub.status.idle": "2023-01-01T22:56:16.681509Z",
     "shell.execute_reply": "2023-01-01T22:56:16.680456Z"
    },
    "papermill": {
     "duration": 0.018575,
     "end_time": "2023-01-01T22:56:16.683601",
     "exception": false,
     "start_time": "2023-01-01T22:56:16.665026",
     "status": "completed"
    },
    "tags": []
   },
   "outputs": [
    {
     "data": {
      "application/javascript": [
       "parent.postMessage({\"jupyterEvent\": \"custom.exercise_interaction\", \"data\": {\"outcomeType\": 1, \"valueTowardsCompletion\": 0.2, \"interactionType\": 1, \"questionType\": 2, \"questionId\": \"3_PurpleShell\", \"learnToolsVersion\": \"0.3.4\", \"failureMessage\": \"\", \"exceptionClass\": \"\", \"trace\": \"\"}}, \"*\")"
      ],
      "text/plain": [
       "<IPython.core.display.Javascript object>"
      ]
     },
     "metadata": {},
     "output_type": "display_data"
    },
    {
     "data": {
      "text/markdown": [
       "<span style=\"color:#33cc33\">Correct</span>"
      ],
      "text/plain": [
       "Correct"
      ]
     },
     "metadata": {},
     "output_type": "display_data"
    }
   ],
   "source": [
    "def purple_shell(racers):\n",
    "    # One slick way to do the swap is x[0], x[-1] = x[-1], x[0].\n",
    "    temp = racers[0]\n",
    "    racers[0] = racers[-1]\n",
    "    racers[-1] = temp\n",
    "\n",
    "# Check your answer\n",
    "q3.check()"
   ]
  },
  {
   "cell_type": "code",
   "execution_count": 7,
   "id": "18f2ea4f",
   "metadata": {
    "execution": {
     "iopub.execute_input": "2023-01-01T22:56:16.697035Z",
     "iopub.status.busy": "2023-01-01T22:56:16.696222Z",
     "iopub.status.idle": "2023-01-01T22:56:16.700815Z",
     "shell.execute_reply": "2023-01-01T22:56:16.699883Z"
    },
    "papermill": {
     "duration": 0.013651,
     "end_time": "2023-01-01T22:56:16.703083",
     "exception": false,
     "start_time": "2023-01-01T22:56:16.689432",
     "status": "completed"
    },
    "tags": []
   },
   "outputs": [],
   "source": [
    "#q3.hint()\n",
    "#q3.solution()"
   ]
  },
  {
   "cell_type": "markdown",
   "id": "c4f89b22",
   "metadata": {
    "papermill": {
     "duration": 0.005129,
     "end_time": "2023-01-01T22:56:16.713675",
     "exception": false,
     "start_time": "2023-01-01T22:56:16.708546",
     "status": "completed"
    },
    "tags": []
   },
   "source": [
    "# 4.\n",
    "\n",
    "What are the lengths of the following lists? Fill in the variable `lengths` with your predictions. (Try to make a prediction for each list *without* just calling `len()` on it.)"
   ]
  },
  {
   "cell_type": "code",
   "execution_count": 8,
   "id": "49889573",
   "metadata": {
    "execution": {
     "iopub.execute_input": "2023-01-01T22:56:16.727328Z",
     "iopub.status.busy": "2023-01-01T22:56:16.726950Z",
     "iopub.status.idle": "2023-01-01T22:56:16.735904Z",
     "shell.execute_reply": "2023-01-01T22:56:16.735155Z"
    },
    "papermill": {
     "duration": 0.01797,
     "end_time": "2023-01-01T22:56:16.737852",
     "exception": false,
     "start_time": "2023-01-01T22:56:16.719882",
     "status": "completed"
    },
    "tags": []
   },
   "outputs": [
    {
     "data": {
      "application/javascript": [
       "parent.postMessage({\"jupyterEvent\": \"custom.exercise_interaction\", \"data\": {\"outcomeType\": 1, \"valueTowardsCompletion\": 0.2, \"interactionType\": 1, \"questionType\": 1, \"questionId\": \"4_UnderstandLen\", \"learnToolsVersion\": \"0.3.4\", \"failureMessage\": \"\", \"exceptionClass\": \"\", \"trace\": \"\"}}, \"*\")"
      ],
      "text/plain": [
       "<IPython.core.display.Javascript object>"
      ]
     },
     "metadata": {},
     "output_type": "display_data"
    },
    {
     "data": {
      "text/markdown": [
       "<span style=\"color:#33cc33\">Correct:</span> \n",
       "\n",
       "\n",
       "- a: There are three items in this list. Nothing tricky yet.\n",
       "- b: The list `[2, 3]` counts as a single item. It has one item before it. So we have 2 items in the list\n",
       "- c: The empty list has 0 items\n",
       "- d: The expression is the same as the list `[2, 3]`, which has length 2."
      ],
      "text/plain": [
       "Correct: \n",
       "\n",
       "\n",
       "- a: There are three items in this list. Nothing tricky yet.\n",
       "- b: The list `[2, 3]` counts as a single item. It has one item before it. So we have 2 items in the list\n",
       "- c: The empty list has 0 items\n",
       "- d: The expression is the same as the list `[2, 3]`, which has length 2."
      ]
     },
     "metadata": {},
     "output_type": "display_data"
    }
   ],
   "source": [
    "a = [1, 2, 3]\n",
    "b = [1, [2, 3]]\n",
    "c = []\n",
    "d = [1, 2, 3][1:]\n",
    "\n",
    "# Put your predictions in the list below. Lengths should contain 4 numbers, the\n",
    "# first being the length of a, the second being the length of b and so on.\n",
    "lengths = [3, 2, 0, 2]\n",
    "\n",
    "# Check your answer\n",
    "q4.check()"
   ]
  },
  {
   "cell_type": "code",
   "execution_count": 9,
   "id": "13b04204",
   "metadata": {
    "execution": {
     "iopub.execute_input": "2023-01-01T22:56:16.750869Z",
     "iopub.status.busy": "2023-01-01T22:56:16.750319Z",
     "iopub.status.idle": "2023-01-01T22:56:16.753892Z",
     "shell.execute_reply": "2023-01-01T22:56:16.752961Z"
    },
    "papermill": {
     "duration": 0.012597,
     "end_time": "2023-01-01T22:56:16.756110",
     "exception": false,
     "start_time": "2023-01-01T22:56:16.743513",
     "status": "completed"
    },
    "tags": []
   },
   "outputs": [],
   "source": [
    "# line below provides some explanation\n",
    "#q4.solution()"
   ]
  },
  {
   "cell_type": "markdown",
   "id": "999e03d8",
   "metadata": {
    "papermill": {
     "duration": 0.005434,
     "end_time": "2023-01-01T22:56:16.767192",
     "exception": false,
     "start_time": "2023-01-01T22:56:16.761758",
     "status": "completed"
    },
    "tags": []
   },
   "source": [
    "# 5. <span title=\"A bit spicy\" style=\"color: darkgreen \">🌶️</span>\n",
    "\n",
    "We're using lists to record people who attended our party and what order they arrived in. For example, the following list represents a party with 7 guests, in which Adela showed up first and Ford was the last to arrive:\n",
    "\n",
    "    party_attendees = ['Adela', 'Fleda', 'Owen', 'May', 'Mona', 'Gilbert', 'Ford']\n",
    "\n",
    "A guest is considered 'fashionably late' if they arrived after at least half of the party's guests. However, they must not be the very last guest (that's taking it too far). In the above example, Mona and Gilbert are the only guests who were fashionably late.\n",
    "\n",
    "Complete the function below which takes a list of party attendees as well as a person, and tells us whether that person is fashionably late."
   ]
  },
  {
   "cell_type": "code",
   "execution_count": 10,
   "id": "9502d4de",
   "metadata": {
    "execution": {
     "iopub.execute_input": "2023-01-01T22:56:16.780325Z",
     "iopub.status.busy": "2023-01-01T22:56:16.779934Z",
     "iopub.status.idle": "2023-01-01T22:56:16.789237Z",
     "shell.execute_reply": "2023-01-01T22:56:16.788128Z"
    },
    "papermill": {
     "duration": 0.018675,
     "end_time": "2023-01-01T22:56:16.791457",
     "exception": false,
     "start_time": "2023-01-01T22:56:16.772782",
     "status": "completed"
    },
    "tags": []
   },
   "outputs": [
    {
     "data": {
      "application/javascript": [
       "parent.postMessage({\"jupyterEvent\": \"custom.exercise_interaction\", \"data\": {\"outcomeType\": 1, \"valueTowardsCompletion\": 0.2, \"interactionType\": 1, \"questionType\": 2, \"questionId\": \"5_FashionablyLate\", \"learnToolsVersion\": \"0.3.4\", \"failureMessage\": \"\", \"exceptionClass\": \"\", \"trace\": \"\"}}, \"*\")"
      ],
      "text/plain": [
       "<IPython.core.display.Javascript object>"
      ]
     },
     "metadata": {},
     "output_type": "display_data"
    },
    {
     "data": {
      "text/markdown": [
       "<span style=\"color:#33cc33\">Correct</span>"
      ],
      "text/plain": [
       "Correct"
      ]
     },
     "metadata": {},
     "output_type": "display_data"
    }
   ],
   "source": [
    "def fashionably_late(arrivals, name):\n",
    "    order = arrivals.index(name)\n",
    "    return order >= len(arrivals) / 2 and order != len(arrivals) - 1\n",
    "\n",
    "# Check your answer\n",
    "q5.check()"
   ]
  },
  {
   "cell_type": "code",
   "execution_count": 11,
   "id": "fadadf66",
   "metadata": {
    "execution": {
     "iopub.execute_input": "2023-01-01T22:56:16.805748Z",
     "iopub.status.busy": "2023-01-01T22:56:16.804610Z",
     "iopub.status.idle": "2023-01-01T22:56:16.809763Z",
     "shell.execute_reply": "2023-01-01T22:56:16.808588Z"
    },
    "papermill": {
     "duration": 0.014312,
     "end_time": "2023-01-01T22:56:16.811932",
     "exception": false,
     "start_time": "2023-01-01T22:56:16.797620",
     "status": "completed"
    },
    "tags": []
   },
   "outputs": [],
   "source": [
    "#q5.hint()\n",
    "#q5.solution()"
   ]
  },
  {
   "cell_type": "markdown",
   "id": "dd806e34",
   "metadata": {
    "papermill": {
     "duration": 0.005565,
     "end_time": "2023-01-01T22:56:16.823451",
     "exception": false,
     "start_time": "2023-01-01T22:56:16.817886",
     "status": "completed"
    },
    "tags": []
   },
   "source": [
    "# Keep Going\n",
    "\n",
    "That's it for lists and tuples! Now you have the baseline knowledge to **[learn about loops](https://www.kaggle.com/colinmorris/loops-and-list-comprehensions)**, which is where lists and tuples get really interesting. "
   ]
  },
  {
   "cell_type": "markdown",
   "id": "ef089d0b",
   "metadata": {
    "papermill": {
     "duration": 0.005561,
     "end_time": "2023-01-01T22:56:16.834691",
     "exception": false,
     "start_time": "2023-01-01T22:56:16.829130",
     "status": "completed"
    },
    "tags": []
   },
   "source": [
    "---\n",
    "\n",
    "\n",
    "\n",
    "\n",
    "*Have questions or comments? Visit the [course discussion forum](https://www.kaggle.com/learn/python/discussion) to chat with other learners.*"
   ]
  }
 ],
 "metadata": {
  "kernelspec": {
   "display_name": "Python 3",
   "language": "python",
   "name": "python3"
  },
  "language_info": {
   "codemirror_mode": {
    "name": "ipython",
    "version": 3
   },
   "file_extension": ".py",
   "mimetype": "text/x-python",
   "name": "python",
   "nbconvert_exporter": "python",
   "pygments_lexer": "ipython3",
   "version": "3.7.12"
  },
  "papermill": {
   "default_parameters": {},
   "duration": 9.415556,
   "end_time": "2023-01-01T22:56:17.461319",
   "environment_variables": {},
   "exception": null,
   "input_path": "__notebook__.ipynb",
   "output_path": "__notebook__.ipynb",
   "parameters": {},
   "start_time": "2023-01-01T22:56:08.045763",
   "version": "2.3.4"
  }
 },
 "nbformat": 4,
 "nbformat_minor": 5
}
