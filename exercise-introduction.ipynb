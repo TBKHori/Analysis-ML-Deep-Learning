{
 "cells": [
  {
   "cell_type": "markdown",
   "id": "5a7d3e2b",
   "metadata": {
    "papermill": {
     "duration": 0.007014,
     "end_time": "2023-01-14T23:45:19.132509",
     "exception": false,
     "start_time": "2023-01-14T23:45:19.125495",
     "status": "completed"
    },
    "tags": []
   },
   "source": [
    "**This notebook is an exercise in the [Intermediate Machine Learning](https://www.kaggle.com/learn/intermediate-machine-learning) course.  You can reference the tutorial at [this link](https://www.kaggle.com/alexisbcook/introduction).**\n",
    "\n",
    "---\n"
   ]
  },
  {
   "cell_type": "markdown",
   "id": "bf5e5da1",
   "metadata": {
    "papermill": {
     "duration": 0.005019,
     "end_time": "2023-01-14T23:45:19.143139",
     "exception": false,
     "start_time": "2023-01-14T23:45:19.138120",
     "status": "completed"
    },
    "tags": []
   },
   "source": [
    "As a warm-up, you'll review some machine learning fundamentals and submit your initial results to a Kaggle competition.\n",
    "\n",
    "# Setup\n",
    "\n",
    "The questions below will give you feedback on your work. Run the following cell to set up the feedback system."
   ]
  },
  {
   "cell_type": "code",
   "execution_count": 1,
   "id": "e435855f",
   "metadata": {
    "execution": {
     "iopub.execute_input": "2023-01-14T23:45:19.162896Z",
     "iopub.status.busy": "2023-01-14T23:45:19.161423Z",
     "iopub.status.idle": "2023-01-14T23:45:20.788756Z",
     "shell.execute_reply": "2023-01-14T23:45:20.787611Z"
    },
    "papermill": {
     "duration": 1.642798,
     "end_time": "2023-01-14T23:45:20.791480",
     "exception": false,
     "start_time": "2023-01-14T23:45:19.148682",
     "status": "completed"
    },
    "tags": []
   },
   "outputs": [
    {
     "name": "stdout",
     "output_type": "stream",
     "text": [
      "Setup Complete\n"
     ]
    }
   ],
   "source": [
    "# Set up code checking\n",
    "import os\n",
    "if not os.path.exists(\"../input/train.csv\"):\n",
    "    os.symlink(\"../input/home-data-for-ml-course/train.csv\", \"../input/train.csv\")  \n",
    "    os.symlink(\"../input/home-data-for-ml-course/test.csv\", \"../input/test.csv\")  \n",
    "from learntools.core import binder\n",
    "binder.bind(globals())\n",
    "from learntools.ml_intermediate.ex1 import *\n",
    "print(\"Setup Complete\")"
   ]
  },
  {
   "cell_type": "markdown",
   "id": "13e65916",
   "metadata": {
    "papermill": {
     "duration": 0.004973,
     "end_time": "2023-01-14T23:45:20.801742",
     "exception": false,
     "start_time": "2023-01-14T23:45:20.796769",
     "status": "completed"
    },
    "tags": []
   },
   "source": [
    "You will work with data from the [Housing Prices Competition for Kaggle Learn Users](https://www.kaggle.com/c/home-data-for-ml-course) to predict home prices in Iowa using 79 explanatory variables describing (almost) every aspect of the homes.  \n",
    "\n",
    "![Ames Housing dataset image](https://i.imgur.com/lTJVG4e.png)\n",
    "\n",
    "Run the next code cell without changes to load the training and validation features in `X_train` and `X_valid`, along with the prediction targets in `y_train` and `y_valid`.  The test features are loaded in `X_test`.  (_If you need to review **features** and **prediction targets**, please check out [this short tutorial](https://www.kaggle.com/dansbecker/your-first-machine-learning-model).  To read about model **validation**, look [here](https://www.kaggle.com/dansbecker/model-validation).  Alternatively, if you'd prefer to look through a full course to review all of these topics, start [here](https://www.kaggle.com/learn/machine-learning).)_"
   ]
  },
  {
   "cell_type": "code",
   "execution_count": 2,
   "id": "48c45cee",
   "metadata": {
    "execution": {
     "iopub.execute_input": "2023-01-14T23:45:20.814938Z",
     "iopub.status.busy": "2023-01-14T23:45:20.813422Z",
     "iopub.status.idle": "2023-01-14T23:45:20.915693Z",
     "shell.execute_reply": "2023-01-14T23:45:20.912617Z"
    },
    "papermill": {
     "duration": 0.111906,
     "end_time": "2023-01-14T23:45:20.918755",
     "exception": false,
     "start_time": "2023-01-14T23:45:20.806849",
     "status": "completed"
    },
    "tags": []
   },
   "outputs": [],
   "source": [
    "import pandas as pd\n",
    "from sklearn.model_selection import train_test_split\n",
    "\n",
    "# Read the data\n",
    "X_full = pd.read_csv('../input/train.csv', index_col='Id')\n",
    "X_test_full = pd.read_csv('../input/test.csv', index_col='Id')\n",
    "\n",
    "# Obtain target and predictors\n",
    "y = X_full.SalePrice\n",
    "features = ['LotArea', 'YearBuilt', '1stFlrSF', '2ndFlrSF', 'FullBath', 'BedroomAbvGr', 'TotRmsAbvGrd']\n",
    "X = X_full[features].copy()\n",
    "X_test = X_test_full[features].copy()\n",
    "\n",
    "# Break off validation set from training data\n",
    "X_train, X_valid, y_train, y_valid = train_test_split(X, y, train_size=0.8, test_size=0.2,\n",
    "                                                      random_state=0)"
   ]
  },
  {
   "cell_type": "markdown",
   "id": "e689dda7",
   "metadata": {
    "papermill": {
     "duration": 0.005905,
     "end_time": "2023-01-14T23:45:20.931687",
     "exception": false,
     "start_time": "2023-01-14T23:45:20.925782",
     "status": "completed"
    },
    "tags": []
   },
   "source": [
    "Use the next cell to print the first several rows of the data. It's a nice way to get an overview of the data you will use in your price prediction model."
   ]
  },
  {
   "cell_type": "code",
   "execution_count": 3,
   "id": "326087c3",
   "metadata": {
    "execution": {
     "iopub.execute_input": "2023-01-14T23:45:20.947177Z",
     "iopub.status.busy": "2023-01-14T23:45:20.945905Z",
     "iopub.status.idle": "2023-01-14T23:45:20.967640Z",
     "shell.execute_reply": "2023-01-14T23:45:20.966296Z"
    },
    "papermill": {
     "duration": 0.033807,
     "end_time": "2023-01-14T23:45:20.971140",
     "exception": false,
     "start_time": "2023-01-14T23:45:20.937333",
     "status": "completed"
    },
    "tags": []
   },
   "outputs": [
    {
     "data": {
      "text/html": [
       "<div>\n",
       "<style scoped>\n",
       "    .dataframe tbody tr th:only-of-type {\n",
       "        vertical-align: middle;\n",
       "    }\n",
       "\n",
       "    .dataframe tbody tr th {\n",
       "        vertical-align: top;\n",
       "    }\n",
       "\n",
       "    .dataframe thead th {\n",
       "        text-align: right;\n",
       "    }\n",
       "</style>\n",
       "<table border=\"1\" class=\"dataframe\">\n",
       "  <thead>\n",
       "    <tr style=\"text-align: right;\">\n",
       "      <th></th>\n",
       "      <th>LotArea</th>\n",
       "      <th>YearBuilt</th>\n",
       "      <th>1stFlrSF</th>\n",
       "      <th>2ndFlrSF</th>\n",
       "      <th>FullBath</th>\n",
       "      <th>BedroomAbvGr</th>\n",
       "      <th>TotRmsAbvGrd</th>\n",
       "    </tr>\n",
       "    <tr>\n",
       "      <th>Id</th>\n",
       "      <th></th>\n",
       "      <th></th>\n",
       "      <th></th>\n",
       "      <th></th>\n",
       "      <th></th>\n",
       "      <th></th>\n",
       "      <th></th>\n",
       "    </tr>\n",
       "  </thead>\n",
       "  <tbody>\n",
       "    <tr>\n",
       "      <th>619</th>\n",
       "      <td>11694</td>\n",
       "      <td>2007</td>\n",
       "      <td>1828</td>\n",
       "      <td>0</td>\n",
       "      <td>2</td>\n",
       "      <td>3</td>\n",
       "      <td>9</td>\n",
       "    </tr>\n",
       "    <tr>\n",
       "      <th>871</th>\n",
       "      <td>6600</td>\n",
       "      <td>1962</td>\n",
       "      <td>894</td>\n",
       "      <td>0</td>\n",
       "      <td>1</td>\n",
       "      <td>2</td>\n",
       "      <td>5</td>\n",
       "    </tr>\n",
       "    <tr>\n",
       "      <th>93</th>\n",
       "      <td>13360</td>\n",
       "      <td>1921</td>\n",
       "      <td>964</td>\n",
       "      <td>0</td>\n",
       "      <td>1</td>\n",
       "      <td>2</td>\n",
       "      <td>5</td>\n",
       "    </tr>\n",
       "    <tr>\n",
       "      <th>818</th>\n",
       "      <td>13265</td>\n",
       "      <td>2002</td>\n",
       "      <td>1689</td>\n",
       "      <td>0</td>\n",
       "      <td>2</td>\n",
       "      <td>3</td>\n",
       "      <td>7</td>\n",
       "    </tr>\n",
       "    <tr>\n",
       "      <th>303</th>\n",
       "      <td>13704</td>\n",
       "      <td>2001</td>\n",
       "      <td>1541</td>\n",
       "      <td>0</td>\n",
       "      <td>2</td>\n",
       "      <td>3</td>\n",
       "      <td>6</td>\n",
       "    </tr>\n",
       "  </tbody>\n",
       "</table>\n",
       "</div>"
      ],
      "text/plain": [
       "     LotArea  YearBuilt  1stFlrSF  2ndFlrSF  FullBath  BedroomAbvGr  \\\n",
       "Id                                                                    \n",
       "619    11694       2007      1828         0         2             3   \n",
       "871     6600       1962       894         0         1             2   \n",
       "93     13360       1921       964         0         1             2   \n",
       "818    13265       2002      1689         0         2             3   \n",
       "303    13704       2001      1541         0         2             3   \n",
       "\n",
       "     TotRmsAbvGrd  \n",
       "Id                 \n",
       "619             9  \n",
       "871             5  \n",
       "93              5  \n",
       "818             7  \n",
       "303             6  "
      ]
     },
     "execution_count": 3,
     "metadata": {},
     "output_type": "execute_result"
    }
   ],
   "source": [
    "X_train.head()"
   ]
  },
  {
   "cell_type": "markdown",
   "id": "e0c9135b",
   "metadata": {
    "papermill": {
     "duration": 0.008468,
     "end_time": "2023-01-14T23:45:20.988389",
     "exception": false,
     "start_time": "2023-01-14T23:45:20.979921",
     "status": "completed"
    },
    "tags": []
   },
   "source": [
    "The next code cell defines five different random forest models.  Run this code cell without changes.  (_To review **random forests**, look [here](https://www.kaggle.com/dansbecker/random-forests)._)"
   ]
  },
  {
   "cell_type": "code",
   "execution_count": 4,
   "id": "9b36288e",
   "metadata": {
    "execution": {
     "iopub.execute_input": "2023-01-14T23:45:21.012225Z",
     "iopub.status.busy": "2023-01-14T23:45:21.007661Z",
     "iopub.status.idle": "2023-01-14T23:45:21.020297Z",
     "shell.execute_reply": "2023-01-14T23:45:21.018879Z"
    },
    "papermill": {
     "duration": 0.025715,
     "end_time": "2023-01-14T23:45:21.023028",
     "exception": false,
     "start_time": "2023-01-14T23:45:20.997313",
     "status": "completed"
    },
    "tags": []
   },
   "outputs": [],
   "source": [
    "from sklearn.ensemble import RandomForestRegressor\n",
    "\n",
    "# Define the models\n",
    "model_1 = RandomForestRegressor(n_estimators=50, random_state=0)\n",
    "model_2 = RandomForestRegressor(n_estimators=100, random_state=0)\n",
    "model_3 = RandomForestRegressor(n_estimators=100, criterion='absolute_error', random_state=0)\n",
    "model_4 = RandomForestRegressor(n_estimators=200, min_samples_split=20, random_state=0)\n",
    "model_5 = RandomForestRegressor(n_estimators=100, max_depth=7, random_state=0)\n",
    "\n",
    "models = [model_1, model_2, model_3, model_4, model_5]"
   ]
  },
  {
   "cell_type": "markdown",
   "id": "34a57a58",
   "metadata": {
    "papermill": {
     "duration": 0.007494,
     "end_time": "2023-01-14T23:45:21.036986",
     "exception": false,
     "start_time": "2023-01-14T23:45:21.029492",
     "status": "completed"
    },
    "tags": []
   },
   "source": [
    "To select the best model out of the five, we define a function `score_model()` below.  This function returns the mean absolute error (MAE) from the validation set.  Recall that the best model will obtain the lowest MAE.  (_To review **mean absolute error**, look [here](https://www.kaggle.com/dansbecker/model-validation).)_\n",
    "\n",
    "Run the code cell without changes."
   ]
  },
  {
   "cell_type": "code",
   "execution_count": 5,
   "id": "2ed0206b",
   "metadata": {
    "execution": {
     "iopub.execute_input": "2023-01-14T23:45:21.050864Z",
     "iopub.status.busy": "2023-01-14T23:45:21.050022Z",
     "iopub.status.idle": "2023-01-14T23:45:25.817079Z",
     "shell.execute_reply": "2023-01-14T23:45:25.815584Z"
    },
    "papermill": {
     "duration": 4.776816,
     "end_time": "2023-01-14T23:45:25.819579",
     "exception": false,
     "start_time": "2023-01-14T23:45:21.042763",
     "status": "completed"
    },
    "tags": []
   },
   "outputs": [
    {
     "name": "stdout",
     "output_type": "stream",
     "text": [
      "Model 1 MAE: 24015\n",
      "Model 2 MAE: 23740\n",
      "Model 3 MAE: 23528\n",
      "Model 4 MAE: 23996\n",
      "Model 5 MAE: 23706\n"
     ]
    }
   ],
   "source": [
    "from sklearn.metrics import mean_absolute_error\n",
    "\n",
    "# Function for comparing different models\n",
    "def score_model(model, X_t=X_train, X_v=X_valid, y_t=y_train, y_v=y_valid):\n",
    "    model.fit(X_t, y_t)\n",
    "    preds = model.predict(X_v)\n",
    "    return mean_absolute_error(y_v, preds)\n",
    "\n",
    "for i in range(0, len(models)):\n",
    "    mae = score_model(models[i])\n",
    "    print(\"Model %d MAE: %d\" % (i+1, mae))"
   ]
  },
  {
   "cell_type": "markdown",
   "id": "15ac3485",
   "metadata": {
    "papermill": {
     "duration": 0.005558,
     "end_time": "2023-01-14T23:45:25.831260",
     "exception": false,
     "start_time": "2023-01-14T23:45:25.825702",
     "status": "completed"
    },
    "tags": []
   },
   "source": [
    "# Step 1: Evaluate several models\n",
    "\n",
    "Use the above results to fill in the line below.  Which model is the best model?  Your answer should be one of `model_1`, `model_2`, `model_3`, `model_4`, or `model_5`."
   ]
  },
  {
   "cell_type": "code",
   "execution_count": 6,
   "id": "02e69d85",
   "metadata": {
    "execution": {
     "iopub.execute_input": "2023-01-14T23:45:25.845373Z",
     "iopub.status.busy": "2023-01-14T23:45:25.844332Z",
     "iopub.status.idle": "2023-01-14T23:45:25.854563Z",
     "shell.execute_reply": "2023-01-14T23:45:25.853204Z"
    },
    "papermill": {
     "duration": 0.019877,
     "end_time": "2023-01-14T23:45:25.856921",
     "exception": false,
     "start_time": "2023-01-14T23:45:25.837044",
     "status": "completed"
    },
    "tags": []
   },
   "outputs": [
    {
     "data": {
      "application/javascript": [
       "parent.postMessage({\"jupyterEvent\": \"custom.exercise_interaction\", \"data\": {\"outcomeType\": 1, \"valueTowardsCompletion\": 0.5, \"interactionType\": 1, \"questionType\": 2, \"questionId\": \"1_BestModel\", \"learnToolsVersion\": \"0.3.4\", \"failureMessage\": \"\", \"exceptionClass\": \"\", \"trace\": \"\"}}, \"*\")"
      ],
      "text/plain": [
       "<IPython.core.display.Javascript object>"
      ]
     },
     "metadata": {},
     "output_type": "display_data"
    },
    {
     "data": {
      "text/markdown": [
       "<span style=\"color:#33cc33\">Correct</span>"
      ],
      "text/plain": [
       "Correct"
      ]
     },
     "metadata": {},
     "output_type": "display_data"
    }
   ],
   "source": [
    "# Fill in the best model\n",
    "best_model = model_3\n",
    "\n",
    "# Check your answer\n",
    "step_1.check()"
   ]
  },
  {
   "cell_type": "code",
   "execution_count": 7,
   "id": "36553e92",
   "metadata": {
    "execution": {
     "iopub.execute_input": "2023-01-14T23:45:25.871279Z",
     "iopub.status.busy": "2023-01-14T23:45:25.870887Z",
     "iopub.status.idle": "2023-01-14T23:45:25.875694Z",
     "shell.execute_reply": "2023-01-14T23:45:25.874313Z"
    },
    "papermill": {
     "duration": 0.015306,
     "end_time": "2023-01-14T23:45:25.878258",
     "exception": false,
     "start_time": "2023-01-14T23:45:25.862952",
     "status": "completed"
    },
    "tags": []
   },
   "outputs": [],
   "source": [
    "# Lines below will give you a hint or solution code\n",
    "#step_1.hint()\n",
    "#step_1.solution()"
   ]
  },
  {
   "cell_type": "markdown",
   "id": "5054381f",
   "metadata": {
    "papermill": {
     "duration": 0.006266,
     "end_time": "2023-01-14T23:45:25.890653",
     "exception": false,
     "start_time": "2023-01-14T23:45:25.884387",
     "status": "completed"
    },
    "tags": []
   },
   "source": [
    "# Step 2: Generate test predictions\n",
    "\n",
    "Great. You know how to evaluate what makes an accurate model. Now it's time to go through the modeling process and make predictions. In the line below, create a Random Forest model with the variable name `my_model`."
   ]
  },
  {
   "cell_type": "code",
   "execution_count": 8,
   "id": "45419843",
   "metadata": {
    "execution": {
     "iopub.execute_input": "2023-01-14T23:45:25.905277Z",
     "iopub.status.busy": "2023-01-14T23:45:25.904853Z",
     "iopub.status.idle": "2023-01-14T23:45:25.915580Z",
     "shell.execute_reply": "2023-01-14T23:45:25.914151Z"
    },
    "papermill": {
     "duration": 0.021475,
     "end_time": "2023-01-14T23:45:25.918327",
     "exception": false,
     "start_time": "2023-01-14T23:45:25.896852",
     "status": "completed"
    },
    "tags": []
   },
   "outputs": [
    {
     "data": {
      "application/javascript": [
       "parent.postMessage({\"jupyterEvent\": \"custom.exercise_interaction\", \"data\": {\"outcomeType\": 1, \"valueTowardsCompletion\": 0.5, \"interactionType\": 1, \"questionType\": 2, \"questionId\": \"2_Predictions\", \"learnToolsVersion\": \"0.3.4\", \"failureMessage\": \"\", \"exceptionClass\": \"\", \"trace\": \"\"}}, \"*\")"
      ],
      "text/plain": [
       "<IPython.core.display.Javascript object>"
      ]
     },
     "metadata": {},
     "output_type": "display_data"
    },
    {
     "data": {
      "text/markdown": [
       "<span style=\"color:#33cc33\">Correct</span>"
      ],
      "text/plain": [
       "Correct"
      ]
     },
     "metadata": {},
     "output_type": "display_data"
    }
   ],
   "source": [
    "# Define a model\n",
    "my_model = best_model \n",
    "\n",
    "# Check your answer\n",
    "step_2.check()"
   ]
  },
  {
   "cell_type": "code",
   "execution_count": 9,
   "id": "5e70ef88",
   "metadata": {
    "execution": {
     "iopub.execute_input": "2023-01-14T23:45:25.934417Z",
     "iopub.status.busy": "2023-01-14T23:45:25.933782Z",
     "iopub.status.idle": "2023-01-14T23:45:25.940034Z",
     "shell.execute_reply": "2023-01-14T23:45:25.938478Z"
    },
    "papermill": {
     "duration": 0.018439,
     "end_time": "2023-01-14T23:45:25.943230",
     "exception": false,
     "start_time": "2023-01-14T23:45:25.924791",
     "status": "completed"
    },
    "tags": []
   },
   "outputs": [],
   "source": [
    "# Lines below will give you a hint or solution code\n",
    "#step_2.hint()\n",
    "#step_2.solution()"
   ]
  },
  {
   "cell_type": "markdown",
   "id": "c99f60c7",
   "metadata": {
    "papermill": {
     "duration": 0.00601,
     "end_time": "2023-01-14T23:45:25.955741",
     "exception": false,
     "start_time": "2023-01-14T23:45:25.949731",
     "status": "completed"
    },
    "tags": []
   },
   "source": [
    "Run the next code cell without changes.  The code fits the model to the training and validation data, and then generates test predictions that are saved to a CSV file.  These test predictions can be submitted directly to the competition!"
   ]
  },
  {
   "cell_type": "code",
   "execution_count": 10,
   "id": "c33e095b",
   "metadata": {
    "execution": {
     "iopub.execute_input": "2023-01-14T23:45:25.970178Z",
     "iopub.status.busy": "2023-01-14T23:45:25.969733Z",
     "iopub.status.idle": "2023-01-14T23:45:30.103234Z",
     "shell.execute_reply": "2023-01-14T23:45:30.101884Z"
    },
    "papermill": {
     "duration": 4.143979,
     "end_time": "2023-01-14T23:45:30.106023",
     "exception": false,
     "start_time": "2023-01-14T23:45:25.962044",
     "status": "completed"
    },
    "tags": []
   },
   "outputs": [],
   "source": [
    "# Fit the model to the training data\n",
    "my_model.fit(X, y)\n",
    "\n",
    "# Generate test predictions\n",
    "preds_test = my_model.predict(X_test)\n",
    "\n",
    "# Save predictions in format used for competition scoring\n",
    "output = pd.DataFrame({'Id': X_test.index,\n",
    "                       'SalePrice': preds_test})\n",
    "output.to_csv('submission.csv', index=False)"
   ]
  },
  {
   "cell_type": "markdown",
   "id": "a942654d",
   "metadata": {
    "papermill": {
     "duration": 0.005819,
     "end_time": "2023-01-14T23:45:30.118290",
     "exception": false,
     "start_time": "2023-01-14T23:45:30.112471",
     "status": "completed"
    },
    "tags": []
   },
   "source": [
    "# Submit your results\n",
    "\n",
    "Once you have successfully completed Step 2, you're ready to submit your results to the leaderboard!  First, you'll need to join the competition if you haven't already.  So open a new window by clicking on [this link](https://www.kaggle.com/c/home-data-for-ml-course).  Then click on the **Join Competition** button.  _(If you see a \"Submit Predictions\" button instead of a \"Join Competition\" button, you have already joined the competition, and don't need to do so again.)_\n",
    "\n",
    "Next, follow the instructions below:\n",
    "1. Begin by clicking on the **Save Version** button in the top right corner of the window.  This will generate a pop-up window.  \n",
    "2. Ensure that the **Save and Run All** option is selected, and then click on the **Save** button.\n",
    "3. This generates a window in the bottom left corner of the notebook.  After it has finished running, click on the number to the right of the **Save Version** button.  This pulls up a list of versions on the right of the screen.  Click on the ellipsis **(...)** to the right of the most recent version, and select **Open in Viewer**.  This brings you into view mode of the same page. You will need to scroll down to get back to these instructions.\n",
    "4. Click on the **Output** tab on the right of the screen.  Then, click on the file you would like to submit, and click on the **Submit** button to submit your results to the leaderboard.\n",
    "\n",
    "You have now successfully submitted to the competition!\n",
    "\n",
    "If you want to keep working to improve your performance, select the **Edit** button in the top right of the screen. Then you can change your code and repeat the process. There's a lot of room to improve, and you will climb up the leaderboard as you work.\n"
   ]
  },
  {
   "cell_type": "markdown",
   "id": "3387e332",
   "metadata": {
    "papermill": {
     "duration": 0.005703,
     "end_time": "2023-01-14T23:45:30.130069",
     "exception": false,
     "start_time": "2023-01-14T23:45:30.124366",
     "status": "completed"
    },
    "tags": []
   },
   "source": [
    "# Keep going\n",
    "\n",
    "You've made your first model. But how can you quickly make it better?\n",
    "\n",
    "Learn how to improve your competition results by incorporating columns with **[missing values](https://www.kaggle.com/alexisbcook/missing-values)**."
   ]
  },
  {
   "cell_type": "markdown",
   "id": "64e8c5db",
   "metadata": {
    "papermill": {
     "duration": 0.005723,
     "end_time": "2023-01-14T23:45:30.141878",
     "exception": false,
     "start_time": "2023-01-14T23:45:30.136155",
     "status": "completed"
    },
    "tags": []
   },
   "source": [
    "---\n",
    "\n",
    "\n",
    "\n",
    "\n",
    "*Have questions or comments? Visit the [course discussion forum](https://www.kaggle.com/learn/intermediate-machine-learning/discussion) to chat with other learners.*"
   ]
  }
 ],
 "metadata": {
  "kernelspec": {
   "display_name": "Python 3",
   "language": "python",
   "name": "python3"
  },
  "language_info": {
   "codemirror_mode": {
    "name": "ipython",
    "version": 3
   },
   "file_extension": ".py",
   "mimetype": "text/x-python",
   "name": "python",
   "nbconvert_exporter": "python",
   "pygments_lexer": "ipython3",
   "version": "3.7.12"
  },
  "papermill": {
   "default_parameters": {},
   "duration": 21.17153,
   "end_time": "2023-01-14T23:45:30.971704",
   "environment_variables": {},
   "exception": null,
   "input_path": "__notebook__.ipynb",
   "output_path": "__notebook__.ipynb",
   "parameters": {},
   "start_time": "2023-01-14T23:45:09.800174",
   "version": "2.3.4"
  }
 },
 "nbformat": 4,
 "nbformat_minor": 5
}
