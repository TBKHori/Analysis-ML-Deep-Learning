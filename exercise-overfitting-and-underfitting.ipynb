{
 "cells": [
  {
   "cell_type": "markdown",
   "id": "159dd3c7",
   "metadata": {
    "papermill": {
     "duration": 0.006297,
     "end_time": "2023-06-05T23:00:00.483378",
     "exception": false,
     "start_time": "2023-06-05T23:00:00.477081",
     "status": "completed"
    },
    "tags": []
   },
   "source": [
    "**This notebook is an exercise in the [Intro to Deep Learning](https://www.kaggle.com/learn/intro-to-deep-learning) course.  You can reference the tutorial at [this link](https://www.kaggle.com/ryanholbrook/overfitting-and-underfitting).**\n",
    "\n",
    "---\n"
   ]
  },
  {
   "cell_type": "markdown",
   "id": "91cc68b3",
   "metadata": {
    "papermill": {
     "duration": 0.005407,
     "end_time": "2023-06-05T23:00:00.494601",
     "exception": false,
     "start_time": "2023-06-05T23:00:00.489194",
     "status": "completed"
    },
    "tags": []
   },
   "source": [
    "# Introduction #\n",
    "\n",
    "In this exercise, you’ll learn how to improve training outcomes by including an early stopping callback to prevent overfitting.\n",
    "\n",
    "When you're ready, run this next cell to set everything up!"
   ]
  },
  {
   "cell_type": "code",
   "execution_count": 1,
   "id": "7bdb1173",
   "metadata": {
    "execution": {
     "iopub.execute_input": "2023-06-05T23:00:00.508254Z",
     "iopub.status.busy": "2023-06-05T23:00:00.507178Z",
     "iopub.status.idle": "2023-06-05T23:00:00.554022Z",
     "shell.execute_reply": "2023-06-05T23:00:00.553141Z"
    },
    "papermill": {
     "duration": 0.056516,
     "end_time": "2023-06-05T23:00:00.556760",
     "exception": false,
     "start_time": "2023-06-05T23:00:00.500244",
     "status": "completed"
    },
    "tags": []
   },
   "outputs": [
    {
     "name": "stderr",
     "output_type": "stream",
     "text": [
      "/tmp/ipykernel_23/1500229236.py:3: MatplotlibDeprecationWarning: The seaborn styles shipped by Matplotlib are deprecated since 3.6, as they no longer correspond to the styles shipped by seaborn. However, they will remain available as 'seaborn-v0_8-<style>'. Alternatively, directly use the seaborn API instead.\n",
      "  plt.style.use('seaborn-whitegrid')\n"
     ]
    }
   ],
   "source": [
    "# Setup plotting\n",
    "import matplotlib.pyplot as plt\n",
    "plt.style.use('seaborn-whitegrid')\n",
    "# Set Matplotlib defaults\n",
    "plt.rc('figure', autolayout=True)\n",
    "plt.rc('axes', labelweight='bold', labelsize='large',\n",
    "       titleweight='bold', titlesize=18, titlepad=10)\n",
    "plt.rc('animation', html='html5')\n",
    "\n",
    "# Setup feedback system\n",
    "from learntools.core import binder\n",
    "binder.bind(globals())\n",
    "from learntools.deep_learning_intro.ex4 import *"
   ]
  },
  {
   "cell_type": "markdown",
   "id": "efa28507",
   "metadata": {
    "papermill": {
     "duration": 0.005607,
     "end_time": "2023-06-05T23:00:00.568209",
     "exception": false,
     "start_time": "2023-06-05T23:00:00.562602",
     "status": "completed"
    },
    "tags": []
   },
   "source": [
    "First load the *Spotify* dataset. Your task will be to predict the popularity of a song based on various audio features, like `'tempo'`, `'danceability'`, and `'mode'`."
   ]
  },
  {
   "cell_type": "code",
   "execution_count": 2,
   "id": "ea9decac",
   "metadata": {
    "execution": {
     "iopub.execute_input": "2023-06-05T23:00:00.580836Z",
     "iopub.status.busy": "2023-06-05T23:00:00.580522Z",
     "iopub.status.idle": "2023-06-05T23:00:10.228603Z",
     "shell.execute_reply": "2023-06-05T23:00:10.227656Z"
    },
    "papermill": {
     "duration": 9.657123,
     "end_time": "2023-06-05T23:00:10.231077",
     "exception": false,
     "start_time": "2023-06-05T23:00:00.573954",
     "status": "completed"
    },
    "tags": []
   },
   "outputs": [
    {
     "name": "stderr",
     "output_type": "stream",
     "text": [
      "/opt/conda/lib/python3.10/site-packages/tensorflow_io/python/ops/__init__.py:98: UserWarning: unable to load libtensorflow_io_plugins.so: unable to open file: libtensorflow_io_plugins.so, from paths: ['/opt/conda/lib/python3.10/site-packages/tensorflow_io/python/ops/libtensorflow_io_plugins.so']\n",
      "caused by: ['/opt/conda/lib/python3.10/site-packages/tensorflow_io/python/ops/libtensorflow_io_plugins.so: undefined symbol: _ZN3tsl6StatusC1EN10tensorflow5error4CodeESt17basic_string_viewIcSt11char_traitsIcEENS_14SourceLocationE']\n",
      "  warnings.warn(f\"unable to load libtensorflow_io_plugins.so: {e}\")\n",
      "/opt/conda/lib/python3.10/site-packages/tensorflow_io/python/ops/__init__.py:104: UserWarning: file system plugins are not loaded: unable to open file: libtensorflow_io.so, from paths: ['/opt/conda/lib/python3.10/site-packages/tensorflow_io/python/ops/libtensorflow_io.so']\n",
      "caused by: ['/opt/conda/lib/python3.10/site-packages/tensorflow_io/python/ops/libtensorflow_io.so: undefined symbol: _ZTVN10tensorflow13GcsFileSystemE']\n",
      "  warnings.warn(f\"file system plugins are not loaded: {e}\")\n"
     ]
    },
    {
     "name": "stdout",
     "output_type": "stream",
     "text": [
      "Input shape: [18]\n"
     ]
    }
   ],
   "source": [
    "import pandas as pd\n",
    "from sklearn.preprocessing import StandardScaler, OneHotEncoder\n",
    "from sklearn.compose import make_column_transformer\n",
    "from sklearn.model_selection import GroupShuffleSplit\n",
    "\n",
    "from tensorflow import keras\n",
    "from tensorflow.keras import layers\n",
    "from tensorflow.keras import callbacks\n",
    "\n",
    "spotify = pd.read_csv('../input/dl-course-data/spotify.csv')\n",
    "\n",
    "X = spotify.copy().dropna()\n",
    "y = X.pop('track_popularity')\n",
    "artists = X['track_artist']\n",
    "\n",
    "features_num = ['danceability', 'energy', 'key', 'loudness', 'mode',\n",
    "                'speechiness', 'acousticness', 'instrumentalness',\n",
    "                'liveness', 'valence', 'tempo', 'duration_ms']\n",
    "features_cat = ['playlist_genre']\n",
    "\n",
    "preprocessor = make_column_transformer(\n",
    "    (StandardScaler(), features_num),\n",
    "    (OneHotEncoder(), features_cat),\n",
    ")\n",
    "\n",
    "# We'll do a \"grouped\" split to keep all of an artist's songs in one\n",
    "# split or the other. This is to help prevent signal leakage.\n",
    "def group_split(X, y, group, train_size=0.75):\n",
    "    splitter = GroupShuffleSplit(train_size=train_size)\n",
    "    train, test = next(splitter.split(X, y, groups=group))\n",
    "    return (X.iloc[train], X.iloc[test], y.iloc[train], y.iloc[test])\n",
    "\n",
    "X_train, X_valid, y_train, y_valid = group_split(X, y, artists)\n",
    "\n",
    "X_train = preprocessor.fit_transform(X_train)\n",
    "X_valid = preprocessor.transform(X_valid)\n",
    "y_train = y_train / 100 # popularity is on a scale 0-100, so this rescales to 0-1.\n",
    "y_valid = y_valid / 100\n",
    "\n",
    "input_shape = [X_train.shape[1]]\n",
    "print(\"Input shape: {}\".format(input_shape))"
   ]
  },
  {
   "cell_type": "markdown",
   "id": "14703825",
   "metadata": {
    "papermill": {
     "duration": 0.005696,
     "end_time": "2023-06-05T23:00:10.243210",
     "exception": false,
     "start_time": "2023-06-05T23:00:10.237514",
     "status": "completed"
    },
    "tags": []
   },
   "source": [
    "Let's start with the simplest network, a linear model. This model has low capacity.\n",
    "\n",
    "Run this next cell without any changes to train a linear model on the *Spotify* dataset."
   ]
  },
  {
   "cell_type": "code",
   "execution_count": 3,
   "id": "e184e799",
   "metadata": {
    "execution": {
     "iopub.execute_input": "2023-06-05T23:00:10.256973Z",
     "iopub.status.busy": "2023-06-05T23:00:10.256069Z",
     "iopub.status.idle": "2023-06-05T23:00:34.592474Z",
     "shell.execute_reply": "2023-06-05T23:00:34.591532Z"
    },
    "lines_to_next_cell": 0,
    "papermill": {
     "duration": 24.345693,
     "end_time": "2023-06-05T23:00:34.594711",
     "exception": false,
     "start_time": "2023-06-05T23:00:10.249018",
     "status": "completed"
    },
    "tags": []
   },
   "outputs": [
    {
     "name": "stdout",
     "output_type": "stream",
     "text": [
      "Minimum Validation Loss: 0.2023\n"
     ]
    },
    {
     "data": {
      "image/png": "[encoded data removed]",
      "text/plain": [
       "<Figure size 640x480 with 1 Axes>"
      ]
     },
     "metadata": {},
     "output_type": "display_data"
    }
   ],
   "source": [
    "model = keras.Sequential([\n",
    "    layers.Dense(1, input_shape=input_shape),\n",
    "])\n",
    "model.compile(\n",
    "    optimizer='adam',\n",
    "    loss='mae',\n",
    ")\n",
    "history = model.fit(\n",
    "    X_train, y_train,\n",
    "    validation_data=(X_valid, y_valid),\n",
    "    batch_size=512,\n",
    "    epochs=50,\n",
    "    verbose=0, # suppress output since we'll plot the curves\n",
    ")\n",
    "history_df = pd.DataFrame(history.history)\n",
    "history_df.loc[0:, ['loss', 'val_loss']].plot()\n",
    "print(\"Minimum Validation Loss: {:0.4f}\".format(history_df['val_loss'].min()));"
   ]
  },
  {
   "cell_type": "markdown",
   "id": "0748957a",
   "metadata": {
    "papermill": {
     "duration": 0.006359,
     "end_time": "2023-06-05T23:00:34.607943",
     "exception": false,
     "start_time": "2023-06-05T23:00:34.601584",
     "status": "completed"
    },
    "tags": []
   },
   "source": [
    "It's not uncommon for the curves to follow a \"hockey stick\" pattern like you see here. This makes the final part of training hard to see, so let's start at epoch 10 instead:"
   ]
  },
  {
   "cell_type": "code",
   "execution_count": 4,
   "id": "e49e36a3",
   "metadata": {
    "execution": {
     "iopub.execute_input": "2023-06-05T23:00:34.622409Z",
     "iopub.status.busy": "2023-06-05T23:00:34.622048Z",
     "iopub.status.idle": "2023-06-05T23:00:35.089785Z",
     "shell.execute_reply": "2023-06-05T23:00:35.088871Z"
    },
    "papermill": {
     "duration": 0.477486,
     "end_time": "2023-06-05T23:00:35.091941",
     "exception": false,
     "start_time": "2023-06-05T23:00:34.614455",
     "status": "completed"
    },
    "tags": []
   },
   "outputs": [
    {
     "name": "stdout",
     "output_type": "stream",
     "text": [
      "Minimum Validation Loss: 0.2023\n"
     ]
    },
    {
     "data": {
      "image/png": "[encoded data removed]",
      "text/plain": [
       "<Figure size 640x480 with 1 Axes>"
      ]
     },
     "metadata": {},
     "output_type": "display_data"
    }
   ],
   "source": [
    "# Start the plot at epoch 10\n",
    "history_df.loc[10:, ['loss', 'val_loss']].plot()\n",
    "print(\"Minimum Validation Loss: {:0.4f}\".format(history_df['val_loss'].min()));\n"
   ]
  },
  {
   "cell_type": "markdown",
   "id": "bd531333",
   "metadata": {
    "papermill": {
     "duration": 0.006699,
     "end_time": "2023-06-05T23:00:35.106001",
     "exception": false,
     "start_time": "2023-06-05T23:00:35.099302",
     "status": "completed"
    },
    "tags": []
   },
   "source": [
    "# 1) Evaluate Baseline\n",
    "\n",
    "What do you think? Would you say this model is underfitting, overfitting, just right?"
   ]
  },
  {
   "cell_type": "code",
   "execution_count": 5,
   "id": "20fc5ed3",
   "metadata": {
    "execution": {
     "iopub.execute_input": "2023-06-05T23:00:35.122916Z",
     "iopub.status.busy": "2023-06-05T23:00:35.121260Z",
     "iopub.status.idle": "2023-06-05T23:00:35.130630Z",
     "shell.execute_reply": "2023-06-05T23:00:35.129682Z"
    },
    "papermill": {
     "duration": 0.019849,
     "end_time": "2023-06-05T23:00:35.132649",
     "exception": false,
     "start_time": "2023-06-05T23:00:35.112800",
     "status": "completed"
    },
    "tags": []
   },
   "outputs": [
    {
     "data": {
      "application/javascript": [
       "parent.postMessage({\"jupyterEvent\": \"custom.exercise_interaction\", \"data\": {\"outcomeType\": 1, \"valueTowardsCompletion\": 0.25, \"interactionType\": 1, \"questionType\": 4, \"questionId\": \"1_Q1\", \"learnToolsVersion\": \"0.3.4\", \"failureMessage\": \"\", \"exceptionClass\": \"\", \"trace\": \"\"}}, \"*\")"
      ],
      "text/plain": [
       "<IPython.core.display.Javascript object>"
      ]
     },
     "metadata": {},
     "output_type": "display_data"
    },
    {
     "data": {
      "text/markdown": [
       "<span style=\"color:#33cc33\">Correct:</span> \n",
       "\n",
       "The gap between these curves is quite small and the validation loss never increases, so it's more likely that the network is underfitting than overfitting. It would be worth experimenting with more capacity to see if that's the case."
      ],
      "text/plain": [
       "Correct: \n",
       "\n",
       "The gap between these curves is quite small and the validation loss never increases, so it's more likely that the network is underfitting than overfitting. It would be worth experimenting with more capacity to see if that's the case."
      ]
     },
     "metadata": {},
     "output_type": "display_data"
    }
   ],
   "source": [
    "# View the solution (Run this cell to receive credit!)\n",
    "q_1.check()"
   ]
  },
  {
   "cell_type": "markdown",
   "id": "74d72de5",
   "metadata": {
    "papermill": {
     "duration": 0.006927,
     "end_time": "2023-06-05T23:00:35.146948",
     "exception": false,
     "start_time": "2023-06-05T23:00:35.140021",
     "status": "completed"
    },
    "tags": []
   },
   "source": [
    "Now let's add some capacity to our network. We'll add three hidden layers with 128 units each. Run the next cell to train the network and see the learning curves."
   ]
  },
  {
   "cell_type": "code",
   "execution_count": 6,
   "id": "68e1cafd",
   "metadata": {
    "execution": {
     "iopub.execute_input": "2023-06-05T23:00:35.162800Z",
     "iopub.status.busy": "2023-06-05T23:00:35.162465Z",
     "iopub.status.idle": "2023-06-05T23:00:47.913906Z",
     "shell.execute_reply": "2023-06-05T23:00:47.912956Z"
    },
    "papermill": {
     "duration": 12.761836,
     "end_time": "2023-06-05T23:00:47.915951",
     "exception": false,
     "start_time": "2023-06-05T23:00:35.154115",
     "status": "completed"
    },
    "tags": []
   },
   "outputs": [
    {
     "name": "stdout",
     "output_type": "stream",
     "text": [
      "Epoch 1/50\n",
      "48/48 [==============================] - 2s 7ms/step - loss: 0.2315 - val_loss: 0.2156\n",
      "Epoch 2/50\n",
      "48/48 [==============================] - 0s 5ms/step - loss: 0.1989 - val_loss: 0.2069\n",
      "Epoch 3/50\n",
      "48/48 [==============================] - 0s 5ms/step - loss: 0.1939 - val_loss: 0.2052\n",
      "Epoch 4/50\n",
      "48/48 [==============================] - 0s 4ms/step - loss: 0.1908 - val_loss: 0.2062\n",
      "Epoch 5/50\n",
      "48/48 [==============================] - 0s 5ms/step - loss: 0.1880 - val_loss: 0.2041\n",
      "Epoch 6/50\n",
      "48/48 [==============================] - 0s 5ms/step - loss: 0.1861 - val_loss: 0.2037\n",
      "Epoch 7/50\n",
      "48/48 [==============================] - 0s 5ms/step - loss: 0.1849 - val_loss: 0.2047\n",
      "Epoch 8/50\n",
      "48/48 [==============================] - 0s 7ms/step - loss: 0.1842 - val_loss: 0.2030\n",
      "Epoch 9/50\n",
      "48/48 [==============================] - 0s 6ms/step - loss: 0.1827 - val_loss: 0.2035\n",
      "Epoch 10/50\n",
      "48/48 [==============================] - 0s 6ms/step - loss: 0.1823 - val_loss: 0.2030\n",
      "Epoch 11/50\n",
      "48/48 [==============================] - 0s 6ms/step - loss: 0.1808 - val_loss: 0.2028\n",
      "Epoch 12/50\n",
      "48/48 [==============================] - 0s 5ms/step - loss: 0.1807 - val_loss: 0.2038\n",
      "Epoch 13/50\n",
      "48/48 [==============================] - 0s 4ms/step - loss: 0.1796 - val_loss: 0.2037\n",
      "Epoch 14/50\n",
      "48/48 [==============================] - 0s 5ms/step - loss: 0.1788 - val_loss: 0.2046\n",
      "Epoch 15/50\n",
      "48/48 [==============================] - 0s 4ms/step - loss: 0.1783 - val_loss: 0.2045\n",
      "Epoch 16/50\n",
      "48/48 [==============================] - 0s 4ms/step - loss: 0.1771 - val_loss: 0.2047\n",
      "Epoch 17/50\n",
      "48/48 [==============================] - 0s 4ms/step - loss: 0.1765 - val_loss: 0.2039\n",
      "Epoch 18/50\n",
      "48/48 [==============================] - 0s 5ms/step - loss: 0.1756 - val_loss: 0.2034\n",
      "Epoch 19/50\n",
      "48/48 [==============================] - 0s 4ms/step - loss: 0.1758 - val_loss: 0.2033\n",
      "Epoch 20/50\n",
      "48/48 [==============================] - 0s 4ms/step - loss: 0.1752 - val_loss: 0.2046\n",
      "Epoch 21/50\n",
      "48/48 [==============================] - 0s 5ms/step - loss: 0.1739 - val_loss: 0.2055\n",
      "Epoch 22/50\n",
      "48/48 [==============================] - 0s 4ms/step - loss: 0.1737 - val_loss: 0.2052\n",
      "Epoch 23/50\n",
      "48/48 [==============================] - 0s 4ms/step - loss: 0.1738 - val_loss: 0.2042\n",
      "Epoch 24/50\n",
      "48/48 [==============================] - 0s 4ms/step - loss: 0.1724 - val_loss: 0.2043\n",
      "Epoch 25/50\n",
      "48/48 [==============================] - 0s 4ms/step - loss: 0.1730 - val_loss: 0.2076\n",
      "Epoch 26/50\n",
      "48/48 [==============================] - 0s 4ms/step - loss: 0.1720 - val_loss: 0.2038\n",
      "Epoch 27/50\n",
      "48/48 [==============================] - 0s 4ms/step - loss: 0.1710 - val_loss: 0.2067\n",
      "Epoch 28/50\n",
      "48/48 [==============================] - 0s 6ms/step - loss: 0.1714 - val_loss: 0.2051\n",
      "Epoch 29/50\n",
      "48/48 [==============================] - 0s 5ms/step - loss: 0.1711 - val_loss: 0.2040\n",
      "Epoch 30/50\n",
      "48/48 [==============================] - 0s 4ms/step - loss: 0.1698 - val_loss: 0.2067\n",
      "Epoch 31/50\n",
      "48/48 [==============================] - 0s 5ms/step - loss: 0.1702 - val_loss: 0.2065\n",
      "Epoch 32/50\n",
      "48/48 [==============================] - 0s 4ms/step - loss: 0.1708 - val_loss: 0.2057\n",
      "Epoch 33/50\n",
      "48/48 [==============================] - 0s 4ms/step - loss: 0.1686 - val_loss: 0.2072\n",
      "Epoch 34/50\n",
      "48/48 [==============================] - 0s 4ms/step - loss: 0.1683 - val_loss: 0.2077\n",
      "Epoch 35/50\n",
      "48/48 [==============================] - 0s 4ms/step - loss: 0.1677 - val_loss: 0.2067\n",
      "Epoch 36/50\n",
      "48/48 [==============================] - 0s 5ms/step - loss: 0.1674 - val_loss: 0.2063\n",
      "Epoch 37/50\n",
      "48/48 [==============================] - 0s 4ms/step - loss: 0.1671 - val_loss: 0.2095\n",
      "Epoch 38/50\n",
      "48/48 [==============================] - 0s 4ms/step - loss: 0.1665 - val_loss: 0.2067\n",
      "Epoch 39/50\n",
      "48/48 [==============================] - 0s 5ms/step - loss: 0.1665 - val_loss: 0.2069\n",
      "Epoch 40/50\n",
      "48/48 [==============================] - 0s 4ms/step - loss: 0.1659 - val_loss: 0.2067\n",
      "Epoch 41/50\n",
      "48/48 [==============================] - 0s 4ms/step - loss: 0.1661 - val_loss: 0.2079\n",
      "Epoch 42/50\n",
      "48/48 [==============================] - 0s 4ms/step - loss: 0.1651 - val_loss: 0.2076\n",
      "Epoch 43/50\n",
      "48/48 [==============================] - 0s 4ms/step - loss: 0.1641 - val_loss: 0.2081\n",
      "Epoch 44/50\n",
      "48/48 [==============================] - 0s 4ms/step - loss: 0.1637 - val_loss: 0.2081\n",
      "Epoch 45/50\n",
      "48/48 [==============================] - 0s 4ms/step - loss: 0.1643 - val_loss: 0.2093\n",
      "Epoch 46/50\n",
      "48/48 [==============================] - 0s 4ms/step - loss: 0.1632 - val_loss: 0.2083\n",
      "Epoch 47/50\n",
      "48/48 [==============================] - 0s 5ms/step - loss: 0.1626 - val_loss: 0.2089\n",
      "Epoch 48/50\n",
      "48/48 [==============================] - 0s 4ms/step - loss: 0.1624 - val_loss: 0.2091\n",
      "Epoch 49/50\n",
      "48/48 [==============================] - 0s 4ms/step - loss: 0.1625 - val_loss: 0.2089\n",
      "Epoch 50/50\n",
      "48/48 [==============================] - 0s 4ms/step - loss: 0.1637 - val_loss: 0.2086\n",
      "Minimum Validation Loss: 0.2028\n"
     ]
    },
    {
     "data": {
      "image/png": "[encoded data removed]",
      "text/plain": [
       "<Figure size 640x480 with 1 Axes>"
      ]
     },
     "metadata": {},
     "output_type": "display_data"
    }
   ],
   "source": [
    "model = keras.Sequential([\n",
    "    layers.Dense(128, activation='relu', input_shape=input_shape),\n",
    "    layers.Dense(64, activation='relu'),\n",
    "    layers.Dense(1)\n",
    "])\n",
    "model.compile(\n",
    "    optimizer='adam',\n",
    "    loss='mae',\n",
    ")\n",
    "history = model.fit(\n",
    "    X_train, y_train,\n",
    "    validation_data=(X_valid, y_valid),\n",
    "    batch_size=512,\n",
    "    epochs=50,\n",
    ")\n",
    "history_df = pd.DataFrame(history.history)\n",
    "history_df.loc[:, ['loss', 'val_loss']].plot()\n",
    "print(\"Minimum Validation Loss: {:0.4f}\".format(history_df['val_loss'].min()));"
   ]
  },
  {
   "cell_type": "markdown",
   "id": "891cf075",
   "metadata": {
    "papermill": {
     "duration": 0.026374,
     "end_time": "2023-06-05T23:00:47.969520",
     "exception": false,
     "start_time": "2023-06-05T23:00:47.943146",
     "status": "completed"
    },
    "tags": []
   },
   "source": [
    "# 2) Add Capacity\n",
    "\n",
    "What is your evaluation of these curves? Underfitting, overfitting, just right?"
   ]
  },
  {
   "cell_type": "code",
   "execution_count": 7,
   "id": "de69683a",
   "metadata": {
    "execution": {
     "iopub.execute_input": "2023-06-05T23:00:48.025065Z",
     "iopub.status.busy": "2023-06-05T23:00:48.024037Z",
     "iopub.status.idle": "2023-06-05T23:00:48.034429Z",
     "shell.execute_reply": "2023-06-05T23:00:48.033578Z"
    },
    "papermill": {
     "duration": 0.040158,
     "end_time": "2023-06-05T23:00:48.036432",
     "exception": false,
     "start_time": "2023-06-05T23:00:47.996274",
     "status": "completed"
    },
    "tags": []
   },
   "outputs": [
    {
     "data": {
      "application/javascript": [
       "parent.postMessage({\"jupyterEvent\": \"custom.exercise_interaction\", \"data\": {\"outcomeType\": 1, \"valueTowardsCompletion\": 0.25, \"interactionType\": 1, \"questionType\": 4, \"questionId\": \"2_Q2\", \"learnToolsVersion\": \"0.3.4\", \"failureMessage\": \"\", \"exceptionClass\": \"\", \"trace\": \"\"}}, \"*\")"
      ],
      "text/plain": [
       "<IPython.core.display.Javascript object>"
      ]
     },
     "metadata": {},
     "output_type": "display_data"
    },
    {
     "data": {
      "text/markdown": [
       "<span style=\"color:#33cc33\">Correct:</span> \n",
       "\n",
       "Now the validation loss begins to rise very early, while the training loss continues to decrease. This indicates that the network has begun to overfit. At this point, we would need to try something to prevent it, either by reducing the number of units or through a method like early stopping. (We'll see another in the next lesson!)"
      ],
      "text/plain": [
       "Correct: \n",
       "\n",
       "Now the validation loss begins to rise very early, while the training loss continues to decrease. This indicates that the network has begun to overfit. At this point, we would need to try something to prevent it, either by reducing the number of units or through a method like early stopping. (We'll see another in the next lesson!)"
      ]
     },
     "metadata": {},
     "output_type": "display_data"
    }
   ],
   "source": [
    "# View the solution (Run this cell to receive credit!)\n",
    "q_2.check()"
   ]
  },
  {
   "cell_type": "markdown",
   "id": "00a6192b",
   "metadata": {
    "papermill": {
     "duration": 0.026199,
     "end_time": "2023-06-05T23:00:48.089490",
     "exception": false,
     "start_time": "2023-06-05T23:00:48.063291",
     "status": "completed"
    },
    "tags": []
   },
   "source": [
    "# 3) Define Early Stopping Callback\n",
    "\n",
    "Now define an early stopping callback that waits 5 epochs (`patience'`) for a change in validation loss of at least `0.001` (`min_delta`) and keeps the weights with the best loss (`restore_best_weights`)."
   ]
  },
  {
   "cell_type": "code",
   "execution_count": 8,
   "id": "8c7b49c8",
   "metadata": {
    "execution": {
     "iopub.execute_input": "2023-06-05T23:00:48.145259Z",
     "iopub.status.busy": "2023-06-05T23:00:48.144283Z",
     "iopub.status.idle": "2023-06-05T23:00:48.153419Z",
     "shell.execute_reply": "2023-06-05T23:00:48.152434Z"
    },
    "lines_to_next_cell": 0,
    "papermill": {
     "duration": 0.039278,
     "end_time": "2023-06-05T23:00:48.155606",
     "exception": false,
     "start_time": "2023-06-05T23:00:48.116328",
     "status": "completed"
    },
    "tags": []
   },
   "outputs": [
    {
     "data": {
      "application/javascript": [
       "parent.postMessage({\"jupyterEvent\": \"custom.exercise_interaction\", \"data\": {\"outcomeType\": 1, \"valueTowardsCompletion\": 0.25, \"interactionType\": 1, \"questionType\": 2, \"questionId\": \"3_Q3\", \"learnToolsVersion\": \"0.3.4\", \"failureMessage\": \"\", \"exceptionClass\": \"\", \"trace\": \"\"}}, \"*\")"
      ],
      "text/plain": [
       "<IPython.core.display.Javascript object>"
      ]
     },
     "metadata": {},
     "output_type": "display_data"
    },
    {
     "data": {
      "text/markdown": [
       "<span style=\"color:#33cc33\">Correct</span>"
      ],
      "text/plain": [
       "Correct"
      ]
     },
     "metadata": {},
     "output_type": "display_data"
    }
   ],
   "source": [
    "from tensorflow.keras import callbacks\n",
    "\n",
    "early_stopping = callbacks.EarlyStopping(\n",
    "    patience=5,\n",
    "    min_delta=0.001,\n",
    "    restore_best_weights=True,\n",
    ")\n",
    "\n",
    "# Check your answer\n",
    "q_3.check()"
   ]
  },
  {
   "cell_type": "code",
   "execution_count": 9,
   "id": "bbbb8096",
   "metadata": {
    "execution": {
     "iopub.execute_input": "2023-06-05T23:00:48.211078Z",
     "iopub.status.busy": "2023-06-05T23:00:48.210732Z",
     "iopub.status.idle": "2023-06-05T23:00:48.214786Z",
     "shell.execute_reply": "2023-06-05T23:00:48.213840Z"
    },
    "papermill": {
     "duration": 0.034407,
     "end_time": "2023-06-05T23:00:48.216785",
     "exception": false,
     "start_time": "2023-06-05T23:00:48.182378",
     "status": "completed"
    },
    "tags": []
   },
   "outputs": [],
   "source": [
    "# Lines below will give you a hint or solution code\n",
    "#q_3.hint()\n",
    "#q_3.solution()"
   ]
  },
  {
   "cell_type": "markdown",
   "id": "065ebae6",
   "metadata": {
    "papermill": {
     "duration": 0.026826,
     "end_time": "2023-06-05T23:00:48.270264",
     "exception": false,
     "start_time": "2023-06-05T23:00:48.243438",
     "status": "completed"
    },
    "tags": []
   },
   "source": [
    "Now run this cell to train the model and get the learning curves. Notice the `callbacks` argument in `model.fit`."
   ]
  },
  {
   "cell_type": "code",
   "execution_count": 10,
   "id": "15440cd7",
   "metadata": {
    "execution": {
     "iopub.execute_input": "2023-06-05T23:00:48.326191Z",
     "iopub.status.busy": "2023-06-05T23:00:48.325848Z",
     "iopub.status.idle": "2023-06-05T23:00:54.461464Z",
     "shell.execute_reply": "2023-06-05T23:00:54.460539Z"
    },
    "papermill": {
     "duration": 6.165973,
     "end_time": "2023-06-05T23:00:54.463843",
     "exception": false,
     "start_time": "2023-06-05T23:00:48.297870",
     "status": "completed"
    },
    "tags": []
   },
   "outputs": [
    {
     "name": "stdout",
     "output_type": "stream",
     "text": [
      "Epoch 1/50\n",
      "48/48 [==============================] - 1s 6ms/step - loss: 0.2601 - val_loss: 0.2176\n",
      "Epoch 2/50\n",
      "48/48 [==============================] - 0s 4ms/step - loss: 0.2024 - val_loss: 0.2094\n",
      "Epoch 3/50\n",
      "48/48 [==============================] - 0s 5ms/step - loss: 0.1962 - val_loss: 0.2085\n",
      "Epoch 4/50\n",
      "48/48 [==============================] - 0s 4ms/step - loss: 0.1928 - val_loss: 0.2052\n",
      "Epoch 5/50\n",
      "48/48 [==============================] - 0s 4ms/step - loss: 0.1906 - val_loss: 0.2041\n",
      "Epoch 6/50\n",
      "48/48 [==============================] - 0s 4ms/step - loss: 0.1885 - val_loss: 0.2038\n",
      "Epoch 7/50\n",
      "48/48 [==============================] - 0s 4ms/step - loss: 0.1867 - val_loss: 0.2028\n",
      "Epoch 8/50\n",
      "48/48 [==============================] - 0s 4ms/step - loss: 0.1862 - val_loss: 0.2033\n",
      "Epoch 9/50\n",
      "48/48 [==============================] - 0s 4ms/step - loss: 0.1849 - val_loss: 0.2038\n",
      "Epoch 10/50\n",
      "48/48 [==============================] - 0s 4ms/step - loss: 0.1838 - val_loss: 0.2033\n",
      "Epoch 11/50\n",
      "48/48 [==============================] - 0s 5ms/step - loss: 0.1835 - val_loss: 0.2021\n",
      "Epoch 12/50\n",
      "48/48 [==============================] - 0s 4ms/step - loss: 0.1821 - val_loss: 0.2032\n",
      "Minimum Validation Loss: 0.2021\n"
     ]
    },
    {
     "data": {
      "image/png": "[encoded data removed]",
      "text/plain": [
       "<Figure size 640x480 with 1 Axes>"
      ]
     },
     "metadata": {},
     "output_type": "display_data"
    }
   ],
   "source": [
    "model = keras.Sequential([\n",
    "    layers.Dense(128, activation='relu', input_shape=input_shape),\n",
    "    layers.Dense(64, activation='relu'),    \n",
    "    layers.Dense(1)\n",
    "])\n",
    "model.compile(\n",
    "    optimizer='adam',\n",
    "    loss='mae',\n",
    ")\n",
    "history = model.fit(\n",
    "    X_train, y_train,\n",
    "    validation_data=(X_valid, y_valid),\n",
    "    batch_size=512,\n",
    "    epochs=50,\n",
    "    callbacks=[early_stopping]\n",
    ")\n",
    "history_df = pd.DataFrame(history.history)\n",
    "history_df.loc[:, ['loss', 'val_loss']].plot()\n",
    "print(\"Minimum Validation Loss: {:0.4f}\".format(history_df['val_loss'].min()));"
   ]
  },
  {
   "cell_type": "markdown",
   "id": "1defe6ac",
   "metadata": {
    "papermill": {
     "duration": 0.031332,
     "end_time": "2023-06-05T23:00:54.527194",
     "exception": false,
     "start_time": "2023-06-05T23:00:54.495862",
     "status": "completed"
    },
    "tags": []
   },
   "source": [
    "# 4) Train and Interpret\n",
    "\n",
    "Was this an improvement compared to training without early stopping?"
   ]
  },
  {
   "cell_type": "code",
   "execution_count": 11,
   "id": "51697ade",
   "metadata": {
    "execution": {
     "iopub.execute_input": "2023-06-05T23:00:54.592067Z",
     "iopub.status.busy": "2023-06-05T23:00:54.591711Z",
     "iopub.status.idle": "2023-06-05T23:00:54.601376Z",
     "shell.execute_reply": "2023-06-05T23:00:54.600336Z"
    },
    "papermill": {
     "duration": 0.045217,
     "end_time": "2023-06-05T23:00:54.604309",
     "exception": false,
     "start_time": "2023-06-05T23:00:54.559092",
     "status": "completed"
    },
    "tags": []
   },
   "outputs": [
    {
     "data": {
      "application/javascript": [
       "parent.postMessage({\"jupyterEvent\": \"custom.exercise_interaction\", \"data\": {\"outcomeType\": 1, \"valueTowardsCompletion\": 0.25, \"interactionType\": 1, \"questionType\": 4, \"questionId\": \"4_Q4\", \"learnToolsVersion\": \"0.3.4\", \"failureMessage\": \"\", \"exceptionClass\": \"\", \"trace\": \"\"}}, \"*\")"
      ],
      "text/plain": [
       "<IPython.core.display.Javascript object>"
      ]
     },
     "metadata": {},
     "output_type": "display_data"
    },
    {
     "data": {
      "text/markdown": [
       "<span style=\"color:#33cc33\">Correct:</span> \n",
       "\n",
       "The early stopping callback did stop the training once the network began overfitting. Moreover, by including `restore_best_weights` we still get to keep the model where validation loss was lowest."
      ],
      "text/plain": [
       "Correct: \n",
       "\n",
       "The early stopping callback did stop the training once the network began overfitting. Moreover, by including `restore_best_weights` we still get to keep the model where validation loss was lowest."
      ]
     },
     "metadata": {},
     "output_type": "display_data"
    }
   ],
   "source": [
    "# View the solution (Run this cell to receive credit!)\n",
    "q_4.check()"
   ]
  },
  {
   "cell_type": "markdown",
   "id": "a88ecd6a",
   "metadata": {
    "papermill": {
     "duration": 0.031583,
     "end_time": "2023-06-05T23:00:54.668548",
     "exception": false,
     "start_time": "2023-06-05T23:00:54.636965",
     "status": "completed"
    },
    "tags": []
   },
   "source": [
    "If you like, try experimenting with `patience` and `min_delta` to see what difference it might make.\n",
    "\n",
    "# Keep Going #\n",
    "\n",
    "Move on to [**learn about a couple of special layers**](https://www.kaggle.com/ryanholbrook/dropout-and-batch-normalization): batch normalization and dropout."
   ]
  },
  {
   "cell_type": "markdown",
   "id": "9d2f535d",
   "metadata": {
    "papermill": {
     "duration": 0.032026,
     "end_time": "2023-06-05T23:00:54.732786",
     "exception": false,
     "start_time": "2023-06-05T23:00:54.700760",
     "status": "completed"
    },
    "tags": []
   },
   "source": [
    "---\n",
    "\n",
    "\n",
    "\n",
    "\n",
    "*Have questions or comments? Visit the [course discussion forum](https://www.kaggle.com/learn/intro-to-deep-learning/discussion) to chat with other learners.*"
   ]
  }
 ],
 "metadata": {
  "kernelspec": {
   "display_name": "Python 3",
   "language": "python",
   "name": "python3"
  },
  "language_info": {
   "codemirror_mode": {
    "name": "ipython",
    "version": 3
   },
   "file_extension": ".py",
   "mimetype": "text/x-python",
   "name": "python",
   "nbconvert_exporter": "python",
   "pygments_lexer": "ipython3",
   "version": "3.10.10"
  },
  "papermill": {
   "default_parameters": {},
   "duration": 68.803039,
   "end_time": "2023-06-05T23:00:58.628388",
   "environment_variables": {},
   "exception": null,
   "input_path": "__notebook__.ipynb",
   "output_path": "__notebook__.ipynb",
   "parameters": {},
   "start_time": "2023-06-05T22:59:49.825349",
   "version": "2.4.0"
  }
 },
 "nbformat": 4,
 "nbformat_minor": 5
}
