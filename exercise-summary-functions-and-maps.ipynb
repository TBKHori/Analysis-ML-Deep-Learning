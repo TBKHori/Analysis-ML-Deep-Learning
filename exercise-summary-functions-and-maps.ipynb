{
 "cells": [
  {
   "cell_type": "markdown",
   "id": "7b98b15c",
   "metadata": {
    "papermill": {
     "duration": 0.007882,
     "end_time": "2023-01-08T23:33:30.375663",
     "exception": false,
     "start_time": "2023-01-08T23:33:30.367781",
     "status": "completed"
    },
    "tags": []
   },
   "source": [
    "**This notebook is an exercise in the [Pandas](https://www.kaggle.com/learn/pandas) course.  You can reference the tutorial at [this link](https://www.kaggle.com/residentmario/summary-functions-and-maps).**\n",
    "\n",
    "---\n"
   ]
  },
  {
   "cell_type": "markdown",
   "id": "2ec78859",
   "metadata": {
    "papermill": {
     "duration": 0.005701,
     "end_time": "2023-01-08T23:33:30.387670",
     "exception": false,
     "start_time": "2023-01-08T23:33:30.381969",
     "status": "completed"
    },
    "tags": []
   },
   "source": [
    "# Introduction\n",
    "\n",
    "Now you are ready to get a deeper understanding of your data.\n",
    "\n",
    "Run the following cell to load your data and some utility functions (including code to check your answers)."
   ]
  },
  {
   "cell_type": "code",
   "execution_count": 1,
   "id": "984addbe",
   "metadata": {
    "execution": {
     "iopub.execute_input": "2023-01-08T23:33:30.401749Z",
     "iopub.status.busy": "2023-01-08T23:33:30.400992Z",
     "iopub.status.idle": "2023-01-08T23:33:37.463995Z",
     "shell.execute_reply": "2023-01-08T23:33:37.462699Z"
    },
    "papermill": {
     "duration": 7.073212,
     "end_time": "2023-01-08T23:33:37.466760",
     "exception": false,
     "start_time": "2023-01-08T23:33:30.393548",
     "status": "completed"
    },
    "tags": []
   },
   "outputs": [
    {
     "name": "stdout",
     "output_type": "stream",
     "text": [
      "Setup complete.\n"
     ]
    },
    {
     "data": {
      "text/html": [
       "<div>\n",
       "<style scoped>\n",
       "    .dataframe tbody tr th:only-of-type {\n",
       "        vertical-align: middle;\n",
       "    }\n",
       "\n",
       "    .dataframe tbody tr th {\n",
       "        vertical-align: top;\n",
       "    }\n",
       "\n",
       "    .dataframe thead th {\n",
       "        text-align: right;\n",
       "    }\n",
       "</style>\n",
       "<table border=\"1\" class=\"dataframe\">\n",
       "  <thead>\n",
       "    <tr style=\"text-align: right;\">\n",
       "      <th></th>\n",
       "      <th>country</th>\n",
       "      <th>description</th>\n",
       "      <th>designation</th>\n",
       "      <th>points</th>\n",
       "      <th>price</th>\n",
       "      <th>province</th>\n",
       "      <th>region_1</th>\n",
       "      <th>region_2</th>\n",
       "      <th>taster_name</th>\n",
       "      <th>taster_twitter_handle</th>\n",
       "      <th>title</th>\n",
       "      <th>variety</th>\n",
       "      <th>winery</th>\n",
       "    </tr>\n",
       "  </thead>\n",
       "  <tbody>\n",
       "    <tr>\n",
       "      <th>0</th>\n",
       "      <td>Italy</td>\n",
       "      <td>Aromas include tropical fruit, broom, brimston...</td>\n",
       "      <td>Vulkà Bianco</td>\n",
       "      <td>87</td>\n",
       "      <td>NaN</td>\n",
       "      <td>Sicily &amp; Sardinia</td>\n",
       "      <td>Etna</td>\n",
       "      <td>NaN</td>\n",
       "      <td>Kerin O’Keefe</td>\n",
       "      <td>@kerinokeefe</td>\n",
       "      <td>Nicosia 2013 Vulkà Bianco  (Etna)</td>\n",
       "      <td>White Blend</td>\n",
       "      <td>Nicosia</td>\n",
       "    </tr>\n",
       "    <tr>\n",
       "      <th>1</th>\n",
       "      <td>Portugal</td>\n",
       "      <td>This is ripe and fruity, a wine that is smooth...</td>\n",
       "      <td>Avidagos</td>\n",
       "      <td>87</td>\n",
       "      <td>15.0</td>\n",
       "      <td>Douro</td>\n",
       "      <td>NaN</td>\n",
       "      <td>NaN</td>\n",
       "      <td>Roger Voss</td>\n",
       "      <td>@vossroger</td>\n",
       "      <td>Quinta dos Avidagos 2011 Avidagos Red (Douro)</td>\n",
       "      <td>Portuguese Red</td>\n",
       "      <td>Quinta dos Avidagos</td>\n",
       "    </tr>\n",
       "    <tr>\n",
       "      <th>2</th>\n",
       "      <td>US</td>\n",
       "      <td>Tart and snappy, the flavors of lime flesh and...</td>\n",
       "      <td>NaN</td>\n",
       "      <td>87</td>\n",
       "      <td>14.0</td>\n",
       "      <td>Oregon</td>\n",
       "      <td>Willamette Valley</td>\n",
       "      <td>Willamette Valley</td>\n",
       "      <td>Paul Gregutt</td>\n",
       "      <td>@paulgwine</td>\n",
       "      <td>Rainstorm 2013 Pinot Gris (Willamette Valley)</td>\n",
       "      <td>Pinot Gris</td>\n",
       "      <td>Rainstorm</td>\n",
       "    </tr>\n",
       "    <tr>\n",
       "      <th>3</th>\n",
       "      <td>US</td>\n",
       "      <td>Pineapple rind, lemon pith and orange blossom ...</td>\n",
       "      <td>Reserve Late Harvest</td>\n",
       "      <td>87</td>\n",
       "      <td>13.0</td>\n",
       "      <td>Michigan</td>\n",
       "      <td>Lake Michigan Shore</td>\n",
       "      <td>NaN</td>\n",
       "      <td>Alexander Peartree</td>\n",
       "      <td>NaN</td>\n",
       "      <td>St. Julian 2013 Reserve Late Harvest Riesling ...</td>\n",
       "      <td>Riesling</td>\n",
       "      <td>St. Julian</td>\n",
       "    </tr>\n",
       "    <tr>\n",
       "      <th>4</th>\n",
       "      <td>US</td>\n",
       "      <td>Much like the regular bottling from 2012, this...</td>\n",
       "      <td>Vintner's Reserve Wild Child Block</td>\n",
       "      <td>87</td>\n",
       "      <td>65.0</td>\n",
       "      <td>Oregon</td>\n",
       "      <td>Willamette Valley</td>\n",
       "      <td>Willamette Valley</td>\n",
       "      <td>Paul Gregutt</td>\n",
       "      <td>@paulgwine</td>\n",
       "      <td>Sweet Cheeks 2012 Vintner's Reserve Wild Child...</td>\n",
       "      <td>Pinot Noir</td>\n",
       "      <td>Sweet Cheeks</td>\n",
       "    </tr>\n",
       "  </tbody>\n",
       "</table>\n",
       "</div>"
      ],
      "text/plain": [
       "    country                                        description  \\\n",
       "0     Italy  Aromas include tropical fruit, broom, brimston...   \n",
       "1  Portugal  This is ripe and fruity, a wine that is smooth...   \n",
       "2        US  Tart and snappy, the flavors of lime flesh and...   \n",
       "3        US  Pineapple rind, lemon pith and orange blossom ...   \n",
       "4        US  Much like the regular bottling from 2012, this...   \n",
       "\n",
       "                          designation  points  price           province  \\\n",
       "0                        Vulkà Bianco      87    NaN  Sicily & Sardinia   \n",
       "1                            Avidagos      87   15.0              Douro   \n",
       "2                                 NaN      87   14.0             Oregon   \n",
       "3                Reserve Late Harvest      87   13.0           Michigan   \n",
       "4  Vintner's Reserve Wild Child Block      87   65.0             Oregon   \n",
       "\n",
       "              region_1           region_2         taster_name  \\\n",
       "0                 Etna                NaN       Kerin O’Keefe   \n",
       "1                  NaN                NaN          Roger Voss   \n",
       "2    Willamette Valley  Willamette Valley        Paul Gregutt   \n",
       "3  Lake Michigan Shore                NaN  Alexander Peartree   \n",
       "4    Willamette Valley  Willamette Valley        Paul Gregutt   \n",
       "\n",
       "  taster_twitter_handle                                              title  \\\n",
       "0          @kerinokeefe                  Nicosia 2013 Vulkà Bianco  (Etna)   \n",
       "1            @vossroger      Quinta dos Avidagos 2011 Avidagos Red (Douro)   \n",
       "2           @paulgwine       Rainstorm 2013 Pinot Gris (Willamette Valley)   \n",
       "3                   NaN  St. Julian 2013 Reserve Late Harvest Riesling ...   \n",
       "4           @paulgwine   Sweet Cheeks 2012 Vintner's Reserve Wild Child...   \n",
       "\n",
       "          variety               winery  \n",
       "0     White Blend              Nicosia  \n",
       "1  Portuguese Red  Quinta dos Avidagos  \n",
       "2      Pinot Gris            Rainstorm  \n",
       "3        Riesling           St. Julian  \n",
       "4      Pinot Noir         Sweet Cheeks  "
      ]
     },
     "execution_count": 1,
     "metadata": {},
     "output_type": "execute_result"
    }
   ],
   "source": [
    "import pandas as pd\n",
    "pd.set_option(\"display.max_rows\", 5)\n",
    "reviews = pd.read_csv(\"../input/wine-reviews/winemag-data-130k-v2.csv\", index_col=0)\n",
    "\n",
    "from learntools.core import binder; binder.bind(globals())\n",
    "from learntools.pandas.summary_functions_and_maps import *\n",
    "print(\"Setup complete.\")\n",
    "\n",
    "reviews.head()"
   ]
  },
  {
   "cell_type": "markdown",
   "id": "edacc848",
   "metadata": {
    "papermill": {
     "duration": 0.006649,
     "end_time": "2023-01-08T23:33:37.480304",
     "exception": false,
     "start_time": "2023-01-08T23:33:37.473655",
     "status": "completed"
    },
    "tags": []
   },
   "source": [
    "# Exercises"
   ]
  },
  {
   "cell_type": "markdown",
   "id": "785227af",
   "metadata": {
    "papermill": {
     "duration": 0.006352,
     "end_time": "2023-01-08T23:33:37.493423",
     "exception": false,
     "start_time": "2023-01-08T23:33:37.487071",
     "status": "completed"
    },
    "tags": []
   },
   "source": [
    "## 1.\n",
    "\n",
    "What is the median of the `points` column in the `reviews` DataFrame?"
   ]
  },
  {
   "cell_type": "code",
   "execution_count": 2,
   "id": "8c4a02b1",
   "metadata": {
    "execution": {
     "iopub.execute_input": "2023-01-08T23:33:37.509010Z",
     "iopub.status.busy": "2023-01-08T23:33:37.508144Z",
     "iopub.status.idle": "2023-01-08T23:33:37.520904Z",
     "shell.execute_reply": "2023-01-08T23:33:37.519586Z"
    },
    "papermill": {
     "duration": 0.023884,
     "end_time": "2023-01-08T23:33:37.523919",
     "exception": false,
     "start_time": "2023-01-08T23:33:37.500035",
     "status": "completed"
    },
    "tags": []
   },
   "outputs": [
    {
     "data": {
      "application/javascript": [
       "parent.postMessage({\"jupyterEvent\": \"custom.exercise_interaction\", \"data\": {\"outcomeType\": 1, \"valueTowardsCompletion\": 0.14285714285714285, \"interactionType\": 1, \"questionType\": 1, \"questionId\": \"1_MedianPoints\", \"learnToolsVersion\": \"0.3.4\", \"failureMessage\": \"\", \"exceptionClass\": \"\", \"trace\": \"\"}}, \"*\")"
      ],
      "text/plain": [
       "<IPython.core.display.Javascript object>"
      ]
     },
     "metadata": {},
     "output_type": "display_data"
    },
    {
     "data": {
      "text/markdown": [
       "<span style=\"color:#33cc33\">Correct</span>"
      ],
      "text/plain": [
       "Correct"
      ]
     },
     "metadata": {},
     "output_type": "display_data"
    }
   ],
   "source": [
    "median_points = reviews.points.median()\n",
    "\n",
    "# Check your answer\n",
    "q1.check()"
   ]
  },
  {
   "cell_type": "code",
   "execution_count": 3,
   "id": "8bd863cf",
   "metadata": {
    "execution": {
     "iopub.execute_input": "2023-01-08T23:33:37.541052Z",
     "iopub.status.busy": "2023-01-08T23:33:37.540667Z",
     "iopub.status.idle": "2023-01-08T23:33:37.544822Z",
     "shell.execute_reply": "2023-01-08T23:33:37.543687Z"
    },
    "papermill": {
     "duration": 0.015906,
     "end_time": "2023-01-08T23:33:37.547397",
     "exception": false,
     "start_time": "2023-01-08T23:33:37.531491",
     "status": "completed"
    },
    "tags": []
   },
   "outputs": [],
   "source": [
    "#q1.hint()\n",
    "#q1.solution()"
   ]
  },
  {
   "cell_type": "markdown",
   "id": "de254948",
   "metadata": {
    "papermill": {
     "duration": 0.009021,
     "end_time": "2023-01-08T23:33:37.563980",
     "exception": false,
     "start_time": "2023-01-08T23:33:37.554959",
     "status": "completed"
    },
    "tags": []
   },
   "source": [
    "## 2. \n",
    "What countries are represented in the dataset? (Your answer should not include any duplicates.)"
   ]
  },
  {
   "cell_type": "code",
   "execution_count": 4,
   "id": "1ceb7c1d",
   "metadata": {
    "execution": {
     "iopub.execute_input": "2023-01-08T23:33:37.581404Z",
     "iopub.status.busy": "2023-01-08T23:33:37.581011Z",
     "iopub.status.idle": "2023-01-08T23:33:37.597527Z",
     "shell.execute_reply": "2023-01-08T23:33:37.596482Z"
    },
    "papermill": {
     "duration": 0.02816,
     "end_time": "2023-01-08T23:33:37.599956",
     "exception": false,
     "start_time": "2023-01-08T23:33:37.571796",
     "status": "completed"
    },
    "tags": []
   },
   "outputs": [
    {
     "data": {
      "application/javascript": [
       "parent.postMessage({\"jupyterEvent\": \"custom.exercise_interaction\", \"data\": {\"outcomeType\": 1, \"valueTowardsCompletion\": 0.14285714285714285, \"interactionType\": 1, \"questionType\": 2, \"questionId\": \"2_UniqueCountries\", \"learnToolsVersion\": \"0.3.4\", \"failureMessage\": \"\", \"exceptionClass\": \"\", \"trace\": \"\"}}, \"*\")"
      ],
      "text/plain": [
       "<IPython.core.display.Javascript object>"
      ]
     },
     "metadata": {},
     "output_type": "display_data"
    },
    {
     "data": {
      "text/markdown": [
       "<span style=\"color:#33cc33\">Correct</span>"
      ],
      "text/plain": [
       "Correct"
      ]
     },
     "metadata": {},
     "output_type": "display_data"
    }
   ],
   "source": [
    "countries = reviews.country.unique()\n",
    "\n",
    "# Check your answer\n",
    "q2.check()"
   ]
  },
  {
   "cell_type": "code",
   "execution_count": 5,
   "id": "fe0f6c20",
   "metadata": {
    "execution": {
     "iopub.execute_input": "2023-01-08T23:33:37.616739Z",
     "iopub.status.busy": "2023-01-08T23:33:37.616034Z",
     "iopub.status.idle": "2023-01-08T23:33:37.620837Z",
     "shell.execute_reply": "2023-01-08T23:33:37.619632Z"
    },
    "papermill": {
     "duration": 0.016257,
     "end_time": "2023-01-08T23:33:37.623505",
     "exception": false,
     "start_time": "2023-01-08T23:33:37.607248",
     "status": "completed"
    },
    "tags": []
   },
   "outputs": [],
   "source": [
    "#q2.hint()\n",
    "#q2.solution()"
   ]
  },
  {
   "cell_type": "markdown",
   "id": "5f18995c",
   "metadata": {
    "papermill": {
     "duration": 0.006887,
     "end_time": "2023-01-08T23:33:37.637622",
     "exception": false,
     "start_time": "2023-01-08T23:33:37.630735",
     "status": "completed"
    },
    "tags": []
   },
   "source": [
    "## 3.\n",
    "How often does each country appear in the dataset? Create a Series `reviews_per_country` mapping countries to the count of reviews of wines from that country."
   ]
  },
  {
   "cell_type": "code",
   "execution_count": 6,
   "id": "2493061e",
   "metadata": {
    "execution": {
     "iopub.execute_input": "2023-01-08T23:33:37.654101Z",
     "iopub.status.busy": "2023-01-08T23:33:37.653707Z",
     "iopub.status.idle": "2023-01-08T23:33:37.672750Z",
     "shell.execute_reply": "2023-01-08T23:33:37.671459Z"
    },
    "papermill": {
     "duration": 0.030352,
     "end_time": "2023-01-08T23:33:37.675347",
     "exception": false,
     "start_time": "2023-01-08T23:33:37.644995",
     "status": "completed"
    },
    "tags": []
   },
   "outputs": [
    {
     "data": {
      "application/javascript": [
       "parent.postMessage({\"jupyterEvent\": \"custom.exercise_interaction\", \"data\": {\"outcomeType\": 1, \"valueTowardsCompletion\": 0.14285714285714285, \"interactionType\": 1, \"questionType\": 1, \"questionId\": \"3_ReviewsPerCountry\", \"learnToolsVersion\": \"0.3.4\", \"failureMessage\": \"\", \"exceptionClass\": \"\", \"trace\": \"\"}}, \"*\")"
      ],
      "text/plain": [
       "<IPython.core.display.Javascript object>"
      ]
     },
     "metadata": {},
     "output_type": "display_data"
    },
    {
     "data": {
      "text/markdown": [
       "<span style=\"color:#33cc33\">Correct</span>"
      ],
      "text/plain": [
       "Correct"
      ]
     },
     "metadata": {},
     "output_type": "display_data"
    }
   ],
   "source": [
    "reviews_per_country = reviews.country.value_counts()\n",
    "\n",
    "# Check your answer\n",
    "q3.check()"
   ]
  },
  {
   "cell_type": "code",
   "execution_count": 7,
   "id": "55419ec8",
   "metadata": {
    "execution": {
     "iopub.execute_input": "2023-01-08T23:33:37.692915Z",
     "iopub.status.busy": "2023-01-08T23:33:37.692475Z",
     "iopub.status.idle": "2023-01-08T23:33:37.697795Z",
     "shell.execute_reply": "2023-01-08T23:33:37.696480Z"
    },
    "papermill": {
     "duration": 0.01729,
     "end_time": "2023-01-08T23:33:37.700210",
     "exception": false,
     "start_time": "2023-01-08T23:33:37.682920",
     "status": "completed"
    },
    "tags": []
   },
   "outputs": [],
   "source": [
    "#q3.hint()\n",
    "#q3.solution()"
   ]
  },
  {
   "cell_type": "markdown",
   "id": "a788df36",
   "metadata": {
    "papermill": {
     "duration": 0.007135,
     "end_time": "2023-01-08T23:33:37.714855",
     "exception": false,
     "start_time": "2023-01-08T23:33:37.707720",
     "status": "completed"
    },
    "tags": []
   },
   "source": [
    "## 4.\n",
    "Create variable `centered_price` containing a version of the `price` column with the mean price subtracted.\n",
    "\n",
    "(Note: this 'centering' transformation is a common preprocessing step before applying various machine learning algorithms.) "
   ]
  },
  {
   "cell_type": "code",
   "execution_count": 8,
   "id": "5128c2cb",
   "metadata": {
    "execution": {
     "iopub.execute_input": "2023-01-08T23:33:37.731712Z",
     "iopub.status.busy": "2023-01-08T23:33:37.731288Z",
     "iopub.status.idle": "2023-01-08T23:33:37.744199Z",
     "shell.execute_reply": "2023-01-08T23:33:37.742898Z"
    },
    "papermill": {
     "duration": 0.024728,
     "end_time": "2023-01-08T23:33:37.747112",
     "exception": false,
     "start_time": "2023-01-08T23:33:37.722384",
     "status": "completed"
    },
    "tags": []
   },
   "outputs": [
    {
     "data": {
      "application/javascript": [
       "parent.postMessage({\"jupyterEvent\": \"custom.exercise_interaction\", \"data\": {\"outcomeType\": 1, \"valueTowardsCompletion\": 0.14285714285714285, \"interactionType\": 1, \"questionType\": 1, \"questionId\": \"4_CenteredPrice\", \"learnToolsVersion\": \"0.3.4\", \"failureMessage\": \"\", \"exceptionClass\": \"\", \"trace\": \"\"}}, \"*\")"
      ],
      "text/plain": [
       "<IPython.core.display.Javascript object>"
      ]
     },
     "metadata": {},
     "output_type": "display_data"
    },
    {
     "data": {
      "text/markdown": [
       "<span style=\"color:#33cc33\">Correct</span>"
      ],
      "text/plain": [
       "Correct"
      ]
     },
     "metadata": {},
     "output_type": "display_data"
    }
   ],
   "source": [
    "centered_price = reviews.price - reviews.price.mean()\n",
    "\n",
    "# Check your answer\n",
    "q4.check()"
   ]
  },
  {
   "cell_type": "code",
   "execution_count": 9,
   "id": "8b43813a",
   "metadata": {
    "execution": {
     "iopub.execute_input": "2023-01-08T23:33:37.764887Z",
     "iopub.status.busy": "2023-01-08T23:33:37.764467Z",
     "iopub.status.idle": "2023-01-08T23:33:37.769100Z",
     "shell.execute_reply": "2023-01-08T23:33:37.767847Z"
    },
    "papermill": {
     "duration": 0.016095,
     "end_time": "2023-01-08T23:33:37.771291",
     "exception": false,
     "start_time": "2023-01-08T23:33:37.755196",
     "status": "completed"
    },
    "tags": []
   },
   "outputs": [],
   "source": [
    "#q4.hint()\n",
    "#q4.solution()"
   ]
  },
  {
   "cell_type": "markdown",
   "id": "36fdf5dc",
   "metadata": {
    "papermill": {
     "duration": 0.007159,
     "end_time": "2023-01-08T23:33:37.785959",
     "exception": false,
     "start_time": "2023-01-08T23:33:37.778800",
     "status": "completed"
    },
    "tags": []
   },
   "source": [
    "## 5.\n",
    "I'm an economical wine buyer. Which wine is the \"best bargain\"? Create a variable `bargain_wine` with the title of the wine with the highest points-to-price ratio in the dataset."
   ]
  },
  {
   "cell_type": "code",
   "execution_count": 10,
   "id": "b3a9a340",
   "metadata": {
    "execution": {
     "iopub.execute_input": "2023-01-08T23:33:37.803329Z",
     "iopub.status.busy": "2023-01-08T23:33:37.802251Z",
     "iopub.status.idle": "2023-01-08T23:33:37.817853Z",
     "shell.execute_reply": "2023-01-08T23:33:37.816665Z"
    },
    "papermill": {
     "duration": 0.026943,
     "end_time": "2023-01-08T23:33:37.820456",
     "exception": false,
     "start_time": "2023-01-08T23:33:37.793513",
     "status": "completed"
    },
    "tags": []
   },
   "outputs": [
    {
     "data": {
      "application/javascript": [
       "parent.postMessage({\"jupyterEvent\": \"custom.exercise_interaction\", \"data\": {\"outcomeType\": 1, \"valueTowardsCompletion\": 0.14285714285714285, \"interactionType\": 1, \"questionType\": 2, \"questionId\": \"5_BargainWine\", \"learnToolsVersion\": \"0.3.4\", \"failureMessage\": \"\", \"exceptionClass\": \"\", \"trace\": \"\"}}, \"*\")"
      ],
      "text/plain": [
       "<IPython.core.display.Javascript object>"
      ]
     },
     "metadata": {},
     "output_type": "display_data"
    },
    {
     "data": {
      "text/markdown": [
       "<span style=\"color:#33cc33\">Correct</span>"
      ],
      "text/plain": [
       "Correct"
      ]
     },
     "metadata": {},
     "output_type": "display_data"
    }
   ],
   "source": [
    "bargain_idx = (reviews.points / reviews.price).idxmax()\n",
    "bargain_wine = reviews.loc[bargain_idx, 'title']\n",
    "\n",
    "# Check your answer\n",
    "q5.check()"
   ]
  },
  {
   "cell_type": "code",
   "execution_count": 11,
   "id": "a9b64bb8",
   "metadata": {
    "execution": {
     "iopub.execute_input": "2023-01-08T23:33:37.837495Z",
     "iopub.status.busy": "2023-01-08T23:33:37.837061Z",
     "iopub.status.idle": "2023-01-08T23:33:37.841817Z",
     "shell.execute_reply": "2023-01-08T23:33:37.840521Z"
    },
    "papermill": {
     "duration": 0.016086,
     "end_time": "2023-01-08T23:33:37.844112",
     "exception": false,
     "start_time": "2023-01-08T23:33:37.828026",
     "status": "completed"
    },
    "tags": []
   },
   "outputs": [],
   "source": [
    "#q5.hint()\n",
    "#q5.solution()"
   ]
  },
  {
   "cell_type": "markdown",
   "id": "7dd62e15",
   "metadata": {
    "papermill": {
     "duration": 0.007522,
     "end_time": "2023-01-08T23:33:37.859633",
     "exception": false,
     "start_time": "2023-01-08T23:33:37.852111",
     "status": "completed"
    },
    "tags": []
   },
   "source": [
    "## 6.\n",
    "There are only so many words you can use when describing a bottle of wine. Is a wine more likely to be \"tropical\" or \"fruity\"? Create a Series `descriptor_counts` counting how many times each of these two words appears in the `description` column in the dataset. (For simplicity, let's ignore the capitalized versions of these words.)"
   ]
  },
  {
   "cell_type": "code",
   "execution_count": 12,
   "id": "8c63a6a6",
   "metadata": {
    "execution": {
     "iopub.execute_input": "2023-01-08T23:33:37.877318Z",
     "iopub.status.busy": "2023-01-08T23:33:37.876933Z",
     "iopub.status.idle": "2023-01-08T23:33:38.028625Z",
     "shell.execute_reply": "2023-01-08T23:33:38.027488Z"
    },
    "papermill": {
     "duration": 0.163441,
     "end_time": "2023-01-08T23:33:38.031023",
     "exception": false,
     "start_time": "2023-01-08T23:33:37.867582",
     "status": "completed"
    },
    "tags": []
   },
   "outputs": [
    {
     "data": {
      "application/javascript": [
       "parent.postMessage({\"jupyterEvent\": \"custom.exercise_interaction\", \"data\": {\"outcomeType\": 1, \"valueTowardsCompletion\": 0.14285714285714285, \"interactionType\": 1, \"questionType\": 1, \"questionId\": \"6_DescriptorCounts\", \"learnToolsVersion\": \"0.3.4\", \"failureMessage\": \"\", \"exceptionClass\": \"\", \"trace\": \"\"}}, \"*\")"
      ],
      "text/plain": [
       "<IPython.core.display.Javascript object>"
      ]
     },
     "metadata": {},
     "output_type": "display_data"
    },
    {
     "data": {
      "text/markdown": [
       "<span style=\"color:#33cc33\">Correct</span>"
      ],
      "text/plain": [
       "Correct"
      ]
     },
     "metadata": {},
     "output_type": "display_data"
    }
   ],
   "source": [
    "n_trop = reviews.description.map(lambda desc: \"tropical\" in desc).sum()\n",
    "n_fruity = reviews.description.map(lambda desc: \"fruity\" in desc).sum()\n",
    "descriptor_counts = pd.Series([n_trop, n_fruity], index=['tropical', 'fruity'])\n",
    "\n",
    "# Check your answer\n",
    "q6.check()"
   ]
  },
  {
   "cell_type": "code",
   "execution_count": 13,
   "id": "cb2d95d6",
   "metadata": {
    "execution": {
     "iopub.execute_input": "2023-01-08T23:33:38.049743Z",
     "iopub.status.busy": "2023-01-08T23:33:38.048838Z",
     "iopub.status.idle": "2023-01-08T23:33:38.054081Z",
     "shell.execute_reply": "2023-01-08T23:33:38.052841Z"
    },
    "papermill": {
     "duration": 0.017372,
     "end_time": "2023-01-08T23:33:38.056561",
     "exception": false,
     "start_time": "2023-01-08T23:33:38.039189",
     "status": "completed"
    },
    "tags": []
   },
   "outputs": [],
   "source": [
    "#q6.hint()\n",
    "#q6.solution()"
   ]
  },
  {
   "cell_type": "markdown",
   "id": "469222b7",
   "metadata": {
    "papermill": {
     "duration": 0.008004,
     "end_time": "2023-01-08T23:33:38.072937",
     "exception": false,
     "start_time": "2023-01-08T23:33:38.064933",
     "status": "completed"
    },
    "tags": []
   },
   "source": [
    "## 7.\n",
    "We'd like to host these wine reviews on our website, but a rating system ranging from 80 to 100 points is too hard to understand - we'd like to translate them into simple star ratings. A score of 95 or higher counts as 3 stars, a score of at least 85 but less than 95 is 2 stars. Any other score is 1 star.\n",
    "\n",
    "Also, the Canadian Vintners Association bought a lot of ads on the site, so any wines from Canada should automatically get 3 stars, regardless of points.\n",
    "\n",
    "Create a series `star_ratings` with the number of stars corresponding to each review in the dataset."
   ]
  },
  {
   "cell_type": "code",
   "execution_count": 14,
   "id": "94cc1ef8",
   "metadata": {
    "execution": {
     "iopub.execute_input": "2023-01-08T23:33:38.091313Z",
     "iopub.status.busy": "2023-01-08T23:33:38.090843Z",
     "iopub.status.idle": "2023-01-08T23:33:41.970077Z",
     "shell.execute_reply": "2023-01-08T23:33:41.968847Z"
    },
    "papermill": {
     "duration": 3.891306,
     "end_time": "2023-01-08T23:33:41.972604",
     "exception": false,
     "start_time": "2023-01-08T23:33:38.081298",
     "status": "completed"
    },
    "tags": []
   },
   "outputs": [
    {
     "data": {
      "application/javascript": [
       "parent.postMessage({\"jupyterEvent\": \"custom.exercise_interaction\", \"data\": {\"outcomeType\": 1, \"valueTowardsCompletion\": 0.14285714285714285, \"interactionType\": 1, \"questionType\": 1, \"questionId\": \"7_StarRatings\", \"learnToolsVersion\": \"0.3.4\", \"failureMessage\": \"\", \"exceptionClass\": \"\", \"trace\": \"\"}}, \"*\")"
      ],
      "text/plain": [
       "<IPython.core.display.Javascript object>"
      ]
     },
     "metadata": {},
     "output_type": "display_data"
    },
    {
     "data": {
      "text/markdown": [
       "<span style=\"color:#33cc33\">Correct</span>"
      ],
      "text/plain": [
       "Correct"
      ]
     },
     "metadata": {},
     "output_type": "display_data"
    }
   ],
   "source": [
    "def stars(row):\n",
    "    if row.country == 'Canada':\n",
    "        return 3\n",
    "    elif row.points >= 95:\n",
    "        return 3\n",
    "    elif row.points >= 85:\n",
    "        return 2\n",
    "    else:\n",
    "        return 1\n",
    "    \n",
    "star_ratings = reviews.apply(stars, axis='columns')\n",
    "\n",
    "# Check your answer\n",
    "q7.check()"
   ]
  },
  {
   "cell_type": "code",
   "execution_count": 15,
   "id": "1e7848f3",
   "metadata": {
    "execution": {
     "iopub.execute_input": "2023-01-08T23:33:41.990880Z",
     "iopub.status.busy": "2023-01-08T23:33:41.990485Z",
     "iopub.status.idle": "2023-01-08T23:33:41.995531Z",
     "shell.execute_reply": "2023-01-08T23:33:41.994234Z"
    },
    "papermill": {
     "duration": 0.01748,
     "end_time": "2023-01-08T23:33:41.998275",
     "exception": false,
     "start_time": "2023-01-08T23:33:41.980795",
     "status": "completed"
    },
    "tags": []
   },
   "outputs": [],
   "source": [
    "#q7.hint()\n",
    "#q7.solution()"
   ]
  },
  {
   "cell_type": "markdown",
   "id": "876b82e8",
   "metadata": {
    "papermill": {
     "duration": 0.007768,
     "end_time": "2023-01-08T23:33:42.014225",
     "exception": false,
     "start_time": "2023-01-08T23:33:42.006457",
     "status": "completed"
    },
    "tags": []
   },
   "source": [
    "# Keep going\n",
    "Continue to **[grouping and sorting](https://www.kaggle.com/residentmario/grouping-and-sorting)**."
   ]
  },
  {
   "cell_type": "markdown",
   "id": "5d3edb2b",
   "metadata": {
    "papermill": {
     "duration": 0.007864,
     "end_time": "2023-01-08T23:33:42.030319",
     "exception": false,
     "start_time": "2023-01-08T23:33:42.022455",
     "status": "completed"
    },
    "tags": []
   },
   "source": [
    "---\n",
    "\n",
    "\n",
    "\n",
    "\n",
    "*Have questions or comments? Visit the [course discussion forum](https://www.kaggle.com/learn/pandas/discussion) to chat with other learners.*"
   ]
  }
 ],
 "metadata": {
  "kernelspec": {
   "display_name": "Python 3",
   "language": "python",
   "name": "python3"
  },
  "language_info": {
   "codemirror_mode": {
    "name": "ipython",
    "version": 3
   },
   "file_extension": ".py",
   "mimetype": "text/x-python",
   "name": "python",
   "nbconvert_exporter": "python",
   "pygments_lexer": "ipython3",
   "version": "3.7.12"
  },
  "papermill": {
   "default_parameters": {},
   "duration": 21.204595,
   "end_time": "2023-01-08T23:33:42.760530",
   "environment_variables": {},
   "exception": null,
   "input_path": "__notebook__.ipynb",
   "output_path": "__notebook__.ipynb",
   "parameters": {},
   "start_time": "2023-01-08T23:33:21.555935",
   "version": "2.3.4"
  }
 },
 "nbformat": 4,
 "nbformat_minor": 5
}
