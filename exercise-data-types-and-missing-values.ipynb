{
 "cells": [
  {
   "cell_type": "markdown",
   "id": "9344f9b0",
   "metadata": {
    "papermill": {
     "duration": 0.005509,
     "end_time": "2023-01-11T22:54:34.556333",
     "exception": false,
     "start_time": "2023-01-11T22:54:34.550824",
     "status": "completed"
    },
    "tags": []
   },
   "source": [
    "**This notebook is an exercise in the [Pandas](https://www.kaggle.com/learn/pandas) course.  You can reference the tutorial at [this link](https://www.kaggle.com/residentmario/data-types-and-missing-values).**\n",
    "\n",
    "---\n"
   ]
  },
  {
   "cell_type": "markdown",
   "id": "67467de7",
   "metadata": {
    "papermill": {
     "duration": 0.004362,
     "end_time": "2023-01-11T22:54:34.565317",
     "exception": false,
     "start_time": "2023-01-11T22:54:34.560955",
     "status": "completed"
    },
    "tags": []
   },
   "source": [
    "# Introduction\n",
    "\n",
    "Run the following cell to load your data and some utility functions."
   ]
  },
  {
   "cell_type": "code",
   "execution_count": 1,
   "id": "008ae72a",
   "metadata": {
    "execution": {
     "iopub.execute_input": "2023-01-11T22:54:34.576621Z",
     "iopub.status.busy": "2023-01-11T22:54:34.575881Z",
     "iopub.status.idle": "2023-01-11T22:54:37.463097Z",
     "shell.execute_reply": "2023-01-11T22:54:37.461844Z"
    },
    "papermill": {
     "duration": 2.89596,
     "end_time": "2023-01-11T22:54:37.465775",
     "exception": false,
     "start_time": "2023-01-11T22:54:34.569815",
     "status": "completed"
    },
    "tags": []
   },
   "outputs": [
    {
     "name": "stdout",
     "output_type": "stream",
     "text": [
      "Setup complete.\n"
     ]
    }
   ],
   "source": [
    "import pandas as pd\n",
    "\n",
    "reviews = pd.read_csv(\"../input/wine-reviews/winemag-data-130k-v2.csv\", index_col=0)\n",
    "\n",
    "from learntools.core import binder; binder.bind(globals())\n",
    "from learntools.pandas.data_types_and_missing_data import *\n",
    "print(\"Setup complete.\")"
   ]
  },
  {
   "cell_type": "markdown",
   "id": "43a4c863",
   "metadata": {
    "papermill": {
     "duration": 0.004038,
     "end_time": "2023-01-11T22:54:37.474317",
     "exception": false,
     "start_time": "2023-01-11T22:54:37.470279",
     "status": "completed"
    },
    "tags": []
   },
   "source": [
    "# Exercises"
   ]
  },
  {
   "cell_type": "markdown",
   "id": "01169bda",
   "metadata": {
    "papermill": {
     "duration": 0.003998,
     "end_time": "2023-01-11T22:54:37.482621",
     "exception": false,
     "start_time": "2023-01-11T22:54:37.478623",
     "status": "completed"
    },
    "tags": []
   },
   "source": [
    "## 1. \n",
    "What is the data type of the `points` column in the dataset?"
   ]
  },
  {
   "cell_type": "code",
   "execution_count": 2,
   "id": "8d7a9981",
   "metadata": {
    "execution": {
     "iopub.execute_input": "2023-01-11T22:54:37.494393Z",
     "iopub.status.busy": "2023-01-11T22:54:37.493954Z",
     "iopub.status.idle": "2023-01-11T22:54:37.506136Z",
     "shell.execute_reply": "2023-01-11T22:54:37.504880Z"
    },
    "papermill": {
     "duration": 0.020614,
     "end_time": "2023-01-11T22:54:37.508391",
     "exception": false,
     "start_time": "2023-01-11T22:54:37.487777",
     "status": "completed"
    },
    "tags": []
   },
   "outputs": [
    {
     "data": {
      "application/javascript": [
       "parent.postMessage({\"jupyterEvent\": \"custom.exercise_interaction\", \"data\": {\"outcomeType\": 1, \"valueTowardsCompletion\": 0.25, \"interactionType\": 1, \"questionType\": 1, \"questionId\": \"1_PointsDtype\", \"learnToolsVersion\": \"0.3.4\", \"failureMessage\": \"\", \"exceptionClass\": \"\", \"trace\": \"\"}}, \"*\")"
      ],
      "text/plain": [
       "<IPython.core.display.Javascript object>"
      ]
     },
     "metadata": {},
     "output_type": "display_data"
    },
    {
     "data": {
      "text/markdown": [
       "<span style=\"color:#33cc33\">Correct</span>"
      ],
      "text/plain": [
       "Correct"
      ]
     },
     "metadata": {},
     "output_type": "display_data"
    }
   ],
   "source": [
    "# Your code here\n",
    "dtype = reviews.points.dtype\n",
    "\n",
    "# Check your answer\n",
    "q1.check()"
   ]
  },
  {
   "cell_type": "code",
   "execution_count": 3,
   "id": "83133dbe",
   "metadata": {
    "execution": {
     "iopub.execute_input": "2023-01-11T22:54:37.519768Z",
     "iopub.status.busy": "2023-01-11T22:54:37.519391Z",
     "iopub.status.idle": "2023-01-11T22:54:37.524052Z",
     "shell.execute_reply": "2023-01-11T22:54:37.522889Z"
    },
    "papermill": {
     "duration": 0.012808,
     "end_time": "2023-01-11T22:54:37.526279",
     "exception": false,
     "start_time": "2023-01-11T22:54:37.513471",
     "status": "completed"
    },
    "tags": []
   },
   "outputs": [],
   "source": [
    "#q1.hint()\n",
    "#q1.solution()"
   ]
  },
  {
   "cell_type": "markdown",
   "id": "a1fd3691",
   "metadata": {
    "papermill": {
     "duration": 0.004833,
     "end_time": "2023-01-11T22:54:37.535739",
     "exception": false,
     "start_time": "2023-01-11T22:54:37.530906",
     "status": "completed"
    },
    "tags": []
   },
   "source": [
    "## 2. \n",
    "Create a Series from entries in the `points` column, but convert the entries to strings. Hint: strings are `str` in native Python."
   ]
  },
  {
   "cell_type": "code",
   "execution_count": 4,
   "id": "083e51cc",
   "metadata": {
    "execution": {
     "iopub.execute_input": "2023-01-11T22:54:37.547179Z",
     "iopub.status.busy": "2023-01-11T22:54:37.546742Z",
     "iopub.status.idle": "2023-01-11T22:54:37.628151Z",
     "shell.execute_reply": "2023-01-11T22:54:37.626859Z"
    },
    "papermill": {
     "duration": 0.090001,
     "end_time": "2023-01-11T22:54:37.630540",
     "exception": false,
     "start_time": "2023-01-11T22:54:37.540539",
     "status": "completed"
    },
    "tags": []
   },
   "outputs": [
    {
     "data": {
      "application/javascript": [
       "parent.postMessage({\"jupyterEvent\": \"custom.exercise_interaction\", \"data\": {\"outcomeType\": 1, \"valueTowardsCompletion\": 0.25, \"interactionType\": 1, \"questionType\": 1, \"questionId\": \"2_StrPoints\", \"learnToolsVersion\": \"0.3.4\", \"failureMessage\": \"\", \"exceptionClass\": \"\", \"trace\": \"\"}}, \"*\")"
      ],
      "text/plain": [
       "<IPython.core.display.Javascript object>"
      ]
     },
     "metadata": {},
     "output_type": "display_data"
    },
    {
     "data": {
      "text/markdown": [
       "<span style=\"color:#33cc33\">Correct</span>"
      ],
      "text/plain": [
       "Correct"
      ]
     },
     "metadata": {},
     "output_type": "display_data"
    }
   ],
   "source": [
    "point_strings = reviews.points.astype(str)\n",
    "\n",
    "# Check your answer\n",
    "q2.check()"
   ]
  },
  {
   "cell_type": "code",
   "execution_count": 5,
   "id": "4ed12edd",
   "metadata": {
    "execution": {
     "iopub.execute_input": "2023-01-11T22:54:37.644341Z",
     "iopub.status.busy": "2023-01-11T22:54:37.643932Z",
     "iopub.status.idle": "2023-01-11T22:54:37.648047Z",
     "shell.execute_reply": "2023-01-11T22:54:37.646957Z"
    },
    "papermill": {
     "duration": 0.012936,
     "end_time": "2023-01-11T22:54:37.650494",
     "exception": false,
     "start_time": "2023-01-11T22:54:37.637558",
     "status": "completed"
    },
    "tags": []
   },
   "outputs": [],
   "source": [
    "#q2.hint()\n",
    "#q2.solution()"
   ]
  },
  {
   "cell_type": "markdown",
   "id": "9a5a731c",
   "metadata": {
    "papermill": {
     "duration": 0.004661,
     "end_time": "2023-01-11T22:54:37.660214",
     "exception": false,
     "start_time": "2023-01-11T22:54:37.655553",
     "status": "completed"
    },
    "tags": []
   },
   "source": [
    "## 3.\n",
    "Sometimes the price column is null. How many reviews in the dataset are missing a price?"
   ]
  },
  {
   "cell_type": "code",
   "execution_count": 6,
   "id": "6c9f3e62",
   "metadata": {
    "execution": {
     "iopub.execute_input": "2023-01-11T22:54:37.672728Z",
     "iopub.status.busy": "2023-01-11T22:54:37.672132Z",
     "iopub.status.idle": "2023-01-11T22:54:37.697532Z",
     "shell.execute_reply": "2023-01-11T22:54:37.696410Z"
    },
    "papermill": {
     "duration": 0.035235,
     "end_time": "2023-01-11T22:54:37.700396",
     "exception": false,
     "start_time": "2023-01-11T22:54:37.665161",
     "status": "completed"
    },
    "tags": []
   },
   "outputs": [
    {
     "data": {
      "application/javascript": [
       "parent.postMessage({\"jupyterEvent\": \"custom.exercise_interaction\", \"data\": {\"outcomeType\": 1, \"valueTowardsCompletion\": 0.25, \"interactionType\": 1, \"questionType\": 1, \"questionId\": \"3_CountMissingPrices\", \"learnToolsVersion\": \"0.3.4\", \"failureMessage\": \"\", \"exceptionClass\": \"\", \"trace\": \"\"}}, \"*\")"
      ],
      "text/plain": [
       "<IPython.core.display.Javascript object>"
      ]
     },
     "metadata": {},
     "output_type": "display_data"
    },
    {
     "data": {
      "text/markdown": [
       "<span style=\"color:#33cc33\">Correct</span>"
      ],
      "text/plain": [
       "Correct"
      ]
     },
     "metadata": {},
     "output_type": "display_data"
    }
   ],
   "source": [
    "missing_price_reviews = reviews[reviews.price.isnull()]\n",
    "n_missing_prices = len(missing_price_reviews)\n",
    "# Cute alternative solution: if we sum a boolean series, True is treated as 1 and False as 0\n",
    "n_missing_prices = reviews.price.isnull().sum()\n",
    "# or equivalently:\n",
    "n_missing_prices = pd.isnull(reviews.price).sum()\n",
    "\n",
    "# Check your answer\n",
    "q3.check()"
   ]
  },
  {
   "cell_type": "code",
   "execution_count": 7,
   "id": "3209404c",
   "metadata": {
    "execution": {
     "iopub.execute_input": "2023-01-11T22:54:37.715474Z",
     "iopub.status.busy": "2023-01-11T22:54:37.715087Z",
     "iopub.status.idle": "2023-01-11T22:54:37.719480Z",
     "shell.execute_reply": "2023-01-11T22:54:37.718409Z"
    },
    "papermill": {
     "duration": 0.014407,
     "end_time": "2023-01-11T22:54:37.721678",
     "exception": false,
     "start_time": "2023-01-11T22:54:37.707271",
     "status": "completed"
    },
    "tags": []
   },
   "outputs": [],
   "source": [
    "#q3.hint()\n",
    "#q3.solution()"
   ]
  },
  {
   "cell_type": "markdown",
   "id": "b24ddaab",
   "metadata": {
    "papermill": {
     "duration": 0.005158,
     "end_time": "2023-01-11T22:54:37.732066",
     "exception": false,
     "start_time": "2023-01-11T22:54:37.726908",
     "status": "completed"
    },
    "tags": []
   },
   "source": [
    "## 4.\n",
    "What are the most common wine-producing regions? Create a Series counting the number of times each value occurs in the `region_1` field. This field is often missing data, so replace missing values with `Unknown`. Sort in descending order.  Your output should look something like this:\n",
    "\n",
    "```\n",
    "Unknown                    21247\n",
    "Napa Valley                 4480\n",
    "                           ...  \n",
    "Bardolino Superiore            1\n",
    "Primitivo del Tarantino        1\n",
    "Name: region_1, Length: 1230, dtype: int64\n",
    "```"
   ]
  },
  {
   "cell_type": "code",
   "execution_count": 8,
   "id": "66f2dfb9",
   "metadata": {
    "execution": {
     "iopub.execute_input": "2023-01-11T22:54:37.746305Z",
     "iopub.status.busy": "2023-01-11T22:54:37.745343Z",
     "iopub.status.idle": "2023-01-11T22:54:37.793701Z",
     "shell.execute_reply": "2023-01-11T22:54:37.792562Z"
    },
    "papermill": {
     "duration": 0.058708,
     "end_time": "2023-01-11T22:54:37.796086",
     "exception": false,
     "start_time": "2023-01-11T22:54:37.737378",
     "status": "completed"
    },
    "tags": []
   },
   "outputs": [
    {
     "data": {
      "application/javascript": [
       "parent.postMessage({\"jupyterEvent\": \"custom.exercise_interaction\", \"data\": {\"outcomeType\": 1, \"valueTowardsCompletion\": 0.25, \"interactionType\": 1, \"questionType\": 2, \"questionId\": \"4_ReviewsPerRegion\", \"learnToolsVersion\": \"0.3.4\", \"failureMessage\": \"\", \"exceptionClass\": \"\", \"trace\": \"\"}}, \"*\")"
      ],
      "text/plain": [
       "<IPython.core.display.Javascript object>"
      ]
     },
     "metadata": {},
     "output_type": "display_data"
    },
    {
     "data": {
      "text/markdown": [
       "<span style=\"color:#33cc33\">Correct</span>"
      ],
      "text/plain": [
       "Correct"
      ]
     },
     "metadata": {},
     "output_type": "display_data"
    }
   ],
   "source": [
    "reviews_per_region = reviews.region_1.fillna('Unknown').value_counts().sort_values(ascending=False)\n",
    "\n",
    "# Check your answer\n",
    "q4.check()"
   ]
  },
  {
   "cell_type": "code",
   "execution_count": 9,
   "id": "2021958f",
   "metadata": {
    "execution": {
     "iopub.execute_input": "2023-01-11T22:54:37.809039Z",
     "iopub.status.busy": "2023-01-11T22:54:37.807950Z",
     "iopub.status.idle": "2023-01-11T22:54:37.812869Z",
     "shell.execute_reply": "2023-01-11T22:54:37.811991Z"
    },
    "papermill": {
     "duration": 0.013797,
     "end_time": "2023-01-11T22:54:37.815189",
     "exception": false,
     "start_time": "2023-01-11T22:54:37.801392",
     "status": "completed"
    },
    "tags": []
   },
   "outputs": [],
   "source": [
    "#q4.hint()\n",
    "#q4.solution()"
   ]
  },
  {
   "cell_type": "markdown",
   "id": "1181944f",
   "metadata": {
    "papermill": {
     "duration": 0.004911,
     "end_time": "2023-01-11T22:54:37.825396",
     "exception": false,
     "start_time": "2023-01-11T22:54:37.820485",
     "status": "completed"
    },
    "tags": []
   },
   "source": [
    "# Keep going\n",
    "\n",
    "Move on to **[renaming and combining](https://www.kaggle.com/residentmario/renaming-and-combining)**."
   ]
  },
  {
   "cell_type": "markdown",
   "id": "24859b5f",
   "metadata": {
    "papermill": {
     "duration": 0.004989,
     "end_time": "2023-01-11T22:54:37.835889",
     "exception": false,
     "start_time": "2023-01-11T22:54:37.830900",
     "status": "completed"
    },
    "tags": []
   },
   "source": [
    "---\n",
    "\n",
    "\n",
    "\n",
    "\n",
    "*Have questions or comments? Visit the [course discussion forum](https://www.kaggle.com/learn/pandas/discussion) to chat with other learners.*"
   ]
  }
 ],
 "metadata": {
  "kernelspec": {
   "display_name": "Python 3",
   "language": "python",
   "name": "python3"
  },
  "language_info": {
   "codemirror_mode": {
    "name": "ipython",
    "version": 3
   },
   "file_extension": ".py",
   "mimetype": "text/x-python",
   "name": "python",
   "nbconvert_exporter": "python",
   "pygments_lexer": "ipython3",
   "version": "3.7.12"
  },
  "papermill": {
   "default_parameters": {},
   "duration": 12.212848,
   "end_time": "2023-01-11T22:54:38.562858",
   "environment_variables": {},
   "exception": null,
   "input_path": "__notebook__.ipynb",
   "output_path": "__notebook__.ipynb",
   "parameters": {},
   "start_time": "2023-01-11T22:54:26.350010",
   "version": "2.3.4"
  }
 },
 "nbformat": 4,
 "nbformat_minor": 5
}
