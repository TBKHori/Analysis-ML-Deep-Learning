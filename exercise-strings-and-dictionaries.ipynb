{
 "cells": [
  {
   "cell_type": "markdown",
   "id": "d9a5a0a2",
   "metadata": {
    "papermill": {
     "duration": 0.006815,
     "end_time": "2023-01-04T21:00:09.868045",
     "exception": false,
     "start_time": "2023-01-04T21:00:09.861230",
     "status": "completed"
    },
    "tags": []
   },
   "source": [
    "**This notebook is an exercise in the [Python](https://www.kaggle.com/learn/python) course.  You can reference the tutorial at [this link](https://www.kaggle.com/colinmorris/strings-and-dictionaries).**\n",
    "\n",
    "---\n"
   ]
  },
  {
   "cell_type": "markdown",
   "id": "3cf12b83",
   "metadata": {
    "papermill": {
     "duration": 0.005193,
     "end_time": "2023-01-04T21:00:09.878842",
     "exception": false,
     "start_time": "2023-01-04T21:00:09.873649",
     "status": "completed"
    },
    "tags": []
   },
   "source": [
    "You are almost done with the course. Nice job!\n",
    "\n",
    "We have a couple more interesting problems for you before you go. \n",
    "\n",
    "As always, run the setup code below before working on the questions."
   ]
  },
  {
   "cell_type": "code",
   "execution_count": 1,
   "id": "fac68ea8",
   "metadata": {
    "execution": {
     "iopub.execute_input": "2023-01-04T21:00:09.891914Z",
     "iopub.status.busy": "2023-01-04T21:00:09.891143Z",
     "iopub.status.idle": "2023-01-04T21:00:09.960868Z",
     "shell.execute_reply": "2023-01-04T21:00:09.959568Z"
    },
    "papermill": {
     "duration": 0.079234,
     "end_time": "2023-01-04T21:00:09.963432",
     "exception": false,
     "start_time": "2023-01-04T21:00:09.884198",
     "status": "completed"
    },
    "tags": []
   },
   "outputs": [
    {
     "name": "stdout",
     "output_type": "stream",
     "text": [
      "Setup complete.\n"
     ]
    }
   ],
   "source": [
    "from learntools.core import binder; binder.bind(globals())\n",
    "from learntools.python.ex6 import *\n",
    "print('Setup complete.')"
   ]
  },
  {
   "cell_type": "markdown",
   "id": "1a534e12",
   "metadata": {
    "papermill": {
     "duration": 0.00518,
     "end_time": "2023-01-04T21:00:09.974120",
     "exception": false,
     "start_time": "2023-01-04T21:00:09.968940",
     "status": "completed"
    },
    "tags": []
   },
   "source": [
    "Let's start with a string lightning round to warm up. What are the lengths of the strings below?\n",
    "\n",
    "For each of the five strings below, predict what `len()` would return when passed that string. Use the variable `length` to record your answer, then run the cell to check whether you were right.  \n",
    "\n",
    "# 0a."
   ]
  },
  {
   "cell_type": "code",
   "execution_count": 2,
   "id": "4b06ebe8",
   "metadata": {
    "execution": {
     "iopub.execute_input": "2023-01-04T21:00:09.987019Z",
     "iopub.status.busy": "2023-01-04T21:00:09.986102Z",
     "iopub.status.idle": "2023-01-04T21:00:09.999638Z",
     "shell.execute_reply": "2023-01-04T21:00:09.998395Z"
    },
    "papermill": {
     "duration": 0.022558,
     "end_time": "2023-01-04T21:00:10.002033",
     "exception": false,
     "start_time": "2023-01-04T21:00:09.979475",
     "status": "completed"
    },
    "tags": []
   },
   "outputs": [
    {
     "name": "stdout",
     "output_type": "stream",
     "text": [
      "0\n"
     ]
    },
    {
     "data": {
      "application/javascript": [
       "parent.postMessage({\"jupyterEvent\": \"custom.exercise_interaction\", \"data\": {\"outcomeType\": 1, \"valueTowardsCompletion\": 0.3333333333333333, \"interactionType\": 1, \"questionType\": 1, \"questionId\": \"0.1_ZA\", \"learnToolsVersion\": \"0.3.4\", \"failureMessage\": \"\", \"exceptionClass\": \"\", \"trace\": \"\"}}, \"*\")"
      ],
      "text/plain": [
       "<IPython.core.display.Javascript object>"
      ]
     },
     "metadata": {},
     "output_type": "display_data"
    },
    {
     "data": {
      "text/markdown": [
       "<span style=\"color:#33cc33\">Correct:</span> \n",
       "\n",
       "The empty string has length zero. Note that the empty string is also the only string that Python considers as False when converting to boolean."
      ],
      "text/plain": [
       "Correct: \n",
       "\n",
       "The empty string has length zero. Note that the empty string is also the only string that Python considers as False when converting to boolean."
      ]
     },
     "metadata": {},
     "output_type": "display_data"
    }
   ],
   "source": [
    "a = \"\"\n",
    "length = len(a)\n",
    "print(length)\n",
    "q0.a.check()"
   ]
  },
  {
   "cell_type": "markdown",
   "id": "4657679d",
   "metadata": {
    "papermill": {
     "duration": 0.005456,
     "end_time": "2023-01-04T21:00:10.013283",
     "exception": false,
     "start_time": "2023-01-04T21:00:10.007827",
     "status": "completed"
    },
    "tags": []
   },
   "source": [
    "# 0b."
   ]
  },
  {
   "cell_type": "code",
   "execution_count": 3,
   "id": "2a5e0231",
   "metadata": {
    "execution": {
     "iopub.execute_input": "2023-01-04T21:00:10.027138Z",
     "iopub.status.busy": "2023-01-04T21:00:10.026632Z",
     "iopub.status.idle": "2023-01-04T21:00:10.039344Z",
     "shell.execute_reply": "2023-01-04T21:00:10.038023Z"
    },
    "papermill": {
     "duration": 0.022858,
     "end_time": "2023-01-04T21:00:10.041966",
     "exception": false,
     "start_time": "2023-01-04T21:00:10.019108",
     "status": "completed"
    },
    "tags": []
   },
   "outputs": [
    {
     "name": "stdout",
     "output_type": "stream",
     "text": [
      "7\n"
     ]
    },
    {
     "data": {
      "application/javascript": [
       "parent.postMessage({\"jupyterEvent\": \"custom.exercise_interaction\", \"data\": {\"outcomeType\": 1, \"valueTowardsCompletion\": 0.3333333333333333, \"interactionType\": 1, \"questionType\": 1, \"questionId\": \"0.2_ZB\", \"learnToolsVersion\": \"0.3.4\", \"failureMessage\": \"\", \"exceptionClass\": \"\", \"trace\": \"\"}}, \"*\")"
      ],
      "text/plain": [
       "<IPython.core.display.Javascript object>"
      ]
     },
     "metadata": {},
     "output_type": "display_data"
    },
    {
     "data": {
      "text/markdown": [
       "<span style=\"color:#33cc33\">Correct:</span> \n",
       "\n",
       "Keep in mind Python includes spaces (and punctuation) when counting string length."
      ],
      "text/plain": [
       "Correct: \n",
       "\n",
       "Keep in mind Python includes spaces (and punctuation) when counting string length."
      ]
     },
     "metadata": {},
     "output_type": "display_data"
    }
   ],
   "source": [
    "b = \"it's ok\"\n",
    "length = len(b)\n",
    "print(length)\n",
    "q0.b.check()"
   ]
  },
  {
   "cell_type": "markdown",
   "id": "5fa82c06",
   "metadata": {
    "papermill": {
     "duration": 0.007987,
     "end_time": "2023-01-04T21:00:10.057193",
     "exception": false,
     "start_time": "2023-01-04T21:00:10.049206",
     "status": "completed"
    },
    "tags": []
   },
   "source": [
    "# 0c."
   ]
  },
  {
   "cell_type": "code",
   "execution_count": 4,
   "id": "c046cefa",
   "metadata": {
    "execution": {
     "iopub.execute_input": "2023-01-04T21:00:10.077021Z",
     "iopub.status.busy": "2023-01-04T21:00:10.076539Z",
     "iopub.status.idle": "2023-01-04T21:00:10.087408Z",
     "shell.execute_reply": "2023-01-04T21:00:10.086134Z"
    },
    "papermill": {
     "duration": 0.024315,
     "end_time": "2023-01-04T21:00:10.090346",
     "exception": false,
     "start_time": "2023-01-04T21:00:10.066031",
     "status": "completed"
    },
    "tags": []
   },
   "outputs": [
    {
     "name": "stdout",
     "output_type": "stream",
     "text": [
      "7\n"
     ]
    },
    {
     "data": {
      "application/javascript": [
       "parent.postMessage({\"jupyterEvent\": \"custom.exercise_interaction\", \"data\": {\"outcomeType\": 1, \"valueTowardsCompletion\": 0.3333333333333333, \"interactionType\": 1, \"questionType\": 1, \"questionId\": \"0.3_ZC\", \"learnToolsVersion\": \"0.3.4\", \"failureMessage\": \"\", \"exceptionClass\": \"\", \"trace\": \"\"}}, \"*\")"
      ],
      "text/plain": [
       "<IPython.core.display.Javascript object>"
      ]
     },
     "metadata": {},
     "output_type": "display_data"
    },
    {
     "data": {
      "text/markdown": [
       "<span style=\"color:#33cc33\">Correct:</span> \n",
       "\n",
       "Even though we use different syntax to create it, the string `c` is identical to `b`. In particular, note that the backslash is not part of the string, so it doesn't contribute to its length."
      ],
      "text/plain": [
       "Correct: \n",
       "\n",
       "Even though we use different syntax to create it, the string `c` is identical to `b`. In particular, note that the backslash is not part of the string, so it doesn't contribute to its length."
      ]
     },
     "metadata": {},
     "output_type": "display_data"
    }
   ],
   "source": [
    "c = 'it\\'s ok'\n",
    "length = len(c)\n",
    "print(length)\n",
    "q0.c.check()"
   ]
  },
  {
   "cell_type": "markdown",
   "id": "dc55909b",
   "metadata": {
    "papermill": {
     "duration": 0.006637,
     "end_time": "2023-01-04T21:00:10.105205",
     "exception": false,
     "start_time": "2023-01-04T21:00:10.098568",
     "status": "completed"
    },
    "tags": []
   },
   "source": [
    "# 0d."
   ]
  },
  {
   "cell_type": "code",
   "execution_count": 5,
   "id": "b0c46442",
   "metadata": {
    "execution": {
     "iopub.execute_input": "2023-01-04T21:00:10.123653Z",
     "iopub.status.busy": "2023-01-04T21:00:10.122977Z",
     "iopub.status.idle": "2023-01-04T21:00:10.133690Z",
     "shell.execute_reply": "2023-01-04T21:00:10.132340Z"
    },
    "papermill": {
     "duration": 0.021585,
     "end_time": "2023-01-04T21:00:10.136116",
     "exception": false,
     "start_time": "2023-01-04T21:00:10.114531",
     "status": "completed"
    },
    "tags": []
   },
   "outputs": [
    {
     "name": "stdout",
     "output_type": "stream",
     "text": [
      "3\n"
     ]
    },
    {
     "data": {
      "application/javascript": [
       "parent.postMessage({\"jupyterEvent\": \"custom.exercise_interaction\", \"data\": {\"outcomeType\": 1, \"valueTowardsCompletion\": 0.3333333333333333, \"interactionType\": 1, \"questionType\": 1, \"questionId\": \"0.4_ZD\", \"learnToolsVersion\": \"0.3.4\", \"failureMessage\": \"\", \"exceptionClass\": \"\", \"trace\": \"\"}}, \"*\")"
      ],
      "text/plain": [
       "<IPython.core.display.Javascript object>"
      ]
     },
     "metadata": {},
     "output_type": "display_data"
    },
    {
     "data": {
      "text/markdown": [
       "<span style=\"color:#33cc33\">Correct:</span> \n",
       "\n",
       "The fact that this string was created using triple-quote syntax doesn't make any difference in terms of its content or length. This string is exactly the same as `'hey'`."
      ],
      "text/plain": [
       "Correct: \n",
       "\n",
       "The fact that this string was created using triple-quote syntax doesn't make any difference in terms of its content or length. This string is exactly the same as `'hey'`."
      ]
     },
     "metadata": {},
     "output_type": "display_data"
    }
   ],
   "source": [
    "d = \"\"\"hey\"\"\"\n",
    "length = len(d)\n",
    "print(length)\n",
    "q0.d.check()"
   ]
  },
  {
   "cell_type": "markdown",
   "id": "892ffce6",
   "metadata": {
    "papermill": {
     "duration": 0.006454,
     "end_time": "2023-01-04T21:00:10.149289",
     "exception": false,
     "start_time": "2023-01-04T21:00:10.142835",
     "status": "completed"
    },
    "tags": []
   },
   "source": [
    "# 0e."
   ]
  },
  {
   "cell_type": "code",
   "execution_count": 6,
   "id": "308ee8fa",
   "metadata": {
    "execution": {
     "iopub.execute_input": "2023-01-04T21:00:10.164509Z",
     "iopub.status.busy": "2023-01-04T21:00:10.164119Z",
     "iopub.status.idle": "2023-01-04T21:00:10.173354Z",
     "shell.execute_reply": "2023-01-04T21:00:10.172248Z"
    },
    "papermill": {
     "duration": 0.019781,
     "end_time": "2023-01-04T21:00:10.175750",
     "exception": false,
     "start_time": "2023-01-04T21:00:10.155969",
     "status": "completed"
    },
    "tags": []
   },
   "outputs": [
    {
     "name": "stdout",
     "output_type": "stream",
     "text": [
      "1\n"
     ]
    },
    {
     "data": {
      "application/javascript": [
       "parent.postMessage({\"jupyterEvent\": \"custom.exercise_interaction\", \"data\": {\"outcomeType\": 1, \"valueTowardsCompletion\": 0.3333333333333333, \"interactionType\": 1, \"questionType\": 1, \"questionId\": \"0.5_ZE\", \"learnToolsVersion\": \"0.3.4\", \"failureMessage\": \"\", \"exceptionClass\": \"\", \"trace\": \"\"}}, \"*\")"
      ],
      "text/plain": [
       "<IPython.core.display.Javascript object>"
      ]
     },
     "metadata": {},
     "output_type": "display_data"
    },
    {
     "data": {
      "text/markdown": [
       "<span style=\"color:#33cc33\">Correct:</span> \n",
       "\n",
       "The newline character is just a single character! (Even though we represent it to Python using a combination of two characters.)"
      ],
      "text/plain": [
       "Correct: \n",
       "\n",
       "The newline character is just a single character! (Even though we represent it to Python using a combination of two characters.)"
      ]
     },
     "metadata": {},
     "output_type": "display_data"
    }
   ],
   "source": [
    "e = '\\n'\n",
    "length = len(e)\n",
    "print(length)\n",
    "q0.e.check()"
   ]
  },
  {
   "cell_type": "markdown",
   "id": "b1aad0f4",
   "metadata": {
    "papermill": {
     "duration": 0.006696,
     "end_time": "2023-01-04T21:00:10.189351",
     "exception": false,
     "start_time": "2023-01-04T21:00:10.182655",
     "status": "completed"
    },
    "tags": []
   },
   "source": [
    "# 1.\n",
    "\n",
    "There is a saying that \"Data scientists spend 80% of their time cleaning data, and 20% of their time complaining about cleaning data.\" Let's see if you can write a function to help clean US zip code data. Given a string, it should return whether or not that string represents a valid zip code. For our purposes, a valid zip code is any string consisting of exactly 5 digits.\n",
    "\n",
    "HINT: `str` has a method that will be useful here. Use `help(str)` to review a list of string methods."
   ]
  },
  {
   "cell_type": "code",
   "execution_count": 7,
   "id": "be238104",
   "metadata": {
    "execution": {
     "iopub.execute_input": "2023-01-04T21:00:10.205199Z",
     "iopub.status.busy": "2023-01-04T21:00:10.204809Z",
     "iopub.status.idle": "2023-01-04T21:00:10.213264Z",
     "shell.execute_reply": "2023-01-04T21:00:10.212337Z"
    },
    "papermill": {
     "duration": 0.019162,
     "end_time": "2023-01-04T21:00:10.215501",
     "exception": false,
     "start_time": "2023-01-04T21:00:10.196339",
     "status": "completed"
    },
    "tags": []
   },
   "outputs": [
    {
     "data": {
      "application/javascript": [
       "parent.postMessage({\"jupyterEvent\": \"custom.exercise_interaction\", \"data\": {\"outcomeType\": 1, \"valueTowardsCompletion\": 0.3333333333333333, \"interactionType\": 1, \"questionType\": 2, \"questionId\": \"1_ZipValidator\", \"learnToolsVersion\": \"0.3.4\", \"failureMessage\": \"\", \"exceptionClass\": \"\", \"trace\": \"\"}}, \"*\")"
      ],
      "text/plain": [
       "<IPython.core.display.Javascript object>"
      ]
     },
     "metadata": {},
     "output_type": "display_data"
    },
    {
     "data": {
      "text/markdown": [
       "<span style=\"color:#33cc33\">Correct</span>"
      ],
      "text/plain": [
       "Correct"
      ]
     },
     "metadata": {},
     "output_type": "display_data"
    }
   ],
   "source": [
    "def is_valid_zip(zip_code):\n",
    "    \"\"\"Returns whether the input string is a valid (5 digit) zip code\n",
    "    \"\"\"\n",
    "    return (len(zip_code)==5 and zip_code.isdigit())\n",
    "\n",
    "# Check your answer\n",
    "q1.check()"
   ]
  },
  {
   "cell_type": "code",
   "execution_count": 8,
   "id": "e87f94eb",
   "metadata": {
    "execution": {
     "iopub.execute_input": "2023-01-04T21:00:10.232024Z",
     "iopub.status.busy": "2023-01-04T21:00:10.231622Z",
     "iopub.status.idle": "2023-01-04T21:00:10.236203Z",
     "shell.execute_reply": "2023-01-04T21:00:10.234732Z"
    },
    "papermill": {
     "duration": 0.015979,
     "end_time": "2023-01-04T21:00:10.238835",
     "exception": false,
     "start_time": "2023-01-04T21:00:10.222856",
     "status": "completed"
    },
    "tags": []
   },
   "outputs": [],
   "source": [
    "#q1.hint()\n",
    "#q1.solution()"
   ]
  },
  {
   "cell_type": "markdown",
   "id": "c16b50e4",
   "metadata": {
    "papermill": {
     "duration": 0.00734,
     "end_time": "2023-01-04T21:00:10.253672",
     "exception": false,
     "start_time": "2023-01-04T21:00:10.246332",
     "status": "completed"
    },
    "tags": []
   },
   "source": [
    "# 2.\n",
    "\n",
    "A researcher has gathered thousands of news articles. But she wants to focus her attention on articles including a specific word. Complete the function below to help her filter her list of articles.\n",
    "\n",
    "Your function should meet the following criteria:\n",
    "\n",
    "- Do not include documents where the keyword string shows up only as a part of a larger word. For example, if she were looking for the keyword “closed”, you would not include the string “enclosed.” \n",
    "- She does not want you to distinguish upper case from lower case letters. So the phrase “Closed the case.” would be included when the keyword is “closed”\n",
    "- Do not let periods or commas affect what is matched. “It is closed.” would be included when the keyword is “closed”. But you can assume there are no other types of punctuation."
   ]
  },
  {
   "cell_type": "code",
   "execution_count": 9,
   "id": "6a46c969",
   "metadata": {
    "execution": {
     "iopub.execute_input": "2023-01-04T21:00:10.270731Z",
     "iopub.status.busy": "2023-01-04T21:00:10.269948Z",
     "iopub.status.idle": "2023-01-04T21:00:10.281890Z",
     "shell.execute_reply": "2023-01-04T21:00:10.280963Z"
    },
    "papermill": {
     "duration": 0.023341,
     "end_time": "2023-01-04T21:00:10.284518",
     "exception": false,
     "start_time": "2023-01-04T21:00:10.261177",
     "status": "completed"
    },
    "tags": []
   },
   "outputs": [
    {
     "data": {
      "application/javascript": [
       "parent.postMessage({\"jupyterEvent\": \"custom.exercise_interaction\", \"data\": {\"outcomeType\": 1, \"valueTowardsCompletion\": 0.3333333333333333, \"interactionType\": 1, \"questionType\": 2, \"questionId\": \"2_WordSearch\", \"learnToolsVersion\": \"0.3.4\", \"failureMessage\": \"\", \"exceptionClass\": \"\", \"trace\": \"\"}}, \"*\")"
      ],
      "text/plain": [
       "<IPython.core.display.Javascript object>"
      ]
     },
     "metadata": {},
     "output_type": "display_data"
    },
    {
     "data": {
      "text/markdown": [
       "<span style=\"color:#33cc33\">Correct</span>"
      ],
      "text/plain": [
       "Correct"
      ]
     },
     "metadata": {},
     "output_type": "display_data"
    }
   ],
   "source": [
    "def word_search(doc_list, keyword):\n",
    "    \"\"\"\n",
    "    Takes a list of documents (each document is a string) and a keyword. \n",
    "    Returns list of the index values into the original list for all documents \n",
    "    containing the keyword.\n",
    "\n",
    "    Example:\n",
    "    doc_list = [\"The Learn Python Challenge Casino.\", \"They bought a car\", \"Casinoville\"]\n",
    "    >>> word_search(doc_list, 'casino')\n",
    "    >>> [0]\n",
    "    \"\"\"\n",
    "    list=[]\n",
    "    # Iterate through the indices (statement) and elements (phrase) of doc_list\n",
    "    for statement,phrase in enumerate(doc_list):\n",
    "        # Split the string phrase into a list of words (according to whitespace)\n",
    "        phrase=phrase.split()\n",
    "        # Make a transformed list where we 'normalize' each word to facilitate matching.\n",
    "        # Periods and commas are removed from the end of each word, and it's set to all lowercase.\n",
    "        if keyword.lower() in [word.rstrip('.,').lower() for word in phrase]:\n",
    "            list.append(statement)\n",
    "    return list\n",
    "\n",
    "# Check your answer\n",
    "q2.check()"
   ]
  },
  {
   "cell_type": "code",
   "execution_count": 10,
   "id": "4ae99a6b",
   "metadata": {
    "execution": {
     "iopub.execute_input": "2023-01-04T21:00:10.301841Z",
     "iopub.status.busy": "2023-01-04T21:00:10.301065Z",
     "iopub.status.idle": "2023-01-04T21:00:10.305279Z",
     "shell.execute_reply": "2023-01-04T21:00:10.304162Z"
    },
    "papermill": {
     "duration": 0.015666,
     "end_time": "2023-01-04T21:00:10.307580",
     "exception": false,
     "start_time": "2023-01-04T21:00:10.291914",
     "status": "completed"
    },
    "tags": []
   },
   "outputs": [],
   "source": [
    "#q2.hint()\n",
    "#q2.solution()"
   ]
  },
  {
   "cell_type": "markdown",
   "id": "6855be9e",
   "metadata": {
    "papermill": {
     "duration": 0.007441,
     "end_time": "2023-01-04T21:00:10.322964",
     "exception": false,
     "start_time": "2023-01-04T21:00:10.315523",
     "status": "completed"
    },
    "tags": []
   },
   "source": [
    "# 3.\n",
    "\n",
    "Now the researcher wants to supply multiple keywords to search for. Complete the function below to help her.\n",
    "\n",
    "(You're encouraged to use the `word_search` function you just wrote when implementing this function. Reusing code in this way makes your programs more robust and readable - and it saves typing!)"
   ]
  },
  {
   "cell_type": "code",
   "execution_count": 11,
   "id": "628fd56d",
   "metadata": {
    "execution": {
     "iopub.execute_input": "2023-01-04T21:00:10.340005Z",
     "iopub.status.busy": "2023-01-04T21:00:10.339547Z",
     "iopub.status.idle": "2023-01-04T21:00:10.349032Z",
     "shell.execute_reply": "2023-01-04T21:00:10.347998Z"
    },
    "papermill": {
     "duration": 0.020852,
     "end_time": "2023-01-04T21:00:10.351261",
     "exception": false,
     "start_time": "2023-01-04T21:00:10.330409",
     "status": "completed"
    },
    "tags": []
   },
   "outputs": [
    {
     "data": {
      "application/javascript": [
       "parent.postMessage({\"jupyterEvent\": \"custom.exercise_interaction\", \"data\": {\"outcomeType\": 1, \"valueTowardsCompletion\": 0.3333333333333333, \"interactionType\": 1, \"questionType\": 2, \"questionId\": \"3_MultiWordSearch\", \"learnToolsVersion\": \"0.3.4\", \"failureMessage\": \"\", \"exceptionClass\": \"\", \"trace\": \"\"}}, \"*\")"
      ],
      "text/plain": [
       "<IPython.core.display.Javascript object>"
      ]
     },
     "metadata": {},
     "output_type": "display_data"
    },
    {
     "data": {
      "text/markdown": [
       "<span style=\"color:#33cc33\">Correct</span>"
      ],
      "text/plain": [
       "Correct"
      ]
     },
     "metadata": {},
     "output_type": "display_data"
    }
   ],
   "source": [
    "def multi_word_search(doc_list, keywords):\n",
    "    \"\"\"\n",
    "    Takes list of documents (each document is a string) and a list of keywords.  \n",
    "    Returns a dictionary where each key is a keyword, and the value is a list of indices\n",
    "    (from doc_list) of the documents containing that keyword\n",
    "\n",
    "    >>> doc_list = [\"The Learn Python Challenge Casino.\", \"They bought a car and a casino\", \"Casinoville\"]\n",
    "    >>> keywords = ['casino', 'they']\n",
    "    >>> multi_word_search(doc_list, keywords)\n",
    "    {'casino': [0, 1], 'they': [1]}\n",
    "    \"\"\"\n",
    "    indices={}\n",
    "    for keyword in keywords:\n",
    "        indices[keyword]=word_search(doc_list,keyword)\n",
    "    return indices\n",
    "\n",
    "# Check your answer\n",
    "q3.check()"
   ]
  },
  {
   "cell_type": "code",
   "execution_count": 12,
   "id": "adf55fcf",
   "metadata": {
    "execution": {
     "iopub.execute_input": "2023-01-04T21:00:10.369144Z",
     "iopub.status.busy": "2023-01-04T21:00:10.368344Z",
     "iopub.status.idle": "2023-01-04T21:00:10.373883Z",
     "shell.execute_reply": "2023-01-04T21:00:10.372622Z"
    },
    "papermill": {
     "duration": 0.017184,
     "end_time": "2023-01-04T21:00:10.376441",
     "exception": false,
     "start_time": "2023-01-04T21:00:10.359257",
     "status": "completed"
    },
    "tags": []
   },
   "outputs": [],
   "source": [
    "#q3.solution()"
   ]
  },
  {
   "cell_type": "markdown",
   "id": "f6a33844",
   "metadata": {
    "papermill": {
     "duration": 0.007737,
     "end_time": "2023-01-04T21:00:10.392119",
     "exception": false,
     "start_time": "2023-01-04T21:00:10.384382",
     "status": "completed"
    },
    "tags": []
   },
   "source": [
    "# Keep Going\n",
    "\n",
    "You've learned a lot. But even the best programmers rely heavily on \"libraries\" of code from other programmers. You'll learn about that in **[the last lesson](https://www.kaggle.com/colinmorris/working-with-external-libraries)**.\n"
   ]
  },
  {
   "cell_type": "markdown",
   "id": "5ae2dfdb",
   "metadata": {
    "papermill": {
     "duration": 0.007617,
     "end_time": "2023-01-04T21:00:10.407805",
     "exception": false,
     "start_time": "2023-01-04T21:00:10.400188",
     "status": "completed"
    },
    "tags": []
   },
   "source": [
    "---\n",
    "\n",
    "\n",
    "\n",
    "\n",
    "*Have questions or comments? Visit the [course discussion forum](https://www.kaggle.com/learn/python/discussion) to chat with other learners.*"
   ]
  }
 ],
 "metadata": {
  "kernelspec": {
   "display_name": "Python 3",
   "language": "python",
   "name": "python3"
  },
  "language_info": {
   "codemirror_mode": {
    "name": "ipython",
    "version": 3
   },
   "file_extension": ".py",
   "mimetype": "text/x-python",
   "name": "python",
   "nbconvert_exporter": "python",
   "pygments_lexer": "ipython3",
   "version": "3.7.12"
  },
  "papermill": {
   "default_parameters": {},
   "duration": 11.604279,
   "end_time": "2023-01-04T21:00:11.037992",
   "environment_variables": {},
   "exception": null,
   "input_path": "__notebook__.ipynb",
   "output_path": "__notebook__.ipynb",
   "parameters": {},
   "start_time": "2023-01-04T20:59:59.433713",
   "version": "2.3.4"
  }
 },
 "nbformat": 4,
 "nbformat_minor": 5
}
