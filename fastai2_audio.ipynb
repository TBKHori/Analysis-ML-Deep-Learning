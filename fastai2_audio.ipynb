{
  "nbformat": 4,
  "nbformat_minor": 0,
  "metadata": {
    "colab": {
      "name": "fastai2_audio.ipynb",
      "provenance": []
    },
    "kernelspec": {
      "name": "python3",
      "display_name": "Python 3"
    },
    "accelerator": "GPU"
  },
  "cells": [
    {
      "cell_type": "code",
      "metadata": {
        "id": "OuqsK3bmvEb6"
      },
      "source": [
        "!pip install packaging\n",
        "!pip install git+https://github.com/rbracco/fastai2_audio.git"
      ],
      "execution_count": null,
      "outputs": []
    },
    {
      "cell_type": "code",
      "metadata": {
        "id": "28B6oBefwS9s"
      },
      "source": [
        "import librosa\n",
        "import torchaudio\n",
        "from fastai2.vision.all import *\n",
        "from fastai2_audio.core import *\n",
        "from fastai2_audio.augment import *"
      ],
      "execution_count": null,
      "outputs": []
    },
    {
      "cell_type": "code",
      "metadata": {
        "id": "wX7UKMG-x1pF"
      },
      "source": [
        "def alter_learner(learn, channels=1):\n",
        "    learn.model[0][0].in_channels=channels\n",
        "    learn.model[0][0].weight = torch.nn.parameter.Parameter(learn.model[0][0].weight[:,1,:,:].unsqueeze(1))"
      ],
      "execution_count": null,
      "outputs": []
    },
    {
      "cell_type": "code",
      "metadata": {
        "id": "KZgj3BudyZ8Y"
      },
      "source": [
        "def tar_extract_at_filename(fname, dest):\n",
        "    \"Extract `fname` to `dest`/`fname`.name folder using `tarfile`\"\n",
        "    dest = Path(dest)/Path(fname).with_suffix('').name\n",
        "    tarfile.open(fname, 'r:gz').extractall(dest)"
      ],
      "execution_count": null,
      "outputs": []
    },
    {
      "cell_type": "code",
      "metadata": {
        "id": "3-Vwqys5wZZM"
      },
      "source": [
        "url = 'https://public-datasets.fra1.cdn.digitaloceanspaces.com/recordings.tar.gz'\n",
        "data = untar_data(url, extract_func=tar_extract_at_filename)/'recordings'"
      ],
      "execution_count": null,
      "outputs": []
    },
    {
      "cell_type": "code",
      "metadata": {
        "id": "yfS9aIWKAO10",
        "outputId": "344b7ca4-e6ba-4703-8dc3-054060db11fd",
        "colab": {
          "base_uri": "https://localhost:8080/",
          "height": 111
        }
      },
      "source": [
        "list((data).iterdir())[:5]"
      ],
      "execution_count": null,
      "outputs": [
        {
          "output_type": "execute_result",
          "data": {
            "text/plain": [
              "[Path('/root/.fastai/data/recordings.tar/recordings/0_jackson_47.wav'),\n",
              " Path('/root/.fastai/data/recordings.tar/recordings/2_jackson_2.wav'),\n",
              " Path('/root/.fastai/data/recordings.tar/recordings/7_yweweler_36.wav'),\n",
              " Path('/root/.fastai/data/recordings.tar/recordings/5_yweweler_16.wav'),\n",
              " Path('/root/.fastai/data/recordings.tar/recordings/8_jackson_2.wav')]"
            ]
          },
          "metadata": {
            "tags": []
          },
          "execution_count": 7
        }
      ]
    },
    {
      "cell_type": "code",
      "metadata": {
        "id": "iVTcF0sGwosp"
      },
      "source": [
        "DBMelSpec = SpectrogramTransformer(mel=True, to_db=True)\n",
        "a2s = DBMelSpec()\n",
        "crop_1000ms = CropSignal(1000)\n",
        "tfms = [crop_1000ms, a2s]"
      ],
      "execution_count": null,
      "outputs": []
    },
    {
      "cell_type": "code",
      "metadata": {
        "id": "CkCfb3lo0tgO",
        "colab": {
          "base_uri": "https://localhost:8080/",
          "height": 279
        },
        "outputId": "a5f8a723-253f-4591-f61d-cd57bd7daaac"
      },
      "source": [
        "a2s.settings"
      ],
      "execution_count": null,
      "outputs": [
        {
          "output_type": "execute_result",
          "data": {
            "text/plain": [
              "{'f_max': None,\n",
              " 'f_min': 0.0,\n",
              " 'hop_length': 512,\n",
              " 'mel': True,\n",
              " 'n_fft': 1024,\n",
              " 'n_mels': 128,\n",
              " 'pad': 0,\n",
              " 'sample_rate': 16000,\n",
              " 'stype': 'power',\n",
              " 'to_db': True,\n",
              " 'top_db': None,\n",
              " 'win_length': 1024,\n",
              " 'window_fn': <function _VariableFunctions.hann_window>,\n",
              " 'wkwargs': None}"
            ]
          },
          "metadata": {
            "tags": []
          },
          "execution_count": 9
        }
      ]
    },
    {
      "cell_type": "code",
      "metadata": {
        "id": "h2wwtCKRxHax"
      },
      "source": [
        "auds = DataBlock(blocks=(AudioBlock, CategoryBlock),\n",
        "                 get_items=get_audio_files,\n",
        "                 splitter=RandomSplitter(),\n",
        "                 item_tfms = tfms,\n",
        "                 get_y=lambda x: x.name[0])"
      ],
      "execution_count": null,
      "outputs": []
    },
    {
      "cell_type": "code",
      "metadata": {
        "id": "CELmForlxn5G"
      },
      "source": [
        "dbunch = auds.dataloaders(data, item_tfms = tfms, bs=64)"
      ],
      "execution_count": null,
      "outputs": []
    },
    {
      "cell_type": "code",
      "metadata": {
        "id": "Q3wrgO3bxxTo",
        "outputId": "067bfcfc-f9bf-4585-e22f-ae12374ef2c8",
        "colab": {
          "base_uri": "https://localhost:8080/",
          "height": 36
        }
      },
      "source": [
        "dbunch.one_batch()[0].shape"
      ],
      "execution_count": null,
      "outputs": [
        {
          "output_type": "execute_result",
          "data": {
            "text/plain": [
              "torch.Size([64, 1, 128, 16])"
            ]
          },
          "metadata": {
            "tags": []
          },
          "execution_count": 12
        }
      ]
    },
    {
      "cell_type": "code",
      "metadata": {
        "id": "EvTmiox1DCBr",
        "outputId": "ad09b5d1-ec0a-409c-ee67-9940300179c4",
        "colab": {
          "base_uri": "https://localhost:8080/",
          "height": 610
        }
      },
      "source": [
        "dbunch.show_batch(max_n=2)"
      ],
      "execution_count": null,
      "outputs": [
        {
          "output_type": "display_data",
          "data": {
            "image/png": "[encoded data removed]",
            "text/plain": [
              "<Figure size 432x288 with 2 Axes>"
            ]
          },
          "metadata": {
            "tags": []
          }
        },
        {
          "output_type": "display_data",
          "data": {
            "image/png": "[encoded data removed]",
            "text/plain": [
              "<Figure size 432x288 with 2 Axes>"
            ]
          },
          "metadata": {
            "tags": []
          }
        },
        {
          "output_type": "stream",
          "text": [
            "8\n",
            "0\n"
          ],
          "name": "stdout"
        }
      ]
    },
    {
      "cell_type": "code",
      "metadata": {
        "id": "kBFbsUXMzLuq"
      },
      "source": [
        "learn = Learner(dbunch,\n",
        "                xresnet18(),\n",
        "                CrossEntropyLossFlat(),\n",
        "                metrics=[accuracy])\n",
        "nchannels = dbunch.one_batch()[0].shape[1]\n",
        "alter_learner(learn, nchannels)"
      ],
      "execution_count": null,
      "outputs": []
    },
    {
      "cell_type": "code",
      "metadata": {
        "id": "goU44faAzQjs",
        "outputId": "e6aba199-8525-49fb-fcc5-5d02658cf38a",
        "colab": {
          "base_uri": "https://localhost:8080/",
          "height": 302
        }
      },
      "source": [
        "learn.lr_find()"
      ],
      "execution_count": null,
      "outputs": [
        {
          "output_type": "display_data",
          "data": {
            "text/html": [
              ""
            ],
            "text/plain": [
              "<IPython.core.display.HTML object>"
            ]
          },
          "metadata": {
            "tags": []
          }
        },
        {
          "output_type": "execute_result",
          "data": {
            "text/plain": [
              "SuggestedLRs(lr_min=0.10964782238006592, lr_steep=0.0030199517495930195)"
            ]
          },
          "metadata": {
            "tags": []
          },
          "execution_count": 15
        },
        {
          "output_type": "display_data",
          "data": {
            "image/png": "[encoded data removed]",
            "text/plain": [
              "<Figure size 432x288 with 1 Axes>"
            ]
          },
          "metadata": {
            "tags": []
          }
        }
      ]
    },
    {
      "cell_type": "code",
      "metadata": {
        "id": "QNjCnQmnzTQM",
        "outputId": "b75cd156-10a8-4f56-bb18-2ef6dc3fd362",
        "colab": {
          "base_uri": "https://localhost:8080/",
          "height": 363
        }
      },
      "source": [
        "learn.fit_one_cycle(10, lr_max=slice(1e-2))"
      ],
      "execution_count": null,
      "outputs": [
        {
          "output_type": "display_data",
          "data": {
            "text/html": [
              "<table border=\"1\" class=\"dataframe\">\n",
              "  <thead>\n",
              "    <tr style=\"text-align: left;\">\n",
              "      <th>epoch</th>\n",
              "      <th>train_loss</th>\n",
              "      <th>valid_loss</th>\n",
              "      <th>accuracy</th>\n",
              "      <th>time</th>\n",
              "    </tr>\n",
              "  </thead>\n",
              "  <tbody>\n",
              "    <tr>\n",
              "      <td>0</td>\n",
              "      <td>4.508214</td>\n",
              "      <td>3.917538</td>\n",
              "      <td>0.095000</td>\n",
              "      <td>00:03</td>\n",
              "    </tr>\n",
              "    <tr>\n",
              "      <td>1</td>\n",
              "      <td>3.017678</td>\n",
              "      <td>6.443586</td>\n",
              "      <td>0.125000</td>\n",
              "      <td>00:03</td>\n",
              "    </tr>\n",
              "    <tr>\n",
              "      <td>2</td>\n",
              "      <td>2.126312</td>\n",
              "      <td>1.758069</td>\n",
              "      <td>0.472500</td>\n",
              "      <td>00:03</td>\n",
              "    </tr>\n",
              "    <tr>\n",
              "      <td>3</td>\n",
              "      <td>1.404083</td>\n",
              "      <td>1.409222</td>\n",
              "      <td>0.617500</td>\n",
              "      <td>00:03</td>\n",
              "    </tr>\n",
              "    <tr>\n",
              "      <td>4</td>\n",
              "      <td>0.905442</td>\n",
              "      <td>0.396829</td>\n",
              "      <td>0.870000</td>\n",
              "      <td>00:03</td>\n",
              "    </tr>\n",
              "    <tr>\n",
              "      <td>5</td>\n",
              "      <td>0.595063</td>\n",
              "      <td>0.210521</td>\n",
              "      <td>0.937500</td>\n",
              "      <td>00:03</td>\n",
              "    </tr>\n",
              "    <tr>\n",
              "      <td>6</td>\n",
              "      <td>0.394021</td>\n",
              "      <td>0.132178</td>\n",
              "      <td>0.962500</td>\n",
              "      <td>00:03</td>\n",
              "    </tr>\n",
              "    <tr>\n",
              "      <td>7</td>\n",
              "      <td>0.255555</td>\n",
              "      <td>0.116150</td>\n",
              "      <td>0.972500</td>\n",
              "      <td>00:03</td>\n",
              "    </tr>\n",
              "    <tr>\n",
              "      <td>8</td>\n",
              "      <td>0.166845</td>\n",
              "      <td>0.107853</td>\n",
              "      <td>0.975000</td>\n",
              "      <td>00:03</td>\n",
              "    </tr>\n",
              "    <tr>\n",
              "      <td>9</td>\n",
              "      <td>0.111333</td>\n",
              "      <td>0.102718</td>\n",
              "      <td>0.975000</td>\n",
              "      <td>00:03</td>\n",
              "    </tr>\n",
              "  </tbody>\n",
              "</table>"
            ],
            "text/plain": [
              "<IPython.core.display.HTML object>"
            ]
          },
          "metadata": {
            "tags": []
          }
        }
      ]
    },
    {
      "cell_type": "code",
      "metadata": {
        "id": "wyD0yR2DQlzl"
      },
      "source": [
        "learn.unfreeze()"
      ],
      "execution_count": null,
      "outputs": []
    },
    {
      "cell_type": "code",
      "metadata": {
        "id": "ThsA4yxwzdQX",
        "colab": {
          "base_uri": "https://localhost:8080/",
          "height": 112
        },
        "outputId": "2f66d0da-5050-4f09-9377-8b942b17cb24"
      },
      "source": [
        "learn.fit_one_cycle(2, slice(1e-4, 4e-3))"
      ],
      "execution_count": null,
      "outputs": [
        {
          "output_type": "display_data",
          "data": {
            "text/html": [
              "<table border=\"1\" class=\"dataframe\">\n",
              "  <thead>\n",
              "    <tr style=\"text-align: left;\">\n",
              "      <th>epoch</th>\n",
              "      <th>train_loss</th>\n",
              "      <th>valid_loss</th>\n",
              "      <th>accuracy</th>\n",
              "      <th>time</th>\n",
              "    </tr>\n",
              "  </thead>\n",
              "  <tbody>\n",
              "    <tr>\n",
              "      <td>0</td>\n",
              "      <td>0.075574</td>\n",
              "      <td>0.518465</td>\n",
              "      <td>0.845000</td>\n",
              "      <td>00:03</td>\n",
              "    </tr>\n",
              "    <tr>\n",
              "      <td>1</td>\n",
              "      <td>0.076401</td>\n",
              "      <td>0.119830</td>\n",
              "      <td>0.962500</td>\n",
              "      <td>00:03</td>\n",
              "    </tr>\n",
              "  </tbody>\n",
              "</table>"
            ],
            "text/plain": [
              "<IPython.core.display.HTML object>"
            ]
          },
          "metadata": {
            "tags": []
          }
        }
      ]
    },
    {
      "cell_type": "code",
      "metadata": {
        "id": "kg6bta1zzdyS",
        "colab": {
          "base_uri": "https://localhost:8080/",
          "height": 311
        },
        "outputId": "dbed0680-1e12-4013-aa38-a4154332dcc3"
      },
      "source": [
        "interp = ClassificationInterpretation.from_learner(learn)\n",
        "interp.plot_confusion_matrix()"
      ],
      "execution_count": null,
      "outputs": [
        {
          "output_type": "display_data",
          "data": {
            "text/html": [
              ""
            ],
            "text/plain": [
              "<IPython.core.display.HTML object>"
            ]
          },
          "metadata": {
            "tags": []
          }
        },
        {
          "output_type": "display_data",
          "data": {
            "image/png": "[encoded data removed]",
            "text/plain": [
              "<Figure size 432x288 with 1 Axes>"
            ]
          },
          "metadata": {
            "tags": []
          }
        }
      ]
    },
    {
      "cell_type": "code",
      "metadata": {
        "id": "IugbYSebzhLI",
        "colab": {
          "base_uri": "https://localhost:8080/",
          "height": 36
        },
        "outputId": "ad308aae-7522-4ff8-fb54-860a239205c3"
      },
      "source": [
        "preds = learn.predict(data.ls()[21])\n",
        "preds[0], data.ls()[21]"
      ],
      "execution_count": null,
      "outputs": [
        {
          "output_type": "display_data",
          "data": {
            "text/html": [
              ""
            ],
            "text/plain": [
              "<IPython.core.display.HTML object>"
            ]
          },
          "metadata": {
            "tags": []
          }
        },
        {
          "output_type": "execute_result",
          "data": {
            "text/plain": [
              "('8', Path('/root/.fastai/data/recordings.tar/recordings/8_theo_29.wav'))"
            ]
          },
          "metadata": {
            "tags": []
          },
          "execution_count": 20
        }
      ]
    },
    {
      "cell_type": "code",
      "metadata": {
        "id": "TIkrZHrmz7D-",
        "colab": {
          "base_uri": "https://localhost:8080/",
          "height": 36
        },
        "outputId": "838ccf2f-2d46-4012-a4aa-1f4ca0b09491"
      },
      "source": [
        "interp.most_confused(min_val=3)"
      ],
      "execution_count": null,
      "outputs": [
        {
          "output_type": "execute_result",
          "data": {
            "text/plain": [
              "[('5', '1', 3), ('5', '4', 3)]"
            ]
          },
          "metadata": {
            "tags": []
          },
          "execution_count": 21
        }
      ]
    },
    {
      "cell_type": "code",
      "metadata": {
        "id": "wj_cdqw40HrF"
      },
      "source": [],
      "execution_count": null,
      "outputs": []
    }
  ]
}