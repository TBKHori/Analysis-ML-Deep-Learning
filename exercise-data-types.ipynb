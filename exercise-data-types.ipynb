{
 "cells": [
  {
   "cell_type": "markdown",
   "id": "cdbbf706",
   "metadata": {
    "papermill": {
     "duration": 0.006012,
     "end_time": "2023-05-18T22:49:21.437009",
     "exception": false,
     "start_time": "2023-05-18T22:49:21.430997",
     "status": "completed"
    },
    "tags": []
   },
   "source": [
    "**This notebook is an exercise in the [Intro to Programming](https://www.kaggle.com/learn/intro-to-programming) course.  You can reference the tutorial at [this link](https://www.kaggle.com/alexisbcook/data-types).**\n",
    "\n",
    "---\n"
   ]
  },
  {
   "cell_type": "markdown",
   "id": "e7f78213",
   "metadata": {
    "papermill": {
     "duration": 0.005144,
     "end_time": "2023-05-18T22:49:21.447711",
     "exception": false,
     "start_time": "2023-05-18T22:49:21.442567",
     "status": "completed"
    },
    "tags": []
   },
   "source": [
    "In the tutorial, you learned about four different data types: floats, integers, strings, and booleans.  In this exercise, you'll experiment with them.\n",
    "\n",
    "# Set up the notebook\n",
    "\n",
    "Run the next code cell without changes to set up the notebook."
   ]
  },
  {
   "cell_type": "code",
   "execution_count": 1,
   "id": "0adac0ee",
   "metadata": {
    "execution": {
     "iopub.execute_input": "2023-05-18T22:49:21.461185Z",
     "iopub.status.busy": "2023-05-18T22:49:21.460427Z",
     "iopub.status.idle": "2023-05-18T22:49:21.516859Z",
     "shell.execute_reply": "2023-05-18T22:49:21.515485Z"
    },
    "papermill": {
     "duration": 0.065386,
     "end_time": "2023-05-18T22:49:21.518790",
     "exception": false,
     "start_time": "2023-05-18T22:49:21.453404",
     "status": "completed"
    },
    "tags": []
   },
   "outputs": [
    {
     "name": "stdout",
     "output_type": "stream",
     "text": [
      "Setup complete.\n"
     ]
    }
   ],
   "source": [
    "# Set up the exercise\n",
    "from learntools.core import binder\n",
    "binder.bind(globals())\n",
    "from learntools.intro_to_programming.ex3 import *\n",
    "print('Setup complete.')"
   ]
  },
  {
   "cell_type": "markdown",
   "id": "1ccc595e",
   "metadata": {
    "papermill": {
     "duration": 0.005097,
     "end_time": "2023-05-18T22:49:21.529441",
     "exception": false,
     "start_time": "2023-05-18T22:49:21.524344",
     "status": "completed"
    },
    "tags": []
   },
   "source": [
    "# Question 1\n",
    "\n",
    "You have seen how to convert a float to an integer with the `int` function.  Try this out yourself by running the code cell below."
   ]
  },
  {
   "cell_type": "code",
   "execution_count": 2,
   "id": "7605c222",
   "metadata": {
    "execution": {
     "iopub.execute_input": "2023-05-18T22:49:21.541483Z",
     "iopub.status.busy": "2023-05-18T22:49:21.541104Z",
     "iopub.status.idle": "2023-05-18T22:49:21.546857Z",
     "shell.execute_reply": "2023-05-18T22:49:21.545766Z"
    },
    "papermill": {
     "duration": 0.013964,
     "end_time": "2023-05-18T22:49:21.548603",
     "exception": false,
     "start_time": "2023-05-18T22:49:21.534639",
     "status": "completed"
    },
    "tags": []
   },
   "outputs": [
    {
     "name": "stdout",
     "output_type": "stream",
     "text": [
      "1.0\n",
      "<class 'float'>\n",
      "1\n",
      "<class 'int'>\n"
     ]
    }
   ],
   "source": [
    "# Define a float\n",
    "y = 1.\n",
    "print(y)\n",
    "print(type(y))\n",
    "\n",
    "# Convert float to integer with the int function\n",
    "z = int(y)\n",
    "print(z)\n",
    "print(type(z))"
   ]
  },
  {
   "cell_type": "markdown",
   "id": "e87308e5",
   "metadata": {
    "papermill": {
     "duration": 0.005049,
     "end_time": "2023-05-18T22:49:21.559059",
     "exception": false,
     "start_time": "2023-05-18T22:49:21.554010",
     "status": "completed"
    },
    "tags": []
   },
   "source": [
    "In this case, the float you are using has no numbers after the decimal.  \n",
    "- But what happens when you try to convert a float with a fractional part to an integer?  \n",
    "- How does the outcome of the `int` function change for positive and negative numbers?\n",
    "\n",
    "Use the next code cell to investigate and answer these questions.  Feel free to add or remove any lines of code -- it is your workspace!"
   ]
  },
  {
   "cell_type": "code",
   "execution_count": 3,
   "id": "e9e0033b",
   "metadata": {
    "execution": {
     "iopub.execute_input": "2023-05-18T22:49:21.571118Z",
     "iopub.status.busy": "2023-05-18T22:49:21.570794Z",
     "iopub.status.idle": "2023-05-18T22:49:21.575751Z",
     "shell.execute_reply": "2023-05-18T22:49:21.574926Z"
    },
    "papermill": {
     "duration": 0.013217,
     "end_time": "2023-05-18T22:49:21.577553",
     "exception": false,
     "start_time": "2023-05-18T22:49:21.564336",
     "status": "completed"
    },
    "tags": []
   },
   "outputs": [
    {
     "name": "stdout",
     "output_type": "stream",
     "text": [
      "1\n",
      "1\n",
      "-3\n",
      "-2\n"
     ]
    }
   ],
   "source": [
    "# Uncomment and run this code to get started!\n",
    "print(int(1.2321))\n",
    "print(int(1.747))\n",
    "print(int(-3.94535))\n",
    "print(int(-2.19774))"
   ]
  },
  {
   "cell_type": "markdown",
   "id": "1424abe8",
   "metadata": {
    "papermill": {
     "duration": 0.005446,
     "end_time": "2023-05-18T22:49:21.588582",
     "exception": false,
     "start_time": "2023-05-18T22:49:21.583136",
     "status": "completed"
    },
    "tags": []
   },
   "source": [
    "Once you have an answer, run the code cell below to see the solution.  Viewing the solution will give you credit for answering the problem."
   ]
  },
  {
   "cell_type": "code",
   "execution_count": 4,
   "id": "ab9ab79e",
   "metadata": {
    "execution": {
     "iopub.execute_input": "2023-05-18T22:49:21.601978Z",
     "iopub.status.busy": "2023-05-18T22:49:21.600564Z",
     "iopub.status.idle": "2023-05-18T22:49:21.610147Z",
     "shell.execute_reply": "2023-05-18T22:49:21.609428Z"
    },
    "papermill": {
     "duration": 0.017917,
     "end_time": "2023-05-18T22:49:21.611901",
     "exception": false,
     "start_time": "2023-05-18T22:49:21.593984",
     "status": "completed"
    },
    "tags": []
   },
   "outputs": [
    {
     "data": {
      "application/javascript": [
       "parent.postMessage({\"jupyterEvent\": \"custom.exercise_interaction\", \"data\": {\"outcomeType\": 1, \"valueTowardsCompletion\": 0.2, \"interactionType\": 1, \"questionType\": 4, \"questionId\": \"1_FloatToInt\", \"learnToolsVersion\": \"0.3.4\", \"failureMessage\": \"\", \"exceptionClass\": \"\", \"trace\": \"\"}}, \"*\")"
      ],
      "text/plain": [
       "<IPython.core.display.Javascript object>"
      ]
     },
     "metadata": {},
     "output_type": "display_data"
    },
    {
     "data": {
      "text/markdown": [
       "<span style=\"color:#33cc33\">Correct:</span> \n",
       "\n",
       "Negative floats are always rounded UP to the closest integer (for instance, both -1.1 and -1.9 are rounded up to -1). Positive floats are always rounded DOWN to the closest integer (for instance, 2.1 and 2.9 are rounded down to 2)."
      ],
      "text/plain": [
       "Correct: \n",
       "\n",
       "Negative floats are always rounded UP to the closest integer (for instance, both -1.1 and -1.9 are rounded up to -1). Positive floats are always rounded DOWN to the closest integer (for instance, 2.1 and 2.9 are rounded down to 2)."
      ]
     },
     "metadata": {},
     "output_type": "display_data"
    }
   ],
   "source": [
    "# Check your answer (Run this code cell to receive credit!)\n",
    "q1.check()"
   ]
  },
  {
   "cell_type": "markdown",
   "id": "b0444b51",
   "metadata": {
    "papermill": {
     "duration": 0.005534,
     "end_time": "2023-05-18T22:49:21.623628",
     "exception": false,
     "start_time": "2023-05-18T22:49:21.618094",
     "status": "completed"
    },
    "tags": []
   },
   "source": [
    "# Question 2\n",
    "\n",
    "In the tutorial, you learned about booleans (which can take a value of `True` or `False`), in addition to integers, floats, and strings.  For this question, your goal is to determine what happens when you multiply a boolean by any of these data types.  Specifically, \n",
    "- What happens when you multiply an integer or float by `True`?  What happens when you multiply them by `False`?  How does the answer change if the numbers are positive or negative?\n",
    "- What happens when you multiply a string by `True`?  By `False`?\n",
    "\n",
    "Use the next code cell for your investigation. "
   ]
  },
  {
   "cell_type": "code",
   "execution_count": 5,
   "id": "d274bdf4",
   "metadata": {
    "execution": {
     "iopub.execute_input": "2023-05-18T22:49:21.636757Z",
     "iopub.status.busy": "2023-05-18T22:49:21.636237Z",
     "iopub.status.idle": "2023-05-18T22:49:21.641023Z",
     "shell.execute_reply": "2023-05-18T22:49:21.640073Z"
    },
    "papermill": {
     "duration": 0.01395,
     "end_time": "2023-05-18T22:49:21.643303",
     "exception": false,
     "start_time": "2023-05-18T22:49:21.629353",
     "status": "completed"
    },
    "tags": []
   },
   "outputs": [
    {
     "name": "stdout",
     "output_type": "stream",
     "text": [
      "3\n",
      "-3.1\n",
      "<class 'str'>\n",
      "0\n"
     ]
    }
   ],
   "source": [
    "# Uncomment and run this code to get started!\n",
    "print(3 * True)\n",
    "print(-3.1 * True)\n",
    "print(type(\"abc\" * False))\n",
    "print(len(\"abc\" * False))"
   ]
  },
  {
   "cell_type": "markdown",
   "id": "30fce951",
   "metadata": {
    "papermill": {
     "duration": 0.005756,
     "end_time": "2023-05-18T22:49:21.655267",
     "exception": false,
     "start_time": "2023-05-18T22:49:21.649511",
     "status": "completed"
    },
    "tags": []
   },
   "source": [
    "Once you have an answer, run the code cell below to see the solution.  Viewing the solution will give you credit for answering the problem."
   ]
  },
  {
   "cell_type": "code",
   "execution_count": 6,
   "id": "21a3efd5",
   "metadata": {
    "execution": {
     "iopub.execute_input": "2023-05-18T22:49:21.669150Z",
     "iopub.status.busy": "2023-05-18T22:49:21.668768Z",
     "iopub.status.idle": "2023-05-18T22:49:21.676905Z",
     "shell.execute_reply": "2023-05-18T22:49:21.675436Z"
    },
    "papermill": {
     "duration": 0.017526,
     "end_time": "2023-05-18T22:49:21.678919",
     "exception": false,
     "start_time": "2023-05-18T22:49:21.661393",
     "status": "completed"
    },
    "tags": []
   },
   "outputs": [
    {
     "data": {
      "application/javascript": [
       "parent.postMessage({\"jupyterEvent\": \"custom.exercise_interaction\", \"data\": {\"outcomeType\": 1, \"valueTowardsCompletion\": 0.2, \"interactionType\": 1, \"questionType\": 4, \"questionId\": \"2_MultiplyBooleans\", \"learnToolsVersion\": \"0.3.4\", \"failureMessage\": \"\", \"exceptionClass\": \"\", \"trace\": \"\"}}, \"*\")"
      ],
      "text/plain": [
       "<IPython.core.display.Javascript object>"
      ]
     },
     "metadata": {},
     "output_type": "display_data"
    },
    {
     "data": {
      "text/markdown": [
       "<span style=\"color:#33cc33\">Correct:</span> \n",
       "\n",
       "When you multiple an integer or float by a boolean with value `True`, it just returns that same integer or float (and is equivalent to multiplying by 1).  If you multiply an integer or float by a boolean with value `False`, it always returns 0.  This is true for both positive and negative numbers.  If you multiply a string by a boolean with value `True`, it just returns that same string.  And if you multiply a string by a boolean with value `False`, it returns an empty string (or a string with length zero)."
      ],
      "text/plain": [
       "Correct: \n",
       "\n",
       "When you multiple an integer or float by a boolean with value `True`, it just returns that same integer or float (and is equivalent to multiplying by 1).  If you multiply an integer or float by a boolean with value `False`, it always returns 0.  This is true for both positive and negative numbers.  If you multiply a string by a boolean with value `True`, it just returns that same string.  And if you multiply a string by a boolean with value `False`, it returns an empty string (or a string with length zero)."
      ]
     },
     "metadata": {},
     "output_type": "display_data"
    }
   ],
   "source": [
    "# Check your answer (Run this code cell to receive credit!)\n",
    "q2.check()"
   ]
  },
  {
   "cell_type": "markdown",
   "id": "ab7348d7",
   "metadata": {
    "papermill": {
     "duration": 0.005681,
     "end_time": "2023-05-18T22:49:21.691094",
     "exception": false,
     "start_time": "2023-05-18T22:49:21.685413",
     "status": "completed"
    },
    "tags": []
   },
   "source": [
    "# Question 3\n",
    "\n",
    "In this question, you will build off your work from the previous exercise to write a function that estimates the value of a house.\n",
    "\n",
    "Use the next code cell to create a function `get_expected_cost` that takes as input three variables:\n",
    "- `beds` - number of bedrooms (data type float)\n",
    "- `baths` - number of bathrooms (data type float)\n",
    "- `has_basement` - whether or not the house has a basement (data type boolean)\n",
    "\n",
    "It should return the expected cost of a house with those characteristics. Assume that:\n",
    "- the expected cost for a house with 0 bedrooms and 0 bathrooms, and no basement is 80000, \n",
    "- each bedroom adds 30000 to the expected cost,\n",
    "- each bathroom adds 10000 to the expected cost, and\n",
    "- a basement adds 40000 to the expected cost.\n",
    "\n",
    "For instance,\n",
    "- a house with 1 bedroom, 1 bathroom, and no basement has an expected cost of 80000 + 30000 + 10000 = 120000.  This value will be calculated with `get_expected_cost(1, 1, False)`.\n",
    "- a house with 2 bedrooms, 1 bathroom, and a basement has an expected cost of 80000 + 2*30000 + 10000 + 40000 = 190000.  This value will be calculated with `get_expected_cost(2, 1, True)`.\n",
    "\n",
    "Remember you can always get a hint by uncommenting `q3.hint()` in the code cell following the next!"
   ]
  },
  {
   "cell_type": "code",
   "execution_count": 7,
   "id": "49e61fc8",
   "metadata": {
    "execution": {
     "iopub.execute_input": "2023-05-18T22:49:21.705835Z",
     "iopub.status.busy": "2023-05-18T22:49:21.705425Z",
     "iopub.status.idle": "2023-05-18T22:49:21.713322Z",
     "shell.execute_reply": "2023-05-18T22:49:21.712390Z"
    },
    "papermill": {
     "duration": 0.017867,
     "end_time": "2023-05-18T22:49:21.715369",
     "exception": false,
     "start_time": "2023-05-18T22:49:21.697502",
     "status": "completed"
    },
    "tags": []
   },
   "outputs": [
    {
     "data": {
      "application/javascript": [
       "parent.postMessage({\"jupyterEvent\": \"custom.exercise_interaction\", \"data\": {\"outcomeType\": 1, \"valueTowardsCompletion\": 0.2, \"interactionType\": 1, \"questionType\": 2, \"questionId\": \"3_EstimateHouseValueBool\", \"learnToolsVersion\": \"0.3.4\", \"failureMessage\": \"\", \"exceptionClass\": \"\", \"trace\": \"\"}}, \"*\")"
      ],
      "text/plain": [
       "<IPython.core.display.Javascript object>"
      ]
     },
     "metadata": {},
     "output_type": "display_data"
    },
    {
     "data": {
      "text/markdown": [
       "<span style=\"color:#33cc33\">Correct</span>"
      ],
      "text/plain": [
       "Correct"
      ]
     },
     "metadata": {},
     "output_type": "display_data"
    }
   ],
   "source": [
    "# TODO: Complete the function\n",
    "def get_expected_cost(beds, baths, has_basement):\n",
    "    value = 80000 + 30000 * beds + 10000 * baths + 40000 * has_basement\n",
    "    return value\n",
    "\n",
    "# Check your answer \n",
    "q3.check()"
   ]
  },
  {
   "cell_type": "code",
   "execution_count": 8,
   "id": "49ea4616",
   "metadata": {
    "execution": {
     "iopub.execute_input": "2023-05-18T22:49:21.732433Z",
     "iopub.status.busy": "2023-05-18T22:49:21.730359Z",
     "iopub.status.idle": "2023-05-18T22:49:21.735454Z",
     "shell.execute_reply": "2023-05-18T22:49:21.734630Z"
    },
    "papermill": {
     "duration": 0.015364,
     "end_time": "2023-05-18T22:49:21.737812",
     "exception": false,
     "start_time": "2023-05-18T22:49:21.722448",
     "status": "completed"
    },
    "tags": []
   },
   "outputs": [],
   "source": [
    "# Uncomment to see a hint\n",
    "#q3.hint()\n",
    "\n",
    "# Uncomment to view the solution\n",
    "#q3.solution()"
   ]
  },
  {
   "cell_type": "markdown",
   "id": "c82d6079",
   "metadata": {
    "papermill": {
     "duration": 0.006113,
     "end_time": "2023-05-18T22:49:21.750632",
     "exception": false,
     "start_time": "2023-05-18T22:49:21.744519",
     "status": "completed"
    },
    "tags": []
   },
   "source": [
    "# Question 4\n",
    "\n",
    "We'll continue our study of boolean arithmetic.  For this question, your task is to provide a description of what happpens when you add booleans. \n",
    "\n",
    "Use the next code cell for your investigation.  Feel free to add or remove any lines of code - use it as your workspace!"
   ]
  },
  {
   "cell_type": "code",
   "execution_count": 9,
   "id": "825cce78",
   "metadata": {
    "execution": {
     "iopub.execute_input": "2023-05-18T22:49:21.765278Z",
     "iopub.status.busy": "2023-05-18T22:49:21.764889Z",
     "iopub.status.idle": "2023-05-18T22:49:21.771249Z",
     "shell.execute_reply": "2023-05-18T22:49:21.769546Z"
    },
    "papermill": {
     "duration": 0.016671,
     "end_time": "2023-05-18T22:49:21.773951",
     "exception": false,
     "start_time": "2023-05-18T22:49:21.757280",
     "status": "completed"
    },
    "tags": []
   },
   "outputs": [
    {
     "name": "stdout",
     "output_type": "stream",
     "text": [
      "0\n",
      "1\n",
      "1\n",
      "2\n",
      "3\n"
     ]
    }
   ],
   "source": [
    "print(False + False)\n",
    "print(True + False)\n",
    "print(False + True)\n",
    "print(True + True)\n",
    "print(False + True + True + True)"
   ]
  },
  {
   "cell_type": "markdown",
   "id": "56934048",
   "metadata": {
    "papermill": {
     "duration": 0.006303,
     "end_time": "2023-05-18T22:49:21.787149",
     "exception": false,
     "start_time": "2023-05-18T22:49:21.780846",
     "status": "completed"
    },
    "tags": []
   },
   "source": [
    "Once you have an answer, run the code cell below to see the solution.  Viewing the solution will give you credit for answering the problem."
   ]
  },
  {
   "cell_type": "code",
   "execution_count": 10,
   "id": "c93ca642",
   "metadata": {
    "execution": {
     "iopub.execute_input": "2023-05-18T22:49:21.802906Z",
     "iopub.status.busy": "2023-05-18T22:49:21.802565Z",
     "iopub.status.idle": "2023-05-18T22:49:21.809801Z",
     "shell.execute_reply": "2023-05-18T22:49:21.808527Z"
    },
    "papermill": {
     "duration": 0.018512,
     "end_time": "2023-05-18T22:49:21.812502",
     "exception": false,
     "start_time": "2023-05-18T22:49:21.793990",
     "status": "completed"
    },
    "tags": []
   },
   "outputs": [
    {
     "data": {
      "application/javascript": [
       "parent.postMessage({\"jupyterEvent\": \"custom.exercise_interaction\", \"data\": {\"outcomeType\": 1, \"valueTowardsCompletion\": 0.2, \"interactionType\": 1, \"questionType\": 4, \"questionId\": \"4_AddingBooleans\", \"learnToolsVersion\": \"0.3.4\", \"failureMessage\": \"\", \"exceptionClass\": \"\", \"trace\": \"\"}}, \"*\")"
      ],
      "text/plain": [
       "<IPython.core.display.Javascript object>"
      ]
     },
     "metadata": {},
     "output_type": "display_data"
    },
    {
     "data": {
      "text/markdown": [
       "<span style=\"color:#33cc33\">Correct:</span> \n",
       "\n",
       "When you add booleans, adding `False` is equivalent to adding 0, and adding `True` is equivalent to adding 1."
      ],
      "text/plain": [
       "Correct: \n",
       "\n",
       "When you add booleans, adding `False` is equivalent to adding 0, and adding `True` is equivalent to adding 1."
      ]
     },
     "metadata": {},
     "output_type": "display_data"
    }
   ],
   "source": [
    "# Check your answer (Run this code cell to receive credit!)\n",
    "q4.check()"
   ]
  },
  {
   "cell_type": "markdown",
   "id": "bdaaeec5",
   "metadata": {
    "papermill": {
     "duration": 0.006579,
     "end_time": "2023-05-18T22:49:21.826130",
     "exception": false,
     "start_time": "2023-05-18T22:49:21.819551",
     "status": "completed"
    },
    "tags": []
   },
   "source": [
    "# 🌶️ Question 5\n",
    "\n",
    "You own an online shop where you sell rings with custom engravings.  You offer both gold plated and solid gold rings.\n",
    "- Gold plated rings have a base cost of \\\\$50, and you charge \\\\$7 per engraved unit.  \n",
    "- Solid gold rings have a base cost of \\\\$100, and you charge \\\\$10 per engraved unit.\n",
    "- Spaces and punctuation are counted as engraved units.\n",
    "\n",
    "Write a function `cost_of_project()` that takes two arguments:\n",
    "- `engraving` - a Python string with the text of the engraving\n",
    "- `solid_gold` - a Boolean that indicates whether the ring is solid gold\n",
    "\n",
    "It should return the cost of the project.  This question should be fairly challenging, and you may need a hint."
   ]
  },
  {
   "cell_type": "code",
   "execution_count": 11,
   "id": "ac80a1d5",
   "metadata": {
    "execution": {
     "iopub.execute_input": "2023-05-18T22:49:21.841223Z",
     "iopub.status.busy": "2023-05-18T22:49:21.840840Z",
     "iopub.status.idle": "2023-05-18T22:49:21.848955Z",
     "shell.execute_reply": "2023-05-18T22:49:21.847797Z"
    },
    "papermill": {
     "duration": 0.018825,
     "end_time": "2023-05-18T22:49:21.851728",
     "exception": false,
     "start_time": "2023-05-18T22:49:21.832903",
     "status": "completed"
    },
    "tags": []
   },
   "outputs": [
    {
     "data": {
      "application/javascript": [
       "parent.postMessage({\"jupyterEvent\": \"custom.exercise_interaction\", \"data\": {\"outcomeType\": 1, \"valueTowardsCompletion\": 0.2, \"interactionType\": 1, \"questionType\": 2, \"questionId\": \"5_CustomEngravings\", \"learnToolsVersion\": \"0.3.4\", \"failureMessage\": \"\", \"exceptionClass\": \"\", \"trace\": \"\"}}, \"*\")"
      ],
      "text/plain": [
       "<IPython.core.display.Javascript object>"
      ]
     },
     "metadata": {},
     "output_type": "display_data"
    },
    {
     "data": {
      "text/markdown": [
       "<span style=\"color:#33cc33\">Correct</span>"
      ],
      "text/plain": [
       "Correct"
      ]
     },
     "metadata": {},
     "output_type": "display_data"
    }
   ],
   "source": [
    "def cost_of_project(engraving, solid_gold):\n",
    "    cost = solid_gold * (100 + 10 * len(engraving)) + (not solid_gold) * (50 + 7 * len(engraving))\n",
    "    return cost\n",
    "\n",
    "# Check your answer\n",
    "q5.check()"
   ]
  },
  {
   "cell_type": "code",
   "execution_count": 12,
   "id": "f6e09c05",
   "metadata": {
    "execution": {
     "iopub.execute_input": "2023-05-18T22:49:21.867385Z",
     "iopub.status.busy": "2023-05-18T22:49:21.867043Z",
     "iopub.status.idle": "2023-05-18T22:49:21.870990Z",
     "shell.execute_reply": "2023-05-18T22:49:21.870135Z"
    },
    "papermill": {
     "duration": 0.014379,
     "end_time": "2023-05-18T22:49:21.873294",
     "exception": false,
     "start_time": "2023-05-18T22:49:21.858915",
     "status": "completed"
    },
    "tags": []
   },
   "outputs": [],
   "source": [
    "# Uncomment to see a hint\n",
    "#q5.hint()\n",
    "\n",
    "# Uncomment to view the solution\n",
    "#q5.solution()"
   ]
  },
  {
   "cell_type": "markdown",
   "id": "6e9874e7",
   "metadata": {
    "papermill": {
     "duration": 0.007213,
     "end_time": "2023-05-18T22:49:21.887716",
     "exception": false,
     "start_time": "2023-05-18T22:49:21.880503",
     "status": "completed"
    },
    "tags": []
   },
   "source": [
    "Run the next code cell to calculate the cost of engraving `Charlie+Denver` on a solid gold ring."
   ]
  },
  {
   "cell_type": "code",
   "execution_count": 13,
   "id": "36c1a340",
   "metadata": {
    "execution": {
     "iopub.execute_input": "2023-05-18T22:49:21.903931Z",
     "iopub.status.busy": "2023-05-18T22:49:21.903588Z",
     "iopub.status.idle": "2023-05-18T22:49:21.908404Z",
     "shell.execute_reply": "2023-05-18T22:49:21.907285Z"
    },
    "papermill": {
     "duration": 0.01575,
     "end_time": "2023-05-18T22:49:21.910991",
     "exception": false,
     "start_time": "2023-05-18T22:49:21.895241",
     "status": "completed"
    },
    "tags": []
   },
   "outputs": [
    {
     "name": "stdout",
     "output_type": "stream",
     "text": [
      "240\n"
     ]
    }
   ],
   "source": [
    "project_one = cost_of_project(\"Charlie+Denver\", True)\n",
    "print(project_one)"
   ]
  },
  {
   "cell_type": "markdown",
   "id": "64456368",
   "metadata": {
    "papermill": {
     "duration": 0.007506,
     "end_time": "2023-05-18T22:49:21.925855",
     "exception": false,
     "start_time": "2023-05-18T22:49:21.918349",
     "status": "completed"
    },
    "tags": []
   },
   "source": [
    "Use the next code cell to calculate the cost of engraving `08/10/2000` on a gold plated ring."
   ]
  },
  {
   "cell_type": "code",
   "execution_count": 14,
   "id": "1e25325c",
   "metadata": {
    "execution": {
     "iopub.execute_input": "2023-05-18T22:49:21.941153Z",
     "iopub.status.busy": "2023-05-18T22:49:21.940760Z",
     "iopub.status.idle": "2023-05-18T22:49:21.945903Z",
     "shell.execute_reply": "2023-05-18T22:49:21.944994Z"
    },
    "papermill": {
     "duration": 0.014882,
     "end_time": "2023-05-18T22:49:21.947694",
     "exception": false,
     "start_time": "2023-05-18T22:49:21.932812",
     "status": "completed"
    },
    "tags": []
   },
   "outputs": [
    {
     "name": "stdout",
     "output_type": "stream",
     "text": [
      "120\n"
     ]
    }
   ],
   "source": [
    "project_two = cost_of_project(\"08/10/2000\", False)\n",
    "print(project_two)"
   ]
  },
  {
   "cell_type": "markdown",
   "id": "08035f9a",
   "metadata": {
    "papermill": {
     "duration": 0.006828,
     "end_time": "2023-05-18T22:49:21.961615",
     "exception": false,
     "start_time": "2023-05-18T22:49:21.954787",
     "status": "completed"
    },
    "tags": []
   },
   "source": [
    "# Keep going\n",
    "\n",
    "Continue to the next lesson to **[learn about conditions and conditional statements](https://www.kaggle.com/alexisbcook/conditions-and-conditional-statements)**."
   ]
  },
  {
   "cell_type": "markdown",
   "id": "f99f369c",
   "metadata": {
    "papermill": {
     "duration": 0.006634,
     "end_time": "2023-05-18T22:49:21.975250",
     "exception": false,
     "start_time": "2023-05-18T22:49:21.968616",
     "status": "completed"
    },
    "tags": []
   },
   "source": [
    "---\n",
    "\n",
    "\n",
    "\n",
    "\n",
    "*Have questions or comments? Visit the [course discussion forum](https://www.kaggle.com/learn/intro-to-programming/discussion) to chat with other learners.*"
   ]
  }
 ],
 "metadata": {
  "kernelspec": {
   "display_name": "Python 3",
   "language": "python",
   "name": "python3"
  },
  "language_info": {
   "codemirror_mode": {
    "name": "ipython",
    "version": 3
   },
   "file_extension": ".py",
   "mimetype": "text/x-python",
   "name": "python",
   "nbconvert_exporter": "python",
   "pygments_lexer": "ipython3",
   "version": "3.10.10"
  },
  "papermill": {
   "default_parameters": {},
   "duration": 11.766955,
   "end_time": "2023-05-18T22:49:22.904118",
   "environment_variables": {},
   "exception": null,
   "input_path": "__notebook__.ipynb",
   "output_path": "__notebook__.ipynb",
   "parameters": {},
   "start_time": "2023-05-18T22:49:11.137163",
   "version": "2.4.0"
  }
 },
 "nbformat": 4,
 "nbformat_minor": 5
}
