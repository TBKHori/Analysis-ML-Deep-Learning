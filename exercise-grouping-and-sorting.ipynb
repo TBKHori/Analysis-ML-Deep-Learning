{
 "cells": [
  {
   "cell_type": "markdown",
   "id": "cd12d79f",
   "metadata": {
    "papermill": {
     "duration": 0.007765,
     "end_time": "2023-01-10T23:55:36.894343",
     "exception": false,
     "start_time": "2023-01-10T23:55:36.886578",
     "status": "completed"
    },
    "tags": []
   },
   "source": [
    "**This notebook is an exercise in the [Pandas](https://www.kaggle.com/learn/pandas) course.  You can reference the tutorial at [this link](https://www.kaggle.com/residentmario/grouping-and-sorting).**\n",
    "\n",
    "---\n"
   ]
  },
  {
   "cell_type": "markdown",
   "id": "21d5b4a9",
   "metadata": {
    "papermill": {
     "duration": 0.005414,
     "end_time": "2023-01-10T23:55:36.905839",
     "exception": false,
     "start_time": "2023-01-10T23:55:36.900425",
     "status": "completed"
    },
    "tags": []
   },
   "source": [
    "# Introduction\n",
    "\n",
    "In these exercises we'll apply groupwise analysis to our dataset.\n",
    "\n",
    "Run the code cell below to load the data before running the exercises."
   ]
  },
  {
   "cell_type": "code",
   "execution_count": 1,
   "id": "9208ced2",
   "metadata": {
    "execution": {
     "iopub.execute_input": "2023-01-10T23:55:36.919707Z",
     "iopub.status.busy": "2023-01-10T23:55:36.918935Z",
     "iopub.status.idle": "2023-01-10T23:55:39.873112Z",
     "shell.execute_reply": "2023-01-10T23:55:39.871656Z"
    },
    "papermill": {
     "duration": 2.964916,
     "end_time": "2023-01-10T23:55:39.876500",
     "exception": false,
     "start_time": "2023-01-10T23:55:36.911584",
     "status": "completed"
    },
    "tags": []
   },
   "outputs": [
    {
     "name": "stdout",
     "output_type": "stream",
     "text": [
      "Setup complete.\n"
     ]
    }
   ],
   "source": [
    "import pandas as pd\n",
    "\n",
    "reviews = pd.read_csv(\"../input/wine-reviews/winemag-data-130k-v2.csv\", index_col=0)\n",
    "#pd.set_option(\"display.max_rows\", 5)\n",
    "\n",
    "from learntools.core import binder; binder.bind(globals())\n",
    "from learntools.pandas.grouping_and_sorting import *\n",
    "print(\"Setup complete.\")"
   ]
  },
  {
   "cell_type": "markdown",
   "id": "49c66f58",
   "metadata": {
    "papermill": {
     "duration": 0.005708,
     "end_time": "2023-01-10T23:55:39.888680",
     "exception": false,
     "start_time": "2023-01-10T23:55:39.882972",
     "status": "completed"
    },
    "tags": []
   },
   "source": [
    "# Exercises"
   ]
  },
  {
   "cell_type": "markdown",
   "id": "885335f6",
   "metadata": {
    "papermill": {
     "duration": 0.005604,
     "end_time": "2023-01-10T23:55:39.900135",
     "exception": false,
     "start_time": "2023-01-10T23:55:39.894531",
     "status": "completed"
    },
    "tags": []
   },
   "source": [
    "## 1.\n",
    "Who are the most common wine reviewers in the dataset? Create a `Series` whose index is the `taster_twitter_handle` category from the dataset, and whose values count how many reviews each person wrote."
   ]
  },
  {
   "cell_type": "code",
   "execution_count": 2,
   "id": "dfc2afb2",
   "metadata": {
    "execution": {
     "iopub.execute_input": "2023-01-10T23:55:39.914038Z",
     "iopub.status.busy": "2023-01-10T23:55:39.913341Z",
     "iopub.status.idle": "2023-01-10T23:55:39.942640Z",
     "shell.execute_reply": "2023-01-10T23:55:39.941462Z"
    },
    "papermill": {
     "duration": 0.039065,
     "end_time": "2023-01-10T23:55:39.944986",
     "exception": false,
     "start_time": "2023-01-10T23:55:39.905921",
     "status": "completed"
    },
    "tags": []
   },
   "outputs": [
    {
     "data": {
      "application/javascript": [
       "parent.postMessage({\"jupyterEvent\": \"custom.exercise_interaction\", \"data\": {\"outcomeType\": 1, \"valueTowardsCompletion\": 0.16666666666666666, \"interactionType\": 1, \"questionType\": 1, \"questionId\": \"1_ReviewsWritten\", \"learnToolsVersion\": \"0.3.4\", \"failureMessage\": \"\", \"exceptionClass\": \"\", \"trace\": \"\"}}, \"*\")"
      ],
      "text/plain": [
       "<IPython.core.display.Javascript object>"
      ]
     },
     "metadata": {},
     "output_type": "display_data"
    },
    {
     "data": {
      "text/markdown": [
       "<span style=\"color:#33cc33\">Correct:</span> \n",
       "\n",
       "\n",
       "```python\n",
       "reviews_written = reviews.groupby('taster_twitter_handle').size()\n",
       "```\n",
       "or\n",
       "```python\n",
       "reviews_written = reviews.groupby('taster_twitter_handle').taster_twitter_handle.count()\n",
       "```\n"
      ],
      "text/plain": [
       "Correct: \n",
       "\n",
       "\n",
       "```python\n",
       "reviews_written = reviews.groupby('taster_twitter_handle').size()\n",
       "```\n",
       "or\n",
       "```python\n",
       "reviews_written = reviews.groupby('taster_twitter_handle').taster_twitter_handle.count()\n",
       "```"
      ]
     },
     "metadata": {},
     "output_type": "display_data"
    }
   ],
   "source": [
    "# Your code here\n",
    "#reviews_written = reviews.groupby('taster_twitter_handle').size()\n",
    "reviews_written = reviews.groupby('taster_twitter_handle').taster_twitter_handle.count()\n",
    "\n",
    "# Check your answer\n",
    "q1.check()"
   ]
  },
  {
   "cell_type": "code",
   "execution_count": 3,
   "id": "afdedbeb",
   "metadata": {
    "execution": {
     "iopub.execute_input": "2023-01-10T23:55:39.959823Z",
     "iopub.status.busy": "2023-01-10T23:55:39.958712Z",
     "iopub.status.idle": "2023-01-10T23:55:39.963948Z",
     "shell.execute_reply": "2023-01-10T23:55:39.962910Z"
    },
    "papermill": {
     "duration": 0.014937,
     "end_time": "2023-01-10T23:55:39.966161",
     "exception": false,
     "start_time": "2023-01-10T23:55:39.951224",
     "status": "completed"
    },
    "tags": []
   },
   "outputs": [],
   "source": [
    "#q1.hint()\n",
    "#q1.solution()"
   ]
  },
  {
   "cell_type": "markdown",
   "id": "e2a7f064",
   "metadata": {
    "papermill": {
     "duration": 0.007552,
     "end_time": "2023-01-10T23:55:39.979997",
     "exception": false,
     "start_time": "2023-01-10T23:55:39.972445",
     "status": "completed"
    },
    "tags": []
   },
   "source": [
    "## 2.\n",
    "What is the best wine I can buy for a given amount of money? Create a `Series` whose index is wine prices and whose values is the maximum number of points a wine costing that much was given in a review. Sort the values by price, ascending (so that `4.0` dollars is at the top and `3300.0` dollars is at the bottom)."
   ]
  },
  {
   "cell_type": "code",
   "execution_count": 4,
   "id": "47ec9201",
   "metadata": {
    "execution": {
     "iopub.execute_input": "2023-01-10T23:55:39.994686Z",
     "iopub.status.busy": "2023-01-10T23:55:39.993996Z",
     "iopub.status.idle": "2023-01-10T23:55:40.009102Z",
     "shell.execute_reply": "2023-01-10T23:55:40.008051Z"
    },
    "papermill": {
     "duration": 0.025078,
     "end_time": "2023-01-10T23:55:40.011290",
     "exception": false,
     "start_time": "2023-01-10T23:55:39.986212",
     "status": "completed"
    },
    "tags": []
   },
   "outputs": [
    {
     "data": {
      "application/javascript": [
       "parent.postMessage({\"jupyterEvent\": \"custom.exercise_interaction\", \"data\": {\"outcomeType\": 1, \"valueTowardsCompletion\": 0.16666666666666666, \"interactionType\": 1, \"questionType\": 1, \"questionId\": \"2_BestRatingPerPrice\", \"learnToolsVersion\": \"0.3.4\", \"failureMessage\": \"\", \"exceptionClass\": \"\", \"trace\": \"\"}}, \"*\")"
      ],
      "text/plain": [
       "<IPython.core.display.Javascript object>"
      ]
     },
     "metadata": {},
     "output_type": "display_data"
    },
    {
     "data": {
      "text/markdown": [
       "<span style=\"color:#33cc33\">Correct</span>"
      ],
      "text/plain": [
       "Correct"
      ]
     },
     "metadata": {},
     "output_type": "display_data"
    }
   ],
   "source": [
    "best_rating_per_price = reviews.groupby('price')['points'].max().sort_index()\n",
    "\n",
    "# Check your answer\n",
    "q2.check()"
   ]
  },
  {
   "cell_type": "code",
   "execution_count": 5,
   "id": "270e2d13",
   "metadata": {
    "execution": {
     "iopub.execute_input": "2023-01-10T23:55:40.027139Z",
     "iopub.status.busy": "2023-01-10T23:55:40.026446Z",
     "iopub.status.idle": "2023-01-10T23:55:40.030900Z",
     "shell.execute_reply": "2023-01-10T23:55:40.030073Z"
    },
    "papermill": {
     "duration": 0.015369,
     "end_time": "2023-01-10T23:55:40.033239",
     "exception": false,
     "start_time": "2023-01-10T23:55:40.017870",
     "status": "completed"
    },
    "tags": []
   },
   "outputs": [],
   "source": [
    "#q2.hint()\n",
    "#q2.solution()"
   ]
  },
  {
   "cell_type": "markdown",
   "id": "2a18c99c",
   "metadata": {
    "papermill": {
     "duration": 0.006317,
     "end_time": "2023-01-10T23:55:40.046395",
     "exception": false,
     "start_time": "2023-01-10T23:55:40.040078",
     "status": "completed"
    },
    "tags": []
   },
   "source": [
    "## 3.\n",
    "What are the minimum and maximum prices for each `variety` of wine? Create a `DataFrame` whose index is the `variety` category from the dataset and whose values are the `min` and `max` values thereof."
   ]
  },
  {
   "cell_type": "code",
   "execution_count": 6,
   "id": "21e56927",
   "metadata": {
    "execution": {
     "iopub.execute_input": "2023-01-10T23:55:40.061702Z",
     "iopub.status.busy": "2023-01-10T23:55:40.061020Z",
     "iopub.status.idle": "2023-01-10T23:55:40.085830Z",
     "shell.execute_reply": "2023-01-10T23:55:40.084766Z"
    },
    "papermill": {
     "duration": 0.035213,
     "end_time": "2023-01-10T23:55:40.088196",
     "exception": false,
     "start_time": "2023-01-10T23:55:40.052983",
     "status": "completed"
    },
    "tags": []
   },
   "outputs": [
    {
     "data": {
      "application/javascript": [
       "parent.postMessage({\"jupyterEvent\": \"custom.exercise_interaction\", \"data\": {\"outcomeType\": 1, \"valueTowardsCompletion\": 0.16666666666666666, \"interactionType\": 1, \"questionType\": 1, \"questionId\": \"3_PriceExtremes\", \"learnToolsVersion\": \"0.3.4\", \"failureMessage\": \"\", \"exceptionClass\": \"\", \"trace\": \"\"}}, \"*\")"
      ],
      "text/plain": [
       "<IPython.core.display.Javascript object>"
      ]
     },
     "metadata": {},
     "output_type": "display_data"
    },
    {
     "data": {
      "text/markdown": [
       "<span style=\"color:#33cc33\">Correct</span>"
      ],
      "text/plain": [
       "Correct"
      ]
     },
     "metadata": {},
     "output_type": "display_data"
    }
   ],
   "source": [
    "price_extremes = reviews.groupby('variety').price.agg([min, max])\n",
    "\n",
    "# Check your answer\n",
    "q3.check()"
   ]
  },
  {
   "cell_type": "code",
   "execution_count": 7,
   "id": "f8668da1",
   "metadata": {
    "execution": {
     "iopub.execute_input": "2023-01-10T23:55:40.104506Z",
     "iopub.status.busy": "2023-01-10T23:55:40.103829Z",
     "iopub.status.idle": "2023-01-10T23:55:40.107540Z",
     "shell.execute_reply": "2023-01-10T23:55:40.106761Z"
    },
    "papermill": {
     "duration": 0.014005,
     "end_time": "2023-01-10T23:55:40.109620",
     "exception": false,
     "start_time": "2023-01-10T23:55:40.095615",
     "status": "completed"
    },
    "tags": []
   },
   "outputs": [],
   "source": [
    "#q3.hint()\n",
    "#q3.solution()"
   ]
  },
  {
   "cell_type": "markdown",
   "id": "1cd95b1f",
   "metadata": {
    "papermill": {
     "duration": 0.00628,
     "end_time": "2023-01-10T23:55:40.122600",
     "exception": false,
     "start_time": "2023-01-10T23:55:40.116320",
     "status": "completed"
    },
    "tags": []
   },
   "source": [
    "## 4.\n",
    "What are the most expensive wine varieties? Create a variable `sorted_varieties` containing a copy of the dataframe from the previous question where varieties are sorted in descending order based on minimum price, then on maximum price (to break ties)."
   ]
  },
  {
   "cell_type": "code",
   "execution_count": 8,
   "id": "27e4945f",
   "metadata": {
    "execution": {
     "iopub.execute_input": "2023-01-10T23:55:40.137869Z",
     "iopub.status.busy": "2023-01-10T23:55:40.137208Z",
     "iopub.status.idle": "2023-01-10T23:55:40.146680Z",
     "shell.execute_reply": "2023-01-10T23:55:40.145899Z"
    },
    "papermill": {
     "duration": 0.019734,
     "end_time": "2023-01-10T23:55:40.148953",
     "exception": false,
     "start_time": "2023-01-10T23:55:40.129219",
     "status": "completed"
    },
    "tags": []
   },
   "outputs": [
    {
     "data": {
      "application/javascript": [
       "parent.postMessage({\"jupyterEvent\": \"custom.exercise_interaction\", \"data\": {\"outcomeType\": 1, \"valueTowardsCompletion\": 0.16666666666666666, \"interactionType\": 1, \"questionType\": 1, \"questionId\": \"4_SortedVarieties\", \"learnToolsVersion\": \"0.3.4\", \"failureMessage\": \"\", \"exceptionClass\": \"\", \"trace\": \"\"}}, \"*\")"
      ],
      "text/plain": [
       "<IPython.core.display.Javascript object>"
      ]
     },
     "metadata": {},
     "output_type": "display_data"
    },
    {
     "data": {
      "text/markdown": [
       "<span style=\"color:#33cc33\">Correct</span>"
      ],
      "text/plain": [
       "Correct"
      ]
     },
     "metadata": {},
     "output_type": "display_data"
    }
   ],
   "source": [
    "sorted_varieties = price_extremes.sort_values(by=['min', 'max'], ascending=False)\n",
    "\n",
    "# Check your answer\n",
    "q4.check()"
   ]
  },
  {
   "cell_type": "code",
   "execution_count": 9,
   "id": "88e66747",
   "metadata": {
    "execution": {
     "iopub.execute_input": "2023-01-10T23:55:40.165010Z",
     "iopub.status.busy": "2023-01-10T23:55:40.164288Z",
     "iopub.status.idle": "2023-01-10T23:55:40.168145Z",
     "shell.execute_reply": "2023-01-10T23:55:40.167270Z"
    },
    "papermill": {
     "duration": 0.014494,
     "end_time": "2023-01-10T23:55:40.170375",
     "exception": false,
     "start_time": "2023-01-10T23:55:40.155881",
     "status": "completed"
    },
    "tags": []
   },
   "outputs": [],
   "source": [
    "#q4.hint()\n",
    "#q4.solution()"
   ]
  },
  {
   "cell_type": "markdown",
   "id": "33f0449f",
   "metadata": {
    "papermill": {
     "duration": 0.006552,
     "end_time": "2023-01-10T23:55:40.183824",
     "exception": false,
     "start_time": "2023-01-10T23:55:40.177272",
     "status": "completed"
    },
    "tags": []
   },
   "source": [
    "## 5.\n",
    "Create a `Series` whose index is reviewers and whose values is the average review score given out by that reviewer. Hint: you will need the `taster_name` and `points` columns."
   ]
  },
  {
   "cell_type": "code",
   "execution_count": 10,
   "id": "f3e88be7",
   "metadata": {
    "execution": {
     "iopub.execute_input": "2023-01-10T23:55:40.200683Z",
     "iopub.status.busy": "2023-01-10T23:55:40.200248Z",
     "iopub.status.idle": "2023-01-10T23:55:40.222734Z",
     "shell.execute_reply": "2023-01-10T23:55:40.221347Z"
    },
    "papermill": {
     "duration": 0.034511,
     "end_time": "2023-01-10T23:55:40.225719",
     "exception": false,
     "start_time": "2023-01-10T23:55:40.191208",
     "status": "completed"
    },
    "tags": []
   },
   "outputs": [
    {
     "data": {
      "application/javascript": [
       "parent.postMessage({\"jupyterEvent\": \"custom.exercise_interaction\", \"data\": {\"outcomeType\": 1, \"valueTowardsCompletion\": 0.16666666666666666, \"interactionType\": 1, \"questionType\": 1, \"questionId\": \"5_ReviewerMeanRatings\", \"learnToolsVersion\": \"0.3.4\", \"failureMessage\": \"\", \"exceptionClass\": \"\", \"trace\": \"\"}}, \"*\")"
      ],
      "text/plain": [
       "<IPython.core.display.Javascript object>"
      ]
     },
     "metadata": {},
     "output_type": "display_data"
    },
    {
     "data": {
      "text/markdown": [
       "<span style=\"color:#33cc33\">Correct</span>"
      ],
      "text/plain": [
       "Correct"
      ]
     },
     "metadata": {},
     "output_type": "display_data"
    }
   ],
   "source": [
    "reviewer_mean_ratings = reviews.groupby('taster_name').points.mean()\n",
    "\n",
    "# Check your answer\n",
    "q5.check()"
   ]
  },
  {
   "cell_type": "code",
   "execution_count": 11,
   "id": "1debd9c4",
   "metadata": {
    "execution": {
     "iopub.execute_input": "2023-01-10T23:55:40.248278Z",
     "iopub.status.busy": "2023-01-10T23:55:40.247406Z",
     "iopub.status.idle": "2023-01-10T23:55:40.252081Z",
     "shell.execute_reply": "2023-01-10T23:55:40.250940Z"
    },
    "papermill": {
     "duration": 0.01872,
     "end_time": "2023-01-10T23:55:40.254369",
     "exception": false,
     "start_time": "2023-01-10T23:55:40.235649",
     "status": "completed"
    },
    "tags": []
   },
   "outputs": [],
   "source": [
    "#q5.hint()\n",
    "#q5.solution()"
   ]
  },
  {
   "cell_type": "markdown",
   "id": "c9dc68bd",
   "metadata": {
    "papermill": {
     "duration": 0.008279,
     "end_time": "2023-01-10T23:55:40.270401",
     "exception": false,
     "start_time": "2023-01-10T23:55:40.262122",
     "status": "completed"
    },
    "tags": []
   },
   "source": [
    "Are there significant differences in the average scores assigned by the various reviewers? Run the cell below to use the `describe()` method to see a summary of the range of values."
   ]
  },
  {
   "cell_type": "code",
   "execution_count": 12,
   "id": "e47bc609",
   "metadata": {
    "execution": {
     "iopub.execute_input": "2023-01-10T23:55:40.292480Z",
     "iopub.status.busy": "2023-01-10T23:55:40.291397Z",
     "iopub.status.idle": "2023-01-10T23:55:40.306033Z",
     "shell.execute_reply": "2023-01-10T23:55:40.304871Z"
    },
    "papermill": {
     "duration": 0.029351,
     "end_time": "2023-01-10T23:55:40.308612",
     "exception": false,
     "start_time": "2023-01-10T23:55:40.279261",
     "status": "completed"
    },
    "tags": []
   },
   "outputs": [
    {
     "data": {
      "text/plain": [
       "count    19.000000\n",
       "mean     88.233026\n",
       "std       1.243610\n",
       "min      85.855422\n",
       "25%      87.323501\n",
       "50%      88.536235\n",
       "75%      88.975256\n",
       "max      90.562551\n",
       "Name: points, dtype: float64"
      ]
     },
     "execution_count": 12,
     "metadata": {},
     "output_type": "execute_result"
    }
   ],
   "source": [
    "reviewer_mean_ratings.describe()"
   ]
  },
  {
   "cell_type": "markdown",
   "id": "07932eeb",
   "metadata": {
    "papermill": {
     "duration": 0.007575,
     "end_time": "2023-01-10T23:55:40.323470",
     "exception": false,
     "start_time": "2023-01-10T23:55:40.315895",
     "status": "completed"
    },
    "tags": []
   },
   "source": [
    "## 6.\n",
    "What combination of countries and varieties are most common? Create a `Series` whose index is a `MultiIndex`of `{country, variety}` pairs. For example, a pinot noir produced in the US should map to `{\"US\", \"Pinot Noir\"}`. Sort the values in the `Series` in descending order based on wine count."
   ]
  },
  {
   "cell_type": "code",
   "execution_count": 13,
   "id": "22ed8d6c",
   "metadata": {
    "execution": {
     "iopub.execute_input": "2023-01-10T23:55:40.342972Z",
     "iopub.status.busy": "2023-01-10T23:55:40.342179Z",
     "iopub.status.idle": "2023-01-10T23:55:40.377199Z",
     "shell.execute_reply": "2023-01-10T23:55:40.375921Z"
    },
    "papermill": {
     "duration": 0.046989,
     "end_time": "2023-01-10T23:55:40.380063",
     "exception": false,
     "start_time": "2023-01-10T23:55:40.333074",
     "status": "completed"
    },
    "tags": []
   },
   "outputs": [
    {
     "data": {
      "application/javascript": [
       "parent.postMessage({\"jupyterEvent\": \"custom.exercise_interaction\", \"data\": {\"outcomeType\": 1, \"valueTowardsCompletion\": 0.16666666666666666, \"interactionType\": 1, \"questionType\": 1, \"questionId\": \"6_GroupbyCountryVariety\", \"learnToolsVersion\": \"0.3.4\", \"failureMessage\": \"\", \"exceptionClass\": \"\", \"trace\": \"\"}}, \"*\")"
      ],
      "text/plain": [
       "<IPython.core.display.Javascript object>"
      ]
     },
     "metadata": {},
     "output_type": "display_data"
    },
    {
     "data": {
      "text/markdown": [
       "<span style=\"color:#33cc33\">Correct</span>"
      ],
      "text/plain": [
       "Correct"
      ]
     },
     "metadata": {},
     "output_type": "display_data"
    }
   ],
   "source": [
    "country_variety_counts = reviews.groupby(['country', 'variety']).size().sort_values(ascending=False)\n",
    "\n",
    "# Check your answer\n",
    "q6.check()"
   ]
  },
  {
   "cell_type": "code",
   "execution_count": 14,
   "id": "2870be90",
   "metadata": {
    "execution": {
     "iopub.execute_input": "2023-01-10T23:55:40.397770Z",
     "iopub.status.busy": "2023-01-10T23:55:40.396647Z",
     "iopub.status.idle": "2023-01-10T23:55:40.401519Z",
     "shell.execute_reply": "2023-01-10T23:55:40.400699Z"
    },
    "papermill": {
     "duration": 0.01574,
     "end_time": "2023-01-10T23:55:40.403703",
     "exception": false,
     "start_time": "2023-01-10T23:55:40.387963",
     "status": "completed"
    },
    "tags": []
   },
   "outputs": [],
   "source": [
    "#q6.hint()\n",
    "#q6.solution()"
   ]
  },
  {
   "cell_type": "markdown",
   "id": "dffb8a7c",
   "metadata": {
    "papermill": {
     "duration": 0.007144,
     "end_time": "2023-01-10T23:55:40.418083",
     "exception": false,
     "start_time": "2023-01-10T23:55:40.410939",
     "status": "completed"
    },
    "tags": []
   },
   "source": [
    "# Keep going\n",
    "\n",
    "Move on to the [**data types and missing data**](https://www.kaggle.com/residentmario/data-types-and-missing-values)."
   ]
  },
  {
   "cell_type": "markdown",
   "id": "2be9d0d5",
   "metadata": {
    "papermill": {
     "duration": 0.007011,
     "end_time": "2023-01-10T23:55:40.432525",
     "exception": false,
     "start_time": "2023-01-10T23:55:40.425514",
     "status": "completed"
    },
    "tags": []
   },
   "source": [
    "---\n",
    "\n",
    "\n",
    "\n",
    "\n",
    "*Have questions or comments? Visit the [course discussion forum](https://www.kaggle.com/learn/pandas/discussion) to chat with other learners.*"
   ]
  }
 ],
 "metadata": {
  "kernelspec": {
   "display_name": "Python 3",
   "language": "python",
   "name": "python3"
  },
  "language_info": {
   "codemirror_mode": {
    "name": "ipython",
    "version": 3
   },
   "file_extension": ".py",
   "mimetype": "text/x-python",
   "name": "python",
   "nbconvert_exporter": "python",
   "pygments_lexer": "ipython3",
   "version": "3.7.12"
  },
  "papermill": {
   "default_parameters": {},
   "duration": 13.106717,
   "end_time": "2023-01-10T23:55:41.162531",
   "environment_variables": {},
   "exception": null,
   "input_path": "__notebook__.ipynb",
   "output_path": "__notebook__.ipynb",
   "parameters": {},
   "start_time": "2023-01-10T23:55:28.055814",
   "version": "2.3.4"
  }
 },
 "nbformat": 4,
 "nbformat_minor": 5
}
