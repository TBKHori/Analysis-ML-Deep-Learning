{
 "cells": [
  {
   "cell_type": "markdown",
   "id": "042c0f33",
   "metadata": {
    "papermill": {
     "duration": 0.008748,
     "end_time": "2023-05-25T22:26:28.302871",
     "exception": false,
     "start_time": "2023-05-25T22:26:28.294123",
     "status": "completed"
    },
    "tags": []
   },
   "source": [
    "**This notebook is an exercise in the [Intro to Programming](https://www.kaggle.com/learn/intro-to-programming) course.  You can reference the tutorial at [this link](https://www.kaggle.com/alexisbcook/intro-to-lists).**\n",
    "\n",
    "---\n"
   ]
  },
  {
   "cell_type": "markdown",
   "id": "add91e49",
   "metadata": {
    "papermill": {
     "duration": 0.007964,
     "end_time": "2023-05-25T22:26:28.319560",
     "exception": false,
     "start_time": "2023-05-25T22:26:28.311596",
     "status": "completed"
    },
    "tags": []
   },
   "source": [
    "In the tutorial, you learned how to define and modify Python lists.  In this exercise, you will use your new knowledge to solve several problems.\n",
    "\n",
    "# Set up the notebook\n",
    "\n",
    "Run the next code cell without changes to set up the notebook."
   ]
  },
  {
   "cell_type": "code",
   "execution_count": 1,
   "id": "4fb4bcf9",
   "metadata": {
    "execution": {
     "iopub.execute_input": "2023-05-25T22:26:28.338226Z",
     "iopub.status.busy": "2023-05-25T22:26:28.337375Z",
     "iopub.status.idle": "2023-05-25T22:26:28.385607Z",
     "shell.execute_reply": "2023-05-25T22:26:28.384522Z"
    },
    "papermill": {
     "duration": 0.060917,
     "end_time": "2023-05-25T22:26:28.388579",
     "exception": false,
     "start_time": "2023-05-25T22:26:28.327662",
     "status": "completed"
    },
    "tags": []
   },
   "outputs": [
    {
     "name": "stdout",
     "output_type": "stream",
     "text": [
      "Setup complete.\n"
     ]
    }
   ],
   "source": [
    "from learntools.core import binder\n",
    "binder.bind(globals())\n",
    "from learntools.intro_to_programming.ex5 import *\n",
    "print('Setup complete.')"
   ]
  },
  {
   "cell_type": "markdown",
   "id": "2145c8f9",
   "metadata": {
    "papermill": {
     "duration": 0.007906,
     "end_time": "2023-05-25T22:26:28.405190",
     "exception": false,
     "start_time": "2023-05-25T22:26:28.397284",
     "status": "completed"
    },
    "tags": []
   },
   "source": [
    "# Question 1\n",
    "\n",
    "You own a restaurant with five food dishes, organized in the Python list `menu` below.  One day, you decide to:\n",
    "- remove bean soup (`'bean soup'`) from the menu, and\n",
    "- add roasted beet salad (`'roasted beet salad'`) to the menu.\n",
    "\n",
    "Implement this change to the list below.  While completing this task, \n",
    "- do not change the line that creates the `menu` list.  \n",
    "- your answer should use `.remove()` and `.append()`.  "
   ]
  },
  {
   "cell_type": "code",
   "execution_count": 2,
   "id": "1dab206a",
   "metadata": {
    "execution": {
     "iopub.execute_input": "2023-05-25T22:26:28.425273Z",
     "iopub.status.busy": "2023-05-25T22:26:28.424547Z",
     "iopub.status.idle": "2023-05-25T22:26:28.437570Z",
     "shell.execute_reply": "2023-05-25T22:26:28.436453Z"
    },
    "papermill": {
     "duration": 0.026783,
     "end_time": "2023-05-25T22:26:28.440093",
     "exception": false,
     "start_time": "2023-05-25T22:26:28.413310",
     "status": "completed"
    },
    "tags": []
   },
   "outputs": [
    {
     "data": {
      "application/javascript": [
       "parent.postMessage({\"jupyterEvent\": \"custom.exercise_interaction\", \"data\": {\"outcomeType\": 1, \"valueTowardsCompletion\": 0.2, \"interactionType\": 1, \"questionType\": 2, \"questionId\": \"1_FoodMenu\", \"learnToolsVersion\": \"0.3.4\", \"failureMessage\": \"\", \"exceptionClass\": \"\", \"trace\": \"\"}}, \"*\")"
      ],
      "text/plain": [
       "<IPython.core.display.Javascript object>"
      ]
     },
     "metadata": {},
     "output_type": "display_data"
    },
    {
     "data": {
      "text/markdown": [
       "<span style=\"color:#33cc33\">Correct</span>"
      ],
      "text/plain": [
       "Correct"
      ]
     },
     "metadata": {},
     "output_type": "display_data"
    }
   ],
   "source": [
    "# Do not change: Initial menu for your restaurant\n",
    "menu = ['stewed meat with onions', 'bean soup', 'risotto with trout and shrimp',\n",
    "       'fish soup with cream and onion', 'gyro']\n",
    "\n",
    "# TODO: remove 'bean soup', and add 'roasted beet salad' to the end of the menu\n",
    "menu.remove('bean soup')\n",
    "menu.append('roasted beet salad')\n",
    "\n",
    "# Do not change: Check your answer\n",
    "q1.check()"
   ]
  },
  {
   "cell_type": "code",
   "execution_count": 3,
   "id": "988be1fe",
   "metadata": {
    "execution": {
     "iopub.execute_input": "2023-05-25T22:26:28.459986Z",
     "iopub.status.busy": "2023-05-25T22:26:28.459305Z",
     "iopub.status.idle": "2023-05-25T22:26:28.463085Z",
     "shell.execute_reply": "2023-05-25T22:26:28.462315Z"
    },
    "papermill": {
     "duration": 0.016342,
     "end_time": "2023-05-25T22:26:28.465160",
     "exception": false,
     "start_time": "2023-05-25T22:26:28.448818",
     "status": "completed"
    },
    "tags": []
   },
   "outputs": [],
   "source": [
    "# Uncomment to see a hint\n",
    "#q1.hint()\n",
    "\n",
    "# Uncomment to see the solution\n",
    "#q1.solution()"
   ]
  },
  {
   "cell_type": "markdown",
   "id": "b4f1a223",
   "metadata": {
    "papermill": {
     "duration": 0.008366,
     "end_time": "2023-05-25T22:26:28.482307",
     "exception": false,
     "start_time": "2023-05-25T22:26:28.473941",
     "status": "completed"
    },
    "tags": []
   },
   "source": [
    "# Question 2\n",
    "\n",
    "The list `num_customers` contains the number of customers who came into your restaurant every day over the last month (which lasted thirty days).  Fill in values for each of the following:\n",
    "- `avg_first_seven` - average number of customers who visited in the first seven days\n",
    "- `avg_last_seven` - average number of customers who visited in the last seven days\n",
    "- `max_month` - number of customers on the day that got the most customers in the last month\n",
    "- `min_month` - number of customers on the day that got the least customers in the last month\n",
    "\n",
    "Answer this question by writing code.  For instance, if you have to find the minimum value in a list, use `min()` instead of scanning for the smallest value and directly filling in a number."
   ]
  },
  {
   "cell_type": "code",
   "execution_count": 4,
   "id": "e55b01a7",
   "metadata": {
    "execution": {
     "iopub.execute_input": "2023-05-25T22:26:28.502574Z",
     "iopub.status.busy": "2023-05-25T22:26:28.501118Z",
     "iopub.status.idle": "2023-05-25T22:26:28.512422Z",
     "shell.execute_reply": "2023-05-25T22:26:28.511293Z"
    },
    "papermill": {
     "duration": 0.023721,
     "end_time": "2023-05-25T22:26:28.514726",
     "exception": false,
     "start_time": "2023-05-25T22:26:28.491005",
     "status": "completed"
    },
    "tags": []
   },
   "outputs": [
    {
     "data": {
      "application/javascript": [
       "parent.postMessage({\"jupyterEvent\": \"custom.exercise_interaction\", \"data\": {\"outcomeType\": 1, \"valueTowardsCompletion\": 0.2, \"interactionType\": 1, \"questionType\": 1, \"questionId\": \"2_NumCustomers\", \"learnToolsVersion\": \"0.3.4\", \"failureMessage\": \"\", \"exceptionClass\": \"\", \"trace\": \"\"}}, \"*\")"
      ],
      "text/plain": [
       "<IPython.core.display.Javascript object>"
      ]
     },
     "metadata": {},
     "output_type": "display_data"
    },
    {
     "data": {
      "text/markdown": [
       "<span style=\"color:#33cc33\">Correct</span>"
      ],
      "text/plain": [
       "Correct"
      ]
     },
     "metadata": {},
     "output_type": "display_data"
    }
   ],
   "source": [
    "# Do not change: Number of customers each day for the last month\n",
    "num_customers = [137, 147, 135, 128, 170, 174, 165, 146, 126, 159,\n",
    "                 141, 148, 132, 147, 168, 153, 170, 161, 148, 152,\n",
    "                 141, 151, 131, 149, 164, 163, 143, 143, 166, 171]\n",
    "\n",
    "# TODO: Fill in values for the variables below\n",
    "avg_first_seven = sum(num_customers[:7])/7 \n",
    "avg_last_seven = sum(num_customers[-7:])/7\n",
    "max_month = max(num_customers)\n",
    "min_month = min(num_customers)\n",
    "\n",
    "# Do not change: Check your answer\n",
    "q2.check()"
   ]
  },
  {
   "cell_type": "code",
   "execution_count": 5,
   "id": "01fb2385",
   "metadata": {
    "execution": {
     "iopub.execute_input": "2023-05-25T22:26:28.534715Z",
     "iopub.status.busy": "2023-05-25T22:26:28.534118Z",
     "iopub.status.idle": "2023-05-25T22:26:28.538518Z",
     "shell.execute_reply": "2023-05-25T22:26:28.537491Z"
    },
    "papermill": {
     "duration": 0.017025,
     "end_time": "2023-05-25T22:26:28.540719",
     "exception": false,
     "start_time": "2023-05-25T22:26:28.523694",
     "status": "completed"
    },
    "tags": []
   },
   "outputs": [],
   "source": [
    "# Uncomment to see a hint\n",
    "#q2.hint()\n",
    "\n",
    "# Uncomment to see the solution\n",
    "#q2.solution()"
   ]
  },
  {
   "cell_type": "markdown",
   "id": "76abcc28",
   "metadata": {
    "papermill": {
     "duration": 0.008607,
     "end_time": "2023-05-25T22:26:28.558287",
     "exception": false,
     "start_time": "2023-05-25T22:26:28.549680",
     "status": "completed"
    },
    "tags": []
   },
   "source": [
    "# Question 3\n",
    "\n",
    "In the tutorial, we gave an example of a Python string with information that was better as a list."
   ]
  },
  {
   "cell_type": "code",
   "execution_count": 6,
   "id": "06d328c9",
   "metadata": {
    "execution": {
     "iopub.execute_input": "2023-05-25T22:26:28.577885Z",
     "iopub.status.busy": "2023-05-25T22:26:28.577484Z",
     "iopub.status.idle": "2023-05-25T22:26:28.582538Z",
     "shell.execute_reply": "2023-05-25T22:26:28.581356Z"
    },
    "papermill": {
     "duration": 0.017835,
     "end_time": "2023-05-25T22:26:28.585028",
     "exception": false,
     "start_time": "2023-05-25T22:26:28.567193",
     "status": "completed"
    },
    "tags": []
   },
   "outputs": [],
   "source": [
    "flowers = \"pink primrose,hard-leaved pocket orchid,canterbury bells,sweet pea,english marigold,tiger lily,moon orchid,bird of paradise,monkshood,globe thistle\""
   ]
  },
  {
   "cell_type": "markdown",
   "id": "5dbb3411",
   "metadata": {
    "papermill": {
     "duration": 0.008539,
     "end_time": "2023-05-25T22:26:28.602521",
     "exception": false,
     "start_time": "2023-05-25T22:26:28.593982",
     "status": "completed"
    },
    "tags": []
   },
   "source": [
    "You can actually use Python to quickly turn this string into a list with `.split()`.  In the parentheses, we need to provide the character should be used to mark the end of one list item and the beginning of another, and enclose it in quotation marks.  In this case, that character is a comma."
   ]
  },
  {
   "cell_type": "code",
   "execution_count": 7,
   "id": "55486347",
   "metadata": {
    "execution": {
     "iopub.execute_input": "2023-05-25T22:26:28.622112Z",
     "iopub.status.busy": "2023-05-25T22:26:28.621728Z",
     "iopub.status.idle": "2023-05-25T22:26:28.626956Z",
     "shell.execute_reply": "2023-05-25T22:26:28.625929Z"
    },
    "papermill": {
     "duration": 0.01829,
     "end_time": "2023-05-25T22:26:28.629823",
     "exception": false,
     "start_time": "2023-05-25T22:26:28.611533",
     "status": "completed"
    },
    "tags": []
   },
   "outputs": [
    {
     "name": "stdout",
     "output_type": "stream",
     "text": [
      "['pink primrose', 'hard-leaved pocket orchid', 'canterbury bells', 'sweet pea', 'english marigold', 'tiger lily', 'moon orchid', 'bird of paradise', 'monkshood', 'globe thistle']\n"
     ]
    }
   ],
   "source": [
    " print(flowers.split(\",\"))"
   ]
  },
  {
   "cell_type": "markdown",
   "id": "9375e21b",
   "metadata": {
    "papermill": {
     "duration": 0.008662,
     "end_time": "2023-05-25T22:26:28.647480",
     "exception": false,
     "start_time": "2023-05-25T22:26:28.638818",
     "status": "completed"
    },
    "tags": []
   },
   "source": [
    "Now it is your turn to try this out!  Create two Python lists:\n",
    "- `letters` should be a Python list where each entry is an uppercase letter of the English alphabet.  For instance, the first two entries should be `\"A\"` and `\"B\"`, and the final two entries should be `\"Y\"` and `\"Z\"`.  Use the string `alphabet` to create this list.\n",
    "- `address` should be a Python list where each row in `address` is a different item in the list.  Currently, each row in `address` is separated by a comma. "
   ]
  },
  {
   "cell_type": "code",
   "execution_count": 8,
   "id": "06dfd912",
   "metadata": {
    "execution": {
     "iopub.execute_input": "2023-05-25T22:26:28.667827Z",
     "iopub.status.busy": "2023-05-25T22:26:28.666794Z",
     "iopub.status.idle": "2023-05-25T22:26:28.676800Z",
     "shell.execute_reply": "2023-05-25T22:26:28.675767Z"
    },
    "papermill": {
     "duration": 0.022455,
     "end_time": "2023-05-25T22:26:28.678965",
     "exception": false,
     "start_time": "2023-05-25T22:26:28.656510",
     "status": "completed"
    },
    "tags": []
   },
   "outputs": [
    {
     "data": {
      "application/javascript": [
       "parent.postMessage({\"jupyterEvent\": \"custom.exercise_interaction\", \"data\": {\"outcomeType\": 1, \"valueTowardsCompletion\": 0.2, \"interactionType\": 1, \"questionType\": 1, \"questionId\": \"3_SplitString\", \"learnToolsVersion\": \"0.3.4\", \"failureMessage\": \"\", \"exceptionClass\": \"\", \"trace\": \"\"}}, \"*\")"
      ],
      "text/plain": [
       "<IPython.core.display.Javascript object>"
      ]
     },
     "metadata": {},
     "output_type": "display_data"
    },
    {
     "data": {
      "text/markdown": [
       "<span style=\"color:#33cc33\">Correct</span>"
      ],
      "text/plain": [
       "Correct"
      ]
     },
     "metadata": {},
     "output_type": "display_data"
    }
   ],
   "source": [
    "# DO not change: Define two Python strings\n",
    "alphabet = \"A.B.C.D.E.F.G.H.I.J.K.L.M.N.O.P.Q.R.S.T.U.V.W.X.Y.Z\"\n",
    "address = \"Mr. H. Potter,The cupboard under the Stairs,4 Privet Drive,Little Whinging,Surrey\"\n",
    "\n",
    "# TODO: Convert strings into Python lists\n",
    "letters = alphabet.split(\".\")\n",
    "formatted_address = address.split(\",\")\n",
    "# Do not change: Check your answer\n",
    "q3.check()"
   ]
  },
  {
   "cell_type": "code",
   "execution_count": 9,
   "id": "92472121",
   "metadata": {
    "execution": {
     "iopub.execute_input": "2023-05-25T22:26:28.699655Z",
     "iopub.status.busy": "2023-05-25T22:26:28.698916Z",
     "iopub.status.idle": "2023-05-25T22:26:28.703639Z",
     "shell.execute_reply": "2023-05-25T22:26:28.702733Z"
    },
    "papermill": {
     "duration": 0.017806,
     "end_time": "2023-05-25T22:26:28.705993",
     "exception": false,
     "start_time": "2023-05-25T22:26:28.688187",
     "status": "completed"
    },
    "tags": []
   },
   "outputs": [],
   "source": [
    "# Uncomment to see a hint\n",
    "#q3.hint()\n",
    "\n",
    "# Uncomment to see the solution\n",
    "#q3.solution()"
   ]
  },
  {
   "cell_type": "markdown",
   "id": "6898fa7b",
   "metadata": {
    "papermill": {
     "duration": 0.008989,
     "end_time": "2023-05-25T22:26:28.724542",
     "exception": false,
     "start_time": "2023-05-25T22:26:28.715553",
     "status": "completed"
    },
    "tags": []
   },
   "source": [
    "# Question 4\n",
    "\n",
    "In the Python course, you'll learn all about **list comprehensions**, which allow you to create a list based on the values in another list.  In this question, you'll get a brief preview of how they work.\n",
    "\n",
    "Say we're working with the list below."
   ]
  },
  {
   "cell_type": "code",
   "execution_count": 10,
   "id": "ea4577d2",
   "metadata": {
    "execution": {
     "iopub.execute_input": "2023-05-25T22:26:28.745491Z",
     "iopub.status.busy": "2023-05-25T22:26:28.744388Z",
     "iopub.status.idle": "2023-05-25T22:26:28.749651Z",
     "shell.execute_reply": "2023-05-25T22:26:28.748850Z"
    },
    "papermill": {
     "duration": 0.018019,
     "end_time": "2023-05-25T22:26:28.751827",
     "exception": false,
     "start_time": "2023-05-25T22:26:28.733808",
     "status": "completed"
    },
    "tags": []
   },
   "outputs": [],
   "source": [
    "test_ratings = [1, 2, 3, 4, 5]"
   ]
  },
  {
   "cell_type": "markdown",
   "id": "900a4a7b",
   "metadata": {
    "papermill": {
     "duration": 0.009111,
     "end_time": "2023-05-25T22:26:28.771145",
     "exception": false,
     "start_time": "2023-05-25T22:26:28.762034",
     "status": "completed"
    },
    "tags": []
   },
   "source": [
    "Then we can use this list (`test_ratings`) to create a new list (`test_liked`) where each item has been turned into a boolean, depending on whether or not the item is greater than or equal to four."
   ]
  },
  {
   "cell_type": "code",
   "execution_count": 11,
   "id": "ed676cd7",
   "metadata": {
    "execution": {
     "iopub.execute_input": "2023-05-25T22:26:28.792200Z",
     "iopub.status.busy": "2023-05-25T22:26:28.791061Z",
     "iopub.status.idle": "2023-05-25T22:26:28.797307Z",
     "shell.execute_reply": "2023-05-25T22:26:28.796229Z"
    },
    "papermill": {
     "duration": 0.019468,
     "end_time": "2023-05-25T22:26:28.799953",
     "exception": false,
     "start_time": "2023-05-25T22:26:28.780485",
     "status": "completed"
    },
    "tags": []
   },
   "outputs": [
    {
     "name": "stdout",
     "output_type": "stream",
     "text": [
      "[False, False, False, True, True]\n"
     ]
    }
   ],
   "source": [
    "test_liked = [i>=4 for i in test_ratings]\n",
    "print(test_liked)"
   ]
  },
  {
   "cell_type": "markdown",
   "id": "dd6f8d2b",
   "metadata": {
    "papermill": {
     "duration": 0.009238,
     "end_time": "2023-05-25T22:26:28.818735",
     "exception": false,
     "start_time": "2023-05-25T22:26:28.809497",
     "status": "completed"
    },
    "tags": []
   },
   "source": [
    "In this question, you'll use this list comprehension to define a function `percentage_liked()` that takes one argument as input:\n",
    "- `ratings`: list of ratings that people gave to a movie, where each rating is a number between 1-5, inclusive\n",
    "\n",
    "We say someone liked the movie, if they gave a rating of either 4 or 5.  Your function should return the percentage of people who liked the movie.\n",
    "\n",
    "For instance, if we supply a value of `[1, 2, 3, 4, 5, 4, 5, 1]`, then 50% (4/8) of the people liked the movie, and the function should return `0.5`.\n",
    "\n",
    "Part of the function has already been completed for you.  You need only use `list_liked` to calculate `percentage_liked`."
   ]
  },
  {
   "cell_type": "code",
   "execution_count": 12,
   "id": "c5b5659b",
   "metadata": {
    "execution": {
     "iopub.execute_input": "2023-05-25T22:26:28.839598Z",
     "iopub.status.busy": "2023-05-25T22:26:28.839176Z",
     "iopub.status.idle": "2023-05-25T22:26:28.849975Z",
     "shell.execute_reply": "2023-05-25T22:26:28.848922Z"
    },
    "papermill": {
     "duration": 0.023865,
     "end_time": "2023-05-25T22:26:28.852242",
     "exception": false,
     "start_time": "2023-05-25T22:26:28.828377",
     "status": "completed"
    },
    "tags": []
   },
   "outputs": [
    {
     "data": {
      "application/javascript": [
       "parent.postMessage({\"jupyterEvent\": \"custom.exercise_interaction\", \"data\": {\"outcomeType\": 1, \"valueTowardsCompletion\": 0.2, \"interactionType\": 1, \"questionType\": 2, \"questionId\": \"4_PercentageLiked\", \"learnToolsVersion\": \"0.3.4\", \"failureMessage\": \"\", \"exceptionClass\": \"\", \"trace\": \"\"}}, \"*\")"
      ],
      "text/plain": [
       "<IPython.core.display.Javascript object>"
      ]
     },
     "metadata": {},
     "output_type": "display_data"
    },
    {
     "data": {
      "text/markdown": [
       "<span style=\"color:#33cc33\">Correct</span>"
      ],
      "text/plain": [
       "Correct"
      ]
     },
     "metadata": {},
     "output_type": "display_data"
    }
   ],
   "source": [
    "\n",
    "def percentage_liked(ratings):\n",
    "    list_liked = [i>=4 for i in ratings]\n",
    "    # TODO: Complete the function\n",
    "    percentage_liked = sum(list_liked)/len(list_liked)\n",
    "    return percentage_liked\n",
    "\n",
    "# Do not change: should return 0.5\n",
    "percentage_liked([1, 2, 3, 4, 5, 4, 5, 1])\n",
    "\n",
    "# Do not change: Check your answer\n",
    "q4.check()"
   ]
  },
  {
   "cell_type": "code",
   "execution_count": 13,
   "id": "73936f80",
   "metadata": {
    "execution": {
     "iopub.execute_input": "2023-05-25T22:26:28.874169Z",
     "iopub.status.busy": "2023-05-25T22:26:28.873363Z",
     "iopub.status.idle": "2023-05-25T22:26:28.878079Z",
     "shell.execute_reply": "2023-05-25T22:26:28.877299Z"
    },
    "papermill": {
     "duration": 0.018306,
     "end_time": "2023-05-25T22:26:28.880300",
     "exception": false,
     "start_time": "2023-05-25T22:26:28.861994",
     "status": "completed"
    },
    "tags": []
   },
   "outputs": [],
   "source": [
    "# Uncomment to see a hint\n",
    "#q4.hint()\n",
    "\n",
    "# Uncomment to see the solution\n",
    "#q4.solution()"
   ]
  },
  {
   "cell_type": "markdown",
   "id": "4a806b78",
   "metadata": {
    "papermill": {
     "duration": 0.009624,
     "end_time": "2023-05-25T22:26:28.899608",
     "exception": false,
     "start_time": "2023-05-25T22:26:28.889984",
     "status": "completed"
    },
    "tags": []
   },
   "source": [
    "# 🌶️ Question 5\n",
    " \n",
    "Say you're doing analytics for a website.  You need to write a function that returns the percentage growth in the total number of users relative to a specified number of years ago.\n",
    "\n",
    "Your function `percentage_growth()` should take two arguments as input:\n",
    "- `num_users` = Python list with the total number of users each year.  So `num_users[0]` is the total number of users in the first year, `num_users[1]` is the total number of users in the second year, and so on.  The final entry in the list gives the total number of users in the most recently completed year.\n",
    "- `yrs_ago` = number of years to go back in time when calculating the growth percentage\n",
    "\n",
    "For instance, say `num_users = [920344, 1043553, 1204334, 1458996, 1503323, 1593432, 1623463, 1843064, 1930992, 2001078]`.\n",
    "- if `yrs_ago = 1`, we want the function to return a value of about `0.036`. This corresponds to a percentage growth of approximately 3.6%, calculated as (2001078 - 1930992)/1930992.\n",
    "- if `years_ago = 7`, we would want to return approximately `0.66`.  This corresponds to a percentage growth of approximately 66%, calculated as (2001078 - 1204334)/1204334.\n",
    "\n",
    "Your coworker sent you a draft of a function, but it doesn't seem to be doing the correct calculation.  Can you figure out what has gone wrong and make the needed changes?"
   ]
  },
  {
   "cell_type": "code",
   "execution_count": 14,
   "id": "5677a325",
   "metadata": {
    "execution": {
     "iopub.execute_input": "2023-05-25T22:26:28.920962Z",
     "iopub.status.busy": "2023-05-25T22:26:28.920581Z",
     "iopub.status.idle": "2023-05-25T22:26:28.932319Z",
     "shell.execute_reply": "2023-05-25T22:26:28.931154Z"
    },
    "papermill": {
     "duration": 0.025372,
     "end_time": "2023-05-25T22:26:28.934870",
     "exception": false,
     "start_time": "2023-05-25T22:26:28.909498",
     "status": "completed"
    },
    "tags": []
   },
   "outputs": [
    {
     "name": "stdout",
     "output_type": "stream",
     "text": [
      "0.03629533421163837\n",
      "0.6615639847417742\n"
     ]
    },
    {
     "data": {
      "application/javascript": [
       "parent.postMessage({\"jupyterEvent\": \"custom.exercise_interaction\", \"data\": {\"outcomeType\": 1, \"valueTowardsCompletion\": 0.2, \"interactionType\": 1, \"questionType\": 2, \"questionId\": \"5_WebsiteAnalytics\", \"learnToolsVersion\": \"0.3.4\", \"failureMessage\": \"\", \"exceptionClass\": \"\", \"trace\": \"\"}}, \"*\")"
      ],
      "text/plain": [
       "<IPython.core.display.Javascript object>"
      ]
     },
     "metadata": {},
     "output_type": "display_data"
    },
    {
     "data": {
      "text/markdown": [
       "<span style=\"color:#33cc33\">Correct</span>"
      ],
      "text/plain": [
       "Correct"
      ]
     },
     "metadata": {},
     "output_type": "display_data"
    }
   ],
   "source": [
    "# TODO: Edit the function\n",
    "def percentage_growth(num_users, yrs_ago):\n",
    "    growth = (num_users[len(num_users)-1] - num_users[len(num_users)-yrs_ago-1])/num_users[len(num_users)-yrs_ago-1]\n",
    "    return growth\n",
    "\n",
    "# Do not change: Variable for calculating some test examples\n",
    "num_users_test = [920344, 1043553, 1204334, 1458996, 1503323, 1593432, 1623463, 1843064, 1930992, 2001078]\n",
    "\n",
    "# Do not change: Should return .036\n",
    "print(percentage_growth(num_users_test, 1))\n",
    "\n",
    "# Do not change: Should return 0.66\n",
    "print(percentage_growth(num_users_test, 7))\n",
    "\n",
    "# Do not change: Check your answer\n",
    "q5.check()"
   ]
  },
  {
   "cell_type": "code",
   "execution_count": 15,
   "id": "5498e848",
   "metadata": {
    "execution": {
     "iopub.execute_input": "2023-05-25T22:26:28.957135Z",
     "iopub.status.busy": "2023-05-25T22:26:28.956756Z",
     "iopub.status.idle": "2023-05-25T22:26:28.961410Z",
     "shell.execute_reply": "2023-05-25T22:26:28.960250Z"
    },
    "papermill": {
     "duration": 0.018674,
     "end_time": "2023-05-25T22:26:28.963676",
     "exception": false,
     "start_time": "2023-05-25T22:26:28.945002",
     "status": "completed"
    },
    "tags": []
   },
   "outputs": [],
   "source": [
    "# Uncomment to see a hint\n",
    "#q5.hint()\n",
    "\n",
    "# Uncomment to see the solution\n",
    "#q5.solution()"
   ]
  },
  {
   "cell_type": "markdown",
   "id": "163f4470",
   "metadata": {
    "papermill": {
     "duration": 0.009912,
     "end_time": "2023-05-25T22:26:28.983781",
     "exception": false,
     "start_time": "2023-05-25T22:26:28.973869",
     "status": "completed"
    },
    "tags": []
   },
   "source": [
    "# Congratulations!\n",
    "\n",
    "Congratulations for finishing the Intro to Programming course!  You should be proud of your very first steps with learning programming.  As next steps, we recommend taking:\n",
    "- the **[Python course](http://www.kaggle.com/learn/python)**, and \n",
    "- the **[Intro to Machine Learning course](https://www.kaggle.com/learn/intro-to-machine-learning)**."
   ]
  },
  {
   "cell_type": "markdown",
   "id": "a69c569b",
   "metadata": {
    "papermill": {
     "duration": 0.009827,
     "end_time": "2023-05-25T22:26:29.003956",
     "exception": false,
     "start_time": "2023-05-25T22:26:28.994129",
     "status": "completed"
    },
    "tags": []
   },
   "source": [
    "---\n",
    "\n",
    "\n",
    "\n",
    "\n",
    "*Have questions or comments? Visit the [course discussion forum](https://www.kaggle.com/learn/intro-to-programming/discussion) to chat with other learners.*"
   ]
  }
 ],
 "metadata": {
  "kernelspec": {
   "display_name": "Python 3",
   "language": "python",
   "name": "python3"
  },
  "language_info": {
   "codemirror_mode": {
    "name": "ipython",
    "version": 3
   },
   "file_extension": ".py",
   "mimetype": "text/x-python",
   "name": "python",
   "nbconvert_exporter": "python",
   "pygments_lexer": "ipython3",
   "version": "3.10.10"
  },
  "papermill": {
   "default_parameters": {},
   "duration": 14.893536,
   "end_time": "2023-05-25T22:26:29.835909",
   "environment_variables": {},
   "exception": null,
   "input_path": "__notebook__.ipynb",
   "output_path": "__notebook__.ipynb",
   "parameters": {},
   "start_time": "2023-05-25T22:26:14.942373",
   "version": "2.4.0"
  }
 },
 "nbformat": 4,
 "nbformat_minor": 5
}
