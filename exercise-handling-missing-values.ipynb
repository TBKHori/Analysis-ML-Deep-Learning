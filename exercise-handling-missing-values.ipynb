{
 "cells": [
  {
   "cell_type": "markdown",
   "id": "b2224ec3",
   "metadata": {
    "papermill": {
     "duration": 0.007453,
     "end_time": "2023-04-07T23:22:15.495662",
     "exception": false,
     "start_time": "2023-04-07T23:22:15.488209",
     "status": "completed"
    },
    "tags": []
   },
   "source": [
    "**This notebook is an exercise in the [Data Cleaning](https://www.kaggle.com/learn/data-cleaning) course.  You can reference the tutorial at [this link](https://www.kaggle.com/alexisbcook/handling-missing-values).**\n",
    "\n",
    "---\n"
   ]
  },
  {
   "cell_type": "markdown",
   "id": "f97c48a2",
   "metadata": {
    "papermill": {
     "duration": 0.00612,
     "end_time": "2023-04-07T23:22:15.508333",
     "exception": false,
     "start_time": "2023-04-07T23:22:15.502213",
     "status": "completed"
    },
    "tags": []
   },
   "source": [
    "In this exercise, you'll apply what you learned in the **Handling missing values** tutorial.\n",
    "\n",
    "# Setup\n",
    "\n",
    "The questions below will give you feedback on your work. Run the following cell to set up the feedback system."
   ]
  },
  {
   "cell_type": "code",
   "execution_count": 1,
   "id": "bb357d4c",
   "metadata": {
    "execution": {
     "iopub.execute_input": "2023-04-07T23:22:15.523636Z",
     "iopub.status.busy": "2023-04-07T23:22:15.522634Z",
     "iopub.status.idle": "2023-04-07T23:22:19.763137Z",
     "shell.execute_reply": "2023-04-07T23:22:19.761603Z"
    },
    "papermill": {
     "duration": 4.251106,
     "end_time": "2023-04-07T23:22:19.765616",
     "exception": false,
     "start_time": "2023-04-07T23:22:15.514510",
     "status": "completed"
    },
    "tags": []
   },
   "outputs": [
    {
     "name": "stderr",
     "output_type": "stream",
     "text": [
      "/opt/conda/lib/python3.7/site-packages/ipykernel_launcher.py:3: DtypeWarning: Columns (22,32) have mixed types.Specify dtype option on import or set low_memory=False.\n",
      "  This is separate from the ipykernel package so we can avoid doing imports until\n"
     ]
    },
    {
     "name": "stdout",
     "output_type": "stream",
     "text": [
      "Setup Complete\n"
     ]
    }
   ],
   "source": [
    "from learntools.core import binder\n",
    "binder.bind(globals())\n",
    "from learntools.data_cleaning.ex1 import *\n",
    "print(\"Setup Complete\")"
   ]
  },
  {
   "cell_type": "markdown",
   "id": "6845b842",
   "metadata": {
    "papermill": {
     "duration": 0.006263,
     "end_time": "2023-04-07T23:22:19.778342",
     "exception": false,
     "start_time": "2023-04-07T23:22:19.772079",
     "status": "completed"
    },
    "tags": []
   },
   "source": [
    "# 1) Take a first look at the data\n",
    "\n",
    "Run the next code cell to load in the libraries and dataset you'll use to complete the exercise."
   ]
  },
  {
   "cell_type": "code",
   "execution_count": 2,
   "id": "16d01813",
   "metadata": {
    "execution": {
     "iopub.execute_input": "2023-04-07T23:22:19.793939Z",
     "iopub.status.busy": "2023-04-07T23:22:19.792748Z",
     "iopub.status.idle": "2023-04-07T23:22:21.315548Z",
     "shell.execute_reply": "2023-04-07T23:22:21.314634Z"
    },
    "papermill": {
     "duration": 1.532959,
     "end_time": "2023-04-07T23:22:21.317816",
     "exception": false,
     "start_time": "2023-04-07T23:22:19.784857",
     "status": "completed"
    },
    "tags": []
   },
   "outputs": [
    {
     "name": "stderr",
     "output_type": "stream",
     "text": [
      "/opt/conda/lib/python3.7/site-packages/IPython/core/interactiveshell.py:3553: DtypeWarning: Columns (22,32) have mixed types.Specify dtype option on import or set low_memory=False.\n",
      "  exec(code_obj, self.user_global_ns, self.user_ns)\n"
     ]
    }
   ],
   "source": [
    "# modules we'll use\n",
    "import pandas as pd\n",
    "import numpy as np\n",
    "\n",
    "# read in all our data\n",
    "sf_permits = pd.read_csv(\"../input/building-permit-applications-data/Building_Permits.csv\")\n",
    "\n",
    "# set seed for reproducibility\n",
    "np.random.seed(0) "
   ]
  },
  {
   "cell_type": "markdown",
   "id": "db02a49c",
   "metadata": {
    "papermill": {
     "duration": 0.006183,
     "end_time": "2023-04-07T23:22:21.330550",
     "exception": false,
     "start_time": "2023-04-07T23:22:21.324367",
     "status": "completed"
    },
    "tags": []
   },
   "source": [
    "Use the code cell below to print the first five rows of the `sf_permits` DataFrame."
   ]
  },
  {
   "cell_type": "code",
   "execution_count": 3,
   "id": "fa779e21",
   "metadata": {
    "execution": {
     "iopub.execute_input": "2023-04-07T23:22:21.346262Z",
     "iopub.status.busy": "2023-04-07T23:22:21.345599Z",
     "iopub.status.idle": "2023-04-07T23:22:21.385475Z",
     "shell.execute_reply": "2023-04-07T23:22:21.384351Z"
    },
    "papermill": {
     "duration": 0.05072,
     "end_time": "2023-04-07T23:22:21.388339",
     "exception": false,
     "start_time": "2023-04-07T23:22:21.337619",
     "status": "completed"
    },
    "tags": []
   },
   "outputs": [
    {
     "data": {
      "text/html": [
       "<div>\n",
       "<style scoped>\n",
       "    .dataframe tbody tr th:only-of-type {\n",
       "        vertical-align: middle;\n",
       "    }\n",
       "\n",
       "    .dataframe tbody tr th {\n",
       "        vertical-align: top;\n",
       "    }\n",
       "\n",
       "    .dataframe thead th {\n",
       "        text-align: right;\n",
       "    }\n",
       "</style>\n",
       "<table border=\"1\" class=\"dataframe\">\n",
       "  <thead>\n",
       "    <tr style=\"text-align: right;\">\n",
       "      <th></th>\n",
       "      <th>Permit Number</th>\n",
       "      <th>Permit Type</th>\n",
       "      <th>Permit Type Definition</th>\n",
       "      <th>Permit Creation Date</th>\n",
       "      <th>Block</th>\n",
       "      <th>Lot</th>\n",
       "      <th>Street Number</th>\n",
       "      <th>Street Number Suffix</th>\n",
       "      <th>Street Name</th>\n",
       "      <th>Street Suffix</th>\n",
       "      <th>...</th>\n",
       "      <th>Existing Construction Type</th>\n",
       "      <th>Existing Construction Type Description</th>\n",
       "      <th>Proposed Construction Type</th>\n",
       "      <th>Proposed Construction Type Description</th>\n",
       "      <th>Site Permit</th>\n",
       "      <th>Supervisor District</th>\n",
       "      <th>Neighborhoods - Analysis Boundaries</th>\n",
       "      <th>Zipcode</th>\n",
       "      <th>Location</th>\n",
       "      <th>Record ID</th>\n",
       "    </tr>\n",
       "  </thead>\n",
       "  <tbody>\n",
       "    <tr>\n",
       "      <th>0</th>\n",
       "      <td>201505065519</td>\n",
       "      <td>4</td>\n",
       "      <td>sign - erect</td>\n",
       "      <td>05/06/2015</td>\n",
       "      <td>0326</td>\n",
       "      <td>023</td>\n",
       "      <td>140</td>\n",
       "      <td>NaN</td>\n",
       "      <td>Ellis</td>\n",
       "      <td>St</td>\n",
       "      <td>...</td>\n",
       "      <td>3.0</td>\n",
       "      <td>constr type 3</td>\n",
       "      <td>NaN</td>\n",
       "      <td>NaN</td>\n",
       "      <td>NaN</td>\n",
       "      <td>3.0</td>\n",
       "      <td>Tenderloin</td>\n",
       "      <td>94102.0</td>\n",
       "      <td>(37.785719256680785, -122.40852313194863)</td>\n",
       "      <td>1380611233945</td>\n",
       "    </tr>\n",
       "    <tr>\n",
       "      <th>1</th>\n",
       "      <td>201604195146</td>\n",
       "      <td>4</td>\n",
       "      <td>sign - erect</td>\n",
       "      <td>04/19/2016</td>\n",
       "      <td>0306</td>\n",
       "      <td>007</td>\n",
       "      <td>440</td>\n",
       "      <td>NaN</td>\n",
       "      <td>Geary</td>\n",
       "      <td>St</td>\n",
       "      <td>...</td>\n",
       "      <td>3.0</td>\n",
       "      <td>constr type 3</td>\n",
       "      <td>NaN</td>\n",
       "      <td>NaN</td>\n",
       "      <td>NaN</td>\n",
       "      <td>3.0</td>\n",
       "      <td>Tenderloin</td>\n",
       "      <td>94102.0</td>\n",
       "      <td>(37.78733980600732, -122.41063199757738)</td>\n",
       "      <td>1420164406718</td>\n",
       "    </tr>\n",
       "    <tr>\n",
       "      <th>2</th>\n",
       "      <td>201605278609</td>\n",
       "      <td>3</td>\n",
       "      <td>additions alterations or repairs</td>\n",
       "      <td>05/27/2016</td>\n",
       "      <td>0595</td>\n",
       "      <td>203</td>\n",
       "      <td>1647</td>\n",
       "      <td>NaN</td>\n",
       "      <td>Pacific</td>\n",
       "      <td>Av</td>\n",
       "      <td>...</td>\n",
       "      <td>1.0</td>\n",
       "      <td>constr type 1</td>\n",
       "      <td>1.0</td>\n",
       "      <td>constr type 1</td>\n",
       "      <td>NaN</td>\n",
       "      <td>3.0</td>\n",
       "      <td>Russian Hill</td>\n",
       "      <td>94109.0</td>\n",
       "      <td>(37.7946573324287, -122.42232562979227)</td>\n",
       "      <td>1424856504716</td>\n",
       "    </tr>\n",
       "    <tr>\n",
       "      <th>3</th>\n",
       "      <td>201611072166</td>\n",
       "      <td>8</td>\n",
       "      <td>otc alterations permit</td>\n",
       "      <td>11/07/2016</td>\n",
       "      <td>0156</td>\n",
       "      <td>011</td>\n",
       "      <td>1230</td>\n",
       "      <td>NaN</td>\n",
       "      <td>Pacific</td>\n",
       "      <td>Av</td>\n",
       "      <td>...</td>\n",
       "      <td>5.0</td>\n",
       "      <td>wood frame (5)</td>\n",
       "      <td>5.0</td>\n",
       "      <td>wood frame (5)</td>\n",
       "      <td>NaN</td>\n",
       "      <td>3.0</td>\n",
       "      <td>Nob Hill</td>\n",
       "      <td>94109.0</td>\n",
       "      <td>(37.79595867909168, -122.41557405519474)</td>\n",
       "      <td>1443574295566</td>\n",
       "    </tr>\n",
       "    <tr>\n",
       "      <th>4</th>\n",
       "      <td>201611283529</td>\n",
       "      <td>6</td>\n",
       "      <td>demolitions</td>\n",
       "      <td>11/28/2016</td>\n",
       "      <td>0342</td>\n",
       "      <td>001</td>\n",
       "      <td>950</td>\n",
       "      <td>NaN</td>\n",
       "      <td>Market</td>\n",
       "      <td>St</td>\n",
       "      <td>...</td>\n",
       "      <td>3.0</td>\n",
       "      <td>constr type 3</td>\n",
       "      <td>NaN</td>\n",
       "      <td>NaN</td>\n",
       "      <td>NaN</td>\n",
       "      <td>6.0</td>\n",
       "      <td>Tenderloin</td>\n",
       "      <td>94102.0</td>\n",
       "      <td>(37.78315261897309, -122.40950883997789)</td>\n",
       "      <td>144548169992</td>\n",
       "    </tr>\n",
       "  </tbody>\n",
       "</table>\n",
       "<p>5 rows × 43 columns</p>\n",
       "</div>"
      ],
      "text/plain": [
       "  Permit Number  Permit Type            Permit Type Definition  \\\n",
       "0  201505065519            4                      sign - erect   \n",
       "1  201604195146            4                      sign - erect   \n",
       "2  201605278609            3  additions alterations or repairs   \n",
       "3  201611072166            8            otc alterations permit   \n",
       "4  201611283529            6                       demolitions   \n",
       "\n",
       "  Permit Creation Date Block  Lot  Street Number Street Number Suffix  \\\n",
       "0           05/06/2015  0326  023            140                  NaN   \n",
       "1           04/19/2016  0306  007            440                  NaN   \n",
       "2           05/27/2016  0595  203           1647                  NaN   \n",
       "3           11/07/2016  0156  011           1230                  NaN   \n",
       "4           11/28/2016  0342  001            950                  NaN   \n",
       "\n",
       "  Street Name Street Suffix  ...  Existing Construction Type  \\\n",
       "0       Ellis            St  ...                         3.0   \n",
       "1       Geary            St  ...                         3.0   \n",
       "2     Pacific            Av  ...                         1.0   \n",
       "3     Pacific            Av  ...                         5.0   \n",
       "4      Market            St  ...                         3.0   \n",
       "\n",
       "  Existing Construction Type Description Proposed Construction Type  \\\n",
       "0                          constr type 3                        NaN   \n",
       "1                          constr type 3                        NaN   \n",
       "2                          constr type 1                        1.0   \n",
       "3                         wood frame (5)                        5.0   \n",
       "4                          constr type 3                        NaN   \n",
       "\n",
       "  Proposed Construction Type Description Site Permit Supervisor District  \\\n",
       "0                                    NaN         NaN                 3.0   \n",
       "1                                    NaN         NaN                 3.0   \n",
       "2                          constr type 1         NaN                 3.0   \n",
       "3                         wood frame (5)         NaN                 3.0   \n",
       "4                                    NaN         NaN                 6.0   \n",
       "\n",
       "  Neighborhoods - Analysis Boundaries  Zipcode  \\\n",
       "0                          Tenderloin  94102.0   \n",
       "1                          Tenderloin  94102.0   \n",
       "2                        Russian Hill  94109.0   \n",
       "3                            Nob Hill  94109.0   \n",
       "4                          Tenderloin  94102.0   \n",
       "\n",
       "                                    Location      Record ID  \n",
       "0  (37.785719256680785, -122.40852313194863)  1380611233945  \n",
       "1   (37.78733980600732, -122.41063199757738)  1420164406718  \n",
       "2    (37.7946573324287, -122.42232562979227)  1424856504716  \n",
       "3   (37.79595867909168, -122.41557405519474)  1443574295566  \n",
       "4   (37.78315261897309, -122.40950883997789)   144548169992  \n",
       "\n",
       "[5 rows x 43 columns]"
      ]
     },
     "execution_count": 3,
     "metadata": {},
     "output_type": "execute_result"
    }
   ],
   "source": [
    "# TODO: Your code here!\n",
    "sf_permits.head()"
   ]
  },
  {
   "cell_type": "markdown",
   "id": "df5f7b82",
   "metadata": {
    "papermill": {
     "duration": 0.006675,
     "end_time": "2023-04-07T23:22:21.402045",
     "exception": false,
     "start_time": "2023-04-07T23:22:21.395370",
     "status": "completed"
    },
    "tags": []
   },
   "source": [
    "Does the dataset have any missing values?  Once you have an answer, run the code cell below to get credit for your work."
   ]
  },
  {
   "cell_type": "code",
   "execution_count": 4,
   "id": "41d4a46b",
   "metadata": {
    "execution": {
     "iopub.execute_input": "2023-04-07T23:22:21.417702Z",
     "iopub.status.busy": "2023-04-07T23:22:21.417315Z",
     "iopub.status.idle": "2023-04-07T23:22:21.426369Z",
     "shell.execute_reply": "2023-04-07T23:22:21.425330Z"
    },
    "papermill": {
     "duration": 0.01955,
     "end_time": "2023-04-07T23:22:21.428521",
     "exception": false,
     "start_time": "2023-04-07T23:22:21.408971",
     "status": "completed"
    },
    "tags": []
   },
   "outputs": [
    {
     "data": {
      "application/javascript": [
       "parent.postMessage({\"jupyterEvent\": \"custom.exercise_interaction\", \"data\": {\"outcomeType\": 1, \"valueTowardsCompletion\": 0.16666666666666666, \"interactionType\": 1, \"questionType\": 4, \"questionId\": \"1_TakeFirstLook\", \"learnToolsVersion\": \"0.3.4\", \"failureMessage\": \"\", \"exceptionClass\": \"\", \"trace\": \"\"}}, \"*\")"
      ],
      "text/plain": [
       "<IPython.core.display.Javascript object>"
      ]
     },
     "metadata": {},
     "output_type": "display_data"
    },
    {
     "data": {
      "text/markdown": [
       "<span style=\"color:#33cc33\">Correct:</span> \n",
       "\n",
       "The first five rows of the data does show that several columns have missing values.  You can see this in the \"Street Number Suffix\", \"Proposed Construction Type\" and \"Site Permit\" columns, among others."
      ],
      "text/plain": [
       "Correct: \n",
       "\n",
       "The first five rows of the data does show that several columns have missing values.  You can see this in the \"Street Number Suffix\", \"Proposed Construction Type\" and \"Site Permit\" columns, among others."
      ]
     },
     "metadata": {},
     "output_type": "display_data"
    }
   ],
   "source": [
    "# Check your answer (Run this code cell to receive credit!)\n",
    "q1.check()"
   ]
  },
  {
   "cell_type": "code",
   "execution_count": 5,
   "id": "290c9a92",
   "metadata": {
    "execution": {
     "iopub.execute_input": "2023-04-07T23:22:21.445370Z",
     "iopub.status.busy": "2023-04-07T23:22:21.444546Z",
     "iopub.status.idle": "2023-04-07T23:22:21.448739Z",
     "shell.execute_reply": "2023-04-07T23:22:21.447831Z"
    },
    "papermill": {
     "duration": 0.015176,
     "end_time": "2023-04-07T23:22:21.450961",
     "exception": false,
     "start_time": "2023-04-07T23:22:21.435785",
     "status": "completed"
    },
    "tags": []
   },
   "outputs": [],
   "source": [
    "# Line below will give you a hint\n",
    "#q1.hint()"
   ]
  },
  {
   "cell_type": "markdown",
   "id": "788fa9a7",
   "metadata": {
    "papermill": {
     "duration": 0.008009,
     "end_time": "2023-04-07T23:22:21.466205",
     "exception": false,
     "start_time": "2023-04-07T23:22:21.458196",
     "status": "completed"
    },
    "tags": []
   },
   "source": [
    "# 2) How many missing data points do we have?\n",
    "\n",
    "What percentage of the values in the dataset are missing?  Your answer should be a number between 0 and 100.  (If 1/4 of the values in the dataset are missing, the answer is 25.)"
   ]
  },
  {
   "cell_type": "code",
   "execution_count": 6,
   "id": "fe69499c",
   "metadata": {
    "execution": {
     "iopub.execute_input": "2023-04-07T23:22:21.482789Z",
     "iopub.status.busy": "2023-04-07T23:22:21.482028Z",
     "iopub.status.idle": "2023-04-07T23:22:21.745091Z",
     "shell.execute_reply": "2023-04-07T23:22:21.743806Z"
    },
    "papermill": {
     "duration": 0.274158,
     "end_time": "2023-04-07T23:22:21.747456",
     "exception": false,
     "start_time": "2023-04-07T23:22:21.473298",
     "status": "completed"
    },
    "tags": []
   },
   "outputs": [
    {
     "data": {
      "application/javascript": [
       "parent.postMessage({\"jupyterEvent\": \"custom.exercise_interaction\", \"data\": {\"outcomeType\": 1, \"valueTowardsCompletion\": 0.16666666666666666, \"interactionType\": 1, \"questionType\": 1, \"questionId\": \"2_PercentMissingValues\", \"learnToolsVersion\": \"0.3.4\", \"failureMessage\": \"\", \"exceptionClass\": \"\", \"trace\": \"\"}}, \"*\")"
      ],
      "text/plain": [
       "<IPython.core.display.Javascript object>"
      ]
     },
     "metadata": {},
     "output_type": "display_data"
    },
    {
     "data": {
      "text/markdown": [
       "<span style=\"color:#33cc33\">Correct</span>"
      ],
      "text/plain": [
       "Correct"
      ]
     },
     "metadata": {},
     "output_type": "display_data"
    }
   ],
   "source": [
    "# TODO: Your code here!\n",
    "# get the number of missing data points per column\n",
    "missing_values_count = sf_permits.isnull().sum()\n",
    "\n",
    "# how many total missing values do we have?\n",
    "total_cells = np.product(sf_permits.shape)\n",
    "total_missing = missing_values_count.sum()\n",
    "\n",
    "# percent of data that is missing\n",
    "percent_missing = (total_missing/total_cells) * 100\n",
    "\n",
    "# Check your answer\n",
    "q2.check()"
   ]
  },
  {
   "cell_type": "code",
   "execution_count": 7,
   "id": "f6b9be8d",
   "metadata": {
    "execution": {
     "iopub.execute_input": "2023-04-07T23:22:21.764412Z",
     "iopub.status.busy": "2023-04-07T23:22:21.764023Z",
     "iopub.status.idle": "2023-04-07T23:22:21.768643Z",
     "shell.execute_reply": "2023-04-07T23:22:21.767568Z"
    },
    "papermill": {
     "duration": 0.016097,
     "end_time": "2023-04-07T23:22:21.771036",
     "exception": false,
     "start_time": "2023-04-07T23:22:21.754939",
     "status": "completed"
    },
    "tags": []
   },
   "outputs": [],
   "source": [
    "# Lines below will give you a hint or solution code\n",
    "#q2.hint()\n",
    "#q2.solution()"
   ]
  },
  {
   "cell_type": "markdown",
   "id": "6c3a5a1b",
   "metadata": {
    "papermill": {
     "duration": 0.007198,
     "end_time": "2023-04-07T23:22:21.785753",
     "exception": false,
     "start_time": "2023-04-07T23:22:21.778555",
     "status": "completed"
    },
    "tags": []
   },
   "source": [
    "# 3) Figure out why the data is missing\n",
    "\n",
    "Look at the columns **\"Street Number Suffix\"** and **\"Zipcode\"** from the [San Francisco Building Permits dataset](https://www.kaggle.com/aparnashastry/building-permit-applications-data). Both of these contain missing values. \n",
    "- Which, if either, are missing because they don't exist? \n",
    "- Which, if either, are missing because they weren't recorded?  \n",
    "\n",
    "Once you have an answer, run the code cell below."
   ]
  },
  {
   "cell_type": "code",
   "execution_count": 8,
   "id": "a5d7eff0",
   "metadata": {
    "execution": {
     "iopub.execute_input": "2023-04-07T23:22:21.803012Z",
     "iopub.status.busy": "2023-04-07T23:22:21.802590Z",
     "iopub.status.idle": "2023-04-07T23:22:21.811802Z",
     "shell.execute_reply": "2023-04-07T23:22:21.810587Z"
    },
    "papermill": {
     "duration": 0.021095,
     "end_time": "2023-04-07T23:22:21.814195",
     "exception": false,
     "start_time": "2023-04-07T23:22:21.793100",
     "status": "completed"
    },
    "tags": []
   },
   "outputs": [
    {
     "data": {
      "application/javascript": [
       "parent.postMessage({\"jupyterEvent\": \"custom.exercise_interaction\", \"data\": {\"outcomeType\": 1, \"valueTowardsCompletion\": 0.16666666666666666, \"interactionType\": 1, \"questionType\": 4, \"questionId\": \"3_WhyDataMissing\", \"learnToolsVersion\": \"0.3.4\", \"failureMessage\": \"\", \"exceptionClass\": \"\", \"trace\": \"\"}}, \"*\")"
      ],
      "text/plain": [
       "<IPython.core.display.Javascript object>"
      ]
     },
     "metadata": {},
     "output_type": "display_data"
    },
    {
     "data": {
      "text/markdown": [
       "<span style=\"color:#33cc33\">Correct:</span> \n",
       "\n",
       "If a value in the \"Street Number Suffix\" column is missing, it is likely because it does not exist. If a value in the \"Zipcode\" column is missing, it was not recorded."
      ],
      "text/plain": [
       "Correct: \n",
       "\n",
       "If a value in the \"Street Number Suffix\" column is missing, it is likely because it does not exist. If a value in the \"Zipcode\" column is missing, it was not recorded."
      ]
     },
     "metadata": {},
     "output_type": "display_data"
    }
   ],
   "source": [
    "# Check your answer (Run this code cell to receive credit!)\n",
    "q3.check()"
   ]
  },
  {
   "cell_type": "code",
   "execution_count": 9,
   "id": "5943a2d0",
   "metadata": {
    "execution": {
     "iopub.execute_input": "2023-04-07T23:22:21.831729Z",
     "iopub.status.busy": "2023-04-07T23:22:21.830650Z",
     "iopub.status.idle": "2023-04-07T23:22:21.836174Z",
     "shell.execute_reply": "2023-04-07T23:22:21.834969Z"
    },
    "papermill": {
     "duration": 0.016631,
     "end_time": "2023-04-07T23:22:21.838399",
     "exception": false,
     "start_time": "2023-04-07T23:22:21.821768",
     "status": "completed"
    },
    "tags": []
   },
   "outputs": [],
   "source": [
    "# Line below will give you a hint\n",
    "#q3.hint()"
   ]
  },
  {
   "cell_type": "markdown",
   "id": "797c39ae",
   "metadata": {
    "papermill": {
     "duration": 0.007063,
     "end_time": "2023-04-07T23:22:21.853136",
     "exception": false,
     "start_time": "2023-04-07T23:22:21.846073",
     "status": "completed"
    },
    "tags": []
   },
   "source": [
    "# 4) Drop missing values: rows\n",
    "\n",
    "If you removed all of the rows of `sf_permits` with missing values, how many rows are left?\n",
    "\n",
    "**Note**: Do not change the value of `sf_permits` when checking this.  "
   ]
  },
  {
   "cell_type": "code",
   "execution_count": 10,
   "id": "f4e41493",
   "metadata": {
    "execution": {
     "iopub.execute_input": "2023-04-07T23:22:21.870060Z",
     "iopub.status.busy": "2023-04-07T23:22:21.869600Z",
     "iopub.status.idle": "2023-04-07T23:22:22.373836Z",
     "shell.execute_reply": "2023-04-07T23:22:22.372910Z"
    },
    "papermill": {
     "duration": 0.516078,
     "end_time": "2023-04-07T23:22:22.376500",
     "exception": false,
     "start_time": "2023-04-07T23:22:21.860422",
     "status": "completed"
    },
    "tags": []
   },
   "outputs": [
    {
     "name": "stdout",
     "output_type": "stream",
     "text": [
      "Permit Number                                  0\n",
      "Permit Type                                    0\n",
      "Permit Type Definition                         0\n",
      "Permit Creation Date                           0\n",
      "Block                                          0\n",
      "Lot                                            0\n",
      "Street Number                                  0\n",
      "Street Number Suffix                      196684\n",
      "Street Name                                    0\n",
      "Street Suffix                               2768\n",
      "Unit                                      169421\n",
      "Unit Suffix                               196939\n",
      "Description                                  290\n",
      "Current Status                                 0\n",
      "Current Status Date                            0\n",
      "Filed Date                                     0\n",
      "Issued Date                                14940\n",
      "Completed Date                            101709\n",
      "First Construction Document Date           14946\n",
      "Structural Notification                   191978\n",
      "Number of Existing Stories                 42784\n",
      "Number of Proposed Stories                 42868\n",
      "Voluntary Soft-Story Retrofit             198865\n",
      "Fire Only Permit                          180073\n",
      "Permit Expiration Date                     51880\n",
      "Estimated Cost                             38066\n",
      "Revised Cost                                6066\n",
      "Existing Use                               41114\n",
      "Existing Units                             51538\n",
      "Proposed Use                               42439\n",
      "Proposed Units                             50911\n",
      "Plansets                                   37309\n",
      "TIDF Compliance                           198898\n",
      "Existing Construction Type                 43366\n",
      "Existing Construction Type Description     43366\n",
      "Proposed Construction Type                 43162\n",
      "Proposed Construction Type Description     43162\n",
      "Site Permit                               193541\n",
      "Supervisor District                         1717\n",
      "Neighborhoods - Analysis Boundaries         1725\n",
      "Zipcode                                     1716\n",
      "Location                                    1700\n",
      "Record ID                                      0\n",
      "dtype: int64\n"
     ]
    }
   ],
   "source": [
    "# TODO: Your code here!\n",
    "# Count the number of rows with missing values\n",
    "num_rows_with_missing = sf_permits.isnull().any(axis=1).sum()\n",
    "\n",
    "# Subtract from the total number of rows\n",
    "num_rows_without_missing = sf_permits.shape[0] - num_rows_with_missing\n",
    "\n",
    "\n",
    "\n",
    "# Check which columns have missing values\n",
    "print(sf_permits.isna().sum())\n"
   ]
  },
  {
   "cell_type": "markdown",
   "id": "726e6751",
   "metadata": {
    "papermill": {
     "duration": 0.007748,
     "end_time": "2023-04-07T23:22:22.392157",
     "exception": false,
     "start_time": "2023-04-07T23:22:22.384409",
     "status": "completed"
    },
    "tags": []
   },
   "source": [
    "Once you have an answer, run the code cell below."
   ]
  },
  {
   "cell_type": "code",
   "execution_count": 11,
   "id": "eee99ba9",
   "metadata": {
    "execution": {
     "iopub.execute_input": "2023-04-07T23:22:22.409268Z",
     "iopub.status.busy": "2023-04-07T23:22:22.408839Z",
     "iopub.status.idle": "2023-04-07T23:22:22.417756Z",
     "shell.execute_reply": "2023-04-07T23:22:22.416743Z"
    },
    "papermill": {
     "duration": 0.020426,
     "end_time": "2023-04-07T23:22:22.420295",
     "exception": false,
     "start_time": "2023-04-07T23:22:22.399869",
     "status": "completed"
    },
    "tags": []
   },
   "outputs": [
    {
     "data": {
      "application/javascript": [
       "parent.postMessage({\"jupyterEvent\": \"custom.exercise_interaction\", \"data\": {\"outcomeType\": 1, \"valueTowardsCompletion\": 0.16666666666666666, \"interactionType\": 1, \"questionType\": 4, \"questionId\": \"4_DropMissingRows\", \"learnToolsVersion\": \"0.3.4\", \"failureMessage\": \"\", \"exceptionClass\": \"\", \"trace\": \"\"}}, \"*\")"
      ],
      "text/plain": [
       "<IPython.core.display.Javascript object>"
      ]
     },
     "metadata": {},
     "output_type": "display_data"
    },
    {
     "data": {
      "text/markdown": [
       "<span style=\"color:#33cc33\">Correct:</span> \n",
       "\n",
       "There are no rows remaining in the dataset!"
      ],
      "text/plain": [
       "Correct: \n",
       "\n",
       "There are no rows remaining in the dataset!"
      ]
     },
     "metadata": {},
     "output_type": "display_data"
    }
   ],
   "source": [
    "# Check your answer (Run this code cell to receive credit!)\n",
    "q4.check()"
   ]
  },
  {
   "cell_type": "code",
   "execution_count": 12,
   "id": "45938337",
   "metadata": {
    "execution": {
     "iopub.execute_input": "2023-04-07T23:22:22.438264Z",
     "iopub.status.busy": "2023-04-07T23:22:22.437839Z",
     "iopub.status.idle": "2023-04-07T23:22:22.442494Z",
     "shell.execute_reply": "2023-04-07T23:22:22.441405Z"
    },
    "papermill": {
     "duration": 0.016756,
     "end_time": "2023-04-07T23:22:22.445043",
     "exception": false,
     "start_time": "2023-04-07T23:22:22.428287",
     "status": "completed"
    },
    "tags": []
   },
   "outputs": [],
   "source": [
    "# Line below will give you a hint\n",
    "#q4.hint()"
   ]
  },
  {
   "cell_type": "markdown",
   "id": "12797916",
   "metadata": {
    "papermill": {
     "duration": 0.007602,
     "end_time": "2023-04-07T23:22:22.460723",
     "exception": false,
     "start_time": "2023-04-07T23:22:22.453121",
     "status": "completed"
    },
    "tags": []
   },
   "source": [
    "# 5) Drop missing values: columns\n",
    "\n",
    "Now try removing all the columns with empty values.  \n",
    "- Create a new DataFrame called `sf_permits_with_na_dropped` that has all of the columns with empty values removed.  \n",
    "- How many columns were removed from the original `sf_permits` DataFrame? Use this number to set the value of the `dropped_columns` variable below."
   ]
  },
  {
   "cell_type": "code",
   "execution_count": 13,
   "id": "96a28262",
   "metadata": {
    "execution": {
     "iopub.execute_input": "2023-04-07T23:22:22.480155Z",
     "iopub.status.busy": "2023-04-07T23:22:22.479274Z",
     "iopub.status.idle": "2023-04-07T23:22:22.762567Z",
     "shell.execute_reply": "2023-04-07T23:22:22.761360Z"
    },
    "papermill": {
     "duration": 0.295532,
     "end_time": "2023-04-07T23:22:22.765235",
     "exception": false,
     "start_time": "2023-04-07T23:22:22.469703",
     "status": "completed"
    },
    "tags": []
   },
   "outputs": [
    {
     "data": {
      "application/javascript": [
       "parent.postMessage({\"jupyterEvent\": \"custom.exercise_interaction\", \"data\": {\"outcomeType\": 1, \"valueTowardsCompletion\": 0.16666666666666666, \"interactionType\": 1, \"questionType\": 1, \"questionId\": \"5_DropMissingCols\", \"learnToolsVersion\": \"0.3.4\", \"failureMessage\": \"\", \"exceptionClass\": \"\", \"trace\": \"\"}}, \"*\")"
      ],
      "text/plain": [
       "<IPython.core.display.Javascript object>"
      ]
     },
     "metadata": {},
     "output_type": "display_data"
    },
    {
     "data": {
      "text/markdown": [
       "<span style=\"color:#33cc33\">Correct</span>"
      ],
      "text/plain": [
       "Correct"
      ]
     },
     "metadata": {},
     "output_type": "display_data"
    }
   ],
   "source": [
    "# TODO: Your code here\n",
    "# remove all columns with at least one missing value\n",
    "sf_permits_with_na_dropped = sf_permits.dropna(axis=1)\n",
    "\n",
    "# calculate number of dropped columns\n",
    "cols_in_original_dataset = sf_permits.shape[1]\n",
    "cols_in_na_dropped = sf_permits_with_na_dropped.shape[1]\n",
    "dropped_columns = cols_in_original_dataset - cols_in_na_dropped\n",
    "\n",
    "# Check your answer\n",
    "q5.check()"
   ]
  },
  {
   "cell_type": "code",
   "execution_count": 14,
   "id": "598a4c43",
   "metadata": {
    "execution": {
     "iopub.execute_input": "2023-04-07T23:22:22.783819Z",
     "iopub.status.busy": "2023-04-07T23:22:22.783090Z",
     "iopub.status.idle": "2023-04-07T23:22:22.787774Z",
     "shell.execute_reply": "2023-04-07T23:22:22.786668Z"
    },
    "papermill": {
     "duration": 0.016971,
     "end_time": "2023-04-07T23:22:22.790216",
     "exception": false,
     "start_time": "2023-04-07T23:22:22.773245",
     "status": "completed"
    },
    "tags": []
   },
   "outputs": [],
   "source": [
    "# Lines below will give you a hint or solution code\n",
    "#q5.hint()\n",
    "#q5.solution()"
   ]
  },
  {
   "cell_type": "markdown",
   "id": "29aa0104",
   "metadata": {
    "papermill": {
     "duration": 0.00816,
     "end_time": "2023-04-07T23:22:22.806591",
     "exception": false,
     "start_time": "2023-04-07T23:22:22.798431",
     "status": "completed"
    },
    "tags": []
   },
   "source": [
    "# 6) Fill in missing values automatically\n",
    "\n",
    "Try replacing all the NaN's in the `sf_permits` data with the one that comes directly after it and then replacing any remaining NaN's with 0.  Set the result to a new DataFrame `sf_permits_with_na_imputed`."
   ]
  },
  {
   "cell_type": "code",
   "execution_count": 15,
   "id": "37b48a82",
   "metadata": {
    "execution": {
     "iopub.execute_input": "2023-04-07T23:22:22.825627Z",
     "iopub.status.busy": "2023-04-07T23:22:22.824496Z",
     "iopub.status.idle": "2023-04-07T23:22:23.804972Z",
     "shell.execute_reply": "2023-04-07T23:22:23.803763Z"
    },
    "papermill": {
     "duration": 0.992657,
     "end_time": "2023-04-07T23:22:23.807484",
     "exception": false,
     "start_time": "2023-04-07T23:22:22.814827",
     "status": "completed"
    },
    "tags": []
   },
   "outputs": [
    {
     "data": {
      "application/javascript": [
       "parent.postMessage({\"jupyterEvent\": \"custom.exercise_interaction\", \"data\": {\"outcomeType\": 1, \"valueTowardsCompletion\": 0.16666666666666666, \"interactionType\": 1, \"questionType\": 1, \"questionId\": \"6_ImputeAutomatically\", \"learnToolsVersion\": \"0.3.4\", \"failureMessage\": \"\", \"exceptionClass\": \"\", \"trace\": \"\"}}, \"*\")"
      ],
      "text/plain": [
       "<IPython.core.display.Javascript object>"
      ]
     },
     "metadata": {},
     "output_type": "display_data"
    },
    {
     "data": {
      "text/markdown": [
       "<span style=\"color:#33cc33\">Correct</span>"
      ],
      "text/plain": [
       "Correct"
      ]
     },
     "metadata": {},
     "output_type": "display_data"
    }
   ],
   "source": [
    "# TODO: Your code here\n",
    "sf_permits_with_na_imputed = sf_permits.fillna(method='bfill', axis=0).fillna(0)\n",
    "\n",
    "# Check your answer\n",
    "q6.check()"
   ]
  },
  {
   "cell_type": "code",
   "execution_count": 16,
   "id": "59c7438c",
   "metadata": {
    "execution": {
     "iopub.execute_input": "2023-04-07T23:22:23.826670Z",
     "iopub.status.busy": "2023-04-07T23:22:23.826298Z",
     "iopub.status.idle": "2023-04-07T23:22:23.831199Z",
     "shell.execute_reply": "2023-04-07T23:22:23.829715Z"
    },
    "papermill": {
     "duration": 0.017689,
     "end_time": "2023-04-07T23:22:23.833795",
     "exception": false,
     "start_time": "2023-04-07T23:22:23.816106",
     "status": "completed"
    },
    "tags": []
   },
   "outputs": [],
   "source": [
    "# Lines below will give you a hint or solution code\n",
    "#q6.hint()\n",
    "#q6.solution()"
   ]
  },
  {
   "cell_type": "markdown",
   "id": "8db1d311",
   "metadata": {
    "papermill": {
     "duration": 0.008228,
     "end_time": "2023-04-07T23:22:23.850453",
     "exception": false,
     "start_time": "2023-04-07T23:22:23.842225",
     "status": "completed"
    },
    "tags": []
   },
   "source": [
    "# More practice\n",
    "\n",
    "If you're looking for more practice handling missing values:\n",
    "\n",
    "* Check out [this noteboook](https://www.kaggle.com/alexisbcook/missing-values) on handling missing values using scikit-learn's imputer. \n",
    "* Look back at the \"Zipcode\" column in the `sf_permits` dataset, which has some missing values. How would you go about figuring out what the actual zipcode of each address should be? (You might try using another dataset. You can search for datasets about San Fransisco on the [Datasets listing](https://www.kaggle.com/datasets).) \n",
    "\n",
    "# Keep going\n",
    "\n",
    "In the next lesson, learn how to [**apply scaling and normalization**](https://www.kaggle.com/alexisbcook/scaling-and-normalization) to transform your data."
   ]
  },
  {
   "cell_type": "markdown",
   "id": "2a29d2f3",
   "metadata": {
    "papermill": {
     "duration": 0.007997,
     "end_time": "2023-04-07T23:22:23.866456",
     "exception": false,
     "start_time": "2023-04-07T23:22:23.858459",
     "status": "completed"
    },
    "tags": []
   },
   "source": [
    "---\n",
    "\n",
    "\n",
    "\n",
    "\n",
    "*Have questions or comments? Visit the [course discussion forum](https://www.kaggle.com/learn/data-cleaning/discussion) to chat with other learners.*"
   ]
  }
 ],
 "metadata": {
  "kernelspec": {
   "display_name": "Python 3",
   "language": "python",
   "name": "python3"
  },
  "language_info": {
   "codemirror_mode": {
    "name": "ipython",
    "version": 3
   },
   "file_extension": ".py",
   "mimetype": "text/x-python",
   "name": "python",
   "nbconvert_exporter": "python",
   "pygments_lexer": "ipython3",
   "version": "3.7.12"
  },
  "papermill": {
   "default_parameters": {},
   "duration": 19.031297,
   "end_time": "2023-04-07T23:22:24.697170",
   "environment_variables": {},
   "exception": null,
   "input_path": "__notebook__.ipynb",
   "output_path": "__notebook__.ipynb",
   "parameters": {},
   "start_time": "2023-04-07T23:22:05.665873",
   "version": "2.4.0"
  }
 },
 "nbformat": 4,
 "nbformat_minor": 5
}
