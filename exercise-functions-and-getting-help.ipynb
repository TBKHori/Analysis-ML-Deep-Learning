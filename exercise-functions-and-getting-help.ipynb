{
 "cells": [
  {
   "cell_type": "markdown",
   "id": "fbe3bb44",
   "metadata": {
    "papermill": {
     "duration": 0.005896,
     "end_time": "2023-01-01T23:00:49.539402",
     "exception": false,
     "start_time": "2023-01-01T23:00:49.533506",
     "status": "completed"
    },
    "tags": []
   },
   "source": [
    "**This notebook is an exercise in the [Python](https://www.kaggle.com/learn/python) course.  You can reference the tutorial at [this link](https://www.kaggle.com/colinmorris/functions-and-getting-help).**\n",
    "\n",
    "---\n"
   ]
  },
  {
   "cell_type": "markdown",
   "id": "b4e022f0",
   "metadata": {
    "papermill": {
     "duration": 0.004523,
     "end_time": "2023-01-01T23:00:49.549215",
     "exception": false,
     "start_time": "2023-01-01T23:00:49.544692",
     "status": "completed"
    },
    "tags": []
   },
   "source": [
    "Functions are powerful. Try writing some yourself.\n",
    "\n",
    "As before, don't forget to run the setup code below before jumping into question 1."
   ]
  },
  {
   "cell_type": "code",
   "execution_count": 1,
   "id": "248bb5be",
   "metadata": {
    "_kg_hide-input": true,
    "_kg_hide-output": true,
    "execution": {
     "iopub.execute_input": "2023-01-01T23:00:49.561675Z",
     "iopub.status.busy": "2023-01-01T23:00:49.561026Z",
     "iopub.status.idle": "2023-01-01T23:00:49.614457Z",
     "shell.execute_reply": "2023-01-01T23:00:49.613225Z"
    },
    "papermill": {
     "duration": 0.06301,
     "end_time": "2023-01-01T23:00:49.617233",
     "exception": false,
     "start_time": "2023-01-01T23:00:49.554223",
     "status": "completed"
    },
    "tags": []
   },
   "outputs": [
    {
     "name": "stdout",
     "output_type": "stream",
     "text": [
      "Setup complete.\n"
     ]
    }
   ],
   "source": [
    "# SETUP. You don't need to worry for now about what this code does or how it works.\n",
    "from learntools.core import binder; binder.bind(globals())\n",
    "from learntools.python.ex2 import *\n",
    "print('Setup complete.')"
   ]
  },
  {
   "cell_type": "markdown",
   "id": "1ab981ee",
   "metadata": {
    "papermill": {
     "duration": 0.004829,
     "end_time": "2023-01-01T23:00:49.627293",
     "exception": false,
     "start_time": "2023-01-01T23:00:49.622464",
     "status": "completed"
    },
    "tags": []
   },
   "source": [
    "# 1.\n",
    "\n",
    "Complete the body of the following function according to its docstring.\n",
    "\n",
    "HINT: Python has a built-in function `round`."
   ]
  },
  {
   "cell_type": "code",
   "execution_count": 2,
   "id": "8f8306a8",
   "metadata": {
    "execution": {
     "iopub.execute_input": "2023-01-01T23:00:49.639550Z",
     "iopub.status.busy": "2023-01-01T23:00:49.638739Z",
     "iopub.status.idle": "2023-01-01T23:00:49.652162Z",
     "shell.execute_reply": "2023-01-01T23:00:49.650912Z"
    },
    "papermill": {
     "duration": 0.022358,
     "end_time": "2023-01-01T23:00:49.654649",
     "exception": false,
     "start_time": "2023-01-01T23:00:49.632291",
     "status": "completed"
    },
    "tags": []
   },
   "outputs": [
    {
     "data": {
      "application/javascript": [
       "parent.postMessage({\"jupyterEvent\": \"custom.exercise_interaction\", \"data\": {\"outcomeType\": 1, \"valueTowardsCompletion\": 0.16666666666666666, \"interactionType\": 1, \"questionType\": 2, \"questionId\": \"1_RoundFunctionProblem\", \"learnToolsVersion\": \"0.3.4\", \"failureMessage\": \"\", \"exceptionClass\": \"\", \"trace\": \"\"}}, \"*\")"
      ],
      "text/plain": [
       "<IPython.core.display.Javascript object>"
      ]
     },
     "metadata": {},
     "output_type": "display_data"
    },
    {
     "data": {
      "text/markdown": [
       "<span style=\"color:#33cc33\">Correct</span>"
      ],
      "text/plain": [
       "Correct"
      ]
     },
     "metadata": {},
     "output_type": "display_data"
    }
   ],
   "source": [
    "def round_to_two_places(num):\n",
    "    \"\"\"Return the given number rounded to two decimal places. \n",
    "    \n",
    "    >>> round_to_two_places(3.14159)\n",
    "    3.14\n",
    "    \"\"\"\n",
    "    # Replace this body with your own code.\n",
    "    # (\"pass\" is a keyword that does literally nothing. We used it as a placeholder\n",
    "    # because after we begin a code block, Python requires at least one line of code)\n",
    "    return round(num, 2)\n",
    "\n",
    "# Check your answer\n",
    "q1.check()"
   ]
  },
  {
   "cell_type": "code",
   "execution_count": 3,
   "id": "b2f20444",
   "metadata": {
    "execution": {
     "iopub.execute_input": "2023-01-01T23:00:49.668371Z",
     "iopub.status.busy": "2023-01-01T23:00:49.667475Z",
     "iopub.status.idle": "2023-01-01T23:00:49.674004Z",
     "shell.execute_reply": "2023-01-01T23:00:49.672812Z"
    },
    "papermill": {
     "duration": 0.017863,
     "end_time": "2023-01-01T23:00:49.677808",
     "exception": false,
     "start_time": "2023-01-01T23:00:49.659945",
     "status": "completed"
    },
    "tags": []
   },
   "outputs": [],
   "source": [
    "# Uncomment the following for a hint\n",
    "#q1.hint()\n",
    "# Or uncomment the following to peek at the solution\n",
    "#q1.solution()"
   ]
  },
  {
   "cell_type": "markdown",
   "id": "459329c6",
   "metadata": {
    "papermill": {
     "duration": 0.004925,
     "end_time": "2023-01-01T23:00:49.688227",
     "exception": false,
     "start_time": "2023-01-01T23:00:49.683302",
     "status": "completed"
    },
    "tags": []
   },
   "source": [
    "# 2.\n",
    "The help for `round` says that `ndigits` (the second argument) may be negative.\n",
    "What do you think will happen when it is? Try some examples in the following cell."
   ]
  },
  {
   "cell_type": "code",
   "execution_count": 4,
   "id": "c50ac70a",
   "metadata": {
    "execution": {
     "iopub.execute_input": "2023-01-01T23:00:49.699899Z",
     "iopub.status.busy": "2023-01-01T23:00:49.699505Z",
     "iopub.status.idle": "2023-01-01T23:00:49.705957Z",
     "shell.execute_reply": "2023-01-01T23:00:49.704497Z"
    },
    "papermill": {
     "duration": 0.014719,
     "end_time": "2023-01-01T23:00:49.708057",
     "exception": false,
     "start_time": "2023-01-01T23:00:49.693338",
     "status": "completed"
    },
    "tags": []
   },
   "outputs": [
    {
     "name": "stdout",
     "output_type": "stream",
     "text": [
      "409250000\n"
     ]
    }
   ],
   "source": [
    "# Put your test code here\n",
    "def round_test(num):\n",
    "    return round(num, -4)\n",
    "\n",
    "print (round_test(409247027))"
   ]
  },
  {
   "cell_type": "markdown",
   "id": "321c5dfc",
   "metadata": {
    "papermill": {
     "duration": 0.005031,
     "end_time": "2023-01-01T23:00:49.718156",
     "exception": false,
     "start_time": "2023-01-01T23:00:49.713125",
     "status": "completed"
    },
    "tags": []
   },
   "source": [
    "Can you think of a case where this would be useful?  Once you're ready, run the code cell below to see the answer and to receive credit for completing the problem."
   ]
  },
  {
   "cell_type": "code",
   "execution_count": 5,
   "id": "6b080f81",
   "metadata": {
    "execution": {
     "iopub.execute_input": "2023-01-01T23:00:49.731599Z",
     "iopub.status.busy": "2023-01-01T23:00:49.730860Z",
     "iopub.status.idle": "2023-01-01T23:00:49.735582Z",
     "shell.execute_reply": "2023-01-01T23:00:49.734650Z"
    },
    "papermill": {
     "duration": 0.014099,
     "end_time": "2023-01-01T23:00:49.738042",
     "exception": false,
     "start_time": "2023-01-01T23:00:49.723943",
     "status": "completed"
    },
    "tags": []
   },
   "outputs": [],
   "source": [
    "# Check your answer (Run this code cell to receive credit!)\n",
    "#q2.solution()"
   ]
  },
  {
   "cell_type": "markdown",
   "id": "369fd054",
   "metadata": {
    "papermill": {
     "duration": 0.005091,
     "end_time": "2023-01-01T23:00:49.748414",
     "exception": false,
     "start_time": "2023-01-01T23:00:49.743323",
     "status": "completed"
    },
    "tags": []
   },
   "source": [
    "# 3.\n",
    "\n",
    "In the previous exercise, the candy-sharing friends Alice, Bob and Carol tried to split candies evenly. For the sake of their friendship, any candies left over would be smashed. For example, if they collectively bring home 91 candies, they'll take 30 each and smash 1.\n",
    "\n",
    "Below is a simple function that will calculate the number of candies to smash for *any* number of total candies.\n",
    "\n",
    "Modify it so that it optionally takes a second argument representing the number of friends the candies are being split between. If no second argument is provided, it should assume 3 friends, as before.\n",
    "\n",
    "Update the docstring to reflect this new behaviour."
   ]
  },
  {
   "cell_type": "code",
   "execution_count": 6,
   "id": "00ad0cca",
   "metadata": {
    "execution": {
     "iopub.execute_input": "2023-01-01T23:00:49.762702Z",
     "iopub.status.busy": "2023-01-01T23:00:49.761931Z",
     "iopub.status.idle": "2023-01-01T23:00:49.772282Z",
     "shell.execute_reply": "2023-01-01T23:00:49.771293Z"
    },
    "papermill": {
     "duration": 0.020679,
     "end_time": "2023-01-01T23:00:49.774535",
     "exception": false,
     "start_time": "2023-01-01T23:00:49.753856",
     "status": "completed"
    },
    "tags": []
   },
   "outputs": [
    {
     "data": {
      "application/javascript": [
       "parent.postMessage({\"jupyterEvent\": \"custom.exercise_interaction\", \"data\": {\"outcomeType\": 1, \"valueTowardsCompletion\": 0.16666666666666666, \"interactionType\": 1, \"questionType\": 2, \"questionId\": \"3_CandySmashingFunctionProblem\", \"learnToolsVersion\": \"0.3.4\", \"failureMessage\": \"\", \"exceptionClass\": \"\", \"trace\": \"\"}}, \"*\")"
      ],
      "text/plain": [
       "<IPython.core.display.Javascript object>"
      ]
     },
     "metadata": {},
     "output_type": "display_data"
    },
    {
     "data": {
      "text/markdown": [
       "<span style=\"color:#33cc33\">Correct</span>"
      ],
      "text/plain": [
       "Correct"
      ]
     },
     "metadata": {},
     "output_type": "display_data"
    }
   ],
   "source": [
    "def to_smash(total_candies, n_friends=3):\n",
    "    \"\"\"Return the number of leftover candies that must be smashed after distributing\n",
    "    the given number of candies evenly between 3 friends.\n",
    "    \n",
    "    >>> to_smash(91)\n",
    "    1\n",
    "    \"\"\"\n",
    "    return total_candies % n_friends\n",
    "\n",
    "# Check your answer\n",
    "q3.check()"
   ]
  },
  {
   "cell_type": "code",
   "execution_count": 7,
   "id": "b26cf116",
   "metadata": {
    "execution": {
     "iopub.execute_input": "2023-01-01T23:00:49.787867Z",
     "iopub.status.busy": "2023-01-01T23:00:49.787152Z",
     "iopub.status.idle": "2023-01-01T23:00:49.792071Z",
     "shell.execute_reply": "2023-01-01T23:00:49.791323Z"
    },
    "papermill": {
     "duration": 0.014111,
     "end_time": "2023-01-01T23:00:49.794082",
     "exception": false,
     "start_time": "2023-01-01T23:00:49.779971",
     "status": "completed"
    },
    "tags": []
   },
   "outputs": [],
   "source": [
    "#q3.hint()"
   ]
  },
  {
   "cell_type": "code",
   "execution_count": 8,
   "id": "8f12470f",
   "metadata": {
    "execution": {
     "iopub.execute_input": "2023-01-01T23:00:49.806305Z",
     "iopub.status.busy": "2023-01-01T23:00:49.805750Z",
     "iopub.status.idle": "2023-01-01T23:00:49.809940Z",
     "shell.execute_reply": "2023-01-01T23:00:49.809222Z"
    },
    "papermill": {
     "duration": 0.012735,
     "end_time": "2023-01-01T23:00:49.812076",
     "exception": false,
     "start_time": "2023-01-01T23:00:49.799341",
     "status": "completed"
    },
    "tags": []
   },
   "outputs": [],
   "source": [
    "#q3.solution()"
   ]
  },
  {
   "cell_type": "markdown",
   "id": "5fcbe675",
   "metadata": {
    "papermill": {
     "duration": 0.005236,
     "end_time": "2023-01-01T23:00:49.823880",
     "exception": false,
     "start_time": "2023-01-01T23:00:49.818644",
     "status": "completed"
    },
    "tags": []
   },
   "source": [
    "# 4. (Optional)\n",
    "\n",
    "It may not be fun, but reading and understanding error messages will be an important part of your Python career.\n",
    "\n",
    "Each code cell below contains some commented buggy code. For each cell...\n",
    "\n",
    "1. Read the code and predict what you think will happen when it's run.\n",
    "2. Then uncomment the code and run it to see what happens. (**Tip**: In the kernel editor, you can highlight several lines and press `ctrl`+`/` to toggle commenting.)\n",
    "3. Fix the code (so that it accomplishes its intended purpose without throwing an exception)\n",
    "\n",
    "<!-- TODO: should this be autochecked? Delta is probably pretty small. -->"
   ]
  },
  {
   "cell_type": "code",
   "execution_count": 9,
   "id": "2a67d0ff",
   "metadata": {
    "execution": {
     "iopub.execute_input": "2023-01-01T23:00:49.837366Z",
     "iopub.status.busy": "2023-01-01T23:00:49.836685Z",
     "iopub.status.idle": "2023-01-01T23:00:49.844322Z",
     "shell.execute_reply": "2023-01-01T23:00:49.843104Z"
    },
    "papermill": {
     "duration": 0.01724,
     "end_time": "2023-01-01T23:00:49.846747",
     "exception": false,
     "start_time": "2023-01-01T23:00:49.829507",
     "status": "completed"
    },
    "tags": []
   },
   "outputs": [
    {
     "data": {
      "text/plain": [
       "10.0"
      ]
     },
     "execution_count": 9,
     "metadata": {},
     "output_type": "execute_result"
    }
   ],
   "source": [
    "round_to_two_places(9.9999)"
   ]
  },
  {
   "cell_type": "code",
   "execution_count": 10,
   "id": "cf206f8c",
   "metadata": {
    "execution": {
     "iopub.execute_input": "2023-01-01T23:00:49.861895Z",
     "iopub.status.busy": "2023-01-01T23:00:49.861020Z",
     "iopub.status.idle": "2023-01-01T23:00:49.867456Z",
     "shell.execute_reply": "2023-01-01T23:00:49.866256Z"
    },
    "papermill": {
     "duration": 0.017539,
     "end_time": "2023-01-01T23:00:49.870163",
     "exception": false,
     "start_time": "2023-01-01T23:00:49.852624",
     "status": "completed"
    },
    "tags": []
   },
   "outputs": [],
   "source": [
    "x = -10\n",
    "y = 5\n",
    "# # Which of the two variables above has the smallest absolute value?\n",
    "smallest_abs = min(abs(x), abs(y))"
   ]
  },
  {
   "cell_type": "code",
   "execution_count": 11,
   "id": "c195f235",
   "metadata": {
    "execution": {
     "iopub.execute_input": "2023-01-01T23:00:49.884537Z",
     "iopub.status.busy": "2023-01-01T23:00:49.883916Z",
     "iopub.status.idle": "2023-01-01T23:00:49.888986Z",
     "shell.execute_reply": "2023-01-01T23:00:49.887897Z"
    },
    "papermill": {
     "duration": 0.014407,
     "end_time": "2023-01-01T23:00:49.891013",
     "exception": false,
     "start_time": "2023-01-01T23:00:49.876606",
     "status": "completed"
    },
    "tags": []
   },
   "outputs": [
    {
     "name": "stdout",
     "output_type": "stream",
     "text": [
      "5\n"
     ]
    }
   ],
   "source": [
    "def f(x):\n",
    "    y = abs(x)\n",
    "    return y\n",
    "\n",
    "print(f(5))"
   ]
  },
  {
   "cell_type": "markdown",
   "id": "a5282a67",
   "metadata": {
    "papermill": {
     "duration": 0.005042,
     "end_time": "2023-01-01T23:00:49.901553",
     "exception": false,
     "start_time": "2023-01-01T23:00:49.896511",
     "status": "completed"
    },
    "tags": []
   },
   "source": [
    "# Keep Going\n",
    "\n",
    "Nice job with the code. Next up, you'll learn about *conditionals*, which you'll need to **[write interesting programs](https://www.kaggle.com/colinmorris/booleans-and-conditionals)**. "
   ]
  },
  {
   "cell_type": "markdown",
   "id": "8ecbab30",
   "metadata": {
    "papermill": {
     "duration": 0.00508,
     "end_time": "2023-01-01T23:00:49.911845",
     "exception": false,
     "start_time": "2023-01-01T23:00:49.906765",
     "status": "completed"
    },
    "tags": []
   },
   "source": [
    "---\n",
    "\n",
    "\n",
    "\n",
    "\n",
    "*Have questions or comments? Visit the [course discussion forum](https://www.kaggle.com/learn/python/discussion) to chat with other learners.*"
   ]
  }
 ],
 "metadata": {
  "kernelspec": {
   "display_name": "Python 3",
   "language": "python",
   "name": "python3"
  },
  "language_info": {
   "codemirror_mode": {
    "name": "ipython",
    "version": 3
   },
   "file_extension": ".py",
   "mimetype": "text/x-python",
   "name": "python",
   "nbconvert_exporter": "python",
   "pygments_lexer": "ipython3",
   "version": "3.7.12"
  },
  "papermill": {
   "default_parameters": {},
   "duration": 9.626501,
   "end_time": "2023-01-01T23:00:50.639384",
   "environment_variables": {},
   "exception": null,
   "input_path": "__notebook__.ipynb",
   "output_path": "__notebook__.ipynb",
   "parameters": {},
   "start_time": "2023-01-01T23:00:41.012883",
   "version": "2.3.4"
  }
 },
 "nbformat": 4,
 "nbformat_minor": 5
}
