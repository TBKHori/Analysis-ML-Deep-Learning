{
 "cells": [
  {
   "cell_type": "markdown",
   "id": "0d7a5943",
   "metadata": {
    "papermill": {
     "duration": 0.006569,
     "end_time": "2023-05-09T22:49:39.398498",
     "exception": false,
     "start_time": "2023-05-09T22:49:39.391929",
     "status": "completed"
    },
    "tags": []
   },
   "source": [
    "**This notebook is an exercise in the [Intro to Programming](https://www.kaggle.com/learn/intro-to-programming) course.  You can reference the tutorial at [this link](https://www.kaggle.com/alexisbcook/functions).**\n",
    "\n",
    "---\n"
   ]
  },
  {
   "cell_type": "markdown",
   "id": "06ab2957",
   "metadata": {
    "papermill": {
     "duration": 0.005295,
     "end_time": "2023-05-09T22:49:39.409533",
     "exception": false,
     "start_time": "2023-05-09T22:49:39.404238",
     "status": "completed"
    },
    "tags": []
   },
   "source": [
    "In the tutorial, you learned about functions. In this exercise, you'll write some of your own!\n",
    "\n",
    "# Set up the notebook\n",
    "\n",
    "Run the next code cell without changes to set up the notebook."
   ]
  },
  {
   "cell_type": "code",
   "execution_count": 1,
   "id": "b78a5f62",
   "metadata": {
    "execution": {
     "iopub.execute_input": "2023-05-09T22:49:39.422793Z",
     "iopub.status.busy": "2023-05-09T22:49:39.422201Z",
     "iopub.status.idle": "2023-05-09T22:49:39.461876Z",
     "shell.execute_reply": "2023-05-09T22:49:39.460793Z"
    },
    "papermill": {
     "duration": 0.048881,
     "end_time": "2023-05-09T22:49:39.464097",
     "exception": false,
     "start_time": "2023-05-09T22:49:39.415216",
     "status": "completed"
    },
    "tags": []
   },
   "outputs": [
    {
     "name": "stdout",
     "output_type": "stream",
     "text": [
      "Setup complete.\n"
     ]
    }
   ],
   "source": [
    "# Set up the exercise\n",
    "import math\n",
    "from learntools.core import binder\n",
    "binder.bind(globals())\n",
    "from learntools.intro_to_programming.ex2 import *\n",
    "print('Setup complete.')"
   ]
  },
  {
   "cell_type": "markdown",
   "id": "4c22dd11",
   "metadata": {
    "papermill": {
     "duration": 0.005339,
     "end_time": "2023-05-09T22:49:39.475348",
     "exception": false,
     "start_time": "2023-05-09T22:49:39.470009",
     "status": "completed"
    },
    "tags": []
   },
   "source": [
    "# Question 1\n",
    "\n",
    "In the [House Prices - Advanced Regression Techniques competition](https://www.kaggle.com/c/house-prices-advanced-regression-techniques/overview), you need to use information like the number of bedrooms and bathrooms to predict the price of a house.  Inspired by this competition, you'll write your own function to do this.\n",
    "\n",
    "In the next code cell, create a function `get_expected_cost()` that has two arguments:\n",
    "- `beds` - number of bedrooms \n",
    "- `baths` - number of bathrooms\n",
    "\n",
    "It should return the expected cost of a house with that number of bedrooms and bathrooms.  Assume that:\n",
    "- the expected cost for a house with 0 bedrooms and 0 bathrooms is `80000`.  \n",
    "- each bedroom adds `30000` to the expected cost\n",
    "- each bathroom adds `10000` to the expected cost.\n",
    "\n",
    "For instance, \n",
    "- a house with 1 bedroom and 1 bathroom has an expected cost of `120000`, and \n",
    "- a house with 2 bedrooms and 1 bathroom has an expected cost of `150000`."
   ]
  },
  {
   "cell_type": "code",
   "execution_count": 2,
   "id": "f14c06a9",
   "metadata": {
    "execution": {
     "iopub.execute_input": "2023-05-09T22:49:39.488594Z",
     "iopub.status.busy": "2023-05-09T22:49:39.487857Z",
     "iopub.status.idle": "2023-05-09T22:49:39.497733Z",
     "shell.execute_reply": "2023-05-09T22:49:39.496890Z"
    },
    "papermill": {
     "duration": 0.018759,
     "end_time": "2023-05-09T22:49:39.499638",
     "exception": false,
     "start_time": "2023-05-09T22:49:39.480879",
     "status": "completed"
    },
    "tags": []
   },
   "outputs": [
    {
     "data": {
      "application/javascript": [
       "parent.postMessage({\"jupyterEvent\": \"custom.exercise_interaction\", \"data\": {\"outcomeType\": 1, \"valueTowardsCompletion\": 0.2, \"interactionType\": 1, \"questionType\": 2, \"questionId\": \"1_GetExpectedCost\", \"learnToolsVersion\": \"0.3.4\", \"failureMessage\": \"\", \"exceptionClass\": \"\", \"trace\": \"\"}}, \"*\")"
      ],
      "text/plain": [
       "<IPython.core.display.Javascript object>"
      ]
     },
     "metadata": {},
     "output_type": "display_data"
    },
    {
     "data": {
      "text/markdown": [
       "<span style=\"color:#33cc33\">Correct</span>"
      ],
      "text/plain": [
       "Correct"
      ]
     },
     "metadata": {},
     "output_type": "display_data"
    }
   ],
   "source": [
    "# TODO: Complete the function\n",
    "def get_expected_cost(beds, baths):\n",
    "    value = 80000 + 30000 * beds + 10000 * baths\n",
    "    return value\n",
    "\n",
    "# Check your answer \n",
    "q1.check()"
   ]
  },
  {
   "cell_type": "code",
   "execution_count": 3,
   "id": "5ab8594a",
   "metadata": {
    "execution": {
     "iopub.execute_input": "2023-05-09T22:49:39.513510Z",
     "iopub.status.busy": "2023-05-09T22:49:39.512853Z",
     "iopub.status.idle": "2023-05-09T22:49:39.517179Z",
     "shell.execute_reply": "2023-05-09T22:49:39.516376Z"
    },
    "papermill": {
     "duration": 0.01364,
     "end_time": "2023-05-09T22:49:39.519158",
     "exception": false,
     "start_time": "2023-05-09T22:49:39.505518",
     "status": "completed"
    },
    "tags": []
   },
   "outputs": [],
   "source": [
    "# Uncomment to see a hint\n",
    "#q1.hint()\n",
    "\n",
    "# Uncomment to view the solution\n",
    "#q1.solution()"
   ]
  },
  {
   "cell_type": "markdown",
   "id": "b601caf2",
   "metadata": {
    "papermill": {
     "duration": 0.005676,
     "end_time": "2023-05-09T22:49:39.530840",
     "exception": false,
     "start_time": "2023-05-09T22:49:39.525164",
     "status": "completed"
    },
    "tags": []
   },
   "source": [
    "# Question 2\n",
    "\n",
    "You are thinking about buying a home and want to get an idea of how much you will spend, based on the number of bedrooms and bathrooms.  You are trying to decide between four different options:\n",
    "- Option 1: house with two bedrooms and three bathrooms\n",
    "- Option 2: house with three bedrooms and two bathrooms\n",
    "- Option 3: house with three bedrooms and three bathrooms\n",
    "- Option 4: house with three bedrooms and four bathrooms\n",
    "\n",
    "Use the `get_expected_cost()` function you defined in question 1 to set `option_1`, `option_2`, `option_3`, and `option_4` to the expected cost of each option."
   ]
  },
  {
   "cell_type": "code",
   "execution_count": 4,
   "id": "4c20bdf7",
   "metadata": {
    "execution": {
     "iopub.execute_input": "2023-05-09T22:49:39.544695Z",
     "iopub.status.busy": "2023-05-09T22:49:39.544029Z",
     "iopub.status.idle": "2023-05-09T22:49:39.554598Z",
     "shell.execute_reply": "2023-05-09T22:49:39.553530Z"
    },
    "papermill": {
     "duration": 0.019815,
     "end_time": "2023-05-09T22:49:39.556516",
     "exception": false,
     "start_time": "2023-05-09T22:49:39.536701",
     "status": "completed"
    },
    "tags": []
   },
   "outputs": [
    {
     "name": "stdout",
     "output_type": "stream",
     "text": [
      "170000\n",
      "190000\n",
      "200000\n",
      "210000\n"
     ]
    },
    {
     "data": {
      "application/javascript": [
       "parent.postMessage({\"jupyterEvent\": \"custom.exercise_interaction\", \"data\": {\"outcomeType\": 1, \"valueTowardsCompletion\": 0.2, \"interactionType\": 1, \"questionType\": 1, \"questionId\": \"2_RunGetExpectedCost\", \"learnToolsVersion\": \"0.3.4\", \"failureMessage\": \"\", \"exceptionClass\": \"\", \"trace\": \"\"}}, \"*\")"
      ],
      "text/plain": [
       "<IPython.core.display.Javascript object>"
      ]
     },
     "metadata": {},
     "output_type": "display_data"
    },
    {
     "data": {
      "text/markdown": [
       "<span style=\"color:#33cc33\">Correct</span>"
      ],
      "text/plain": [
       "Correct"
      ]
     },
     "metadata": {},
     "output_type": "display_data"
    }
   ],
   "source": [
    "# TODO: Use the get_expected_cost function to fill in each value\n",
    "option_one = get_expected_cost(2, 3)\n",
    "option_two = get_expected_cost(3, 2)\n",
    "option_three = get_expected_cost(3, 3)\n",
    "option_four = get_expected_cost(3, 4)\n",
    "\n",
    "print(option_one)\n",
    "print(option_two)\n",
    "print(option_three)\n",
    "print(option_four)\n",
    "\n",
    "# Check your answer\n",
    "q2.check()"
   ]
  },
  {
   "cell_type": "code",
   "execution_count": 5,
   "id": "0b5b4ce5",
   "metadata": {
    "execution": {
     "iopub.execute_input": "2023-05-09T22:49:39.571272Z",
     "iopub.status.busy": "2023-05-09T22:49:39.570241Z",
     "iopub.status.idle": "2023-05-09T22:49:39.574296Z",
     "shell.execute_reply": "2023-05-09T22:49:39.573501Z"
    },
    "papermill": {
     "duration": 0.013398,
     "end_time": "2023-05-09T22:49:39.576174",
     "exception": false,
     "start_time": "2023-05-09T22:49:39.562776",
     "status": "completed"
    },
    "tags": []
   },
   "outputs": [],
   "source": [
    "# Uncomment to see a hint\n",
    "#q2.hint()\n",
    "\n",
    "# Uncomment to view the solution\n",
    "#q2.solution()"
   ]
  },
  {
   "cell_type": "markdown",
   "id": "30481910",
   "metadata": {
    "papermill": {
     "duration": 0.00587,
     "end_time": "2023-05-09T22:49:39.588442",
     "exception": false,
     "start_time": "2023-05-09T22:49:39.582572",
     "status": "completed"
    },
    "tags": []
   },
   "source": [
    "# Question 3\n",
    "\n",
    "You're a home decorator, and you'd like to use Python to streamline some of your work.  Specifically, you're creating a tool that you intend to use to calculate the cost of painting a room.\n",
    "\n",
    "As a first step, define a function `get_cost()` that takes as input:\n",
    "- `sqft_walls` = total square feet of walls to be painted\n",
    "- `sqft_ceiling` = square feet of ceiling to be painted\n",
    "- `sqft_per_gallon` = number of square feet that you can cover with one gallon of paint\n",
    "- `cost_per_gallon` = cost (in dollars) of one gallon of paint\n",
    "\n",
    "It should return the cost (in dollars) of putting one coat of paint on all walls and the ceiling.  Assume you can buy the exact amount of paint that you need, so you can buy partial gallons (e.g., if you need 7.523 gallons, you can buy that exact amount, instead of needing to buy 8 gallons and waste some paint).  Do not round your answer."
   ]
  },
  {
   "cell_type": "code",
   "execution_count": 6,
   "id": "516542ea",
   "metadata": {
    "execution": {
     "iopub.execute_input": "2023-05-09T22:49:39.602647Z",
     "iopub.status.busy": "2023-05-09T22:49:39.601959Z",
     "iopub.status.idle": "2023-05-09T22:49:39.611052Z",
     "shell.execute_reply": "2023-05-09T22:49:39.610077Z"
    },
    "papermill": {
     "duration": 0.018584,
     "end_time": "2023-05-09T22:49:39.613152",
     "exception": false,
     "start_time": "2023-05-09T22:49:39.594568",
     "status": "completed"
    },
    "tags": []
   },
   "outputs": [
    {
     "data": {
      "application/javascript": [
       "parent.postMessage({\"jupyterEvent\": \"custom.exercise_interaction\", \"data\": {\"outcomeType\": 1, \"valueTowardsCompletion\": 0.2, \"interactionType\": 1, \"questionType\": 2, \"questionId\": \"3_GetCostPaint\", \"learnToolsVersion\": \"0.3.4\", \"failureMessage\": \"\", \"exceptionClass\": \"\", \"trace\": \"\"}}, \"*\")"
      ],
      "text/plain": [
       "<IPython.core.display.Javascript object>"
      ]
     },
     "metadata": {},
     "output_type": "display_data"
    },
    {
     "data": {
      "text/markdown": [
       "<span style=\"color:#33cc33\">Correct</span>"
      ],
      "text/plain": [
       "Correct"
      ]
     },
     "metadata": {},
     "output_type": "display_data"
    }
   ],
   "source": [
    "# TODO: Finish defining the function\n",
    "def get_cost(sqft_walls, sqft_ceiling, sqft_per_gallon, cost_per_gallon):\n",
    "    total_sqft = sqft_walls + sqft_ceiling\n",
    "    gallons_needed = total_sqft / sqft_per_gallon\n",
    "    cost = cost_per_gallon * gallons_needed\n",
    "    return cost\n",
    "\n",
    "# Check your answer\n",
    "q3.check()"
   ]
  },
  {
   "cell_type": "code",
   "execution_count": 7,
   "id": "f3aa3d63",
   "metadata": {
    "execution": {
     "iopub.execute_input": "2023-05-09T22:49:39.628212Z",
     "iopub.status.busy": "2023-05-09T22:49:39.627448Z",
     "iopub.status.idle": "2023-05-09T22:49:39.632111Z",
     "shell.execute_reply": "2023-05-09T22:49:39.631111Z"
    },
    "papermill": {
     "duration": 0.01452,
     "end_time": "2023-05-09T22:49:39.634272",
     "exception": false,
     "start_time": "2023-05-09T22:49:39.619752",
     "status": "completed"
    },
    "tags": []
   },
   "outputs": [],
   "source": [
    "# Uncomment to see a hint\n",
    "#q3.hint()\n",
    "\n",
    "# Uncomment to view the solution\n",
    "#q3.solution()"
   ]
  },
  {
   "cell_type": "markdown",
   "id": "050b1966",
   "metadata": {
    "papermill": {
     "duration": 0.006214,
     "end_time": "2023-05-09T22:49:39.646923",
     "exception": false,
     "start_time": "2023-05-09T22:49:39.640709",
     "status": "completed"
    },
    "tags": []
   },
   "source": [
    "# Question 4\n",
    "\n",
    "Use the `get_cost()` function you defined in Question 3 to calculate the cost of applying one coat of paint to a room with:\n",
    "- 432 square feet of walls, and\n",
    "- 144 square feet of ceiling.\n",
    "\n",
    "Assume that one gallon of paint covers 400 square feet and costs $15.  As in Question 3, assume you can buy partial gallons of paint.  Do not round your answer."
   ]
  },
  {
   "cell_type": "code",
   "execution_count": 8,
   "id": "a76feb91",
   "metadata": {
    "execution": {
     "iopub.execute_input": "2023-05-09T22:49:39.661611Z",
     "iopub.status.busy": "2023-05-09T22:49:39.661230Z",
     "iopub.status.idle": "2023-05-09T22:49:39.670033Z",
     "shell.execute_reply": "2023-05-09T22:49:39.669203Z"
    },
    "papermill": {
     "duration": 0.018615,
     "end_time": "2023-05-09T22:49:39.672078",
     "exception": false,
     "start_time": "2023-05-09T22:49:39.653463",
     "status": "completed"
    },
    "tags": []
   },
   "outputs": [
    {
     "data": {
      "application/javascript": [
       "parent.postMessage({\"jupyterEvent\": \"custom.exercise_interaction\", \"data\": {\"outcomeType\": 1, \"valueTowardsCompletion\": 0.2, \"interactionType\": 1, \"questionType\": 1, \"questionId\": \"4_GetCostPaintExample\", \"learnToolsVersion\": \"0.3.4\", \"failureMessage\": \"\", \"exceptionClass\": \"\", \"trace\": \"\"}}, \"*\")"
      ],
      "text/plain": [
       "<IPython.core.display.Javascript object>"
      ]
     },
     "metadata": {},
     "output_type": "display_data"
    },
    {
     "data": {
      "text/markdown": [
       "<span style=\"color:#33cc33\">Correct</span>"
      ],
      "text/plain": [
       "Correct"
      ]
     },
     "metadata": {},
     "output_type": "display_data"
    }
   ],
   "source": [
    "# TODO: Set the project_cost variable to the cost of the project\n",
    "project_cost = get_cost(432, 144, 400, 15)\n",
    "\n",
    "# Check your answer\n",
    "q4.check()"
   ]
  },
  {
   "cell_type": "code",
   "execution_count": 9,
   "id": "a64e1d30",
   "metadata": {
    "execution": {
     "iopub.execute_input": "2023-05-09T22:49:39.686996Z",
     "iopub.status.busy": "2023-05-09T22:49:39.686311Z",
     "iopub.status.idle": "2023-05-09T22:49:39.690811Z",
     "shell.execute_reply": "2023-05-09T22:49:39.689917Z"
    },
    "papermill": {
     "duration": 0.014157,
     "end_time": "2023-05-09T22:49:39.692784",
     "exception": false,
     "start_time": "2023-05-09T22:49:39.678627",
     "status": "completed"
    },
    "tags": []
   },
   "outputs": [],
   "source": [
    "# Uncomment to see a hint\n",
    "#q4.hint()\n",
    "\n",
    "# Uncomment to view the solution\n",
    "#q4.solution()"
   ]
  },
  {
   "cell_type": "markdown",
   "id": "88b89cab",
   "metadata": {
    "papermill": {
     "duration": 0.006368,
     "end_time": "2023-05-09T22:49:39.705911",
     "exception": false,
     "start_time": "2023-05-09T22:49:39.699543",
     "status": "completed"
    },
    "tags": []
   },
   "source": [
    "# 🌶️ Question 5\n",
    "\n",
    "Now say you can no longer buy fractions of a gallon.  (For instance, if you need 4.3 gallons to do a project, then you have to buy 5 gallons of paint.)\n",
    "\n",
    "With this new scenario, you will create a new function `get_actual_cost` that uses the same inputs and calculates the cost of your project.\n",
    "\n",
    "One function that you'll need to use to do this is `math.ceil()`.  We demonstrate usage of this function in the code cell below.  It takes as a number as input and rounds the number up to the nearest integer.  \n",
    "\n",
    "Run the next code cell to test this function for yourself.  Feel free to change the value of `test_value` and make sure `math.ceil()` returns the number you expect."
   ]
  },
  {
   "cell_type": "code",
   "execution_count": 10,
   "id": "f543f4aa",
   "metadata": {
    "execution": {
     "iopub.execute_input": "2023-05-09T22:49:39.725800Z",
     "iopub.status.busy": "2023-05-09T22:49:39.725045Z",
     "iopub.status.idle": "2023-05-09T22:49:39.732918Z",
     "shell.execute_reply": "2023-05-09T22:49:39.731763Z"
    },
    "papermill": {
     "duration": 0.020533,
     "end_time": "2023-05-09T22:49:39.735244",
     "exception": false,
     "start_time": "2023-05-09T22:49:39.714711",
     "status": "completed"
    },
    "tags": []
   },
   "outputs": [
    {
     "name": "stdout",
     "output_type": "stream",
     "text": [
      "3\n"
     ]
    }
   ],
   "source": [
    "test_value = 2.17\n",
    "\n",
    "rounded_value = math.ceil(test_value)\n",
    "print(rounded_value)"
   ]
  },
  {
   "cell_type": "markdown",
   "id": "10f985db",
   "metadata": {
    "papermill": {
     "duration": 0.010122,
     "end_time": "2023-05-09T22:49:39.754696",
     "exception": false,
     "start_time": "2023-05-09T22:49:39.744574",
     "status": "completed"
    },
    "tags": []
   },
   "source": [
    "Use the next code cell to define the function `get_actual_cost()`.  You'll need to use the `math.ceil()` function to do this.\n",
    "\n",
    "When answering this question, note that it's completely valid to define a function that makes use of another function.  For instance, we can define a function `round_up_and_divide_by_three` that makes use of the `math.ceil` function:\n",
    "```\n",
    "def round_up_and_divide_by_three(num):\n",
    "    new_value = math.ceil(num)\n",
    "    final_value = new_value / 3\n",
    "    return final_value\n",
    "```"
   ]
  },
  {
   "cell_type": "code",
   "execution_count": 11,
   "id": "635102db",
   "metadata": {
    "execution": {
     "iopub.execute_input": "2023-05-09T22:49:39.776337Z",
     "iopub.status.busy": "2023-05-09T22:49:39.775866Z",
     "iopub.status.idle": "2023-05-09T22:49:39.786168Z",
     "shell.execute_reply": "2023-05-09T22:49:39.784661Z"
    },
    "papermill": {
     "duration": 0.0238,
     "end_time": "2023-05-09T22:49:39.788617",
     "exception": false,
     "start_time": "2023-05-09T22:49:39.764817",
     "status": "completed"
    },
    "tags": []
   },
   "outputs": [
    {
     "data": {
      "application/javascript": [
       "parent.postMessage({\"jupyterEvent\": \"custom.exercise_interaction\", \"data\": {\"outcomeType\": 1, \"valueTowardsCompletion\": 0.2, \"interactionType\": 1, \"questionType\": 2, \"questionId\": \"5_NoMoreFractions\", \"learnToolsVersion\": \"0.3.4\", \"failureMessage\": \"\", \"exceptionClass\": \"\", \"trace\": \"\"}}, \"*\")"
      ],
      "text/plain": [
       "<IPython.core.display.Javascript object>"
      ]
     },
     "metadata": {},
     "output_type": "display_data"
    },
    {
     "data": {
      "text/markdown": [
       "<span style=\"color:#33cc33\">Correct</span>"
      ],
      "text/plain": [
       "Correct"
      ]
     },
     "metadata": {},
     "output_type": "display_data"
    }
   ],
   "source": [
    "def get_actual_cost(sqft_walls, sqft_ceiling, sqft_per_gallon, cost_per_gallon):\n",
    "    total_sqft = sqft_walls + sqft_ceiling\n",
    "    gallons_needed = total_sqft / sqft_per_gallon\n",
    "    gallons_to_buy = math.ceil(gallons_needed)\n",
    "    cost = cost_per_gallon * gallons_to_buy\n",
    "    return cost\n",
    "\n",
    "# Check your answer\n",
    "q5.check()"
   ]
  },
  {
   "cell_type": "code",
   "execution_count": 12,
   "id": "dc9332ca",
   "metadata": {
    "execution": {
     "iopub.execute_input": "2023-05-09T22:49:39.806974Z",
     "iopub.status.busy": "2023-05-09T22:49:39.806172Z",
     "iopub.status.idle": "2023-05-09T22:49:39.811141Z",
     "shell.execute_reply": "2023-05-09T22:49:39.810108Z"
    },
    "papermill": {
     "duration": 0.015704,
     "end_time": "2023-05-09T22:49:39.813392",
     "exception": false,
     "start_time": "2023-05-09T22:49:39.797688",
     "status": "completed"
    },
    "tags": []
   },
   "outputs": [],
   "source": [
    "# Uncomment to see a hint\n",
    "#q5.hint()\n",
    "\n",
    "# Uncomment to view the solution\n",
    "#q5.solution()"
   ]
  },
  {
   "cell_type": "markdown",
   "id": "8ef784a8",
   "metadata": {
    "papermill": {
     "duration": 0.006683,
     "end_time": "2023-05-09T22:49:39.827305",
     "exception": false,
     "start_time": "2023-05-09T22:49:39.820622",
     "status": "completed"
    },
    "tags": []
   },
   "source": [
    "Once your function is verified as correct, run the next code cell to calculate the updated cost of your project."
   ]
  },
  {
   "cell_type": "code",
   "execution_count": 13,
   "id": "31dec353",
   "metadata": {
    "execution": {
     "iopub.execute_input": "2023-05-09T22:49:39.843141Z",
     "iopub.status.busy": "2023-05-09T22:49:39.842740Z",
     "iopub.status.idle": "2023-05-09T22:49:39.849046Z",
     "shell.execute_reply": "2023-05-09T22:49:39.847987Z"
    },
    "papermill": {
     "duration": 0.016739,
     "end_time": "2023-05-09T22:49:39.851136",
     "exception": false,
     "start_time": "2023-05-09T22:49:39.834397",
     "status": "completed"
    },
    "tags": []
   },
   "outputs": [
    {
     "data": {
      "text/plain": [
       "30"
      ]
     },
     "execution_count": 13,
     "metadata": {},
     "output_type": "execute_result"
    }
   ],
   "source": [
    "get_actual_cost(432, 144, 400, 15) "
   ]
  },
  {
   "cell_type": "markdown",
   "id": "4eee634a",
   "metadata": {
    "papermill": {
     "duration": 0.006777,
     "end_time": "2023-05-09T22:49:39.865250",
     "exception": false,
     "start_time": "2023-05-09T22:49:39.858473",
     "status": "completed"
    },
    "tags": []
   },
   "source": [
    "Say you're working with a slightly larger room.  Run the next code cell to calculate the cost of the project."
   ]
  },
  {
   "cell_type": "code",
   "execution_count": 14,
   "id": "f28eaf1b",
   "metadata": {
    "execution": {
     "iopub.execute_input": "2023-05-09T22:49:39.880844Z",
     "iopub.status.busy": "2023-05-09T22:49:39.880485Z",
     "iopub.status.idle": "2023-05-09T22:49:39.886933Z",
     "shell.execute_reply": "2023-05-09T22:49:39.885873Z"
    },
    "papermill": {
     "duration": 0.016574,
     "end_time": "2023-05-09T22:49:39.888891",
     "exception": false,
     "start_time": "2023-05-09T22:49:39.872317",
     "status": "completed"
    },
    "tags": []
   },
   "outputs": [
    {
     "data": {
      "text/plain": [
       "45"
      ]
     },
     "execution_count": 14,
     "metadata": {},
     "output_type": "execute_result"
    }
   ],
   "source": [
    "get_actual_cost(594, 288, 400, 15) "
   ]
  },
  {
   "cell_type": "markdown",
   "id": "4ea18252",
   "metadata": {
    "papermill": {
     "duration": 0.007165,
     "end_time": "2023-05-09T22:49:39.903460",
     "exception": false,
     "start_time": "2023-05-09T22:49:39.896295",
     "status": "completed"
    },
    "tags": []
   },
   "source": [
    "# Keep going\n",
    "\n",
    "Continue to learn about **[data types](https://www.kaggle.com/alexisbcook/data-types)**."
   ]
  },
  {
   "cell_type": "markdown",
   "id": "7e5bde10",
   "metadata": {
    "papermill": {
     "duration": 0.006861,
     "end_time": "2023-05-09T22:49:39.917611",
     "exception": false,
     "start_time": "2023-05-09T22:49:39.910750",
     "status": "completed"
    },
    "tags": []
   },
   "source": [
    "---\n",
    "\n",
    "\n",
    "\n",
    "\n",
    "*Have questions or comments? Visit the [course discussion forum](https://www.kaggle.com/learn/intro-to-programming/discussion) to chat with other learners.*"
   ]
  }
 ],
 "metadata": {
  "kernelspec": {
   "display_name": "Python 3",
   "language": "python",
   "name": "python3"
  },
  "language_info": {
   "codemirror_mode": {
    "name": "ipython",
    "version": 3
   },
   "file_extension": ".py",
   "mimetype": "text/x-python",
   "name": "python",
   "nbconvert_exporter": "python",
   "pygments_lexer": "ipython3",
   "version": "3.10.10"
  },
  "papermill": {
   "default_parameters": {},
   "duration": 11.905493,
   "end_time": "2023-05-09T22:49:40.746013",
   "environment_variables": {},
   "exception": null,
   "input_path": "__notebook__.ipynb",
   "output_path": "__notebook__.ipynb",
   "parameters": {},
   "start_time": "2023-05-09T22:49:28.840520",
   "version": "2.4.0"
  }
 },
 "nbformat": 4,
 "nbformat_minor": 5
}
