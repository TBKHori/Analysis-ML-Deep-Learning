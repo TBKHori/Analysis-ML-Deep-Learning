{
  "nbformat": 4,
  "nbformat_minor": 0,
  "metadata": {
    "colab": {
      "provenance": [],
      "authorship_tag": "ABX9TyODpIr6p3al+hJOI7hfepY5"
    },
    "kernelspec": {
      "name": "python3",
      "display_name": "Python 3"
    },
    "language_info": {
      "name": "python"
    }
  },
  "cells": [
    {
      "cell_type": "code",
      "execution_count": 1,
      "metadata": {
        "colab": {
          "base_uri": "https://localhost:8080/"
        },
        "id": "7NLjXg-fjoIO",
        "outputId": "5b01b257-17ee-4444-aa40-4c03cb470064"
      },
      "outputs": [
        {
          "output_type": "stream",
          "name": "stdout",
          "text": [
            "\u001b[2K     \u001b[90m━━━━━━━━━━━━━━━━━━━━━━━━━━━━━━━━━━━━━━━━\u001b[0m \u001b[32m719.8/719.8 kB\u001b[0m \u001b[31m6.5 MB/s\u001b[0m eta \u001b[36m0:00:00\u001b[0m\n",
            "\u001b[2K     \u001b[90m━━━━━━━━━━━━━━━━━━━━━━━━━━━━━━━━━━━━━━━━\u001b[0m \u001b[32m7.7/7.7 MB\u001b[0m \u001b[31m21.3 MB/s\u001b[0m eta \u001b[36m0:00:00\u001b[0m\n",
            "\u001b[2K     \u001b[90m━━━━━━━━━━━━━━━━━━━━━━━━━━━━━━━━━━━━━━━━\u001b[0m \u001b[32m493.7/493.7 kB\u001b[0m \u001b[31m30.8 MB/s\u001b[0m eta \u001b[36m0:00:00\u001b[0m\n",
            "\u001b[2K     \u001b[90m━━━━━━━━━━━━━━━━━━━━━━━━━━━━━━━━━━━━━━━━\u001b[0m \u001b[32m1.3/1.3 MB\u001b[0m \u001b[31m34.6 MB/s\u001b[0m eta \u001b[36m0:00:00\u001b[0m\n",
            "\u001b[2K     \u001b[90m━━━━━━━━━━━━━━━━━━━━━━━━━━━━━━━━━━━━━━━━\u001b[0m \u001b[32m115.3/115.3 kB\u001b[0m \u001b[31m19.8 MB/s\u001b[0m eta \u001b[36m0:00:00\u001b[0m\n",
            "\u001b[2K     \u001b[90m━━━━━━━━━━━━━━━━━━━━━━━━━━━━━━━━━━━━━━━━\u001b[0m \u001b[32m134.8/134.8 kB\u001b[0m \u001b[31m22.4 MB/s\u001b[0m eta \u001b[36m0:00:00\u001b[0m\n",
            "\u001b[2K     \u001b[90m━━━━━━━━━━━━━━━━━━━━━━━━━━━━━━━━━━━━━━━━\u001b[0m \u001b[32m302.0/302.0 kB\u001b[0m \u001b[31m42.8 MB/s\u001b[0m eta \u001b[36m0:00:00\u001b[0m\n",
            "\u001b[2K     \u001b[90m━━━━━━━━━━━━━━━━━━━━━━━━━━━━━━━━━━━━━━━━\u001b[0m \u001b[32m3.8/3.8 MB\u001b[0m \u001b[31m31.0 MB/s\u001b[0m eta \u001b[36m0:00:00\u001b[0m\n",
            "\u001b[2K     \u001b[90m━━━━━━━━━━━━━━━━━━━━━━━━━━━━━━━━━━━━━━━━\u001b[0m \u001b[32m1.3/1.3 MB\u001b[0m \u001b[31m46.0 MB/s\u001b[0m eta \u001b[36m0:00:00\u001b[0m\n",
            "\u001b[2K     \u001b[90m━━━━━━━━━━━━━━━━━━━━━━━━━━━━━━━━━━━━━━━━\u001b[0m \u001b[32m1.6/1.6 MB\u001b[0m \u001b[31m54.2 MB/s\u001b[0m eta \u001b[36m0:00:00\u001b[0m\n",
            "\u001b[2K     \u001b[90m━━━━━━━━━━━━━━━━━━━━━━━━━━━━━━━━━━━━━━━━\u001b[0m \u001b[32m295.0/295.0 kB\u001b[0m \u001b[31m38.8 MB/s\u001b[0m eta \u001b[36m0:00:00\u001b[0m\n",
            "\u001b[?25hMounted at /content/gdrive\n"
          ]
        }
      ],
      "source": [
        "#hide\n",
        "! [ -e /content ] && pip install -Uqq fastbook\n",
        "import fastbook\n",
        "fastbook.setup_book()"
      ]
    },
    {
      "cell_type": "code",
      "source": [
        "#hide\n",
        "from fastai.vision.all import *\n",
        "from fastbook import *\n",
        "\n",
        "matplotlib.rc('image', cmap='Greys')"
      ],
      "metadata": {
        "id": "7uhwz4LXjwKI"
      },
      "execution_count": 2,
      "outputs": []
    },
    {
      "cell_type": "markdown",
      "source": [
        "\n",
        "#Convolutional Neural Networks"
      ],
      "metadata": {
        "id": "t_VDbV91jtLP"
      }
    },
    {
      "cell_type": "markdown",
      "source": [
        "The Magic of Convolutions"
      ],
      "metadata": {
        "id": "P8Y2Xp-xj5x0"
      }
    },
    {
      "cell_type": "code",
      "source": [
        "top_edge = tensor([[-1,-1,-1],\n",
        "                   [ 0, 0, 0],\n",
        "                   [ 1, 1, 1]]).float()"
      ],
      "metadata": {
        "id": "LXW6R8Q7j1oa"
      },
      "execution_count": 3,
      "outputs": []
    },
    {
      "cell_type": "code",
      "source": [
        "path = untar_data(URLs.MNIST_SAMPLE)"
      ],
      "metadata": {
        "colab": {
          "base_uri": "https://localhost:8080/",
          "height": 37
        },
        "id": "D3Yf8Wx9j_xu",
        "outputId": "a1120091-ba91-4779-badd-c6fb4e9cb27f"
      },
      "execution_count": 4,
      "outputs": [
        {
          "output_type": "display_data",
          "data": {
            "text/plain": [
              "<IPython.core.display.HTML object>"
            ],
            "text/html": [
              "\n",
              "<style>\n",
              "    /* Turns off some styling */\n",
              "    progress {\n",
              "        /* gets rid of default border in Firefox and Opera. */\n",
              "        border: none;\n",
              "        /* Needs to be in here for Safari polyfill so background images work as expected. */\n",
              "        background-size: auto;\n",
              "    }\n",
              "    progress:not([value]), progress:not([value])::-webkit-progress-bar {\n",
              "        background: repeating-linear-gradient(45deg, #7e7e7e, #7e7e7e 10px, #5c5c5c 10px, #5c5c5c 20px);\n",
              "    }\n",
              "    .progress-bar-interrupted, .progress-bar-interrupted::-webkit-progress-bar {\n",
              "        background: #F44336;\n",
              "    }\n",
              "</style>\n"
            ]
          },
          "metadata": {}
        },
        {
          "output_type": "display_data",
          "data": {
            "text/plain": [
              "<IPython.core.display.HTML object>"
            ],
            "text/html": [
              "\n",
              "    <div>\n",
              "      <progress value='3219456' class='' max='3214948' style='width:300px; height:20px; vertical-align: middle;'></progress>\n",
              "      100.14% [3219456/3214948 00:00&lt;00:00]\n",
              "    </div>\n",
              "    "
            ]
          },
          "metadata": {}
        }
      ]
    },
    {
      "cell_type": "code",
      "source": [
        "#hide\n",
        "Path.BASE_PATH = path"
      ],
      "metadata": {
        "id": "FCAp2qkvkB9Q"
      },
      "execution_count": 5,
      "outputs": []
    },
    {
      "cell_type": "code",
      "source": [
        "im3 = Image.open(path/'train'/'3'/'12.png')\n",
        "show_image(im3);"
      ],
      "metadata": {
        "colab": {
          "base_uri": "https://localhost:8080/",
          "height": 114
        },
        "id": "niBvynfqkEfg",
        "outputId": "9a36811f-c25b-4529-da4b-f4ad3c2b7ff9"
      },
      "execution_count": 6,
      "outputs": [
        {
          "output_type": "display_data",
          "data": {
            "text/plain": [
              "<Figure size 100x100 with 1 Axes>"
            ],
            "image/png": "[encoded data removed]"
          },
          "metadata": {}
        }
      ]
    },
    {
      "cell_type": "code",
      "source": [
        "im3_t = tensor(im3)\n",
        "im3_t[0:3,0:3] * top_edge"
      ],
      "metadata": {
        "colab": {
          "base_uri": "https://localhost:8080/"
        },
        "id": "q0l60pMJkHIS",
        "outputId": "48413ec4-3a8f-4c6f-b120-f17f76cc6f64"
      },
      "execution_count": 7,
      "outputs": [
        {
          "output_type": "execute_result",
          "data": {
            "text/plain": [
              "tensor([[-0., -0., -0.],\n",
              "        [0., 0., 0.],\n",
              "        [0., 0., 0.]])"
            ]
          },
          "metadata": {},
          "execution_count": 7
        }
      ]
    },
    {
      "cell_type": "code",
      "source": [
        "(im3_t[0:3,0:3] * top_edge).sum()"
      ],
      "metadata": {
        "colab": {
          "base_uri": "https://localhost:8080/"
        },
        "id": "LrLi8IxlkJab",
        "outputId": "a31b26f4-9cc3-4a8e-e3c8-5eb645604a77"
      },
      "execution_count": 8,
      "outputs": [
        {
          "output_type": "execute_result",
          "data": {
            "text/plain": [
              "tensor(0.)"
            ]
          },
          "metadata": {},
          "execution_count": 8
        }
      ]
    },
    {
      "cell_type": "code",
      "source": [
        "#hide_output\n",
        "df = pd.DataFrame(im3_t[:10,:20])\n",
        "df.style.set_properties(**{'font-size':'6pt'}).background_gradient('Greys')"
      ],
      "metadata": {
        "colab": {
          "base_uri": "https://localhost:8080/",
          "height": 363
        },
        "id": "ZJFU4HxskMHT",
        "outputId": "ad97f5b2-adec-4e0d-c097-76bc0165c103"
      },
      "execution_count": 9,
      "outputs": [
        {
          "output_type": "execute_result",
          "data": {
            "text/plain": [
              "<pandas.io.formats.style.Styler at 0x7b6d58d0fd90>"
            ],
            "text/html": [
              "<style type=\"text/css\">\n",
              "#T_647c6_row0_col0, #T_647c6_row0_col1, #T_647c6_row0_col2, #T_647c6_row0_col3, #T_647c6_row0_col4, #T_647c6_row0_col5, #T_647c6_row0_col6, #T_647c6_row0_col7, #T_647c6_row0_col8, #T_647c6_row0_col9, #T_647c6_row0_col10, #T_647c6_row0_col11, #T_647c6_row0_col12, #T_647c6_row0_col13, #T_647c6_row0_col14, #T_647c6_row0_col15, #T_647c6_row0_col16, #T_647c6_row0_col17, #T_647c6_row0_col18, #T_647c6_row0_col19, #T_647c6_row1_col0, #T_647c6_row1_col1, #T_647c6_row1_col2, #T_647c6_row1_col3, #T_647c6_row1_col4, #T_647c6_row1_col5, #T_647c6_row1_col6, #T_647c6_row1_col7, #T_647c6_row1_col8, #T_647c6_row1_col9, #T_647c6_row1_col10, #T_647c6_row1_col11, #T_647c6_row1_col12, #T_647c6_row1_col13, #T_647c6_row1_col14, #T_647c6_row1_col15, #T_647c6_row1_col16, #T_647c6_row1_col17, #T_647c6_row1_col18, #T_647c6_row1_col19, #T_647c6_row2_col0, #T_647c6_row2_col1, #T_647c6_row2_col2, #T_647c6_row2_col3, #T_647c6_row2_col4, #T_647c6_row2_col5, #T_647c6_row2_col6, #T_647c6_row2_col7, #T_647c6_row2_col8, #T_647c6_row2_col9, #T_647c6_row2_col10, #T_647c6_row2_col11, #T_647c6_row2_col12, #T_647c6_row2_col13, #T_647c6_row2_col14, #T_647c6_row2_col15, #T_647c6_row2_col16, #T_647c6_row2_col17, #T_647c6_row2_col18, #T_647c6_row2_col19, #T_647c6_row3_col0, #T_647c6_row3_col1, #T_647c6_row3_col2, #T_647c6_row3_col3, #T_647c6_row3_col4, #T_647c6_row3_col5, #T_647c6_row3_col6, #T_647c6_row3_col7, #T_647c6_row3_col8, #T_647c6_row3_col9, #T_647c6_row3_col10, #T_647c6_row3_col11, #T_647c6_row3_col12, #T_647c6_row3_col13, #T_647c6_row3_col14, #T_647c6_row3_col15, #T_647c6_row3_col16, #T_647c6_row3_col17, #T_647c6_row3_col18, #T_647c6_row3_col19, #T_647c6_row4_col0, #T_647c6_row4_col1, #T_647c6_row4_col2, #T_647c6_row4_col3, #T_647c6_row4_col4, #T_647c6_row4_col5, #T_647c6_row4_col6, #T_647c6_row4_col7, #T_647c6_row4_col8, #T_647c6_row4_col9, #T_647c6_row4_col10, #T_647c6_row4_col11, #T_647c6_row4_col12, #T_647c6_row4_col13, #T_647c6_row4_col14, #T_647c6_row4_col15, #T_647c6_row4_col16, #T_647c6_row4_col17, #T_647c6_row4_col18, #T_647c6_row4_col19, #T_647c6_row5_col0, #T_647c6_row5_col1, #T_647c6_row5_col2, #T_647c6_row5_col16, #T_647c6_row5_col17, #T_647c6_row5_col18, #T_647c6_row5_col19, #T_647c6_row6_col0, #T_647c6_row6_col1, #T_647c6_row6_col2, #T_647c6_row6_col19, #T_647c6_row7_col0, #T_647c6_row7_col1, #T_647c6_row7_col2, #T_647c6_row7_col19, #T_647c6_row8_col0, #T_647c6_row8_col1, #T_647c6_row8_col2, #T_647c6_row8_col8, #T_647c6_row8_col9, #T_647c6_row8_col10, #T_647c6_row8_col11, #T_647c6_row8_col12, #T_647c6_row8_col13, #T_647c6_row8_col19, #T_647c6_row9_col0, #T_647c6_row9_col1, #T_647c6_row9_col2, #T_647c6_row9_col3, #T_647c6_row9_col4, #T_647c6_row9_col5, #T_647c6_row9_col6, #T_647c6_row9_col7, #T_647c6_row9_col8, #T_647c6_row9_col9, #T_647c6_row9_col10, #T_647c6_row9_col11, #T_647c6_row9_col12, #T_647c6_row9_col13, #T_647c6_row9_col19 {\n",
              "  font-size: 6pt;\n",
              "  background-color: #ffffff;\n",
              "  color: #000000;\n",
              "}\n",
              "#T_647c6_row5_col3, #T_647c6_row8_col14 {\n",
              "  font-size: 6pt;\n",
              "  background-color: #f9f9f9;\n",
              "  color: #000000;\n",
              "}\n",
              "#T_647c6_row5_col4 {\n",
              "  font-size: 6pt;\n",
              "  background-color: #b9b9b9;\n",
              "  color: #000000;\n",
              "}\n",
              "#T_647c6_row5_col5 {\n",
              "  font-size: 6pt;\n",
              "  background-color: #c1c1c1;\n",
              "  color: #000000;\n",
              "}\n",
              "#T_647c6_row5_col6 {\n",
              "  font-size: 6pt;\n",
              "  background-color: #858585;\n",
              "  color: #f1f1f1;\n",
              "}\n",
              "#T_647c6_row5_col7, #T_647c6_row5_col10, #T_647c6_row5_col11, #T_647c6_row5_col12, #T_647c6_row5_col13 {\n",
              "  font-size: 6pt;\n",
              "  background-color: #777777;\n",
              "  color: #f1f1f1;\n",
              "}\n",
              "#T_647c6_row5_col8 {\n",
              "  font-size: 6pt;\n",
              "  background-color: #090909;\n",
              "  color: #f1f1f1;\n",
              "}\n",
              "#T_647c6_row5_col9 {\n",
              "  font-size: 6pt;\n",
              "  background-color: #5b5b5b;\n",
              "  color: #f1f1f1;\n",
              "}\n",
              "#T_647c6_row5_col14 {\n",
              "  font-size: 6pt;\n",
              "  background-color: #919191;\n",
              "  color: #f1f1f1;\n",
              "}\n",
              "#T_647c6_row5_col15 {\n",
              "  font-size: 6pt;\n",
              "  background-color: #e1e1e1;\n",
              "  color: #000000;\n",
              "}\n",
              "#T_647c6_row6_col3 {\n",
              "  font-size: 6pt;\n",
              "  background-color: #727272;\n",
              "  color: #f1f1f1;\n",
              "}\n",
              "#T_647c6_row6_col4, #T_647c6_row6_col5, #T_647c6_row6_col6, #T_647c6_row6_col7, #T_647c6_row6_col8, #T_647c6_row6_col9, #T_647c6_row6_col10, #T_647c6_row6_col11, #T_647c6_row6_col12, #T_647c6_row6_col13, #T_647c6_row6_col14, #T_647c6_row7_col3, #T_647c6_row7_col4, #T_647c6_row7_col5, #T_647c6_row7_col6, #T_647c6_row7_col15, #T_647c6_row7_col16, #T_647c6_row7_col17, #T_647c6_row8_col16, #T_647c6_row8_col17, #T_647c6_row8_col18, #T_647c6_row9_col15, #T_647c6_row9_col16 {\n",
              "  font-size: 6pt;\n",
              "  background-color: #000000;\n",
              "  color: #f1f1f1;\n",
              "}\n",
              "#T_647c6_row6_col15 {\n",
              "  font-size: 6pt;\n",
              "  background-color: #020202;\n",
              "  color: #f1f1f1;\n",
              "}\n",
              "#T_647c6_row6_col16 {\n",
              "  font-size: 6pt;\n",
              "  background-color: #363636;\n",
              "  color: #f1f1f1;\n",
              "}\n",
              "#T_647c6_row6_col17 {\n",
              "  font-size: 6pt;\n",
              "  background-color: #9d9d9d;\n",
              "  color: #f1f1f1;\n",
              "}\n",
              "#T_647c6_row6_col18 {\n",
              "  font-size: 6pt;\n",
              "  background-color: #dfdfdf;\n",
              "  color: #000000;\n",
              "}\n",
              "#T_647c6_row7_col7 {\n",
              "  font-size: 6pt;\n",
              "  background-color: #161616;\n",
              "  color: #f1f1f1;\n",
              "}\n",
              "#T_647c6_row7_col8, #T_647c6_row7_col9, #T_647c6_row7_col10, #T_647c6_row7_col11, #T_647c6_row7_col13 {\n",
              "  font-size: 6pt;\n",
              "  background-color: #535353;\n",
              "  color: #f1f1f1;\n",
              "}\n",
              "#T_647c6_row7_col12 {\n",
              "  font-size: 6pt;\n",
              "  background-color: #7c7c7c;\n",
              "  color: #f1f1f1;\n",
              "}\n",
              "#T_647c6_row7_col14 {\n",
              "  font-size: 6pt;\n",
              "  background-color: #3d3d3d;\n",
              "  color: #f1f1f1;\n",
              "}\n",
              "#T_647c6_row7_col18 {\n",
              "  font-size: 6pt;\n",
              "  background-color: #999999;\n",
              "  color: #f1f1f1;\n",
              "}\n",
              "#T_647c6_row8_col3 {\n",
              "  font-size: 6pt;\n",
              "  background-color: #eaeaea;\n",
              "  color: #000000;\n",
              "}\n",
              "#T_647c6_row8_col4 {\n",
              "  font-size: 6pt;\n",
              "  background-color: #d0d0d0;\n",
              "  color: #000000;\n",
              "}\n",
              "#T_647c6_row8_col5, #T_647c6_row8_col6 {\n",
              "  font-size: 6pt;\n",
              "  background-color: #eeeeee;\n",
              "  color: #000000;\n",
              "}\n",
              "#T_647c6_row8_col7 {\n",
              "  font-size: 6pt;\n",
              "  background-color: #f3f3f3;\n",
              "  color: #000000;\n",
              "}\n",
              "#T_647c6_row8_col15 {\n",
              "  font-size: 6pt;\n",
              "  background-color: #232323;\n",
              "  color: #f1f1f1;\n",
              "}\n",
              "#T_647c6_row9_col14 {\n",
              "  font-size: 6pt;\n",
              "  background-color: #c2c2c2;\n",
              "  color: #000000;\n",
              "}\n",
              "#T_647c6_row9_col17 {\n",
              "  font-size: 6pt;\n",
              "  background-color: #080808;\n",
              "  color: #f1f1f1;\n",
              "}\n",
              "#T_647c6_row9_col18 {\n",
              "  font-size: 6pt;\n",
              "  background-color: #c4c4c4;\n",
              "  color: #000000;\n",
              "}\n",
              "</style>\n",
              "<table id=\"T_647c6\" class=\"dataframe\">\n",
              "  <thead>\n",
              "    <tr>\n",
              "      <th class=\"blank level0\" >&nbsp;</th>\n",
              "      <th id=\"T_647c6_level0_col0\" class=\"col_heading level0 col0\" >0</th>\n",
              "      <th id=\"T_647c6_level0_col1\" class=\"col_heading level0 col1\" >1</th>\n",
              "      <th id=\"T_647c6_level0_col2\" class=\"col_heading level0 col2\" >2</th>\n",
              "      <th id=\"T_647c6_level0_col3\" class=\"col_heading level0 col3\" >3</th>\n",
              "      <th id=\"T_647c6_level0_col4\" class=\"col_heading level0 col4\" >4</th>\n",
              "      <th id=\"T_647c6_level0_col5\" class=\"col_heading level0 col5\" >5</th>\n",
              "      <th id=\"T_647c6_level0_col6\" class=\"col_heading level0 col6\" >6</th>\n",
              "      <th id=\"T_647c6_level0_col7\" class=\"col_heading level0 col7\" >7</th>\n",
              "      <th id=\"T_647c6_level0_col8\" class=\"col_heading level0 col8\" >8</th>\n",
              "      <th id=\"T_647c6_level0_col9\" class=\"col_heading level0 col9\" >9</th>\n",
              "      <th id=\"T_647c6_level0_col10\" class=\"col_heading level0 col10\" >10</th>\n",
              "      <th id=\"T_647c6_level0_col11\" class=\"col_heading level0 col11\" >11</th>\n",
              "      <th id=\"T_647c6_level0_col12\" class=\"col_heading level0 col12\" >12</th>\n",
              "      <th id=\"T_647c6_level0_col13\" class=\"col_heading level0 col13\" >13</th>\n",
              "      <th id=\"T_647c6_level0_col14\" class=\"col_heading level0 col14\" >14</th>\n",
              "      <th id=\"T_647c6_level0_col15\" class=\"col_heading level0 col15\" >15</th>\n",
              "      <th id=\"T_647c6_level0_col16\" class=\"col_heading level0 col16\" >16</th>\n",
              "      <th id=\"T_647c6_level0_col17\" class=\"col_heading level0 col17\" >17</th>\n",
              "      <th id=\"T_647c6_level0_col18\" class=\"col_heading level0 col18\" >18</th>\n",
              "      <th id=\"T_647c6_level0_col19\" class=\"col_heading level0 col19\" >19</th>\n",
              "    </tr>\n",
              "  </thead>\n",
              "  <tbody>\n",
              "    <tr>\n",
              "      <th id=\"T_647c6_level0_row0\" class=\"row_heading level0 row0\" >0</th>\n",
              "      <td id=\"T_647c6_row0_col0\" class=\"data row0 col0\" >0</td>\n",
              "      <td id=\"T_647c6_row0_col1\" class=\"data row0 col1\" >0</td>\n",
              "      <td id=\"T_647c6_row0_col2\" class=\"data row0 col2\" >0</td>\n",
              "      <td id=\"T_647c6_row0_col3\" class=\"data row0 col3\" >0</td>\n",
              "      <td id=\"T_647c6_row0_col4\" class=\"data row0 col4\" >0</td>\n",
              "      <td id=\"T_647c6_row0_col5\" class=\"data row0 col5\" >0</td>\n",
              "      <td id=\"T_647c6_row0_col6\" class=\"data row0 col6\" >0</td>\n",
              "      <td id=\"T_647c6_row0_col7\" class=\"data row0 col7\" >0</td>\n",
              "      <td id=\"T_647c6_row0_col8\" class=\"data row0 col8\" >0</td>\n",
              "      <td id=\"T_647c6_row0_col9\" class=\"data row0 col9\" >0</td>\n",
              "      <td id=\"T_647c6_row0_col10\" class=\"data row0 col10\" >0</td>\n",
              "      <td id=\"T_647c6_row0_col11\" class=\"data row0 col11\" >0</td>\n",
              "      <td id=\"T_647c6_row0_col12\" class=\"data row0 col12\" >0</td>\n",
              "      <td id=\"T_647c6_row0_col13\" class=\"data row0 col13\" >0</td>\n",
              "      <td id=\"T_647c6_row0_col14\" class=\"data row0 col14\" >0</td>\n",
              "      <td id=\"T_647c6_row0_col15\" class=\"data row0 col15\" >0</td>\n",
              "      <td id=\"T_647c6_row0_col16\" class=\"data row0 col16\" >0</td>\n",
              "      <td id=\"T_647c6_row0_col17\" class=\"data row0 col17\" >0</td>\n",
              "      <td id=\"T_647c6_row0_col18\" class=\"data row0 col18\" >0</td>\n",
              "      <td id=\"T_647c6_row0_col19\" class=\"data row0 col19\" >0</td>\n",
              "    </tr>\n",
              "    <tr>\n",
              "      <th id=\"T_647c6_level0_row1\" class=\"row_heading level0 row1\" >1</th>\n",
              "      <td id=\"T_647c6_row1_col0\" class=\"data row1 col0\" >0</td>\n",
              "      <td id=\"T_647c6_row1_col1\" class=\"data row1 col1\" >0</td>\n",
              "      <td id=\"T_647c6_row1_col2\" class=\"data row1 col2\" >0</td>\n",
              "      <td id=\"T_647c6_row1_col3\" class=\"data row1 col3\" >0</td>\n",
              "      <td id=\"T_647c6_row1_col4\" class=\"data row1 col4\" >0</td>\n",
              "      <td id=\"T_647c6_row1_col5\" class=\"data row1 col5\" >0</td>\n",
              "      <td id=\"T_647c6_row1_col6\" class=\"data row1 col6\" >0</td>\n",
              "      <td id=\"T_647c6_row1_col7\" class=\"data row1 col7\" >0</td>\n",
              "      <td id=\"T_647c6_row1_col8\" class=\"data row1 col8\" >0</td>\n",
              "      <td id=\"T_647c6_row1_col9\" class=\"data row1 col9\" >0</td>\n",
              "      <td id=\"T_647c6_row1_col10\" class=\"data row1 col10\" >0</td>\n",
              "      <td id=\"T_647c6_row1_col11\" class=\"data row1 col11\" >0</td>\n",
              "      <td id=\"T_647c6_row1_col12\" class=\"data row1 col12\" >0</td>\n",
              "      <td id=\"T_647c6_row1_col13\" class=\"data row1 col13\" >0</td>\n",
              "      <td id=\"T_647c6_row1_col14\" class=\"data row1 col14\" >0</td>\n",
              "      <td id=\"T_647c6_row1_col15\" class=\"data row1 col15\" >0</td>\n",
              "      <td id=\"T_647c6_row1_col16\" class=\"data row1 col16\" >0</td>\n",
              "      <td id=\"T_647c6_row1_col17\" class=\"data row1 col17\" >0</td>\n",
              "      <td id=\"T_647c6_row1_col18\" class=\"data row1 col18\" >0</td>\n",
              "      <td id=\"T_647c6_row1_col19\" class=\"data row1 col19\" >0</td>\n",
              "    </tr>\n",
              "    <tr>\n",
              "      <th id=\"T_647c6_level0_row2\" class=\"row_heading level0 row2\" >2</th>\n",
              "      <td id=\"T_647c6_row2_col0\" class=\"data row2 col0\" >0</td>\n",
              "      <td id=\"T_647c6_row2_col1\" class=\"data row2 col1\" >0</td>\n",
              "      <td id=\"T_647c6_row2_col2\" class=\"data row2 col2\" >0</td>\n",
              "      <td id=\"T_647c6_row2_col3\" class=\"data row2 col3\" >0</td>\n",
              "      <td id=\"T_647c6_row2_col4\" class=\"data row2 col4\" >0</td>\n",
              "      <td id=\"T_647c6_row2_col5\" class=\"data row2 col5\" >0</td>\n",
              "      <td id=\"T_647c6_row2_col6\" class=\"data row2 col6\" >0</td>\n",
              "      <td id=\"T_647c6_row2_col7\" class=\"data row2 col7\" >0</td>\n",
              "      <td id=\"T_647c6_row2_col8\" class=\"data row2 col8\" >0</td>\n",
              "      <td id=\"T_647c6_row2_col9\" class=\"data row2 col9\" >0</td>\n",
              "      <td id=\"T_647c6_row2_col10\" class=\"data row2 col10\" >0</td>\n",
              "      <td id=\"T_647c6_row2_col11\" class=\"data row2 col11\" >0</td>\n",
              "      <td id=\"T_647c6_row2_col12\" class=\"data row2 col12\" >0</td>\n",
              "      <td id=\"T_647c6_row2_col13\" class=\"data row2 col13\" >0</td>\n",
              "      <td id=\"T_647c6_row2_col14\" class=\"data row2 col14\" >0</td>\n",
              "      <td id=\"T_647c6_row2_col15\" class=\"data row2 col15\" >0</td>\n",
              "      <td id=\"T_647c6_row2_col16\" class=\"data row2 col16\" >0</td>\n",
              "      <td id=\"T_647c6_row2_col17\" class=\"data row2 col17\" >0</td>\n",
              "      <td id=\"T_647c6_row2_col18\" class=\"data row2 col18\" >0</td>\n",
              "      <td id=\"T_647c6_row2_col19\" class=\"data row2 col19\" >0</td>\n",
              "    </tr>\n",
              "    <tr>\n",
              "      <th id=\"T_647c6_level0_row3\" class=\"row_heading level0 row3\" >3</th>\n",
              "      <td id=\"T_647c6_row3_col0\" class=\"data row3 col0\" >0</td>\n",
              "      <td id=\"T_647c6_row3_col1\" class=\"data row3 col1\" >0</td>\n",
              "      <td id=\"T_647c6_row3_col2\" class=\"data row3 col2\" >0</td>\n",
              "      <td id=\"T_647c6_row3_col3\" class=\"data row3 col3\" >0</td>\n",
              "      <td id=\"T_647c6_row3_col4\" class=\"data row3 col4\" >0</td>\n",
              "      <td id=\"T_647c6_row3_col5\" class=\"data row3 col5\" >0</td>\n",
              "      <td id=\"T_647c6_row3_col6\" class=\"data row3 col6\" >0</td>\n",
              "      <td id=\"T_647c6_row3_col7\" class=\"data row3 col7\" >0</td>\n",
              "      <td id=\"T_647c6_row3_col8\" class=\"data row3 col8\" >0</td>\n",
              "      <td id=\"T_647c6_row3_col9\" class=\"data row3 col9\" >0</td>\n",
              "      <td id=\"T_647c6_row3_col10\" class=\"data row3 col10\" >0</td>\n",
              "      <td id=\"T_647c6_row3_col11\" class=\"data row3 col11\" >0</td>\n",
              "      <td id=\"T_647c6_row3_col12\" class=\"data row3 col12\" >0</td>\n",
              "      <td id=\"T_647c6_row3_col13\" class=\"data row3 col13\" >0</td>\n",
              "      <td id=\"T_647c6_row3_col14\" class=\"data row3 col14\" >0</td>\n",
              "      <td id=\"T_647c6_row3_col15\" class=\"data row3 col15\" >0</td>\n",
              "      <td id=\"T_647c6_row3_col16\" class=\"data row3 col16\" >0</td>\n",
              "      <td id=\"T_647c6_row3_col17\" class=\"data row3 col17\" >0</td>\n",
              "      <td id=\"T_647c6_row3_col18\" class=\"data row3 col18\" >0</td>\n",
              "      <td id=\"T_647c6_row3_col19\" class=\"data row3 col19\" >0</td>\n",
              "    </tr>\n",
              "    <tr>\n",
              "      <th id=\"T_647c6_level0_row4\" class=\"row_heading level0 row4\" >4</th>\n",
              "      <td id=\"T_647c6_row4_col0\" class=\"data row4 col0\" >0</td>\n",
              "      <td id=\"T_647c6_row4_col1\" class=\"data row4 col1\" >0</td>\n",
              "      <td id=\"T_647c6_row4_col2\" class=\"data row4 col2\" >0</td>\n",
              "      <td id=\"T_647c6_row4_col3\" class=\"data row4 col3\" >0</td>\n",
              "      <td id=\"T_647c6_row4_col4\" class=\"data row4 col4\" >0</td>\n",
              "      <td id=\"T_647c6_row4_col5\" class=\"data row4 col5\" >0</td>\n",
              "      <td id=\"T_647c6_row4_col6\" class=\"data row4 col6\" >0</td>\n",
              "      <td id=\"T_647c6_row4_col7\" class=\"data row4 col7\" >0</td>\n",
              "      <td id=\"T_647c6_row4_col8\" class=\"data row4 col8\" >0</td>\n",
              "      <td id=\"T_647c6_row4_col9\" class=\"data row4 col9\" >0</td>\n",
              "      <td id=\"T_647c6_row4_col10\" class=\"data row4 col10\" >0</td>\n",
              "      <td id=\"T_647c6_row4_col11\" class=\"data row4 col11\" >0</td>\n",
              "      <td id=\"T_647c6_row4_col12\" class=\"data row4 col12\" >0</td>\n",
              "      <td id=\"T_647c6_row4_col13\" class=\"data row4 col13\" >0</td>\n",
              "      <td id=\"T_647c6_row4_col14\" class=\"data row4 col14\" >0</td>\n",
              "      <td id=\"T_647c6_row4_col15\" class=\"data row4 col15\" >0</td>\n",
              "      <td id=\"T_647c6_row4_col16\" class=\"data row4 col16\" >0</td>\n",
              "      <td id=\"T_647c6_row4_col17\" class=\"data row4 col17\" >0</td>\n",
              "      <td id=\"T_647c6_row4_col18\" class=\"data row4 col18\" >0</td>\n",
              "      <td id=\"T_647c6_row4_col19\" class=\"data row4 col19\" >0</td>\n",
              "    </tr>\n",
              "    <tr>\n",
              "      <th id=\"T_647c6_level0_row5\" class=\"row_heading level0 row5\" >5</th>\n",
              "      <td id=\"T_647c6_row5_col0\" class=\"data row5 col0\" >0</td>\n",
              "      <td id=\"T_647c6_row5_col1\" class=\"data row5 col1\" >0</td>\n",
              "      <td id=\"T_647c6_row5_col2\" class=\"data row5 col2\" >0</td>\n",
              "      <td id=\"T_647c6_row5_col3\" class=\"data row5 col3\" >12</td>\n",
              "      <td id=\"T_647c6_row5_col4\" class=\"data row5 col4\" >99</td>\n",
              "      <td id=\"T_647c6_row5_col5\" class=\"data row5 col5\" >91</td>\n",
              "      <td id=\"T_647c6_row5_col6\" class=\"data row5 col6\" >142</td>\n",
              "      <td id=\"T_647c6_row5_col7\" class=\"data row5 col7\" >155</td>\n",
              "      <td id=\"T_647c6_row5_col8\" class=\"data row5 col8\" >246</td>\n",
              "      <td id=\"T_647c6_row5_col9\" class=\"data row5 col9\" >182</td>\n",
              "      <td id=\"T_647c6_row5_col10\" class=\"data row5 col10\" >155</td>\n",
              "      <td id=\"T_647c6_row5_col11\" class=\"data row5 col11\" >155</td>\n",
              "      <td id=\"T_647c6_row5_col12\" class=\"data row5 col12\" >155</td>\n",
              "      <td id=\"T_647c6_row5_col13\" class=\"data row5 col13\" >155</td>\n",
              "      <td id=\"T_647c6_row5_col14\" class=\"data row5 col14\" >131</td>\n",
              "      <td id=\"T_647c6_row5_col15\" class=\"data row5 col15\" >52</td>\n",
              "      <td id=\"T_647c6_row5_col16\" class=\"data row5 col16\" >0</td>\n",
              "      <td id=\"T_647c6_row5_col17\" class=\"data row5 col17\" >0</td>\n",
              "      <td id=\"T_647c6_row5_col18\" class=\"data row5 col18\" >0</td>\n",
              "      <td id=\"T_647c6_row5_col19\" class=\"data row5 col19\" >0</td>\n",
              "    </tr>\n",
              "    <tr>\n",
              "      <th id=\"T_647c6_level0_row6\" class=\"row_heading level0 row6\" >6</th>\n",
              "      <td id=\"T_647c6_row6_col0\" class=\"data row6 col0\" >0</td>\n",
              "      <td id=\"T_647c6_row6_col1\" class=\"data row6 col1\" >0</td>\n",
              "      <td id=\"T_647c6_row6_col2\" class=\"data row6 col2\" >0</td>\n",
              "      <td id=\"T_647c6_row6_col3\" class=\"data row6 col3\" >138</td>\n",
              "      <td id=\"T_647c6_row6_col4\" class=\"data row6 col4\" >254</td>\n",
              "      <td id=\"T_647c6_row6_col5\" class=\"data row6 col5\" >254</td>\n",
              "      <td id=\"T_647c6_row6_col6\" class=\"data row6 col6\" >254</td>\n",
              "      <td id=\"T_647c6_row6_col7\" class=\"data row6 col7\" >254</td>\n",
              "      <td id=\"T_647c6_row6_col8\" class=\"data row6 col8\" >254</td>\n",
              "      <td id=\"T_647c6_row6_col9\" class=\"data row6 col9\" >254</td>\n",
              "      <td id=\"T_647c6_row6_col10\" class=\"data row6 col10\" >254</td>\n",
              "      <td id=\"T_647c6_row6_col11\" class=\"data row6 col11\" >254</td>\n",
              "      <td id=\"T_647c6_row6_col12\" class=\"data row6 col12\" >254</td>\n",
              "      <td id=\"T_647c6_row6_col13\" class=\"data row6 col13\" >254</td>\n",
              "      <td id=\"T_647c6_row6_col14\" class=\"data row6 col14\" >254</td>\n",
              "      <td id=\"T_647c6_row6_col15\" class=\"data row6 col15\" >252</td>\n",
              "      <td id=\"T_647c6_row6_col16\" class=\"data row6 col16\" >210</td>\n",
              "      <td id=\"T_647c6_row6_col17\" class=\"data row6 col17\" >122</td>\n",
              "      <td id=\"T_647c6_row6_col18\" class=\"data row6 col18\" >33</td>\n",
              "      <td id=\"T_647c6_row6_col19\" class=\"data row6 col19\" >0</td>\n",
              "    </tr>\n",
              "    <tr>\n",
              "      <th id=\"T_647c6_level0_row7\" class=\"row_heading level0 row7\" >7</th>\n",
              "      <td id=\"T_647c6_row7_col0\" class=\"data row7 col0\" >0</td>\n",
              "      <td id=\"T_647c6_row7_col1\" class=\"data row7 col1\" >0</td>\n",
              "      <td id=\"T_647c6_row7_col2\" class=\"data row7 col2\" >0</td>\n",
              "      <td id=\"T_647c6_row7_col3\" class=\"data row7 col3\" >220</td>\n",
              "      <td id=\"T_647c6_row7_col4\" class=\"data row7 col4\" >254</td>\n",
              "      <td id=\"T_647c6_row7_col5\" class=\"data row7 col5\" >254</td>\n",
              "      <td id=\"T_647c6_row7_col6\" class=\"data row7 col6\" >254</td>\n",
              "      <td id=\"T_647c6_row7_col7\" class=\"data row7 col7\" >235</td>\n",
              "      <td id=\"T_647c6_row7_col8\" class=\"data row7 col8\" >189</td>\n",
              "      <td id=\"T_647c6_row7_col9\" class=\"data row7 col9\" >189</td>\n",
              "      <td id=\"T_647c6_row7_col10\" class=\"data row7 col10\" >189</td>\n",
              "      <td id=\"T_647c6_row7_col11\" class=\"data row7 col11\" >189</td>\n",
              "      <td id=\"T_647c6_row7_col12\" class=\"data row7 col12\" >150</td>\n",
              "      <td id=\"T_647c6_row7_col13\" class=\"data row7 col13\" >189</td>\n",
              "      <td id=\"T_647c6_row7_col14\" class=\"data row7 col14\" >205</td>\n",
              "      <td id=\"T_647c6_row7_col15\" class=\"data row7 col15\" >254</td>\n",
              "      <td id=\"T_647c6_row7_col16\" class=\"data row7 col16\" >254</td>\n",
              "      <td id=\"T_647c6_row7_col17\" class=\"data row7 col17\" >254</td>\n",
              "      <td id=\"T_647c6_row7_col18\" class=\"data row7 col18\" >75</td>\n",
              "      <td id=\"T_647c6_row7_col19\" class=\"data row7 col19\" >0</td>\n",
              "    </tr>\n",
              "    <tr>\n",
              "      <th id=\"T_647c6_level0_row8\" class=\"row_heading level0 row8\" >8</th>\n",
              "      <td id=\"T_647c6_row8_col0\" class=\"data row8 col0\" >0</td>\n",
              "      <td id=\"T_647c6_row8_col1\" class=\"data row8 col1\" >0</td>\n",
              "      <td id=\"T_647c6_row8_col2\" class=\"data row8 col2\" >0</td>\n",
              "      <td id=\"T_647c6_row8_col3\" class=\"data row8 col3\" >35</td>\n",
              "      <td id=\"T_647c6_row8_col4\" class=\"data row8 col4\" >74</td>\n",
              "      <td id=\"T_647c6_row8_col5\" class=\"data row8 col5\" >35</td>\n",
              "      <td id=\"T_647c6_row8_col6\" class=\"data row8 col6\" >35</td>\n",
              "      <td id=\"T_647c6_row8_col7\" class=\"data row8 col7\" >25</td>\n",
              "      <td id=\"T_647c6_row8_col8\" class=\"data row8 col8\" >0</td>\n",
              "      <td id=\"T_647c6_row8_col9\" class=\"data row8 col9\" >0</td>\n",
              "      <td id=\"T_647c6_row8_col10\" class=\"data row8 col10\" >0</td>\n",
              "      <td id=\"T_647c6_row8_col11\" class=\"data row8 col11\" >0</td>\n",
              "      <td id=\"T_647c6_row8_col12\" class=\"data row8 col12\" >0</td>\n",
              "      <td id=\"T_647c6_row8_col13\" class=\"data row8 col13\" >0</td>\n",
              "      <td id=\"T_647c6_row8_col14\" class=\"data row8 col14\" >13</td>\n",
              "      <td id=\"T_647c6_row8_col15\" class=\"data row8 col15\" >224</td>\n",
              "      <td id=\"T_647c6_row8_col16\" class=\"data row8 col16\" >254</td>\n",
              "      <td id=\"T_647c6_row8_col17\" class=\"data row8 col17\" >254</td>\n",
              "      <td id=\"T_647c6_row8_col18\" class=\"data row8 col18\" >153</td>\n",
              "      <td id=\"T_647c6_row8_col19\" class=\"data row8 col19\" >0</td>\n",
              "    </tr>\n",
              "    <tr>\n",
              "      <th id=\"T_647c6_level0_row9\" class=\"row_heading level0 row9\" >9</th>\n",
              "      <td id=\"T_647c6_row9_col0\" class=\"data row9 col0\" >0</td>\n",
              "      <td id=\"T_647c6_row9_col1\" class=\"data row9 col1\" >0</td>\n",
              "      <td id=\"T_647c6_row9_col2\" class=\"data row9 col2\" >0</td>\n",
              "      <td id=\"T_647c6_row9_col3\" class=\"data row9 col3\" >0</td>\n",
              "      <td id=\"T_647c6_row9_col4\" class=\"data row9 col4\" >0</td>\n",
              "      <td id=\"T_647c6_row9_col5\" class=\"data row9 col5\" >0</td>\n",
              "      <td id=\"T_647c6_row9_col6\" class=\"data row9 col6\" >0</td>\n",
              "      <td id=\"T_647c6_row9_col7\" class=\"data row9 col7\" >0</td>\n",
              "      <td id=\"T_647c6_row9_col8\" class=\"data row9 col8\" >0</td>\n",
              "      <td id=\"T_647c6_row9_col9\" class=\"data row9 col9\" >0</td>\n",
              "      <td id=\"T_647c6_row9_col10\" class=\"data row9 col10\" >0</td>\n",
              "      <td id=\"T_647c6_row9_col11\" class=\"data row9 col11\" >0</td>\n",
              "      <td id=\"T_647c6_row9_col12\" class=\"data row9 col12\" >0</td>\n",
              "      <td id=\"T_647c6_row9_col13\" class=\"data row9 col13\" >0</td>\n",
              "      <td id=\"T_647c6_row9_col14\" class=\"data row9 col14\" >90</td>\n",
              "      <td id=\"T_647c6_row9_col15\" class=\"data row9 col15\" >254</td>\n",
              "      <td id=\"T_647c6_row9_col16\" class=\"data row9 col16\" >254</td>\n",
              "      <td id=\"T_647c6_row9_col17\" class=\"data row9 col17\" >247</td>\n",
              "      <td id=\"T_647c6_row9_col18\" class=\"data row9 col18\" >53</td>\n",
              "      <td id=\"T_647c6_row9_col19\" class=\"data row9 col19\" >0</td>\n",
              "    </tr>\n",
              "  </tbody>\n",
              "</table>\n"
            ]
          },
          "metadata": {},
          "execution_count": 9
        }
      ]
    },
    {
      "cell_type": "code",
      "source": [
        "(im3_t[4:7,6:9] * top_edge).sum()"
      ],
      "metadata": {
        "colab": {
          "base_uri": "https://localhost:8080/"
        },
        "id": "MT2A_KNekOuO",
        "outputId": "5f3450ec-7a97-4e7c-f70e-814c789a8482"
      },
      "execution_count": 10,
      "outputs": [
        {
          "output_type": "execute_result",
          "data": {
            "text/plain": [
              "tensor(762.)"
            ]
          },
          "metadata": {},
          "execution_count": 10
        }
      ]
    },
    {
      "cell_type": "code",
      "source": [
        "(im3_t[7:10,17:20] * top_edge).sum()"
      ],
      "metadata": {
        "colab": {
          "base_uri": "https://localhost:8080/"
        },
        "id": "fIGJXGGpkRB2",
        "outputId": "f7003ea3-6351-4d4e-c3ed-6be8c729590c"
      },
      "execution_count": 11,
      "outputs": [
        {
          "output_type": "execute_result",
          "data": {
            "text/plain": [
              "tensor(-29.)"
            ]
          },
          "metadata": {},
          "execution_count": 11
        }
      ]
    },
    {
      "cell_type": "code",
      "source": [
        "def apply_kernel(row, col, kernel):\n",
        "    return (im3_t[row-1:row+2,col-1:col+2] * kernel).sum()"
      ],
      "metadata": {
        "id": "PffoOPQukTzP"
      },
      "execution_count": 12,
      "outputs": []
    },
    {
      "cell_type": "code",
      "source": [
        "apply_kernel(5,7,top_edge)"
      ],
      "metadata": {
        "colab": {
          "base_uri": "https://localhost:8080/"
        },
        "id": "ngL66W1-kWLI",
        "outputId": "66b02cb4-9dc7-4089-e7cc-b3b3f7e3bd1d"
      },
      "execution_count": 13,
      "outputs": [
        {
          "output_type": "execute_result",
          "data": {
            "text/plain": [
              "tensor(762.)"
            ]
          },
          "metadata": {},
          "execution_count": 13
        }
      ]
    },
    {
      "cell_type": "markdown",
      "source": [
        "#Mapping a Convolution Kernel"
      ],
      "metadata": {
        "id": "wt8QZ_wckZNp"
      }
    },
    {
      "cell_type": "code",
      "source": [
        "[[(i,j) for j in range(1,5)] for i in range(1,5)]"
      ],
      "metadata": {
        "colab": {
          "base_uri": "https://localhost:8080/"
        },
        "id": "bUqZHqXtkYop",
        "outputId": "5f18e641-444d-4f12-9848-c61b114dfd90"
      },
      "execution_count": 14,
      "outputs": [
        {
          "output_type": "execute_result",
          "data": {
            "text/plain": [
              "[[(1, 1), (1, 2), (1, 3), (1, 4)],\n",
              " [(2, 1), (2, 2), (2, 3), (2, 4)],\n",
              " [(3, 1), (3, 2), (3, 3), (3, 4)],\n",
              " [(4, 1), (4, 2), (4, 3), (4, 4)]]"
            ]
          },
          "metadata": {},
          "execution_count": 14
        }
      ]
    },
    {
      "cell_type": "code",
      "source": [
        "rng = range(1,27)\n",
        "top_edge3 = tensor([[apply_kernel(i,j,top_edge) for j in rng] for i in rng])\n",
        "\n",
        "show_image(top_edge3);"
      ],
      "metadata": {
        "colab": {
          "base_uri": "https://localhost:8080/",
          "height": 114
        },
        "id": "AEcLI1RRkf7s",
        "outputId": "bd235e78-347c-415c-bf25-ca9bc9ff65e3"
      },
      "execution_count": 15,
      "outputs": [
        {
          "output_type": "display_data",
          "data": {
            "text/plain": [
              "<Figure size 100x100 with 1 Axes>"
            ],
            "image/png": "[encoded data removed]"
          },
          "metadata": {}
        }
      ]
    },
    {
      "cell_type": "code",
      "source": [
        "left_edge = tensor([[-1,1,0],\n",
        "                    [-1,1,0],\n",
        "                    [-1,1,0]]).float()\n",
        "\n",
        "left_edge3 = tensor([[apply_kernel(i,j,left_edge) for j in rng] for i in rng])\n",
        "\n",
        "show_image(left_edge3);"
      ],
      "metadata": {
        "colab": {
          "base_uri": "https://localhost:8080/",
          "height": 114
        },
        "id": "mlJlP2PUki_-",
        "outputId": "4c0df27f-e6d4-4cf4-db85-2faba5723d55"
      },
      "execution_count": 16,
      "outputs": [
        {
          "output_type": "display_data",
          "data": {
            "text/plain": [
              "<Figure size 100x100 with 1 Axes>"
            ],
            "image/png": "[encoded data removed]"
          },
          "metadata": {}
        }
      ]
    },
    {
      "cell_type": "markdown",
      "source": [
        "#Convolutions in PyTorch"
      ],
      "metadata": {
        "id": "wDjJz4yEkmZv"
      }
    },
    {
      "cell_type": "code",
      "source": [
        "diag1_edge = tensor([[ 0,-1, 1],\n",
        "                     [-1, 1, 0],\n",
        "                     [ 1, 0, 0]]).float()\n",
        "diag2_edge = tensor([[ 1,-1, 0],\n",
        "                     [ 0, 1,-1],\n",
        "                     [ 0, 0, 1]]).float()\n",
        "\n",
        "edge_kernels = torch.stack([left_edge, top_edge, diag1_edge, diag2_edge])\n",
        "edge_kernels.shape"
      ],
      "metadata": {
        "id": "-mUETQtwkl5f",
        "colab": {
          "base_uri": "https://localhost:8080/"
        },
        "outputId": "a43ba771-a475-4779-9ca7-31655466d811"
      },
      "execution_count": 17,
      "outputs": [
        {
          "output_type": "execute_result",
          "data": {
            "text/plain": [
              "torch.Size([4, 3, 3])"
            ]
          },
          "metadata": {},
          "execution_count": 17
        }
      ]
    },
    {
      "cell_type": "code",
      "source": [
        "mnist = DataBlock((ImageBlock(cls=PILImageBW), CategoryBlock),\n",
        "                  get_items=get_image_files,\n",
        "                  splitter=GrandparentSplitter(),\n",
        "                  get_y=parent_label)\n",
        "\n",
        "dls = mnist.dataloaders(path)\n",
        "xb,yb = first(dls.valid)\n",
        "xb.shape\n"
      ],
      "metadata": {
        "id": "NW5GiOkltIwB",
        "colab": {
          "base_uri": "https://localhost:8080/"
        },
        "outputId": "fa2752ec-47b0-4ee1-8c86-3004b7ec1fe4"
      },
      "execution_count": 18,
      "outputs": [
        {
          "output_type": "stream",
          "name": "stderr",
          "text": [
            "/usr/local/lib/python3.10/dist-packages/fastai/torch_core.py:263: UserWarning: 'has_mps' is deprecated, please use 'torch.backends.mps.is_built()'\n",
            "  return getattr(torch, 'has_mps', False)\n"
          ]
        },
        {
          "output_type": "execute_result",
          "data": {
            "text/plain": [
              "torch.Size([64, 1, 28, 28])"
            ]
          },
          "metadata": {},
          "execution_count": 18
        }
      ]
    },
    {
      "cell_type": "code",
      "source": [
        "xb,yb = to_cpu(xb),to_cpu(yb)"
      ],
      "metadata": {
        "id": "76Di6aa6taHy"
      },
      "execution_count": 19,
      "outputs": []
    },
    {
      "cell_type": "code",
      "source": [
        "edge_kernels.shape,edge_kernels.unsqueeze(1).shape"
      ],
      "metadata": {
        "colab": {
          "base_uri": "https://localhost:8080/"
        },
        "id": "VUSuQeUpBAY1",
        "outputId": "62351c17-21df-478f-946a-7794bd5f2bc2"
      },
      "execution_count": 20,
      "outputs": [
        {
          "output_type": "execute_result",
          "data": {
            "text/plain": [
              "(torch.Size([4, 3, 3]), torch.Size([4, 1, 3, 3]))"
            ]
          },
          "metadata": {},
          "execution_count": 20
        }
      ]
    },
    {
      "cell_type": "code",
      "source": [
        "edge_kernels = edge_kernels.unsqueeze(1)\n"
      ],
      "metadata": {
        "id": "fVKzZZcyBEGP"
      },
      "execution_count": 21,
      "outputs": []
    },
    {
      "cell_type": "code",
      "source": [
        "batch_features = F.conv2d(xb, edge_kernels)\n",
        "batch_features.shape"
      ],
      "metadata": {
        "colab": {
          "base_uri": "https://localhost:8080/"
        },
        "id": "T475wU03BHU_",
        "outputId": "d465a060-5f38-413e-e6ce-c3f30d70d5b4"
      },
      "execution_count": 22,
      "outputs": [
        {
          "output_type": "execute_result",
          "data": {
            "text/plain": [
              "torch.Size([64, 4, 26, 26])"
            ]
          },
          "metadata": {},
          "execution_count": 22
        }
      ]
    },
    {
      "cell_type": "code",
      "source": [
        "show_image(batch_features[0,0]);"
      ],
      "metadata": {
        "colab": {
          "base_uri": "https://localhost:8080/",
          "height": 114
        },
        "id": "hLDOaaCgBKMZ",
        "outputId": "b88d231e-0d5e-48c0-8715-11de79ac7454"
      },
      "execution_count": 23,
      "outputs": [
        {
          "output_type": "display_data",
          "data": {
            "text/plain": [
              "<Figure size 100x100 with 1 Axes>"
            ],
            "image/png": "[encoded data removed]"
          },
          "metadata": {}
        }
      ]
    }
  ]
}