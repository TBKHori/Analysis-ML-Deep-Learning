{
  "nbformat": 4,
  "nbformat_minor": 0,
  "metadata": {
    "colab": {
      "provenance": [],
      "authorship_tag": "ABX9TyN5ImlDrkbXuVIFewCYVWeq"
    },
    "kernelspec": {
      "name": "python3",
      "display_name": "Python 3"
    },
    "language_info": {
      "name": "python"
    }
  },
  "cells": [
    {
      "cell_type": "code",
      "execution_count": 1,
      "metadata": {
        "colab": {
          "base_uri": "https://localhost:8080/"
        },
        "id": "7NLjXg-fjoIO",
        "outputId": "6315caf4-e4df-414c-b76c-efddd4fef2e5"
      },
      "outputs": [
        {
          "output_type": "stream",
          "name": "stdout",
          "text": [
            "\u001b[2K     \u001b[90m━━━━━━━━━━━━━━━━━━━━━━━━━━━━━━━━━━━━━━━━\u001b[0m \u001b[32m719.8/719.8 kB\u001b[0m \u001b[31m10.9 MB/s\u001b[0m eta \u001b[36m0:00:00\u001b[0m\n",
            "\u001b[2K     \u001b[90m━━━━━━━━━━━━━━━━━━━━━━━━━━━━━━━━━━━━━━━━\u001b[0m \u001b[32m7.7/7.7 MB\u001b[0m \u001b[31m76.5 MB/s\u001b[0m eta \u001b[36m0:00:00\u001b[0m\n",
            "\u001b[2K     \u001b[90m━━━━━━━━━━━━━━━━━━━━━━━━━━━━━━━━━━━━━━━━\u001b[0m \u001b[32m493.7/493.7 kB\u001b[0m \u001b[31m44.0 MB/s\u001b[0m eta \u001b[36m0:00:00\u001b[0m\n",
            "\u001b[2K     \u001b[90m━━━━━━━━━━━━━━━━━━━━━━━━━━━━━━━━━━━━━━━━\u001b[0m \u001b[32m1.3/1.3 MB\u001b[0m \u001b[31m72.0 MB/s\u001b[0m eta \u001b[36m0:00:00\u001b[0m\n",
            "\u001b[2K     \u001b[90m━━━━━━━━━━━━━━━━━━━━━━━━━━━━━━━━━━━━━━━━\u001b[0m \u001b[32m115.3/115.3 kB\u001b[0m \u001b[31m14.8 MB/s\u001b[0m eta \u001b[36m0:00:00\u001b[0m\n",
            "\u001b[2K     \u001b[90m━━━━━━━━━━━━━━━━━━━━━━━━━━━━━━━━━━━━━━━━\u001b[0m \u001b[32m134.8/134.8 kB\u001b[0m \u001b[31m17.0 MB/s\u001b[0m eta \u001b[36m0:00:00\u001b[0m\n",
            "\u001b[2K     \u001b[90m━━━━━━━━━━━━━━━━━━━━━━━━━━━━━━━━━━━━━━━━\u001b[0m \u001b[32m302.0/302.0 kB\u001b[0m \u001b[31m29.1 MB/s\u001b[0m eta \u001b[36m0:00:00\u001b[0m\n",
            "\u001b[2K     \u001b[90m━━━━━━━━━━━━━━━━━━━━━━━━━━━━━━━━━━━━━━━━\u001b[0m \u001b[32m3.8/3.8 MB\u001b[0m \u001b[31m95.5 MB/s\u001b[0m eta \u001b[36m0:00:00\u001b[0m\n",
            "\u001b[2K     \u001b[90m━━━━━━━━━━━━━━━━━━━━━━━━━━━━━━━━━━━━━━━━\u001b[0m \u001b[32m1.3/1.3 MB\u001b[0m \u001b[31m79.5 MB/s\u001b[0m eta \u001b[36m0:00:00\u001b[0m\n",
            "\u001b[2K     \u001b[90m━━━━━━━━━━━━━━━━━━━━━━━━━━━━━━━━━━━━━━━━\u001b[0m \u001b[32m1.6/1.6 MB\u001b[0m \u001b[31m72.1 MB/s\u001b[0m eta \u001b[36m0:00:00\u001b[0m\n",
            "\u001b[2K     \u001b[90m━━━━━━━━━━━━━━━━━━━━━━━━━━━━━━━━━━━━━━━━\u001b[0m \u001b[32m295.0/295.0 kB\u001b[0m \u001b[31m28.0 MB/s\u001b[0m eta \u001b[36m0:00:00\u001b[0m\n",
            "\u001b[?25hMounted at /content/gdrive\n"
          ]
        }
      ],
      "source": [
        "#hide\n",
        "! [ -e /content ] && pip install -Uqq fastbook\n",
        "import fastbook\n",
        "fastbook.setup_book()"
      ]
    },
    {
      "cell_type": "code",
      "source": [
        "#hide\n",
        "from fastai.vision.all import *\n",
        "from fastbook import *\n",
        "\n",
        "matplotlib.rc('image', cmap='Greys')"
      ],
      "metadata": {
        "id": "7uhwz4LXjwKI"
      },
      "execution_count": 2,
      "outputs": []
    },
    {
      "cell_type": "markdown",
      "source": [
        "\n",
        "#Convolutional Neural Networks"
      ],
      "metadata": {
        "id": "t_VDbV91jtLP"
      }
    },
    {
      "cell_type": "markdown",
      "source": [
        "The Magic of Convolutions"
      ],
      "metadata": {
        "id": "P8Y2Xp-xj5x0"
      }
    },
    {
      "cell_type": "code",
      "source": [
        "top_edge = tensor([[-1,-1,-1],\n",
        "                   [ 0, 0, 0],\n",
        "                   [ 1, 1, 1]]).float()"
      ],
      "metadata": {
        "id": "LXW6R8Q7j1oa"
      },
      "execution_count": 3,
      "outputs": []
    },
    {
      "cell_type": "code",
      "source": [
        "path = untar_data(URLs.MNIST_SAMPLE)"
      ],
      "metadata": {
        "colab": {
          "base_uri": "https://localhost:8080/",
          "height": 37
        },
        "id": "D3Yf8Wx9j_xu",
        "outputId": "660ce03c-0129-4cd6-e356-5a3b348819c1"
      },
      "execution_count": 5,
      "outputs": [
        {
          "output_type": "display_data",
          "data": {
            "text/plain": [
              "<IPython.core.display.HTML object>"
            ],
            "text/html": [
              "\n",
              "<style>\n",
              "    /* Turns off some styling */\n",
              "    progress {\n",
              "        /* gets rid of default border in Firefox and Opera. */\n",
              "        border: none;\n",
              "        /* Needs to be in here for Safari polyfill so background images work as expected. */\n",
              "        background-size: auto;\n",
              "    }\n",
              "    progress:not([value]), progress:not([value])::-webkit-progress-bar {\n",
              "        background: repeating-linear-gradient(45deg, #7e7e7e, #7e7e7e 10px, #5c5c5c 10px, #5c5c5c 20px);\n",
              "    }\n",
              "    .progress-bar-interrupted, .progress-bar-interrupted::-webkit-progress-bar {\n",
              "        background: #F44336;\n",
              "    }\n",
              "</style>\n"
            ]
          },
          "metadata": {}
        },
        {
          "output_type": "display_data",
          "data": {
            "text/plain": [
              "<IPython.core.display.HTML object>"
            ],
            "text/html": [
              "\n",
              "    <div>\n",
              "      <progress value='3219456' class='' max='3214948' style='width:300px; height:20px; vertical-align: middle;'></progress>\n",
              "      100.14% [3219456/3214948 00:00&lt;00:00]\n",
              "    </div>\n",
              "    "
            ]
          },
          "metadata": {}
        }
      ]
    },
    {
      "cell_type": "code",
      "source": [
        "#hide\n",
        "Path.BASE_PATH = path"
      ],
      "metadata": {
        "id": "FCAp2qkvkB9Q"
      },
      "execution_count": 6,
      "outputs": []
    },
    {
      "cell_type": "code",
      "source": [
        "im3 = Image.open(path/'train'/'3'/'12.png')\n",
        "show_image(im3);"
      ],
      "metadata": {
        "colab": {
          "base_uri": "https://localhost:8080/",
          "height": 114
        },
        "id": "niBvynfqkEfg",
        "outputId": "155c2a41-913b-4414-c409-de931dda9b33"
      },
      "execution_count": 8,
      "outputs": [
        {
          "output_type": "display_data",
          "data": {
            "text/plain": [
              "<Figure size 100x100 with 1 Axes>"
            ],
            "image/png": "[encoded data removed]"
          },
          "metadata": {}
        }
      ]
    },
    {
      "cell_type": "code",
      "source": [
        "im3_t = tensor(im3)\n",
        "im3_t[0:3,0:3] * top_edge"
      ],
      "metadata": {
        "colab": {
          "base_uri": "https://localhost:8080/"
        },
        "id": "q0l60pMJkHIS",
        "outputId": "8236b893-bad7-47e6-b86a-92a36adc12eb"
      },
      "execution_count": 9,
      "outputs": [
        {
          "output_type": "execute_result",
          "data": {
            "text/plain": [
              "tensor([[-0., -0., -0.],\n",
              "        [0., 0., 0.],\n",
              "        [0., 0., 0.]])"
            ]
          },
          "metadata": {},
          "execution_count": 9
        }
      ]
    },
    {
      "cell_type": "code",
      "source": [
        "(im3_t[0:3,0:3] * top_edge).sum()"
      ],
      "metadata": {
        "colab": {
          "base_uri": "https://localhost:8080/"
        },
        "id": "LrLi8IxlkJab",
        "outputId": "01775c89-9acb-466a-9ddf-fc1de0fd9904"
      },
      "execution_count": 10,
      "outputs": [
        {
          "output_type": "execute_result",
          "data": {
            "text/plain": [
              "tensor(0.)"
            ]
          },
          "metadata": {},
          "execution_count": 10
        }
      ]
    },
    {
      "cell_type": "code",
      "source": [
        "#hide_output\n",
        "df = pd.DataFrame(im3_t[:10,:20])\n",
        "df.style.set_properties(**{'font-size':'6pt'}).background_gradient('Greys')"
      ],
      "metadata": {
        "colab": {
          "base_uri": "https://localhost:8080/",
          "height": 363
        },
        "id": "ZJFU4HxskMHT",
        "outputId": "f9ae5c45-8ba9-4f2a-d5b5-c167ee54da3f"
      },
      "execution_count": 11,
      "outputs": [
        {
          "output_type": "execute_result",
          "data": {
            "text/plain": [
              "<pandas.io.formats.style.Styler at 0x7e258f2efa00>"
            ],
            "text/html": [
              "<style type=\"text/css\">\n",
              "#T_1e45c_row0_col0, #T_1e45c_row0_col1, #T_1e45c_row0_col2, #T_1e45c_row0_col3, #T_1e45c_row0_col4, #T_1e45c_row0_col5, #T_1e45c_row0_col6, #T_1e45c_row0_col7, #T_1e45c_row0_col8, #T_1e45c_row0_col9, #T_1e45c_row0_col10, #T_1e45c_row0_col11, #T_1e45c_row0_col12, #T_1e45c_row0_col13, #T_1e45c_row0_col14, #T_1e45c_row0_col15, #T_1e45c_row0_col16, #T_1e45c_row0_col17, #T_1e45c_row0_col18, #T_1e45c_row0_col19, #T_1e45c_row1_col0, #T_1e45c_row1_col1, #T_1e45c_row1_col2, #T_1e45c_row1_col3, #T_1e45c_row1_col4, #T_1e45c_row1_col5, #T_1e45c_row1_col6, #T_1e45c_row1_col7, #T_1e45c_row1_col8, #T_1e45c_row1_col9, #T_1e45c_row1_col10, #T_1e45c_row1_col11, #T_1e45c_row1_col12, #T_1e45c_row1_col13, #T_1e45c_row1_col14, #T_1e45c_row1_col15, #T_1e45c_row1_col16, #T_1e45c_row1_col17, #T_1e45c_row1_col18, #T_1e45c_row1_col19, #T_1e45c_row2_col0, #T_1e45c_row2_col1, #T_1e45c_row2_col2, #T_1e45c_row2_col3, #T_1e45c_row2_col4, #T_1e45c_row2_col5, #T_1e45c_row2_col6, #T_1e45c_row2_col7, #T_1e45c_row2_col8, #T_1e45c_row2_col9, #T_1e45c_row2_col10, #T_1e45c_row2_col11, #T_1e45c_row2_col12, #T_1e45c_row2_col13, #T_1e45c_row2_col14, #T_1e45c_row2_col15, #T_1e45c_row2_col16, #T_1e45c_row2_col17, #T_1e45c_row2_col18, #T_1e45c_row2_col19, #T_1e45c_row3_col0, #T_1e45c_row3_col1, #T_1e45c_row3_col2, #T_1e45c_row3_col3, #T_1e45c_row3_col4, #T_1e45c_row3_col5, #T_1e45c_row3_col6, #T_1e45c_row3_col7, #T_1e45c_row3_col8, #T_1e45c_row3_col9, #T_1e45c_row3_col10, #T_1e45c_row3_col11, #T_1e45c_row3_col12, #T_1e45c_row3_col13, #T_1e45c_row3_col14, #T_1e45c_row3_col15, #T_1e45c_row3_col16, #T_1e45c_row3_col17, #T_1e45c_row3_col18, #T_1e45c_row3_col19, #T_1e45c_row4_col0, #T_1e45c_row4_col1, #T_1e45c_row4_col2, #T_1e45c_row4_col3, #T_1e45c_row4_col4, #T_1e45c_row4_col5, #T_1e45c_row4_col6, #T_1e45c_row4_col7, #T_1e45c_row4_col8, #T_1e45c_row4_col9, #T_1e45c_row4_col10, #T_1e45c_row4_col11, #T_1e45c_row4_col12, #T_1e45c_row4_col13, #T_1e45c_row4_col14, #T_1e45c_row4_col15, #T_1e45c_row4_col16, #T_1e45c_row4_col17, #T_1e45c_row4_col18, #T_1e45c_row4_col19, #T_1e45c_row5_col0, #T_1e45c_row5_col1, #T_1e45c_row5_col2, #T_1e45c_row5_col16, #T_1e45c_row5_col17, #T_1e45c_row5_col18, #T_1e45c_row5_col19, #T_1e45c_row6_col0, #T_1e45c_row6_col1, #T_1e45c_row6_col2, #T_1e45c_row6_col19, #T_1e45c_row7_col0, #T_1e45c_row7_col1, #T_1e45c_row7_col2, #T_1e45c_row7_col19, #T_1e45c_row8_col0, #T_1e45c_row8_col1, #T_1e45c_row8_col2, #T_1e45c_row8_col8, #T_1e45c_row8_col9, #T_1e45c_row8_col10, #T_1e45c_row8_col11, #T_1e45c_row8_col12, #T_1e45c_row8_col13, #T_1e45c_row8_col19, #T_1e45c_row9_col0, #T_1e45c_row9_col1, #T_1e45c_row9_col2, #T_1e45c_row9_col3, #T_1e45c_row9_col4, #T_1e45c_row9_col5, #T_1e45c_row9_col6, #T_1e45c_row9_col7, #T_1e45c_row9_col8, #T_1e45c_row9_col9, #T_1e45c_row9_col10, #T_1e45c_row9_col11, #T_1e45c_row9_col12, #T_1e45c_row9_col13, #T_1e45c_row9_col19 {\n",
              "  font-size: 6pt;\n",
              "  background-color: #ffffff;\n",
              "  color: #000000;\n",
              "}\n",
              "#T_1e45c_row5_col3, #T_1e45c_row8_col14 {\n",
              "  font-size: 6pt;\n",
              "  background-color: #f9f9f9;\n",
              "  color: #000000;\n",
              "}\n",
              "#T_1e45c_row5_col4 {\n",
              "  font-size: 6pt;\n",
              "  background-color: #b9b9b9;\n",
              "  color: #000000;\n",
              "}\n",
              "#T_1e45c_row5_col5 {\n",
              "  font-size: 6pt;\n",
              "  background-color: #c1c1c1;\n",
              "  color: #000000;\n",
              "}\n",
              "#T_1e45c_row5_col6 {\n",
              "  font-size: 6pt;\n",
              "  background-color: #858585;\n",
              "  color: #f1f1f1;\n",
              "}\n",
              "#T_1e45c_row5_col7, #T_1e45c_row5_col10, #T_1e45c_row5_col11, #T_1e45c_row5_col12, #T_1e45c_row5_col13 {\n",
              "  font-size: 6pt;\n",
              "  background-color: #777777;\n",
              "  color: #f1f1f1;\n",
              "}\n",
              "#T_1e45c_row5_col8 {\n",
              "  font-size: 6pt;\n",
              "  background-color: #090909;\n",
              "  color: #f1f1f1;\n",
              "}\n",
              "#T_1e45c_row5_col9 {\n",
              "  font-size: 6pt;\n",
              "  background-color: #5b5b5b;\n",
              "  color: #f1f1f1;\n",
              "}\n",
              "#T_1e45c_row5_col14 {\n",
              "  font-size: 6pt;\n",
              "  background-color: #919191;\n",
              "  color: #f1f1f1;\n",
              "}\n",
              "#T_1e45c_row5_col15 {\n",
              "  font-size: 6pt;\n",
              "  background-color: #e1e1e1;\n",
              "  color: #000000;\n",
              "}\n",
              "#T_1e45c_row6_col3 {\n",
              "  font-size: 6pt;\n",
              "  background-color: #727272;\n",
              "  color: #f1f1f1;\n",
              "}\n",
              "#T_1e45c_row6_col4, #T_1e45c_row6_col5, #T_1e45c_row6_col6, #T_1e45c_row6_col7, #T_1e45c_row6_col8, #T_1e45c_row6_col9, #T_1e45c_row6_col10, #T_1e45c_row6_col11, #T_1e45c_row6_col12, #T_1e45c_row6_col13, #T_1e45c_row6_col14, #T_1e45c_row7_col3, #T_1e45c_row7_col4, #T_1e45c_row7_col5, #T_1e45c_row7_col6, #T_1e45c_row7_col15, #T_1e45c_row7_col16, #T_1e45c_row7_col17, #T_1e45c_row8_col16, #T_1e45c_row8_col17, #T_1e45c_row8_col18, #T_1e45c_row9_col15, #T_1e45c_row9_col16 {\n",
              "  font-size: 6pt;\n",
              "  background-color: #000000;\n",
              "  color: #f1f1f1;\n",
              "}\n",
              "#T_1e45c_row6_col15 {\n",
              "  font-size: 6pt;\n",
              "  background-color: #020202;\n",
              "  color: #f1f1f1;\n",
              "}\n",
              "#T_1e45c_row6_col16 {\n",
              "  font-size: 6pt;\n",
              "  background-color: #363636;\n",
              "  color: #f1f1f1;\n",
              "}\n",
              "#T_1e45c_row6_col17 {\n",
              "  font-size: 6pt;\n",
              "  background-color: #9d9d9d;\n",
              "  color: #f1f1f1;\n",
              "}\n",
              "#T_1e45c_row6_col18 {\n",
              "  font-size: 6pt;\n",
              "  background-color: #dfdfdf;\n",
              "  color: #000000;\n",
              "}\n",
              "#T_1e45c_row7_col7 {\n",
              "  font-size: 6pt;\n",
              "  background-color: #161616;\n",
              "  color: #f1f1f1;\n",
              "}\n",
              "#T_1e45c_row7_col8, #T_1e45c_row7_col9, #T_1e45c_row7_col10, #T_1e45c_row7_col11, #T_1e45c_row7_col13 {\n",
              "  font-size: 6pt;\n",
              "  background-color: #535353;\n",
              "  color: #f1f1f1;\n",
              "}\n",
              "#T_1e45c_row7_col12 {\n",
              "  font-size: 6pt;\n",
              "  background-color: #7c7c7c;\n",
              "  color: #f1f1f1;\n",
              "}\n",
              "#T_1e45c_row7_col14 {\n",
              "  font-size: 6pt;\n",
              "  background-color: #3d3d3d;\n",
              "  color: #f1f1f1;\n",
              "}\n",
              "#T_1e45c_row7_col18 {\n",
              "  font-size: 6pt;\n",
              "  background-color: #999999;\n",
              "  color: #f1f1f1;\n",
              "}\n",
              "#T_1e45c_row8_col3 {\n",
              "  font-size: 6pt;\n",
              "  background-color: #eaeaea;\n",
              "  color: #000000;\n",
              "}\n",
              "#T_1e45c_row8_col4 {\n",
              "  font-size: 6pt;\n",
              "  background-color: #d0d0d0;\n",
              "  color: #000000;\n",
              "}\n",
              "#T_1e45c_row8_col5, #T_1e45c_row8_col6 {\n",
              "  font-size: 6pt;\n",
              "  background-color: #eeeeee;\n",
              "  color: #000000;\n",
              "}\n",
              "#T_1e45c_row8_col7 {\n",
              "  font-size: 6pt;\n",
              "  background-color: #f3f3f3;\n",
              "  color: #000000;\n",
              "}\n",
              "#T_1e45c_row8_col15 {\n",
              "  font-size: 6pt;\n",
              "  background-color: #232323;\n",
              "  color: #f1f1f1;\n",
              "}\n",
              "#T_1e45c_row9_col14 {\n",
              "  font-size: 6pt;\n",
              "  background-color: #c2c2c2;\n",
              "  color: #000000;\n",
              "}\n",
              "#T_1e45c_row9_col17 {\n",
              "  font-size: 6pt;\n",
              "  background-color: #080808;\n",
              "  color: #f1f1f1;\n",
              "}\n",
              "#T_1e45c_row9_col18 {\n",
              "  font-size: 6pt;\n",
              "  background-color: #c4c4c4;\n",
              "  color: #000000;\n",
              "}\n",
              "</style>\n",
              "<table id=\"T_1e45c\" class=\"dataframe\">\n",
              "  <thead>\n",
              "    <tr>\n",
              "      <th class=\"blank level0\" >&nbsp;</th>\n",
              "      <th id=\"T_1e45c_level0_col0\" class=\"col_heading level0 col0\" >0</th>\n",
              "      <th id=\"T_1e45c_level0_col1\" class=\"col_heading level0 col1\" >1</th>\n",
              "      <th id=\"T_1e45c_level0_col2\" class=\"col_heading level0 col2\" >2</th>\n",
              "      <th id=\"T_1e45c_level0_col3\" class=\"col_heading level0 col3\" >3</th>\n",
              "      <th id=\"T_1e45c_level0_col4\" class=\"col_heading level0 col4\" >4</th>\n",
              "      <th id=\"T_1e45c_level0_col5\" class=\"col_heading level0 col5\" >5</th>\n",
              "      <th id=\"T_1e45c_level0_col6\" class=\"col_heading level0 col6\" >6</th>\n",
              "      <th id=\"T_1e45c_level0_col7\" class=\"col_heading level0 col7\" >7</th>\n",
              "      <th id=\"T_1e45c_level0_col8\" class=\"col_heading level0 col8\" >8</th>\n",
              "      <th id=\"T_1e45c_level0_col9\" class=\"col_heading level0 col9\" >9</th>\n",
              "      <th id=\"T_1e45c_level0_col10\" class=\"col_heading level0 col10\" >10</th>\n",
              "      <th id=\"T_1e45c_level0_col11\" class=\"col_heading level0 col11\" >11</th>\n",
              "      <th id=\"T_1e45c_level0_col12\" class=\"col_heading level0 col12\" >12</th>\n",
              "      <th id=\"T_1e45c_level0_col13\" class=\"col_heading level0 col13\" >13</th>\n",
              "      <th id=\"T_1e45c_level0_col14\" class=\"col_heading level0 col14\" >14</th>\n",
              "      <th id=\"T_1e45c_level0_col15\" class=\"col_heading level0 col15\" >15</th>\n",
              "      <th id=\"T_1e45c_level0_col16\" class=\"col_heading level0 col16\" >16</th>\n",
              "      <th id=\"T_1e45c_level0_col17\" class=\"col_heading level0 col17\" >17</th>\n",
              "      <th id=\"T_1e45c_level0_col18\" class=\"col_heading level0 col18\" >18</th>\n",
              "      <th id=\"T_1e45c_level0_col19\" class=\"col_heading level0 col19\" >19</th>\n",
              "    </tr>\n",
              "  </thead>\n",
              "  <tbody>\n",
              "    <tr>\n",
              "      <th id=\"T_1e45c_level0_row0\" class=\"row_heading level0 row0\" >0</th>\n",
              "      <td id=\"T_1e45c_row0_col0\" class=\"data row0 col0\" >0</td>\n",
              "      <td id=\"T_1e45c_row0_col1\" class=\"data row0 col1\" >0</td>\n",
              "      <td id=\"T_1e45c_row0_col2\" class=\"data row0 col2\" >0</td>\n",
              "      <td id=\"T_1e45c_row0_col3\" class=\"data row0 col3\" >0</td>\n",
              "      <td id=\"T_1e45c_row0_col4\" class=\"data row0 col4\" >0</td>\n",
              "      <td id=\"T_1e45c_row0_col5\" class=\"data row0 col5\" >0</td>\n",
              "      <td id=\"T_1e45c_row0_col6\" class=\"data row0 col6\" >0</td>\n",
              "      <td id=\"T_1e45c_row0_col7\" class=\"data row0 col7\" >0</td>\n",
              "      <td id=\"T_1e45c_row0_col8\" class=\"data row0 col8\" >0</td>\n",
              "      <td id=\"T_1e45c_row0_col9\" class=\"data row0 col9\" >0</td>\n",
              "      <td id=\"T_1e45c_row0_col10\" class=\"data row0 col10\" >0</td>\n",
              "      <td id=\"T_1e45c_row0_col11\" class=\"data row0 col11\" >0</td>\n",
              "      <td id=\"T_1e45c_row0_col12\" class=\"data row0 col12\" >0</td>\n",
              "      <td id=\"T_1e45c_row0_col13\" class=\"data row0 col13\" >0</td>\n",
              "      <td id=\"T_1e45c_row0_col14\" class=\"data row0 col14\" >0</td>\n",
              "      <td id=\"T_1e45c_row0_col15\" class=\"data row0 col15\" >0</td>\n",
              "      <td id=\"T_1e45c_row0_col16\" class=\"data row0 col16\" >0</td>\n",
              "      <td id=\"T_1e45c_row0_col17\" class=\"data row0 col17\" >0</td>\n",
              "      <td id=\"T_1e45c_row0_col18\" class=\"data row0 col18\" >0</td>\n",
              "      <td id=\"T_1e45c_row0_col19\" class=\"data row0 col19\" >0</td>\n",
              "    </tr>\n",
              "    <tr>\n",
              "      <th id=\"T_1e45c_level0_row1\" class=\"row_heading level0 row1\" >1</th>\n",
              "      <td id=\"T_1e45c_row1_col0\" class=\"data row1 col0\" >0</td>\n",
              "      <td id=\"T_1e45c_row1_col1\" class=\"data row1 col1\" >0</td>\n",
              "      <td id=\"T_1e45c_row1_col2\" class=\"data row1 col2\" >0</td>\n",
              "      <td id=\"T_1e45c_row1_col3\" class=\"data row1 col3\" >0</td>\n",
              "      <td id=\"T_1e45c_row1_col4\" class=\"data row1 col4\" >0</td>\n",
              "      <td id=\"T_1e45c_row1_col5\" class=\"data row1 col5\" >0</td>\n",
              "      <td id=\"T_1e45c_row1_col6\" class=\"data row1 col6\" >0</td>\n",
              "      <td id=\"T_1e45c_row1_col7\" class=\"data row1 col7\" >0</td>\n",
              "      <td id=\"T_1e45c_row1_col8\" class=\"data row1 col8\" >0</td>\n",
              "      <td id=\"T_1e45c_row1_col9\" class=\"data row1 col9\" >0</td>\n",
              "      <td id=\"T_1e45c_row1_col10\" class=\"data row1 col10\" >0</td>\n",
              "      <td id=\"T_1e45c_row1_col11\" class=\"data row1 col11\" >0</td>\n",
              "      <td id=\"T_1e45c_row1_col12\" class=\"data row1 col12\" >0</td>\n",
              "      <td id=\"T_1e45c_row1_col13\" class=\"data row1 col13\" >0</td>\n",
              "      <td id=\"T_1e45c_row1_col14\" class=\"data row1 col14\" >0</td>\n",
              "      <td id=\"T_1e45c_row1_col15\" class=\"data row1 col15\" >0</td>\n",
              "      <td id=\"T_1e45c_row1_col16\" class=\"data row1 col16\" >0</td>\n",
              "      <td id=\"T_1e45c_row1_col17\" class=\"data row1 col17\" >0</td>\n",
              "      <td id=\"T_1e45c_row1_col18\" class=\"data row1 col18\" >0</td>\n",
              "      <td id=\"T_1e45c_row1_col19\" class=\"data row1 col19\" >0</td>\n",
              "    </tr>\n",
              "    <tr>\n",
              "      <th id=\"T_1e45c_level0_row2\" class=\"row_heading level0 row2\" >2</th>\n",
              "      <td id=\"T_1e45c_row2_col0\" class=\"data row2 col0\" >0</td>\n",
              "      <td id=\"T_1e45c_row2_col1\" class=\"data row2 col1\" >0</td>\n",
              "      <td id=\"T_1e45c_row2_col2\" class=\"data row2 col2\" >0</td>\n",
              "      <td id=\"T_1e45c_row2_col3\" class=\"data row2 col3\" >0</td>\n",
              "      <td id=\"T_1e45c_row2_col4\" class=\"data row2 col4\" >0</td>\n",
              "      <td id=\"T_1e45c_row2_col5\" class=\"data row2 col5\" >0</td>\n",
              "      <td id=\"T_1e45c_row2_col6\" class=\"data row2 col6\" >0</td>\n",
              "      <td id=\"T_1e45c_row2_col7\" class=\"data row2 col7\" >0</td>\n",
              "      <td id=\"T_1e45c_row2_col8\" class=\"data row2 col8\" >0</td>\n",
              "      <td id=\"T_1e45c_row2_col9\" class=\"data row2 col9\" >0</td>\n",
              "      <td id=\"T_1e45c_row2_col10\" class=\"data row2 col10\" >0</td>\n",
              "      <td id=\"T_1e45c_row2_col11\" class=\"data row2 col11\" >0</td>\n",
              "      <td id=\"T_1e45c_row2_col12\" class=\"data row2 col12\" >0</td>\n",
              "      <td id=\"T_1e45c_row2_col13\" class=\"data row2 col13\" >0</td>\n",
              "      <td id=\"T_1e45c_row2_col14\" class=\"data row2 col14\" >0</td>\n",
              "      <td id=\"T_1e45c_row2_col15\" class=\"data row2 col15\" >0</td>\n",
              "      <td id=\"T_1e45c_row2_col16\" class=\"data row2 col16\" >0</td>\n",
              "      <td id=\"T_1e45c_row2_col17\" class=\"data row2 col17\" >0</td>\n",
              "      <td id=\"T_1e45c_row2_col18\" class=\"data row2 col18\" >0</td>\n",
              "      <td id=\"T_1e45c_row2_col19\" class=\"data row2 col19\" >0</td>\n",
              "    </tr>\n",
              "    <tr>\n",
              "      <th id=\"T_1e45c_level0_row3\" class=\"row_heading level0 row3\" >3</th>\n",
              "      <td id=\"T_1e45c_row3_col0\" class=\"data row3 col0\" >0</td>\n",
              "      <td id=\"T_1e45c_row3_col1\" class=\"data row3 col1\" >0</td>\n",
              "      <td id=\"T_1e45c_row3_col2\" class=\"data row3 col2\" >0</td>\n",
              "      <td id=\"T_1e45c_row3_col3\" class=\"data row3 col3\" >0</td>\n",
              "      <td id=\"T_1e45c_row3_col4\" class=\"data row3 col4\" >0</td>\n",
              "      <td id=\"T_1e45c_row3_col5\" class=\"data row3 col5\" >0</td>\n",
              "      <td id=\"T_1e45c_row3_col6\" class=\"data row3 col6\" >0</td>\n",
              "      <td id=\"T_1e45c_row3_col7\" class=\"data row3 col7\" >0</td>\n",
              "      <td id=\"T_1e45c_row3_col8\" class=\"data row3 col8\" >0</td>\n",
              "      <td id=\"T_1e45c_row3_col9\" class=\"data row3 col9\" >0</td>\n",
              "      <td id=\"T_1e45c_row3_col10\" class=\"data row3 col10\" >0</td>\n",
              "      <td id=\"T_1e45c_row3_col11\" class=\"data row3 col11\" >0</td>\n",
              "      <td id=\"T_1e45c_row3_col12\" class=\"data row3 col12\" >0</td>\n",
              "      <td id=\"T_1e45c_row3_col13\" class=\"data row3 col13\" >0</td>\n",
              "      <td id=\"T_1e45c_row3_col14\" class=\"data row3 col14\" >0</td>\n",
              "      <td id=\"T_1e45c_row3_col15\" class=\"data row3 col15\" >0</td>\n",
              "      <td id=\"T_1e45c_row3_col16\" class=\"data row3 col16\" >0</td>\n",
              "      <td id=\"T_1e45c_row3_col17\" class=\"data row3 col17\" >0</td>\n",
              "      <td id=\"T_1e45c_row3_col18\" class=\"data row3 col18\" >0</td>\n",
              "      <td id=\"T_1e45c_row3_col19\" class=\"data row3 col19\" >0</td>\n",
              "    </tr>\n",
              "    <tr>\n",
              "      <th id=\"T_1e45c_level0_row4\" class=\"row_heading level0 row4\" >4</th>\n",
              "      <td id=\"T_1e45c_row4_col0\" class=\"data row4 col0\" >0</td>\n",
              "      <td id=\"T_1e45c_row4_col1\" class=\"data row4 col1\" >0</td>\n",
              "      <td id=\"T_1e45c_row4_col2\" class=\"data row4 col2\" >0</td>\n",
              "      <td id=\"T_1e45c_row4_col3\" class=\"data row4 col3\" >0</td>\n",
              "      <td id=\"T_1e45c_row4_col4\" class=\"data row4 col4\" >0</td>\n",
              "      <td id=\"T_1e45c_row4_col5\" class=\"data row4 col5\" >0</td>\n",
              "      <td id=\"T_1e45c_row4_col6\" class=\"data row4 col6\" >0</td>\n",
              "      <td id=\"T_1e45c_row4_col7\" class=\"data row4 col7\" >0</td>\n",
              "      <td id=\"T_1e45c_row4_col8\" class=\"data row4 col8\" >0</td>\n",
              "      <td id=\"T_1e45c_row4_col9\" class=\"data row4 col9\" >0</td>\n",
              "      <td id=\"T_1e45c_row4_col10\" class=\"data row4 col10\" >0</td>\n",
              "      <td id=\"T_1e45c_row4_col11\" class=\"data row4 col11\" >0</td>\n",
              "      <td id=\"T_1e45c_row4_col12\" class=\"data row4 col12\" >0</td>\n",
              "      <td id=\"T_1e45c_row4_col13\" class=\"data row4 col13\" >0</td>\n",
              "      <td id=\"T_1e45c_row4_col14\" class=\"data row4 col14\" >0</td>\n",
              "      <td id=\"T_1e45c_row4_col15\" class=\"data row4 col15\" >0</td>\n",
              "      <td id=\"T_1e45c_row4_col16\" class=\"data row4 col16\" >0</td>\n",
              "      <td id=\"T_1e45c_row4_col17\" class=\"data row4 col17\" >0</td>\n",
              "      <td id=\"T_1e45c_row4_col18\" class=\"data row4 col18\" >0</td>\n",
              "      <td id=\"T_1e45c_row4_col19\" class=\"data row4 col19\" >0</td>\n",
              "    </tr>\n",
              "    <tr>\n",
              "      <th id=\"T_1e45c_level0_row5\" class=\"row_heading level0 row5\" >5</th>\n",
              "      <td id=\"T_1e45c_row5_col0\" class=\"data row5 col0\" >0</td>\n",
              "      <td id=\"T_1e45c_row5_col1\" class=\"data row5 col1\" >0</td>\n",
              "      <td id=\"T_1e45c_row5_col2\" class=\"data row5 col2\" >0</td>\n",
              "      <td id=\"T_1e45c_row5_col3\" class=\"data row5 col3\" >12</td>\n",
              "      <td id=\"T_1e45c_row5_col4\" class=\"data row5 col4\" >99</td>\n",
              "      <td id=\"T_1e45c_row5_col5\" class=\"data row5 col5\" >91</td>\n",
              "      <td id=\"T_1e45c_row5_col6\" class=\"data row5 col6\" >142</td>\n",
              "      <td id=\"T_1e45c_row5_col7\" class=\"data row5 col7\" >155</td>\n",
              "      <td id=\"T_1e45c_row5_col8\" class=\"data row5 col8\" >246</td>\n",
              "      <td id=\"T_1e45c_row5_col9\" class=\"data row5 col9\" >182</td>\n",
              "      <td id=\"T_1e45c_row5_col10\" class=\"data row5 col10\" >155</td>\n",
              "      <td id=\"T_1e45c_row5_col11\" class=\"data row5 col11\" >155</td>\n",
              "      <td id=\"T_1e45c_row5_col12\" class=\"data row5 col12\" >155</td>\n",
              "      <td id=\"T_1e45c_row5_col13\" class=\"data row5 col13\" >155</td>\n",
              "      <td id=\"T_1e45c_row5_col14\" class=\"data row5 col14\" >131</td>\n",
              "      <td id=\"T_1e45c_row5_col15\" class=\"data row5 col15\" >52</td>\n",
              "      <td id=\"T_1e45c_row5_col16\" class=\"data row5 col16\" >0</td>\n",
              "      <td id=\"T_1e45c_row5_col17\" class=\"data row5 col17\" >0</td>\n",
              "      <td id=\"T_1e45c_row5_col18\" class=\"data row5 col18\" >0</td>\n",
              "      <td id=\"T_1e45c_row5_col19\" class=\"data row5 col19\" >0</td>\n",
              "    </tr>\n",
              "    <tr>\n",
              "      <th id=\"T_1e45c_level0_row6\" class=\"row_heading level0 row6\" >6</th>\n",
              "      <td id=\"T_1e45c_row6_col0\" class=\"data row6 col0\" >0</td>\n",
              "      <td id=\"T_1e45c_row6_col1\" class=\"data row6 col1\" >0</td>\n",
              "      <td id=\"T_1e45c_row6_col2\" class=\"data row6 col2\" >0</td>\n",
              "      <td id=\"T_1e45c_row6_col3\" class=\"data row6 col3\" >138</td>\n",
              "      <td id=\"T_1e45c_row6_col4\" class=\"data row6 col4\" >254</td>\n",
              "      <td id=\"T_1e45c_row6_col5\" class=\"data row6 col5\" >254</td>\n",
              "      <td id=\"T_1e45c_row6_col6\" class=\"data row6 col6\" >254</td>\n",
              "      <td id=\"T_1e45c_row6_col7\" class=\"data row6 col7\" >254</td>\n",
              "      <td id=\"T_1e45c_row6_col8\" class=\"data row6 col8\" >254</td>\n",
              "      <td id=\"T_1e45c_row6_col9\" class=\"data row6 col9\" >254</td>\n",
              "      <td id=\"T_1e45c_row6_col10\" class=\"data row6 col10\" >254</td>\n",
              "      <td id=\"T_1e45c_row6_col11\" class=\"data row6 col11\" >254</td>\n",
              "      <td id=\"T_1e45c_row6_col12\" class=\"data row6 col12\" >254</td>\n",
              "      <td id=\"T_1e45c_row6_col13\" class=\"data row6 col13\" >254</td>\n",
              "      <td id=\"T_1e45c_row6_col14\" class=\"data row6 col14\" >254</td>\n",
              "      <td id=\"T_1e45c_row6_col15\" class=\"data row6 col15\" >252</td>\n",
              "      <td id=\"T_1e45c_row6_col16\" class=\"data row6 col16\" >210</td>\n",
              "      <td id=\"T_1e45c_row6_col17\" class=\"data row6 col17\" >122</td>\n",
              "      <td id=\"T_1e45c_row6_col18\" class=\"data row6 col18\" >33</td>\n",
              "      <td id=\"T_1e45c_row6_col19\" class=\"data row6 col19\" >0</td>\n",
              "    </tr>\n",
              "    <tr>\n",
              "      <th id=\"T_1e45c_level0_row7\" class=\"row_heading level0 row7\" >7</th>\n",
              "      <td id=\"T_1e45c_row7_col0\" class=\"data row7 col0\" >0</td>\n",
              "      <td id=\"T_1e45c_row7_col1\" class=\"data row7 col1\" >0</td>\n",
              "      <td id=\"T_1e45c_row7_col2\" class=\"data row7 col2\" >0</td>\n",
              "      <td id=\"T_1e45c_row7_col3\" class=\"data row7 col3\" >220</td>\n",
              "      <td id=\"T_1e45c_row7_col4\" class=\"data row7 col4\" >254</td>\n",
              "      <td id=\"T_1e45c_row7_col5\" class=\"data row7 col5\" >254</td>\n",
              "      <td id=\"T_1e45c_row7_col6\" class=\"data row7 col6\" >254</td>\n",
              "      <td id=\"T_1e45c_row7_col7\" class=\"data row7 col7\" >235</td>\n",
              "      <td id=\"T_1e45c_row7_col8\" class=\"data row7 col8\" >189</td>\n",
              "      <td id=\"T_1e45c_row7_col9\" class=\"data row7 col9\" >189</td>\n",
              "      <td id=\"T_1e45c_row7_col10\" class=\"data row7 col10\" >189</td>\n",
              "      <td id=\"T_1e45c_row7_col11\" class=\"data row7 col11\" >189</td>\n",
              "      <td id=\"T_1e45c_row7_col12\" class=\"data row7 col12\" >150</td>\n",
              "      <td id=\"T_1e45c_row7_col13\" class=\"data row7 col13\" >189</td>\n",
              "      <td id=\"T_1e45c_row7_col14\" class=\"data row7 col14\" >205</td>\n",
              "      <td id=\"T_1e45c_row7_col15\" class=\"data row7 col15\" >254</td>\n",
              "      <td id=\"T_1e45c_row7_col16\" class=\"data row7 col16\" >254</td>\n",
              "      <td id=\"T_1e45c_row7_col17\" class=\"data row7 col17\" >254</td>\n",
              "      <td id=\"T_1e45c_row7_col18\" class=\"data row7 col18\" >75</td>\n",
              "      <td id=\"T_1e45c_row7_col19\" class=\"data row7 col19\" >0</td>\n",
              "    </tr>\n",
              "    <tr>\n",
              "      <th id=\"T_1e45c_level0_row8\" class=\"row_heading level0 row8\" >8</th>\n",
              "      <td id=\"T_1e45c_row8_col0\" class=\"data row8 col0\" >0</td>\n",
              "      <td id=\"T_1e45c_row8_col1\" class=\"data row8 col1\" >0</td>\n",
              "      <td id=\"T_1e45c_row8_col2\" class=\"data row8 col2\" >0</td>\n",
              "      <td id=\"T_1e45c_row8_col3\" class=\"data row8 col3\" >35</td>\n",
              "      <td id=\"T_1e45c_row8_col4\" class=\"data row8 col4\" >74</td>\n",
              "      <td id=\"T_1e45c_row8_col5\" class=\"data row8 col5\" >35</td>\n",
              "      <td id=\"T_1e45c_row8_col6\" class=\"data row8 col6\" >35</td>\n",
              "      <td id=\"T_1e45c_row8_col7\" class=\"data row8 col7\" >25</td>\n",
              "      <td id=\"T_1e45c_row8_col8\" class=\"data row8 col8\" >0</td>\n",
              "      <td id=\"T_1e45c_row8_col9\" class=\"data row8 col9\" >0</td>\n",
              "      <td id=\"T_1e45c_row8_col10\" class=\"data row8 col10\" >0</td>\n",
              "      <td id=\"T_1e45c_row8_col11\" class=\"data row8 col11\" >0</td>\n",
              "      <td id=\"T_1e45c_row8_col12\" class=\"data row8 col12\" >0</td>\n",
              "      <td id=\"T_1e45c_row8_col13\" class=\"data row8 col13\" >0</td>\n",
              "      <td id=\"T_1e45c_row8_col14\" class=\"data row8 col14\" >13</td>\n",
              "      <td id=\"T_1e45c_row8_col15\" class=\"data row8 col15\" >224</td>\n",
              "      <td id=\"T_1e45c_row8_col16\" class=\"data row8 col16\" >254</td>\n",
              "      <td id=\"T_1e45c_row8_col17\" class=\"data row8 col17\" >254</td>\n",
              "      <td id=\"T_1e45c_row8_col18\" class=\"data row8 col18\" >153</td>\n",
              "      <td id=\"T_1e45c_row8_col19\" class=\"data row8 col19\" >0</td>\n",
              "    </tr>\n",
              "    <tr>\n",
              "      <th id=\"T_1e45c_level0_row9\" class=\"row_heading level0 row9\" >9</th>\n",
              "      <td id=\"T_1e45c_row9_col0\" class=\"data row9 col0\" >0</td>\n",
              "      <td id=\"T_1e45c_row9_col1\" class=\"data row9 col1\" >0</td>\n",
              "      <td id=\"T_1e45c_row9_col2\" class=\"data row9 col2\" >0</td>\n",
              "      <td id=\"T_1e45c_row9_col3\" class=\"data row9 col3\" >0</td>\n",
              "      <td id=\"T_1e45c_row9_col4\" class=\"data row9 col4\" >0</td>\n",
              "      <td id=\"T_1e45c_row9_col5\" class=\"data row9 col5\" >0</td>\n",
              "      <td id=\"T_1e45c_row9_col6\" class=\"data row9 col6\" >0</td>\n",
              "      <td id=\"T_1e45c_row9_col7\" class=\"data row9 col7\" >0</td>\n",
              "      <td id=\"T_1e45c_row9_col8\" class=\"data row9 col8\" >0</td>\n",
              "      <td id=\"T_1e45c_row9_col9\" class=\"data row9 col9\" >0</td>\n",
              "      <td id=\"T_1e45c_row9_col10\" class=\"data row9 col10\" >0</td>\n",
              "      <td id=\"T_1e45c_row9_col11\" class=\"data row9 col11\" >0</td>\n",
              "      <td id=\"T_1e45c_row9_col12\" class=\"data row9 col12\" >0</td>\n",
              "      <td id=\"T_1e45c_row9_col13\" class=\"data row9 col13\" >0</td>\n",
              "      <td id=\"T_1e45c_row9_col14\" class=\"data row9 col14\" >90</td>\n",
              "      <td id=\"T_1e45c_row9_col15\" class=\"data row9 col15\" >254</td>\n",
              "      <td id=\"T_1e45c_row9_col16\" class=\"data row9 col16\" >254</td>\n",
              "      <td id=\"T_1e45c_row9_col17\" class=\"data row9 col17\" >247</td>\n",
              "      <td id=\"T_1e45c_row9_col18\" class=\"data row9 col18\" >53</td>\n",
              "      <td id=\"T_1e45c_row9_col19\" class=\"data row9 col19\" >0</td>\n",
              "    </tr>\n",
              "  </tbody>\n",
              "</table>\n"
            ]
          },
          "metadata": {},
          "execution_count": 11
        }
      ]
    },
    {
      "cell_type": "code",
      "source": [
        "(im3_t[4:7,6:9] * top_edge).sum()"
      ],
      "metadata": {
        "colab": {
          "base_uri": "https://localhost:8080/"
        },
        "id": "MT2A_KNekOuO",
        "outputId": "14dea341-9f3c-43b7-bbff-416e6e8d7a4f"
      },
      "execution_count": 12,
      "outputs": [
        {
          "output_type": "execute_result",
          "data": {
            "text/plain": [
              "tensor(762.)"
            ]
          },
          "metadata": {},
          "execution_count": 12
        }
      ]
    },
    {
      "cell_type": "code",
      "source": [
        "(im3_t[7:10,17:20] * top_edge).sum()"
      ],
      "metadata": {
        "colab": {
          "base_uri": "https://localhost:8080/"
        },
        "id": "fIGJXGGpkRB2",
        "outputId": "93751f12-c28a-465f-f2c4-3d4aa088c3ed"
      },
      "execution_count": 13,
      "outputs": [
        {
          "output_type": "execute_result",
          "data": {
            "text/plain": [
              "tensor(-29.)"
            ]
          },
          "metadata": {},
          "execution_count": 13
        }
      ]
    },
    {
      "cell_type": "code",
      "source": [
        "def apply_kernel(row, col, kernel):\n",
        "    return (im3_t[row-1:row+2,col-1:col+2] * kernel).sum()"
      ],
      "metadata": {
        "id": "PffoOPQukTzP"
      },
      "execution_count": 14,
      "outputs": []
    },
    {
      "cell_type": "code",
      "source": [
        "apply_kernel(5,7,top_edge)"
      ],
      "metadata": {
        "colab": {
          "base_uri": "https://localhost:8080/"
        },
        "id": "ngL66W1-kWLI",
        "outputId": "5c599676-ed50-4456-8d07-9683209ef0ca"
      },
      "execution_count": 15,
      "outputs": [
        {
          "output_type": "execute_result",
          "data": {
            "text/plain": [
              "tensor(762.)"
            ]
          },
          "metadata": {},
          "execution_count": 15
        }
      ]
    },
    {
      "cell_type": "markdown",
      "source": [
        "#Mapping a Convolution Kernel"
      ],
      "metadata": {
        "id": "wt8QZ_wckZNp"
      }
    },
    {
      "cell_type": "code",
      "source": [
        "[[(i,j) for j in range(1,5)] for i in range(1,5)]"
      ],
      "metadata": {
        "colab": {
          "base_uri": "https://localhost:8080/"
        },
        "id": "bUqZHqXtkYop",
        "outputId": "1f1c9eb7-9654-48bd-cf50-2422028904a9"
      },
      "execution_count": 16,
      "outputs": [
        {
          "output_type": "execute_result",
          "data": {
            "text/plain": [
              "[[(1, 1), (1, 2), (1, 3), (1, 4)],\n",
              " [(2, 1), (2, 2), (2, 3), (2, 4)],\n",
              " [(3, 1), (3, 2), (3, 3), (3, 4)],\n",
              " [(4, 1), (4, 2), (4, 3), (4, 4)]]"
            ]
          },
          "metadata": {},
          "execution_count": 16
        }
      ]
    },
    {
      "cell_type": "code",
      "source": [
        "rng = range(1,27)\n",
        "top_edge3 = tensor([[apply_kernel(i,j,top_edge) for j in rng] for i in rng])\n",
        "\n",
        "show_image(top_edge3);"
      ],
      "metadata": {
        "colab": {
          "base_uri": "https://localhost:8080/",
          "height": 114
        },
        "id": "AEcLI1RRkf7s",
        "outputId": "52b7c98b-313c-4fec-89b9-b5e098f3245b"
      },
      "execution_count": 17,
      "outputs": [
        {
          "output_type": "display_data",
          "data": {
            "text/plain": [
              "<Figure size 100x100 with 1 Axes>"
            ],
            "image/png": "[encoded data removed]"
          },
          "metadata": {}
        }
      ]
    },
    {
      "cell_type": "code",
      "source": [
        "left_edge = tensor([[-1,1,0],\n",
        "                    [-1,1,0],\n",
        "                    [-1,1,0]]).float()\n",
        "\n",
        "left_edge3 = tensor([[apply_kernel(i,j,left_edge) for j in rng] for i in rng])\n",
        "\n",
        "show_image(left_edge3);"
      ],
      "metadata": {
        "colab": {
          "base_uri": "https://localhost:8080/",
          "height": 114
        },
        "id": "mlJlP2PUki_-",
        "outputId": "ea8bebb7-3795-4324-933c-867cbeb9f1d8"
      },
      "execution_count": 18,
      "outputs": [
        {
          "output_type": "display_data",
          "data": {
            "text/plain": [
              "<Figure size 100x100 with 1 Axes>"
            ],
            "image/png": "[encoded data removed]"
          },
          "metadata": {}
        }
      ]
    },
    {
      "cell_type": "markdown",
      "source": [
        "#Convolutions in PyTorch"
      ],
      "metadata": {
        "id": "wDjJz4yEkmZv"
      }
    },
    {
      "cell_type": "code",
      "source": [
        "diag1_edge = tensor([[ 0,-1, 1],\n",
        "                     [-1, 1, 0],\n",
        "                     [ 1, 0, 0]]).float()\n",
        "diag2_edge = tensor([[ 1,-1, 0],\n",
        "                     [ 0, 1,-1],\n",
        "                     [ 0, 0, 1]]).float()\n",
        "\n",
        "edge_kernels = torch.stack([left_edge, top_edge, diag1_edge, diag2_edge])\n",
        "edge_kernels.shape"
      ],
      "metadata": {
        "id": "-mUETQtwkl5f",
        "colab": {
          "base_uri": "https://localhost:8080/"
        },
        "outputId": "9ab6201c-1ea6-448d-89b5-da5af1f09144"
      },
      "execution_count": 19,
      "outputs": [
        {
          "output_type": "execute_result",
          "data": {
            "text/plain": [
              "torch.Size([4, 3, 3])"
            ]
          },
          "metadata": {},
          "execution_count": 19
        }
      ]
    },
    {
      "cell_type": "code",
      "source": [
        "mnist = DataBlock((ImageBlock(cls=PILImageBW), CategoryBlock),\n",
        "                  get_items=get_image_files,\n",
        "                  splitter=GrandparentSplitter(),\n",
        "                  get_y=parent_label)\n",
        "\n",
        "dls = mnist.dataloaders(path)\n",
        "xb,yb = first(dls.valid)\n",
        "xb.shape\n"
      ],
      "metadata": {
        "id": "NW5GiOkltIwB",
        "colab": {
          "base_uri": "https://localhost:8080/"
        },
        "outputId": "cf73a6c7-7558-4a51-eacb-3c92704d2256"
      },
      "execution_count": 20,
      "outputs": [
        {
          "output_type": "stream",
          "name": "stderr",
          "text": [
            "/usr/local/lib/python3.10/dist-packages/fastai/torch_core.py:263: UserWarning: 'has_mps' is deprecated, please use 'torch.backends.mps.is_built()'\n",
            "  return getattr(torch, 'has_mps', False)\n"
          ]
        },
        {
          "output_type": "execute_result",
          "data": {
            "text/plain": [
              "torch.Size([64, 1, 28, 28])"
            ]
          },
          "metadata": {},
          "execution_count": 20
        }
      ]
    },
    {
      "cell_type": "code",
      "source": [
        "xb,yb = to_cpu(xb),to_cpu(yb)"
      ],
      "metadata": {
        "id": "76Di6aa6taHy"
      },
      "execution_count": 21,
      "outputs": []
    },
    {
      "cell_type": "code",
      "source": [
        "edge_kernels.shape,edge_kernels.unsqueeze(1).shape"
      ],
      "metadata": {
        "colab": {
          "base_uri": "https://localhost:8080/"
        },
        "id": "VUSuQeUpBAY1",
        "outputId": "981368e8-4eb0-48d4-b91f-385f3a2b3f71"
      },
      "execution_count": 22,
      "outputs": [
        {
          "output_type": "execute_result",
          "data": {
            "text/plain": [
              "(torch.Size([4, 3, 3]), torch.Size([4, 1, 3, 3]))"
            ]
          },
          "metadata": {},
          "execution_count": 22
        }
      ]
    },
    {
      "cell_type": "code",
      "source": [
        "edge_kernels = edge_kernels.unsqueeze(1)\n"
      ],
      "metadata": {
        "id": "fVKzZZcyBEGP"
      },
      "execution_count": 23,
      "outputs": []
    },
    {
      "cell_type": "code",
      "source": [
        "batch_features = F.conv2d(xb, edge_kernels)\n",
        "batch_features.shape"
      ],
      "metadata": {
        "colab": {
          "base_uri": "https://localhost:8080/"
        },
        "id": "T475wU03BHU_",
        "outputId": "f1ad48e4-3cb7-45de-b8fc-178ff6345f88"
      },
      "execution_count": 24,
      "outputs": [
        {
          "output_type": "execute_result",
          "data": {
            "text/plain": [
              "torch.Size([64, 4, 26, 26])"
            ]
          },
          "metadata": {},
          "execution_count": 24
        }
      ]
    },
    {
      "cell_type": "code",
      "source": [
        "show_image(batch_features[0,0]);"
      ],
      "metadata": {
        "colab": {
          "base_uri": "https://localhost:8080/",
          "height": 114
        },
        "id": "hLDOaaCgBKMZ",
        "outputId": "49d1c1bc-9a47-479f-b0e0-08b11cdecf75"
      },
      "execution_count": 25,
      "outputs": [
        {
          "output_type": "display_data",
          "data": {
            "text/plain": [
              "<Figure size 100x100 with 1 Axes>"
            ],
            "image/png": "[encoded data removed]"
          },
          "metadata": {}
        }
      ]
    },
    {
      "cell_type": "markdown",
      "source": [
        "#Strides and Padding"
      ],
      "metadata": {
        "id": "D8bUxbw5RHi1"
      }
    },
    {
      "cell_type": "markdown",
      "source": [
        "<<pad_conv>> shows how adding padding allows us to apply the kernels in the image corners"
      ],
      "metadata": {
        "id": "htdsDoxqRR6H"
      }
    },
    {
      "cell_type": "markdown",
      "source": [
        "![image.png](data:image/png;base64,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)"
      ],
      "metadata": {
        "id": "yjbcQL2yRmnQ"
      }
    },
    {
      "cell_type": "markdown",
      "source": [
        "Understanding the Convolution Equations"
      ],
      "metadata": {
        "id": "skF13AAKRjMm"
      }
    },
    {
      "cell_type": "markdown",
      "source": [
        "#First Convolutional Neural Network"
      ],
      "metadata": {
        "id": "QnCIJReBRv_b"
      }
    },
    {
      "cell_type": "markdown",
      "source": [
        "Creating the CNN"
      ],
      "metadata": {
        "id": "-eYShu4JR1Dm"
      }
    },
    {
      "cell_type": "code",
      "source": [
        "simple_net = nn.Sequential(\n",
        "    nn.Linear(28*28,30),\n",
        "    nn.ReLU(),\n",
        "    nn.Linear(30,1)\n",
        ")\n",
        ""
      ],
      "metadata": {
        "id": "8E8aC2ERRRAf"
      },
      "execution_count": 26,
      "outputs": []
    },
    {
      "cell_type": "code",
      "source": [
        "simple_net"
      ],
      "metadata": {
        "colab": {
          "base_uri": "https://localhost:8080/"
        },
        "id": "RJf5voneR9NZ",
        "outputId": "e8c5b7f1-fbad-4c3e-f403-ee8e1a478ba0"
      },
      "execution_count": 27,
      "outputs": [
        {
          "output_type": "execute_result",
          "data": {
            "text/plain": [
              "Sequential(\n",
              "  (0): Linear(in_features=784, out_features=30, bias=True)\n",
              "  (1): ReLU()\n",
              "  (2): Linear(in_features=30, out_features=1, bias=True)\n",
              ")"
            ]
          },
          "metadata": {},
          "execution_count": 27
        }
      ]
    }
  ]
}