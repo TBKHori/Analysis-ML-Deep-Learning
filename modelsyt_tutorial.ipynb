{
  "cells": [
    {
      "cell_type": "code",
      "execution_count": 1,
      "metadata": {
        "id": "whZRQKwfuiUU"
      },
      "outputs": [],
      "source": [
        "# For tips on running notebooks in Google Colab, see\n",
        "# https://pytorch.org/tutorials/beginner/colab\n",
        "%matplotlib inline"
      ]
    },
    {
      "cell_type": "markdown",
      "metadata": {
        "id": "s44hpAjpuiUW"
      },
      "source": [
        "\n",
        "[Introduction](introyt1_tutorial.html) ||\n",
        "[Tensors](tensors_deeper_tutorial.html) ||\n",
        "[Autograd](autogradyt_tutorial.html) ||\n",
        "**Building Models** ||\n",
        "[TensorBoard Support](tensorboardyt_tutorial.html) ||\n",
        "[Training Models](trainingyt.html) ||\n",
        "[Model Understanding](captumyt.html)\n",
        "\n",
        "# Building Models with PyTorch\n",
        "\n",
        "Follow along with the video below or on [youtube](https://www.youtube.com/watch?v=OSqIP-mOWOI)_.\n",
        "\n",
        ".. raw:: html\n",
        "\n",
        "   <div style=\"margin-top:10px; margin-bottom:10px;\">\n",
        "     <iframe width=\"560\" height=\"315\" src=\"https://www.youtube.com/embed/OSqIP-mOWOI\" frameborder=\"0\" allow=\"accelerometer; encrypted-media; gyroscope; picture-in-picture\" allowfullscreen></iframe>\n",
        "   </div>\n",
        "\n",
        "## ``torch.nn.Module`` and ``torch.nn.Parameter``\n",
        "\n",
        "In this video, we’ll be discussing some of the tools PyTorch makes\n",
        "available for building deep learning networks.\n",
        "\n",
        "Except for ``Parameter``, the classes we discuss in this video are all\n",
        "subclasses of ``torch.nn.Module``. This is the PyTorch base class meant\n",
        "to encapsulate behaviors specific to PyTorch Models and their\n",
        "components.\n",
        "\n",
        "One important behavior of ``torch.nn.Module`` is registering parameters.\n",
        "If a particular ``Module`` subclass has learning weights, these weights\n",
        "are expressed as instances of ``torch.nn.Parameter``. The ``Parameter``\n",
        "class is a subclass of ``torch.Tensor``, with the special behavior that\n",
        "when they are assigned as attributes of a ``Module``, they are added to\n",
        "the list of that modules parameters. These parameters may be accessed\n",
        "through the ``parameters()`` method on the ``Module`` class.\n",
        "\n",
        "As a simple example, here’s a very simple model with two linear layers\n",
        "and an activation function. We’ll create an instance of it and ask it to\n",
        "report on its parameters:\n"
      ]
    },
    {
      "cell_type": "code",
      "execution_count": 2,
      "metadata": {
        "id": "7vexfjdouiUX",
        "outputId": "78ed09a0-4eb0-407d-8b96-68717df9a193",
        "colab": {
          "base_uri": "https://localhost:8080/"
        }
      },
      "outputs": [
        {
          "output_type": "stream",
          "name": "stdout",
          "text": [
            "The model:\n",
            "TinyModel(\n",
            "  (linear1): Linear(in_features=100, out_features=200, bias=True)\n",
            "  (activation): ReLU()\n",
            "  (linear2): Linear(in_features=200, out_features=10, bias=True)\n",
            "  (softmax): Softmax(dim=None)\n",
            ")\n",
            "\n",
            "\n",
            "Just one layer:\n",
            "Linear(in_features=200, out_features=10, bias=True)\n",
            "\n",
            "\n",
            "Model params:\n",
            "Parameter containing:\n",
            "tensor([[-0.0240,  0.0528, -0.0659,  ...,  0.0082, -0.0029, -0.0294],\n",
            "        [ 0.0872,  0.0563, -0.0062,  ..., -0.0368, -0.0148,  0.0844],\n",
            "        [-0.0384,  0.0406,  0.0378,  ...,  0.0098,  0.0060, -0.0371],\n",
            "        ...,\n",
            "        [-0.0981,  0.0312, -0.0811,  ...,  0.0119,  0.0452,  0.0093],\n",
            "        [ 0.0888, -0.0454, -0.0588,  ..., -0.0703, -0.0652, -0.0941],\n",
            "        [-0.0917,  0.0045, -0.0390,  ...,  0.0899, -0.0825,  0.0183]],\n",
            "       requires_grad=True)\n",
            "Parameter containing:\n",
            "tensor([-0.0793,  0.0851,  0.0036, -0.0675,  0.0178, -0.0103,  0.0004,  0.0742,\n",
            "         0.0389, -0.0579, -0.0008,  0.0782, -0.0585, -0.0810, -0.0778, -0.0381,\n",
            "         0.0367, -0.0122, -0.0256,  0.0432,  0.0989,  0.0950, -0.0580,  0.0775,\n",
            "         0.0878,  0.0376,  0.0764, -0.0403,  0.0876,  0.0104, -0.0305, -0.0447,\n",
            "         0.0063, -0.0580, -0.0863,  0.0324,  0.0160,  0.0020,  0.0510, -0.0822,\n",
            "        -0.0307, -0.0034, -0.0380,  0.0930, -0.0787, -0.0798,  0.0467, -0.0223,\n",
            "         0.0749, -0.0853,  0.0278, -0.0821, -0.0177, -0.0857, -0.0280,  0.0990,\n",
            "         0.0788,  0.0638,  0.0532, -0.0711,  0.0837,  0.0441,  0.0767, -0.0805,\n",
            "         0.0962, -0.0653, -0.0291, -0.0557, -0.0428, -0.0386, -0.0631, -0.0995,\n",
            "        -0.0534,  0.0320,  0.0410,  0.0819, -0.0782, -0.0483, -0.0136,  0.0730,\n",
            "         0.0390, -0.0099,  0.0194,  0.0937, -0.0551, -0.0288,  0.0356, -0.0387,\n",
            "         0.0314,  0.0631,  0.0818,  0.0844, -0.0397,  0.0058, -0.0707, -0.0424,\n",
            "         0.0090, -0.0732, -0.0984,  0.0434, -0.0341,  0.0879,  0.0031, -0.0689,\n",
            "         0.0223,  0.0606, -0.0325, -0.0514, -0.0196,  0.0814, -0.0765, -0.0958,\n",
            "        -0.0188,  0.0808, -0.0277, -0.0328,  0.0006, -0.0662,  0.0326, -0.0941,\n",
            "         0.0543,  0.0643,  0.0633, -0.0448,  0.0059, -0.0712,  0.0064, -0.0814,\n",
            "        -0.0202,  0.0369,  0.0808, -0.0765,  0.0786, -0.0274, -0.0617, -0.0640,\n",
            "        -0.0220,  0.0739, -0.0225,  0.0083,  0.0120, -0.0408, -0.0862,  0.0819,\n",
            "         0.0402,  0.0208, -0.0885,  0.0044, -0.0469, -0.0395,  0.0777,  0.0937,\n",
            "         0.0500,  0.0467,  0.0193,  0.0027,  0.0594,  0.0420,  0.0644, -0.0402,\n",
            "        -0.0491,  0.0013,  0.0634, -0.0244,  0.0805,  0.0443, -0.0338,  0.0452,\n",
            "        -0.0218, -0.0402,  0.0406,  0.0374,  0.0117, -0.0069, -0.0761,  0.0695,\n",
            "         0.0681,  0.0323,  0.0033,  0.0748, -0.0324, -0.0461, -0.0712,  0.0186,\n",
            "         0.0179, -0.0086,  0.0678, -0.0709, -0.0668, -0.0243,  0.0133, -0.0984,\n",
            "         0.0329, -0.0847, -0.0845,  0.0922, -0.0042,  0.0461,  0.0473, -0.0629],\n",
            "       requires_grad=True)\n",
            "Parameter containing:\n",
            "tensor([[-2.7997e-02, -5.8939e-02,  3.0187e-02,  ...,  2.9844e-02,\n",
            "         -6.1632e-02, -5.6367e-03],\n",
            "        [-1.4200e-02, -5.3154e-02, -5.1504e-02,  ...,  1.8363e-02,\n",
            "         -1.4965e-03, -1.2850e-02],\n",
            "        [-1.9805e-02,  4.5923e-05,  2.5509e-02,  ..., -4.9396e-02,\n",
            "          5.0828e-02, -6.9351e-02],\n",
            "        ...,\n",
            "        [-4.1251e-02,  9.3908e-03, -4.7143e-02,  ...,  1.3301e-02,\n",
            "          5.2118e-02,  5.2651e-02],\n",
            "        [-3.7309e-02, -5.6349e-02,  2.3961e-02,  ...,  5.5399e-02,\n",
            "         -1.0906e-02, -1.3615e-02],\n",
            "        [-4.0502e-02,  4.3991e-02,  4.4648e-02,  ..., -2.4927e-02,\n",
            "         -6.3500e-02, -8.9471e-03]], requires_grad=True)\n",
            "Parameter containing:\n",
            "tensor([-0.0136,  0.0499,  0.0087, -0.0430, -0.0698,  0.0111,  0.0364, -0.0071,\n",
            "        -0.0419,  0.0202], requires_grad=True)\n",
            "\n",
            "\n",
            "Layer params:\n",
            "Parameter containing:\n",
            "tensor([[-2.7997e-02, -5.8939e-02,  3.0187e-02,  ...,  2.9844e-02,\n",
            "         -6.1632e-02, -5.6367e-03],\n",
            "        [-1.4200e-02, -5.3154e-02, -5.1504e-02,  ...,  1.8363e-02,\n",
            "         -1.4965e-03, -1.2850e-02],\n",
            "        [-1.9805e-02,  4.5923e-05,  2.5509e-02,  ..., -4.9396e-02,\n",
            "          5.0828e-02, -6.9351e-02],\n",
            "        ...,\n",
            "        [-4.1251e-02,  9.3908e-03, -4.7143e-02,  ...,  1.3301e-02,\n",
            "          5.2118e-02,  5.2651e-02],\n",
            "        [-3.7309e-02, -5.6349e-02,  2.3961e-02,  ...,  5.5399e-02,\n",
            "         -1.0906e-02, -1.3615e-02],\n",
            "        [-4.0502e-02,  4.3991e-02,  4.4648e-02,  ..., -2.4927e-02,\n",
            "         -6.3500e-02, -8.9471e-03]], requires_grad=True)\n",
            "Parameter containing:\n",
            "tensor([-0.0136,  0.0499,  0.0087, -0.0430, -0.0698,  0.0111,  0.0364, -0.0071,\n",
            "        -0.0419,  0.0202], requires_grad=True)\n"
          ]
        }
      ],
      "source": [
        "import torch\n",
        "\n",
        "class TinyModel(torch.nn.Module):\n",
        "\n",
        "    def __init__(self):\n",
        "        super(TinyModel, self).__init__()\n",
        "\n",
        "        self.linear1 = torch.nn.Linear(100, 200)\n",
        "        self.activation = torch.nn.ReLU()\n",
        "        self.linear2 = torch.nn.Linear(200, 10)\n",
        "        self.softmax = torch.nn.Softmax()\n",
        "\n",
        "    def forward(self, x):\n",
        "        x = self.linear1(x)\n",
        "        x = self.activation(x)\n",
        "        x = self.linear2(x)\n",
        "        x = self.softmax(x)\n",
        "        return x\n",
        "\n",
        "tinymodel = TinyModel()\n",
        "\n",
        "print('The model:')\n",
        "print(tinymodel)\n",
        "\n",
        "print('\\n\\nJust one layer:')\n",
        "print(tinymodel.linear2)\n",
        "\n",
        "print('\\n\\nModel params:')\n",
        "for param in tinymodel.parameters():\n",
        "    print(param)\n",
        "\n",
        "print('\\n\\nLayer params:')\n",
        "for param in tinymodel.linear2.parameters():\n",
        "    print(param)"
      ]
    },
    {
      "cell_type": "markdown",
      "metadata": {
        "id": "93W4MTq4uiUY"
      },
      "source": [
        "This shows the fundamental structure of a PyTorch model: there is an\n",
        "``__init__()`` method that defines the layers and other components of a\n",
        "model, and a ``forward()`` method where the computation gets done. Note\n",
        "that we can print the model, or any of its submodules, to learn about\n",
        "its structure.\n",
        "\n",
        "## Common Layer Types\n",
        "\n",
        "### Linear Layers\n",
        "\n",
        "The most basic type of neural network layer is a *linear* or *fully\n",
        "connected* layer. This is a layer where every input influences every\n",
        "output of the layer to a degree specified by the layer’s weights. If a\n",
        "model has *m* inputs and *n* outputs, the weights will be an *m* x *n*\n",
        "matrix. For example:\n",
        "\n",
        "\n"
      ]
    },
    {
      "cell_type": "code",
      "execution_count": 3,
      "metadata": {
        "id": "aVLp3IgquiUY",
        "outputId": "bf081191-41e3-4deb-9184-8b7cb0e9b4d5",
        "colab": {
          "base_uri": "https://localhost:8080/"
        }
      },
      "outputs": [
        {
          "output_type": "stream",
          "name": "stdout",
          "text": [
            "Input:\n",
            "tensor([[0.1801, 0.1372, 0.4614]])\n",
            "\n",
            "\n",
            "Weight and Bias parameters:\n",
            "Parameter containing:\n",
            "tensor([[ 0.0990, -0.0259,  0.5174],\n",
            "        [ 0.0128,  0.1489,  0.5769]], requires_grad=True)\n",
            "Parameter containing:\n",
            "tensor([0.3978, 0.2533], requires_grad=True)\n",
            "\n",
            "\n",
            "Output:\n",
            "tensor([[0.6508, 0.5422]], grad_fn=<AddmmBackward0>)\n"
          ]
        }
      ],
      "source": [
        "lin = torch.nn.Linear(3, 2)\n",
        "x = torch.rand(1, 3)\n",
        "print('Input:')\n",
        "print(x)\n",
        "\n",
        "print('\\n\\nWeight and Bias parameters:')\n",
        "for param in lin.parameters():\n",
        "    print(param)\n",
        "\n",
        "y = lin(x)\n",
        "print('\\n\\nOutput:')\n",
        "print(y)"
      ]
    },
    {
      "cell_type": "markdown",
      "metadata": {
        "id": "9UPFOpIAuiUY"
      },
      "source": [
        "If you do the matrix multiplication of ``x`` by the linear layer’s\n",
        "weights, and add the biases, you’ll find that you get the output vector\n",
        "``y``.\n",
        "\n",
        "One other important feature to note: When we checked the weights of our\n",
        "layer with ``lin.weight``, it reported itself as a ``Parameter`` (which\n",
        "is a subclass of ``Tensor``), and let us know that it’s tracking\n",
        "gradients with autograd. This is a default behavior for ``Parameter``\n",
        "that differs from ``Tensor``.\n",
        "\n",
        "Linear layers are used widely in deep learning models. One of the most\n",
        "common places you’ll see them is in classifier models, which will\n",
        "usually have one or more linear layers at the end, where the last layer\n",
        "will have *n* outputs, where *n* is the number of classes the classifier\n",
        "addresses.\n",
        "\n",
        "### Convolutional Layers\n",
        "\n",
        "*Convolutional* layers are built to handle data with a high degree of\n",
        "spatial correlation. They are very commonly used in computer vision,\n",
        "where they detect close groupings of features which the compose into\n",
        "higher-level features. They pop up in other contexts too - for example,\n",
        "in NLP applications, where a word’s immediate context (that is, the\n",
        "other words nearby in the sequence) can affect the meaning of a\n",
        "sentence.\n",
        "\n",
        "We saw convolutional layers in action in LeNet5 in an earlier video:\n",
        "\n",
        "\n"
      ]
    },
    {
      "cell_type": "code",
      "execution_count": 4,
      "metadata": {
        "id": "eUyeBGehuiUZ"
      },
      "outputs": [],
      "source": [
        "import torch.functional as F\n",
        "\n",
        "\n",
        "class LeNet(torch.nn.Module):\n",
        "\n",
        "    def __init__(self):\n",
        "        super(LeNet, self).__init__()\n",
        "        # 1 input image channel (black & white), 6 output channels, 5x5 square convolution\n",
        "        # kernel\n",
        "        self.conv1 = torch.nn.Conv2d(1, 6, 5)\n",
        "        self.conv2 = torch.nn.Conv2d(6, 16, 3)\n",
        "        # an affine operation: y = Wx + b\n",
        "        self.fc1 = torch.nn.Linear(16 * 6 * 6, 120)  # 6*6 from image dimension\n",
        "        self.fc2 = torch.nn.Linear(120, 84)\n",
        "        self.fc3 = torch.nn.Linear(84, 10)\n",
        "\n",
        "    def forward(self, x):\n",
        "        # Max pooling over a (2, 2) window\n",
        "        x = F.max_pool2d(F.relu(self.conv1(x)), (2, 2))\n",
        "        # If the size is a square you can only specify a single number\n",
        "        x = F.max_pool2d(F.relu(self.conv2(x)), 2)\n",
        "        x = x.view(-1, self.num_flat_features(x))\n",
        "        x = F.relu(self.fc1(x))\n",
        "        x = F.relu(self.fc2(x))\n",
        "        x = self.fc3(x)\n",
        "        return x\n",
        "\n",
        "    def num_flat_features(self, x):\n",
        "        size = x.size()[1:]  # all dimensions except the batch dimension\n",
        "        num_features = 1\n",
        "        for s in size:\n",
        "            num_features *= s\n",
        "        return num_features"
      ]
    },
    {
      "cell_type": "markdown",
      "metadata": {
        "id": "yWR2ikCxuiUZ"
      },
      "source": [
        "Let’s break down what’s happening in the convolutional layers of this\n",
        "model. Starting with ``conv1``:\n",
        "\n",
        "-  LeNet5 is meant to take in a 1x32x32 black & white image. **The first\n",
        "   argument to a convolutional layer’s constructor is the number of\n",
        "   input channels.** Here, it is 1. If we were building this model to\n",
        "   look at 3-color channels, it would be 3.\n",
        "-  A convolutional layer is like a window that scans over the image,\n",
        "   looking for a pattern it recognizes. These patterns are called\n",
        "   *features,* and one of the parameters of a convolutional layer is the\n",
        "   number of features we would like it to learn. **This is the second\n",
        "   argument to the constructor is the number of output features.** Here,\n",
        "   we’re asking our layer to learn 6 features.\n",
        "-  Just above, I likened the convolutional layer to a window - but how\n",
        "   big is the window? **The third argument is the window or kernel\n",
        "   size.** Here, the “5” means we’ve chosen a 5x5 kernel. (If you want a\n",
        "   kernel with height different from width, you can specify a tuple for\n",
        "   this argument - e.g., ``(3, 5)`` to get a 3x5 convolution kernel.)\n",
        "\n",
        "The output of a convolutional layer is an *activation map* - a spatial\n",
        "representation of the presence of features in the input tensor.\n",
        "``conv1`` will give us an output tensor of 6x28x28; 6 is the number of\n",
        "features, and 28 is the height and width of our map. (The 28 comes from\n",
        "the fact that when scanning a 5-pixel window over a 32-pixel row, there\n",
        "are only 28 valid positions.)\n",
        "\n",
        "We then pass the output of the convolution through a ReLU activation\n",
        "function (more on activation functions later), then through a max\n",
        "pooling layer. The max pooling layer takes features near each other in\n",
        "the activation map and groups them together. It does this by reducing\n",
        "the tensor, merging every 2x2 group of cells in the output into a single\n",
        "cell, and assigning that cell the maximum value of the 4 cells that went\n",
        "into it. This gives us a lower-resolution version of the activation map,\n",
        "with dimensions 6x14x14.\n",
        "\n",
        "Our next convolutional layer, ``conv2``, expects 6 input channels\n",
        "(corresponding to the 6 features sought by the first layer), has 16\n",
        "output channels, and a 3x3 kernel. It puts out a 16x12x12 activation\n",
        "map, which is again reduced by a max pooling layer to 16x6x6. Prior to\n",
        "passing this output to the linear layers, it is reshaped to a 16 \\* 6 \\*\n",
        "6 = 576-element vector for consumption by the next layer.\n",
        "\n",
        "There are convolutional layers for addressing 1D, 2D, and 3D tensors.\n",
        "There are also many more optional arguments for a conv layer\n",
        "constructor, including stride length(e.g., only scanning every second or\n",
        "every third position) in the input, padding (so you can scan out to the\n",
        "edges of the input), and more. See the\n",
        "[documentation](https://pytorch.org/docs/stable/nn.html#convolution-layers)_\n",
        "for more information.\n",
        "\n",
        "### Recurrent Layers\n",
        "\n",
        "*Recurrent neural networks* (or *RNNs)* are used for sequential data -\n",
        "anything from time-series measurements from a scientific instrument to\n",
        "natural language sentences to DNA nucleotides. An RNN does this by\n",
        "maintaining a *hidden state* that acts as a sort of memory for what it\n",
        "has seen in the sequence so far.\n",
        "\n",
        "The internal structure of an RNN layer - or its variants, the LSTM (long\n",
        "short-term memory) and GRU (gated recurrent unit) - is moderately\n",
        "complex and beyond the scope of this video, but we’ll show you what one\n",
        "looks like in action with an LSTM-based part-of-speech tagger (a type of\n",
        "classifier that tells you if a word is a noun, verb, etc.):\n",
        "\n",
        "\n"
      ]
    },
    {
      "cell_type": "code",
      "execution_count": 5,
      "metadata": {
        "id": "LmRtVxGMuiUa"
      },
      "outputs": [],
      "source": [
        "class LSTMTagger(torch.nn.Module):\n",
        "\n",
        "    def __init__(self, embedding_dim, hidden_dim, vocab_size, tagset_size):\n",
        "        super(LSTMTagger, self).__init__()\n",
        "        self.hidden_dim = hidden_dim\n",
        "\n",
        "        self.word_embeddings = torch.nn.Embedding(vocab_size, embedding_dim)\n",
        "\n",
        "        # The LSTM takes word embeddings as inputs, and outputs hidden states\n",
        "        # with dimensionality hidden_dim.\n",
        "        self.lstm = torch.nn.LSTM(embedding_dim, hidden_dim)\n",
        "\n",
        "        # The linear layer that maps from hidden state space to tag space\n",
        "        self.hidden2tag = torch.nn.Linear(hidden_dim, tagset_size)\n",
        "\n",
        "    def forward(self, sentence):\n",
        "        embeds = self.word_embeddings(sentence)\n",
        "        lstm_out, _ = self.lstm(embeds.view(len(sentence), 1, -1))\n",
        "        tag_space = self.hidden2tag(lstm_out.view(len(sentence), -1))\n",
        "        tag_scores = F.log_softmax(tag_space, dim=1)\n",
        "        return tag_scores"
      ]
    },
    {
      "cell_type": "markdown",
      "metadata": {
        "id": "1XW4g5bHuiUa"
      },
      "source": [
        "The constructor has four arguments:\n",
        "\n",
        "-  ``vocab_size`` is the number of words in the input vocabulary. Each\n",
        "   word is a one-hot vector (or unit vector) in a\n",
        "   ``vocab_size``-dimensional space.\n",
        "-  ``tagset_size`` is the number of tags in the output set.\n",
        "-  ``embedding_dim`` is the size of the *embedding* space for the\n",
        "   vocabulary. An embedding maps a vocabulary onto a low-dimensional\n",
        "   space, where words with similar meanings are close together in the\n",
        "   space.\n",
        "-  ``hidden_dim`` is the size of the LSTM’s memory.\n",
        "\n",
        "The input will be a sentence with the words represented as indices of\n",
        "one-hot vectors. The embedding layer will then map these down to an\n",
        "``embedding_dim``-dimensional space. The LSTM takes this sequence of\n",
        "embeddings and iterates over it, fielding an output vector of length\n",
        "``hidden_dim``. The final linear layer acts as a classifier; applying\n",
        "``log_softmax()`` to the output of the final layer converts the output\n",
        "into a normalized set of estimated probabilities that a given word maps\n",
        "to a given tag.\n",
        "\n",
        "If you’d like to see this network in action, check out the [Sequence\n",
        "Models and LSTM\n",
        "Networks](https://pytorch.org/tutorials/beginner/nlp/sequence_models_tutorial.html)_\n",
        "tutorial on pytorch.org.\n",
        "\n",
        "### Transformers\n",
        "\n",
        "*Transformers* are multi-purpose networks that have taken over the state\n",
        "of the art in NLP with models like BERT. A discussion of transformer\n",
        "architecture is beyond the scope of this video, but PyTorch has a\n",
        "``Transformer`` class that allows you to define the overall parameters\n",
        "of a transformer model - the number of attention heads, the number of\n",
        "encoder & decoder layers, dropout and activation functions, etc. (You\n",
        "can even build the BERT model from this single class, with the right\n",
        "parameters!) The ``torch.nn.Transformer`` class also has classes to\n",
        "encapsulate the individual components (``TransformerEncoder``,\n",
        "``TransformerDecoder``) and subcomponents (``TransformerEncoderLayer``,\n",
        "``TransformerDecoderLayer``). For details, check out the\n",
        "[documentation](https://pytorch.org/docs/stable/nn.html#transformer-layers)_\n",
        "on transformer classes, and the relevant\n",
        "[tutorial](https://pytorch.org/tutorials/beginner/transformer_tutorial.html)_\n",
        "on pytorch.org.\n",
        "\n",
        "## Other Layers and Functions\n",
        "\n",
        "### Data Manipulation Layers\n",
        "\n",
        "There are other layer types that perform important functions in models,\n",
        "but don’t participate in the learning process themselves.\n",
        "\n",
        "**Max pooling** (and its twin, min pooling) reduce a tensor by combining\n",
        "cells, and assigning the maximum value of the input cells to the output\n",
        "cell (we saw this). For example:\n",
        "\n",
        "\n"
      ]
    },
    {
      "cell_type": "code",
      "execution_count": 6,
      "metadata": {
        "id": "VpdU1OIuuiUa",
        "outputId": "07143e9d-db56-4bc8-eea6-76d5eb6430ee",
        "colab": {
          "base_uri": "https://localhost:8080/"
        }
      },
      "outputs": [
        {
          "output_type": "stream",
          "name": "stdout",
          "text": [
            "tensor([[[0.4319, 0.4421, 0.8498, 0.9803, 0.7168, 0.1743],\n",
            "         [0.6326, 0.8691, 0.9140, 0.8231, 0.4281, 0.6231],\n",
            "         [0.8326, 0.6068, 0.0787, 0.5069, 0.4924, 0.1021],\n",
            "         [0.5020, 0.0254, 0.9557, 0.4059, 0.8555, 0.3370],\n",
            "         [0.6576, 0.7303, 0.1716, 0.0155, 0.7288, 0.8632],\n",
            "         [0.4340, 0.0524, 0.1932, 0.7383, 0.3802, 0.2193]]])\n",
            "tensor([[[0.9140, 0.9803],\n",
            "         [0.9557, 0.8632]]])\n"
          ]
        }
      ],
      "source": [
        "my_tensor = torch.rand(1, 6, 6)\n",
        "print(my_tensor)\n",
        "\n",
        "maxpool_layer = torch.nn.MaxPool2d(3)\n",
        "print(maxpool_layer(my_tensor))"
      ]
    },
    {
      "cell_type": "markdown",
      "metadata": {
        "id": "jjAEzrMpuiUb"
      },
      "source": [
        "If you look closely at the values above, you’ll see that each of the\n",
        "values in the maxpooled output is the maximum value of each quadrant of\n",
        "the 6x6 input.\n",
        "\n",
        "**Normalization layers** re-center and normalize the output of one layer\n",
        "before feeding it to another. Centering the and scaling the intermediate\n",
        "tensors has a number of beneficial effects, such as letting you use\n",
        "higher learning rates without exploding/vanishing gradients.\n",
        "\n",
        "\n"
      ]
    },
    {
      "cell_type": "code",
      "execution_count": 7,
      "metadata": {
        "id": "62H4ETxVuiUb",
        "outputId": "fb24abc1-0222-4740-a7ab-fb1242394010",
        "colab": {
          "base_uri": "https://localhost:8080/"
        }
      },
      "outputs": [
        {
          "output_type": "stream",
          "name": "stdout",
          "text": [
            "tensor([[[23.8282,  9.0417, 12.4996, 22.5867],\n",
            "         [17.4696, 12.1518, 11.6366, 17.0557],\n",
            "         [17.4677, 22.0206, 15.6499, 21.2125],\n",
            "         [ 5.9412, 11.5622, 12.4427, 16.3274]]])\n",
            "tensor(15.5559)\n",
            "tensor([[[ 1.0766, -1.2510, -0.7067,  0.8812],\n",
            "         [ 1.0730, -0.9006, -1.0918,  0.9194],\n",
            "         [-0.6172,  1.1174, -1.3097,  0.8095],\n",
            "         [-1.5165, -0.0017,  0.2356,  1.2825]]],\n",
            "       grad_fn=<NativeBatchNormBackward0>)\n",
            "tensor(4.4703e-08, grad_fn=<MeanBackward0>)\n"
          ]
        }
      ],
      "source": [
        "my_tensor = torch.rand(1, 4, 4) * 20 + 5\n",
        "print(my_tensor)\n",
        "\n",
        "print(my_tensor.mean())\n",
        "\n",
        "norm_layer = torch.nn.BatchNorm1d(4)\n",
        "normed_tensor = norm_layer(my_tensor)\n",
        "print(normed_tensor)\n",
        "\n",
        "print(normed_tensor.mean())"
      ]
    },
    {
      "cell_type": "markdown",
      "metadata": {
        "id": "Po00L58WuiUb"
      },
      "source": [
        "Running the cell above, we’ve added a large scaling factor and offset to\n",
        "an input tensor; you should see the input tensor’s ``mean()`` somewhere\n",
        "in the neighborhood of 15. After running it through the normalization\n",
        "layer, you can see that the values are smaller, and grouped around zero\n",
        "- in fact, the mean should be very small (> 1e-8).\n",
        "\n",
        "This is beneficial because many activation functions (discussed below)\n",
        "have their strongest gradients near 0, but sometimes suffer from\n",
        "vanishing or exploding gradients for inputs that drive them far away\n",
        "from zero. Keeping the data centered around the area of steepest\n",
        "gradient will tend to mean faster, better learning and higher feasible\n",
        "learning rates.\n",
        "\n",
        "**Dropout layers** are a tool for encouraging *sparse representations*\n",
        "in your model - that is, pushing it to do inference with less data.\n",
        "\n",
        "Dropout layers work by randomly setting parts of the input tensor\n",
        "*during training* - dropout layers are always turned off for inference.\n",
        "This forces the model to learn against this masked or reduced dataset.\n",
        "For example:\n",
        "\n",
        "\n"
      ]
    },
    {
      "cell_type": "code",
      "execution_count": 8,
      "metadata": {
        "id": "74YoDFg8uiUb",
        "outputId": "3100bb22-a90c-4afb-eda1-e700e4f1bdcf",
        "colab": {
          "base_uri": "https://localhost:8080/"
        }
      },
      "outputs": [
        {
          "output_type": "stream",
          "name": "stdout",
          "text": [
            "tensor([[[0.0000, 0.0000, 0.4198, 1.6568],\n",
            "         [0.9167, 1.5196, 0.9256, 0.0000],\n",
            "         [0.0000, 0.6865, 1.5653, 0.5021],\n",
            "         [1.4157, 1.2727, 0.0777, 0.4535]]])\n",
            "tensor([[[0.3689, 0.8004, 0.0000, 0.0000],\n",
            "         [0.0000, 0.0000, 0.9256, 0.3897],\n",
            "         [1.1324, 0.0000, 1.5653, 0.5021],\n",
            "         [0.0000, 1.2727, 0.0777, 0.4535]]])\n"
          ]
        }
      ],
      "source": [
        "my_tensor = torch.rand(1, 4, 4)\n",
        "\n",
        "dropout = torch.nn.Dropout(p=0.4)\n",
        "print(dropout(my_tensor))\n",
        "print(dropout(my_tensor))"
      ]
    },
    {
      "cell_type": "markdown",
      "metadata": {
        "id": "-zaQoAOMuiUb"
      },
      "source": [
        "Above, you can see the effect of dropout on a sample tensor. You can use\n",
        "the optional ``p`` argument to set the probability of an individual\n",
        "weight dropping out; if you don’t it defaults to 0.5.\n",
        "\n",
        "### Activation Functions\n",
        "\n",
        "Activation functions make deep learning possible. A neural network is\n",
        "really a program - with many parameters - that *simulates a mathematical\n",
        "function*. If all we did was multiple tensors by layer weights\n",
        "repeatedly, we could only simulate *linear functions;* further, there\n",
        "would be no point to having many layers, as the whole network would\n",
        "reduce could be reduced to a single matrix multiplication. Inserting\n",
        "*non-linear* activation functions between layers is what allows a deep\n",
        "learning model to simulate any function, rather than just linear ones.\n",
        "\n",
        "``torch.nn.Module`` has objects encapsulating all of the major\n",
        "activation functions including ReLU and its many variants, Tanh,\n",
        "Hardtanh, sigmoid, and more. It also includes other functions, such as\n",
        "Softmax, that are most useful at the output stage of a model.\n",
        "\n",
        "### Loss Functions\n",
        "\n",
        "Loss functions tell us how far a model’s prediction is from the correct\n",
        "answer. PyTorch contains a variety of loss functions, including common\n",
        "MSE (mean squared error = L2 norm), Cross Entropy Loss and Negative\n",
        "Likelihood Loss (useful for classifiers), and others.\n",
        "\n",
        "\n"
      ]
    }
  ],
  "metadata": {
    "kernelspec": {
      "display_name": "Python 3",
      "language": "python",
      "name": "python3"
    },
    "language_info": {
      "codemirror_mode": {
        "name": "ipython",
        "version": 3
      },
      "file_extension": ".py",
      "mimetype": "text/x-python",
      "name": "python",
      "nbconvert_exporter": "python",
      "pygments_lexer": "ipython3",
      "version": "3.10.13"
    },
    "colab": {
      "provenance": []
    }
  },
  "nbformat": 4,
  "nbformat_minor": 0
}