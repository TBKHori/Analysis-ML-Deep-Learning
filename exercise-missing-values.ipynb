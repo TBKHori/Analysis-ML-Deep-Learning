{
 "cells": [
  {
   "cell_type": "markdown",
   "id": "32b21109",
   "metadata": {
    "papermill": {
     "duration": 0.008341,
     "end_time": "2023-01-15T22:59:19.950662",
     "exception": false,
     "start_time": "2023-01-15T22:59:19.942321",
     "status": "completed"
    },
    "tags": []
   },
   "source": [
    "**This notebook is an exercise in the [Intermediate Machine Learning](https://www.kaggle.com/learn/intermediate-machine-learning) course.  You can reference the tutorial at [this link](https://www.kaggle.com/alexisbcook/missing-values).**\n",
    "\n",
    "---\n"
   ]
  },
  {
   "cell_type": "markdown",
   "id": "58de200a",
   "metadata": {
    "papermill": {
     "duration": 0.007029,
     "end_time": "2023-01-15T22:59:19.965177",
     "exception": false,
     "start_time": "2023-01-15T22:59:19.958148",
     "status": "completed"
    },
    "tags": []
   },
   "source": [
    "Now it's your turn to test your new knowledge of **missing values** handling. You'll probably find it makes a big difference.\n",
    "\n",
    "# Setup\n",
    "\n",
    "The questions will give you feedback on your work. Run the following cell to set up the feedback system."
   ]
  },
  {
   "cell_type": "code",
   "execution_count": 1,
   "id": "082e28d3",
   "metadata": {
    "execution": {
     "iopub.execute_input": "2023-01-15T22:59:19.981727Z",
     "iopub.status.busy": "2023-01-15T22:59:19.981097Z",
     "iopub.status.idle": "2023-01-15T22:59:20.022122Z",
     "shell.execute_reply": "2023-01-15T22:59:20.021149Z"
    },
    "papermill": {
     "duration": 0.051866,
     "end_time": "2023-01-15T22:59:20.024324",
     "exception": false,
     "start_time": "2023-01-15T22:59:19.972458",
     "status": "completed"
    },
    "tags": []
   },
   "outputs": [
    {
     "name": "stdout",
     "output_type": "stream",
     "text": [
      "Setup Complete\n"
     ]
    }
   ],
   "source": [
    "# Set up code checking\n",
    "import os\n",
    "if not os.path.exists(\"../input/train.csv\"):\n",
    "    os.symlink(\"../input/home-data-for-ml-course/train.csv\", \"../input/train.csv\")  \n",
    "    os.symlink(\"../input/home-data-for-ml-course/test.csv\", \"../input/test.csv\") \n",
    "from learntools.core import binder\n",
    "binder.bind(globals())\n",
    "from learntools.ml_intermediate.ex2 import *\n",
    "print(\"Setup Complete\")"
   ]
  },
  {
   "cell_type": "markdown",
   "id": "9779696a",
   "metadata": {
    "papermill": {
     "duration": 0.007202,
     "end_time": "2023-01-15T22:59:20.039352",
     "exception": false,
     "start_time": "2023-01-15T22:59:20.032150",
     "status": "completed"
    },
    "tags": []
   },
   "source": [
    "In this exercise, you will work with data from the [Housing Prices Competition for Kaggle Learn Users](https://www.kaggle.com/c/home-data-for-ml-course). \n",
    "\n",
    "![Ames Housing dataset image](https://i.imgur.com/lTJVG4e.png)\n",
    "\n",
    "Run the next code cell without changes to load the training and validation sets in `X_train`, `X_valid`, `y_train`, and `y_valid`.  The test set is loaded in `X_test`."
   ]
  },
  {
   "cell_type": "code",
   "execution_count": 2,
   "id": "97d6a04d",
   "metadata": {
    "execution": {
     "iopub.execute_input": "2023-01-15T22:59:20.057167Z",
     "iopub.status.busy": "2023-01-15T22:59:20.056269Z",
     "iopub.status.idle": "2023-01-15T22:59:20.955100Z",
     "shell.execute_reply": "2023-01-15T22:59:20.954422Z"
    },
    "papermill": {
     "duration": 0.909162,
     "end_time": "2023-01-15T22:59:20.957058",
     "exception": false,
     "start_time": "2023-01-15T22:59:20.047896",
     "status": "completed"
    },
    "tags": []
   },
   "outputs": [],
   "source": [
    "import pandas as pd\n",
    "from sklearn.model_selection import train_test_split\n",
    "\n",
    "# Read the data\n",
    "X_full = pd.read_csv('../input/train.csv', index_col='Id')\n",
    "X_test_full = pd.read_csv('../input/test.csv', index_col='Id')\n",
    "\n",
    "# Remove rows with missing target, separate target from predictors\n",
    "X_full.dropna(axis=0, subset=['SalePrice'], inplace=True)\n",
    "y = X_full.SalePrice\n",
    "X_full.drop(['SalePrice'], axis=1, inplace=True)\n",
    "\n",
    "# To keep things simple, we'll use only numerical predictors\n",
    "X = X_full.select_dtypes(exclude=['object'])\n",
    "X_test = X_test_full.select_dtypes(exclude=['object'])\n",
    "\n",
    "# Break off validation set from training data\n",
    "X_train, X_valid, y_train, y_valid = train_test_split(X, y, train_size=0.8, test_size=0.2,\n",
    "                                                      random_state=0)"
   ]
  },
  {
   "cell_type": "markdown",
   "id": "5962edb9",
   "metadata": {
    "papermill": {
     "duration": 0.007857,
     "end_time": "2023-01-15T22:59:20.972527",
     "exception": false,
     "start_time": "2023-01-15T22:59:20.964670",
     "status": "completed"
    },
    "tags": []
   },
   "source": [
    "Use the next code cell to print the first five rows of the data."
   ]
  },
  {
   "cell_type": "code",
   "execution_count": 3,
   "id": "91538842",
   "metadata": {
    "execution": {
     "iopub.execute_input": "2023-01-15T22:59:20.989607Z",
     "iopub.status.busy": "2023-01-15T22:59:20.989259Z",
     "iopub.status.idle": "2023-01-15T22:59:21.014542Z",
     "shell.execute_reply": "2023-01-15T22:59:21.013769Z"
    },
    "papermill": {
     "duration": 0.0358,
     "end_time": "2023-01-15T22:59:21.016248",
     "exception": false,
     "start_time": "2023-01-15T22:59:20.980448",
     "status": "completed"
    },
    "tags": []
   },
   "outputs": [
    {
     "data": {
      "text/html": [
       "<div>\n",
       "<style scoped>\n",
       "    .dataframe tbody tr th:only-of-type {\n",
       "        vertical-align: middle;\n",
       "    }\n",
       "\n",
       "    .dataframe tbody tr th {\n",
       "        vertical-align: top;\n",
       "    }\n",
       "\n",
       "    .dataframe thead th {\n",
       "        text-align: right;\n",
       "    }\n",
       "</style>\n",
       "<table border=\"1\" class=\"dataframe\">\n",
       "  <thead>\n",
       "    <tr style=\"text-align: right;\">\n",
       "      <th></th>\n",
       "      <th>MSSubClass</th>\n",
       "      <th>LotFrontage</th>\n",
       "      <th>LotArea</th>\n",
       "      <th>OverallQual</th>\n",
       "      <th>OverallCond</th>\n",
       "      <th>YearBuilt</th>\n",
       "      <th>YearRemodAdd</th>\n",
       "      <th>MasVnrArea</th>\n",
       "      <th>BsmtFinSF1</th>\n",
       "      <th>BsmtFinSF2</th>\n",
       "      <th>...</th>\n",
       "      <th>GarageArea</th>\n",
       "      <th>WoodDeckSF</th>\n",
       "      <th>OpenPorchSF</th>\n",
       "      <th>EnclosedPorch</th>\n",
       "      <th>3SsnPorch</th>\n",
       "      <th>ScreenPorch</th>\n",
       "      <th>PoolArea</th>\n",
       "      <th>MiscVal</th>\n",
       "      <th>MoSold</th>\n",
       "      <th>YrSold</th>\n",
       "    </tr>\n",
       "    <tr>\n",
       "      <th>Id</th>\n",
       "      <th></th>\n",
       "      <th></th>\n",
       "      <th></th>\n",
       "      <th></th>\n",
       "      <th></th>\n",
       "      <th></th>\n",
       "      <th></th>\n",
       "      <th></th>\n",
       "      <th></th>\n",
       "      <th></th>\n",
       "      <th></th>\n",
       "      <th></th>\n",
       "      <th></th>\n",
       "      <th></th>\n",
       "      <th></th>\n",
       "      <th></th>\n",
       "      <th></th>\n",
       "      <th></th>\n",
       "      <th></th>\n",
       "      <th></th>\n",
       "      <th></th>\n",
       "    </tr>\n",
       "  </thead>\n",
       "  <tbody>\n",
       "    <tr>\n",
       "      <th>619</th>\n",
       "      <td>20</td>\n",
       "      <td>90.0</td>\n",
       "      <td>11694</td>\n",
       "      <td>9</td>\n",
       "      <td>5</td>\n",
       "      <td>2007</td>\n",
       "      <td>2007</td>\n",
       "      <td>452.0</td>\n",
       "      <td>48</td>\n",
       "      <td>0</td>\n",
       "      <td>...</td>\n",
       "      <td>774</td>\n",
       "      <td>0</td>\n",
       "      <td>108</td>\n",
       "      <td>0</td>\n",
       "      <td>0</td>\n",
       "      <td>260</td>\n",
       "      <td>0</td>\n",
       "      <td>0</td>\n",
       "      <td>7</td>\n",
       "      <td>2007</td>\n",
       "    </tr>\n",
       "    <tr>\n",
       "      <th>871</th>\n",
       "      <td>20</td>\n",
       "      <td>60.0</td>\n",
       "      <td>6600</td>\n",
       "      <td>5</td>\n",
       "      <td>5</td>\n",
       "      <td>1962</td>\n",
       "      <td>1962</td>\n",
       "      <td>0.0</td>\n",
       "      <td>0</td>\n",
       "      <td>0</td>\n",
       "      <td>...</td>\n",
       "      <td>308</td>\n",
       "      <td>0</td>\n",
       "      <td>0</td>\n",
       "      <td>0</td>\n",
       "      <td>0</td>\n",
       "      <td>0</td>\n",
       "      <td>0</td>\n",
       "      <td>0</td>\n",
       "      <td>8</td>\n",
       "      <td>2009</td>\n",
       "    </tr>\n",
       "    <tr>\n",
       "      <th>93</th>\n",
       "      <td>30</td>\n",
       "      <td>80.0</td>\n",
       "      <td>13360</td>\n",
       "      <td>5</td>\n",
       "      <td>7</td>\n",
       "      <td>1921</td>\n",
       "      <td>2006</td>\n",
       "      <td>0.0</td>\n",
       "      <td>713</td>\n",
       "      <td>0</td>\n",
       "      <td>...</td>\n",
       "      <td>432</td>\n",
       "      <td>0</td>\n",
       "      <td>0</td>\n",
       "      <td>44</td>\n",
       "      <td>0</td>\n",
       "      <td>0</td>\n",
       "      <td>0</td>\n",
       "      <td>0</td>\n",
       "      <td>8</td>\n",
       "      <td>2009</td>\n",
       "    </tr>\n",
       "    <tr>\n",
       "      <th>818</th>\n",
       "      <td>20</td>\n",
       "      <td>NaN</td>\n",
       "      <td>13265</td>\n",
       "      <td>8</td>\n",
       "      <td>5</td>\n",
       "      <td>2002</td>\n",
       "      <td>2002</td>\n",
       "      <td>148.0</td>\n",
       "      <td>1218</td>\n",
       "      <td>0</td>\n",
       "      <td>...</td>\n",
       "      <td>857</td>\n",
       "      <td>150</td>\n",
       "      <td>59</td>\n",
       "      <td>0</td>\n",
       "      <td>0</td>\n",
       "      <td>0</td>\n",
       "      <td>0</td>\n",
       "      <td>0</td>\n",
       "      <td>7</td>\n",
       "      <td>2008</td>\n",
       "    </tr>\n",
       "    <tr>\n",
       "      <th>303</th>\n",
       "      <td>20</td>\n",
       "      <td>118.0</td>\n",
       "      <td>13704</td>\n",
       "      <td>7</td>\n",
       "      <td>5</td>\n",
       "      <td>2001</td>\n",
       "      <td>2002</td>\n",
       "      <td>150.0</td>\n",
       "      <td>0</td>\n",
       "      <td>0</td>\n",
       "      <td>...</td>\n",
       "      <td>843</td>\n",
       "      <td>468</td>\n",
       "      <td>81</td>\n",
       "      <td>0</td>\n",
       "      <td>0</td>\n",
       "      <td>0</td>\n",
       "      <td>0</td>\n",
       "      <td>0</td>\n",
       "      <td>1</td>\n",
       "      <td>2006</td>\n",
       "    </tr>\n",
       "  </tbody>\n",
       "</table>\n",
       "<p>5 rows × 36 columns</p>\n",
       "</div>"
      ],
      "text/plain": [
       "     MSSubClass  LotFrontage  LotArea  OverallQual  OverallCond  YearBuilt  \\\n",
       "Id                                                                           \n",
       "619          20         90.0    11694            9            5       2007   \n",
       "871          20         60.0     6600            5            5       1962   \n",
       "93           30         80.0    13360            5            7       1921   \n",
       "818          20          NaN    13265            8            5       2002   \n",
       "303          20        118.0    13704            7            5       2001   \n",
       "\n",
       "     YearRemodAdd  MasVnrArea  BsmtFinSF1  BsmtFinSF2  ...  GarageArea  \\\n",
       "Id                                                     ...               \n",
       "619          2007       452.0          48           0  ...         774   \n",
       "871          1962         0.0           0           0  ...         308   \n",
       "93           2006         0.0         713           0  ...         432   \n",
       "818          2002       148.0        1218           0  ...         857   \n",
       "303          2002       150.0           0           0  ...         843   \n",
       "\n",
       "     WoodDeckSF  OpenPorchSF  EnclosedPorch  3SsnPorch  ScreenPorch  PoolArea  \\\n",
       "Id                                                                              \n",
       "619           0          108              0          0          260         0   \n",
       "871           0            0              0          0            0         0   \n",
       "93            0            0             44          0            0         0   \n",
       "818         150           59              0          0            0         0   \n",
       "303         468           81              0          0            0         0   \n",
       "\n",
       "     MiscVal  MoSold  YrSold  \n",
       "Id                            \n",
       "619        0       7    2007  \n",
       "871        0       8    2009  \n",
       "93         0       8    2009  \n",
       "818        0       7    2008  \n",
       "303        0       1    2006  \n",
       "\n",
       "[5 rows x 36 columns]"
      ]
     },
     "execution_count": 3,
     "metadata": {},
     "output_type": "execute_result"
    }
   ],
   "source": [
    "X_train.head()"
   ]
  },
  {
   "cell_type": "markdown",
   "id": "9a08c919",
   "metadata": {
    "papermill": {
     "duration": 0.007599,
     "end_time": "2023-01-15T22:59:21.031688",
     "exception": false,
     "start_time": "2023-01-15T22:59:21.024089",
     "status": "completed"
    },
    "tags": []
   },
   "source": [
    "You can already see a few missing values in the first several rows.  In the next step, you'll obtain a more comprehensive understanding of the missing values in the dataset.\n",
    "\n",
    "# Step 1: Preliminary investigation\n",
    "\n",
    "Run the code cell below without changes."
   ]
  },
  {
   "cell_type": "code",
   "execution_count": 4,
   "id": "0c24b922",
   "metadata": {
    "execution": {
     "iopub.execute_input": "2023-01-15T22:59:21.049308Z",
     "iopub.status.busy": "2023-01-15T22:59:21.048783Z",
     "iopub.status.idle": "2023-01-15T22:59:21.055426Z",
     "shell.execute_reply": "2023-01-15T22:59:21.054479Z"
    },
    "papermill": {
     "duration": 0.017731,
     "end_time": "2023-01-15T22:59:21.057092",
     "exception": false,
     "start_time": "2023-01-15T22:59:21.039361",
     "status": "completed"
    },
    "tags": []
   },
   "outputs": [
    {
     "name": "stdout",
     "output_type": "stream",
     "text": [
      "(1168, 36)\n",
      "LotFrontage    212\n",
      "MasVnrArea       6\n",
      "GarageYrBlt     58\n",
      "dtype: int64\n"
     ]
    }
   ],
   "source": [
    "# Shape of training data (num_rows, num_columns)\n",
    "print(X_train.shape)\n",
    "\n",
    "# Number of missing values in each column of training data\n",
    "missing_val_count_by_column = (X_train.isnull().sum())\n",
    "print(missing_val_count_by_column[missing_val_count_by_column > 0])"
   ]
  },
  {
   "cell_type": "markdown",
   "id": "d2a2451f",
   "metadata": {
    "papermill": {
     "duration": 0.008023,
     "end_time": "2023-01-15T22:59:21.073133",
     "exception": false,
     "start_time": "2023-01-15T22:59:21.065110",
     "status": "completed"
    },
    "tags": []
   },
   "source": [
    "### Part A\n",
    "\n",
    "Use the above output to answer the questions below."
   ]
  },
  {
   "cell_type": "code",
   "execution_count": 5,
   "id": "e740001b",
   "metadata": {
    "execution": {
     "iopub.execute_input": "2023-01-15T22:59:21.090744Z",
     "iopub.status.busy": "2023-01-15T22:59:21.090470Z",
     "iopub.status.idle": "2023-01-15T22:59:21.097604Z",
     "shell.execute_reply": "2023-01-15T22:59:21.096843Z"
    },
    "papermill": {
     "duration": 0.017743,
     "end_time": "2023-01-15T22:59:21.099289",
     "exception": false,
     "start_time": "2023-01-15T22:59:21.081546",
     "status": "completed"
    },
    "tags": []
   },
   "outputs": [
    {
     "data": {
      "application/javascript": [
       "parent.postMessage({\"jupyterEvent\": \"custom.exercise_interaction\", \"data\": {\"outcomeType\": 1, \"valueTowardsCompletion\": 1.0, \"interactionType\": 1, \"questionType\": 1, \"questionId\": \"1.1_InvestigateEquality\", \"learnToolsVersion\": \"0.3.4\", \"failureMessage\": \"\", \"exceptionClass\": \"\", \"trace\": \"\"}}, \"*\")"
      ],
      "text/plain": [
       "<IPython.core.display.Javascript object>"
      ]
     },
     "metadata": {},
     "output_type": "display_data"
    },
    {
     "data": {
      "text/markdown": [
       "<span style=\"color:#33cc33\">Correct</span>"
      ],
      "text/plain": [
       "Correct"
      ]
     },
     "metadata": {},
     "output_type": "display_data"
    }
   ],
   "source": [
    "# Fill in the line below: How many rows are in the training data?\n",
    "num_rows = 1168\n",
    "\n",
    "# Fill in the line below: How many columns in the training data\n",
    "# have missing values?\n",
    "num_cols_with_missing = 3\n",
    "\n",
    "# Fill in the line below: How many missing entries are contained in \n",
    "# all of the training data?\n",
    "tot_missing = 212 + 6 + 58\n",
    "\n",
    "# Check your answers\n",
    "step_1.a.check()"
   ]
  },
  {
   "cell_type": "code",
   "execution_count": 6,
   "id": "43e4b0e5",
   "metadata": {
    "execution": {
     "iopub.execute_input": "2023-01-15T22:59:21.117226Z",
     "iopub.status.busy": "2023-01-15T22:59:21.116910Z",
     "iopub.status.idle": "2023-01-15T22:59:21.120435Z",
     "shell.execute_reply": "2023-01-15T22:59:21.119657Z"
    },
    "papermill": {
     "duration": 0.014328,
     "end_time": "2023-01-15T22:59:21.122138",
     "exception": false,
     "start_time": "2023-01-15T22:59:21.107810",
     "status": "completed"
    },
    "tags": []
   },
   "outputs": [],
   "source": [
    "# Lines below will give you a hint or solution code\n",
    "#step_1.a.hint()\n",
    "#step_1.a.solution()"
   ]
  },
  {
   "cell_type": "markdown",
   "id": "1930ec80",
   "metadata": {
    "papermill": {
     "duration": 0.007909,
     "end_time": "2023-01-15T22:59:21.138397",
     "exception": false,
     "start_time": "2023-01-15T22:59:21.130488",
     "status": "completed"
    },
    "tags": []
   },
   "source": [
    "### Part B\n",
    "Considering your answers above, what do you think is likely the best approach to dealing with the missing values?"
   ]
  },
  {
   "cell_type": "code",
   "execution_count": 7,
   "id": "2ea069d8",
   "metadata": {
    "execution": {
     "iopub.execute_input": "2023-01-15T22:59:21.155857Z",
     "iopub.status.busy": "2023-01-15T22:59:21.155611Z",
     "iopub.status.idle": "2023-01-15T22:59:21.162028Z",
     "shell.execute_reply": "2023-01-15T22:59:21.161267Z"
    },
    "papermill": {
     "duration": 0.017085,
     "end_time": "2023-01-15T22:59:21.163593",
     "exception": false,
     "start_time": "2023-01-15T22:59:21.146508",
     "status": "completed"
    },
    "tags": []
   },
   "outputs": [
    {
     "data": {
      "application/javascript": [
       "parent.postMessage({\"jupyterEvent\": \"custom.exercise_interaction\", \"data\": {\"outcomeType\": 1, \"valueTowardsCompletion\": 1.0, \"interactionType\": 1, \"questionType\": 4, \"questionId\": \"1.2_InvestigateThought\", \"learnToolsVersion\": \"0.3.4\", \"failureMessage\": \"\", \"exceptionClass\": \"\", \"trace\": \"\"}}, \"*\")"
      ],
      "text/plain": [
       "<IPython.core.display.Javascript object>"
      ]
     },
     "metadata": {},
     "output_type": "display_data"
    },
    {
     "data": {
      "text/markdown": [
       "<span style=\"color:#33cc33\">Correct:</span> \n",
       "\n",
       "Since there are relatively few missing entries in the data (the column with the greatest percentage of missing values is missing less than 20% of its entries), we can expect that dropping columns is unlikely to yield good results.  This is because we'd be throwing away a lot of valuable data, and so imputation will likely perform better."
      ],
      "text/plain": [
       "Correct: \n",
       "\n",
       "Since there are relatively few missing entries in the data (the column with the greatest percentage of missing values is missing less than 20% of its entries), we can expect that dropping columns is unlikely to yield good results.  This is because we'd be throwing away a lot of valuable data, and so imputation will likely perform better."
      ]
     },
     "metadata": {},
     "output_type": "display_data"
    }
   ],
   "source": [
    "# Check your answer (Run this code cell to receive credit!)\n",
    "step_1.b.check()"
   ]
  },
  {
   "cell_type": "code",
   "execution_count": 8,
   "id": "c34f9efc",
   "metadata": {
    "execution": {
     "iopub.execute_input": "2023-01-15T22:59:21.180968Z",
     "iopub.status.busy": "2023-01-15T22:59:21.180728Z",
     "iopub.status.idle": "2023-01-15T22:59:21.183722Z",
     "shell.execute_reply": "2023-01-15T22:59:21.183188Z"
    },
    "papermill": {
     "duration": 0.01315,
     "end_time": "2023-01-15T22:59:21.185163",
     "exception": false,
     "start_time": "2023-01-15T22:59:21.172013",
     "status": "completed"
    },
    "tags": []
   },
   "outputs": [],
   "source": [
    "#step_1.b.hint()"
   ]
  },
  {
   "cell_type": "markdown",
   "id": "ce6f0e75",
   "metadata": {
    "papermill": {
     "duration": 0.007823,
     "end_time": "2023-01-15T22:59:21.201040",
     "exception": false,
     "start_time": "2023-01-15T22:59:21.193217",
     "status": "completed"
    },
    "tags": []
   },
   "source": [
    "To compare different approaches to dealing with missing values, you'll use the same `score_dataset()` function from the tutorial.  This function reports the [mean absolute error](https://en.wikipedia.org/wiki/Mean_absolute_error) (MAE) from a random forest model."
   ]
  },
  {
   "cell_type": "code",
   "execution_count": 9,
   "id": "76cd8011",
   "metadata": {
    "execution": {
     "iopub.execute_input": "2023-01-15T22:59:21.218567Z",
     "iopub.status.busy": "2023-01-15T22:59:21.218218Z",
     "iopub.status.idle": "2023-01-15T22:59:21.378120Z",
     "shell.execute_reply": "2023-01-15T22:59:21.377200Z"
    },
    "papermill": {
     "duration": 0.171225,
     "end_time": "2023-01-15T22:59:21.380323",
     "exception": false,
     "start_time": "2023-01-15T22:59:21.209098",
     "status": "completed"
    },
    "tags": []
   },
   "outputs": [],
   "source": [
    "from sklearn.ensemble import RandomForestRegressor\n",
    "from sklearn.metrics import mean_absolute_error\n",
    "\n",
    "# Function for comparing different approaches\n",
    "def score_dataset(X_train, X_valid, y_train, y_valid):\n",
    "    model = RandomForestRegressor(n_estimators=100, random_state=0)\n",
    "    model.fit(X_train, y_train)\n",
    "    preds = model.predict(X_valid)\n",
    "    return mean_absolute_error(y_valid, preds)"
   ]
  },
  {
   "cell_type": "markdown",
   "id": "04fee2f2",
   "metadata": {
    "papermill": {
     "duration": 0.008122,
     "end_time": "2023-01-15T22:59:21.397059",
     "exception": false,
     "start_time": "2023-01-15T22:59:21.388937",
     "status": "completed"
    },
    "tags": []
   },
   "source": [
    "# Step 2: Drop columns with missing values\n",
    "\n",
    "In this step, you'll preprocess the data in `X_train` and `X_valid` to remove columns with missing values.  Set the preprocessed DataFrames to `reduced_X_train` and `reduced_X_valid`, respectively.  "
   ]
  },
  {
   "cell_type": "code",
   "execution_count": 10,
   "id": "21dc98fc",
   "metadata": {
    "execution": {
     "iopub.execute_input": "2023-01-15T22:59:21.415156Z",
     "iopub.status.busy": "2023-01-15T22:59:21.414806Z",
     "iopub.status.idle": "2023-01-15T22:59:21.442052Z",
     "shell.execute_reply": "2023-01-15T22:59:21.441239Z"
    },
    "papermill": {
     "duration": 0.03829,
     "end_time": "2023-01-15T22:59:21.443608",
     "exception": false,
     "start_time": "2023-01-15T22:59:21.405318",
     "status": "completed"
    },
    "tags": []
   },
   "outputs": [
    {
     "data": {
      "application/javascript": [
       "parent.postMessage({\"jupyterEvent\": \"custom.exercise_interaction\", \"data\": {\"outcomeType\": 1, \"valueTowardsCompletion\": 1.0, \"interactionType\": 1, \"questionType\": 2, \"questionId\": \"2_DropMissing\", \"learnToolsVersion\": \"0.3.4\", \"failureMessage\": \"\", \"exceptionClass\": \"\", \"trace\": \"\"}}, \"*\")"
      ],
      "text/plain": [
       "<IPython.core.display.Javascript object>"
      ]
     },
     "metadata": {},
     "output_type": "display_data"
    },
    {
     "data": {
      "text/markdown": [
       "<span style=\"color:#33cc33\">Correct</span>"
      ],
      "text/plain": [
       "Correct"
      ]
     },
     "metadata": {},
     "output_type": "display_data"
    }
   ],
   "source": [
    "# Fill in the line below: get names of columns with missing values\n",
    "cols_with_missing = [col for col in X_train.columns\n",
    "                     if X_train[col].isnull().any()] \n",
    "\n",
    "# Fill in the lines below: drop columns in training and validation data\n",
    "reduced_X_train = X_train.drop(cols_with_missing, axis=1)\n",
    "reduced_X_valid = X_valid.drop(cols_with_missing, axis=1)\n",
    "\n",
    "# Check your answers\n",
    "step_2.check()"
   ]
  },
  {
   "cell_type": "code",
   "execution_count": 11,
   "id": "de877558",
   "metadata": {
    "execution": {
     "iopub.execute_input": "2023-01-15T22:59:21.461660Z",
     "iopub.status.busy": "2023-01-15T22:59:21.461384Z",
     "iopub.status.idle": "2023-01-15T22:59:21.465321Z",
     "shell.execute_reply": "2023-01-15T22:59:21.464084Z"
    },
    "papermill": {
     "duration": 0.014815,
     "end_time": "2023-01-15T22:59:21.466985",
     "exception": false,
     "start_time": "2023-01-15T22:59:21.452170",
     "status": "completed"
    },
    "tags": []
   },
   "outputs": [],
   "source": [
    "# Lines below will give you a hint or solution code\n",
    "#step_2.hint()\n",
    "#step_2.solution()"
   ]
  },
  {
   "cell_type": "markdown",
   "id": "d2bf6181",
   "metadata": {
    "papermill": {
     "duration": 0.008616,
     "end_time": "2023-01-15T22:59:21.484263",
     "exception": false,
     "start_time": "2023-01-15T22:59:21.475647",
     "status": "completed"
    },
    "tags": []
   },
   "source": [
    "Run the next code cell without changes to obtain the MAE for this approach."
   ]
  },
  {
   "cell_type": "code",
   "execution_count": 12,
   "id": "0a30e3e2",
   "metadata": {
    "execution": {
     "iopub.execute_input": "2023-01-15T22:59:21.507887Z",
     "iopub.status.busy": "2023-01-15T22:59:21.507415Z",
     "iopub.status.idle": "2023-01-15T22:59:22.422771Z",
     "shell.execute_reply": "2023-01-15T22:59:22.421675Z"
    },
    "papermill": {
     "duration": 0.931146,
     "end_time": "2023-01-15T22:59:22.424430",
     "exception": false,
     "start_time": "2023-01-15T22:59:21.493284",
     "status": "completed"
    },
    "tags": []
   },
   "outputs": [
    {
     "name": "stdout",
     "output_type": "stream",
     "text": [
      "MAE (Drop columns with missing values):\n",
      "17837.82570776256\n"
     ]
    }
   ],
   "source": [
    "print(\"MAE (Drop columns with missing values):\")\n",
    "print(score_dataset(reduced_X_train, reduced_X_valid, y_train, y_valid))"
   ]
  },
  {
   "cell_type": "markdown",
   "id": "bf465f7c",
   "metadata": {
    "papermill": {
     "duration": 0.008302,
     "end_time": "2023-01-15T22:59:22.441632",
     "exception": false,
     "start_time": "2023-01-15T22:59:22.433330",
     "status": "completed"
    },
    "tags": []
   },
   "source": [
    "# Step 3: Imputation\n",
    "\n",
    "### Part A\n",
    "\n",
    "Use the next code cell to impute missing values with the mean value along each column.  Set the preprocessed DataFrames to `imputed_X_train` and `imputed_X_valid`.  Make sure that the column names match those in `X_train` and `X_valid`."
   ]
  },
  {
   "cell_type": "code",
   "execution_count": 13,
   "id": "173e4db8",
   "metadata": {
    "execution": {
     "iopub.execute_input": "2023-01-15T22:59:22.460147Z",
     "iopub.status.busy": "2023-01-15T22:59:22.459811Z",
     "iopub.status.idle": "2023-01-15T22:59:22.490432Z",
     "shell.execute_reply": "2023-01-15T22:59:22.489602Z"
    },
    "papermill": {
     "duration": 0.041925,
     "end_time": "2023-01-15T22:59:22.492199",
     "exception": false,
     "start_time": "2023-01-15T22:59:22.450274",
     "status": "completed"
    },
    "tags": []
   },
   "outputs": [
    {
     "data": {
      "application/javascript": [
       "parent.postMessage({\"jupyterEvent\": \"custom.exercise_interaction\", \"data\": {\"outcomeType\": 1, \"valueTowardsCompletion\": 1.0, \"interactionType\": 1, \"questionType\": 2, \"questionId\": \"3.1_ImputeCode\", \"learnToolsVersion\": \"0.3.4\", \"failureMessage\": \"\", \"exceptionClass\": \"\", \"trace\": \"\"}}, \"*\")"
      ],
      "text/plain": [
       "<IPython.core.display.Javascript object>"
      ]
     },
     "metadata": {},
     "output_type": "display_data"
    },
    {
     "data": {
      "text/markdown": [
       "<span style=\"color:#33cc33\">Correct</span>"
      ],
      "text/plain": [
       "Correct"
      ]
     },
     "metadata": {},
     "output_type": "display_data"
    }
   ],
   "source": [
    "from sklearn.impute import SimpleImputer\n",
    "\n",
    "# Fill in the lines below: imputation\n",
    "# Imputation\n",
    "my_imputer = SimpleImputer() # Your code here\n",
    "imputed_X_train = pd.DataFrame(my_imputer.fit_transform(X_train))\n",
    "imputed_X_valid = pd.DataFrame(my_imputer.transform(X_valid))\n",
    "\n",
    "# Fill in the lines below: imputation removed column names; put them back\n",
    "imputed_X_train.columns = X_train.columns\n",
    "imputed_X_valid.columns = X_valid.columns\n",
    "\n",
    "# Check your answers\n",
    "step_3.a.check()"
   ]
  },
  {
   "cell_type": "code",
   "execution_count": 14,
   "id": "e4cfa160",
   "metadata": {
    "execution": {
     "iopub.execute_input": "2023-01-15T22:59:22.513016Z",
     "iopub.status.busy": "2023-01-15T22:59:22.512059Z",
     "iopub.status.idle": "2023-01-15T22:59:22.515601Z",
     "shell.execute_reply": "2023-01-15T22:59:22.515010Z"
    },
    "papermill": {
     "duration": 0.015563,
     "end_time": "2023-01-15T22:59:22.517132",
     "exception": false,
     "start_time": "2023-01-15T22:59:22.501569",
     "status": "completed"
    },
    "tags": []
   },
   "outputs": [],
   "source": [
    "# Lines below will give you a hint or solution code\n",
    "#step_3.a.hint()\n",
    "#step_3.a.solution()"
   ]
  },
  {
   "cell_type": "markdown",
   "id": "afa73256",
   "metadata": {
    "papermill": {
     "duration": 0.008593,
     "end_time": "2023-01-15T22:59:22.534804",
     "exception": false,
     "start_time": "2023-01-15T22:59:22.526211",
     "status": "completed"
    },
    "tags": []
   },
   "source": [
    "Run the next code cell without changes to obtain the MAE for this approach."
   ]
  },
  {
   "cell_type": "code",
   "execution_count": 15,
   "id": "397fea7a",
   "metadata": {
    "execution": {
     "iopub.execute_input": "2023-01-15T22:59:22.554931Z",
     "iopub.status.busy": "2023-01-15T22:59:22.554020Z",
     "iopub.status.idle": "2023-01-15T22:59:23.531848Z",
     "shell.execute_reply": "2023-01-15T22:59:23.531004Z"
    },
    "papermill": {
     "duration": 0.989809,
     "end_time": "2023-01-15T22:59:23.533567",
     "exception": false,
     "start_time": "2023-01-15T22:59:22.543758",
     "status": "completed"
    },
    "tags": []
   },
   "outputs": [
    {
     "name": "stdout",
     "output_type": "stream",
     "text": [
      "MAE (Imputation):\n",
      "18062.894611872147\n"
     ]
    }
   ],
   "source": [
    "print(\"MAE (Imputation):\")\n",
    "print(score_dataset(imputed_X_train, imputed_X_valid, y_train, y_valid))"
   ]
  },
  {
   "cell_type": "markdown",
   "id": "1cf216f9",
   "metadata": {
    "papermill": {
     "duration": 0.011471,
     "end_time": "2023-01-15T22:59:23.558503",
     "exception": false,
     "start_time": "2023-01-15T22:59:23.547032",
     "status": "completed"
    },
    "tags": []
   },
   "source": [
    "### Part B\n",
    "\n",
    "Compare the MAE from each approach.  Does anything surprise you about the results?  Why do you think one approach performed better than the other?"
   ]
  },
  {
   "cell_type": "code",
   "execution_count": 16,
   "id": "1a3231e2",
   "metadata": {
    "execution": {
     "iopub.execute_input": "2023-01-15T22:59:23.584418Z",
     "iopub.status.busy": "2023-01-15T22:59:23.583710Z",
     "iopub.status.idle": "2023-01-15T22:59:23.591327Z",
     "shell.execute_reply": "2023-01-15T22:59:23.590455Z"
    },
    "papermill": {
     "duration": 0.024091,
     "end_time": "2023-01-15T22:59:23.593137",
     "exception": false,
     "start_time": "2023-01-15T22:59:23.569046",
     "status": "completed"
    },
    "tags": []
   },
   "outputs": [
    {
     "data": {
      "application/javascript": [
       "parent.postMessage({\"jupyterEvent\": \"custom.exercise_interaction\", \"data\": {\"outcomeType\": 1, \"valueTowardsCompletion\": 1.0, \"interactionType\": 1, \"questionType\": 4, \"questionId\": \"3.2_ImputeThought\", \"learnToolsVersion\": \"0.3.4\", \"failureMessage\": \"\", \"exceptionClass\": \"\", \"trace\": \"\"}}, \"*\")"
      ],
      "text/plain": [
       "<IPython.core.display.Javascript object>"
      ]
     },
     "metadata": {},
     "output_type": "display_data"
    },
    {
     "data": {
      "text/markdown": [
       "<span style=\"color:#33cc33\">Correct:</span> \n",
       "\n",
       "Given that thre are so few missing values in the dataset, we'd expect imputation to perform better than dropping columns entirely.  However, we see that dropping columns performs slightly better!  While this can probably partially be attributed to noise in the dataset, another potential explanation is that the imputation method is not a great match to this dataset.  That is, maybe instead of filling in the mean value, it makes more sense to set every missing value to a value of 0, to fill in the most frequently encountered value, or to use some other method.  For instance, consider the `GarageYrBlt` column (which indicates the year that the garage was built).  It's likely that in some cases, a missing value could indicate a house that does not have a garage.  Does it make more sense to fill in the median value along each column in this case?  Or could we get better results by filling in the minimum value along each column?  It's not quite clear what's best in this case, but perhaps we can rule out some options immediately - for instance, setting missing values in this column to 0 is likely to yield horrible results!"
      ],
      "text/plain": [
       "Correct: \n",
       "\n",
       "Given that thre are so few missing values in the dataset, we'd expect imputation to perform better than dropping columns entirely.  However, we see that dropping columns performs slightly better!  While this can probably partially be attributed to noise in the dataset, another potential explanation is that the imputation method is not a great match to this dataset.  That is, maybe instead of filling in the mean value, it makes more sense to set every missing value to a value of 0, to fill in the most frequently encountered value, or to use some other method.  For instance, consider the `GarageYrBlt` column (which indicates the year that the garage was built).  It's likely that in some cases, a missing value could indicate a house that does not have a garage.  Does it make more sense to fill in the median value along each column in this case?  Or could we get better results by filling in the minimum value along each column?  It's not quite clear what's best in this case, but perhaps we can rule out some options immediately - for instance, setting missing values in this column to 0 is likely to yield horrible results!"
      ]
     },
     "metadata": {},
     "output_type": "display_data"
    }
   ],
   "source": [
    "# Check your answer (Run this code cell to receive credit!)\n",
    "step_3.b.check()"
   ]
  },
  {
   "cell_type": "code",
   "execution_count": 17,
   "id": "2c862bb1",
   "metadata": {
    "execution": {
     "iopub.execute_input": "2023-01-15T22:59:23.613150Z",
     "iopub.status.busy": "2023-01-15T22:59:23.612786Z",
     "iopub.status.idle": "2023-01-15T22:59:23.616570Z",
     "shell.execute_reply": "2023-01-15T22:59:23.615723Z"
    },
    "papermill": {
     "duration": 0.015815,
     "end_time": "2023-01-15T22:59:23.618257",
     "exception": false,
     "start_time": "2023-01-15T22:59:23.602442",
     "status": "completed"
    },
    "tags": []
   },
   "outputs": [],
   "source": [
    "#step_3.b.hint()"
   ]
  },
  {
   "cell_type": "markdown",
   "id": "ede42ec9",
   "metadata": {
    "papermill": {
     "duration": 0.008847,
     "end_time": "2023-01-15T22:59:23.637917",
     "exception": false,
     "start_time": "2023-01-15T22:59:23.629070",
     "status": "completed"
    },
    "tags": []
   },
   "source": [
    "# Step 4: Generate test predictions\n",
    "\n",
    "In this final step, you'll use any approach of your choosing to deal with missing values.  Once you've preprocessed the training and validation features, you'll train and evaluate a random forest model.  Then, you'll preprocess the test data before generating predictions that can be submitted to the competition!\n",
    "\n",
    "### Part A\n",
    "\n",
    "Use the next code cell to preprocess the training and validation data.  Set the preprocessed DataFrames to `final_X_train` and `final_X_valid`.  **You can use any approach of your choosing here!**  in order for this step to be marked as correct, you need only ensure:\n",
    "- the preprocessed DataFrames have the same number of columns,\n",
    "- the preprocessed DataFrames have no missing values, \n",
    "- `final_X_train` and `y_train` have the same number of rows, and\n",
    "- `final_X_valid` and `y_valid` have the same number of rows."
   ]
  },
  {
   "cell_type": "code",
   "execution_count": 18,
   "id": "c5c09eaf",
   "metadata": {
    "execution": {
     "iopub.execute_input": "2023-01-15T22:59:23.657719Z",
     "iopub.status.busy": "2023-01-15T22:59:23.657368Z",
     "iopub.status.idle": "2023-01-15T22:59:23.671438Z",
     "shell.execute_reply": "2023-01-15T22:59:23.670501Z"
    },
    "papermill": {
     "duration": 0.026422,
     "end_time": "2023-01-15T22:59:23.673458",
     "exception": false,
     "start_time": "2023-01-15T22:59:23.647036",
     "status": "completed"
    },
    "tags": []
   },
   "outputs": [],
   "source": [
    "# Preprocessed training and validation features\n",
    "# Imputation\n",
    "final_imputer = SimpleImputer(strategy='median')\n",
    "final_X_train = pd.DataFrame(final_imputer.fit_transform(X_train))\n",
    "final_X_valid = pd.DataFrame(final_imputer.transform(X_valid))\n",
    "\n",
    "# Check your answers\n",
    "#step_4.a.check()"
   ]
  },
  {
   "cell_type": "code",
   "execution_count": 19,
   "id": "1b0bee08",
   "metadata": {
    "execution": {
     "iopub.execute_input": "2023-01-15T22:59:23.694122Z",
     "iopub.status.busy": "2023-01-15T22:59:23.693686Z",
     "iopub.status.idle": "2023-01-15T22:59:23.697933Z",
     "shell.execute_reply": "2023-01-15T22:59:23.697031Z"
    },
    "papermill": {
     "duration": 0.016842,
     "end_time": "2023-01-15T22:59:23.699727",
     "exception": false,
     "start_time": "2023-01-15T22:59:23.682885",
     "status": "completed"
    },
    "tags": []
   },
   "outputs": [],
   "source": [
    "# Lines below will give you a hint or solution code\n",
    "#step_4.a.hint()\n",
    "#step_4.a.solution()"
   ]
  },
  {
   "cell_type": "markdown",
   "id": "6450e16e",
   "metadata": {
    "papermill": {
     "duration": 0.008915,
     "end_time": "2023-01-15T22:59:23.718031",
     "exception": false,
     "start_time": "2023-01-15T22:59:23.709116",
     "status": "completed"
    },
    "tags": []
   },
   "source": [
    "Run the next code cell to train and evaluate a random forest model.  (*Note that we don't use the `score_dataset()` function above, because we will soon use the trained model to generate test predictions!*)"
   ]
  },
  {
   "cell_type": "code",
   "execution_count": 20,
   "id": "82441230",
   "metadata": {
    "execution": {
     "iopub.execute_input": "2023-01-15T22:59:23.737646Z",
     "iopub.status.busy": "2023-01-15T22:59:23.737307Z",
     "iopub.status.idle": "2023-01-15T22:59:24.728961Z",
     "shell.execute_reply": "2023-01-15T22:59:24.727825Z"
    },
    "papermill": {
     "duration": 1.003464,
     "end_time": "2023-01-15T22:59:24.730687",
     "exception": false,
     "start_time": "2023-01-15T22:59:23.727223",
     "status": "completed"
    },
    "tags": []
   },
   "outputs": [
    {
     "name": "stdout",
     "output_type": "stream",
     "text": [
      "MAE (Your approach):\n",
      "17791.59899543379\n"
     ]
    }
   ],
   "source": [
    "# Define and fit model\n",
    "model = RandomForestRegressor(n_estimators=100, random_state=0)\n",
    "model.fit(final_X_train, y_train)\n",
    "\n",
    "# Get validation predictions and MAE\n",
    "preds_valid = model.predict(final_X_valid)\n",
    "print(\"MAE (Your approach):\")\n",
    "print(mean_absolute_error(y_valid, preds_valid))"
   ]
  },
  {
   "cell_type": "markdown",
   "id": "66b9fe1b",
   "metadata": {
    "papermill": {
     "duration": 0.009025,
     "end_time": "2023-01-15T22:59:24.749202",
     "exception": false,
     "start_time": "2023-01-15T22:59:24.740177",
     "status": "completed"
    },
    "tags": []
   },
   "source": [
    "### Part B\n",
    "\n",
    "Use the next code cell to preprocess your test data.  Make sure that you use a method that agrees with how you preprocessed the training and validation data, and set the preprocessed test features to `final_X_test`.\n",
    "\n",
    "Then, use the preprocessed test features and the trained model to generate test predictions in `preds_test`.\n",
    "\n",
    "In order for this step to be marked correct, you need only ensure:\n",
    "- the preprocessed test DataFrame has no missing values, and\n",
    "- `final_X_test` has the same number of rows as `X_test`."
   ]
  },
  {
   "cell_type": "code",
   "execution_count": 21,
   "id": "a2af5c57",
   "metadata": {
    "execution": {
     "iopub.execute_input": "2023-01-15T22:59:24.768443Z",
     "iopub.status.busy": "2023-01-15T22:59:24.768136Z",
     "iopub.status.idle": "2023-01-15T22:59:24.811155Z",
     "shell.execute_reply": "2023-01-15T22:59:24.810146Z"
    },
    "papermill": {
     "duration": 0.054767,
     "end_time": "2023-01-15T22:59:24.812935",
     "exception": false,
     "start_time": "2023-01-15T22:59:24.758168",
     "status": "completed"
    },
    "tags": []
   },
   "outputs": [
    {
     "data": {
      "application/javascript": [
       "parent.postMessage({\"jupyterEvent\": \"custom.exercise_interaction\", \"data\": {\"outcomeType\": 1, \"valueTowardsCompletion\": 1.0, \"interactionType\": 1, \"questionType\": 2, \"questionId\": \"4.2_PredsCodeB\", \"learnToolsVersion\": \"0.3.4\", \"failureMessage\": \"\", \"exceptionClass\": \"\", \"trace\": \"\"}}, \"*\")"
      ],
      "text/plain": [
       "<IPython.core.display.Javascript object>"
      ]
     },
     "metadata": {},
     "output_type": "display_data"
    },
    {
     "data": {
      "text/markdown": [
       "<span style=\"color:#33cc33\">Correct</span>"
      ],
      "text/plain": [
       "Correct"
      ]
     },
     "metadata": {},
     "output_type": "display_data"
    }
   ],
   "source": [
    "# Fill in the line below: preprocess test data\n",
    "final_X_test = pd.DataFrame(final_imputer.transform(X_test))\n",
    "\n",
    "# Fill in the line below: get test predictions\n",
    "preds_test = model.predict(final_X_test)\n",
    "\n",
    "# Check your answers\n",
    "step_4.b.check()"
   ]
  },
  {
   "cell_type": "code",
   "execution_count": 22,
   "id": "03603524",
   "metadata": {
    "execution": {
     "iopub.execute_input": "2023-01-15T22:59:24.833544Z",
     "iopub.status.busy": "2023-01-15T22:59:24.832609Z",
     "iopub.status.idle": "2023-01-15T22:59:24.836842Z",
     "shell.execute_reply": "2023-01-15T22:59:24.836017Z"
    },
    "papermill": {
     "duration": 0.016081,
     "end_time": "2023-01-15T22:59:24.838610",
     "exception": false,
     "start_time": "2023-01-15T22:59:24.822529",
     "status": "completed"
    },
    "tags": []
   },
   "outputs": [],
   "source": [
    "# Lines below will give you a hint or solution code\n",
    "#step_4.b.hint()\n",
    "#step_4.b.solution()"
   ]
  },
  {
   "cell_type": "markdown",
   "id": "7c06e14a",
   "metadata": {
    "papermill": {
     "duration": 0.008955,
     "end_time": "2023-01-15T22:59:24.856698",
     "exception": false,
     "start_time": "2023-01-15T22:59:24.847743",
     "status": "completed"
    },
    "tags": []
   },
   "source": [
    "Run the next code cell without changes to save your results to a CSV file that can be submitted directly to the competition."
   ]
  },
  {
   "cell_type": "code",
   "execution_count": 23,
   "id": "aa58d4b7",
   "metadata": {
    "execution": {
     "iopub.execute_input": "2023-01-15T22:59:24.876015Z",
     "iopub.status.busy": "2023-01-15T22:59:24.875750Z",
     "iopub.status.idle": "2023-01-15T22:59:24.884724Z",
     "shell.execute_reply": "2023-01-15T22:59:24.884001Z"
    },
    "papermill": {
     "duration": 0.020526,
     "end_time": "2023-01-15T22:59:24.886412",
     "exception": false,
     "start_time": "2023-01-15T22:59:24.865886",
     "status": "completed"
    },
    "tags": []
   },
   "outputs": [],
   "source": [
    "# Save test predictions to file\n",
    "output = pd.DataFrame({'Id': X_test.index,\n",
    "                       'SalePrice': preds_test})\n",
    "output.to_csv('submission.csv', index=False)"
   ]
  },
  {
   "cell_type": "markdown",
   "id": "46d28c1f",
   "metadata": {
    "papermill": {
     "duration": 0.008879,
     "end_time": "2023-01-15T22:59:24.904536",
     "exception": false,
     "start_time": "2023-01-15T22:59:24.895657",
     "status": "completed"
    },
    "tags": []
   },
   "source": [
    "# Submit your results\n",
    "\n",
    "Once you have successfully completed Step 4, you're ready to submit your results to the leaderboard!  (_You also learned how to do this in the previous exercise.  If you need a reminder of how to do this, please use the instructions below._)  \n",
    "\n",
    "First, you'll need to join the competition if you haven't already.  So open a new window by clicking on [this link](https://www.kaggle.com/c/home-data-for-ml-course).  Then click on the **Join Competition** button.\n",
    "\n",
    "![join competition image](https://i.imgur.com/wLmFtH3.png)\n",
    "\n",
    "Next, follow the instructions below:\n",
    "1. Begin by clicking on the **Save Version** button in the top right corner of the window.  This will generate a pop-up window.  \n",
    "2. Ensure that the **Save and Run All** option is selected, and then click on the **Save** button.\n",
    "3. This generates a window in the bottom left corner of the notebook.  After it has finished running, click on the number to the right of the **Save Version** button.  This pulls up a list of versions on the right of the screen.  Click on the ellipsis **(...)** to the right of the most recent version, and select **Open in Viewer**.  This brings you into view mode of the same page. You will need to scroll down to get back to these instructions.\n",
    "4. Click on the **Output** tab on the right of the screen.  Then, click on the file you would like to submit, and click on the **Submit** button to submit your results to the leaderboard.\n",
    "\n",
    "You have now successfully submitted to the competition!\n",
    "\n",
    "If you want to keep working to improve your performance, select the **Edit** button in the top right of the screen. Then you can change your code and repeat the process. There's a lot of room to improve, and you will climb up the leaderboard as you work.\n",
    "\n",
    "\n",
    "# Keep going\n",
    "\n",
    "Move on to learn what **[categorical variables](https://www.kaggle.com/alexisbcook/categorical-variables)** are, along with how to incorporate them into your machine learning models.  Categorical variables are very common in real-world data, but you'll get an error if you try to plug them into your models without processing them first!"
   ]
  },
  {
   "cell_type": "markdown",
   "id": "ae3a9350",
   "metadata": {
    "papermill": {
     "duration": 0.008873,
     "end_time": "2023-01-15T22:59:24.922471",
     "exception": false,
     "start_time": "2023-01-15T22:59:24.913598",
     "status": "completed"
    },
    "tags": []
   },
   "source": [
    "---\n",
    "\n",
    "\n",
    "\n",
    "\n",
    "*Have questions or comments? Visit the [course discussion forum](https://www.kaggle.com/learn/intermediate-machine-learning/discussion) to chat with other learners.*"
   ]
  }
 ],
 "metadata": {
  "kernelspec": {
   "display_name": "Python 3",
   "language": "python",
   "name": "python3"
  },
  "language_info": {
   "codemirror_mode": {
    "name": "ipython",
    "version": 3
   },
   "file_extension": ".py",
   "mimetype": "text/x-python",
   "name": "python",
   "nbconvert_exporter": "python",
   "pygments_lexer": "ipython3",
   "version": "3.7.12"
  },
  "papermill": {
   "default_parameters": {},
   "duration": 13.352565,
   "end_time": "2023-01-15T22:59:25.551076",
   "environment_variables": {},
   "exception": null,
   "input_path": "__notebook__.ipynb",
   "output_path": "__notebook__.ipynb",
   "parameters": {},
   "start_time": "2023-01-15T22:59:12.198511",
   "version": "2.3.4"
  }
 },
 "nbformat": 4,
 "nbformat_minor": 5
}
