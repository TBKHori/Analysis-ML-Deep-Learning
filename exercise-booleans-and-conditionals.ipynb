{
 "cells": [
  {
   "cell_type": "markdown",
   "id": "e9dc71a1",
   "metadata": {
    "papermill": {
     "duration": 0.010378,
     "end_time": "2022-12-30T23:09:35.504182",
     "exception": false,
     "start_time": "2022-12-30T23:09:35.493804",
     "status": "completed"
    },
    "tags": []
   },
   "source": [
    "**This notebook is an exercise in the [Python](https://www.kaggle.com/learn/python) course.  You can reference the tutorial at [this link](https://www.kaggle.com/colinmorris/booleans-and-conditionals).**\n",
    "\n",
    "---\n"
   ]
  },
  {
   "cell_type": "markdown",
   "id": "661f9903",
   "metadata": {
    "papermill": {
     "duration": 0.008475,
     "end_time": "2022-12-30T23:09:35.521773",
     "exception": false,
     "start_time": "2022-12-30T23:09:35.513298",
     "status": "completed"
    },
    "tags": []
   },
   "source": [
    "In this exercise, you'll put to work what you have learned about booleans and conditionals.\n",
    "\n",
    "To get started, **run the setup code below** before writing your own code (and if you leave this notebook and come back later, don't forget to run the setup code again)."
   ]
  },
  {
   "cell_type": "code",
   "execution_count": 1,
   "id": "c7d04489",
   "metadata": {
    "execution": {
     "iopub.execute_input": "2022-12-30T23:09:35.542319Z",
     "iopub.status.busy": "2022-12-30T23:09:35.541282Z",
     "iopub.status.idle": "2022-12-30T23:09:35.604433Z",
     "shell.execute_reply": "2022-12-30T23:09:35.603325Z"
    },
    "papermill": {
     "duration": 0.07626,
     "end_time": "2022-12-30T23:09:35.606820",
     "exception": false,
     "start_time": "2022-12-30T23:09:35.530560",
     "status": "completed"
    },
    "tags": []
   },
   "outputs": [
    {
     "name": "stdout",
     "output_type": "stream",
     "text": [
      "Setup complete.\n"
     ]
    }
   ],
   "source": [
    "from learntools.core import binder; binder.bind(globals())\n",
    "from learntools.python.ex3 import *\n",
    "print('Setup complete.')"
   ]
  },
  {
   "cell_type": "markdown",
   "id": "126d2c8e",
   "metadata": {
    "papermill": {
     "duration": 0.008721,
     "end_time": "2022-12-30T23:09:35.624592",
     "exception": false,
     "start_time": "2022-12-30T23:09:35.615871",
     "status": "completed"
    },
    "tags": []
   },
   "source": [
    "# 1.\n",
    "\n",
    "Many programming languages have [`sign`](https://en.wikipedia.org/wiki/Sign_function) available as a built-in function. Python doesn't, but we can define our own!\n",
    "\n",
    "In the cell below, define a function called `sign` which takes a numerical argument and returns -1 if it's negative, 1 if it's positive, and 0 if it's 0."
   ]
  },
  {
   "cell_type": "code",
   "execution_count": 2,
   "id": "7a58f404",
   "metadata": {
    "execution": {
     "iopub.execute_input": "2022-12-30T23:09:35.645970Z",
     "iopub.status.busy": "2022-12-30T23:09:35.645562Z",
     "iopub.status.idle": "2022-12-30T23:09:35.656949Z",
     "shell.execute_reply": "2022-12-30T23:09:35.655908Z"
    },
    "papermill": {
     "duration": 0.024013,
     "end_time": "2022-12-30T23:09:35.659285",
     "exception": false,
     "start_time": "2022-12-30T23:09:35.635272",
     "status": "completed"
    },
    "tags": []
   },
   "outputs": [
    {
     "data": {
      "application/javascript": [
       "parent.postMessage({\"jupyterEvent\": \"custom.exercise_interaction\", \"data\": {\"outcomeType\": 1, \"valueTowardsCompletion\": 0.2, \"interactionType\": 1, \"questionType\": 2, \"questionId\": \"1_SignFunctionProblem\", \"learnToolsVersion\": \"0.3.4\", \"failureMessage\": \"\", \"exceptionClass\": \"\", \"trace\": \"\"}}, \"*\")"
      ],
      "text/plain": [
       "<IPython.core.display.Javascript object>"
      ]
     },
     "metadata": {},
     "output_type": "display_data"
    },
    {
     "data": {
      "text/markdown": [
       "<span style=\"color:#33cc33\">Correct</span>"
      ],
      "text/plain": [
       "Correct"
      ]
     },
     "metadata": {},
     "output_type": "display_data"
    }
   ],
   "source": [
    "# Your code goes here. Define a function called 'sign'\n",
    "def sign(x):\n",
    "    if x > 0:\n",
    "        return 1\n",
    "    elif x < 0:\n",
    "        return -1\n",
    "    else:\n",
    "        return 0\n",
    "\n",
    "# Check your answer\n",
    "q1.check()"
   ]
  },
  {
   "cell_type": "code",
   "execution_count": 3,
   "id": "66bc6d4b",
   "metadata": {
    "execution": {
     "iopub.execute_input": "2022-12-30T23:09:35.679748Z",
     "iopub.status.busy": "2022-12-30T23:09:35.679321Z",
     "iopub.status.idle": "2022-12-30T23:09:35.684684Z",
     "shell.execute_reply": "2022-12-30T23:09:35.683430Z"
    },
    "papermill": {
     "duration": 0.018489,
     "end_time": "2022-12-30T23:09:35.687216",
     "exception": false,
     "start_time": "2022-12-30T23:09:35.668727",
     "status": "completed"
    },
    "tags": []
   },
   "outputs": [],
   "source": [
    "#q1.solution()"
   ]
  },
  {
   "cell_type": "markdown",
   "id": "c15fc13b",
   "metadata": {
    "papermill": {
     "duration": 0.009405,
     "end_time": "2022-12-30T23:09:35.706180",
     "exception": false,
     "start_time": "2022-12-30T23:09:35.696775",
     "status": "completed"
    },
    "tags": []
   },
   "source": [
    "# 2.\n",
    "\n",
    "We've decided to add \"logging\" to our `to_smash` function from the previous exercise."
   ]
  },
  {
   "cell_type": "code",
   "execution_count": 4,
   "id": "223aa153",
   "metadata": {
    "execution": {
     "iopub.execute_input": "2022-12-30T23:09:35.726794Z",
     "iopub.status.busy": "2022-12-30T23:09:35.726388Z",
     "iopub.status.idle": "2022-12-30T23:09:35.735594Z",
     "shell.execute_reply": "2022-12-30T23:09:35.734344Z"
    },
    "papermill": {
     "duration": 0.022499,
     "end_time": "2022-12-30T23:09:35.738193",
     "exception": false,
     "start_time": "2022-12-30T23:09:35.715694",
     "status": "completed"
    },
    "tags": []
   },
   "outputs": [
    {
     "name": "stdout",
     "output_type": "stream",
     "text": [
      "Splitting 91 candies\n"
     ]
    },
    {
     "data": {
      "text/plain": [
       "1"
      ]
     },
     "execution_count": 4,
     "metadata": {},
     "output_type": "execute_result"
    }
   ],
   "source": [
    "def to_smash(total_candies):\n",
    "    \"\"\"Return the number of leftover candies that must be smashed after distributing\n",
    "    the given number of candies evenly between 3 friends.\n",
    "    \n",
    "    >>> to_smash(91)\n",
    "    1\n",
    "    \"\"\"\n",
    "    print(\"Splitting\", total_candies, \"candies\")\n",
    "    return total_candies % 3\n",
    "\n",
    "to_smash(91)"
   ]
  },
  {
   "cell_type": "markdown",
   "id": "9896c8a1",
   "metadata": {
    "papermill": {
     "duration": 0.009223,
     "end_time": "2022-12-30T23:09:35.757241",
     "exception": false,
     "start_time": "2022-12-30T23:09:35.748018",
     "status": "completed"
    },
    "tags": []
   },
   "source": [
    "What happens if we call it with `total_candies = 1`?"
   ]
  },
  {
   "cell_type": "code",
   "execution_count": 5,
   "id": "756ae3b3",
   "metadata": {
    "execution": {
     "iopub.execute_input": "2022-12-30T23:09:35.778054Z",
     "iopub.status.busy": "2022-12-30T23:09:35.777568Z",
     "iopub.status.idle": "2022-12-30T23:09:35.784909Z",
     "shell.execute_reply": "2022-12-30T23:09:35.783981Z"
    },
    "papermill": {
     "duration": 0.020215,
     "end_time": "2022-12-30T23:09:35.787002",
     "exception": false,
     "start_time": "2022-12-30T23:09:35.766787",
     "status": "completed"
    },
    "tags": []
   },
   "outputs": [
    {
     "name": "stdout",
     "output_type": "stream",
     "text": [
      "Splitting 1 candies\n"
     ]
    },
    {
     "data": {
      "text/plain": [
       "1"
      ]
     },
     "execution_count": 5,
     "metadata": {},
     "output_type": "execute_result"
    }
   ],
   "source": [
    "to_smash(1)"
   ]
  },
  {
   "cell_type": "markdown",
   "id": "9223b931",
   "metadata": {
    "papermill": {
     "duration": 0.010709,
     "end_time": "2022-12-30T23:09:35.807499",
     "exception": false,
     "start_time": "2022-12-30T23:09:35.796790",
     "status": "completed"
    },
    "tags": []
   },
   "source": [
    "That isn't great grammar!\n",
    "\n",
    "Modify the definition in the cell below to correct the grammar of our print statement. (If there's only one candy, we should use the singular \"candy\" instead of the plural \"candies\")"
   ]
  },
  {
   "cell_type": "code",
   "execution_count": 6,
   "id": "44af1f08",
   "metadata": {
    "execution": {
     "iopub.execute_input": "2022-12-30T23:09:35.829109Z",
     "iopub.status.busy": "2022-12-30T23:09:35.828685Z",
     "iopub.status.idle": "2022-12-30T23:09:35.837617Z",
     "shell.execute_reply": "2022-12-30T23:09:35.836242Z"
    },
    "papermill": {
     "duration": 0.022373,
     "end_time": "2022-12-30T23:09:35.840045",
     "exception": false,
     "start_time": "2022-12-30T23:09:35.817672",
     "status": "completed"
    },
    "tags": []
   },
   "outputs": [
    {
     "name": "stdout",
     "output_type": "stream",
     "text": [
      "Splitting 91 candies\n",
      "Splitting 1 candy\n"
     ]
    },
    {
     "data": {
      "text/plain": [
       "1"
      ]
     },
     "execution_count": 6,
     "metadata": {},
     "output_type": "execute_result"
    }
   ],
   "source": [
    "def to_smash(total_candies):\n",
    "    \"\"\"Return the number of leftover candies that must be smashed after distributing\n",
    "    the given number of candies evenly between 3 friends.\n",
    "    \n",
    "    >>> to_smash(91)\n",
    "    1\n",
    "    \"\"\"\n",
    "    if total_candies == 1:\n",
    "        print(\"Splitting 1 candy\")\n",
    "    else:\n",
    "        print(\"Splitting\", total_candies, \"candies\")\n",
    "    return total_candies % 3\n",
    "\n",
    "to_smash(91)\n",
    "to_smash(1)\n",
    "\n",
    "# print(\"Splitting\", total_candies, \"candy\" if total_candies == 1 else \"candies\")"
   ]
  },
  {
   "cell_type": "markdown",
   "id": "5411aed1",
   "metadata": {
    "papermill": {
     "duration": 0.009601,
     "end_time": "2022-12-30T23:09:35.860060",
     "exception": false,
     "start_time": "2022-12-30T23:09:35.850459",
     "status": "completed"
    },
    "tags": []
   },
   "source": [
    "To get credit for completing this problem, and to see the official answer, run the code cell below."
   ]
  },
  {
   "cell_type": "code",
   "execution_count": 7,
   "id": "af1f1a3a",
   "metadata": {
    "execution": {
     "iopub.execute_input": "2022-12-30T23:09:35.881615Z",
     "iopub.status.busy": "2022-12-30T23:09:35.881215Z",
     "iopub.status.idle": "2022-12-30T23:09:35.886122Z",
     "shell.execute_reply": "2022-12-30T23:09:35.884898Z"
    },
    "papermill": {
     "duration": 0.018509,
     "end_time": "2022-12-30T23:09:35.888510",
     "exception": false,
     "start_time": "2022-12-30T23:09:35.870001",
     "status": "completed"
    },
    "tags": []
   },
   "outputs": [],
   "source": [
    "# Check your answer (Run this code cell to receive credit!)\n",
    "#q2.solution()"
   ]
  },
  {
   "cell_type": "markdown",
   "id": "40dab639",
   "metadata": {
    "papermill": {
     "duration": 0.00964,
     "end_time": "2022-12-30T23:09:35.908218",
     "exception": false,
     "start_time": "2022-12-30T23:09:35.898578",
     "status": "completed"
    },
    "tags": []
   },
   "source": [
    "# 3. <span title=\"A bit spicy\" style=\"color: darkgreen \">🌶️</span>\n",
    "\n",
    "In the tutorial, we talked about deciding whether we're prepared for the weather. I said that I'm safe from today's weather if...\n",
    "- I have an umbrella...\n",
    "- or if the rain isn't too heavy and I have a hood...\n",
    "- otherwise, I'm still fine unless it's raining *and* it's a workday\n",
    "\n",
    "The function below uses our first attempt at turning this logic into a Python expression. I claimed that there was a bug in that code. Can you find it?\n",
    "\n",
    "To prove that `prepared_for_weather` is buggy, come up with a set of inputs where either:\n",
    "- the function returns `False` (but should have returned `True`), or\n",
    "- the function returned `True` (but should have returned `False`).\n",
    "\n",
    "To get credit for completing this question, your code should return a <font color='#33cc33'>Correct</font> result."
   ]
  },
  {
   "cell_type": "code",
   "execution_count": 8,
   "id": "b0a7ec9e",
   "metadata": {
    "execution": {
     "iopub.execute_input": "2022-12-30T23:09:35.930123Z",
     "iopub.status.busy": "2022-12-30T23:09:35.929709Z",
     "iopub.status.idle": "2022-12-30T23:09:35.942288Z",
     "shell.execute_reply": "2022-12-30T23:09:35.941141Z"
    },
    "papermill": {
     "duration": 0.026192,
     "end_time": "2022-12-30T23:09:35.944439",
     "exception": false,
     "start_time": "2022-12-30T23:09:35.918247",
     "status": "completed"
    },
    "tags": []
   },
   "outputs": [
    {
     "name": "stdout",
     "output_type": "stream",
     "text": [
      "False\n"
     ]
    },
    {
     "data": {
      "application/javascript": [
       "parent.postMessage({\"jupyterEvent\": \"custom.exercise_interaction\", \"data\": {\"outcomeType\": 1, \"valueTowardsCompletion\": 0.2, \"interactionType\": 1, \"questionType\": 1, \"questionId\": \"3_WeatherDebug\", \"learnToolsVersion\": \"0.3.4\", \"failureMessage\": \"\", \"exceptionClass\": \"\", \"trace\": \"\"}}, \"*\")"
      ],
      "text/plain": [
       "<IPython.core.display.Javascript object>"
      ]
     },
     "metadata": {},
     "output_type": "display_data"
    },
    {
     "data": {
      "text/markdown": [
       "<span style=\"color:#33cc33\">Correct:</span> \n",
       "\n",
       "One example of a failing test case is:\n",
       "\n",
       "```python\n",
       "have_umbrella = False\n",
       "rain_level = 0.0\n",
       "have_hood = False\n",
       "is_workday = False\n",
       "```\n",
       "\n",
       "Clearly we're prepared for the weather in this case. It's not raining. Not only that, it's not a workday, so we don't even need to leave the house! But our function will return False on these inputs.\n",
       "\n",
       "The key problem is that Python implictly parenthesizes the last part as:\n",
       "\n",
       "```python\n",
       "(not (rain_level > 0)) and is_workday\n",
       "```\n",
       "\n",
       "Whereas what we were trying to express would look more like:\n",
       "\n",
       "```python\n",
       "not (rain_level > 0 and is_workday)\n",
       "```\n"
      ],
      "text/plain": [
       "Correct: \n",
       "\n",
       "One example of a failing test case is:\n",
       "\n",
       "```python\n",
       "have_umbrella = False\n",
       "rain_level = 0.0\n",
       "have_hood = False\n",
       "is_workday = False\n",
       "```\n",
       "\n",
       "Clearly we're prepared for the weather in this case. It's not raining. Not only that, it's not a workday, so we don't even need to leave the house! But our function will return False on these inputs.\n",
       "\n",
       "The key problem is that Python implictly parenthesizes the last part as:\n",
       "\n",
       "```python\n",
       "(not (rain_level > 0)) and is_workday\n",
       "```\n",
       "\n",
       "Whereas what we were trying to express would look more like:\n",
       "\n",
       "```python\n",
       "not (rain_level > 0 and is_workday)\n",
       "```"
      ]
     },
     "metadata": {},
     "output_type": "display_data"
    }
   ],
   "source": [
    "def prepared_for_weather(have_umbrella, rain_level, have_hood, is_workday):\n",
    "    # Don't change this code. Our goal is just to find the bug, not fix it!\n",
    "    return have_umbrella or rain_level < 5 and have_hood or not rain_level > 0 and is_workday\n",
    "\n",
    "# Change the values of these inputs so they represent a case where prepared_for_weather\n",
    "# returns the wrong answer.\n",
    "have_umbrella = False\n",
    "rain_level = 0.0\n",
    "have_hood = False\n",
    "is_workday = False\n",
    "\n",
    "# Check what the function returns given the current values of the variables above\n",
    "actual = prepared_for_weather(have_umbrella, rain_level, have_hood, is_workday)\n",
    "print(actual)\n",
    "\n",
    "#(not (rain_level > 0)) and is_workday\n",
    "#not (rain_level > 0 and is_workday)\n",
    "\n",
    "# Check your answer\n",
    "q3.check()"
   ]
  },
  {
   "cell_type": "code",
   "execution_count": 9,
   "id": "297b7848",
   "metadata": {
    "execution": {
     "iopub.execute_input": "2022-12-30T23:09:35.967179Z",
     "iopub.status.busy": "2022-12-30T23:09:35.966740Z",
     "iopub.status.idle": "2022-12-30T23:09:35.971357Z",
     "shell.execute_reply": "2022-12-30T23:09:35.970150Z"
    },
    "papermill": {
     "duration": 0.018372,
     "end_time": "2022-12-30T23:09:35.973702",
     "exception": false,
     "start_time": "2022-12-30T23:09:35.955330",
     "status": "completed"
    },
    "tags": []
   },
   "outputs": [],
   "source": [
    "#q3.hint()\n",
    "#q3.solution()"
   ]
  },
  {
   "cell_type": "markdown",
   "id": "d230d981",
   "metadata": {
    "papermill": {
     "duration": 0.010559,
     "end_time": "2022-12-30T23:09:35.994768",
     "exception": false,
     "start_time": "2022-12-30T23:09:35.984209",
     "status": "completed"
    },
    "tags": []
   },
   "source": [
    "# 4.\n",
    "\n",
    "The function `is_negative` below is implemented correctly - it returns True if the given number is negative and False otherwise.\n",
    "\n",
    "However, it's more verbose than it needs to be. We can actually reduce the number of lines of code in this function by *75%* while keeping the same behaviour. \n",
    "\n",
    "See if you can come up with an equivalent body that uses just **one line** of code, and put it in the function `concise_is_negative`. (HINT: you don't even need Python's ternary syntax)"
   ]
  },
  {
   "cell_type": "code",
   "execution_count": 10,
   "id": "18b210a7",
   "metadata": {
    "execution": {
     "iopub.execute_input": "2022-12-30T23:09:36.023302Z",
     "iopub.status.busy": "2022-12-30T23:09:36.022496Z",
     "iopub.status.idle": "2022-12-30T23:09:36.036057Z",
     "shell.execute_reply": "2022-12-30T23:09:36.034401Z"
    },
    "papermill": {
     "duration": 0.031939,
     "end_time": "2022-12-30T23:09:36.039922",
     "exception": false,
     "start_time": "2022-12-30T23:09:36.007983",
     "status": "completed"
    },
    "tags": []
   },
   "outputs": [
    {
     "data": {
      "application/javascript": [
       "parent.postMessage({\"jupyterEvent\": \"custom.exercise_interaction\", \"data\": {\"outcomeType\": 1, \"valueTowardsCompletion\": 0.2, \"interactionType\": 1, \"questionType\": 2, \"questionId\": \"4_ConciseIsNegative\", \"learnToolsVersion\": \"0.3.4\", \"failureMessage\": \"\", \"exceptionClass\": \"\", \"trace\": \"\"}}, \"*\")"
      ],
      "text/plain": [
       "<IPython.core.display.Javascript object>"
      ]
     },
     "metadata": {},
     "output_type": "display_data"
    },
    {
     "data": {
      "text/markdown": [
       "<span style=\"color:#33cc33\">Correct</span>"
      ],
      "text/plain": [
       "Correct"
      ]
     },
     "metadata": {},
     "output_type": "display_data"
    }
   ],
   "source": [
    "def is_negative(number):\n",
    "    if number < 0:\n",
    "        return True\n",
    "    else:\n",
    "        return False\n",
    "\n",
    "def concise_is_negative(number):\n",
    "    return number < 0\n",
    "\n",
    "# Check your answer\n",
    "q4.check()"
   ]
  },
  {
   "cell_type": "code",
   "execution_count": 11,
   "id": "02710b9b",
   "metadata": {
    "execution": {
     "iopub.execute_input": "2022-12-30T23:09:36.067224Z",
     "iopub.status.busy": "2022-12-30T23:09:36.066704Z",
     "iopub.status.idle": "2022-12-30T23:09:36.071314Z",
     "shell.execute_reply": "2022-12-30T23:09:36.070193Z"
    },
    "papermill": {
     "duration": 0.021765,
     "end_time": "2022-12-30T23:09:36.074216",
     "exception": false,
     "start_time": "2022-12-30T23:09:36.052451",
     "status": "completed"
    },
    "tags": []
   },
   "outputs": [],
   "source": [
    "#q4.hint()\n",
    "#q4.solution()"
   ]
  },
  {
   "cell_type": "markdown",
   "id": "8eb404ba",
   "metadata": {
    "papermill": {
     "duration": 0.010037,
     "end_time": "2022-12-30T23:09:36.097816",
     "exception": false,
     "start_time": "2022-12-30T23:09:36.087779",
     "status": "completed"
    },
    "tags": []
   },
   "source": [
    "# 5a.\n",
    "\n",
    "The boolean variables `ketchup`, `mustard` and `onion` represent whether a customer wants a particular topping on their hot dog. We want to implement a number of boolean functions that correspond to some yes-or-no questions about the customer's order. For example:"
   ]
  },
  {
   "cell_type": "code",
   "execution_count": 12,
   "id": "8596fd03",
   "metadata": {
    "execution": {
     "iopub.execute_input": "2022-12-30T23:09:36.121140Z",
     "iopub.status.busy": "2022-12-30T23:09:36.120754Z",
     "iopub.status.idle": "2022-12-30T23:09:36.125085Z",
     "shell.execute_reply": "2022-12-30T23:09:36.124244Z"
    },
    "papermill": {
     "duration": 0.01899,
     "end_time": "2022-12-30T23:09:36.127230",
     "exception": false,
     "start_time": "2022-12-30T23:09:36.108240",
     "status": "completed"
    },
    "tags": []
   },
   "outputs": [],
   "source": [
    "def onionless(ketchup, mustard, onion):\n",
    "    \"\"\"Return whether the customer doesn't want onions.\n",
    "    \"\"\"\n",
    "    return not onion"
   ]
  },
  {
   "cell_type": "code",
   "execution_count": 13,
   "id": "e2cd1854",
   "metadata": {
    "execution": {
     "iopub.execute_input": "2022-12-30T23:09:36.151216Z",
     "iopub.status.busy": "2022-12-30T23:09:36.150442Z",
     "iopub.status.idle": "2022-12-30T23:09:36.161581Z",
     "shell.execute_reply": "2022-12-30T23:09:36.160165Z"
    },
    "papermill": {
     "duration": 0.02674,
     "end_time": "2022-12-30T23:09:36.165058",
     "exception": false,
     "start_time": "2022-12-30T23:09:36.138318",
     "status": "completed"
    },
    "tags": []
   },
   "outputs": [
    {
     "data": {
      "application/javascript": [
       "parent.postMessage({\"jupyterEvent\": \"custom.exercise_interaction\", \"data\": {\"outcomeType\": 1, \"valueTowardsCompletion\": 0.2, \"interactionType\": 1, \"questionType\": 2, \"questionId\": \"5.1_AllToppings\", \"learnToolsVersion\": \"0.3.4\", \"failureMessage\": \"\", \"exceptionClass\": \"\", \"trace\": \"\"}}, \"*\")"
      ],
      "text/plain": [
       "<IPython.core.display.Javascript object>"
      ]
     },
     "metadata": {},
     "output_type": "display_data"
    },
    {
     "data": {
      "text/markdown": [
       "<span style=\"color:#33cc33\">Correct</span>"
      ],
      "text/plain": [
       "Correct"
      ]
     },
     "metadata": {},
     "output_type": "display_data"
    }
   ],
   "source": [
    "def wants_all_toppings(ketchup, mustard, onion):\n",
    "    \"\"\"Return whether the customer wants \"the works\" (all 3 toppings)\n",
    "    \"\"\"\n",
    "    return ketchup and mustard and onion\n",
    "\n",
    "# Check your answer\n",
    "q5.a.check()"
   ]
  },
  {
   "cell_type": "code",
   "execution_count": 14,
   "id": "28bca177",
   "metadata": {
    "execution": {
     "iopub.execute_input": "2022-12-30T23:09:36.196818Z",
     "iopub.status.busy": "2022-12-30T23:09:36.195958Z",
     "iopub.status.idle": "2022-12-30T23:09:36.200670Z",
     "shell.execute_reply": "2022-12-30T23:09:36.199845Z"
    },
    "papermill": {
     "duration": 0.022602,
     "end_time": "2022-12-30T23:09:36.202871",
     "exception": false,
     "start_time": "2022-12-30T23:09:36.180269",
     "status": "completed"
    },
    "tags": []
   },
   "outputs": [],
   "source": [
    "#q5.a.hint()\n",
    "#q5.a.solution()"
   ]
  },
  {
   "cell_type": "markdown",
   "id": "db70d6ef",
   "metadata": {
    "papermill": {
     "duration": 0.010784,
     "end_time": "2022-12-30T23:09:36.225081",
     "exception": false,
     "start_time": "2022-12-30T23:09:36.214297",
     "status": "completed"
    },
    "tags": []
   },
   "source": [
    "# 5b.\n",
    "\n",
    "For the next function, fill in the body to match the English description in the docstring. "
   ]
  },
  {
   "cell_type": "code",
   "execution_count": 15,
   "id": "3c4c3086",
   "metadata": {
    "execution": {
     "iopub.execute_input": "2022-12-30T23:09:36.249955Z",
     "iopub.status.busy": "2022-12-30T23:09:36.249312Z",
     "iopub.status.idle": "2022-12-30T23:09:36.258710Z",
     "shell.execute_reply": "2022-12-30T23:09:36.257860Z"
    },
    "papermill": {
     "duration": 0.02456,
     "end_time": "2022-12-30T23:09:36.260860",
     "exception": false,
     "start_time": "2022-12-30T23:09:36.236300",
     "status": "completed"
    },
    "tags": []
   },
   "outputs": [
    {
     "data": {
      "application/javascript": [
       "parent.postMessage({\"jupyterEvent\": \"custom.exercise_interaction\", \"data\": {\"outcomeType\": 1, \"valueTowardsCompletion\": 0.2, \"interactionType\": 1, \"questionType\": 2, \"questionId\": \"5.2_PlainDog\", \"learnToolsVersion\": \"0.3.4\", \"failureMessage\": \"\", \"exceptionClass\": \"\", \"trace\": \"\"}}, \"*\")"
      ],
      "text/plain": [
       "<IPython.core.display.Javascript object>"
      ]
     },
     "metadata": {},
     "output_type": "display_data"
    },
    {
     "data": {
      "text/markdown": [
       "<span style=\"color:#33cc33\">Correct:</span> \n",
       "\n",
       "One solution looks like:\n",
       "```python\n",
       "return not ketchup and not mustard and not onion\n",
       "```\n",
       "\n",
       "We can also [\"factor out\" the nots](https://en.wikipedia.org/wiki/De_Morgan%27s_laws) to get:\n",
       "\n",
       "```python\n",
       "return not (ketchup or mustard or onion)\n",
       "```"
      ],
      "text/plain": [
       "Correct: \n",
       "\n",
       "One solution looks like:\n",
       "```python\n",
       "return not ketchup and not mustard and not onion\n",
       "```\n",
       "\n",
       "We can also [\"factor out\" the nots](https://en.wikipedia.org/wiki/De_Morgan%27s_laws) to get:\n",
       "\n",
       "```python\n",
       "return not (ketchup or mustard or onion)\n",
       "```"
      ]
     },
     "metadata": {},
     "output_type": "display_data"
    }
   ],
   "source": [
    "def wants_plain_hotdog(ketchup, mustard, onion):\n",
    "    \"\"\"Return whether the customer wants a plain hot dog with no toppings.\n",
    "    \"\"\"\n",
    "    return not (ketchup or mustard or onion)\n",
    "\n",
    "# Check your answer\n",
    "q5.b.check()"
   ]
  },
  {
   "cell_type": "code",
   "execution_count": 16,
   "id": "ca1b625e",
   "metadata": {
    "execution": {
     "iopub.execute_input": "2022-12-30T23:09:36.288204Z",
     "iopub.status.busy": "2022-12-30T23:09:36.287522Z",
     "iopub.status.idle": "2022-12-30T23:09:36.292003Z",
     "shell.execute_reply": "2022-12-30T23:09:36.291138Z"
    },
    "papermill": {
     "duration": 0.022324,
     "end_time": "2022-12-30T23:09:36.294265",
     "exception": false,
     "start_time": "2022-12-30T23:09:36.271941",
     "status": "completed"
    },
    "tags": []
   },
   "outputs": [],
   "source": [
    "#q5.b.hint()\n",
    "#q5.b.solution()"
   ]
  },
  {
   "cell_type": "markdown",
   "id": "c17ef8c5",
   "metadata": {
    "papermill": {
     "duration": 0.011291,
     "end_time": "2022-12-30T23:09:36.316687",
     "exception": false,
     "start_time": "2022-12-30T23:09:36.305396",
     "status": "completed"
    },
    "tags": []
   },
   "source": [
    "# 5c.\n",
    "\n",
    "You know what to do: for the next function, fill in the body to match the English description in the docstring."
   ]
  },
  {
   "cell_type": "code",
   "execution_count": 17,
   "id": "63b1b44d",
   "metadata": {
    "execution": {
     "iopub.execute_input": "2022-12-30T23:09:36.341356Z",
     "iopub.status.busy": "2022-12-30T23:09:36.340680Z",
     "iopub.status.idle": "2022-12-30T23:09:36.350345Z",
     "shell.execute_reply": "2022-12-30T23:09:36.349294Z"
    },
    "papermill": {
     "duration": 0.024235,
     "end_time": "2022-12-30T23:09:36.352447",
     "exception": false,
     "start_time": "2022-12-30T23:09:36.328212",
     "status": "completed"
    },
    "tags": []
   },
   "outputs": [
    {
     "data": {
      "application/javascript": [
       "parent.postMessage({\"jupyterEvent\": \"custom.exercise_interaction\", \"data\": {\"outcomeType\": 1, \"valueTowardsCompletion\": 0.2, \"interactionType\": 1, \"questionType\": 2, \"questionId\": \"5.3_OneSauce\", \"learnToolsVersion\": \"0.3.4\", \"failureMessage\": \"\", \"exceptionClass\": \"\", \"trace\": \"\"}}, \"*\")"
      ],
      "text/plain": [
       "<IPython.core.display.Javascript object>"
      ]
     },
     "metadata": {},
     "output_type": "display_data"
    },
    {
     "data": {
      "text/markdown": [
       "<span style=\"color:#33cc33\">Correct</span>"
      ],
      "text/plain": [
       "Correct"
      ]
     },
     "metadata": {},
     "output_type": "display_data"
    }
   ],
   "source": [
    "def exactly_one_sauce(ketchup, mustard, onion):\n",
    "    \"\"\"Return whether the customer wants either ketchup or mustard, but not both.\n",
    "    (You may be familiar with this operation under the name \"exclusive or\")\n",
    "    \"\"\"\n",
    "    return (ketchup and not mustard) or (mustard and not ketchup)\n",
    "\n",
    "# Check your answer\n",
    "q5.c.check()"
   ]
  },
  {
   "cell_type": "code",
   "execution_count": 18,
   "id": "340d2b39",
   "metadata": {
    "execution": {
     "iopub.execute_input": "2022-12-30T23:09:36.377613Z",
     "iopub.status.busy": "2022-12-30T23:09:36.376409Z",
     "iopub.status.idle": "2022-12-30T23:09:36.381280Z",
     "shell.execute_reply": "2022-12-30T23:09:36.380503Z"
    },
    "papermill": {
     "duration": 0.01981,
     "end_time": "2022-12-30T23:09:36.383558",
     "exception": false,
     "start_time": "2022-12-30T23:09:36.363748",
     "status": "completed"
    },
    "tags": []
   },
   "outputs": [],
   "source": [
    "#q5.c.hint()\n",
    "#q5.c.solution()"
   ]
  },
  {
   "cell_type": "markdown",
   "id": "d5b45b63",
   "metadata": {
    "papermill": {
     "duration": 0.011679,
     "end_time": "2022-12-30T23:09:36.411157",
     "exception": false,
     "start_time": "2022-12-30T23:09:36.399478",
     "status": "completed"
    },
    "tags": []
   },
   "source": [
    "# 6. <span title=\"A bit spicy\" style=\"color: darkgreen \">🌶️</span>\n",
    "\n",
    "We’ve seen that calling `bool()` on an integer returns `False` if it’s equal to 0 and `True` otherwise. What happens if we call `int()` on a bool? Try it out in the notebook cell below.\n",
    "\n",
    "Can you take advantage of this to write a succinct function that corresponds to the English sentence \"does the customer want exactly one topping?\"?"
   ]
  },
  {
   "cell_type": "code",
   "execution_count": 19,
   "id": "ddc9b42d",
   "metadata": {
    "execution": {
     "iopub.execute_input": "2022-12-30T23:09:36.441372Z",
     "iopub.status.busy": "2022-12-30T23:09:36.440850Z",
     "iopub.status.idle": "2022-12-30T23:09:36.451502Z",
     "shell.execute_reply": "2022-12-30T23:09:36.450524Z"
    },
    "papermill": {
     "duration": 0.031199,
     "end_time": "2022-12-30T23:09:36.453654",
     "exception": false,
     "start_time": "2022-12-30T23:09:36.422455",
     "status": "completed"
    },
    "tags": []
   },
   "outputs": [
    {
     "data": {
      "application/javascript": [
       "parent.postMessage({\"jupyterEvent\": \"custom.exercise_interaction\", \"data\": {\"outcomeType\": 1, \"valueTowardsCompletion\": 0.2, \"interactionType\": 1, \"questionType\": 2, \"questionId\": \"6_OneTopping\", \"learnToolsVersion\": \"0.3.4\", \"failureMessage\": \"\", \"exceptionClass\": \"\", \"trace\": \"\"}}, \"*\")"
      ],
      "text/plain": [
       "<IPython.core.display.Javascript object>"
      ]
     },
     "metadata": {},
     "output_type": "display_data"
    },
    {
     "data": {
      "text/markdown": [
       "<span style=\"color:#33cc33\">Correct:</span> \n",
       "\n",
       "This condition would be pretty complicated to express using just `and`, `or` and `not`, but using boolean-to-integer conversion gives us this short solution:\n",
       "```python\n",
       "return (int(ketchup) + int(mustard) + int(onion)) == 1\n",
       "```\n",
       "\n",
       "Fun fact: we don't technically need to call `int` on the arguments. Just by doing addition with booleans, Python implicitly does the integer conversion. So we could also write...\n",
       "\n",
       "```python\n",
       "return (ketchup + mustard + onion) == 1\n",
       "```"
      ],
      "text/plain": [
       "Correct: \n",
       "\n",
       "This condition would be pretty complicated to express using just `and`, `or` and `not`, but using boolean-to-integer conversion gives us this short solution:\n",
       "```python\n",
       "return (int(ketchup) + int(mustard) + int(onion)) == 1\n",
       "```\n",
       "\n",
       "Fun fact: we don't technically need to call `int` on the arguments. Just by doing addition with booleans, Python implicitly does the integer conversion. So we could also write...\n",
       "\n",
       "```python\n",
       "return (ketchup + mustard + onion) == 1\n",
       "```"
      ]
     },
     "metadata": {},
     "output_type": "display_data"
    }
   ],
   "source": [
    "def exactly_one_topping(ketchup, mustard, onion):\n",
    "    \"\"\"Return whether the customer wants exactly one of the three available toppings\n",
    "    on their hot dog.\n",
    "    \"\"\"\n",
    "    return (ketchup + mustard + onion) == 1\n",
    "\n",
    "# Check your answer\n",
    "q6.check()"
   ]
  },
  {
   "cell_type": "code",
   "execution_count": 20,
   "id": "89fbc346",
   "metadata": {
    "execution": {
     "iopub.execute_input": "2022-12-30T23:09:36.479297Z",
     "iopub.status.busy": "2022-12-30T23:09:36.478213Z",
     "iopub.status.idle": "2022-12-30T23:09:36.485081Z",
     "shell.execute_reply": "2022-12-30T23:09:36.483714Z"
    },
    "papermill": {
     "duration": 0.022152,
     "end_time": "2022-12-30T23:09:36.487517",
     "exception": false,
     "start_time": "2022-12-30T23:09:36.465365",
     "status": "completed"
    },
    "tags": []
   },
   "outputs": [],
   "source": [
    "#q6.hint()\n",
    "#q6.solution()"
   ]
  },
  {
   "cell_type": "markdown",
   "id": "6421db36",
   "metadata": {
    "papermill": {
     "duration": 0.011039,
     "end_time": "2022-12-30T23:09:36.510337",
     "exception": false,
     "start_time": "2022-12-30T23:09:36.499298",
     "status": "completed"
    },
    "tags": []
   },
   "source": [
    "# 7. <span title=\"A bit spicy\" style=\"color: darkgreen \">🌶️</span> (Optional)\n",
    "\n",
    "In this problem we'll be working with a simplified version of [blackjack](https://en.wikipedia.org/wiki/Blackjack) (aka twenty-one). In this version there is one player (who you'll control) and a dealer. Play proceeds as follows:\n",
    "\n",
    "- The player is dealt two face-up cards. The dealer is dealt one face-up card.\n",
    "- The player may ask to be dealt another card ('hit') as many times as they wish. If the sum of their cards exceeds 21, they lose the round immediately.\n",
    "- The dealer then deals additional cards to himself until either:\n",
    "    - the sum of the dealer's cards exceeds 21, in which case the player wins the round\n",
    "    - the sum of the dealer's cards is greater than or equal to 17. If the player's total is greater than the dealer's, the player wins. Otherwise, the dealer wins (even in case of a tie).\n",
    "    \n",
    "When calculating the sum of cards, Jack, Queen, and King count for 10. Aces can count as 1 or 11 (when referring to a player's \"total\" above, we mean the largest total that can be made without exceeding 21. So e.g. A+8 = 19, A+8+8 = 17)\n",
    "\n",
    "For this problem, you'll write a function representing the player's decision-making strategy in this game. We've provided a very unintelligent implementation below:"
   ]
  },
  {
   "cell_type": "code",
   "execution_count": 21,
   "id": "ee2d93b5",
   "metadata": {
    "execution": {
     "iopub.execute_input": "2022-12-30T23:09:36.535294Z",
     "iopub.status.busy": "2022-12-30T23:09:36.534843Z",
     "iopub.status.idle": "2022-12-30T23:09:36.540595Z",
     "shell.execute_reply": "2022-12-30T23:09:36.539392Z"
    },
    "papermill": {
     "duration": 0.020955,
     "end_time": "2022-12-30T23:09:36.542732",
     "exception": false,
     "start_time": "2022-12-30T23:09:36.521777",
     "status": "completed"
    },
    "tags": []
   },
   "outputs": [],
   "source": [
    "def should_hit(dealer_total, player_total, player_low_aces, player_high_aces):\n",
    "    \"\"\"Return True if the player should hit (request another card) given the current game\n",
    "    state, or False if the player should stay.\n",
    "    When calculating a hand's total value, we count aces as \"high\" (with value 11) if doing so\n",
    "    doesn't bring the total above 21, otherwise we count them as low (with value 1). \n",
    "    For example, if the player's hand is {A, A, A, 7}, we will count it as 11 + 1 + 1 + 7,\n",
    "    and therefore set player_total=20, player_low_aces=2, player_high_aces=1.\n",
    "    \"\"\"\n",
    "    return False"
   ]
  },
  {
   "cell_type": "markdown",
   "id": "0d4aad9a",
   "metadata": {
    "papermill": {
     "duration": 0.011212,
     "end_time": "2022-12-30T23:09:36.565439",
     "exception": false,
     "start_time": "2022-12-30T23:09:36.554227",
     "status": "completed"
    },
    "tags": []
   },
   "source": [
    "This very conservative agent *always* sticks with the hand of two cards that they're dealt.\n",
    "\n",
    "We'll be simulating games between your player agent and our own dealer agent by calling your function.\n",
    "\n",
    "Try running the function below to see an example of a simulated game:"
   ]
  },
  {
   "cell_type": "code",
   "execution_count": 22,
   "id": "6244cab6",
   "metadata": {
    "execution": {
     "iopub.execute_input": "2022-12-30T23:09:36.592227Z",
     "iopub.status.busy": "2022-12-30T23:09:36.590024Z",
     "iopub.status.idle": "2022-12-30T23:09:36.597546Z",
     "shell.execute_reply": "2022-12-30T23:09:36.596479Z"
    },
    "papermill": {
     "duration": 0.022508,
     "end_time": "2022-12-30T23:09:36.599728",
     "exception": false,
     "start_time": "2022-12-30T23:09:36.577220",
     "status": "completed"
    },
    "tags": []
   },
   "outputs": [
    {
     "name": "stdout",
     "output_type": "stream",
     "text": [
      "Player starts with 6 and 4 (total = 10)\n",
      "Dealer starts with 6\n",
      "\n",
      "__Player's turn__\n",
      "Player stays\n",
      "\n",
      "__Dealer's turn__\n",
      "Dealer hits and receives 4. (total = 10)\n",
      "Dealer hits and receives 3. (total = 13)\n",
      "Dealer hits and receives 4. (total = 17)\n",
      "Dealer stands.\n",
      "Dealer wins. 17 >= 10\n"
     ]
    }
   ],
   "source": [
    "q7.simulate_one_game()"
   ]
  },
  {
   "cell_type": "markdown",
   "id": "1d96ec46",
   "metadata": {
    "papermill": {
     "duration": 0.01124,
     "end_time": "2022-12-30T23:09:36.622616",
     "exception": false,
     "start_time": "2022-12-30T23:09:36.611376",
     "status": "completed"
    },
    "tags": []
   },
   "source": [
    "The real test of your agent's mettle is their average win rate over many games. Try calling the function below to simulate 50000 games of blackjack (it may take a couple seconds):"
   ]
  },
  {
   "cell_type": "code",
   "execution_count": 23,
   "id": "8e3df38a",
   "metadata": {
    "execution": {
     "iopub.execute_input": "2022-12-30T23:09:36.648235Z",
     "iopub.status.busy": "2022-12-30T23:09:36.646970Z",
     "iopub.status.idle": "2022-12-30T23:09:38.315108Z",
     "shell.execute_reply": "2022-12-30T23:09:38.313867Z"
    },
    "papermill": {
     "duration": 1.683465,
     "end_time": "2022-12-30T23:09:38.317539",
     "exception": false,
     "start_time": "2022-12-30T23:09:36.634074",
     "status": "completed"
    },
    "tags": []
   },
   "outputs": [
    {
     "name": "stdout",
     "output_type": "stream",
     "text": [
      "Player won 18971 out of 50000 games (win rate = 37.9%)\n"
     ]
    }
   ],
   "source": [
    "q7.simulate(n_games=50000)"
   ]
  },
  {
   "cell_type": "markdown",
   "id": "894ef239",
   "metadata": {
    "papermill": {
     "duration": 0.011307,
     "end_time": "2022-12-30T23:09:38.340614",
     "exception": false,
     "start_time": "2022-12-30T23:09:38.329307",
     "status": "completed"
    },
    "tags": []
   },
   "source": [
    "Our dumb agent that completely ignores the game state still manages to win shockingly often!\n",
    "\n",
    "Try adding some more smarts to the `should_hit` function and see how it affects the results."
   ]
  },
  {
   "cell_type": "code",
   "execution_count": 24,
   "id": "4053df52",
   "metadata": {
    "execution": {
     "iopub.execute_input": "2022-12-30T23:09:38.366280Z",
     "iopub.status.busy": "2022-12-30T23:09:38.365577Z",
     "iopub.status.idle": "2022-12-30T23:09:40.046721Z",
     "shell.execute_reply": "2022-12-30T23:09:40.045440Z"
    },
    "papermill": {
     "duration": 1.696985,
     "end_time": "2022-12-30T23:09:40.049273",
     "exception": false,
     "start_time": "2022-12-30T23:09:38.352288",
     "status": "completed"
    },
    "tags": []
   },
   "outputs": [
    {
     "name": "stdout",
     "output_type": "stream",
     "text": [
      "Player won 18995 out of 50000 games (win rate = 38.0%)\n"
     ]
    }
   ],
   "source": [
    "def should_hit(dealer_total, player_total, player_low_aces, player_high_aces):\n",
    "    \"\"\"Return True if the player should hit (request another card) given the current game\n",
    "    state, or False if the player should stay.\n",
    "    When calculating a hand's total value, we count aces as \"high\" (with value 11) if doing so\n",
    "    doesn't bring the total above 21, otherwise we count them as low (with value 1). \n",
    "    For example, if the player's hand is {A, A, A, 7}, we will count it as 11 + 1 + 1 + 7,\n",
    "    and therefore set player_total=20, player_low_aces=2, player_high_aces=1.\n",
    "    \"\"\"\n",
    "    return False\n",
    "\n",
    "q7.simulate(n_games=50000)"
   ]
  },
  {
   "cell_type": "markdown",
   "id": "0347c2ad",
   "metadata": {
    "papermill": {
     "duration": 0.011488,
     "end_time": "2022-12-30T23:09:40.073082",
     "exception": false,
     "start_time": "2022-12-30T23:09:40.061594",
     "status": "completed"
    },
    "tags": []
   },
   "source": [
    "# Keep Going\n",
    "\n",
    "Learn about **[lists and tuples](https://www.kaggle.com/colinmorris/lists)** to handle multiple items of data in a systematic way."
   ]
  },
  {
   "cell_type": "markdown",
   "id": "1e67ab42",
   "metadata": {
    "papermill": {
     "duration": 0.011339,
     "end_time": "2022-12-30T23:09:40.096209",
     "exception": false,
     "start_time": "2022-12-30T23:09:40.084870",
     "status": "completed"
    },
    "tags": []
   },
   "source": [
    "---\n",
    "\n",
    "\n",
    "\n",
    "\n",
    "*Have questions or comments? Visit the [course discussion forum](https://www.kaggle.com/learn/python/discussion) to chat with other learners.*"
   ]
  }
 ],
 "metadata": {
  "kernelspec": {
   "display_name": "Python 3",
   "language": "python",
   "name": "python3"
  },
  "language_info": {
   "codemirror_mode": {
    "name": "ipython",
    "version": 3
   },
   "file_extension": ".py",
   "mimetype": "text/x-python",
   "name": "python",
   "nbconvert_exporter": "python",
   "pygments_lexer": "ipython3",
   "version": "3.7.12"
  },
  "papermill": {
   "default_parameters": {},
   "duration": 14.115354,
   "end_time": "2022-12-30T23:09:40.830495",
   "environment_variables": {},
   "exception": null,
   "input_path": "__notebook__.ipynb",
   "output_path": "__notebook__.ipynb",
   "parameters": {},
   "start_time": "2022-12-30T23:09:26.715141",
   "version": "2.3.4"
  }
 },
 "nbformat": 4,
 "nbformat_minor": 5
}
