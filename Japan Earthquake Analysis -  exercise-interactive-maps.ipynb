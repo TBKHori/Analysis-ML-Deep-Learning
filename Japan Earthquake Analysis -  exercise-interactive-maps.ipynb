{
 "cells": [
  {
   "cell_type": "markdown",
   "id": "9baadafc",
   "metadata": {
    "papermill": {
     "duration": 0.009096,
     "end_time": "2022-12-22T23:44:18.228250",
     "exception": false,
     "start_time": "2022-12-22T23:44:18.219154",
     "status": "completed"
    },
    "tags": []
   },
   "source": [
    "**This notebook is an exercise in the [Geospatial Analysis](https://www.kaggle.com/learn/geospatial-analysis) course.  You can reference the tutorial at [this link](https://www.kaggle.com/alexisbcook/interactive-maps).**\n",
    "\n",
    "---\n"
   ]
  },
  {
   "cell_type": "markdown",
   "id": "b094916e",
   "metadata": {
    "papermill": {
     "duration": 0.007527,
     "end_time": "2022-12-22T23:44:18.244024",
     "exception": false,
     "start_time": "2022-12-22T23:44:18.236497",
     "status": "completed"
    },
    "tags": []
   },
   "source": [
    "# Introduction\n",
    "\n",
    "You are an urban safety planner in Japan, and you are analyzing which areas of Japan need extra earthquake reinforcement.  Which areas are both high in population density and prone to earthquakes?\n",
    "\n",
    "<center>\n",
    "<img src=\"https://i.imgur.com/Kuh9gPj.png\" width=\"450\"><br/>\n",
    "</center>\n",
    "\n",
    "Before you get started, run the code cell below to set everything up."
   ]
  },
  {
   "cell_type": "code",
   "execution_count": 1,
   "id": "2e4d11dc",
   "metadata": {
    "execution": {
     "iopub.execute_input": "2022-12-22T23:44:18.262202Z",
     "iopub.status.busy": "2022-12-22T23:44:18.261537Z",
     "iopub.status.idle": "2022-12-22T23:44:19.466478Z",
     "shell.execute_reply": "2022-12-22T23:44:19.464805Z"
    },
    "papermill": {
     "duration": 1.218594,
     "end_time": "2022-12-22T23:44:19.470593",
     "exception": false,
     "start_time": "2022-12-22T23:44:18.251999",
     "status": "completed"
    },
    "tags": []
   },
   "outputs": [
    {
     "name": "stderr",
     "output_type": "stream",
     "text": [
      "/opt/conda/lib/python3.7/site-packages/geopandas/_compat.py:115: UserWarning: The Shapely GEOS version (3.9.1-CAPI-1.14.2) is incompatible with the GEOS version PyGEOS was compiled with (3.10.3-CAPI-1.16.1). Conversions between both will be slow.\n",
      "  shapely_geos_version, geos_capi_version_string\n"
     ]
    }
   ],
   "source": [
    "import pandas as pd\n",
    "import geopandas as gpd\n",
    "\n",
    "import folium\n",
    "from folium import Choropleth\n",
    "from folium.plugins import HeatMap\n",
    "\n",
    "from learntools.core import binder\n",
    "binder.bind(globals())\n",
    "from learntools.geospatial.ex3 import *"
   ]
  },
  {
   "cell_type": "markdown",
   "id": "ab1d2514",
   "metadata": {
    "papermill": {
     "duration": 0.007383,
     "end_time": "2022-12-22T23:44:19.486390",
     "exception": false,
     "start_time": "2022-12-22T23:44:19.479007",
     "status": "completed"
    },
    "tags": []
   },
   "source": [
    "We define a function `embed_map()` for displaying interactive maps. It accepts two arguments: the variable containing the map, and the name of the HTML file where the map will be saved.\n",
    "\n",
    "This function ensures that the maps are visible [in all web browsers](https://github.com/python-visualization/folium/issues/812)."
   ]
  },
  {
   "cell_type": "code",
   "execution_count": 2,
   "id": "6b4251c6",
   "metadata": {
    "execution": {
     "iopub.execute_input": "2022-12-22T23:44:19.505096Z",
     "iopub.status.busy": "2022-12-22T23:44:19.504285Z",
     "iopub.status.idle": "2022-12-22T23:44:19.511289Z",
     "shell.execute_reply": "2022-12-22T23:44:19.510039Z"
    },
    "papermill": {
     "duration": 0.019728,
     "end_time": "2022-12-22T23:44:19.513779",
     "exception": false,
     "start_time": "2022-12-22T23:44:19.494051",
     "status": "completed"
    },
    "tags": []
   },
   "outputs": [],
   "source": [
    "def embed_map(m, file_name):\n",
    "    from IPython.display import IFrame\n",
    "    m.save(file_name)\n",
    "    return IFrame(file_name, width='100%', height='500px')"
   ]
  },
  {
   "cell_type": "markdown",
   "id": "69c89635",
   "metadata": {
    "papermill": {
     "duration": 0.009175,
     "end_time": "2022-12-22T23:44:19.531516",
     "exception": false,
     "start_time": "2022-12-22T23:44:19.522341",
     "status": "completed"
    },
    "tags": []
   },
   "source": [
    "# Exercises\n",
    "\n",
    "### 1) Do earthquakes coincide with plate boundaries?\n",
    "\n",
    "Run the code cell below to create a DataFrame `plate_boundaries` that shows global plate boundaries.  The \"coordinates\" column is a list of (latitude, longitude) locations along the boundaries."
   ]
  },
  {
   "cell_type": "code",
   "execution_count": 3,
   "id": "73595e4e",
   "metadata": {
    "execution": {
     "iopub.execute_input": "2022-12-22T23:44:19.549587Z",
     "iopub.status.busy": "2022-12-22T23:44:19.548867Z",
     "iopub.status.idle": "2022-12-22T23:44:20.062547Z",
     "shell.execute_reply": "2022-12-22T23:44:20.061174Z"
    },
    "papermill": {
     "duration": 0.52556,
     "end_time": "2022-12-22T23:44:20.064995",
     "exception": false,
     "start_time": "2022-12-22T23:44:19.539435",
     "status": "completed"
    },
    "tags": []
   },
   "outputs": [
    {
     "data": {
      "text/html": [
       "<div>\n",
       "<style scoped>\n",
       "    .dataframe tbody tr th:only-of-type {\n",
       "        vertical-align: middle;\n",
       "    }\n",
       "\n",
       "    .dataframe tbody tr th {\n",
       "        vertical-align: top;\n",
       "    }\n",
       "\n",
       "    .dataframe thead th {\n",
       "        text-align: right;\n",
       "    }\n",
       "</style>\n",
       "<table border=\"1\" class=\"dataframe\">\n",
       "  <thead>\n",
       "    <tr style=\"text-align: right;\">\n",
       "      <th></th>\n",
       "      <th>HAZ_PLATES</th>\n",
       "      <th>HAZ_PLAT_1</th>\n",
       "      <th>HAZ_PLAT_2</th>\n",
       "      <th>Shape_Leng</th>\n",
       "      <th>coordinates</th>\n",
       "    </tr>\n",
       "  </thead>\n",
       "  <tbody>\n",
       "    <tr>\n",
       "      <th>0</th>\n",
       "      <td>TRENCH</td>\n",
       "      <td>SERAM TROUGH (ACTIVE)</td>\n",
       "      <td>6722</td>\n",
       "      <td>5.843467</td>\n",
       "      <td>[(-5.444200361999947, 133.6808931800001), (-5....</td>\n",
       "    </tr>\n",
       "    <tr>\n",
       "      <th>1</th>\n",
       "      <td>TRENCH</td>\n",
       "      <td>WETAR THRUST</td>\n",
       "      <td>6722</td>\n",
       "      <td>1.829013</td>\n",
       "      <td>[(-7.760600482999962, 125.47879802900002), (-7...</td>\n",
       "    </tr>\n",
       "    <tr>\n",
       "      <th>2</th>\n",
       "      <td>TRENCH</td>\n",
       "      <td>TRENCH WEST OF LUZON (MANILA TRENCH) NORTHERN ...</td>\n",
       "      <td>6621</td>\n",
       "      <td>6.743604</td>\n",
       "      <td>[(19.817899819000047, 120.09999798800004), (19...</td>\n",
       "    </tr>\n",
       "    <tr>\n",
       "      <th>3</th>\n",
       "      <td>TRENCH</td>\n",
       "      <td>BONIN TRENCH</td>\n",
       "      <td>9821</td>\n",
       "      <td>8.329381</td>\n",
       "      <td>[(26.175899215000072, 143.20620700100005), (26...</td>\n",
       "    </tr>\n",
       "    <tr>\n",
       "      <th>4</th>\n",
       "      <td>TRENCH</td>\n",
       "      <td>NEW GUINEA TRENCH</td>\n",
       "      <td>8001</td>\n",
       "      <td>11.998145</td>\n",
       "      <td>[(0.41880004000006466, 132.8273013480001), (0....</td>\n",
       "    </tr>\n",
       "  </tbody>\n",
       "</table>\n",
       "</div>"
      ],
      "text/plain": [
       "  HAZ_PLATES                                         HAZ_PLAT_1  HAZ_PLAT_2  \\\n",
       "0     TRENCH                              SERAM TROUGH (ACTIVE)        6722   \n",
       "1     TRENCH                                       WETAR THRUST        6722   \n",
       "2     TRENCH  TRENCH WEST OF LUZON (MANILA TRENCH) NORTHERN ...        6621   \n",
       "3     TRENCH                                       BONIN TRENCH        9821   \n",
       "4     TRENCH                                  NEW GUINEA TRENCH        8001   \n",
       "\n",
       "   Shape_Leng                                        coordinates  \n",
       "0    5.843467  [(-5.444200361999947, 133.6808931800001), (-5....  \n",
       "1    1.829013  [(-7.760600482999962, 125.47879802900002), (-7...  \n",
       "2    6.743604  [(19.817899819000047, 120.09999798800004), (19...  \n",
       "3    8.329381  [(26.175899215000072, 143.20620700100005), (26...  \n",
       "4   11.998145  [(0.41880004000006466, 132.8273013480001), (0....  "
      ]
     },
     "execution_count": 3,
     "metadata": {},
     "output_type": "execute_result"
    }
   ],
   "source": [
    "plate_boundaries = gpd.read_file(\"../input/geospatial-learn-course-data/Plate_Boundaries/Plate_Boundaries/Plate_Boundaries.shp\")\n",
    "plate_boundaries['coordinates'] = plate_boundaries.apply(lambda x: [(b,a) for (a,b) in list(x.geometry.coords)], axis='columns')\n",
    "plate_boundaries.drop('geometry', axis=1, inplace=True)\n",
    "\n",
    "plate_boundaries.head()"
   ]
  },
  {
   "cell_type": "markdown",
   "id": "67748a84",
   "metadata": {
    "papermill": {
     "duration": 0.009192,
     "end_time": "2022-12-22T23:44:20.082745",
     "exception": false,
     "start_time": "2022-12-22T23:44:20.073553",
     "status": "completed"
    },
    "tags": []
   },
   "source": [
    "Next, run the code cell below without changes to load the historical earthquake data into a DataFrame `earthquakes`."
   ]
  },
  {
   "cell_type": "code",
   "execution_count": 4,
   "id": "8b564e58",
   "metadata": {
    "execution": {
     "iopub.execute_input": "2022-12-22T23:44:20.103046Z",
     "iopub.status.busy": "2022-12-22T23:44:20.102566Z",
     "iopub.status.idle": "2022-12-22T23:44:20.170135Z",
     "shell.execute_reply": "2022-12-22T23:44:20.168838Z"
    },
    "papermill": {
     "duration": 0.080763,
     "end_time": "2022-12-22T23:44:20.172705",
     "exception": false,
     "start_time": "2022-12-22T23:44:20.091942",
     "status": "completed"
    },
    "tags": []
   },
   "outputs": [
    {
     "data": {
      "text/html": [
       "<div>\n",
       "<style scoped>\n",
       "    .dataframe tbody tr th:only-of-type {\n",
       "        vertical-align: middle;\n",
       "    }\n",
       "\n",
       "    .dataframe tbody tr th {\n",
       "        vertical-align: top;\n",
       "    }\n",
       "\n",
       "    .dataframe thead th {\n",
       "        text-align: right;\n",
       "    }\n",
       "</style>\n",
       "<table border=\"1\" class=\"dataframe\">\n",
       "  <thead>\n",
       "    <tr style=\"text-align: right;\">\n",
       "      <th></th>\n",
       "      <th>DateTime</th>\n",
       "      <th>Latitude</th>\n",
       "      <th>Longitude</th>\n",
       "      <th>Depth</th>\n",
       "      <th>Magnitude</th>\n",
       "      <th>MagType</th>\n",
       "      <th>NbStations</th>\n",
       "      <th>Gap</th>\n",
       "      <th>Distance</th>\n",
       "      <th>RMS</th>\n",
       "      <th>Source</th>\n",
       "      <th>EventID</th>\n",
       "    </tr>\n",
       "  </thead>\n",
       "  <tbody>\n",
       "    <tr>\n",
       "      <th>0</th>\n",
       "      <td>1970-01-04 17:00:40.200</td>\n",
       "      <td>24.139</td>\n",
       "      <td>102.503</td>\n",
       "      <td>31.0</td>\n",
       "      <td>7.5</td>\n",
       "      <td>Ms</td>\n",
       "      <td>90.0</td>\n",
       "      <td>NaN</td>\n",
       "      <td>NaN</td>\n",
       "      <td>0.0</td>\n",
       "      <td>NEI</td>\n",
       "      <td>1.970010e+09</td>\n",
       "    </tr>\n",
       "    <tr>\n",
       "      <th>1</th>\n",
       "      <td>1970-01-06 05:35:51.800</td>\n",
       "      <td>-9.628</td>\n",
       "      <td>151.458</td>\n",
       "      <td>8.0</td>\n",
       "      <td>6.2</td>\n",
       "      <td>Ms</td>\n",
       "      <td>85.0</td>\n",
       "      <td>NaN</td>\n",
       "      <td>NaN</td>\n",
       "      <td>0.0</td>\n",
       "      <td>NEI</td>\n",
       "      <td>1.970011e+09</td>\n",
       "    </tr>\n",
       "    <tr>\n",
       "      <th>2</th>\n",
       "      <td>1970-01-08 17:12:39.100</td>\n",
       "      <td>-34.741</td>\n",
       "      <td>178.568</td>\n",
       "      <td>179.0</td>\n",
       "      <td>6.1</td>\n",
       "      <td>Mb</td>\n",
       "      <td>59.0</td>\n",
       "      <td>NaN</td>\n",
       "      <td>NaN</td>\n",
       "      <td>0.0</td>\n",
       "      <td>NEI</td>\n",
       "      <td>1.970011e+09</td>\n",
       "    </tr>\n",
       "    <tr>\n",
       "      <th>3</th>\n",
       "      <td>1970-01-10 12:07:08.600</td>\n",
       "      <td>6.825</td>\n",
       "      <td>126.737</td>\n",
       "      <td>73.0</td>\n",
       "      <td>6.1</td>\n",
       "      <td>Mb</td>\n",
       "      <td>91.0</td>\n",
       "      <td>NaN</td>\n",
       "      <td>NaN</td>\n",
       "      <td>0.0</td>\n",
       "      <td>NEI</td>\n",
       "      <td>1.970011e+09</td>\n",
       "    </tr>\n",
       "    <tr>\n",
       "      <th>4</th>\n",
       "      <td>1970-01-16 08:05:39.000</td>\n",
       "      <td>60.280</td>\n",
       "      <td>-152.660</td>\n",
       "      <td>85.0</td>\n",
       "      <td>6.0</td>\n",
       "      <td>ML</td>\n",
       "      <td>0.0</td>\n",
       "      <td>NaN</td>\n",
       "      <td>NaN</td>\n",
       "      <td>NaN</td>\n",
       "      <td>AK</td>\n",
       "      <td>NaN</td>\n",
       "    </tr>\n",
       "  </tbody>\n",
       "</table>\n",
       "</div>"
      ],
      "text/plain": [
       "                 DateTime  Latitude  Longitude  Depth  Magnitude MagType  \\\n",
       "0 1970-01-04 17:00:40.200    24.139    102.503   31.0        7.5      Ms   \n",
       "1 1970-01-06 05:35:51.800    -9.628    151.458    8.0        6.2      Ms   \n",
       "2 1970-01-08 17:12:39.100   -34.741    178.568  179.0        6.1      Mb   \n",
       "3 1970-01-10 12:07:08.600     6.825    126.737   73.0        6.1      Mb   \n",
       "4 1970-01-16 08:05:39.000    60.280   -152.660   85.0        6.0      ML   \n",
       "\n",
       "   NbStations  Gap  Distance  RMS Source       EventID  \n",
       "0        90.0  NaN       NaN  0.0    NEI  1.970010e+09  \n",
       "1        85.0  NaN       NaN  0.0    NEI  1.970011e+09  \n",
       "2        59.0  NaN       NaN  0.0    NEI  1.970011e+09  \n",
       "3        91.0  NaN       NaN  0.0    NEI  1.970011e+09  \n",
       "4         0.0  NaN       NaN  NaN     AK           NaN  "
      ]
     },
     "execution_count": 4,
     "metadata": {},
     "output_type": "execute_result"
    }
   ],
   "source": [
    "# Load the data and print the first 5 rows\n",
    "earthquakes = pd.read_csv(\"../input/geospatial-learn-course-data/earthquakes1970-2014.csv\", parse_dates=[\"DateTime\"])\n",
    "earthquakes.head()"
   ]
  },
  {
   "cell_type": "markdown",
   "id": "e4f3c965",
   "metadata": {
    "papermill": {
     "duration": 0.007823,
     "end_time": "2022-12-22T23:44:20.189049",
     "exception": false,
     "start_time": "2022-12-22T23:44:20.181226",
     "status": "completed"
    },
    "tags": []
   },
   "source": [
    "The code cell below visualizes the plate boundaries on a map.  Use all of the earthquake data to add a heatmap to the same map, to determine whether earthquakes coincide with plate boundaries.  "
   ]
  },
  {
   "cell_type": "code",
   "execution_count": 5,
   "id": "f37564f5",
   "metadata": {
    "execution": {
     "iopub.execute_input": "2022-12-22T23:44:20.207697Z",
     "iopub.status.busy": "2022-12-22T23:44:20.207262Z",
     "iopub.status.idle": "2022-12-22T23:44:20.665967Z",
     "shell.execute_reply": "2022-12-22T23:44:20.664550Z"
    },
    "papermill": {
     "duration": 0.470986,
     "end_time": "2022-12-22T23:44:20.668389",
     "exception": false,
     "start_time": "2022-12-22T23:44:20.197403",
     "status": "completed"
    },
    "tags": []
   },
   "outputs": [
    {
     "data": {
      "text/html": [
       "\n",
       "        <iframe\n",
       "            width=\"100%\"\n",
       "            height=\"500px\"\n",
       "            src=\"q_1.html\"\n",
       "            frameborder=\"0\"\n",
       "            allowfullscreen\n",
       "            \n",
       "        ></iframe>\n",
       "        "
      ],
      "text/plain": [
       "<IPython.lib.display.IFrame at 0x7f35580e7b50>"
      ]
     },
     "execution_count": 5,
     "metadata": {},
     "output_type": "execute_result"
    }
   ],
   "source": [
    "# Create a base map with plate boundaries\n",
    "m_1 = folium.Map(location=[35,136], tiles='cartodbpositron', zoom_start=5)\n",
    "for i in range(len(plate_boundaries)):\n",
    "    folium.PolyLine(locations=plate_boundaries.coordinates.iloc[i], weight=2, color='black').add_to(m_1)\n",
    "\n",
    "# Your code here: Add a heatmap to the map\n",
    "HeatMap(data=earthquakes[['Latitude', 'Longitude']], radius=15).add_to(m_1)\n",
    "\n",
    "# Uncomment to see a hint\n",
    "#q_1.a.hint()\n",
    "\n",
    "# Show the map\n",
    "embed_map(m_1, 'q_1.html')"
   ]
  },
  {
   "cell_type": "code",
   "execution_count": 6,
   "id": "a76d4cfc",
   "metadata": {
    "execution": {
     "iopub.execute_input": "2022-12-22T23:44:20.688992Z",
     "iopub.status.busy": "2022-12-22T23:44:20.688455Z",
     "iopub.status.idle": "2022-12-22T23:44:20.701367Z",
     "shell.execute_reply": "2022-12-22T23:44:20.699995Z"
    },
    "papermill": {
     "duration": 0.027115,
     "end_time": "2022-12-22T23:44:20.704074",
     "exception": false,
     "start_time": "2022-12-22T23:44:20.676959",
     "status": "completed"
    },
    "tags": []
   },
   "outputs": [
    {
     "data": {
      "application/javascript": [
       "parent.postMessage({\"jupyterEvent\": \"custom.exercise_interaction\", \"data\": {\"outcomeType\": 1, \"valueTowardsCompletion\": 1.0, \"interactionType\": 1, \"questionType\": 2, \"questionId\": \"1.1_Q1P\", \"learnToolsVersion\": \"0.3.4\", \"failureMessage\": \"\", \"exceptionClass\": \"\", \"trace\": \"\"}}, \"*\")"
      ],
      "text/plain": [
       "<IPython.core.display.Javascript object>"
      ]
     },
     "metadata": {},
     "output_type": "display_data"
    },
    {
     "data": {
      "text/markdown": [
       "<span style=\"color:#33cc33\">Thank you for creating a map!</span>"
      ],
      "text/plain": [
       "Thank you for creating a map!"
      ]
     },
     "metadata": {},
     "output_type": "display_data"
    }
   ],
   "source": [
    "# Get credit for your work after you have created a map\n",
    "q_1.a.check()\n",
    "\n",
    "# Uncomment to see our solution (your code may look different!)\n",
    "#q_1.a.solution()"
   ]
  },
  {
   "cell_type": "markdown",
   "id": "77a84245",
   "metadata": {
    "papermill": {
     "duration": 0.008845,
     "end_time": "2022-12-22T23:44:20.721896",
     "exception": false,
     "start_time": "2022-12-22T23:44:20.713051",
     "status": "completed"
    },
    "tags": []
   },
   "source": [
    "So, given the map above, do earthquakes coincide with plate boundaries?"
   ]
  },
  {
   "cell_type": "code",
   "execution_count": 7,
   "id": "5e5451f9",
   "metadata": {
    "execution": {
     "iopub.execute_input": "2022-12-22T23:44:20.742370Z",
     "iopub.status.busy": "2022-12-22T23:44:20.741923Z",
     "iopub.status.idle": "2022-12-22T23:44:20.750976Z",
     "shell.execute_reply": "2022-12-22T23:44:20.750105Z"
    },
    "papermill": {
     "duration": 0.02227,
     "end_time": "2022-12-22T23:44:20.753058",
     "exception": false,
     "start_time": "2022-12-22T23:44:20.730788",
     "status": "completed"
    },
    "tags": []
   },
   "outputs": [
    {
     "data": {
      "application/javascript": [
       "parent.postMessage({\"jupyterEvent\": \"custom.exercise_interaction\", \"data\": {\"interactionType\": 3, \"questionType\": 4, \"questionId\": \"1.2_Q1T\", \"learnToolsVersion\": \"0.3.4\", \"valueTowardsCompletion\": 0.0, \"failureMessage\": \"\", \"exceptionClass\": \"\", \"trace\": \"\", \"outcomeType\": 4}}, \"*\")"
      ],
      "text/plain": [
       "<IPython.core.display.Javascript object>"
      ]
     },
     "metadata": {},
     "output_type": "display_data"
    },
    {
     "data": {
      "text/markdown": [
       "<span style=\"color:#33cc99\">Solution:</span> Yes, earthquakes coincide with plate boundaries."
      ],
      "text/plain": [
       "Solution: Yes, earthquakes coincide with plate boundaries."
      ]
     },
     "metadata": {},
     "output_type": "display_data"
    }
   ],
   "source": [
    "# View the solution (Run this code cell to receive credit!)\n",
    "q_1.b.solution()"
   ]
  },
  {
   "cell_type": "markdown",
   "id": "6e3439f6",
   "metadata": {
    "papermill": {
     "duration": 0.008502,
     "end_time": "2022-12-22T23:44:20.770377",
     "exception": false,
     "start_time": "2022-12-22T23:44:20.761875",
     "status": "completed"
    },
    "tags": []
   },
   "source": [
    "### 2) Is there a relationship between earthquake depth and proximity to a plate boundary in Japan?\n",
    "\n",
    "You recently read that the depth of earthquakes tells us [important information](https://www.usgs.gov/faqs/what-depth-do-earthquakes-occur-what-significance-depth?qt-news_science_products=0#qt-news_science_products) about the structure of the earth.  You're interested to see if there are any intereresting global patterns, and you'd also like to understand how depth varies in Japan.\n",
    "\n"
   ]
  },
  {
   "cell_type": "code",
   "execution_count": 8,
   "id": "7f2b535b",
   "metadata": {
    "execution": {
     "iopub.execute_input": "2022-12-22T23:44:20.791035Z",
     "iopub.status.busy": "2022-12-22T23:44:20.790523Z",
     "iopub.status.idle": "2022-12-22T23:44:27.622422Z",
     "shell.execute_reply": "2022-12-22T23:44:27.621503Z"
    },
    "papermill": {
     "duration": 6.845813,
     "end_time": "2022-12-22T23:44:27.625016",
     "exception": false,
     "start_time": "2022-12-22T23:44:20.779203",
     "status": "completed"
    },
    "tags": []
   },
   "outputs": [
    {
     "data": {
      "text/html": [
       "\n",
       "        <iframe\n",
       "            width=\"100%\"\n",
       "            height=\"500px\"\n",
       "            src=\"q_2.html\"\n",
       "            frameborder=\"0\"\n",
       "            allowfullscreen\n",
       "            \n",
       "        ></iframe>\n",
       "        "
      ],
      "text/plain": [
       "<IPython.lib.display.IFrame at 0x7f35569a3610>"
      ]
     },
     "execution_count": 8,
     "metadata": {},
     "output_type": "execute_result"
    }
   ],
   "source": [
    "# Create a base map with plate boundaries\n",
    "m_2 = folium.Map(location=[35,136], tiles='cartodbpositron', zoom_start=5)\n",
    "for i in range(len(plate_boundaries)):\n",
    "    folium.PolyLine(locations=plate_boundaries.coordinates.iloc[i], weight=2, color='black').add_to(m_2)\n",
    "    \n",
    "# Your code here: Add a map to visualize earthquake depth\n",
    "# Custom function to assign a color to each circle\n",
    "def color_producer(val):\n",
    "    if val < 50:\n",
    "        return 'forestgreen'\n",
    "    elif val < 100:\n",
    "        return 'darkorange'\n",
    "    else:\n",
    "        return 'darkred'\n",
    "    \n",
    "for i in range(0,len(earthquakes)):\n",
    "    folium.Circle(\n",
    "        location=[earthquakes.iloc[i]['Latitude'], earthquakes.iloc[i]['Longitude']],\n",
    "        radius=2000,\n",
    "        color=color_producer(earthquakes.iloc[i]['Depth'])).add_to(m_2)\n",
    "    \n",
    "# Uncomment to see a hint\n",
    "#q_2.a.hint()\n",
    "\n",
    "# View the map\n",
    "embed_map(m_2, 'q_2.html')"
   ]
  },
  {
   "cell_type": "code",
   "execution_count": 9,
   "id": "2207089d",
   "metadata": {
    "execution": {
     "iopub.execute_input": "2022-12-22T23:44:27.647265Z",
     "iopub.status.busy": "2022-12-22T23:44:27.646172Z",
     "iopub.status.idle": "2022-12-22T23:44:27.657281Z",
     "shell.execute_reply": "2022-12-22T23:44:27.656088Z"
    },
    "papermill": {
     "duration": 0.024527,
     "end_time": "2022-12-22T23:44:27.659847",
     "exception": false,
     "start_time": "2022-12-22T23:44:27.635320",
     "status": "completed"
    },
    "tags": []
   },
   "outputs": [
    {
     "data": {
      "application/javascript": [
       "parent.postMessage({\"jupyterEvent\": \"custom.exercise_interaction\", \"data\": {\"outcomeType\": 1, \"valueTowardsCompletion\": 1.0, \"interactionType\": 1, \"questionType\": 2, \"questionId\": \"2.1_Q2P\", \"learnToolsVersion\": \"0.3.4\", \"failureMessage\": \"\", \"exceptionClass\": \"\", \"trace\": \"\"}}, \"*\")"
      ],
      "text/plain": [
       "<IPython.core.display.Javascript object>"
      ]
     },
     "metadata": {},
     "output_type": "display_data"
    },
    {
     "data": {
      "text/markdown": [
       "<span style=\"color:#33cc33\">Thank you for creating a map!</span>"
      ],
      "text/plain": [
       "Thank you for creating a map!"
      ]
     },
     "metadata": {},
     "output_type": "display_data"
    }
   ],
   "source": [
    "# Get credit for your work after you have created a map\n",
    "q_2.a.check()\n",
    "\n",
    "# Uncomment to see our solution (your code may look different!)\n",
    "#q_2.a.solution()"
   ]
  },
  {
   "cell_type": "markdown",
   "id": "671e12cf",
   "metadata": {
    "papermill": {
     "duration": 0.009131,
     "end_time": "2022-12-22T23:44:27.678638",
     "exception": false,
     "start_time": "2022-12-22T23:44:27.669507",
     "status": "completed"
    },
    "tags": []
   },
   "source": [
    "Can you detect a relationship between proximity to a plate boundary and earthquake depth?  Does this pattern hold globally?  In Japan?"
   ]
  },
  {
   "cell_type": "code",
   "execution_count": 10,
   "id": "80093126",
   "metadata": {
    "execution": {
     "iopub.execute_input": "2022-12-22T23:44:27.702642Z",
     "iopub.status.busy": "2022-12-22T23:44:27.700839Z",
     "iopub.status.idle": "2022-12-22T23:44:27.712453Z",
     "shell.execute_reply": "2022-12-22T23:44:27.711517Z"
    },
    "papermill": {
     "duration": 0.025778,
     "end_time": "2022-12-22T23:44:27.714572",
     "exception": false,
     "start_time": "2022-12-22T23:44:27.688794",
     "status": "completed"
    },
    "tags": []
   },
   "outputs": [
    {
     "data": {
      "application/javascript": [
       "parent.postMessage({\"jupyterEvent\": \"custom.exercise_interaction\", \"data\": {\"interactionType\": 3, \"questionType\": 4, \"questionId\": \"2.2_Q2T\", \"learnToolsVersion\": \"0.3.4\", \"valueTowardsCompletion\": 0.0, \"failureMessage\": \"\", \"exceptionClass\": \"\", \"trace\": \"\", \"outcomeType\": 4}}, \"*\")"
      ],
      "text/plain": [
       "<IPython.core.display.Javascript object>"
      ]
     },
     "metadata": {},
     "output_type": "display_data"
    },
    {
     "data": {
      "text/markdown": [
       "<span style=\"color:#33cc99\">Solution:</span> In the northern half of Japan, it does appear that earthquakes closer to plate boundaries tend to be shallower (and earthquakes farther from plate boundaries are deeper).  This pattern is repeated in other locations, such as the western coast of South America.  But, it does not hold everywhere (for instance, in China, Mongolia, and Russia)."
      ],
      "text/plain": [
       "Solution: In the northern half of Japan, it does appear that earthquakes closer to plate boundaries tend to be shallower (and earthquakes farther from plate boundaries are deeper).  This pattern is repeated in other locations, such as the western coast of South America.  But, it does not hold everywhere (for instance, in China, Mongolia, and Russia)."
      ]
     },
     "metadata": {},
     "output_type": "display_data"
    }
   ],
   "source": [
    "# View the solution (Run this code cell to receive credit!)\n",
    "q_2.b.solution()"
   ]
  },
  {
   "cell_type": "markdown",
   "id": "0efcd7cc",
   "metadata": {
    "papermill": {
     "duration": 0.00925,
     "end_time": "2022-12-22T23:44:27.733596",
     "exception": false,
     "start_time": "2022-12-22T23:44:27.724346",
     "status": "completed"
    },
    "tags": []
   },
   "source": [
    "### 3) Which prefectures have high population density?\n",
    "\n",
    "Run the next code cell (without changes) to create a GeoDataFrame `prefectures` that contains the geographical boundaries of Japanese prefectures."
   ]
  },
  {
   "cell_type": "code",
   "execution_count": 11,
   "id": "2e0922aa",
   "metadata": {
    "execution": {
     "iopub.execute_input": "2022-12-22T23:44:27.756425Z",
     "iopub.status.busy": "2022-12-22T23:44:27.755946Z",
     "iopub.status.idle": "2022-12-22T23:44:28.841040Z",
     "shell.execute_reply": "2022-12-22T23:44:28.839658Z"
    },
    "papermill": {
     "duration": 1.100386,
     "end_time": "2022-12-22T23:44:28.843684",
     "exception": false,
     "start_time": "2022-12-22T23:44:27.743298",
     "status": "completed"
    },
    "tags": []
   },
   "outputs": [
    {
     "data": {
      "text/html": [
       "<div>\n",
       "<style scoped>\n",
       "    .dataframe tbody tr th:only-of-type {\n",
       "        vertical-align: middle;\n",
       "    }\n",
       "\n",
       "    .dataframe tbody tr th {\n",
       "        vertical-align: top;\n",
       "    }\n",
       "\n",
       "    .dataframe thead th {\n",
       "        text-align: right;\n",
       "    }\n",
       "</style>\n",
       "<table border=\"1\" class=\"dataframe\">\n",
       "  <thead>\n",
       "    <tr style=\"text-align: right;\">\n",
       "      <th></th>\n",
       "      <th>geometry</th>\n",
       "    </tr>\n",
       "    <tr>\n",
       "      <th>prefecture</th>\n",
       "      <th></th>\n",
       "    </tr>\n",
       "  </thead>\n",
       "  <tbody>\n",
       "    <tr>\n",
       "      <th>Aichi</th>\n",
       "      <td>MULTIPOLYGON (((137.09523 34.65330, 137.09546 ...</td>\n",
       "    </tr>\n",
       "    <tr>\n",
       "      <th>Akita</th>\n",
       "      <td>MULTIPOLYGON (((139.55725 39.20330, 139.55765 ...</td>\n",
       "    </tr>\n",
       "    <tr>\n",
       "      <th>Aomori</th>\n",
       "      <td>MULTIPOLYGON (((141.39860 40.92472, 141.39806 ...</td>\n",
       "    </tr>\n",
       "    <tr>\n",
       "      <th>Chiba</th>\n",
       "      <td>MULTIPOLYGON (((139.82488 34.98967, 139.82434 ...</td>\n",
       "    </tr>\n",
       "    <tr>\n",
       "      <th>Ehime</th>\n",
       "      <td>MULTIPOLYGON (((132.55859 32.91224, 132.55904 ...</td>\n",
       "    </tr>\n",
       "  </tbody>\n",
       "</table>\n",
       "</div>"
      ],
      "text/plain": [
       "                                                     geometry\n",
       "prefecture                                                   \n",
       "Aichi       MULTIPOLYGON (((137.09523 34.65330, 137.09546 ...\n",
       "Akita       MULTIPOLYGON (((139.55725 39.20330, 139.55765 ...\n",
       "Aomori      MULTIPOLYGON (((141.39860 40.92472, 141.39806 ...\n",
       "Chiba       MULTIPOLYGON (((139.82488 34.98967, 139.82434 ...\n",
       "Ehime       MULTIPOLYGON (((132.55859 32.91224, 132.55904 ..."
      ]
     },
     "execution_count": 11,
     "metadata": {},
     "output_type": "execute_result"
    }
   ],
   "source": [
    "# GeoDataFrame with prefecture boundaries\n",
    "prefectures = gpd.read_file(\"../input/geospatial-learn-course-data/japan-prefecture-boundaries/japan-prefecture-boundaries/japan-prefecture-boundaries.shp\")\n",
    "prefectures.set_index('prefecture', inplace=True)\n",
    "prefectures.head()"
   ]
  },
  {
   "cell_type": "markdown",
   "id": "f883b178",
   "metadata": {
    "papermill": {
     "duration": 0.009417,
     "end_time": "2022-12-22T23:44:28.863355",
     "exception": false,
     "start_time": "2022-12-22T23:44:28.853938",
     "status": "completed"
    },
    "tags": []
   },
   "source": [
    "The next code cell creates a DataFrame `stats` containing the population, area (in square kilometers), and population density (per square kilometer) for each Japanese prefecture.  Run the code cell without changes."
   ]
  },
  {
   "cell_type": "code",
   "execution_count": 12,
   "id": "815a129c",
   "metadata": {
    "execution": {
     "iopub.execute_input": "2022-12-22T23:44:28.886819Z",
     "iopub.status.busy": "2022-12-22T23:44:28.885605Z",
     "iopub.status.idle": "2022-12-22T23:44:29.314313Z",
     "shell.execute_reply": "2022-12-22T23:44:29.313120Z"
    },
    "papermill": {
     "duration": 0.443798,
     "end_time": "2022-12-22T23:44:29.316964",
     "exception": false,
     "start_time": "2022-12-22T23:44:28.873166",
     "status": "completed"
    },
    "tags": []
   },
   "outputs": [
    {
     "data": {
      "text/html": [
       "<div>\n",
       "<style scoped>\n",
       "    .dataframe tbody tr th:only-of-type {\n",
       "        vertical-align: middle;\n",
       "    }\n",
       "\n",
       "    .dataframe tbody tr th {\n",
       "        vertical-align: top;\n",
       "    }\n",
       "\n",
       "    .dataframe thead th {\n",
       "        text-align: right;\n",
       "    }\n",
       "</style>\n",
       "<table border=\"1\" class=\"dataframe\">\n",
       "  <thead>\n",
       "    <tr style=\"text-align: right;\">\n",
       "      <th></th>\n",
       "      <th>population</th>\n",
       "      <th>area_sqkm</th>\n",
       "      <th>density</th>\n",
       "    </tr>\n",
       "    <tr>\n",
       "      <th>prefecture</th>\n",
       "      <th></th>\n",
       "      <th></th>\n",
       "      <th></th>\n",
       "    </tr>\n",
       "  </thead>\n",
       "  <tbody>\n",
       "    <tr>\n",
       "      <th>Tokyo</th>\n",
       "      <td>12868000</td>\n",
       "      <td>1800.614782</td>\n",
       "      <td>7146.448049</td>\n",
       "    </tr>\n",
       "    <tr>\n",
       "      <th>Kanagawa</th>\n",
       "      <td>8943000</td>\n",
       "      <td>2383.038975</td>\n",
       "      <td>3752.771186</td>\n",
       "    </tr>\n",
       "    <tr>\n",
       "      <th>Osaka</th>\n",
       "      <td>8801000</td>\n",
       "      <td>1923.151529</td>\n",
       "      <td>4576.342460</td>\n",
       "    </tr>\n",
       "    <tr>\n",
       "      <th>Aichi</th>\n",
       "      <td>7418000</td>\n",
       "      <td>5164.400005</td>\n",
       "      <td>1436.372085</td>\n",
       "    </tr>\n",
       "    <tr>\n",
       "      <th>Saitama</th>\n",
       "      <td>7130000</td>\n",
       "      <td>3794.036890</td>\n",
       "      <td>1879.264806</td>\n",
       "    </tr>\n",
       "  </tbody>\n",
       "</table>\n",
       "</div>"
      ],
      "text/plain": [
       "            population    area_sqkm      density\n",
       "prefecture                                      \n",
       "Tokyo         12868000  1800.614782  7146.448049\n",
       "Kanagawa       8943000  2383.038975  3752.771186\n",
       "Osaka          8801000  1923.151529  4576.342460\n",
       "Aichi          7418000  5164.400005  1436.372085\n",
       "Saitama        7130000  3794.036890  1879.264806"
      ]
     },
     "execution_count": 12,
     "metadata": {},
     "output_type": "execute_result"
    }
   ],
   "source": [
    "# DataFrame containing population of each prefecture\n",
    "population = pd.read_csv(\"../input/geospatial-learn-course-data/japan-prefecture-population.csv\")\n",
    "population.set_index('prefecture', inplace=True)\n",
    "\n",
    "# Calculate area (in square kilometers) of each prefecture\n",
    "area_sqkm = pd.Series(prefectures.geometry.to_crs(epsg=32654).area / 10**6, name='area_sqkm')\n",
    "stats = population.join(area_sqkm)\n",
    "\n",
    "# Add density (per square kilometer) of each prefecture\n",
    "stats['density'] = stats[\"population\"] / stats[\"area_sqkm\"]\n",
    "stats.head()"
   ]
  },
  {
   "cell_type": "markdown",
   "id": "2584eef4",
   "metadata": {
    "papermill": {
     "duration": 0.009983,
     "end_time": "2022-12-22T23:44:29.337076",
     "exception": false,
     "start_time": "2022-12-22T23:44:29.327093",
     "status": "completed"
    },
    "tags": []
   },
   "source": [
    "Use the next code cell to create a choropleth map to visualize population density."
   ]
  },
  {
   "cell_type": "code",
   "execution_count": 13,
   "id": "22b514e6",
   "metadata": {
    "execution": {
     "iopub.execute_input": "2022-12-22T23:44:29.359107Z",
     "iopub.status.busy": "2022-12-22T23:44:29.358090Z",
     "iopub.status.idle": "2022-12-22T23:44:35.680087Z",
     "shell.execute_reply": "2022-12-22T23:44:35.678821Z"
    },
    "papermill": {
     "duration": 6.336162,
     "end_time": "2022-12-22T23:44:35.682814",
     "exception": false,
     "start_time": "2022-12-22T23:44:29.346652",
     "status": "completed"
    },
    "tags": []
   },
   "outputs": [
    {
     "data": {
      "text/html": [
       "\n",
       "        <iframe\n",
       "            width=\"100%\"\n",
       "            height=\"500px\"\n",
       "            src=\"q_3.html\"\n",
       "            frameborder=\"0\"\n",
       "            allowfullscreen\n",
       "            \n",
       "        ></iframe>\n",
       "        "
      ],
      "text/plain": [
       "<IPython.lib.display.IFrame at 0x7f3556075a10>"
      ]
     },
     "execution_count": 13,
     "metadata": {},
     "output_type": "execute_result"
    }
   ],
   "source": [
    "# Create a base map\n",
    "m_3 = folium.Map(location=[35,136], tiles='cartodbpositron', zoom_start=5)\n",
    "\n",
    "# Your code here: create a choropleth map to visualize population density\n",
    "Choropleth(geo_data=prefectures['geometry'].__geo_interface__,\n",
    "           data=stats['density'],\n",
    "           key_on=\"feature.id\",\n",
    "           fill_color='YlGnBu',\n",
    "           legend_name='Population density (per square kilometer)'\n",
    "          ).add_to(m_3)\n",
    "\n",
    "# Uncomment to see a hint\n",
    "#q_3.a.hint()\n",
    "\n",
    "# View the map\n",
    "embed_map(m_3, 'q_3.html')"
   ]
  },
  {
   "cell_type": "code",
   "execution_count": 14,
   "id": "b051f365",
   "metadata": {
    "execution": {
     "iopub.execute_input": "2022-12-22T23:44:35.705205Z",
     "iopub.status.busy": "2022-12-22T23:44:35.704708Z",
     "iopub.status.idle": "2022-12-22T23:44:35.715263Z",
     "shell.execute_reply": "2022-12-22T23:44:35.713791Z"
    },
    "papermill": {
     "duration": 0.025196,
     "end_time": "2022-12-22T23:44:35.717840",
     "exception": false,
     "start_time": "2022-12-22T23:44:35.692644",
     "status": "completed"
    },
    "tags": []
   },
   "outputs": [
    {
     "data": {
      "application/javascript": [
       "parent.postMessage({\"jupyterEvent\": \"custom.exercise_interaction\", \"data\": {\"outcomeType\": 1, \"valueTowardsCompletion\": 1.0, \"interactionType\": 1, \"questionType\": 2, \"questionId\": \"3.1_Q3P\", \"learnToolsVersion\": \"0.3.4\", \"failureMessage\": \"\", \"exceptionClass\": \"\", \"trace\": \"\"}}, \"*\")"
      ],
      "text/plain": [
       "<IPython.core.display.Javascript object>"
      ]
     },
     "metadata": {},
     "output_type": "display_data"
    },
    {
     "data": {
      "text/markdown": [
       "<span style=\"color:#33cc33\">Thank you for creating a map!</span>"
      ],
      "text/plain": [
       "Thank you for creating a map!"
      ]
     },
     "metadata": {},
     "output_type": "display_data"
    }
   ],
   "source": [
    "# Get credit for your work after you have created a map\n",
    "q_3.a.check()\n",
    "\n",
    "# Uncomment to see our solution (your code may look different!)\n",
    "#q_3.a.solution()"
   ]
  },
  {
   "cell_type": "markdown",
   "id": "0d436346",
   "metadata": {
    "papermill": {
     "duration": 0.009731,
     "end_time": "2022-12-22T23:44:35.737931",
     "exception": false,
     "start_time": "2022-12-22T23:44:35.728200",
     "status": "completed"
    },
    "tags": []
   },
   "source": [
    "Which three prefectures have relatively higher density than the others?  Are they spread throughout the country, or all located in roughly the same geographical region?  (*If you're unfamiliar with Japanese geography, you might find [this map](https://en.wikipedia.org/wiki/Prefectures_of_Japan) useful to answer the questions.)*"
   ]
  },
  {
   "cell_type": "code",
   "execution_count": 15,
   "id": "302957ff",
   "metadata": {
    "execution": {
     "iopub.execute_input": "2022-12-22T23:44:35.761238Z",
     "iopub.status.busy": "2022-12-22T23:44:35.759635Z",
     "iopub.status.idle": "2022-12-22T23:44:35.771083Z",
     "shell.execute_reply": "2022-12-22T23:44:35.769990Z"
    },
    "papermill": {
     "duration": 0.025618,
     "end_time": "2022-12-22T23:44:35.773517",
     "exception": false,
     "start_time": "2022-12-22T23:44:35.747899",
     "status": "completed"
    },
    "tags": []
   },
   "outputs": [
    {
     "data": {
      "application/javascript": [
       "parent.postMessage({\"jupyterEvent\": \"custom.exercise_interaction\", \"data\": {\"interactionType\": 3, \"questionType\": 4, \"questionId\": \"3.2_Q3T\", \"learnToolsVersion\": \"0.3.4\", \"valueTowardsCompletion\": 0.0, \"failureMessage\": \"\", \"exceptionClass\": \"\", \"trace\": \"\", \"outcomeType\": 4}}, \"*\")"
      ],
      "text/plain": [
       "<IPython.core.display.Javascript object>"
      ]
     },
     "metadata": {},
     "output_type": "display_data"
    },
    {
     "data": {
      "text/markdown": [
       "<span style=\"color:#33cc99\">Solution:</span> Tokyo, Kanagawa, and Osaka have the highest population density.  All of these prefectures are located in central Japan, and Tokyo and Kanagawa are adjacent."
      ],
      "text/plain": [
       "Solution: Tokyo, Kanagawa, and Osaka have the highest population density.  All of these prefectures are located in central Japan, and Tokyo and Kanagawa are adjacent."
      ]
     },
     "metadata": {},
     "output_type": "display_data"
    }
   ],
   "source": [
    "# View the solution (Run this code cell to receive credit!)\n",
    "q_3.b.solution()"
   ]
  },
  {
   "cell_type": "markdown",
   "id": "863ea382",
   "metadata": {
    "papermill": {
     "duration": 0.010537,
     "end_time": "2022-12-22T23:44:35.794372",
     "exception": false,
     "start_time": "2022-12-22T23:44:35.783835",
     "status": "completed"
    },
    "tags": []
   },
   "source": [
    "### 4) Which high-density prefecture is prone to high-magnitude earthquakes?\n",
    "\n",
    "Create a map to suggest one prefecture that might benefit from earthquake reinforcement.  Your map should visualize both density and earthquake magnitude."
   ]
  },
  {
   "cell_type": "code",
   "execution_count": 16,
   "id": "14abc5ff",
   "metadata": {
    "execution": {
     "iopub.execute_input": "2022-12-22T23:44:35.818008Z",
     "iopub.status.busy": "2022-12-22T23:44:35.817301Z",
     "iopub.status.idle": "2022-12-22T23:44:55.768275Z",
     "shell.execute_reply": "2022-12-22T23:44:55.766830Z"
    },
    "papermill": {
     "duration": 19.965834,
     "end_time": "2022-12-22T23:44:55.770909",
     "exception": false,
     "start_time": "2022-12-22T23:44:35.805075",
     "status": "completed"
    },
    "tags": []
   },
   "outputs": [
    {
     "data": {
      "text/html": [
       "\n",
       "        <iframe\n",
       "            width=\"100%\"\n",
       "            height=\"500px\"\n",
       "            src=\"q_4.html\"\n",
       "            frameborder=\"0\"\n",
       "            allowfullscreen\n",
       "            \n",
       "        ></iframe>\n",
       "        "
      ],
      "text/plain": [
       "<IPython.lib.display.IFrame at 0x7f35485671d0>"
      ]
     },
     "execution_count": 16,
     "metadata": {},
     "output_type": "execute_result"
    }
   ],
   "source": [
    "# Create a base map\n",
    "m_4 = folium.Map(location=[35,136], tiles='cartodbpositron', zoom_start=5)\n",
    "\n",
    "# Your code here: create a map\n",
    "def color_producer(magnitude):\n",
    "    if magnitude > 6.5:\n",
    "        return 'red'\n",
    "    else:\n",
    "        return 'green'\n",
    "\n",
    "Choropleth(\n",
    "    geo_data=prefectures['geometry'].__geo_interface__,\n",
    "    data=stats['density'],\n",
    "    key_on=\"feature.id\",\n",
    "    fill_color='BuPu',\n",
    "    legend_name='Population density (per square kilometer)').add_to(m_4)\n",
    "\n",
    "for i in range(0,len(earthquakes)):\n",
    "    folium.Circle(\n",
    "        location=[earthquakes.iloc[i]['Latitude'], earthquakes.iloc[i]['Longitude']],\n",
    "        popup=(\"{} ({})\").format(\n",
    "            earthquakes.iloc[i]['Magnitude'],\n",
    "            earthquakes.iloc[i]['DateTime'].year),\n",
    "        radius=earthquakes.iloc[i]['Magnitude']**5.5,\n",
    "        color=color_producer(earthquakes.iloc[i]['Magnitude'])).add_to(m_4)\n",
    "\n",
    "# Uncomment to see a hint\n",
    "#q_4.a.hint()\n",
    "\n",
    "# View the map\n",
    "embed_map(m_4, 'q_4.html')"
   ]
  },
  {
   "cell_type": "code",
   "execution_count": 17,
   "id": "0ca44dc5",
   "metadata": {
    "execution": {
     "iopub.execute_input": "2022-12-22T23:44:55.793851Z",
     "iopub.status.busy": "2022-12-22T23:44:55.793406Z",
     "iopub.status.idle": "2022-12-22T23:44:55.803836Z",
     "shell.execute_reply": "2022-12-22T23:44:55.802523Z"
    },
    "papermill": {
     "duration": 0.025107,
     "end_time": "2022-12-22T23:44:55.806499",
     "exception": false,
     "start_time": "2022-12-22T23:44:55.781392",
     "status": "completed"
    },
    "tags": []
   },
   "outputs": [
    {
     "data": {
      "application/javascript": [
       "parent.postMessage({\"jupyterEvent\": \"custom.exercise_interaction\", \"data\": {\"outcomeType\": 1, \"valueTowardsCompletion\": 1.0, \"interactionType\": 1, \"questionType\": 2, \"questionId\": \"4.1_Q4P\", \"learnToolsVersion\": \"0.3.4\", \"failureMessage\": \"\", \"exceptionClass\": \"\", \"trace\": \"\"}}, \"*\")"
      ],
      "text/plain": [
       "<IPython.core.display.Javascript object>"
      ]
     },
     "metadata": {},
     "output_type": "display_data"
    },
    {
     "data": {
      "text/markdown": [
       "<span style=\"color:#33cc33\">Thank you for creating a map!</span>"
      ],
      "text/plain": [
       "Thank you for creating a map!"
      ]
     },
     "metadata": {},
     "output_type": "display_data"
    }
   ],
   "source": [
    "# Get credit for your work after you have created a map\n",
    "q_4.a.check()\n",
    "\n",
    "# Uncomment to see our solution (your code may look different!)\n",
    "#q_4.a.solution()"
   ]
  },
  {
   "cell_type": "markdown",
   "id": "8e593724",
   "metadata": {
    "papermill": {
     "duration": 0.010373,
     "end_time": "2022-12-22T23:44:55.827915",
     "exception": false,
     "start_time": "2022-12-22T23:44:55.817542",
     "status": "completed"
    },
    "tags": []
   },
   "source": [
    "Which prefecture do you recommend for extra earthquake reinforcement?"
   ]
  },
  {
   "cell_type": "code",
   "execution_count": 18,
   "id": "52e0e3a2",
   "metadata": {
    "execution": {
     "iopub.execute_input": "2022-12-22T23:44:55.852182Z",
     "iopub.status.busy": "2022-12-22T23:44:55.851713Z",
     "iopub.status.idle": "2022-12-22T23:44:55.863062Z",
     "shell.execute_reply": "2022-12-22T23:44:55.861480Z"
    },
    "papermill": {
     "duration": 0.026439,
     "end_time": "2022-12-22T23:44:55.865446",
     "exception": false,
     "start_time": "2022-12-22T23:44:55.839007",
     "status": "completed"
    },
    "tags": []
   },
   "outputs": [
    {
     "data": {
      "application/javascript": [
       "parent.postMessage({\"jupyterEvent\": \"custom.exercise_interaction\", \"data\": {\"interactionType\": 3, \"questionType\": 4, \"questionId\": \"4.2_Q4T\", \"learnToolsVersion\": \"0.3.4\", \"valueTowardsCompletion\": 0.0, \"failureMessage\": \"\", \"exceptionClass\": \"\", \"trace\": \"\", \"outcomeType\": 4}}, \"*\")"
      ],
      "text/plain": [
       "<IPython.core.display.Javascript object>"
      ]
     },
     "metadata": {},
     "output_type": "display_data"
    },
    {
     "data": {
      "text/markdown": [
       "<span style=\"color:#33cc99\">Solution:</span> While there's no clear, single answer to this question, there are a few reasonable options. **Tokyo** is by far the most densely populated prefecture and has also experienced a number of earthquakes.  **Osaka** is relatively less densely populated, but experienced an earthquake that was relatively stronger than those near Tokyo.  And, the long coast of **Kanagawa** (in addition to its high density and the historical proximity of strong earthquakes) might lead us to worry about the added potential tsunami risk."
      ],
      "text/plain": [
       "Solution: While there's no clear, single answer to this question, there are a few reasonable options. **Tokyo** is by far the most densely populated prefecture and has also experienced a number of earthquakes.  **Osaka** is relatively less densely populated, but experienced an earthquake that was relatively stronger than those near Tokyo.  And, the long coast of **Kanagawa** (in addition to its high density and the historical proximity of strong earthquakes) might lead us to worry about the added potential tsunami risk."
      ]
     },
     "metadata": {},
     "output_type": "display_data"
    }
   ],
   "source": [
    "# View the solution (Run this code cell to receive credit!)\n",
    "q_4.b.solution()"
   ]
  },
  {
   "cell_type": "markdown",
   "id": "8a21cb93",
   "metadata": {
    "papermill": {
     "duration": 0.010903,
     "end_time": "2022-12-22T23:44:55.888114",
     "exception": false,
     "start_time": "2022-12-22T23:44:55.877211",
     "status": "completed"
    },
    "tags": []
   },
   "source": [
    "# Keep going\n",
    "\n",
    "Learn how to convert names of places to geographic coordinates with **[geocoding](https://www.kaggle.com/alexisbcook/manipulating-geospatial-data)**.  You'll also explore special ways to join information from multiple GeoDataFrames."
   ]
  },
  {
   "cell_type": "markdown",
   "id": "68003d13",
   "metadata": {
    "papermill": {
     "duration": 0.010936,
     "end_time": "2022-12-22T23:44:55.910482",
     "exception": false,
     "start_time": "2022-12-22T23:44:55.899546",
     "status": "completed"
    },
    "tags": []
   },
   "source": [
    "---\n",
    "\n",
    "\n",
    "\n",
    "\n",
    "*Have questions or comments? Visit the [course discussion forum](https://www.kaggle.com/learn/geospatial-analysis/discussion) to chat with other learners.*"
   ]
  }
 ],
 "metadata": {
  "kernelspec": {
   "display_name": "Python 3",
   "language": "python",
   "name": "python3"
  },
  "language_info": {
   "codemirror_mode": {
    "name": "ipython",
    "version": 3
   },
   "file_extension": ".py",
   "mimetype": "text/x-python",
   "name": "python",
   "nbconvert_exporter": "python",
   "pygments_lexer": "ipython3",
   "version": "3.7.12"
  },
  "papermill": {
   "default_parameters": {},
   "duration": 49.796215,
   "end_time": "2022-12-22T23:44:57.548336",
   "environment_variables": {},
   "exception": null,
   "input_path": "__notebook__.ipynb",
   "output_path": "__notebook__.ipynb",
   "parameters": {},
   "start_time": "2022-12-22T23:44:07.752121",
   "version": "2.3.4"
  }
 },
 "nbformat": 4,
 "nbformat_minor": 5
}
