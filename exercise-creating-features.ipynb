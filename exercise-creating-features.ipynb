{
 "cells": [
  {
   "cell_type": "markdown",
   "id": "e3f14c92",
   "metadata": {
    "papermill": {
     "duration": 0.007122,
     "end_time": "2023-02-19T15:54:27.299880",
     "exception": false,
     "start_time": "2023-02-19T15:54:27.292758",
     "status": "completed"
    },
    "tags": []
   },
   "source": [
    "**This notebook is an exercise in the [Feature Engineering](https://www.kaggle.com/learn/feature-engineering) course.  You can reference the tutorial at [this link](https://www.kaggle.com/ryanholbrook/creating-features).**\n",
    "\n",
    "---\n"
   ]
  },
  {
   "cell_type": "markdown",
   "id": "d3823b9d",
   "metadata": {
    "papermill": {
     "duration": 0.005442,
     "end_time": "2023-02-19T15:54:27.311962",
     "exception": false,
     "start_time": "2023-02-19T15:54:27.306520",
     "status": "completed"
    },
    "tags": []
   },
   "source": [
    "# Introduction #\n",
    "\n",
    "In this exercise you'll start developing the features you identified in Exercise 2 as having the most potential. As you work through this exercise, you might take a moment to look at the data documentation again and consider whether the features we're creating make sense from a real-world perspective, and whether there are any useful combinations that stand out to you.\n",
    "\n",
    "Run this cell to set everything up!"
   ]
  },
  {
   "cell_type": "code",
   "execution_count": 1,
   "id": "08dec12f",
   "metadata": {
    "execution": {
     "iopub.execute_input": "2023-02-19T15:54:27.326331Z",
     "iopub.status.busy": "2023-02-19T15:54:27.325320Z",
     "iopub.status.idle": "2023-02-19T15:54:28.589842Z",
     "shell.execute_reply": "2023-02-19T15:54:28.588679Z"
    },
    "papermill": {
     "duration": 1.275245,
     "end_time": "2023-02-19T15:54:28.592899",
     "exception": false,
     "start_time": "2023-02-19T15:54:27.317654",
     "status": "completed"
    },
    "tags": []
   },
   "outputs": [],
   "source": [
    "# Setup feedback system\n",
    "from learntools.core import binder\n",
    "binder.bind(globals())\n",
    "from learntools.feature_engineering_new.ex3 import *\n",
    "\n",
    "import numpy as np\n",
    "import pandas as pd\n",
    "from sklearn.model_selection import cross_val_score\n",
    "from xgboost import XGBRegressor\n",
    "\n",
    "\n",
    "def score_dataset(X, y, model=XGBRegressor()):\n",
    "    # Label encoding for categoricals\n",
    "    for colname in X.select_dtypes([\"category\", \"object\"]):\n",
    "        X[colname], _ = X[colname].factorize()\n",
    "    # Metric for Housing competition is RMSLE (Root Mean Squared Log Error)\n",
    "    score = cross_val_score(\n",
    "        model, X, y, cv=5, scoring=\"neg_mean_squared_log_error\",\n",
    "    )\n",
    "    score = -1 * score.mean()\n",
    "    score = np.sqrt(score)\n",
    "    return score\n",
    "\n",
    "\n",
    "# Prepare data\n",
    "df = pd.read_csv(\"../input/fe-course-data/ames.csv\")\n",
    "X = df.copy()\n",
    "y = X.pop(\"SalePrice\")"
   ]
  },
  {
   "cell_type": "markdown",
   "id": "e5b4c16a",
   "metadata": {
    "papermill": {
     "duration": 0.005419,
     "end_time": "2023-02-19T15:54:28.604516",
     "exception": false,
     "start_time": "2023-02-19T15:54:28.599097",
     "status": "completed"
    },
    "tags": []
   },
   "source": [
    "-------------------------------------------------------------------------------\n",
    "\n",
    "Let's start with a few mathematical combinations. We'll focus on features describing areas -- having the same units (square-feet) makes it easy to combine them in sensible ways. Since we're using XGBoost (a tree-based model), we'll focus on ratios and sums.\n",
    "\n",
    "# 1) Create Mathematical Transforms\n",
    "\n",
    "Create the following features:\n",
    "\n",
    "- `LivLotRatio`: the ratio of `GrLivArea` to `LotArea`\n",
    "- `Spaciousness`: the sum of `FirstFlrSF` and `SecondFlrSF` divided by `TotRmsAbvGrd`\n",
    "- `TotalOutsideSF`: the sum of `WoodDeckSF`, `OpenPorchSF`, `EnclosedPorch`, `Threeseasonporch`, and `ScreenPorch`"
   ]
  },
  {
   "cell_type": "code",
   "execution_count": 2,
   "id": "f5adfc15",
   "metadata": {
    "execution": {
     "iopub.execute_input": "2023-02-19T15:54:28.618190Z",
     "iopub.status.busy": "2023-02-19T15:54:28.617450Z",
     "iopub.status.idle": "2023-02-19T15:54:28.647230Z",
     "shell.execute_reply": "2023-02-19T15:54:28.646023Z"
    },
    "lines_to_next_cell": 0,
    "papermill": {
     "duration": 0.039373,
     "end_time": "2023-02-19T15:54:28.649725",
     "exception": false,
     "start_time": "2023-02-19T15:54:28.610352",
     "status": "completed"
    },
    "tags": []
   },
   "outputs": [
    {
     "data": {
      "application/javascript": [
       "parent.postMessage({\"jupyterEvent\": \"custom.exercise_interaction\", \"data\": {\"outcomeType\": 1, \"valueTowardsCompletion\": 0.2, \"interactionType\": 1, \"questionType\": 2, \"questionId\": \"1_Q1\", \"learnToolsVersion\": \"0.3.4\", \"failureMessage\": \"\", \"exceptionClass\": \"\", \"trace\": \"\"}}, \"*\")"
      ],
      "text/plain": [
       "<IPython.core.display.Javascript object>"
      ]
     },
     "metadata": {},
     "output_type": "display_data"
    },
    {
     "data": {
      "text/markdown": [
       "<span style=\"color:#33cc33\">Correct</span>"
      ],
      "text/plain": [
       "Correct"
      ]
     },
     "metadata": {},
     "output_type": "display_data"
    }
   ],
   "source": [
    "# YOUR CODE HERE\n",
    "X_1 = pd.DataFrame()  # dataframe to hold new features\n",
    "\n",
    "X_1[\"LivLotRatio\"] = df.GrLivArea / df.LotArea\n",
    "X_1[\"Spaciousness\"] = (df.FirstFlrSF + df.SecondFlrSF) / df.TotRmsAbvGrd\n",
    "X_1[\"TotalOutsideSF\"] = df.WoodDeckSF + df.OpenPorchSF + df.EnclosedPorch + df.Threeseasonporch + df.ScreenPorch\n",
    "\n",
    "\n",
    "# Check your answer\n",
    "q_1.check()"
   ]
  },
  {
   "cell_type": "code",
   "execution_count": 3,
   "id": "a47d397f",
   "metadata": {
    "execution": {
     "iopub.execute_input": "2023-02-19T15:54:28.664209Z",
     "iopub.status.busy": "2023-02-19T15:54:28.663763Z",
     "iopub.status.idle": "2023-02-19T15:54:28.668326Z",
     "shell.execute_reply": "2023-02-19T15:54:28.667036Z"
    },
    "lines_to_next_cell": 0,
    "papermill": {
     "duration": 0.015539,
     "end_time": "2023-02-19T15:54:28.671454",
     "exception": false,
     "start_time": "2023-02-19T15:54:28.655915",
     "status": "completed"
    },
    "tags": []
   },
   "outputs": [],
   "source": [
    "# Lines below will give you a hint or solution code\n",
    "#q_1.hint()\n",
    "#q_1.solution()"
   ]
  },
  {
   "cell_type": "markdown",
   "id": "4a41532d",
   "metadata": {
    "papermill": {
     "duration": 0.006306,
     "end_time": "2023-02-19T15:54:28.686024",
     "exception": false,
     "start_time": "2023-02-19T15:54:28.679718",
     "status": "completed"
    },
    "tags": []
   },
   "source": [
    "-------------------------------------------------------------------------------\n",
    "\n",
    "If you've discovered an interaction effect between a numeric feature and a categorical feature, you might want to model it explicitly using a one-hot encoding, like so:\n",
    "\n",
    "```\n",
    "# One-hot encode Categorical feature, adding a column prefix \"Cat\"\n",
    "X_new = pd.get_dummies(df.Categorical, prefix=\"Cat\")\n",
    "\n",
    "# Multiply row-by-row\n",
    "X_new = X_new.mul(df.Continuous, axis=0)\n",
    "\n",
    "# Join the new features to the feature set\n",
    "X = X.join(X_new)\n",
    "```\n",
    "\n",
    "# 2) Interaction with a Categorical\n",
    "\n",
    "We discovered an interaction between `BldgType` and `GrLivArea` in Exercise 2. Now create their interaction features."
   ]
  },
  {
   "cell_type": "code",
   "execution_count": 4,
   "id": "135e35f6",
   "metadata": {
    "execution": {
     "iopub.execute_input": "2023-02-19T15:54:28.703494Z",
     "iopub.status.busy": "2023-02-19T15:54:28.702956Z",
     "iopub.status.idle": "2023-02-19T15:54:28.721650Z",
     "shell.execute_reply": "2023-02-19T15:54:28.720510Z"
    },
    "lines_to_next_cell": 0,
    "papermill": {
     "duration": 0.031866,
     "end_time": "2023-02-19T15:54:28.725366",
     "exception": false,
     "start_time": "2023-02-19T15:54:28.693500",
     "status": "completed"
    },
    "tags": []
   },
   "outputs": [
    {
     "data": {
      "application/javascript": [
       "parent.postMessage({\"jupyterEvent\": \"custom.exercise_interaction\", \"data\": {\"outcomeType\": 1, \"valueTowardsCompletion\": 0.2, \"interactionType\": 1, \"questionType\": 2, \"questionId\": \"2_Q2\", \"learnToolsVersion\": \"0.3.4\", \"failureMessage\": \"\", \"exceptionClass\": \"\", \"trace\": \"\"}}, \"*\")"
      ],
      "text/plain": [
       "<IPython.core.display.Javascript object>"
      ]
     },
     "metadata": {},
     "output_type": "display_data"
    },
    {
     "data": {
      "text/markdown": [
       "<span style=\"color:#33cc33\">Correct</span>"
      ],
      "text/plain": [
       "Correct"
      ]
     },
     "metadata": {},
     "output_type": "display_data"
    }
   ],
   "source": [
    "# YOUR CODE HERE\n",
    "# One-hot encode BldgType. Use `prefix=\"Bldg\"` in `get_dummies`\n",
    "X_2 = pd.get_dummies(df.BldgType, prefix=\"Bldg\") \n",
    "# Multiply\n",
    "X_2 = X_2.mul(df.GrLivArea, axis=0)\n",
    "\n",
    "\n",
    "# Check your answer\n",
    "q_2.check()"
   ]
  },
  {
   "cell_type": "code",
   "execution_count": 5,
   "id": "c0d12833",
   "metadata": {
    "execution": {
     "iopub.execute_input": "2023-02-19T15:54:28.745048Z",
     "iopub.status.busy": "2023-02-19T15:54:28.743941Z",
     "iopub.status.idle": "2023-02-19T15:54:28.748915Z",
     "shell.execute_reply": "2023-02-19T15:54:28.748092Z"
    },
    "lines_to_next_cell": 0,
    "papermill": {
     "duration": 0.017185,
     "end_time": "2023-02-19T15:54:28.751369",
     "exception": false,
     "start_time": "2023-02-19T15:54:28.734184",
     "status": "completed"
    },
    "tags": []
   },
   "outputs": [],
   "source": [
    "# Lines below will give you a hint or solution code\n",
    "#q_2.hint()\n",
    "#q_2.solution()"
   ]
  },
  {
   "cell_type": "markdown",
   "id": "303a2b9c",
   "metadata": {
    "lines_to_next_cell": 0,
    "papermill": {
     "duration": 0.006197,
     "end_time": "2023-02-19T15:54:28.763977",
     "exception": false,
     "start_time": "2023-02-19T15:54:28.757780",
     "status": "completed"
    },
    "tags": []
   },
   "source": [
    "# 3) Count Feature\n",
    "\n",
    "Let's try creating a feature that describes how many kinds of outdoor areas a dwelling has. Create a feature `PorchTypes` that counts how many of the following are greater than 0.0:\n",
    "\n",
    "```\n",
    "WoodDeckSF\n",
    "OpenPorchSF\n",
    "EnclosedPorch\n",
    "Threeseasonporch\n",
    "ScreenPorch\n",
    "```"
   ]
  },
  {
   "cell_type": "code",
   "execution_count": 6,
   "id": "73de3cf5",
   "metadata": {
    "execution": {
     "iopub.execute_input": "2023-02-19T15:54:28.785342Z",
     "iopub.status.busy": "2023-02-19T15:54:28.778905Z",
     "iopub.status.idle": "2023-02-19T15:54:28.804480Z",
     "shell.execute_reply": "2023-02-19T15:54:28.803374Z"
    },
    "lines_to_next_cell": 0,
    "papermill": {
     "duration": 0.035917,
     "end_time": "2023-02-19T15:54:28.806781",
     "exception": false,
     "start_time": "2023-02-19T15:54:28.770864",
     "status": "completed"
    },
    "tags": []
   },
   "outputs": [
    {
     "data": {
      "application/javascript": [
       "parent.postMessage({\"jupyterEvent\": \"custom.exercise_interaction\", \"data\": {\"outcomeType\": 1, \"valueTowardsCompletion\": 0.2, \"interactionType\": 1, \"questionType\": 2, \"questionId\": \"3_Q3\", \"learnToolsVersion\": \"0.3.4\", \"failureMessage\": \"\", \"exceptionClass\": \"\", \"trace\": \"\"}}, \"*\")"
      ],
      "text/plain": [
       "<IPython.core.display.Javascript object>"
      ]
     },
     "metadata": {},
     "output_type": "display_data"
    },
    {
     "data": {
      "text/markdown": [
       "<span style=\"color:#33cc33\">Correct</span>"
      ],
      "text/plain": [
       "Correct"
      ]
     },
     "metadata": {},
     "output_type": "display_data"
    }
   ],
   "source": [
    "X_3 = pd.DataFrame()\n",
    "\n",
    "# YOUR CODE HERE\n",
    "X_3[\"PorchTypes\"] = df[[\n",
    "    \"WoodDeckSF\",\n",
    "    \"OpenPorchSF\",\n",
    "    \"EnclosedPorch\",\n",
    "    \"Threeseasonporch\",\n",
    "    \"ScreenPorch\",\n",
    "]].gt(0.0).sum(axis=1)\n",
    "\n",
    "\n",
    "# Check your answer\n",
    "q_3.check()"
   ]
  },
  {
   "cell_type": "code",
   "execution_count": 7,
   "id": "68cd8646",
   "metadata": {
    "execution": {
     "iopub.execute_input": "2023-02-19T15:54:28.822992Z",
     "iopub.status.busy": "2023-02-19T15:54:28.822025Z",
     "iopub.status.idle": "2023-02-19T15:54:28.827496Z",
     "shell.execute_reply": "2023-02-19T15:54:28.826331Z"
    },
    "lines_to_next_cell": 0,
    "papermill": {
     "duration": 0.016715,
     "end_time": "2023-02-19T15:54:28.830121",
     "exception": false,
     "start_time": "2023-02-19T15:54:28.813406",
     "status": "completed"
    },
    "tags": []
   },
   "outputs": [],
   "source": [
    "# Lines below will give you a hint or solution code\n",
    "#q_3.hint()\n",
    "#q_3.solution()"
   ]
  },
  {
   "cell_type": "markdown",
   "id": "dd6f5e93",
   "metadata": {
    "papermill": {
     "duration": 0.006408,
     "end_time": "2023-02-19T15:54:28.843352",
     "exception": false,
     "start_time": "2023-02-19T15:54:28.836944",
     "status": "completed"
    },
    "tags": []
   },
   "source": [
    "# 4) Break Down a Categorical Feature\n",
    "\n",
    "`MSSubClass` describes the type of a dwelling:"
   ]
  },
  {
   "cell_type": "code",
   "execution_count": 8,
   "id": "1e27abca",
   "metadata": {
    "execution": {
     "iopub.execute_input": "2023-02-19T15:54:28.861289Z",
     "iopub.status.busy": "2023-02-19T15:54:28.860192Z",
     "iopub.status.idle": "2023-02-19T15:54:28.869584Z",
     "shell.execute_reply": "2023-02-19T15:54:28.868428Z"
    },
    "papermill": {
     "duration": 0.020866,
     "end_time": "2023-02-19T15:54:28.872299",
     "exception": false,
     "start_time": "2023-02-19T15:54:28.851433",
     "status": "completed"
    },
    "tags": []
   },
   "outputs": [
    {
     "data": {
      "text/plain": [
       "array(['One_Story_1946_and_Newer_All_Styles', 'Two_Story_1946_and_Newer',\n",
       "       'One_Story_PUD_1946_and_Newer',\n",
       "       'One_and_Half_Story_Finished_All_Ages', 'Split_Foyer',\n",
       "       'Two_Story_PUD_1946_and_Newer', 'Split_or_Multilevel',\n",
       "       'One_Story_1945_and_Older', 'Duplex_All_Styles_and_Ages',\n",
       "       'Two_Family_conversion_All_Styles_and_Ages',\n",
       "       'One_and_Half_Story_Unfinished_All_Ages',\n",
       "       'Two_Story_1945_and_Older', 'Two_and_Half_Story_All_Ages',\n",
       "       'One_Story_with_Finished_Attic_All_Ages',\n",
       "       'PUD_Multilevel_Split_Level_Foyer',\n",
       "       'One_and_Half_Story_PUD_All_Ages'], dtype=object)"
      ]
     },
     "execution_count": 8,
     "metadata": {},
     "output_type": "execute_result"
    }
   ],
   "source": [
    "df.MSSubClass.unique()"
   ]
  },
  {
   "cell_type": "markdown",
   "id": "c359800e",
   "metadata": {
    "papermill": {
     "duration": 0.006435,
     "end_time": "2023-02-19T15:54:28.885575",
     "exception": false,
     "start_time": "2023-02-19T15:54:28.879140",
     "status": "completed"
    },
    "tags": []
   },
   "source": [
    "You can see that there is a more general categorization described (roughly) by the first word of each category. Create a feature containing only these first words by splitting `MSSubClass` at the first underscore `_`. (Hint: In the `split` method use an argument `n=1`.)"
   ]
  },
  {
   "cell_type": "code",
   "execution_count": 9,
   "id": "fefa303a",
   "metadata": {
    "execution": {
     "iopub.execute_input": "2023-02-19T15:54:28.904875Z",
     "iopub.status.busy": "2023-02-19T15:54:28.904340Z",
     "iopub.status.idle": "2023-02-19T15:54:28.936274Z",
     "shell.execute_reply": "2023-02-19T15:54:28.935305Z"
    },
    "lines_to_next_cell": 0,
    "papermill": {
     "duration": 0.045629,
     "end_time": "2023-02-19T15:54:28.939018",
     "exception": false,
     "start_time": "2023-02-19T15:54:28.893389",
     "status": "completed"
    },
    "tags": []
   },
   "outputs": [
    {
     "data": {
      "application/javascript": [
       "parent.postMessage({\"jupyterEvent\": \"custom.exercise_interaction\", \"data\": {\"outcomeType\": 1, \"valueTowardsCompletion\": 0.2, \"interactionType\": 1, \"questionType\": 2, \"questionId\": \"4_Q4\", \"learnToolsVersion\": \"0.3.4\", \"failureMessage\": \"\", \"exceptionClass\": \"\", \"trace\": \"\"}}, \"*\")"
      ],
      "text/plain": [
       "<IPython.core.display.Javascript object>"
      ]
     },
     "metadata": {},
     "output_type": "display_data"
    },
    {
     "data": {
      "text/markdown": [
       "<span style=\"color:#33cc33\">Correct</span>"
      ],
      "text/plain": [
       "Correct"
      ]
     },
     "metadata": {},
     "output_type": "display_data"
    }
   ],
   "source": [
    "X_4 = pd.DataFrame()\n",
    "\n",
    "# YOUR CODE HERE\n",
    "X_4[\"MSClass\"] = df.MSSubClass.str.split(\"_\", n=1, expand=True)[0]\n",
    "\n",
    "# Check your answer\n",
    "q_4.check()"
   ]
  },
  {
   "cell_type": "code",
   "execution_count": 10,
   "id": "149d0617",
   "metadata": {
    "execution": {
     "iopub.execute_input": "2023-02-19T15:54:28.961555Z",
     "iopub.status.busy": "2023-02-19T15:54:28.960539Z",
     "iopub.status.idle": "2023-02-19T15:54:28.965865Z",
     "shell.execute_reply": "2023-02-19T15:54:28.964671Z"
    },
    "lines_to_next_cell": 0,
    "papermill": {
     "duration": 0.019277,
     "end_time": "2023-02-19T15:54:28.968382",
     "exception": false,
     "start_time": "2023-02-19T15:54:28.949105",
     "status": "completed"
    },
    "tags": []
   },
   "outputs": [],
   "source": [
    "# Lines below will give you a hint or solution code\n",
    "#q_4.hint()\n",
    "#q_4.solution()"
   ]
  },
  {
   "cell_type": "markdown",
   "id": "3133a854",
   "metadata": {
    "papermill": {
     "duration": 0.008199,
     "end_time": "2023-02-19T15:54:28.983865",
     "exception": false,
     "start_time": "2023-02-19T15:54:28.975666",
     "status": "completed"
    },
    "tags": []
   },
   "source": [
    "# 5) Use a Grouped Transform\n",
    "\n",
    "The value of a home often depends on how it compares to typical homes in its neighborhood. Create a feature `MedNhbdArea` that describes the *median* of `GrLivArea` grouped on `Neighborhood`."
   ]
  },
  {
   "cell_type": "code",
   "execution_count": 11,
   "id": "c4f29eb1",
   "metadata": {
    "execution": {
     "iopub.execute_input": "2023-02-19T15:54:29.000854Z",
     "iopub.status.busy": "2023-02-19T15:54:28.999940Z",
     "iopub.status.idle": "2023-02-19T15:54:29.023433Z",
     "shell.execute_reply": "2023-02-19T15:54:29.021834Z"
    },
    "lines_to_next_cell": 0,
    "papermill": {
     "duration": 0.03514,
     "end_time": "2023-02-19T15:54:29.026311",
     "exception": false,
     "start_time": "2023-02-19T15:54:28.991171",
     "status": "completed"
    },
    "tags": []
   },
   "outputs": [
    {
     "data": {
      "application/javascript": [
       "parent.postMessage({\"jupyterEvent\": \"custom.exercise_interaction\", \"data\": {\"outcomeType\": 1, \"valueTowardsCompletion\": 0.2, \"interactionType\": 1, \"questionType\": 2, \"questionId\": \"5_Q5\", \"learnToolsVersion\": \"0.3.4\", \"failureMessage\": \"\", \"exceptionClass\": \"\", \"trace\": \"\"}}, \"*\")"
      ],
      "text/plain": [
       "<IPython.core.display.Javascript object>"
      ]
     },
     "metadata": {},
     "output_type": "display_data"
    },
    {
     "data": {
      "text/markdown": [
       "<span style=\"color:#33cc33\">Correct</span>"
      ],
      "text/plain": [
       "Correct"
      ]
     },
     "metadata": {},
     "output_type": "display_data"
    }
   ],
   "source": [
    "X_5 = pd.DataFrame()\n",
    "\n",
    "# YOUR CODE HERE\n",
    "X_5[\"MedNhbdArea\"] = df.groupby(\"Neighborhood\")[\"GrLivArea\"].transform(\"median\")\n",
    "\n",
    "# Check your answer\n",
    "q_5.check()"
   ]
  },
  {
   "cell_type": "code",
   "execution_count": 12,
   "id": "4c43a1a9",
   "metadata": {
    "execution": {
     "iopub.execute_input": "2023-02-19T15:54:29.043454Z",
     "iopub.status.busy": "2023-02-19T15:54:29.042941Z",
     "iopub.status.idle": "2023-02-19T15:54:29.048457Z",
     "shell.execute_reply": "2023-02-19T15:54:29.047188Z"
    },
    "lines_to_next_cell": 0,
    "papermill": {
     "duration": 0.017287,
     "end_time": "2023-02-19T15:54:29.051170",
     "exception": false,
     "start_time": "2023-02-19T15:54:29.033883",
     "status": "completed"
    },
    "tags": []
   },
   "outputs": [],
   "source": [
    "# Lines below will give you a hint or solution code\n",
    "#q_5.hint()\n",
    "#q_5.solution()"
   ]
  },
  {
   "cell_type": "markdown",
   "id": "b50b34df",
   "metadata": {
    "papermill": {
     "duration": 0.00702,
     "end_time": "2023-02-19T15:54:29.066176",
     "exception": false,
     "start_time": "2023-02-19T15:54:29.059156",
     "status": "completed"
    },
    "tags": []
   },
   "source": [
    "Now you've made your first new feature set! If you like, you can run the cell below to score the model with all of your new features added:"
   ]
  },
  {
   "cell_type": "code",
   "execution_count": 13,
   "id": "e7c6b374",
   "metadata": {
    "execution": {
     "iopub.execute_input": "2023-02-19T15:54:29.086018Z",
     "iopub.status.busy": "2023-02-19T15:54:29.085591Z",
     "iopub.status.idle": "2023-02-19T15:54:34.545642Z",
     "shell.execute_reply": "2023-02-19T15:54:34.544678Z"
    },
    "papermill": {
     "duration": 5.473043,
     "end_time": "2023-02-19T15:54:34.547998",
     "exception": false,
     "start_time": "2023-02-19T15:54:29.074955",
     "status": "completed"
    },
    "tags": []
   },
   "outputs": [
    {
     "data": {
      "text/plain": [
       "0.13847331710099203"
      ]
     },
     "execution_count": 13,
     "metadata": {},
     "output_type": "execute_result"
    }
   ],
   "source": [
    "X_new = X.join([X_1, X_2, X_3, X_4, X_5])\n",
    "score_dataset(X_new, y)"
   ]
  },
  {
   "cell_type": "markdown",
   "id": "0bda9a67",
   "metadata": {
    "papermill": {
     "duration": 0.007076,
     "end_time": "2023-02-19T15:54:34.562349",
     "exception": false,
     "start_time": "2023-02-19T15:54:34.555273",
     "status": "completed"
    },
    "tags": []
   },
   "source": [
    "# Keep Going #\n",
    "\n",
    "[**Untangle spatial relationships**](https://www.kaggle.com/ryanholbrook/clustering-with-k-means) by adding cluster labels to your dataset."
   ]
  },
  {
   "cell_type": "markdown",
   "id": "a5f624de",
   "metadata": {
    "papermill": {
     "duration": 0.007085,
     "end_time": "2023-02-19T15:54:34.577099",
     "exception": false,
     "start_time": "2023-02-19T15:54:34.570014",
     "status": "completed"
    },
    "tags": []
   },
   "source": [
    "---\n",
    "\n",
    "\n",
    "\n",
    "\n",
    "*Have questions or comments? Visit the [course discussion forum](https://www.kaggle.com/learn/feature-engineering/discussion) to chat with other learners.*"
   ]
  }
 ],
 "metadata": {
  "kernelspec": {
   "display_name": "Python 3",
   "language": "python",
   "name": "python3"
  },
  "language_info": {
   "codemirror_mode": {
    "name": "ipython",
    "version": 3
   },
   "file_extension": ".py",
   "mimetype": "text/x-python",
   "name": "python",
   "nbconvert_exporter": "python",
   "pygments_lexer": "ipython3",
   "version": "3.7.12"
  },
  "papermill": {
   "default_parameters": {},
   "duration": 16.716205,
   "end_time": "2023-02-19T15:54:35.306099",
   "environment_variables": {},
   "exception": null,
   "input_path": "__notebook__.ipynb",
   "output_path": "__notebook__.ipynb",
   "parameters": {},
   "start_time": "2023-02-19T15:54:18.589894",
   "version": "2.3.4"
  }
 },
 "nbformat": 4,
 "nbformat_minor": 5
}
