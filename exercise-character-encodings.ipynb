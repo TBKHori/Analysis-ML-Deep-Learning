{
 "cells": [
  {
   "cell_type": "markdown",
   "id": "8fc2762c",
   "metadata": {
    "papermill": {
     "duration": 0.005987,
     "end_time": "2023-04-10T22:42:19.228776",
     "exception": false,
     "start_time": "2023-04-10T22:42:19.222789",
     "status": "completed"
    },
    "tags": []
   },
   "source": [
    "**This notebook is an exercise in the [Data Cleaning](https://www.kaggle.com/learn/data-cleaning) course.  You can reference the tutorial at [this link](https://www.kaggle.com/alexisbcook/character-encodings).**\n",
    "\n",
    "---\n"
   ]
  },
  {
   "cell_type": "markdown",
   "id": "1708ebb6",
   "metadata": {
    "papermill": {
     "duration": 0.004454,
     "end_time": "2023-04-10T22:42:19.238076",
     "exception": false,
     "start_time": "2023-04-10T22:42:19.233622",
     "status": "completed"
    },
    "tags": []
   },
   "source": [
    "In this exercise, you'll apply what you learned in the **Character encodings** tutorial.\n",
    "\n",
    "# Setup\n",
    "\n",
    "The questions below will give you feedback on your work. Run the following cell to set up the feedback system."
   ]
  },
  {
   "cell_type": "code",
   "execution_count": 1,
   "id": "c30eeb94",
   "metadata": {
    "execution": {
     "iopub.execute_input": "2023-04-10T22:42:19.249825Z",
     "iopub.status.busy": "2023-04-10T22:42:19.249095Z",
     "iopub.status.idle": "2023-04-10T22:42:19.326894Z",
     "shell.execute_reply": "2023-04-10T22:42:19.325667Z"
    },
    "papermill": {
     "duration": 0.086267,
     "end_time": "2023-04-10T22:42:19.329302",
     "exception": false,
     "start_time": "2023-04-10T22:42:19.243035",
     "status": "completed"
    },
    "tags": []
   },
   "outputs": [
    {
     "name": "stdout",
     "output_type": "stream",
     "text": [
      "Setup Complete\n"
     ]
    }
   ],
   "source": [
    "from learntools.core import binder\n",
    "binder.bind(globals())\n",
    "from learntools.data_cleaning.ex4 import *\n",
    "print(\"Setup Complete\")"
   ]
  },
  {
   "cell_type": "markdown",
   "id": "450b6f34",
   "metadata": {
    "papermill": {
     "duration": 0.00443,
     "end_time": "2023-04-10T22:42:19.338572",
     "exception": false,
     "start_time": "2023-04-10T22:42:19.334142",
     "status": "completed"
    },
    "tags": []
   },
   "source": [
    "# Get our environment set up\n",
    "\n",
    "The first thing we'll need to do is load in the libraries we'll be using."
   ]
  },
  {
   "cell_type": "code",
   "execution_count": 2,
   "id": "585ccc2e",
   "metadata": {
    "execution": {
     "iopub.execute_input": "2023-04-10T22:42:19.349305Z",
     "iopub.status.busy": "2023-04-10T22:42:19.348926Z",
     "iopub.status.idle": "2023-04-10T22:42:19.354260Z",
     "shell.execute_reply": "2023-04-10T22:42:19.353111Z"
    },
    "papermill": {
     "duration": 0.013448,
     "end_time": "2023-04-10T22:42:19.356528",
     "exception": false,
     "start_time": "2023-04-10T22:42:19.343080",
     "status": "completed"
    },
    "tags": []
   },
   "outputs": [],
   "source": [
    "# modules we'll use\n",
    "import pandas as pd\n",
    "import numpy as np\n",
    "\n",
    "# helpful character encoding module\n",
    "import charset_normalizer\n",
    "\n",
    "# set seed for reproducibility\n",
    "np.random.seed(0)"
   ]
  },
  {
   "cell_type": "markdown",
   "id": "dd4c550c",
   "metadata": {
    "papermill": {
     "duration": 0.004344,
     "end_time": "2023-04-10T22:42:19.365436",
     "exception": false,
     "start_time": "2023-04-10T22:42:19.361092",
     "status": "completed"
    },
    "tags": []
   },
   "source": [
    "# 1) What are encodings?\n",
    "\n",
    "You're working with a dataset composed of bytes.  Run the code cell below to print a sample entry."
   ]
  },
  {
   "cell_type": "code",
   "execution_count": 3,
   "id": "ce31c43a",
   "metadata": {
    "execution": {
     "iopub.execute_input": "2023-04-10T22:42:19.375746Z",
     "iopub.status.busy": "2023-04-10T22:42:19.375392Z",
     "iopub.status.idle": "2023-04-10T22:42:19.381224Z",
     "shell.execute_reply": "2023-04-10T22:42:19.379819Z"
    },
    "papermill": {
     "duration": 0.013579,
     "end_time": "2023-04-10T22:42:19.383509",
     "exception": false,
     "start_time": "2023-04-10T22:42:19.369930",
     "status": "completed"
    },
    "tags": []
   },
   "outputs": [
    {
     "name": "stdout",
     "output_type": "stream",
     "text": [
      "b'\\xa7A\\xa6n'\n",
      "data type: <class 'bytes'>\n"
     ]
    }
   ],
   "source": [
    "sample_entry = b'\\xa7A\\xa6n'\n",
    "print(sample_entry)\n",
    "print('data type:', type(sample_entry))"
   ]
  },
  {
   "cell_type": "markdown",
   "id": "cbb21d19",
   "metadata": {
    "papermill": {
     "duration": 0.004397,
     "end_time": "2023-04-10T22:42:19.392440",
     "exception": false,
     "start_time": "2023-04-10T22:42:19.388043",
     "status": "completed"
    },
    "tags": []
   },
   "source": [
    "You notice that it doesn't use the standard UTF-8 encoding. \n",
    "\n",
    "Use the next code cell to create a variable `new_entry` that changes the encoding from `\"big5-tw\"` to `\"utf-8\"`.  `new_entry` should have the bytes datatype."
   ]
  },
  {
   "cell_type": "code",
   "execution_count": 4,
   "id": "bbf07635",
   "metadata": {
    "execution": {
     "iopub.execute_input": "2023-04-10T22:42:19.402951Z",
     "iopub.status.busy": "2023-04-10T22:42:19.402525Z",
     "iopub.status.idle": "2023-04-10T22:42:19.411495Z",
     "shell.execute_reply": "2023-04-10T22:42:19.410508Z"
    },
    "papermill": {
     "duration": 0.016942,
     "end_time": "2023-04-10T22:42:19.413893",
     "exception": false,
     "start_time": "2023-04-10T22:42:19.396951",
     "status": "completed"
    },
    "tags": []
   },
   "outputs": [
    {
     "data": {
      "application/javascript": [
       "parent.postMessage({\"jupyterEvent\": \"custom.exercise_interaction\", \"data\": {\"outcomeType\": 1, \"valueTowardsCompletion\": 0.3333333333333333, \"interactionType\": 1, \"questionType\": 1, \"questionId\": \"1_EncodingsIntro\", \"learnToolsVersion\": \"0.3.4\", \"failureMessage\": \"\", \"exceptionClass\": \"\", \"trace\": \"\"}}, \"*\")"
      ],
      "text/plain": [
       "<IPython.core.display.Javascript object>"
      ]
     },
     "metadata": {},
     "output_type": "display_data"
    },
    {
     "data": {
      "text/markdown": [
       "<span style=\"color:#33cc33\">Correct</span>"
      ],
      "text/plain": [
       "Correct"
      ]
     },
     "metadata": {},
     "output_type": "display_data"
    }
   ],
   "source": [
    "before = sample_entry.decode(\"big5-tw\")\n",
    "new_entry = before.encode()\n",
    "\n",
    "# Check your answer\n",
    "q1.check()"
   ]
  },
  {
   "cell_type": "code",
   "execution_count": 5,
   "id": "237ab87c",
   "metadata": {
    "execution": {
     "iopub.execute_input": "2023-04-10T22:42:19.425455Z",
     "iopub.status.busy": "2023-04-10T22:42:19.425147Z",
     "iopub.status.idle": "2023-04-10T22:42:19.429171Z",
     "shell.execute_reply": "2023-04-10T22:42:19.428146Z"
    },
    "papermill": {
     "duration": 0.012501,
     "end_time": "2023-04-10T22:42:19.431383",
     "exception": false,
     "start_time": "2023-04-10T22:42:19.418882",
     "status": "completed"
    },
    "tags": []
   },
   "outputs": [],
   "source": [
    "# Lines below will give you a hint or solution code\n",
    "#q1.hint()\n",
    "#q1.solution()"
   ]
  },
  {
   "cell_type": "markdown",
   "id": "f49d6c19",
   "metadata": {
    "papermill": {
     "duration": 0.004624,
     "end_time": "2023-04-10T22:42:19.441094",
     "exception": false,
     "start_time": "2023-04-10T22:42:19.436470",
     "status": "completed"
    },
    "tags": []
   },
   "source": [
    "# 2) Reading in files with encoding problems\n",
    "\n",
    "Use the code cell below to read in this file at path `\"../input/fatal-police-shootings-in-the-us/PoliceKillingsUS.csv\"`.  \n",
    "\n",
    "Figure out what the correct encoding should be and read in the file to a DataFrame `police_killings`."
   ]
  },
  {
   "cell_type": "code",
   "execution_count": 6,
   "id": "98a9133a",
   "metadata": {
    "execution": {
     "iopub.execute_input": "2023-04-10T22:42:19.452419Z",
     "iopub.status.busy": "2023-04-10T22:42:19.452083Z",
     "iopub.status.idle": "2023-04-10T22:42:19.476602Z",
     "shell.execute_reply": "2023-04-10T22:42:19.475564Z"
    },
    "papermill": {
     "duration": 0.032956,
     "end_time": "2023-04-10T22:42:19.478863",
     "exception": false,
     "start_time": "2023-04-10T22:42:19.445907",
     "status": "completed"
    },
    "tags": []
   },
   "outputs": [
    {
     "data": {
      "application/javascript": [
       "parent.postMessage({\"jupyterEvent\": \"custom.exercise_interaction\", \"data\": {\"outcomeType\": 1, \"valueTowardsCompletion\": 0.3333333333333333, \"interactionType\": 1, \"questionType\": 1, \"questionId\": \"2_ReadIn\", \"learnToolsVersion\": \"0.3.4\", \"failureMessage\": \"\", \"exceptionClass\": \"\", \"trace\": \"\"}}, \"*\")"
      ],
      "text/plain": [
       "<IPython.core.display.Javascript object>"
      ]
     },
     "metadata": {},
     "output_type": "display_data"
    },
    {
     "data": {
      "text/markdown": [
       "<span style=\"color:#33cc33\">Correct</span>"
      ],
      "text/plain": [
       "Correct"
      ]
     },
     "metadata": {},
     "output_type": "display_data"
    }
   ],
   "source": [
    "# TODO: Load in the DataFrame correctly.\n",
    "\n",
    "police_killings = pd.read_csv(\"../input/fatal-police-shootings-in-the-us/PoliceKillingsUS.csv\", encoding='Windows-1252')\n",
    "\n",
    "# Check your answer\n",
    "q2.check()"
   ]
  },
  {
   "cell_type": "markdown",
   "id": "a88d9046",
   "metadata": {
    "papermill": {
     "duration": 0.00489,
     "end_time": "2023-04-10T22:42:19.488975",
     "exception": false,
     "start_time": "2023-04-10T22:42:19.484085",
     "status": "completed"
    },
    "tags": []
   },
   "source": [
    "Feel free to use any additional code cells for supplemental work.  To get credit for finishing this question, you'll need to run `q2.check()` and get a result of **Correct**."
   ]
  },
  {
   "cell_type": "code",
   "execution_count": 7,
   "id": "377ddde1",
   "metadata": {
    "execution": {
     "iopub.execute_input": "2023-04-10T22:42:19.500741Z",
     "iopub.status.busy": "2023-04-10T22:42:19.500339Z",
     "iopub.status.idle": "2023-04-10T22:42:19.505044Z",
     "shell.execute_reply": "2023-04-10T22:42:19.504000Z"
    },
    "papermill": {
     "duration": 0.013353,
     "end_time": "2023-04-10T22:42:19.507419",
     "exception": false,
     "start_time": "2023-04-10T22:42:19.494066",
     "status": "completed"
    },
    "tags": []
   },
   "outputs": [],
   "source": [
    "# (Optional) Use this code cell for any additional work."
   ]
  },
  {
   "cell_type": "code",
   "execution_count": 8,
   "id": "1ed7c2cf",
   "metadata": {
    "execution": {
     "iopub.execute_input": "2023-04-10T22:42:19.520530Z",
     "iopub.status.busy": "2023-04-10T22:42:19.519940Z",
     "iopub.status.idle": "2023-04-10T22:42:19.524421Z",
     "shell.execute_reply": "2023-04-10T22:42:19.523208Z"
    },
    "papermill": {
     "duration": 0.013109,
     "end_time": "2023-04-10T22:42:19.526767",
     "exception": false,
     "start_time": "2023-04-10T22:42:19.513658",
     "status": "completed"
    },
    "tags": []
   },
   "outputs": [],
   "source": [
    "# Lines below will give you a hint or solution code\n",
    "#q2.hint()\n",
    "#q2.solution()"
   ]
  },
  {
   "cell_type": "markdown",
   "id": "a64daaa2",
   "metadata": {
    "papermill": {
     "duration": 0.00494,
     "end_time": "2023-04-10T22:42:19.536872",
     "exception": false,
     "start_time": "2023-04-10T22:42:19.531932",
     "status": "completed"
    },
    "tags": []
   },
   "source": [
    "# 3) Saving your files with UTF-8 encoding\n",
    "\n",
    "Save a version of the police killings dataset to CSV with UTF-8 encoding.  Your answer will be marked correct after saving this file.  \n",
    "\n",
    "Note: When using the `to_csv()` method, supply only the name of the file (e.g., `\"my_file.csv\"`).  This saves the file at the filepath `\"/kaggle/working/my_file.csv\"`."
   ]
  },
  {
   "cell_type": "code",
   "execution_count": 9,
   "id": "a30934d0",
   "metadata": {
    "execution": {
     "iopub.execute_input": "2023-04-10T22:42:19.548693Z",
     "iopub.status.busy": "2023-04-10T22:42:19.548103Z",
     "iopub.status.idle": "2023-04-10T22:42:19.584188Z",
     "shell.execute_reply": "2023-04-10T22:42:19.583132Z"
    },
    "papermill": {
     "duration": 0.044597,
     "end_time": "2023-04-10T22:42:19.586559",
     "exception": false,
     "start_time": "2023-04-10T22:42:19.541962",
     "status": "completed"
    },
    "tags": []
   },
   "outputs": [
    {
     "data": {
      "application/javascript": [
       "parent.postMessage({\"jupyterEvent\": \"custom.exercise_interaction\", \"data\": {\"outcomeType\": 1, \"valueTowardsCompletion\": 0.3333333333333333, \"interactionType\": 1, \"questionType\": 2, \"questionId\": \"3_SaveCSV\", \"learnToolsVersion\": \"0.3.4\", \"failureMessage\": \"\", \"exceptionClass\": \"\", \"trace\": \"\"}}, \"*\")"
      ],
      "text/plain": [
       "<IPython.core.display.Javascript object>"
      ]
     },
     "metadata": {},
     "output_type": "display_data"
    },
    {
     "data": {
      "text/markdown": [
       "<span style=\"color:#33cc33\">Correct</span>"
      ],
      "text/plain": [
       "Correct"
      ]
     },
     "metadata": {},
     "output_type": "display_data"
    }
   ],
   "source": [
    "# TODO: Save the police killings dataset to CSV\n",
    "\n",
    "police_killings.to_csv(\"my_file.csv\")\n",
    "\n",
    "# Check your answer\n",
    "q3.check()"
   ]
  },
  {
   "cell_type": "code",
   "execution_count": 10,
   "id": "ffbb8611",
   "metadata": {
    "execution": {
     "iopub.execute_input": "2023-04-10T22:42:19.599562Z",
     "iopub.status.busy": "2023-04-10T22:42:19.599019Z",
     "iopub.status.idle": "2023-04-10T22:42:19.603558Z",
     "shell.execute_reply": "2023-04-10T22:42:19.602378Z"
    },
    "papermill": {
     "duration": 0.013512,
     "end_time": "2023-04-10T22:42:19.605905",
     "exception": false,
     "start_time": "2023-04-10T22:42:19.592393",
     "status": "completed"
    },
    "tags": []
   },
   "outputs": [],
   "source": [
    "# Lines below will give you a hint or solution code\n",
    "#q3.hint()\n",
    "#q3.solution()"
   ]
  },
  {
   "cell_type": "markdown",
   "id": "927d9c19",
   "metadata": {
    "papermill": {
     "duration": 0.005087,
     "end_time": "2023-04-10T22:42:19.616298",
     "exception": false,
     "start_time": "2023-04-10T22:42:19.611211",
     "status": "completed"
    },
    "tags": []
   },
   "source": [
    "# (Optional) More practice\n",
    "\n",
    "Check out [this dataset of files in different character encodings](https://www.kaggle.com/rtatman/character-encoding-examples). Can you read in all the files with their original encodings and them save them out as UTF-8 files?\n",
    "\n",
    "If you have a file that's in UTF-8 but has just a couple of weird-looking characters in it, you can try out the [ftfy module](https://ftfy.readthedocs.io/en/latest/#) and see if it helps. \n",
    "\n",
    "# Keep going\n",
    "\n",
    "In the final lesson, learn how to [**clean up inconsistent text entries**](https://www.kaggle.com/alexisbcook/inconsistent-data-entry) in your dataset."
   ]
  },
  {
   "cell_type": "markdown",
   "id": "e87876d7",
   "metadata": {
    "papermill": {
     "duration": 0.005101,
     "end_time": "2023-04-10T22:42:19.626692",
     "exception": false,
     "start_time": "2023-04-10T22:42:19.621591",
     "status": "completed"
    },
    "tags": []
   },
   "source": [
    "---\n",
    "\n",
    "\n",
    "\n",
    "\n",
    "*Have questions or comments? Visit the [course discussion forum](https://www.kaggle.com/learn/data-cleaning/discussion) to chat with other learners.*"
   ]
  }
 ],
 "metadata": {
  "kernelspec": {
   "display_name": "Python 3",
   "language": "python",
   "name": "python3"
  },
  "language_info": {
   "codemirror_mode": {
    "name": "ipython",
    "version": 3
   },
   "file_extension": ".py",
   "mimetype": "text/x-python",
   "name": "python",
   "nbconvert_exporter": "python",
   "pygments_lexer": "ipython3",
   "version": "3.7.12"
  },
  "papermill": {
   "default_parameters": {},
   "duration": 11.087018,
   "end_time": "2023-04-10T22:42:20.152976",
   "environment_variables": {},
   "exception": null,
   "input_path": "__notebook__.ipynb",
   "output_path": "__notebook__.ipynb",
   "parameters": {},
   "start_time": "2023-04-10T22:42:09.065958",
   "version": "2.4.0"
  }
 },
 "nbformat": 4,
 "nbformat_minor": 5
}
