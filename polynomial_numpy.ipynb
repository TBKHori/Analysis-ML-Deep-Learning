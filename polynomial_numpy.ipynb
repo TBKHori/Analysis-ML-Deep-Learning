{
  "cells": [
    {
      "cell_type": "code",
      "execution_count": 1,
      "metadata": {
        "id": "CBa7VtbxxhOK"
      },
      "outputs": [],
      "source": [
        "# For tips on running notebooks in Google Colab, see\n",
        "# https://pytorch.org/tutorials/beginner/colab\n",
        "%matplotlib inline"
      ]
    },
    {
      "cell_type": "markdown",
      "metadata": {
        "id": "ATIlU98axhOM"
      },
      "source": [
        "\n",
        "# Warm-up: numpy\n",
        "\n",
        "A third order polynomial, trained to predict $y=\\sin(x)$ from $-\\pi$\n",
        "to $pi$ by minimizing squared Euclidean distance.\n",
        "\n",
        "This implementation uses numpy to manually compute the forward pass, loss, and\n",
        "backward pass.\n",
        "\n",
        "A numpy array is a generic n-dimensional array; it does not know anything about\n",
        "deep learning or gradients or computational graphs, and is just a way to perform\n",
        "generic numeric computations.\n"
      ]
    },
    {
      "cell_type": "code",
      "execution_count": 2,
      "metadata": {
        "id": "M75dulMoxhON",
        "outputId": "9a6a9335-c507-45b8-c344-9cfa5cb7a559",
        "colab": {
          "base_uri": "https://localhost:8080/"
        }
      },
      "outputs": [
        {
          "output_type": "stream",
          "name": "stdout",
          "text": [
            "99 826.3745252030194\n",
            "199 565.7326698257384\n",
            "299 388.61727044364426\n",
            "399 268.12612040786723\n",
            "499 186.06401149877684\n",
            "599 130.11103406882836\n",
            "699 91.91661133527148\n",
            "799 65.81453718051007\n",
            "899 47.95585663811882\n",
            "999 35.723142870034245\n",
            "1099 27.334455200465978\n",
            "1199 21.575276697744897\n",
            "1299 17.61688483545478\n",
            "1399 14.893154476339506\n",
            "1499 13.016903928737978\n",
            "1599 11.72302907336329\n",
            "1699 10.82980415116884\n",
            "1799 10.212515858114582\n",
            "1899 9.785479714549975\n",
            "1999 9.489759762976377\n",
            "Result: y = -0.02349052684152182 + 0.8436957757479984 x + 0.004052506764216375 x^2 + -0.0914748418109515 x^3\n"
          ]
        }
      ],
      "source": [
        "import numpy as np\n",
        "import math\n",
        "\n",
        "# Create random input and output data\n",
        "x = np.linspace(-math.pi, math.pi, 2000)\n",
        "y = np.sin(x)\n",
        "\n",
        "# Randomly initialize weights\n",
        "a = np.random.randn()\n",
        "b = np.random.randn()\n",
        "c = np.random.randn()\n",
        "d = np.random.randn()\n",
        "\n",
        "learning_rate = 1e-6\n",
        "for t in range(2000):\n",
        "    # Forward pass: compute predicted y\n",
        "    # y = a + b x + c x^2 + d x^3\n",
        "    y_pred = a + b * x + c * x ** 2 + d * x ** 3\n",
        "\n",
        "    # Compute and print loss\n",
        "    loss = np.square(y_pred - y).sum()\n",
        "    if t % 100 == 99:\n",
        "        print(t, loss)\n",
        "\n",
        "    # Backprop to compute gradients of a, b, c, d with respect to loss\n",
        "    grad_y_pred = 2.0 * (y_pred - y)\n",
        "    grad_a = grad_y_pred.sum()\n",
        "    grad_b = (grad_y_pred * x).sum()\n",
        "    grad_c = (grad_y_pred * x ** 2).sum()\n",
        "    grad_d = (grad_y_pred * x ** 3).sum()\n",
        "\n",
        "    # Update weights\n",
        "    a -= learning_rate * grad_a\n",
        "    b -= learning_rate * grad_b\n",
        "    c -= learning_rate * grad_c\n",
        "    d -= learning_rate * grad_d\n",
        "\n",
        "print(f'Result: y = {a} + {b} x + {c} x^2 + {d} x^3')"
      ]
    }
  ],
  "metadata": {
    "kernelspec": {
      "display_name": "Python 3",
      "language": "python",
      "name": "python3"
    },
    "language_info": {
      "codemirror_mode": {
        "name": "ipython",
        "version": 3
      },
      "file_extension": ".py",
      "mimetype": "text/x-python",
      "name": "python",
      "nbconvert_exporter": "python",
      "pygments_lexer": "ipython3",
      "version": "3.10.13"
    },
    "colab": {
      "provenance": []
    }
  },
  "nbformat": 4,
  "nbformat_minor": 0
}