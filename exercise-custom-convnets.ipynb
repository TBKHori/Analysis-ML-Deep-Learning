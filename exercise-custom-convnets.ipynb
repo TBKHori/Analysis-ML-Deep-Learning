{
 "cells": [
  {
   "cell_type": "markdown",
   "id": "26f825b6",
   "metadata": {
    "papermill": {
     "duration": 0.004816,
     "end_time": "2023-03-12T00:27:05.900299",
     "exception": false,
     "start_time": "2023-03-12T00:27:05.895483",
     "status": "completed"
    },
    "tags": []
   },
   "source": [
    "**This notebook is an exercise in the [Computer Vision](https://www.kaggle.com/learn/computer-vision) course.  You can reference the tutorial at [this link](https://www.kaggle.com/ryanholbrook/custom-convnets).**\n",
    "\n",
    "---\n"
   ]
  },
  {
   "cell_type": "markdown",
   "id": "fc7a30d6",
   "metadata": {
    "papermill": {
     "duration": 0.003413,
     "end_time": "2023-03-12T00:27:05.907864",
     "exception": false,
     "start_time": "2023-03-12T00:27:05.904451",
     "status": "completed"
    },
    "tags": []
   },
   "source": [
    "# Introduction #\n",
    "\n",
    "In these exercises, you'll build a custom convnet with performance competitive to the VGG16 model from Lesson 1.\n",
    "\n",
    "Get started by running the code cell below."
   ]
  },
  {
   "cell_type": "code",
   "execution_count": 1,
   "id": "a17db6a6",
   "metadata": {
    "execution": {
     "iopub.execute_input": "2023-03-12T00:27:05.917475Z",
     "iopub.status.busy": "2023-03-12T00:27:05.916886Z",
     "iopub.status.idle": "2023-03-12T00:27:19.456661Z",
     "shell.execute_reply": "2023-03-12T00:27:19.454577Z"
    },
    "papermill": {
     "duration": 13.547535,
     "end_time": "2023-03-12T00:27:19.459131",
     "exception": false,
     "start_time": "2023-03-12T00:27:05.911596",
     "status": "completed"
    },
    "tags": []
   },
   "outputs": [
    {
     "name": "stdout",
     "output_type": "stream",
     "text": [
      "Found 5117 files belonging to 2 classes.\n",
      "Found 5051 files belonging to 2 classes.\n"
     ]
    }
   ],
   "source": [
    "# Setup feedback system\n",
    "from learntools.core import binder\n",
    "binder.bind(globals())\n",
    "from learntools.computer_vision.ex5 import *\n",
    "\n",
    "# Imports\n",
    "import os, warnings\n",
    "import matplotlib.pyplot as plt\n",
    "from matplotlib import gridspec\n",
    "\n",
    "import numpy as np\n",
    "import tensorflow as tf\n",
    "from tensorflow.keras.preprocessing import image_dataset_from_directory\n",
    "\n",
    "# Reproducability\n",
    "def set_seed(seed=31415):\n",
    "    np.random.seed(seed)\n",
    "    tf.random.set_seed(seed)\n",
    "    os.environ['PYTHONHASHSEED'] = str(seed)\n",
    "    os.environ['TF_DETERMINISTIC_OPS'] = '1'\n",
    "set_seed()\n",
    "\n",
    "# Set Matplotlib defaults\n",
    "plt.rc('figure', autolayout=True)\n",
    "plt.rc('axes', labelweight='bold', labelsize='large',\n",
    "       titleweight='bold', titlesize=18, titlepad=10)\n",
    "plt.rc('image', cmap='magma')\n",
    "warnings.filterwarnings(\"ignore\") # to clean up output cells\n",
    "\n",
    "\n",
    "# Load training and validation sets\n",
    "ds_train_ = image_dataset_from_directory(\n",
    "    '../input/car-or-truck/train',\n",
    "    labels='inferred',\n",
    "    label_mode='binary',\n",
    "    image_size=[128, 128],\n",
    "    interpolation='nearest',\n",
    "    batch_size=64,\n",
    "    shuffle=True,\n",
    ")\n",
    "ds_valid_ = image_dataset_from_directory(\n",
    "    '../input/car-or-truck/valid',\n",
    "    labels='inferred',\n",
    "    label_mode='binary',\n",
    "    image_size=[128, 128],\n",
    "    interpolation='nearest',\n",
    "    batch_size=64,\n",
    "    shuffle=False,\n",
    ")\n",
    "\n",
    "# Data Pipeline\n",
    "def convert_to_float(image, label):\n",
    "    image = tf.image.convert_image_dtype(image, dtype=tf.float32)\n",
    "    return image, label\n",
    "\n",
    "AUTOTUNE = tf.data.experimental.AUTOTUNE\n",
    "ds_train = (\n",
    "    ds_train_\n",
    "    .map(convert_to_float)\n",
    "    .cache()\n",
    "    .prefetch(buffer_size=AUTOTUNE)\n",
    ")\n",
    "ds_valid = (\n",
    "    ds_valid_\n",
    "    .map(convert_to_float)\n",
    "    .cache()\n",
    "    .prefetch(buffer_size=AUTOTUNE)\n",
    ")\n"
   ]
  },
  {
   "cell_type": "markdown",
   "id": "024c3898",
   "metadata": {
    "papermill": {
     "duration": 0.003595,
     "end_time": "2023-03-12T00:27:19.466655",
     "exception": false,
     "start_time": "2023-03-12T00:27:19.463060",
     "status": "completed"
    },
    "tags": []
   },
   "source": [
    "# Design a Convnet #\n",
    "\n",
    "Let's design a convolutional network with a block architecture like we saw in the tutorial. The model from the example had three blocks, each with a single convolutional layer. Its performance on the \"Car or Truck\" problem was okay, but far from what the pretrained VGG16 could achieve. It might be that our simple network lacks the ability to extract sufficiently complex features. We could try improving the model either by adding more blocks or by adding convolutions to the blocks we have.\n",
    "\n",
    "Let's go with the second approach. We'll keep the three block structure, but increase the number of `Conv2D` layer in the second block to two, and in the third block to three.\n",
    "\n",
    "<figure>\n",
    "<!-- <img src=\"./images/2-convmodel-2.png\" width=\"250\" alt=\"Diagram of a convolutional model.\"> -->\n",
    "<img src=\"https://i.imgur.com/Vko6nCK.png\" width=\"250\" alt=\"Diagram of a convolutional model.\">\n",
    "</figure>\n",
    "\n",
    "# 1) Define Model #\n",
    "\n",
    "Given the diagram above, complete the model by defining the layers of the third block."
   ]
  },
  {
   "cell_type": "code",
   "execution_count": 2,
   "id": "494a15ff",
   "metadata": {
    "execution": {
     "iopub.execute_input": "2023-03-12T00:27:19.475291Z",
     "iopub.status.busy": "2023-03-12T00:27:19.475000Z",
     "iopub.status.idle": "2023-03-12T00:27:19.623789Z",
     "shell.execute_reply": "2023-03-12T00:27:19.622720Z"
    },
    "lines_to_next_cell": 0,
    "papermill": {
     "duration": 0.155548,
     "end_time": "2023-03-12T00:27:19.625931",
     "exception": false,
     "start_time": "2023-03-12T00:27:19.470383",
     "status": "completed"
    },
    "tags": []
   },
   "outputs": [
    {
     "data": {
      "application/javascript": [
       "parent.postMessage({\"jupyterEvent\": \"custom.exercise_interaction\", \"data\": {\"outcomeType\": 1, \"valueTowardsCompletion\": 0.3333333333333333, \"interactionType\": 1, \"questionType\": 2, \"questionId\": \"1_Q1\", \"learnToolsVersion\": \"0.3.4\", \"failureMessage\": \"\", \"exceptionClass\": \"\", \"trace\": \"\"}}, \"*\")"
      ],
      "text/plain": [
       "<IPython.core.display.Javascript object>"
      ]
     },
     "metadata": {},
     "output_type": "display_data"
    },
    {
     "data": {
      "text/markdown": [
       "<span style=\"color:#33cc33\">Correct</span>"
      ],
      "text/plain": [
       "Correct"
      ]
     },
     "metadata": {},
     "output_type": "display_data"
    }
   ],
   "source": [
    "from tensorflow import keras\n",
    "from tensorflow.keras import layers\n",
    "\n",
    "model = keras.Sequential([\n",
    "    # Block One\n",
    "    layers.Conv2D(filters=32, kernel_size=3, activation='relu', padding='same',\n",
    "                  input_shape=[128, 128, 3]),\n",
    "    layers.MaxPool2D(),\n",
    "\n",
    "    # Block Two\n",
    "    layers.Conv2D(filters=64, kernel_size=3, activation='relu', padding='same'),\n",
    "    layers.MaxPool2D(),\n",
    "\n",
    "    ## Block Three\n",
    "    layers.Conv2D(filters=128, kernel_size=3, activation='relu', padding='same'),\n",
    "    layers.Conv2D(filters=128, kernel_size=3, activation='relu', padding='same'),\n",
    "    layers.MaxPool2D(),\n",
    "\n",
    "    # Head\n",
    "    layers.Flatten(),\n",
    "    layers.Dense(6, activation='relu'),\n",
    "    layers.Dropout(0.2),\n",
    "    layers.Dense(1, activation='sigmoid'),\n",
    "])\n",
    "\n",
    "# Check your answer\n",
    "q_1.check()"
   ]
  },
  {
   "cell_type": "code",
   "execution_count": 3,
   "id": "24e6f143",
   "metadata": {
    "execution": {
     "iopub.execute_input": "2023-03-12T00:27:19.635305Z",
     "iopub.status.busy": "2023-03-12T00:27:19.635025Z",
     "iopub.status.idle": "2023-03-12T00:27:19.639841Z",
     "shell.execute_reply": "2023-03-12T00:27:19.638942Z"
    },
    "papermill": {
     "duration": 0.011971,
     "end_time": "2023-03-12T00:27:19.641913",
     "exception": false,
     "start_time": "2023-03-12T00:27:19.629942",
     "status": "completed"
    },
    "tags": []
   },
   "outputs": [],
   "source": [
    "# Lines below will give you a hint or solution code\n",
    "#q_1.hint()\n",
    "#q_1.solution()"
   ]
  },
  {
   "cell_type": "markdown",
   "id": "3966363c",
   "metadata": {
    "papermill": {
     "duration": 0.003669,
     "end_time": "2023-03-12T00:27:19.649476",
     "exception": false,
     "start_time": "2023-03-12T00:27:19.645807",
     "status": "completed"
    },
    "tags": []
   },
   "source": [
    "# 2) Compile #\n",
    "\n",
    "To prepare for training, compile the model with an appropriate loss and accuracy metric for the \"Car or Truck\" dataset."
   ]
  },
  {
   "cell_type": "code",
   "execution_count": 4,
   "id": "dda58ecf",
   "metadata": {
    "execution": {
     "iopub.execute_input": "2023-03-12T00:27:19.659330Z",
     "iopub.status.busy": "2023-03-12T00:27:19.657896Z",
     "iopub.status.idle": "2023-03-12T00:27:19.680215Z",
     "shell.execute_reply": "2023-03-12T00:27:19.679315Z"
    },
    "lines_to_next_cell": 0,
    "papermill": {
     "duration": 0.028879,
     "end_time": "2023-03-12T00:27:19.682122",
     "exception": false,
     "start_time": "2023-03-12T00:27:19.653243",
     "status": "completed"
    },
    "tags": []
   },
   "outputs": [
    {
     "data": {
      "application/javascript": [
       "parent.postMessage({\"jupyterEvent\": \"custom.exercise_interaction\", \"data\": {\"outcomeType\": 1, \"valueTowardsCompletion\": 0.3333333333333333, \"interactionType\": 1, \"questionType\": 2, \"questionId\": \"2_Q2\", \"learnToolsVersion\": \"0.3.4\", \"failureMessage\": \"\", \"exceptionClass\": \"\", \"trace\": \"\"}}, \"*\")"
      ],
      "text/plain": [
       "<IPython.core.display.Javascript object>"
      ]
     },
     "metadata": {},
     "output_type": "display_data"
    },
    {
     "data": {
      "text/markdown": [
       "<span style=\"color:#33cc33\">Correct</span>"
      ],
      "text/plain": [
       "Correct"
      ]
     },
     "metadata": {},
     "output_type": "display_data"
    }
   ],
   "source": [
    "model.compile(\n",
    "    #optimizer=tf.keras.optimizers.Adam(epsilon=0.01),\n",
    "    optimizer=tf.keras.optimizers.Adam(learning_rate=0.0001),\n",
    "    loss='binary_crossentropy',\n",
    "    metrics=['binary_accuracy'],\n",
    ")\n",
    "\n",
    "# Check your answer\n",
    "q_2.check()"
   ]
  },
  {
   "cell_type": "code",
   "execution_count": 5,
   "id": "93a66b4c",
   "metadata": {
    "execution": {
     "iopub.execute_input": "2023-03-12T00:27:19.691560Z",
     "iopub.status.busy": "2023-03-12T00:27:19.691272Z",
     "iopub.status.idle": "2023-03-12T00:27:19.705167Z",
     "shell.execute_reply": "2023-03-12T00:27:19.704113Z"
    },
    "lines_to_next_cell": 0,
    "papermill": {
     "duration": 0.021841,
     "end_time": "2023-03-12T00:27:19.708067",
     "exception": false,
     "start_time": "2023-03-12T00:27:19.686226",
     "status": "completed"
    },
    "tags": []
   },
   "outputs": [
    {
     "data": {
      "application/javascript": [
       "parent.postMessage({\"jupyterEvent\": \"custom.exercise_interaction\", \"data\": {\"outcomeType\": 1, \"valueTowardsCompletion\": 0.3333333333333333, \"interactionType\": 1, \"questionType\": 2, \"questionId\": \"2_Q2\", \"learnToolsVersion\": \"0.3.4\", \"failureMessage\": \"\", \"exceptionClass\": \"\", \"trace\": \"\"}}, \"*\")"
      ],
      "text/plain": [
       "<IPython.core.display.Javascript object>"
      ]
     },
     "metadata": {},
     "output_type": "display_data"
    },
    {
     "data": {
      "text/markdown": [
       "<span style=\"color:#33cc33\">Correct</span>"
      ],
      "text/plain": [
       "Correct"
      ]
     },
     "metadata": {},
     "output_type": "display_data"
    }
   ],
   "source": [
    "model.compile(\n",
    "    optimizer=tf.keras.optimizers.Adam(epsilon=0.01),\n",
    "    loss='binary_crossentropy',\n",
    "    metrics=['binary_accuracy'],\n",
    ")\n",
    "q_2.assert_check_passed()"
   ]
  },
  {
   "cell_type": "code",
   "execution_count": 6,
   "id": "aaac24a4",
   "metadata": {
    "execution": {
     "iopub.execute_input": "2023-03-12T00:27:19.717834Z",
     "iopub.status.busy": "2023-03-12T00:27:19.717309Z",
     "iopub.status.idle": "2023-03-12T00:27:19.721383Z",
     "shell.execute_reply": "2023-03-12T00:27:19.720335Z"
    },
    "lines_to_next_cell": 0,
    "papermill": {
     "duration": 0.011572,
     "end_time": "2023-03-12T00:27:19.723841",
     "exception": false,
     "start_time": "2023-03-12T00:27:19.712269",
     "status": "completed"
    },
    "tags": []
   },
   "outputs": [],
   "source": [
    "# Lines below will give you a hint or solution code\n",
    "#q_2.hint()\n",
    "#q_2.solution()"
   ]
  },
  {
   "cell_type": "markdown",
   "id": "772fb1b9",
   "metadata": {
    "papermill": {
     "duration": 0.004082,
     "end_time": "2023-03-12T00:27:19.732157",
     "exception": false,
     "start_time": "2023-03-12T00:27:19.728075",
     "status": "completed"
    },
    "tags": []
   },
   "source": [
    "Finally, let's test the performance of this new model. First run this cell to fit the model to the training set."
   ]
  },
  {
   "cell_type": "code",
   "execution_count": 7,
   "id": "eb183f07",
   "metadata": {
    "execution": {
     "iopub.execute_input": "2023-03-12T00:27:19.741682Z",
     "iopub.status.busy": "2023-03-12T00:27:19.741421Z",
     "iopub.status.idle": "2023-03-12T00:31:23.354436Z",
     "shell.execute_reply": "2023-03-12T00:31:23.353471Z"
    },
    "papermill": {
     "duration": 243.620299,
     "end_time": "2023-03-12T00:31:23.356721",
     "exception": false,
     "start_time": "2023-03-12T00:27:19.736422",
     "status": "completed"
    },
    "tags": []
   },
   "outputs": [
    {
     "name": "stdout",
     "output_type": "stream",
     "text": [
      "Epoch 1/50\n",
      "80/80 [==============================] - 31s 271ms/step - loss: 0.6904 - binary_accuracy: 0.5644 - val_loss: 0.6870 - val_binary_accuracy: 0.5785\n",
      "Epoch 2/50\n",
      "80/80 [==============================] - 4s 53ms/step - loss: 0.6844 - binary_accuracy: 0.5787 - val_loss: 0.6820 - val_binary_accuracy: 0.5785\n",
      "Epoch 3/50\n",
      "80/80 [==============================] - 4s 53ms/step - loss: 0.6821 - binary_accuracy: 0.5787 - val_loss: 0.6790 - val_binary_accuracy: 0.5785\n",
      "Epoch 4/50\n",
      "80/80 [==============================] - 4s 53ms/step - loss: 0.6763 - binary_accuracy: 0.5787 - val_loss: 0.6699 - val_binary_accuracy: 0.5785\n",
      "Epoch 5/50\n",
      "80/80 [==============================] - 4s 52ms/step - loss: 0.6688 - binary_accuracy: 0.5787 - val_loss: 0.6678 - val_binary_accuracy: 0.5785\n",
      "Epoch 6/50\n",
      "80/80 [==============================] - 4s 53ms/step - loss: 0.6642 - binary_accuracy: 0.5787 - val_loss: 0.6602 - val_binary_accuracy: 0.5785\n",
      "Epoch 7/50\n",
      "80/80 [==============================] - 4s 53ms/step - loss: 0.6643 - binary_accuracy: 0.5787 - val_loss: 0.6581 - val_binary_accuracy: 0.5785\n",
      "Epoch 8/50\n",
      "80/80 [==============================] - 4s 54ms/step - loss: 0.6631 - binary_accuracy: 0.5787 - val_loss: 0.6558 - val_binary_accuracy: 0.5785\n",
      "Epoch 9/50\n",
      "80/80 [==============================] - 4s 54ms/step - loss: 0.6620 - binary_accuracy: 0.5787 - val_loss: 0.6532 - val_binary_accuracy: 0.5785\n",
      "Epoch 10/50\n",
      "80/80 [==============================] - 4s 54ms/step - loss: 0.6559 - binary_accuracy: 0.5787 - val_loss: 0.6489 - val_binary_accuracy: 0.5785\n",
      "Epoch 11/50\n",
      "80/80 [==============================] - 4s 54ms/step - loss: 0.6515 - binary_accuracy: 0.5787 - val_loss: 0.6425 - val_binary_accuracy: 0.5785\n",
      "Epoch 12/50\n",
      "80/80 [==============================] - 4s 54ms/step - loss: 0.6519 - binary_accuracy: 0.5787 - val_loss: 0.6392 - val_binary_accuracy: 0.5785\n",
      "Epoch 13/50\n",
      "80/80 [==============================] - 4s 54ms/step - loss: 0.6466 - binary_accuracy: 0.5792 - val_loss: 0.6342 - val_binary_accuracy: 0.5785\n",
      "Epoch 14/50\n",
      "80/80 [==============================] - 4s 54ms/step - loss: 0.6448 - binary_accuracy: 0.5787 - val_loss: 0.6287 - val_binary_accuracy: 0.5783\n",
      "Epoch 15/50\n",
      "80/80 [==============================] - 4s 54ms/step - loss: 0.6413 - binary_accuracy: 0.5785 - val_loss: 0.6254 - val_binary_accuracy: 0.5783\n",
      "Epoch 16/50\n",
      "80/80 [==============================] - 4s 53ms/step - loss: 0.6382 - binary_accuracy: 0.6082 - val_loss: 0.6233 - val_binary_accuracy: 0.6607\n",
      "Epoch 17/50\n",
      "80/80 [==============================] - 4s 53ms/step - loss: 0.6361 - binary_accuracy: 0.6185 - val_loss: 0.6201 - val_binary_accuracy: 0.6531\n",
      "Epoch 18/50\n",
      "80/80 [==============================] - 4s 53ms/step - loss: 0.6323 - binary_accuracy: 0.6103 - val_loss: 0.6199 - val_binary_accuracy: 0.6652\n",
      "Epoch 19/50\n",
      "80/80 [==============================] - 4s 53ms/step - loss: 0.6292 - binary_accuracy: 0.6238 - val_loss: 0.6151 - val_binary_accuracy: 0.6646\n",
      "Epoch 20/50\n",
      "80/80 [==============================] - 4s 52ms/step - loss: 0.6237 - binary_accuracy: 0.6293 - val_loss: 0.6088 - val_binary_accuracy: 0.6717\n",
      "Epoch 21/50\n",
      "80/80 [==============================] - 4s 53ms/step - loss: 0.6169 - binary_accuracy: 0.6361 - val_loss: 0.5964 - val_binary_accuracy: 0.6727\n",
      "Epoch 22/50\n",
      "80/80 [==============================] - 4s 54ms/step - loss: 0.6059 - binary_accuracy: 0.6359 - val_loss: 0.5860 - val_binary_accuracy: 0.6866\n",
      "Epoch 23/50\n",
      "80/80 [==============================] - 4s 52ms/step - loss: 0.6135 - binary_accuracy: 0.6320 - val_loss: 0.6149 - val_binary_accuracy: 0.6529\n",
      "Epoch 24/50\n",
      "80/80 [==============================] - 4s 53ms/step - loss: 0.6036 - binary_accuracy: 0.6346 - val_loss: 0.5725 - val_binary_accuracy: 0.7012\n",
      "Epoch 25/50\n",
      "80/80 [==============================] - 4s 52ms/step - loss: 0.5789 - binary_accuracy: 0.6547 - val_loss: 0.5618 - val_binary_accuracy: 0.7068\n",
      "Epoch 26/50\n",
      "80/80 [==============================] - 4s 53ms/step - loss: 0.5664 - binary_accuracy: 0.6881 - val_loss: 0.5564 - val_binary_accuracy: 0.7169\n",
      "Epoch 27/50\n",
      "80/80 [==============================] - 4s 52ms/step - loss: 0.5513 - binary_accuracy: 0.7094 - val_loss: 0.5246 - val_binary_accuracy: 0.7436\n",
      "Epoch 28/50\n",
      "80/80 [==============================] - 4s 52ms/step - loss: 0.5312 - binary_accuracy: 0.7201 - val_loss: 0.5119 - val_binary_accuracy: 0.7486\n",
      "Epoch 29/50\n",
      "80/80 [==============================] - 4s 53ms/step - loss: 0.4958 - binary_accuracy: 0.7456 - val_loss: 0.4874 - val_binary_accuracy: 0.7593\n",
      "Epoch 30/50\n",
      "80/80 [==============================] - 4s 54ms/step - loss: 0.4788 - binary_accuracy: 0.7594 - val_loss: 0.4696 - val_binary_accuracy: 0.7749\n",
      "Epoch 31/50\n",
      "80/80 [==============================] - 4s 53ms/step - loss: 0.4558 - binary_accuracy: 0.7739 - val_loss: 0.4557 - val_binary_accuracy: 0.7899\n",
      "Epoch 32/50\n",
      "80/80 [==============================] - 4s 53ms/step - loss: 0.4493 - binary_accuracy: 0.7784 - val_loss: 0.4390 - val_binary_accuracy: 0.7943\n",
      "Epoch 33/50\n",
      "80/80 [==============================] - 4s 52ms/step - loss: 0.4102 - binary_accuracy: 0.8091 - val_loss: 0.4249 - val_binary_accuracy: 0.8080\n",
      "Epoch 34/50\n",
      "80/80 [==============================] - 4s 53ms/step - loss: 0.3868 - binary_accuracy: 0.8267 - val_loss: 0.4438 - val_binary_accuracy: 0.8004\n",
      "Epoch 35/50\n",
      "80/80 [==============================] - 4s 52ms/step - loss: 0.3580 - binary_accuracy: 0.8415 - val_loss: 0.4270 - val_binary_accuracy: 0.8143\n",
      "Epoch 36/50\n",
      "80/80 [==============================] - 4s 52ms/step - loss: 0.3564 - binary_accuracy: 0.8384 - val_loss: 0.4891 - val_binary_accuracy: 0.7818\n",
      "Epoch 37/50\n",
      "80/80 [==============================] - 4s 54ms/step - loss: 0.3323 - binary_accuracy: 0.8585 - val_loss: 0.4442 - val_binary_accuracy: 0.8056\n",
      "Epoch 38/50\n",
      "80/80 [==============================] - 4s 53ms/step - loss: 0.3163 - binary_accuracy: 0.8646 - val_loss: 0.5071 - val_binary_accuracy: 0.7678\n",
      "Epoch 39/50\n",
      "80/80 [==============================] - 4s 53ms/step - loss: 0.2927 - binary_accuracy: 0.8724 - val_loss: 0.5322 - val_binary_accuracy: 0.7840\n",
      "Epoch 40/50\n",
      "80/80 [==============================] - 4s 52ms/step - loss: 0.2799 - binary_accuracy: 0.8812 - val_loss: 0.5163 - val_binary_accuracy: 0.7949\n",
      "Epoch 41/50\n",
      "80/80 [==============================] - 4s 52ms/step - loss: 0.3039 - binary_accuracy: 0.8612 - val_loss: 0.4181 - val_binary_accuracy: 0.8285\n",
      "Epoch 42/50\n",
      "80/80 [==============================] - 4s 53ms/step - loss: 0.2931 - binary_accuracy: 0.8759 - val_loss: 0.3827 - val_binary_accuracy: 0.8321\n",
      "Epoch 43/50\n",
      "80/80 [==============================] - 4s 52ms/step - loss: 0.2770 - binary_accuracy: 0.8865 - val_loss: 0.4057 - val_binary_accuracy: 0.8220\n",
      "Epoch 44/50\n",
      "80/80 [==============================] - 5s 57ms/step - loss: 0.2435 - binary_accuracy: 0.9052 - val_loss: 0.4823 - val_binary_accuracy: 0.7739\n",
      "Epoch 45/50\n",
      "80/80 [==============================] - 4s 52ms/step - loss: 0.2227 - binary_accuracy: 0.9140 - val_loss: 0.5082 - val_binary_accuracy: 0.7870\n",
      "Epoch 46/50\n",
      "80/80 [==============================] - 4s 53ms/step - loss: 0.2171 - binary_accuracy: 0.9207 - val_loss: 0.4611 - val_binary_accuracy: 0.8186\n",
      "Epoch 47/50\n",
      "80/80 [==============================] - 4s 53ms/step - loss: 0.1870 - binary_accuracy: 0.9310 - val_loss: 0.4672 - val_binary_accuracy: 0.8337\n",
      "Epoch 48/50\n",
      "80/80 [==============================] - 4s 53ms/step - loss: 0.1664 - binary_accuracy: 0.9377 - val_loss: 0.5672 - val_binary_accuracy: 0.7979\n",
      "Epoch 49/50\n",
      "80/80 [==============================] - 4s 53ms/step - loss: 0.1745 - binary_accuracy: 0.9375 - val_loss: 0.4832 - val_binary_accuracy: 0.8307\n",
      "Epoch 50/50\n",
      "80/80 [==============================] - 4s 53ms/step - loss: 0.1741 - binary_accuracy: 0.9330 - val_loss: 0.4523 - val_binary_accuracy: 0.8392\n"
     ]
    }
   ],
   "source": [
    "history = model.fit(\n",
    "    ds_train,\n",
    "    validation_data=ds_valid,\n",
    "    epochs=50,\n",
    ")"
   ]
  },
  {
   "cell_type": "markdown",
   "id": "e85306fc",
   "metadata": {
    "papermill": {
     "duration": 0.114288,
     "end_time": "2023-03-12T00:31:23.585001",
     "exception": false,
     "start_time": "2023-03-12T00:31:23.470713",
     "status": "completed"
    },
    "tags": []
   },
   "source": [
    "And now run the cell below to plot the loss and metric curves for this training run."
   ]
  },
  {
   "cell_type": "code",
   "execution_count": 8,
   "id": "b6ae328f",
   "metadata": {
    "execution": {
     "iopub.execute_input": "2023-03-12T00:31:23.815027Z",
     "iopub.status.busy": "2023-03-12T00:31:23.814059Z",
     "iopub.status.idle": "2023-03-12T00:31:24.412584Z",
     "shell.execute_reply": "2023-03-12T00:31:24.411590Z"
    },
    "papermill": {
     "duration": 0.715798,
     "end_time": "2023-03-12T00:31:24.414763",
     "exception": false,
     "start_time": "2023-03-12T00:31:23.698965",
     "status": "completed"
    },
    "tags": []
   },
   "outputs": [
    {
     "data": {
      "image/png": "[encoded data removed]",
      "text/plain": [
       "<Figure size 640x480 with 1 Axes>"
      ]
     },
     "metadata": {},
     "output_type": "display_data"
    },
    {
     "data": {
      "image/png": "[encoded data removed]",
      "text/plain": [
       "<Figure size 640x480 with 1 Axes>"
      ]
     },
     "metadata": {},
     "output_type": "display_data"
    }
   ],
   "source": [
    "import pandas as pd\n",
    "history_frame = pd.DataFrame(history.history)\n",
    "history_frame.loc[:, ['loss', 'val_loss']].plot()\n",
    "history_frame.loc[:, ['binary_accuracy', 'val_binary_accuracy']].plot();"
   ]
  },
  {
   "cell_type": "markdown",
   "id": "edb561c7",
   "metadata": {
    "papermill": {
     "duration": 0.167475,
     "end_time": "2023-03-12T00:31:24.698074",
     "exception": false,
     "start_time": "2023-03-12T00:31:24.530599",
     "status": "completed"
    },
    "tags": []
   },
   "source": [
    "# 3) Train the Model #\n",
    "\n",
    "How would you interpret these training curves? Did this model improve upon the model from the tutorial?"
   ]
  },
  {
   "cell_type": "code",
   "execution_count": 9,
   "id": "708a66fa",
   "metadata": {
    "execution": {
     "iopub.execute_input": "2023-03-12T00:31:24.930459Z",
     "iopub.status.busy": "2023-03-12T00:31:24.930038Z",
     "iopub.status.idle": "2023-03-12T00:31:24.938813Z",
     "shell.execute_reply": "2023-03-12T00:31:24.937858Z"
    },
    "lines_to_next_cell": 0,
    "papermill": {
     "duration": 0.128086,
     "end_time": "2023-03-12T00:31:24.941833",
     "exception": false,
     "start_time": "2023-03-12T00:31:24.813747",
     "status": "completed"
    },
    "tags": []
   },
   "outputs": [
    {
     "data": {
      "application/javascript": [
       "parent.postMessage({\"jupyterEvent\": \"custom.exercise_interaction\", \"data\": {\"outcomeType\": 1, \"valueTowardsCompletion\": 0.3333333333333333, \"interactionType\": 1, \"questionType\": 4, \"questionId\": \"3_Q3\", \"learnToolsVersion\": \"0.3.4\", \"failureMessage\": \"\", \"exceptionClass\": \"\", \"trace\": \"\"}}, \"*\")"
      ],
      "text/plain": [
       "<IPython.core.display.Javascript object>"
      ]
     },
     "metadata": {},
     "output_type": "display_data"
    },
    {
     "data": {
      "text/markdown": [
       "<span style=\"color:#33cc33\">Correct:</span> \n",
       "\n",
       "\n",
       "The learning curves for the model from the tutorial diverged fairly rapidly. This would indicate that it was prone to overfitting and in need of some regularization. The additional layer in our new model would make it even more prone to overfitting. However, adding some regularization with the `Dropout` layer helped prevent this. These changes improved the validation accuracy of the model by several points.\n"
      ],
      "text/plain": [
       "Correct: \n",
       "\n",
       "\n",
       "The learning curves for the model from the tutorial diverged fairly rapidly. This would indicate that it was prone to overfitting and in need of some regularization. The additional layer in our new model would make it even more prone to overfitting. However, adding some regularization with the `Dropout` layer helped prevent this. These changes improved the validation accuracy of the model by several points."
      ]
     },
     "metadata": {},
     "output_type": "display_data"
    }
   ],
   "source": [
    "# View the solution (Run this code cell to receive credit!)\n",
    "q_3.check()"
   ]
  },
  {
   "cell_type": "markdown",
   "id": "b2924469",
   "metadata": {
    "papermill": {
     "duration": 0.117297,
     "end_time": "2023-03-12T00:31:25.173520",
     "exception": false,
     "start_time": "2023-03-12T00:31:25.056223",
     "status": "completed"
    },
    "tags": []
   },
   "source": [
    "# Conclusion #\n",
    "\n",
    "These exercises showed you how to design a custom convolutional network to solve a specific classification problem. Though most models these days will be built on top of a pretrained base, it certain circumstances a smaller custom convnet might still be preferable -- such as with a smaller or unusual dataset or when computing resources are very limited. As you saw here, for certain problems they can perform just as well as a pretrained model.\n",
    "\n",
    "# Keep Going #\n",
    "\n",
    "Continue on to [**Lesson 6**](https://www.kaggle.com/ryanholbrook/data-augmentation), where you'll learn a widely-used technique that can give a boost to your training data: **data augmentation**."
   ]
  },
  {
   "cell_type": "markdown",
   "id": "74a29ebf",
   "metadata": {
    "papermill": {
     "duration": 0.118751,
     "end_time": "2023-03-12T00:31:25.427319",
     "exception": false,
     "start_time": "2023-03-12T00:31:25.308568",
     "status": "completed"
    },
    "tags": []
   },
   "source": [
    "---\n",
    "\n",
    "\n",
    "\n",
    "\n",
    "*Have questions or comments? Visit the [course discussion forum](https://www.kaggle.com/learn/computer-vision/discussion) to chat with other learners.*"
   ]
  }
 ],
 "metadata": {
  "kernelspec": {
   "display_name": "Python 3",
   "language": "python",
   "name": "python3"
  },
  "language_info": {
   "codemirror_mode": {
    "name": "ipython",
    "version": 3
   },
   "file_extension": ".py",
   "mimetype": "text/x-python",
   "name": "python",
   "nbconvert_exporter": "python",
   "pygments_lexer": "ipython3",
   "version": "3.7.12"
  },
  "papermill": {
   "default_parameters": {},
   "duration": 271.911397,
   "end_time": "2023-03-12T00:31:28.537756",
   "environment_variables": {},
   "exception": null,
   "input_path": "__notebook__.ipynb",
   "output_path": "__notebook__.ipynb",
   "parameters": {},
   "start_time": "2023-03-12T00:26:56.626359",
   "version": "2.4.0"
  }
 },
 "nbformat": 4,
 "nbformat_minor": 5
}
