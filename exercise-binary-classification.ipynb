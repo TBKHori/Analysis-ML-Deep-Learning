{
 "cells": [
  {
   "cell_type": "markdown",
   "id": "91f44c9b",
   "metadata": {
    "papermill": {
     "duration": 0.004789,
     "end_time": "2023-06-08T20:29:51.105237",
     "exception": false,
     "start_time": "2023-06-08T20:29:51.100448",
     "status": "completed"
    },
    "tags": []
   },
   "source": [
    "**This notebook is an exercise in the [Intro to Deep Learning](https://www.kaggle.com/learn/intro-to-deep-learning) course.  You can reference the tutorial at [this link](https://www.kaggle.com/ryanholbrook/binary-classification).**\n",
    "\n",
    "---\n"
   ]
  },
  {
   "cell_type": "markdown",
   "id": "7ea1e24f",
   "metadata": {
    "papermill": {
     "duration": 0.004178,
     "end_time": "2023-06-08T20:29:51.113668",
     "exception": false,
     "start_time": "2023-06-08T20:29:51.109490",
     "status": "completed"
    },
    "tags": []
   },
   "source": [
    "# Introduction #\n",
    "\n",
    "In this exercise, you'll build a model to predict hotel cancellations with a binary classifier."
   ]
  },
  {
   "cell_type": "code",
   "execution_count": 1,
   "id": "062af58a",
   "metadata": {
    "execution": {
     "iopub.execute_input": "2023-06-08T20:29:51.124274Z",
     "iopub.status.busy": "2023-06-08T20:29:51.123566Z",
     "iopub.status.idle": "2023-06-08T20:29:51.169560Z",
     "shell.execute_reply": "2023-06-08T20:29:51.168716Z"
    },
    "lines_to_next_cell": 0,
    "papermill": {
     "duration": 0.054108,
     "end_time": "2023-06-08T20:29:51.171903",
     "exception": false,
     "start_time": "2023-06-08T20:29:51.117795",
     "status": "completed"
    },
    "tags": []
   },
   "outputs": [
    {
     "name": "stderr",
     "output_type": "stream",
     "text": [
      "/tmp/ipykernel_25/3338970720.py:3: MatplotlibDeprecationWarning: The seaborn styles shipped by Matplotlib are deprecated since 3.6, as they no longer correspond to the styles shipped by seaborn. However, they will remain available as 'seaborn-v0_8-<style>'. Alternatively, directly use the seaborn API instead.\n",
      "  plt.style.use('seaborn-whitegrid')\n"
     ]
    }
   ],
   "source": [
    "# Setup plotting\n",
    "import matplotlib.pyplot as plt\n",
    "plt.style.use('seaborn-whitegrid')\n",
    "# Set Matplotlib defaults\n",
    "plt.rc('figure', autolayout=True)\n",
    "plt.rc('axes', labelweight='bold', labelsize='large',\n",
    "       titleweight='bold', titlesize=18, titlepad=10)\n",
    "plt.rc('animation', html='html5')\n",
    "\n",
    "# Setup feedback system\n",
    "from learntools.core import binder\n",
    "binder.bind(globals())\n",
    "from learntools.deep_learning_intro.ex6 import *"
   ]
  },
  {
   "cell_type": "markdown",
   "id": "f75cca8f",
   "metadata": {
    "papermill": {
     "duration": 0.004145,
     "end_time": "2023-06-08T20:29:51.180197",
     "exception": false,
     "start_time": "2023-06-08T20:29:51.176052",
     "status": "completed"
    },
    "tags": []
   },
   "source": [
    "First, load the *Hotel Cancellations* dataset."
   ]
  },
  {
   "cell_type": "code",
   "execution_count": 2,
   "id": "62e287d4",
   "metadata": {
    "execution": {
     "iopub.execute_input": "2023-06-08T20:29:51.189846Z",
     "iopub.status.busy": "2023-06-08T20:29:51.189576Z",
     "iopub.status.idle": "2023-06-08T20:29:54.143896Z",
     "shell.execute_reply": "2023-06-08T20:29:54.140500Z"
    },
    "lines_to_next_cell": 2,
    "papermill": {
     "duration": 2.962537,
     "end_time": "2023-06-08T20:29:54.146800",
     "exception": false,
     "start_time": "2023-06-08T20:29:51.184263",
     "status": "completed"
    },
    "tags": []
   },
   "outputs": [],
   "source": [
    "import pandas as pd\n",
    "\n",
    "from sklearn.model_selection import train_test_split\n",
    "from sklearn.preprocessing import StandardScaler, OneHotEncoder\n",
    "from sklearn.impute import SimpleImputer\n",
    "from sklearn.pipeline import make_pipeline\n",
    "from sklearn.compose import make_column_transformer\n",
    "\n",
    "hotel = pd.read_csv('../input/dl-course-data/hotel.csv')\n",
    "\n",
    "X = hotel.copy()\n",
    "y = X.pop('is_canceled')\n",
    "\n",
    "X['arrival_date_month'] = \\\n",
    "    X['arrival_date_month'].map(\n",
    "        {'January':1, 'February': 2, 'March':3,\n",
    "         'April':4, 'May':5, 'June':6, 'July':7,\n",
    "         'August':8, 'September':9, 'October':10,\n",
    "         'November':11, 'December':12}\n",
    "    )\n",
    "\n",
    "features_num = [\n",
    "    \"lead_time\", \"arrival_date_week_number\",\n",
    "    \"arrival_date_day_of_month\", \"stays_in_weekend_nights\",\n",
    "    \"stays_in_week_nights\", \"adults\", \"children\", \"babies\",\n",
    "    \"is_repeated_guest\", \"previous_cancellations\",\n",
    "    \"previous_bookings_not_canceled\", \"required_car_parking_spaces\",\n",
    "    \"total_of_special_requests\", \"adr\",\n",
    "]\n",
    "features_cat = [\n",
    "    \"hotel\", \"arrival_date_month\", \"meal\",\n",
    "    \"market_segment\", \"distribution_channel\",\n",
    "    \"reserved_room_type\", \"deposit_type\", \"customer_type\",\n",
    "]\n",
    "\n",
    "transformer_num = make_pipeline(\n",
    "    SimpleImputer(strategy=\"constant\"), # there are a few missing values\n",
    "    StandardScaler(),\n",
    ")\n",
    "transformer_cat = make_pipeline(\n",
    "    SimpleImputer(strategy=\"constant\", fill_value=\"NA\"),\n",
    "    OneHotEncoder(handle_unknown='ignore'),\n",
    ")\n",
    "\n",
    "preprocessor = make_column_transformer(\n",
    "    (transformer_num, features_num),\n",
    "    (transformer_cat, features_cat),\n",
    ")\n",
    "\n",
    "# stratify - make sure classes are evenlly represented across splits\n",
    "X_train, X_valid, y_train, y_valid = \\\n",
    "    train_test_split(X, y, stratify=y, train_size=0.75)\n",
    "\n",
    "X_train = preprocessor.fit_transform(X_train)\n",
    "X_valid = preprocessor.transform(X_valid)\n",
    "\n",
    "input_shape = [X_train.shape[1]]"
   ]
  },
  {
   "cell_type": "markdown",
   "id": "139b9417",
   "metadata": {
    "papermill": {
     "duration": 0.005638,
     "end_time": "2023-06-08T20:29:54.158774",
     "exception": false,
     "start_time": "2023-06-08T20:29:54.153136",
     "status": "completed"
    },
    "tags": []
   },
   "source": [
    "# 1) Define Model #\n",
    "\n",
    "The model we'll use this time will have both batch normalization and dropout layers. To ease reading we've broken the diagram into blocks, but you can define it layer by layer as usual.\n",
    "\n",
    "Define a model with an architecture given by this diagram:\n",
    "\n",
    "<figure style=\"padding: 1em;\">\n",
    "<img src=\"https://storage.googleapis.com/kaggle-media/learn/images/V04o59Z.png\" width=\"400\" alt=\"Diagram of network architecture: BatchNorm, Dense, BatchNorm, Dropout, Dense, BatchNorm, Dropout, Dense.\">\n",
    "<figcaption style=\"textalign: center; font-style: italic\"><center>Diagram of a binary classifier.</center></figcaption>\n",
    "</figure>\n"
   ]
  },
  {
   "cell_type": "code",
   "execution_count": 3,
   "id": "d8c72d2c",
   "metadata": {
    "execution": {
     "iopub.execute_input": "2023-06-08T20:29:54.171875Z",
     "iopub.status.busy": "2023-06-08T20:29:54.171558Z",
     "iopub.status.idle": "2023-06-08T20:30:05.222263Z",
     "shell.execute_reply": "2023-06-08T20:30:05.220500Z"
    },
    "lines_to_next_cell": 2,
    "papermill": {
     "duration": 11.058609,
     "end_time": "2023-06-08T20:30:05.224411",
     "exception": false,
     "start_time": "2023-06-08T20:29:54.165802",
     "status": "completed"
    },
    "tags": []
   },
   "outputs": [
    {
     "name": "stderr",
     "output_type": "stream",
     "text": [
      "/opt/conda/lib/python3.10/site-packages/tensorflow_io/python/ops/__init__.py:98: UserWarning: unable to load libtensorflow_io_plugins.so: unable to open file: libtensorflow_io_plugins.so, from paths: ['/opt/conda/lib/python3.10/site-packages/tensorflow_io/python/ops/libtensorflow_io_plugins.so']\n",
      "caused by: ['/opt/conda/lib/python3.10/site-packages/tensorflow_io/python/ops/libtensorflow_io_plugins.so: undefined symbol: _ZN3tsl6StatusC1EN10tensorflow5error4CodeESt17basic_string_viewIcSt11char_traitsIcEENS_14SourceLocationE']\n",
      "  warnings.warn(f\"unable to load libtensorflow_io_plugins.so: {e}\")\n",
      "/opt/conda/lib/python3.10/site-packages/tensorflow_io/python/ops/__init__.py:104: UserWarning: file system plugins are not loaded: unable to open file: libtensorflow_io.so, from paths: ['/opt/conda/lib/python3.10/site-packages/tensorflow_io/python/ops/libtensorflow_io.so']\n",
      "caused by: ['/opt/conda/lib/python3.10/site-packages/tensorflow_io/python/ops/libtensorflow_io.so: undefined symbol: _ZTVN10tensorflow13GcsFileSystemE']\n",
      "  warnings.warn(f\"file system plugins are not loaded: {e}\")\n"
     ]
    },
    {
     "data": {
      "application/javascript": [
       "parent.postMessage({\"jupyterEvent\": \"custom.exercise_interaction\", \"data\": {\"outcomeType\": 1, \"valueTowardsCompletion\": 0.3333333333333333, \"interactionType\": 1, \"questionType\": 2, \"questionId\": \"1_Q1\", \"learnToolsVersion\": \"0.3.4\", \"failureMessage\": \"\", \"exceptionClass\": \"\", \"trace\": \"\"}}, \"*\")"
      ],
      "text/plain": [
       "<IPython.core.display.Javascript object>"
      ]
     },
     "metadata": {},
     "output_type": "display_data"
    },
    {
     "data": {
      "text/markdown": [
       "<span style=\"color:#33cc33\">Correct</span>"
      ],
      "text/plain": [
       "Correct"
      ]
     },
     "metadata": {},
     "output_type": "display_data"
    }
   ],
   "source": [
    "from tensorflow import keras\n",
    "from tensorflow.keras import layers\n",
    "\n",
    "model = keras.Sequential([\n",
    "    layers.BatchNormalization(input_shape=input_shape),\n",
    "    layers.Dense(units=256, activation=\"relu\"),\n",
    "    layers.BatchNormalization(),\n",
    "    layers.Dropout(rate=0.3),\n",
    "    layers.Dense(units=256, activation=\"relu\"),\n",
    "    layers.BatchNormalization(),\n",
    "    layers.Dropout(rate=0.3),\n",
    "    layers.Dense(units=1, activation='sigmoid')\n",
    "])\n",
    "\n",
    "# Check your answer\n",
    "q_1.check()"
   ]
  },
  {
   "cell_type": "markdown",
   "id": "88b3187e",
   "metadata": {
    "papermill": {
     "duration": 0.004394,
     "end_time": "2023-06-08T20:30:05.233608",
     "exception": false,
     "start_time": "2023-06-08T20:30:05.229214",
     "status": "completed"
    },
    "tags": []
   },
   "source": [
    "# 2) Add Optimizer, Loss, and Metric #\n",
    "\n",
    "Now compile the model with the Adam optimizer and binary versions of the cross-entropy loss and accuracy metric."
   ]
  },
  {
   "cell_type": "code",
   "execution_count": 4,
   "id": "5b904d3b",
   "metadata": {
    "execution": {
     "iopub.execute_input": "2023-06-08T20:30:05.245179Z",
     "iopub.status.busy": "2023-06-08T20:30:05.243750Z",
     "iopub.status.idle": "2023-06-08T20:30:05.265135Z",
     "shell.execute_reply": "2023-06-08T20:30:05.264294Z"
    },
    "lines_to_next_cell": 0,
    "papermill": {
     "duration": 0.028996,
     "end_time": "2023-06-08T20:30:05.267090",
     "exception": false,
     "start_time": "2023-06-08T20:30:05.238094",
     "status": "completed"
    },
    "tags": []
   },
   "outputs": [
    {
     "data": {
      "application/javascript": [
       "parent.postMessage({\"jupyterEvent\": \"custom.exercise_interaction\", \"data\": {\"outcomeType\": 1, \"valueTowardsCompletion\": 0.3333333333333333, \"interactionType\": 1, \"questionType\": 2, \"questionId\": \"2_Q2\", \"learnToolsVersion\": \"0.3.4\", \"failureMessage\": \"\", \"exceptionClass\": \"\", \"trace\": \"\"}}, \"*\")"
      ],
      "text/plain": [
       "<IPython.core.display.Javascript object>"
      ]
     },
     "metadata": {},
     "output_type": "display_data"
    },
    {
     "data": {
      "text/markdown": [
       "<span style=\"color:#33cc33\">Correct</span>"
      ],
      "text/plain": [
       "Correct"
      ]
     },
     "metadata": {},
     "output_type": "display_data"
    }
   ],
   "source": [
    "model.compile(\n",
    "    optimizer='adam',\n",
    "    loss='binary_crossentropy',\n",
    "    metrics=['binary_accuracy'],\n",
    ")\n",
    "# Check your answer\n",
    "q_2.check()"
   ]
  },
  {
   "cell_type": "code",
   "execution_count": 5,
   "id": "35fd6a0d",
   "metadata": {
    "execution": {
     "iopub.execute_input": "2023-06-08T20:30:05.279188Z",
     "iopub.status.busy": "2023-06-08T20:30:05.277689Z",
     "iopub.status.idle": "2023-06-08T20:30:05.282775Z",
     "shell.execute_reply": "2023-06-08T20:30:05.281973Z"
    },
    "lines_to_next_cell": 0,
    "papermill": {
     "duration": 0.013096,
     "end_time": "2023-06-08T20:30:05.284934",
     "exception": false,
     "start_time": "2023-06-08T20:30:05.271838",
     "status": "completed"
    },
    "tags": []
   },
   "outputs": [],
   "source": [
    "# Lines below will give you a hint or solution code\n",
    "#q_2.hint()\n",
    "#q_2.solution()"
   ]
  },
  {
   "cell_type": "markdown",
   "id": "007a2fe6",
   "metadata": {
    "papermill": {
     "duration": 0.004671,
     "end_time": "2023-06-08T20:30:05.294337",
     "exception": false,
     "start_time": "2023-06-08T20:30:05.289666",
     "status": "completed"
    },
    "tags": []
   },
   "source": [
    "Finally, run this cell to train the model and view the learning curves. It may run for around 60 to 70 epochs, which could take a minute or two."
   ]
  },
  {
   "cell_type": "code",
   "execution_count": 6,
   "id": "aafeb166",
   "metadata": {
    "execution": {
     "iopub.execute_input": "2023-06-08T20:30:05.306062Z",
     "iopub.status.busy": "2023-06-08T20:30:05.304686Z",
     "iopub.status.idle": "2023-06-08T20:30:56.775373Z",
     "shell.execute_reply": "2023-06-08T20:30:56.774231Z"
    },
    "papermill": {
     "duration": 51.478961,
     "end_time": "2023-06-08T20:30:56.778055",
     "exception": false,
     "start_time": "2023-06-08T20:30:05.299094",
     "status": "completed"
    },
    "tags": []
   },
   "outputs": [
    {
     "name": "stdout",
     "output_type": "stream",
     "text": [
      "Epoch 1/200\n",
      "175/175 [==============================] - 7s 8ms/step - loss: 0.4892 - binary_accuracy: 0.7698 - val_loss: 0.4320 - val_binary_accuracy: 0.8000\n",
      "Epoch 2/200\n",
      "175/175 [==============================] - 1s 6ms/step - loss: 0.4255 - binary_accuracy: 0.7993 - val_loss: 0.3984 - val_binary_accuracy: 0.8125\n",
      "Epoch 3/200\n",
      "175/175 [==============================] - 1s 6ms/step - loss: 0.4125 - binary_accuracy: 0.8067 - val_loss: 0.3919 - val_binary_accuracy: 0.8181\n",
      "Epoch 4/200\n",
      "175/175 [==============================] - 1s 6ms/step - loss: 0.4047 - binary_accuracy: 0.8114 - val_loss: 0.3877 - val_binary_accuracy: 0.8216\n",
      "Epoch 5/200\n",
      "175/175 [==============================] - 1s 6ms/step - loss: 0.3974 - binary_accuracy: 0.8150 - val_loss: 0.3846 - val_binary_accuracy: 0.8223\n",
      "Epoch 6/200\n",
      "175/175 [==============================] - 1s 6ms/step - loss: 0.3941 - binary_accuracy: 0.8164 - val_loss: 0.3794 - val_binary_accuracy: 0.8261\n",
      "Epoch 7/200\n",
      "175/175 [==============================] - 1s 6ms/step - loss: 0.3907 - binary_accuracy: 0.8195 - val_loss: 0.3774 - val_binary_accuracy: 0.8253\n",
      "Epoch 8/200\n",
      "175/175 [==============================] - 1s 6ms/step - loss: 0.3870 - binary_accuracy: 0.8206 - val_loss: 0.3752 - val_binary_accuracy: 0.8278\n",
      "Epoch 9/200\n",
      "175/175 [==============================] - 1s 6ms/step - loss: 0.3838 - binary_accuracy: 0.8220 - val_loss: 0.3727 - val_binary_accuracy: 0.8287\n",
      "Epoch 10/200\n",
      "175/175 [==============================] - 1s 6ms/step - loss: 0.3809 - binary_accuracy: 0.8232 - val_loss: 0.3716 - val_binary_accuracy: 0.8289\n",
      "Epoch 11/200\n",
      "175/175 [==============================] - 1s 7ms/step - loss: 0.3777 - binary_accuracy: 0.8256 - val_loss: 0.3679 - val_binary_accuracy: 0.8301\n",
      "Epoch 12/200\n",
      "175/175 [==============================] - 1s 6ms/step - loss: 0.3747 - binary_accuracy: 0.8266 - val_loss: 0.3656 - val_binary_accuracy: 0.8322\n",
      "Epoch 13/200\n",
      "175/175 [==============================] - 1s 8ms/step - loss: 0.3741 - binary_accuracy: 0.8260 - val_loss: 0.3646 - val_binary_accuracy: 0.8319\n",
      "Epoch 14/200\n",
      "175/175 [==============================] - 1s 7ms/step - loss: 0.3712 - binary_accuracy: 0.8280 - val_loss: 0.3641 - val_binary_accuracy: 0.8332\n",
      "Epoch 15/200\n",
      "175/175 [==============================] - 1s 6ms/step - loss: 0.3695 - binary_accuracy: 0.8299 - val_loss: 0.3635 - val_binary_accuracy: 0.8326\n",
      "Epoch 16/200\n",
      "175/175 [==============================] - 1s 6ms/step - loss: 0.3667 - binary_accuracy: 0.8307 - val_loss: 0.3642 - val_binary_accuracy: 0.8330\n",
      "Epoch 17/200\n",
      "175/175 [==============================] - 1s 6ms/step - loss: 0.3660 - binary_accuracy: 0.8306 - val_loss: 0.3598 - val_binary_accuracy: 0.8333\n",
      "Epoch 18/200\n",
      "175/175 [==============================] - 1s 6ms/step - loss: 0.3639 - binary_accuracy: 0.8314 - val_loss: 0.3575 - val_binary_accuracy: 0.8344\n",
      "Epoch 19/200\n",
      "175/175 [==============================] - 1s 6ms/step - loss: 0.3629 - binary_accuracy: 0.8325 - val_loss: 0.3622 - val_binary_accuracy: 0.8360\n",
      "Epoch 20/200\n",
      "175/175 [==============================] - 1s 6ms/step - loss: 0.3610 - binary_accuracy: 0.8338 - val_loss: 0.3560 - val_binary_accuracy: 0.8357\n",
      "Epoch 21/200\n",
      "175/175 [==============================] - 1s 7ms/step - loss: 0.3599 - binary_accuracy: 0.8334 - val_loss: 0.3558 - val_binary_accuracy: 0.8378\n",
      "Epoch 22/200\n",
      "175/175 [==============================] - 1s 6ms/step - loss: 0.3588 - binary_accuracy: 0.8337 - val_loss: 0.3540 - val_binary_accuracy: 0.8379\n",
      "Epoch 23/200\n",
      "175/175 [==============================] - 1s 6ms/step - loss: 0.3568 - binary_accuracy: 0.8352 - val_loss: 0.3561 - val_binary_accuracy: 0.8360\n",
      "Epoch 24/200\n",
      "175/175 [==============================] - 1s 7ms/step - loss: 0.3560 - binary_accuracy: 0.8351 - val_loss: 0.3544 - val_binary_accuracy: 0.8372\n",
      "Epoch 25/200\n",
      "175/175 [==============================] - 1s 7ms/step - loss: 0.3545 - binary_accuracy: 0.8359 - val_loss: 0.3519 - val_binary_accuracy: 0.8378\n",
      "Epoch 26/200\n",
      "175/175 [==============================] - 1s 6ms/step - loss: 0.3531 - binary_accuracy: 0.8372 - val_loss: 0.3522 - val_binary_accuracy: 0.8398\n",
      "Epoch 27/200\n",
      "175/175 [==============================] - 1s 6ms/step - loss: 0.3522 - binary_accuracy: 0.8378 - val_loss: 0.3540 - val_binary_accuracy: 0.8374\n",
      "Epoch 28/200\n",
      "175/175 [==============================] - 1s 6ms/step - loss: 0.3527 - binary_accuracy: 0.8363 - val_loss: 0.3520 - val_binary_accuracy: 0.8385\n",
      "Epoch 29/200\n",
      "175/175 [==============================] - 1s 6ms/step - loss: 0.3493 - binary_accuracy: 0.8389 - val_loss: 0.3491 - val_binary_accuracy: 0.8397\n",
      "Epoch 30/200\n",
      "175/175 [==============================] - 1s 6ms/step - loss: 0.3489 - binary_accuracy: 0.8395 - val_loss: 0.3496 - val_binary_accuracy: 0.8391\n",
      "Epoch 31/200\n",
      "175/175 [==============================] - 1s 7ms/step - loss: 0.3492 - binary_accuracy: 0.8396 - val_loss: 0.3493 - val_binary_accuracy: 0.8404\n",
      "Epoch 32/200\n",
      "175/175 [==============================] - 1s 6ms/step - loss: 0.3473 - binary_accuracy: 0.8402 - val_loss: 0.3505 - val_binary_accuracy: 0.8392\n",
      "Epoch 33/200\n",
      "175/175 [==============================] - 1s 6ms/step - loss: 0.3481 - binary_accuracy: 0.8401 - val_loss: 0.3476 - val_binary_accuracy: 0.8394\n",
      "Epoch 34/200\n",
      "175/175 [==============================] - 1s 6ms/step - loss: 0.3457 - binary_accuracy: 0.8407 - val_loss: 0.3487 - val_binary_accuracy: 0.8406\n",
      "Epoch 35/200\n",
      "175/175 [==============================] - 1s 6ms/step - loss: 0.3457 - binary_accuracy: 0.8407 - val_loss: 0.3487 - val_binary_accuracy: 0.8389\n",
      "Epoch 36/200\n",
      "175/175 [==============================] - 1s 6ms/step - loss: 0.3438 - binary_accuracy: 0.8408 - val_loss: 0.3461 - val_binary_accuracy: 0.8421\n",
      "Epoch 37/200\n",
      "175/175 [==============================] - 1s 6ms/step - loss: 0.3440 - binary_accuracy: 0.8395 - val_loss: 0.3460 - val_binary_accuracy: 0.8422\n",
      "Epoch 38/200\n",
      "175/175 [==============================] - 1s 6ms/step - loss: 0.3428 - binary_accuracy: 0.8425 - val_loss: 0.3471 - val_binary_accuracy: 0.8412\n",
      "Epoch 39/200\n",
      "175/175 [==============================] - 1s 6ms/step - loss: 0.3420 - binary_accuracy: 0.8423 - val_loss: 0.3459 - val_binary_accuracy: 0.8424\n",
      "Epoch 40/200\n",
      "175/175 [==============================] - 1s 6ms/step - loss: 0.3417 - binary_accuracy: 0.8431 - val_loss: 0.3464 - val_binary_accuracy: 0.8414\n",
      "Epoch 41/200\n",
      "175/175 [==============================] - 1s 6ms/step - loss: 0.3401 - binary_accuracy: 0.8434 - val_loss: 0.3453 - val_binary_accuracy: 0.8406\n"
     ]
    },
    {
     "data": {
      "text/plain": [
       "<Axes: title={'center': 'Accuracy'}>"
      ]
     },
     "execution_count": 6,
     "metadata": {},
     "output_type": "execute_result"
    },
    {
     "data": {
      "image/png": "[encoded data removed]",
      "text/plain": [
       "<Figure size 640x480 with 1 Axes>"
      ]
     },
     "metadata": {},
     "output_type": "display_data"
    },
    {
     "data": {
      "image/png": "[encoded data removed]",
      "text/plain": [
       "<Figure size 640x480 with 1 Axes>"
      ]
     },
     "metadata": {},
     "output_type": "display_data"
    }
   ],
   "source": [
    "early_stopping = keras.callbacks.EarlyStopping(\n",
    "    patience=5,\n",
    "    min_delta=0.001,\n",
    "    restore_best_weights=True,\n",
    ")\n",
    "history = model.fit(\n",
    "    X_train, y_train,\n",
    "    validation_data=(X_valid, y_valid),\n",
    "    batch_size=512,\n",
    "    epochs=200,\n",
    "    callbacks=[early_stopping],\n",
    ")\n",
    "\n",
    "history_df = pd.DataFrame(history.history)\n",
    "history_df.loc[:, ['loss', 'val_loss']].plot(title=\"Cross-entropy\")\n",
    "history_df.loc[:, ['binary_accuracy', 'val_binary_accuracy']].plot(title=\"Accuracy\")"
   ]
  },
  {
   "cell_type": "markdown",
   "id": "1947037b",
   "metadata": {
    "papermill": {
     "duration": 0.089652,
     "end_time": "2023-06-08T20:30:56.959324",
     "exception": false,
     "start_time": "2023-06-08T20:30:56.869672",
     "status": "completed"
    },
    "tags": []
   },
   "source": [
    "# 3) Train and Evaluate #\n",
    "\n",
    "\n",
    "What do you think about the learning curves? Does it look like the model underfit or overfit? Was the cross-entropy loss a good stand-in for accuracy?"
   ]
  },
  {
   "cell_type": "code",
   "execution_count": 7,
   "id": "fdaeddd1",
   "metadata": {
    "execution": {
     "iopub.execute_input": "2023-06-08T20:30:57.138753Z",
     "iopub.status.busy": "2023-06-08T20:30:57.138312Z",
     "iopub.status.idle": "2023-06-08T20:30:57.150295Z",
     "shell.execute_reply": "2023-06-08T20:30:57.149483Z"
    },
    "papermill": {
     "duration": 0.105463,
     "end_time": "2023-06-08T20:30:57.153611",
     "exception": false,
     "start_time": "2023-06-08T20:30:57.048148",
     "status": "completed"
    },
    "tags": []
   },
   "outputs": [
    {
     "data": {
      "application/javascript": [
       "parent.postMessage({\"jupyterEvent\": \"custom.exercise_interaction\", \"data\": {\"outcomeType\": 1, \"valueTowardsCompletion\": 0.3333333333333333, \"interactionType\": 1, \"questionType\": 4, \"questionId\": \"3_Q3\", \"learnToolsVersion\": \"0.3.4\", \"failureMessage\": \"\", \"exceptionClass\": \"\", \"trace\": \"\"}}, \"*\")"
      ],
      "text/plain": [
       "<IPython.core.display.Javascript object>"
      ]
     },
     "metadata": {},
     "output_type": "display_data"
    },
    {
     "data": {
      "text/markdown": [
       "<span style=\"color:#33cc33\">Correct:</span> \n",
       "\n",
       "Though we can see the training loss continuing to fall, the early stopping callback prevented any overfitting. Moreover, the accuracy rose at the same rate as the cross-entropy fell, so it appears that minimizing cross-entropy was a good stand-in. All in all, it looks like this training was a success!"
      ],
      "text/plain": [
       "Correct: \n",
       "\n",
       "Though we can see the training loss continuing to fall, the early stopping callback prevented any overfitting. Moreover, the accuracy rose at the same rate as the cross-entropy fell, so it appears that minimizing cross-entropy was a good stand-in. All in all, it looks like this training was a success!"
      ]
     },
     "metadata": {},
     "output_type": "display_data"
    }
   ],
   "source": [
    "# View the solution (Run this cell to receive credit!)\n",
    "q_3.check()"
   ]
  },
  {
   "cell_type": "markdown",
   "id": "8832d275",
   "metadata": {
    "papermill": {
     "duration": 0.10735,
     "end_time": "2023-06-08T20:30:57.350027",
     "exception": false,
     "start_time": "2023-06-08T20:30:57.242677",
     "status": "completed"
    },
    "tags": []
   },
   "source": [
    "# Conclusion #\n",
    "\n",
    "Congratulations! You've completed Kaggle's *Introduction to Deep Learning* course!\n",
    "\n",
    "With your new skills you're ready to take on more advanced applications like computer vision and sentiment classification. What would you like to do next?\n",
    "\n",
    "Why not try one of our *Getting Started* competitions?\n",
    "\n",
    "- Classify images with TPUs in [**Petals to the Metal**](https://www.kaggle.com/c/tpu-getting-started)\n",
    "- Create art with GANs in [**I'm Something of a Painter Myself**](https://www.kaggle.com/c/gan-getting-started)\n",
    "- Classify Tweets in [**Real or Not? NLP with Disaster Tweets**](https://www.kaggle.com/c/nlp-getting-started)\n",
    "- Detect contradiction and entailment in [**Contradictory, My Dear Watson**](https://www.kaggle.com/c/contradictory-my-dear-watson)\n",
    "\n",
    "Until next time, Kagglers!"
   ]
  },
  {
   "cell_type": "markdown",
   "id": "6bd98460",
   "metadata": {
    "papermill": {
     "duration": 0.092132,
     "end_time": "2023-06-08T20:30:57.534271",
     "exception": false,
     "start_time": "2023-06-08T20:30:57.442139",
     "status": "completed"
    },
    "tags": []
   },
   "source": [
    "---\n",
    "\n",
    "\n",
    "\n",
    "\n",
    "*Have questions or comments? Visit the [course discussion forum](https://www.kaggle.com/learn/intro-to-deep-learning/discussion) to chat with other learners.*"
   ]
  }
 ],
 "metadata": {
  "kernelspec": {
   "display_name": "Python 3",
   "language": "python",
   "name": "python3"
  },
  "language_info": {
   "codemirror_mode": {
    "name": "ipython",
    "version": 3
   },
   "file_extension": ".py",
   "mimetype": "text/x-python",
   "name": "python",
   "nbconvert_exporter": "python",
   "pygments_lexer": "ipython3",
   "version": "3.10.10"
  },
  "papermill": {
   "default_parameters": {},
   "duration": 80.806495,
   "end_time": "2023-06-08T20:31:01.142360",
   "environment_variables": {},
   "exception": null,
   "input_path": "__notebook__.ipynb",
   "output_path": "__notebook__.ipynb",
   "parameters": {},
   "start_time": "2023-06-08T20:29:40.335865",
   "version": "2.4.0"
  }
 },
 "nbformat": 4,
 "nbformat_minor": 5
}
