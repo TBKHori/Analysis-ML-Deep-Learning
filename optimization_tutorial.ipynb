{
  "cells": [
    {
      "cell_type": "code",
      "execution_count": 2,
      "metadata": {
        "id": "pwJO3H_jdXcT"
      },
      "outputs": [],
      "source": [
        "# For tips on running notebooks in Google Colab, see\n",
        "# https://pytorch.org/tutorials/beginner/colab\n",
        "%matplotlib inline"
      ]
    },
    {
      "cell_type": "markdown",
      "metadata": {
        "id": "rVXkV_FIdXcW"
      },
      "source": [
        "\n",
        "[Learn the Basics](intro.html) ||\n",
        "[Quickstart](quickstart_tutorial.html) ||\n",
        "[Tensors](tensorqs_tutorial.html) ||\n",
        "[Datasets & DataLoaders](data_tutorial.html) ||\n",
        "[Transforms](transforms_tutorial.html) ||\n",
        "[Build Model](buildmodel_tutorial.html) ||\n",
        "[Autograd](autogradqs_tutorial.html) ||\n",
        "**Optimization** ||\n",
        "[Save & Load Model](saveloadrun_tutorial.html)\n",
        "\n",
        "# Optimizing Model Parameters\n",
        "\n",
        "Now that we have a model and data it's time to train, validate and test our model by optimizing its parameters on\n",
        "our data. Training a model is an iterative process; in each iteration the model makes a guess about the output, calculates\n",
        "the error in its guess (*loss*), collects the derivatives of the error with respect to its parameters (as we saw in\n",
        "the [previous section](autograd_tutorial.html)), and **optimizes** these parameters using gradient descent. For a more\n",
        "detailed walkthrough of this process, check out this video on [backpropagation from 3Blue1Brown](https://www.youtube.com/watch?v=tIeHLnjs5U8)_.\n",
        "\n",
        "## Prerequisite Code\n",
        "We load the code from the previous sections on [Datasets & DataLoaders](data_tutorial.html)\n",
        "and [Build Model](buildmodel_tutorial.html).\n"
      ]
    },
    {
      "cell_type": "code",
      "execution_count": 3,
      "metadata": {
        "id": "CStTE0CVdXcX",
        "outputId": "18852c7a-5c2c-40a1-92a8-1ec062ce2c9c",
        "colab": {
          "base_uri": "https://localhost:8080/"
        }
      },
      "outputs": [
        {
          "output_type": "stream",
          "name": "stdout",
          "text": [
            "Downloading http://fashion-mnist.s3-website.eu-central-1.amazonaws.com/train-images-idx3-ubyte.gz\n",
            "Downloading http://fashion-mnist.s3-website.eu-central-1.amazonaws.com/train-images-idx3-ubyte.gz to data/FashionMNIST/raw/train-images-idx3-ubyte.gz\n"
          ]
        },
        {
          "output_type": "stream",
          "name": "stderr",
          "text": [
            "100%|██████████| 26421880/26421880 [00:01<00:00, 16185434.81it/s]\n"
          ]
        },
        {
          "output_type": "stream",
          "name": "stdout",
          "text": [
            "Extracting data/FashionMNIST/raw/train-images-idx3-ubyte.gz to data/FashionMNIST/raw\n",
            "\n",
            "Downloading http://fashion-mnist.s3-website.eu-central-1.amazonaws.com/train-labels-idx1-ubyte.gz\n",
            "Downloading http://fashion-mnist.s3-website.eu-central-1.amazonaws.com/train-labels-idx1-ubyte.gz to data/FashionMNIST/raw/train-labels-idx1-ubyte.gz\n"
          ]
        },
        {
          "output_type": "stream",
          "name": "stderr",
          "text": [
            "100%|██████████| 29515/29515 [00:00<00:00, 285771.07it/s]\n"
          ]
        },
        {
          "output_type": "stream",
          "name": "stdout",
          "text": [
            "Extracting data/FashionMNIST/raw/train-labels-idx1-ubyte.gz to data/FashionMNIST/raw\n",
            "\n",
            "Downloading http://fashion-mnist.s3-website.eu-central-1.amazonaws.com/t10k-images-idx3-ubyte.gz\n",
            "Downloading http://fashion-mnist.s3-website.eu-central-1.amazonaws.com/t10k-images-idx3-ubyte.gz to data/FashionMNIST/raw/t10k-images-idx3-ubyte.gz\n"
          ]
        },
        {
          "output_type": "stream",
          "name": "stderr",
          "text": [
            "100%|██████████| 4422102/4422102 [00:00<00:00, 5395185.87it/s]\n"
          ]
        },
        {
          "output_type": "stream",
          "name": "stdout",
          "text": [
            "Extracting data/FashionMNIST/raw/t10k-images-idx3-ubyte.gz to data/FashionMNIST/raw\n",
            "\n",
            "Downloading http://fashion-mnist.s3-website.eu-central-1.amazonaws.com/t10k-labels-idx1-ubyte.gz\n",
            "Downloading http://fashion-mnist.s3-website.eu-central-1.amazonaws.com/t10k-labels-idx1-ubyte.gz to data/FashionMNIST/raw/t10k-labels-idx1-ubyte.gz\n"
          ]
        },
        {
          "output_type": "stream",
          "name": "stderr",
          "text": [
            "100%|██████████| 5148/5148 [00:00<00:00, 3718959.18it/s]\n"
          ]
        },
        {
          "output_type": "stream",
          "name": "stdout",
          "text": [
            "Extracting data/FashionMNIST/raw/t10k-labels-idx1-ubyte.gz to data/FashionMNIST/raw\n",
            "\n"
          ]
        }
      ],
      "source": [
        "import torch\n",
        "from torch import nn\n",
        "from torch.utils.data import DataLoader\n",
        "from torchvision import datasets\n",
        "from torchvision.transforms import ToTensor\n",
        "\n",
        "training_data = datasets.FashionMNIST(\n",
        "    root=\"data\",\n",
        "    train=True,\n",
        "    download=True,\n",
        "    transform=ToTensor()\n",
        ")\n",
        "\n",
        "test_data = datasets.FashionMNIST(\n",
        "    root=\"data\",\n",
        "    train=False,\n",
        "    download=True,\n",
        "    transform=ToTensor()\n",
        ")\n",
        "\n",
        "train_dataloader = DataLoader(training_data, batch_size=64)\n",
        "test_dataloader = DataLoader(test_data, batch_size=64)\n",
        "\n",
        "class NeuralNetwork(nn.Module):\n",
        "    def __init__(self):\n",
        "        super().__init__()\n",
        "        self.flatten = nn.Flatten()\n",
        "        self.linear_relu_stack = nn.Sequential(\n",
        "            nn.Linear(28*28, 512),\n",
        "            nn.ReLU(),\n",
        "            nn.Linear(512, 512),\n",
        "            nn.ReLU(),\n",
        "            nn.Linear(512, 10),\n",
        "        )\n",
        "\n",
        "    def forward(self, x):\n",
        "        x = self.flatten(x)\n",
        "        logits = self.linear_relu_stack(x)\n",
        "        return logits\n",
        "\n",
        "model = NeuralNetwork()"
      ]
    },
    {
      "cell_type": "markdown",
      "metadata": {
        "id": "pyY3Hu29dXcY"
      },
      "source": [
        "## Hyperparameters\n",
        "\n",
        "Hyperparameters are adjustable parameters that let you control the model optimization process.\n",
        "Different hyperparameter values can impact model training and convergence rates\n",
        "([read more](https://pytorch.org/tutorials/beginner/hyperparameter_tuning_tutorial.html)_ about hyperparameter tuning)\n",
        "\n",
        "We define the following hyperparameters for training:\n",
        " - **Number of Epochs** - the number times to iterate over the dataset\n",
        " - **Batch Size** - the number of data samples propagated through the network before the parameters are updated\n",
        " - **Learning Rate** - how much to update models parameters at each batch/epoch. Smaller values yield slow learning speed, while large values may result in unpredictable behavior during training.\n",
        "\n",
        "\n"
      ]
    },
    {
      "cell_type": "code",
      "execution_count": 4,
      "metadata": {
        "id": "7e0ru-JLdXcY"
      },
      "outputs": [],
      "source": [
        "learning_rate = 1e-3\n",
        "batch_size = 64\n",
        "epochs = 5"
      ]
    },
    {
      "cell_type": "markdown",
      "metadata": {
        "id": "GfiadTOxdXcY"
      },
      "source": [
        "## Optimization Loop\n",
        "\n",
        "Once we set our hyperparameters, we can then train and optimize our model with an optimization loop. Each\n",
        "iteration of the optimization loop is called an **epoch**.\n",
        "\n",
        "Each epoch consists of two main parts:\n",
        " - **The Train Loop** - iterate over the training dataset and try to converge to optimal parameters.\n",
        " - **The Validation/Test Loop** - iterate over the test dataset to check if model performance is improving.\n",
        "\n",
        "Let's briefly familiarize ourselves with some of the concepts used in the training loop. Jump ahead to\n",
        "see the `full-impl-label` of the optimization loop.\n",
        "\n",
        "### Loss Function\n",
        "\n",
        "When presented with some training data, our untrained network is likely not to give the correct\n",
        "answer. **Loss function** measures the degree of dissimilarity of obtained result to the target value,\n",
        "and it is the loss function that we want to minimize during training. To calculate the loss we make a\n",
        "prediction using the inputs of our given data sample and compare it against the true data label value.\n",
        "\n",
        "Common loss functions include [nn.MSELoss](https://pytorch.org/docs/stable/generated/torch.nn.MSELoss.html#torch.nn.MSELoss) (Mean Square Error) for regression tasks, and\n",
        "[nn.NLLLoss](https://pytorch.org/docs/stable/generated/torch.nn.NLLLoss.html#torch.nn.NLLLoss) (Negative Log Likelihood) for classification.\n",
        "[nn.CrossEntropyLoss](https://pytorch.org/docs/stable/generated/torch.nn.CrossEntropyLoss.html#torch.nn.CrossEntropyLoss) combines ``nn.LogSoftmax`` and ``nn.NLLLoss``.\n",
        "\n",
        "We pass our model's output logits to ``nn.CrossEntropyLoss``, which will normalize the logits and compute the prediction error.\n",
        "\n"
      ]
    },
    {
      "cell_type": "code",
      "execution_count": 5,
      "metadata": {
        "id": "yLwz6B7CdXcZ"
      },
      "outputs": [],
      "source": [
        "# Initialize the loss function\n",
        "loss_fn = nn.CrossEntropyLoss()"
      ]
    },
    {
      "cell_type": "markdown",
      "metadata": {
        "id": "WFTMI_VCdXcZ"
      },
      "source": [
        "### Optimizer\n",
        "\n",
        "Optimization is the process of adjusting model parameters to reduce model error in each training step. **Optimization algorithms** define how this process is performed (in this example we use Stochastic Gradient Descent).\n",
        "All optimization logic is encapsulated in  the ``optimizer`` object. Here, we use the SGD optimizer; additionally, there are many [different optimizers](https://pytorch.org/docs/stable/optim.html)\n",
        "available in PyTorch such as ADAM and RMSProp, that work better for different kinds of models and data.\n",
        "\n",
        "We initialize the optimizer by registering the model's parameters that need to be trained, and passing in the learning rate hyperparameter.\n",
        "\n"
      ]
    },
    {
      "cell_type": "code",
      "execution_count": 6,
      "metadata": {
        "id": "OI3V_B5idXca"
      },
      "outputs": [],
      "source": [
        "optimizer = torch.optim.SGD(model.parameters(), lr=learning_rate)"
      ]
    },
    {
      "cell_type": "markdown",
      "metadata": {
        "id": "oixJryXxdXca"
      },
      "source": [
        "Inside the training loop, optimization happens in three steps:\n",
        " * Call ``optimizer.zero_grad()`` to reset the gradients of model parameters. Gradients by default add up; to prevent double-counting, we explicitly zero them at each iteration.\n",
        " * Backpropagate the prediction loss with a call to ``loss.backward()``. PyTorch deposits the gradients of the loss w.r.t. each parameter.\n",
        " * Once we have our gradients, we call ``optimizer.step()`` to adjust the parameters by the gradients collected in the backward pass.\n",
        "\n"
      ]
    },
    {
      "cell_type": "markdown",
      "metadata": {
        "id": "D5YtbWaNdXca"
      },
      "source": [
        "\n",
        "## Full Implementation\n",
        "We define ``train_loop`` that loops over our optimization code, and ``test_loop`` that\n",
        "evaluates the model's performance against our test data.\n",
        "\n"
      ]
    },
    {
      "cell_type": "code",
      "execution_count": 7,
      "metadata": {
        "id": "XarwlDMXdXca"
      },
      "outputs": [],
      "source": [
        "def train_loop(dataloader, model, loss_fn, optimizer):\n",
        "    size = len(dataloader.dataset)\n",
        "    # Set the model to training mode - important for batch normalization and dropout layers\n",
        "    # Unnecessary in this situation but added for best practices\n",
        "    model.train()\n",
        "    for batch, (X, y) in enumerate(dataloader):\n",
        "        # Compute prediction and loss\n",
        "        pred = model(X)\n",
        "        loss = loss_fn(pred, y)\n",
        "\n",
        "        # Backpropagation\n",
        "        loss.backward()\n",
        "        optimizer.step()\n",
        "        optimizer.zero_grad()\n",
        "\n",
        "        if batch % 100 == 0:\n",
        "            loss, current = loss.item(), (batch + 1) * len(X)\n",
        "            print(f\"loss: {loss:>7f}  [{current:>5d}/{size:>5d}]\")\n",
        "\n",
        "\n",
        "def test_loop(dataloader, model, loss_fn):\n",
        "    # Set the model to evaluation mode - important for batch normalization and dropout layers\n",
        "    # Unnecessary in this situation but added for best practices\n",
        "    model.eval()\n",
        "    size = len(dataloader.dataset)\n",
        "    num_batches = len(dataloader)\n",
        "    test_loss, correct = 0, 0\n",
        "\n",
        "    # Evaluating the model with torch.no_grad() ensures that no gradients are computed during test mode\n",
        "    # also serves to reduce unnecessary gradient computations and memory usage for tensors with requires_grad=True\n",
        "    with torch.no_grad():\n",
        "        for X, y in dataloader:\n",
        "            pred = model(X)\n",
        "            test_loss += loss_fn(pred, y).item()\n",
        "            correct += (pred.argmax(1) == y).type(torch.float).sum().item()\n",
        "\n",
        "    test_loss /= num_batches\n",
        "    correct /= size\n",
        "    print(f\"Test Error: \\n Accuracy: {(100*correct):>0.1f}%, Avg loss: {test_loss:>8f} \\n\")"
      ]
    },
    {
      "cell_type": "markdown",
      "metadata": {
        "id": "nQeLHkaidXcb"
      },
      "source": [
        "We initialize the loss function and optimizer, and pass it to ``train_loop`` and ``test_loop``.\n",
        "Feel free to increase the number of epochs to track the model's improving performance.\n",
        "\n"
      ]
    },
    {
      "cell_type": "code",
      "execution_count": 8,
      "metadata": {
        "id": "_zQ5X9LmdXcb",
        "outputId": "b2fb1884-f9b5-432d-9a85-15a5be53ab3c",
        "colab": {
          "base_uri": "https://localhost:8080/"
        }
      },
      "outputs": [
        {
          "output_type": "stream",
          "name": "stdout",
          "text": [
            "Epoch 1\n",
            "-------------------------------\n",
            "loss: 2.296178  [   64/60000]\n",
            "loss: 2.291229  [ 6464/60000]\n",
            "loss: 2.275282  [12864/60000]\n",
            "loss: 2.277715  [19264/60000]\n",
            "loss: 2.259038  [25664/60000]\n",
            "loss: 2.226180  [32064/60000]\n",
            "loss: 2.231263  [38464/60000]\n",
            "loss: 2.192344  [44864/60000]\n",
            "loss: 2.198867  [51264/60000]\n",
            "loss: 2.169385  [57664/60000]\n",
            "Test Error: \n",
            " Accuracy: 41.7%, Avg loss: 2.162690 \n",
            "\n",
            "Epoch 2\n",
            "-------------------------------\n",
            "loss: 2.163408  [   64/60000]\n",
            "loss: 2.157841  [ 6464/60000]\n",
            "loss: 2.104213  [12864/60000]\n",
            "loss: 2.124909  [19264/60000]\n",
            "loss: 2.076346  [25664/60000]\n",
            "loss: 2.013979  [32064/60000]\n",
            "loss: 2.039694  [38464/60000]\n",
            "loss: 1.957740  [44864/60000]\n",
            "loss: 1.967829  [51264/60000]\n",
            "loss: 1.895854  [57664/60000]\n",
            "Test Error: \n",
            " Accuracy: 53.8%, Avg loss: 1.895065 \n",
            "\n",
            "Epoch 3\n",
            "-------------------------------\n",
            "loss: 1.920226  [   64/60000]\n",
            "loss: 1.893969  [ 6464/60000]\n",
            "loss: 1.783043  [12864/60000]\n",
            "loss: 1.822160  [19264/60000]\n",
            "loss: 1.720967  [25664/60000]\n",
            "loss: 1.666380  [32064/60000]\n",
            "loss: 1.692199  [38464/60000]\n",
            "loss: 1.587173  [44864/60000]\n",
            "loss: 1.618864  [51264/60000]\n",
            "loss: 1.510344  [57664/60000]\n",
            "Test Error: \n",
            " Accuracy: 60.1%, Avg loss: 1.529328 \n",
            "\n",
            "Epoch 4\n",
            "-------------------------------\n",
            "loss: 1.593272  [   64/60000]\n",
            "loss: 1.559062  [ 6464/60000]\n",
            "loss: 1.414578  [12864/60000]\n",
            "loss: 1.477090  [19264/60000]\n",
            "loss: 1.375387  [25664/60000]\n",
            "loss: 1.360850  [32064/60000]\n",
            "loss: 1.380372  [38464/60000]\n",
            "loss: 1.298163  [44864/60000]\n",
            "loss: 1.337323  [51264/60000]\n",
            "loss: 1.236443  [57664/60000]\n",
            "Test Error: \n",
            " Accuracy: 63.1%, Avg loss: 1.262717 \n",
            "\n",
            "Epoch 5\n",
            "-------------------------------\n",
            "loss: 1.337580  [   64/60000]\n",
            "loss: 1.321865  [ 6464/60000]\n",
            "loss: 1.160427  [12864/60000]\n",
            "loss: 1.251474  [19264/60000]\n",
            "loss: 1.145744  [25664/60000]\n",
            "loss: 1.160176  [32064/60000]\n",
            "loss: 1.186119  [38464/60000]\n",
            "loss: 1.116838  [44864/60000]\n",
            "loss: 1.158190  [51264/60000]\n",
            "loss: 1.076163  [57664/60000]\n",
            "Test Error: \n",
            " Accuracy: 64.6%, Avg loss: 1.095540 \n",
            "\n",
            "Epoch 6\n",
            "-------------------------------\n",
            "loss: 1.162771  [   64/60000]\n",
            "loss: 1.170862  [ 6464/60000]\n",
            "loss: 0.991279  [12864/60000]\n",
            "loss: 1.110291  [19264/60000]\n",
            "loss: 1.000883  [25664/60000]\n",
            "loss: 1.023013  [32064/60000]\n",
            "loss: 1.063841  [38464/60000]\n",
            "loss: 0.998852  [44864/60000]\n",
            "loss: 1.041912  [51264/60000]\n",
            "loss: 0.974570  [57664/60000]\n",
            "Test Error: \n",
            " Accuracy: 65.5%, Avg loss: 0.987121 \n",
            "\n",
            "Epoch 7\n",
            "-------------------------------\n",
            "loss: 1.040949  [   64/60000]\n",
            "loss: 1.072881  [ 6464/60000]\n",
            "loss: 0.874892  [12864/60000]\n",
            "loss: 1.016899  [19264/60000]\n",
            "loss: 0.909296  [25664/60000]\n",
            "loss: 0.926451  [32064/60000]\n",
            "loss: 0.983384  [38464/60000]\n",
            "loss: 0.921202  [44864/60000]\n",
            "loss: 0.962469  [51264/60000]\n",
            "loss: 0.906356  [57664/60000]\n",
            "Test Error: \n",
            " Accuracy: 66.5%, Avg loss: 0.913763 \n",
            "\n",
            "Epoch 8\n",
            "-------------------------------\n",
            "loss: 0.952285  [   64/60000]\n",
            "loss: 1.005119  [ 6464/60000]\n",
            "loss: 0.792017  [12864/60000]\n",
            "loss: 0.951791  [19264/60000]\n",
            "loss: 0.848680  [25664/60000]\n",
            "loss: 0.856605  [32064/60000]\n",
            "loss: 0.927245  [38464/60000]\n",
            "loss: 0.869205  [44864/60000]\n",
            "loss: 0.906398  [51264/60000]\n",
            "loss: 0.857747  [57664/60000]\n",
            "Test Error: \n",
            " Accuracy: 67.4%, Avg loss: 0.861655 \n",
            "\n",
            "Epoch 9\n",
            "-------------------------------\n",
            "loss: 0.885044  [   64/60000]\n",
            "loss: 0.954901  [ 6464/60000]\n",
            "loss: 0.730398  [12864/60000]\n",
            "loss: 0.904136  [19264/60000]\n",
            "loss: 0.806190  [25664/60000]\n",
            "loss: 0.805048  [32064/60000]\n",
            "loss: 0.885233  [38464/60000]\n",
            "loss: 0.833083  [44864/60000]\n",
            "loss: 0.865576  [51264/60000]\n",
            "loss: 0.820729  [57664/60000]\n",
            "Test Error: \n",
            " Accuracy: 68.4%, Avg loss: 0.822752 \n",
            "\n",
            "Epoch 10\n",
            "-------------------------------\n",
            "loss: 0.832286  [   64/60000]\n",
            "loss: 0.914923  [ 6464/60000]\n",
            "loss: 0.682712  [12864/60000]\n",
            "loss: 0.867711  [19264/60000]\n",
            "loss: 0.774531  [25664/60000]\n",
            "loss: 0.766147  [32064/60000]\n",
            "loss: 0.851584  [38464/60000]\n",
            "loss: 0.806754  [44864/60000]\n",
            "loss: 0.834754  [51264/60000]\n",
            "loss: 0.791261  [57664/60000]\n",
            "Test Error: \n",
            " Accuracy: 69.8%, Avg loss: 0.792145 \n",
            "\n",
            "Done!\n"
          ]
        }
      ],
      "source": [
        "loss_fn = nn.CrossEntropyLoss()\n",
        "optimizer = torch.optim.SGD(model.parameters(), lr=learning_rate)\n",
        "\n",
        "epochs = 10\n",
        "for t in range(epochs):\n",
        "    print(f\"Epoch {t+1}\\n-------------------------------\")\n",
        "    train_loop(train_dataloader, model, loss_fn, optimizer)\n",
        "    test_loop(test_dataloader, model, loss_fn)\n",
        "print(\"Done!\")"
      ]
    },
    {
      "cell_type": "markdown",
      "metadata": {
        "id": "Iq7fkSLzdXcb"
      },
      "source": [
        "## Further Reading\n",
        "- [Loss Functions](https://pytorch.org/docs/stable/nn.html#loss-functions)\n",
        "- [torch.optim](https://pytorch.org/docs/stable/optim.html)\n",
        "- [Warmstart Training a Model](https://pytorch.org/tutorials/recipes/recipes/warmstarting_model_using_parameters_from_a_different_model.html)\n",
        "\n",
        "\n"
      ]
    }
  ],
  "metadata": {
    "kernelspec": {
      "display_name": "Python 3",
      "language": "python",
      "name": "python3"
    },
    "language_info": {
      "codemirror_mode": {
        "name": "ipython",
        "version": 3
      },
      "file_extension": ".py",
      "mimetype": "text/x-python",
      "name": "python",
      "nbconvert_exporter": "python",
      "pygments_lexer": "ipython3",
      "version": "3.10.13"
    },
    "colab": {
      "provenance": []
    }
  },
  "nbformat": 4,
  "nbformat_minor": 0
}